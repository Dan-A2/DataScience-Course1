{
 "cells": [
  {
   "cell_type": "markdown",
   "metadata": {},
   "source": [
    "<h1 align=center style=\"line-height:150%;font-family:vazir;color:#0099cc\">\n",
    "<font face=\"vazir\" color=\"#0099cc\">\n",
    "<code>Efficient Frontier</code>\n",
    "رسم نمودار\n",
    "</font>\n",
    "</h1>"
   ]
  },
  {
   "cell_type": "markdown",
   "metadata": {},
   "source": [
    "<p dir=rtl style=\"direction: rtl;text-align: right;line-height:200%;font-family:vazir;font-size:medium\">\n",
    "<font face=\"vazir\" size=3>\n",
    "هری مارکوویتز\n",
    "<code>Harry Markowitz</code>\n",
    "در سال \n",
    "<code>1952</code>\n",
    "نظریه مدرن\n",
    "<code>Portfolio</code>\n",
    "را معرفی کرد.\n",
    "وی انتخاب\n",
    "<code>Portfolio</code>\n",
    "را یک فرایند دو مرحله ای توصیف میکند:\n",
    "<li dir=rtl style=\"text-align: right\"> \n",
    "مرحله اول:\n",
    "یک سرمایه گذار باید عملکرد آتی دارایی ها خود را از لحاظ بازده و ریسک در نظر بگیرد.\n",
    "</li> \n",
    "<li dir=rtl style=\"text-align: right\"> \n",
    "مرحله دوم:در ادامه میتوان در مورد نحوه ساخت\n",
    "<code>Portfolio</code>\n",
    "مناسب یعنی چقدر سرمایه برای هر دارایی تخصیص یابد تصمیم گیری کرد.\n",
    "</li> \n",
    "</font>\n",
    "</p>"
   ]
  },
  {
   "cell_type": "markdown",
   "metadata": {},
   "source": [
    "<p dir=rtl style=\"direction: rtl;text-align: right;line-height:200%;font-family:vazir;font-size:medium\">\n",
    "<font face=\"vazir\" size=3>\n",
    "در مقاله ای که ایشان ارائه دادند فرض بر این است که بازده سهم ها از توزیع نرمال یا گوسی پیروی میکند این فرض پایه ای است که کل نظریه مدرن\n",
    "<cdoe>Portfolio</cdoe>\n",
    "بر آن استوار است.\n",
    "در ادامه دست به کد میشویم تا نظریه ریاضی که برای مارکوویتز جایزه نوبل را به ارمغان آورد بیشتر بررسی کنیم.\n",
    "  </font>\n",
    "</p>"
   ]
  },
  {
   "cell_type": "markdown",
   "metadata": {},
   "source": [
    "<p dir=rtl style=\"direction: rtl;text-align: right;line-height:200%;font-family:vazir;font-size:medium\">\n",
    "<font face=\"vazir\" size=3>\n",
    "<code>Efficient Frontier</code>\n",
    "مجموعه ای از پورتفوی های بهینه ای است که بالاترین بازده مورد انتظار را در ازای یک سطح مشخص از ریسک، یا کمترین ریسک را برای یک سطح معین از بازده مورد انتظار ارائه می دهند. سهم هایی که در زیر \n",
    "<code>Efficient Frontier</code>\n",
    " قرار دارند، بهینه نیستند. زیرا بازده کافی را به ازای میزان ریسک معین فراهم نمی کنند.  \n",
    "برای مثال در نمودار زیر  مورد\n",
    "<code>D</code>\n",
    "ریسک بیشتر از \n",
    "<code>A</code>\n",
    "و بازدهی یکسانی با آن دارد.همچنین دو مورد \n",
    "<code>C</code>\n",
    "و\n",
    "<code>E</code>\n",
    "ریسک یکسانی دارند ولی بازده مورد \n",
    "<code>C</code>\n",
    "بیشتر است.\n",
    "</font>\n",
    "</p>"
   ]
  },
  {
   "cell_type": "markdown",
   "metadata": {},
   "source": [
    "<p style=\"text-align:center\"><img  src=\"https://i.postimg.cc/52LKJM12/768x635.png\" width=\"800\" alt=\"Portfolio\"></p>"
   ]
  },
  {
   "cell_type": "markdown",
   "metadata": {},
   "source": [
    "<h1 align=right style=\"line-height:150%;font-family:vazir;color:#0099cc\">\n",
    "<font face=\"vazir\" color=\"#0099cc\">\n",
    "فراخوانی کتابخانه های لازم\n",
    "</font>\n",
    "</h1>"
   ]
  },
  {
   "cell_type": "code",
   "execution_count": 1,
   "metadata": {},
   "outputs": [],
   "source": [
    "import numpy as np\n",
    "import pandas as pd\n",
    "import plotly.express as px"
   ]
  },
  {
   "cell_type": "markdown",
   "metadata": {},
   "source": [
    "<h1 align=right style=\"line-height:150%;font-family:vazir;color:#0099cc\">\n",
    "<font face=\"vazir\" color=\"#0099cc\">\n",
    "گرفتن دادگان\n",
    "</font>\n",
    "</h1>"
   ]
  },
  {
   "cell_type": "markdown",
   "metadata": {},
   "source": [
    "<p dir=rtl style=\"direction: rtl;text-align: right;line-height:200%;font-family:vazir;font-size:medium\">\n",
    "<font face=\"vazir\" size=3>\n",
    "دادگانی که با آن ها کار خواهیم کرد مربوط به بازار بورس تهران است.برای گرفتن داده های بورس از توابع موجود در فایل \n",
    "<code>getData.py</code>\n",
    "استفاده میکنیم.\n",
    "دو تابع\n",
    "<code>get_today_tickers_data</code>\n",
    "و\n",
    "<code>get_today_client_type_tickersData</code>\n",
    "را از فایل\n",
    "<code>getData</code>\n",
    "به محیط کاری خود اضافه کنید.\n",
    "</font>\n",
    "</p>"
   ]
  },
  {
   "cell_type": "code",
   "execution_count": 2,
   "metadata": {},
   "outputs": [],
   "source": [
    "from getData import get_today_tickers_data , get_today_client_type_tickersData"
   ]
  },
  {
   "cell_type": "markdown",
   "metadata": {},
   "source": [
    "<p dir=rtl style=\"direction: rtl;text-align: right;line-height:200%;font-family:vazir;font-size:medium\">\n",
    "<font face=\"vazir\" size=3>\n",
    "با فراخوانی تابع\n",
    "<code>get_today_tickers_data</code>\n",
    "اطلاعات کلی بازار را دریافت کرده و دیتافریم ساخته شده را بررسی کنید.\n",
    "  </font>\n",
    "</p>"
   ]
  },
  {
   "cell_type": "code",
   "execution_count": 3,
   "metadata": {},
   "outputs": [
    {
     "data": {
      "text/html": [
       "<div>\n",
       "<style scoped>\n",
       "    .dataframe tbody tr th:only-of-type {\n",
       "        vertical-align: middle;\n",
       "    }\n",
       "\n",
       "    .dataframe tbody tr th {\n",
       "        vertical-align: top;\n",
       "    }\n",
       "\n",
       "    .dataframe thead th {\n",
       "        text-align: right;\n",
       "    }\n",
       "</style>\n",
       "<table border=\"1\" class=\"dataframe\">\n",
       "  <thead>\n",
       "    <tr style=\"text-align: right;\">\n",
       "      <th></th>\n",
       "      <th>id</th>\n",
       "      <th>ISIN</th>\n",
       "      <th>symbol</th>\n",
       "      <th>name</th>\n",
       "      <th>first_price</th>\n",
       "      <th>close_price</th>\n",
       "      <th>last_trade</th>\n",
       "      <th>count</th>\n",
       "      <th>volume</th>\n",
       "      <th>value</th>\n",
       "      <th>...</th>\n",
       "      <th>ask_price3</th>\n",
       "      <th>ask_vol3</th>\n",
       "      <th>bid_price4</th>\n",
       "      <th>bid_vol4</th>\n",
       "      <th>ask_price4</th>\n",
       "      <th>ask_vol4</th>\n",
       "      <th>bid_price5</th>\n",
       "      <th>bid_vol5</th>\n",
       "      <th>ask_price5</th>\n",
       "      <th>ask_vol5</th>\n",
       "    </tr>\n",
       "  </thead>\n",
       "  <tbody>\n",
       "    <tr>\n",
       "      <th>0</th>\n",
       "      <td>114312662654155</td>\n",
       "      <td>IRO3SAIZ0001</td>\n",
       "      <td>وسپهر</td>\n",
       "      <td>سرمایه گذاری مالی سپهرصادرات</td>\n",
       "      <td>6870.0</td>\n",
       "      <td>6850.0</td>\n",
       "      <td>6850.0</td>\n",
       "      <td>744</td>\n",
       "      <td>1863915.0</td>\n",
       "      <td>12775699370.0</td>\n",
       "      <td>...</td>\n",
       "      <td>6880.0</td>\n",
       "      <td>1100.0</td>\n",
       "      <td>6740.0</td>\n",
       "      <td>1055.0</td>\n",
       "      <td>6900.0</td>\n",
       "      <td>45466.0</td>\n",
       "      <td>6700.0</td>\n",
       "      <td>2749.0</td>\n",
       "      <td>6910.0</td>\n",
       "      <td>4135.0</td>\n",
       "    </tr>\n",
       "    <tr>\n",
       "      <th>1</th>\n",
       "      <td>204092872752957</td>\n",
       "      <td>IRO3SDFZ0001</td>\n",
       "      <td>شصدف</td>\n",
       "      <td>صنعتی دوده فام</td>\n",
       "      <td>32600.0</td>\n",
       "      <td>33300.0</td>\n",
       "      <td>33350.0</td>\n",
       "      <td>505</td>\n",
       "      <td>536059.0</td>\n",
       "      <td>17846145850.0</td>\n",
       "      <td>...</td>\n",
       "      <td>33750.0</td>\n",
       "      <td>156.0</td>\n",
       "      <td>33050.0</td>\n",
       "      <td>9020.0</td>\n",
       "      <td>33800.0</td>\n",
       "      <td>11969.0</td>\n",
       "      <td>33000.0</td>\n",
       "      <td>1619.0</td>\n",
       "      <td>33850.0</td>\n",
       "      <td>21.0</td>\n",
       "    </tr>\n",
       "    <tr>\n",
       "      <th>2</th>\n",
       "      <td>318005355896147</td>\n",
       "      <td>IRO7PFSP0001</td>\n",
       "      <td>فسا</td>\n",
       "      <td>پتروشیمی فسا</td>\n",
       "      <td>791.0</td>\n",
       "      <td>814.0</td>\n",
       "      <td>797.0</td>\n",
       "      <td>181</td>\n",
       "      <td>3093881.0</td>\n",
       "      <td>2506608930.0</td>\n",
       "      <td>...</td>\n",
       "      <td>815.0</td>\n",
       "      <td>6590.0</td>\n",
       "      <td>0.0</td>\n",
       "      <td>0.0</td>\n",
       "      <td>817.0</td>\n",
       "      <td>10000.0</td>\n",
       "      <td>0.0</td>\n",
       "      <td>0.0</td>\n",
       "      <td>818.0</td>\n",
       "      <td>15000.0</td>\n",
       "    </tr>\n",
       "    <tr>\n",
       "      <th>3</th>\n",
       "      <td>408934423224097</td>\n",
       "      <td>IRO1FRVR0001</td>\n",
       "      <td>فرآور</td>\n",
       "      <td>فرآوری‌موادمعدنی‌ایران‌</td>\n",
       "      <td>23220.0</td>\n",
       "      <td>23580.0</td>\n",
       "      <td>23520.0</td>\n",
       "      <td>226</td>\n",
       "      <td>292421.0</td>\n",
       "      <td>6904592000.0</td>\n",
       "      <td>...</td>\n",
       "      <td>23700.0</td>\n",
       "      <td>2537.0</td>\n",
       "      <td>23460.0</td>\n",
       "      <td>4135.0</td>\n",
       "      <td>23760.0</td>\n",
       "      <td>50.0</td>\n",
       "      <td>23450.0</td>\n",
       "      <td>304.0</td>\n",
       "      <td>23780.0</td>\n",
       "      <td>20.0</td>\n",
       "    </tr>\n",
       "    <tr>\n",
       "      <th>4</th>\n",
       "      <td>611986653700161</td>\n",
       "      <td>IRO3SBZZ0001</td>\n",
       "      <td>سبزوا</td>\n",
       "      <td>سیمان لار سبزوار</td>\n",
       "      <td>3330.0</td>\n",
       "      <td>3284.0</td>\n",
       "      <td>3256.0</td>\n",
       "      <td>2085</td>\n",
       "      <td>40088199.0</td>\n",
       "      <td>131658354128.0</td>\n",
       "      <td>...</td>\n",
       "      <td>3337.0</td>\n",
       "      <td>222000.0</td>\n",
       "      <td>3226.0</td>\n",
       "      <td>354028.0</td>\n",
       "      <td>3338.0</td>\n",
       "      <td>61932.0</td>\n",
       "      <td>3225.0</td>\n",
       "      <td>47865.0</td>\n",
       "      <td>3339.0</td>\n",
       "      <td>2452197.0</td>\n",
       "    </tr>\n",
       "  </tbody>\n",
       "</table>\n",
       "<p>5 rows × 41 columns</p>\n",
       "</div>"
      ],
      "text/plain": [
       "                id          ISIN symbol                          name  \\\n",
       "0  114312662654155  IRO3SAIZ0001  وسپهر  سرمایه گذاری مالی سپهرصادرات   \n",
       "1  204092872752957  IRO3SDFZ0001   شصدف                صنعتی دوده فام   \n",
       "2  318005355896147  IRO7PFSP0001    فسا                  پتروشیمی فسا   \n",
       "3  408934423224097  IRO1FRVR0001  فرآور       فرآوری‌موادمعدنی‌ایران‌   \n",
       "4  611986653700161  IRO3SBZZ0001  سبزوا              سیمان لار سبزوار   \n",
       "\n",
       "  first_price close_price last_trade count      volume           value  ...  \\\n",
       "0      6870.0      6850.0     6850.0   744   1863915.0   12775699370.0  ...   \n",
       "1     32600.0     33300.0    33350.0   505    536059.0   17846145850.0  ...   \n",
       "2       791.0       814.0      797.0   181   3093881.0    2506608930.0  ...   \n",
       "3     23220.0     23580.0    23520.0   226    292421.0    6904592000.0  ...   \n",
       "4      3330.0      3284.0     3256.0  2085  40088199.0  131658354128.0  ...   \n",
       "\n",
       "  ask_price3  ask_vol3 bid_price4  bid_vol4 ask_price4 ask_vol4 bid_price5  \\\n",
       "0     6880.0    1100.0     6740.0    1055.0     6900.0  45466.0     6700.0   \n",
       "1    33750.0     156.0    33050.0    9020.0    33800.0  11969.0    33000.0   \n",
       "2      815.0    6590.0        0.0       0.0      817.0  10000.0        0.0   \n",
       "3    23700.0    2537.0    23460.0    4135.0    23760.0     50.0    23450.0   \n",
       "4     3337.0  222000.0     3226.0  354028.0     3338.0  61932.0     3225.0   \n",
       "\n",
       "  bid_vol5 ask_price5   ask_vol5  \n",
       "0   2749.0     6910.0     4135.0  \n",
       "1   1619.0    33850.0       21.0  \n",
       "2      0.0      818.0    15000.0  \n",
       "3    304.0    23780.0       20.0  \n",
       "4  47865.0     3339.0  2452197.0  \n",
       "\n",
       "[5 rows x 41 columns]"
      ]
     },
     "execution_count": 3,
     "metadata": {},
     "output_type": "execute_result"
    }
   ],
   "source": [
    "market = ...()\n",
    "#print head of market\n",
    "market.___()"
   ]
  },
  {
   "cell_type": "code",
   "execution_count": 4,
   "metadata": {},
   "outputs": [
    {
     "name": "stdout",
     "output_type": "stream",
     "text": [
      "<class 'pandas.core.frame.DataFrame'>\n",
      "RangeIndex: 615 entries, 0 to 614\n",
      "Data columns (total 41 columns):\n",
      " #   Column             Non-Null Count  Dtype \n",
      "---  ------             --------------  ----- \n",
      " 0   id                 615 non-null    object\n",
      " 1   ISIN               615 non-null    object\n",
      " 2   symbol             615 non-null    object\n",
      " 3   name               615 non-null    object\n",
      " 4   first_price        615 non-null    object\n",
      " 5   close_price        615 non-null    object\n",
      " 6   last_trade         615 non-null    object\n",
      " 7   count              615 non-null    object\n",
      " 8   volume             615 non-null    object\n",
      " 9   value              615 non-null    object\n",
      " 10  min_traded_price   615 non-null    object\n",
      " 11  max_treaded_price  615 non-null    object\n",
      " 12  yesterday_price    615 non-null    object\n",
      " 13  table_id           615 non-null    object\n",
      " 14  group_id           615 non-null    object\n",
      " 15  max_allowed_price  615 non-null    object\n",
      " 16  min_allowed_price  615 non-null    object\n",
      " 17  ret_last           615 non-null    object\n",
      " 18  ret_close          615 non-null    object\n",
      " 19  number_of_shares   615 non-null    object\n",
      " 20  Market_cap         615 non-null    object\n",
      " 21  bid_price1         615 non-null    object\n",
      " 22  bid_vol1           615 non-null    object\n",
      " 23  ask_price1         615 non-null    object\n",
      " 24  ask_vol1           615 non-null    object\n",
      " 25  bid_price2         615 non-null    object\n",
      " 26  bid_vol2           615 non-null    object\n",
      " 27  ask_price2         615 non-null    object\n",
      " 28  ask_vol2           615 non-null    object\n",
      " 29  bid_price3         614 non-null    object\n",
      " 30  bid_vol3           614 non-null    object\n",
      " 31  ask_price3         614 non-null    object\n",
      " 32  ask_vol3           614 non-null    object\n",
      " 33  bid_price4         614 non-null    object\n",
      " 34  bid_vol4           614 non-null    object\n",
      " 35  ask_price4         614 non-null    object\n",
      " 36  ask_vol4           614 non-null    object\n",
      " 37  bid_price5         614 non-null    object\n",
      " 38  bid_vol5           614 non-null    object\n",
      " 39  ask_price5         614 non-null    object\n",
      " 40  ask_vol5           614 non-null    object\n",
      "dtypes: object(41)\n",
      "memory usage: 197.1+ KB\n"
     ]
    }
   ],
   "source": [
    "#print a concise summary of df using info\n",
    "market.___()"
   ]
  },
  {
   "cell_type": "markdown",
   "metadata": {},
   "source": [
    "<p dir=rtl style=\"direction: rtl;text-align: right;line-height:200%;font-family:vazir;font-size:medium\">\n",
    "<font face=\"vazir\" size=3>\n",
    "همانطور که مشاهده میکنید ستون های عددی در دادگان از نوع\n",
    "<code>Object</code>\n",
    "هستند آن ها را به\n",
    "<code>float</code>\n",
    "تبدیل کنید.\n",
    "  </font>\n",
    "</p>"
   ]
  },
  {
   "cell_type": "code",
   "execution_count": 5,
   "metadata": {},
   "outputs": [
    {
     "data": {
      "text/plain": [
       "Index(['first_price', 'close_price', 'last_trade', 'count', 'volume', 'value',\n",
       "       'min_traded_price', 'max_treaded_price', 'yesterday_price', 'table_id',\n",
       "       'group_id', 'max_allowed_price', 'min_allowed_price', 'ret_last',\n",
       "       'ret_close', 'number_of_shares', 'Market_cap', 'bid_price1', 'bid_vol1',\n",
       "       'ask_price1', 'ask_vol1', 'bid_price2', 'bid_vol2', 'ask_price2',\n",
       "       'ask_vol2', 'bid_price3', 'bid_vol3', 'ask_price3', 'ask_vol3',\n",
       "       'bid_price4', 'bid_vol4', 'ask_price4', 'ask_vol4', 'bid_price5',\n",
       "       'bid_vol5', 'ask_price5', 'ask_vol5'],\n",
       "      dtype='object')"
      ]
     },
     "execution_count": 5,
     "metadata": {},
     "output_type": "execute_result"
    }
   ],
   "source": [
    "#select numerical features with slicing\n",
    "numerical_features = market.columns[... : ...]\n",
    "# convert them to float\n",
    "market[numerical_features] = market[...].___(...)\n",
    "numerical_features"
   ]
  },
  {
   "cell_type": "markdown",
   "metadata": {},
   "source": [
    "<p dir=rtl style=\"direction: rtl;text-align: right;line-height:200%;font-family:vazir;font-size:medium\">\n",
    "<font face=\"vazir\" size=3>\n",
    "برای اطمینان از تغییرات ایجاد شده \n",
    "<code>info</code>\n",
    "را دوباره فراخوانی میکنیم.\n",
    "  </font>\n",
    "</p>"
   ]
  },
  {
   "cell_type": "code",
   "execution_count": 6,
   "metadata": {},
   "outputs": [
    {
     "name": "stdout",
     "output_type": "stream",
     "text": [
      "<class 'pandas.core.frame.DataFrame'>\n",
      "RangeIndex: 615 entries, 0 to 614\n",
      "Data columns (total 41 columns):\n",
      " #   Column             Non-Null Count  Dtype  \n",
      "---  ------             --------------  -----  \n",
      " 0   id                 615 non-null    object \n",
      " 1   ISIN               615 non-null    object \n",
      " 2   symbol             615 non-null    object \n",
      " 3   name               615 non-null    object \n",
      " 4   first_price        615 non-null    float64\n",
      " 5   close_price        615 non-null    float64\n",
      " 6   last_trade         615 non-null    float64\n",
      " 7   count              615 non-null    float64\n",
      " 8   volume             615 non-null    float64\n",
      " 9   value              615 non-null    float64\n",
      " 10  min_traded_price   615 non-null    float64\n",
      " 11  max_treaded_price  615 non-null    float64\n",
      " 12  yesterday_price    615 non-null    float64\n",
      " 13  table_id           615 non-null    float64\n",
      " 14  group_id           615 non-null    float64\n",
      " 15  max_allowed_price  615 non-null    float64\n",
      " 16  min_allowed_price  615 non-null    float64\n",
      " 17  ret_last           615 non-null    float64\n",
      " 18  ret_close          615 non-null    float64\n",
      " 19  number_of_shares   615 non-null    float64\n",
      " 20  Market_cap         615 non-null    float64\n",
      " 21  bid_price1         615 non-null    float64\n",
      " 22  bid_vol1           615 non-null    float64\n",
      " 23  ask_price1         615 non-null    float64\n",
      " 24  ask_vol1           615 non-null    float64\n",
      " 25  bid_price2         615 non-null    float64\n",
      " 26  bid_vol2           615 non-null    float64\n",
      " 27  ask_price2         615 non-null    float64\n",
      " 28  ask_vol2           615 non-null    float64\n",
      " 29  bid_price3         614 non-null    float64\n",
      " 30  bid_vol3           614 non-null    float64\n",
      " 31  ask_price3         614 non-null    float64\n",
      " 32  ask_vol3           614 non-null    float64\n",
      " 33  bid_price4         614 non-null    float64\n",
      " 34  bid_vol4           614 non-null    float64\n",
      " 35  ask_price4         614 non-null    float64\n",
      " 36  ask_vol4           614 non-null    float64\n",
      " 37  bid_price5         614 non-null    float64\n",
      " 38  bid_vol5           614 non-null    float64\n",
      " 39  ask_price5         614 non-null    float64\n",
      " 40  ask_vol5           614 non-null    float64\n",
      "dtypes: float64(37), object(4)\n",
      "memory usage: 197.1+ KB\n"
     ]
    }
   ],
   "source": [
    "market.___()"
   ]
  },
  {
   "cell_type": "code",
   "execution_count": 7,
   "metadata": {},
   "outputs": [
    {
     "data": {
      "text/html": [
       "<div>\n",
       "<style scoped>\n",
       "    .dataframe tbody tr th:only-of-type {\n",
       "        vertical-align: middle;\n",
       "    }\n",
       "\n",
       "    .dataframe tbody tr th {\n",
       "        vertical-align: top;\n",
       "    }\n",
       "\n",
       "    .dataframe thead th {\n",
       "        text-align: right;\n",
       "    }\n",
       "</style>\n",
       "<table border=\"1\" class=\"dataframe\">\n",
       "  <thead>\n",
       "    <tr style=\"text-align: right;\">\n",
       "      <th></th>\n",
       "      <th>first_price</th>\n",
       "      <th>close_price</th>\n",
       "      <th>last_trade</th>\n",
       "      <th>count</th>\n",
       "      <th>volume</th>\n",
       "      <th>value</th>\n",
       "      <th>min_traded_price</th>\n",
       "      <th>max_treaded_price</th>\n",
       "      <th>yesterday_price</th>\n",
       "      <th>table_id</th>\n",
       "      <th>...</th>\n",
       "      <th>ask_price3</th>\n",
       "      <th>ask_vol3</th>\n",
       "      <th>bid_price4</th>\n",
       "      <th>bid_vol4</th>\n",
       "      <th>ask_price4</th>\n",
       "      <th>ask_vol4</th>\n",
       "      <th>bid_price5</th>\n",
       "      <th>bid_vol5</th>\n",
       "      <th>ask_price5</th>\n",
       "      <th>ask_vol5</th>\n",
       "    </tr>\n",
       "  </thead>\n",
       "  <tbody>\n",
       "    <tr>\n",
       "      <th>count</th>\n",
       "      <td>615.000000</td>\n",
       "      <td>6.150000e+02</td>\n",
       "      <td>6.150000e+02</td>\n",
       "      <td>615.000000</td>\n",
       "      <td>6.150000e+02</td>\n",
       "      <td>6.150000e+02</td>\n",
       "      <td>615.000000</td>\n",
       "      <td>615.000000</td>\n",
       "      <td>6.150000e+02</td>\n",
       "      <td>615.000000</td>\n",
       "      <td>...</td>\n",
       "      <td>614.000000</td>\n",
       "      <td>6.140000e+02</td>\n",
       "      <td>614.000000</td>\n",
       "      <td>6.140000e+02</td>\n",
       "      <td>614.000000</td>\n",
       "      <td>6.140000e+02</td>\n",
       "      <td>614.000000</td>\n",
       "      <td>6.140000e+02</td>\n",
       "      <td>614.000000</td>\n",
       "      <td>6.140000e+02</td>\n",
       "    </tr>\n",
       "    <tr>\n",
       "      <th>mean</th>\n",
       "      <td>18259.904065</td>\n",
       "      <td>2.067416e+04</td>\n",
       "      <td>2.072025e+04</td>\n",
       "      <td>505.252033</td>\n",
       "      <td>7.027727e+06</td>\n",
       "      <td>3.144369e+10</td>\n",
       "      <td>18007.375610</td>\n",
       "      <td>18560.138211</td>\n",
       "      <td>2.058003e+04</td>\n",
       "      <td>1.934959</td>\n",
       "      <td>...</td>\n",
       "      <td>16730.760586</td>\n",
       "      <td>4.377150e+04</td>\n",
       "      <td>14443.535831</td>\n",
       "      <td>6.608445e+04</td>\n",
       "      <td>16640.040717</td>\n",
       "      <td>8.063471e+04</td>\n",
       "      <td>14060.045603</td>\n",
       "      <td>6.179925e+04</td>\n",
       "      <td>16474.607492</td>\n",
       "      <td>4.241027e+04</td>\n",
       "    </tr>\n",
       "    <tr>\n",
       "      <th>std</th>\n",
       "      <td>32524.547623</td>\n",
       "      <td>6.605738e+04</td>\n",
       "      <td>6.605247e+04</td>\n",
       "      <td>794.905638</td>\n",
       "      <td>2.553461e+07</td>\n",
       "      <td>7.291049e+10</td>\n",
       "      <td>32190.971552</td>\n",
       "      <td>32877.333471</td>\n",
       "      <td>6.602561e+04</td>\n",
       "      <td>1.215668</td>\n",
       "      <td>...</td>\n",
       "      <td>30844.333833</td>\n",
       "      <td>1.570286e+05</td>\n",
       "      <td>27240.712760</td>\n",
       "      <td>4.436801e+05</td>\n",
       "      <td>30984.521500</td>\n",
       "      <td>6.947801e+05</td>\n",
       "      <td>26510.451802</td>\n",
       "      <td>3.679501e+05</td>\n",
       "      <td>31064.003765</td>\n",
       "      <td>3.250661e+05</td>\n",
       "    </tr>\n",
       "    <tr>\n",
       "      <th>min</th>\n",
       "      <td>0.000000</td>\n",
       "      <td>1.000000e+00</td>\n",
       "      <td>1.000000e+00</td>\n",
       "      <td>0.000000</td>\n",
       "      <td>0.000000e+00</td>\n",
       "      <td>0.000000e+00</td>\n",
       "      <td>0.000000</td>\n",
       "      <td>0.000000</td>\n",
       "      <td>1.000000e+00</td>\n",
       "      <td>1.000000</td>\n",
       "      <td>...</td>\n",
       "      <td>0.000000</td>\n",
       "      <td>0.000000e+00</td>\n",
       "      <td>0.000000</td>\n",
       "      <td>0.000000e+00</td>\n",
       "      <td>0.000000</td>\n",
       "      <td>0.000000e+00</td>\n",
       "      <td>0.000000</td>\n",
       "      <td>0.000000e+00</td>\n",
       "      <td>0.000000</td>\n",
       "      <td>0.000000e+00</td>\n",
       "    </tr>\n",
       "    <tr>\n",
       "      <th>25%</th>\n",
       "      <td>3804.500000</td>\n",
       "      <td>3.884000e+03</td>\n",
       "      <td>3.899000e+03</td>\n",
       "      <td>130.500000</td>\n",
       "      <td>3.708605e+05</td>\n",
       "      <td>4.489491e+09</td>\n",
       "      <td>3725.500000</td>\n",
       "      <td>3859.000000</td>\n",
       "      <td>3.866000e+03</td>\n",
       "      <td>1.000000</td>\n",
       "      <td>...</td>\n",
       "      <td>3142.000000</td>\n",
       "      <td>1.117500e+03</td>\n",
       "      <td>2422.500000</td>\n",
       "      <td>9.077500e+02</td>\n",
       "      <td>3047.750000</td>\n",
       "      <td>1.000000e+03</td>\n",
       "      <td>2304.750000</td>\n",
       "      <td>7.597500e+02</td>\n",
       "      <td>2894.500000</td>\n",
       "      <td>1.000000e+03</td>\n",
       "    </tr>\n",
       "    <tr>\n",
       "      <th>50%</th>\n",
       "      <td>8480.000000</td>\n",
       "      <td>8.610000e+03</td>\n",
       "      <td>8.660000e+03</td>\n",
       "      <td>255.000000</td>\n",
       "      <td>1.333257e+06</td>\n",
       "      <td>1.086173e+10</td>\n",
       "      <td>8410.000000</td>\n",
       "      <td>8600.000000</td>\n",
       "      <td>8.510000e+03</td>\n",
       "      <td>1.000000</td>\n",
       "      <td>...</td>\n",
       "      <td>7845.000000</td>\n",
       "      <td>5.493500e+03</td>\n",
       "      <td>6475.000000</td>\n",
       "      <td>4.839500e+03</td>\n",
       "      <td>7745.000000</td>\n",
       "      <td>5.816000e+03</td>\n",
       "      <td>6380.000000</td>\n",
       "      <td>4.095000e+03</td>\n",
       "      <td>7395.000000</td>\n",
       "      <td>5.000000e+03</td>\n",
       "    </tr>\n",
       "    <tr>\n",
       "      <th>75%</th>\n",
       "      <td>20225.000000</td>\n",
       "      <td>2.017000e+04</td>\n",
       "      <td>2.019500e+04</td>\n",
       "      <td>540.500000</td>\n",
       "      <td>4.273532e+06</td>\n",
       "      <td>2.713836e+10</td>\n",
       "      <td>19950.000000</td>\n",
       "      <td>20600.000000</td>\n",
       "      <td>2.014000e+04</td>\n",
       "      <td>2.000000</td>\n",
       "      <td>...</td>\n",
       "      <td>18957.500000</td>\n",
       "      <td>2.603550e+04</td>\n",
       "      <td>16565.000000</td>\n",
       "      <td>2.000000e+04</td>\n",
       "      <td>18877.500000</td>\n",
       "      <td>2.527500e+04</td>\n",
       "      <td>16482.500000</td>\n",
       "      <td>2.000000e+04</td>\n",
       "      <td>18697.500000</td>\n",
       "      <td>2.000000e+04</td>\n",
       "    </tr>\n",
       "    <tr>\n",
       "      <th>max</th>\n",
       "      <td>431000.000000</td>\n",
       "      <td>1.445646e+06</td>\n",
       "      <td>1.445646e+06</td>\n",
       "      <td>7550.000000</td>\n",
       "      <td>3.190137e+08</td>\n",
       "      <td>9.995347e+11</td>\n",
       "      <td>429500.000000</td>\n",
       "      <td>437990.000000</td>\n",
       "      <td>1.445646e+06</td>\n",
       "      <td>7.000000</td>\n",
       "      <td>...</td>\n",
       "      <td>435000.000000</td>\n",
       "      <td>2.000000e+06</td>\n",
       "      <td>430000.000000</td>\n",
       "      <td>8.506094e+06</td>\n",
       "      <td>435970.000000</td>\n",
       "      <td>1.547095e+07</td>\n",
       "      <td>429500.000000</td>\n",
       "      <td>6.304044e+06</td>\n",
       "      <td>435980.000000</td>\n",
       "      <td>7.559477e+06</td>\n",
       "    </tr>\n",
       "  </tbody>\n",
       "</table>\n",
       "<p>8 rows × 37 columns</p>\n",
       "</div>"
      ],
      "text/plain": [
       "         first_price   close_price    last_trade        count        volume  \\\n",
       "count     615.000000  6.150000e+02  6.150000e+02   615.000000  6.150000e+02   \n",
       "mean    18259.904065  2.067416e+04  2.072025e+04   505.252033  7.027727e+06   \n",
       "std     32524.547623  6.605738e+04  6.605247e+04   794.905638  2.553461e+07   \n",
       "min         0.000000  1.000000e+00  1.000000e+00     0.000000  0.000000e+00   \n",
       "25%      3804.500000  3.884000e+03  3.899000e+03   130.500000  3.708605e+05   \n",
       "50%      8480.000000  8.610000e+03  8.660000e+03   255.000000  1.333257e+06   \n",
       "75%     20225.000000  2.017000e+04  2.019500e+04   540.500000  4.273532e+06   \n",
       "max    431000.000000  1.445646e+06  1.445646e+06  7550.000000  3.190137e+08   \n",
       "\n",
       "              value  min_traded_price  max_treaded_price  yesterday_price  \\\n",
       "count  6.150000e+02        615.000000         615.000000     6.150000e+02   \n",
       "mean   3.144369e+10      18007.375610       18560.138211     2.058003e+04   \n",
       "std    7.291049e+10      32190.971552       32877.333471     6.602561e+04   \n",
       "min    0.000000e+00          0.000000           0.000000     1.000000e+00   \n",
       "25%    4.489491e+09       3725.500000        3859.000000     3.866000e+03   \n",
       "50%    1.086173e+10       8410.000000        8600.000000     8.510000e+03   \n",
       "75%    2.713836e+10      19950.000000       20600.000000     2.014000e+04   \n",
       "max    9.995347e+11     429500.000000      437990.000000     1.445646e+06   \n",
       "\n",
       "         table_id  ...     ask_price3      ask_vol3     bid_price4  \\\n",
       "count  615.000000  ...     614.000000  6.140000e+02     614.000000   \n",
       "mean     1.934959  ...   16730.760586  4.377150e+04   14443.535831   \n",
       "std      1.215668  ...   30844.333833  1.570286e+05   27240.712760   \n",
       "min      1.000000  ...       0.000000  0.000000e+00       0.000000   \n",
       "25%      1.000000  ...    3142.000000  1.117500e+03    2422.500000   \n",
       "50%      1.000000  ...    7845.000000  5.493500e+03    6475.000000   \n",
       "75%      2.000000  ...   18957.500000  2.603550e+04   16565.000000   \n",
       "max      7.000000  ...  435000.000000  2.000000e+06  430000.000000   \n",
       "\n",
       "           bid_vol4     ask_price4      ask_vol4     bid_price5      bid_vol5  \\\n",
       "count  6.140000e+02     614.000000  6.140000e+02     614.000000  6.140000e+02   \n",
       "mean   6.608445e+04   16640.040717  8.063471e+04   14060.045603  6.179925e+04   \n",
       "std    4.436801e+05   30984.521500  6.947801e+05   26510.451802  3.679501e+05   \n",
       "min    0.000000e+00       0.000000  0.000000e+00       0.000000  0.000000e+00   \n",
       "25%    9.077500e+02    3047.750000  1.000000e+03    2304.750000  7.597500e+02   \n",
       "50%    4.839500e+03    7745.000000  5.816000e+03    6380.000000  4.095000e+03   \n",
       "75%    2.000000e+04   18877.500000  2.527500e+04   16482.500000  2.000000e+04   \n",
       "max    8.506094e+06  435970.000000  1.547095e+07  429500.000000  6.304044e+06   \n",
       "\n",
       "          ask_price5      ask_vol5  \n",
       "count     614.000000  6.140000e+02  \n",
       "mean    16474.607492  4.241027e+04  \n",
       "std     31064.003765  3.250661e+05  \n",
       "min         0.000000  0.000000e+00  \n",
       "25%      2894.500000  1.000000e+03  \n",
       "50%      7395.000000  5.000000e+03  \n",
       "75%     18697.500000  2.000000e+04  \n",
       "max    435980.000000  7.559477e+06  \n",
       "\n",
       "[8 rows x 37 columns]"
      ]
     },
     "execution_count": 7,
     "metadata": {},
     "output_type": "execute_result"
    }
   ],
   "source": [
    "#print descriptive statistics of df using describe\n",
    "market.___()"
   ]
  },
  {
   "cell_type": "markdown",
   "metadata": {},
   "source": [
    "<p dir=rtl style=\"direction: rtl;text-align: right;line-height:200%;font-family:vazir;font-size:medium\">\n",
    "<font face=\"vazir\" size=3>\n",
    "حالا اطلاعات خریداران و فروشندگان حقیقی و حقوقی را با فراخوانی\n",
    "<code>get_today_client_type_tickersData</code>\n",
    "دریافت کرده و دیتافریم را بررسی میکنیم.\n",
    "  </font>\n",
    "</p>"
   ]
  },
  {
   "cell_type": "code",
   "execution_count": 8,
   "metadata": {},
   "outputs": [
    {
     "data": {
      "text/html": [
       "<div>\n",
       "<style scoped>\n",
       "    .dataframe tbody tr th:only-of-type {\n",
       "        vertical-align: middle;\n",
       "    }\n",
       "\n",
       "    .dataframe tbody tr th {\n",
       "        vertical-align: top;\n",
       "    }\n",
       "\n",
       "    .dataframe thead th {\n",
       "        text-align: right;\n",
       "    }\n",
       "</style>\n",
       "<table border=\"1\" class=\"dataframe\">\n",
       "  <thead>\n",
       "    <tr style=\"text-align: right;\">\n",
       "      <th></th>\n",
       "      <th>id</th>\n",
       "      <th>Individual_buy_count</th>\n",
       "      <th>NonIndividual_buy_count</th>\n",
       "      <th>Individual_buy_volume</th>\n",
       "      <th>NonIndividual_buy_volume</th>\n",
       "      <th>Individual_sell_count</th>\n",
       "      <th>NonIndividual_sell_count</th>\n",
       "      <th>Individual_sell_volume</th>\n",
       "      <th>NonIndividual_sell_volume</th>\n",
       "      <th>proportion_buy_ind</th>\n",
       "      <th>proportion_sell_ind</th>\n",
       "    </tr>\n",
       "  </thead>\n",
       "  <tbody>\n",
       "    <tr>\n",
       "      <th>0</th>\n",
       "      <td>43531447361624437</td>\n",
       "      <td>0</td>\n",
       "      <td>1</td>\n",
       "      <td>0</td>\n",
       "      <td>10000</td>\n",
       "      <td>0</td>\n",
       "      <td>1</td>\n",
       "      <td>0</td>\n",
       "      <td>10000</td>\n",
       "      <td>0.000000</td>\n",
       "      <td>0.000000</td>\n",
       "    </tr>\n",
       "    <tr>\n",
       "      <th>1</th>\n",
       "      <td>59376500940738108</td>\n",
       "      <td>1</td>\n",
       "      <td>0</td>\n",
       "      <td>15</td>\n",
       "      <td>0</td>\n",
       "      <td>1</td>\n",
       "      <td>0</td>\n",
       "      <td>15</td>\n",
       "      <td>0</td>\n",
       "      <td>1.000000</td>\n",
       "      <td>1.000000</td>\n",
       "    </tr>\n",
       "    <tr>\n",
       "      <th>2</th>\n",
       "      <td>1626855364269097</td>\n",
       "      <td>22</td>\n",
       "      <td>2</td>\n",
       "      <td>4900</td>\n",
       "      <td>1600</td>\n",
       "      <td>19</td>\n",
       "      <td>0</td>\n",
       "      <td>6500</td>\n",
       "      <td>0</td>\n",
       "      <td>0.753846</td>\n",
       "      <td>1.000000</td>\n",
       "    </tr>\n",
       "    <tr>\n",
       "      <th>3</th>\n",
       "      <td>32469128621155736</td>\n",
       "      <td>119</td>\n",
       "      <td>0</td>\n",
       "      <td>830819</td>\n",
       "      <td>0</td>\n",
       "      <td>53</td>\n",
       "      <td>0</td>\n",
       "      <td>830819</td>\n",
       "      <td>0</td>\n",
       "      <td>1.000000</td>\n",
       "      <td>1.000000</td>\n",
       "    </tr>\n",
       "    <tr>\n",
       "      <th>4</th>\n",
       "      <td>12390706505809150</td>\n",
       "      <td>100</td>\n",
       "      <td>1</td>\n",
       "      <td>143310</td>\n",
       "      <td>270000</td>\n",
       "      <td>60</td>\n",
       "      <td>2</td>\n",
       "      <td>99422</td>\n",
       "      <td>313888</td>\n",
       "      <td>0.346737</td>\n",
       "      <td>0.240551</td>\n",
       "    </tr>\n",
       "  </tbody>\n",
       "</table>\n",
       "</div>"
      ],
      "text/plain": [
       "                  id  Individual_buy_count  NonIndividual_buy_count  \\\n",
       "0  43531447361624437                     0                        1   \n",
       "1  59376500940738108                     1                        0   \n",
       "2   1626855364269097                    22                        2   \n",
       "3  32469128621155736                   119                        0   \n",
       "4  12390706505809150                   100                        1   \n",
       "\n",
       "   Individual_buy_volume  NonIndividual_buy_volume  Individual_sell_count  \\\n",
       "0                      0                     10000                      0   \n",
       "1                     15                         0                      1   \n",
       "2                   4900                      1600                     19   \n",
       "3                 830819                         0                     53   \n",
       "4                 143310                    270000                     60   \n",
       "\n",
       "   NonIndividual_sell_count  Individual_sell_volume  \\\n",
       "0                         1                       0   \n",
       "1                         0                      15   \n",
       "2                         0                    6500   \n",
       "3                         0                  830819   \n",
       "4                         2                   99422   \n",
       "\n",
       "   NonIndividual_sell_volume  proportion_buy_ind  proportion_sell_ind  \n",
       "0                      10000            0.000000             0.000000  \n",
       "1                          0            1.000000             1.000000  \n",
       "2                          0            0.753846             1.000000  \n",
       "3                          0            1.000000             1.000000  \n",
       "4                     313888            0.346737             0.240551  "
      ]
     },
     "execution_count": 8,
     "metadata": {},
     "output_type": "execute_result"
    }
   ],
   "source": [
    "clients = get_today_client_type_tickersData()\n",
    "# print head of clients\n",
    "clients.___()"
   ]
  },
  {
   "cell_type": "code",
   "execution_count": 9,
   "metadata": {},
   "outputs": [
    {
     "name": "stdout",
     "output_type": "stream",
     "text": [
      "<class 'pandas.core.frame.DataFrame'>\n",
      "RangeIndex: 956 entries, 0 to 955\n",
      "Data columns (total 11 columns):\n",
      " #   Column                     Non-Null Count  Dtype  \n",
      "---  ------                     --------------  -----  \n",
      " 0   id                         956 non-null    object \n",
      " 1   Individual_buy_count       956 non-null    int64  \n",
      " 2   NonIndividual_buy_count    956 non-null    int64  \n",
      " 3   Individual_buy_volume      956 non-null    int64  \n",
      " 4   NonIndividual_buy_volume   956 non-null    int64  \n",
      " 5   Individual_sell_count      956 non-null    int64  \n",
      " 6   NonIndividual_sell_count   956 non-null    int64  \n",
      " 7   Individual_sell_volume     956 non-null    int64  \n",
      " 8   NonIndividual_sell_volume  956 non-null    int64  \n",
      " 9   proportion_buy_ind         956 non-null    float64\n",
      " 10  proportion_sell_ind        956 non-null    float64\n",
      "dtypes: float64(2), int64(8), object(1)\n",
      "memory usage: 82.3+ KB\n"
     ]
    }
   ],
   "source": [
    "#print a concise summary of df using info\n",
    "clients.___()"
   ]
  },
  {
   "cell_type": "code",
   "execution_count": 10,
   "metadata": {},
   "outputs": [
    {
     "data": {
      "text/html": [
       "<div>\n",
       "<style scoped>\n",
       "    .dataframe tbody tr th:only-of-type {\n",
       "        vertical-align: middle;\n",
       "    }\n",
       "\n",
       "    .dataframe tbody tr th {\n",
       "        vertical-align: top;\n",
       "    }\n",
       "\n",
       "    .dataframe thead th {\n",
       "        text-align: right;\n",
       "    }\n",
       "</style>\n",
       "<table border=\"1\" class=\"dataframe\">\n",
       "  <thead>\n",
       "    <tr style=\"text-align: right;\">\n",
       "      <th></th>\n",
       "      <th>Individual_buy_count</th>\n",
       "      <th>NonIndividual_buy_count</th>\n",
       "      <th>Individual_buy_volume</th>\n",
       "      <th>NonIndividual_buy_volume</th>\n",
       "      <th>Individual_sell_count</th>\n",
       "      <th>NonIndividual_sell_count</th>\n",
       "      <th>Individual_sell_volume</th>\n",
       "      <th>NonIndividual_sell_volume</th>\n",
       "      <th>proportion_buy_ind</th>\n",
       "      <th>proportion_sell_ind</th>\n",
       "    </tr>\n",
       "  </thead>\n",
       "  <tbody>\n",
       "    <tr>\n",
       "      <th>count</th>\n",
       "      <td>956.000000</td>\n",
       "      <td>956.000000</td>\n",
       "      <td>9.560000e+02</td>\n",
       "      <td>9.560000e+02</td>\n",
       "      <td>956.000000</td>\n",
       "      <td>956.000000</td>\n",
       "      <td>9.560000e+02</td>\n",
       "      <td>9.560000e+02</td>\n",
       "      <td>956.000000</td>\n",
       "      <td>956.000000</td>\n",
       "    </tr>\n",
       "    <tr>\n",
       "      <th>mean</th>\n",
       "      <td>108.714435</td>\n",
       "      <td>1.471757</td>\n",
       "      <td>4.318087e+06</td>\n",
       "      <td>4.906431e+06</td>\n",
       "      <td>137.097280</td>\n",
       "      <td>1.815900</td>\n",
       "      <td>4.410830e+06</td>\n",
       "      <td>4.813689e+06</td>\n",
       "      <td>0.718137</td>\n",
       "      <td>0.738983</td>\n",
       "    </tr>\n",
       "    <tr>\n",
       "      <th>std</th>\n",
       "      <td>216.561470</td>\n",
       "      <td>1.964139</td>\n",
       "      <td>1.824048e+07</td>\n",
       "      <td>2.951184e+07</td>\n",
       "      <td>270.372293</td>\n",
       "      <td>5.015745</td>\n",
       "      <td>1.942258e+07</td>\n",
       "      <td>3.032031e+07</td>\n",
       "      <td>0.357809</td>\n",
       "      <td>0.366784</td>\n",
       "    </tr>\n",
       "    <tr>\n",
       "      <th>min</th>\n",
       "      <td>0.000000</td>\n",
       "      <td>0.000000</td>\n",
       "      <td>0.000000e+00</td>\n",
       "      <td>0.000000e+00</td>\n",
       "      <td>0.000000</td>\n",
       "      <td>0.000000</td>\n",
       "      <td>0.000000e+00</td>\n",
       "      <td>0.000000e+00</td>\n",
       "      <td>0.000000</td>\n",
       "      <td>0.000000</td>\n",
       "    </tr>\n",
       "    <tr>\n",
       "      <th>25%</th>\n",
       "      <td>5.000000</td>\n",
       "      <td>0.000000</td>\n",
       "      <td>4.715750e+03</td>\n",
       "      <td>0.000000e+00</td>\n",
       "      <td>4.000000</td>\n",
       "      <td>0.000000</td>\n",
       "      <td>6.141000e+03</td>\n",
       "      <td>0.000000e+00</td>\n",
       "      <td>0.467909</td>\n",
       "      <td>0.548190</td>\n",
       "    </tr>\n",
       "    <tr>\n",
       "      <th>50%</th>\n",
       "      <td>44.000000</td>\n",
       "      <td>1.000000</td>\n",
       "      <td>3.743530e+05</td>\n",
       "      <td>3.409750e+04</td>\n",
       "      <td>52.000000</td>\n",
       "      <td>1.000000</td>\n",
       "      <td>4.004515e+05</td>\n",
       "      <td>6.805000e+03</td>\n",
       "      <td>0.921249</td>\n",
       "      <td>0.959854</td>\n",
       "    </tr>\n",
       "    <tr>\n",
       "      <th>75%</th>\n",
       "      <td>110.000000</td>\n",
       "      <td>2.000000</td>\n",
       "      <td>2.040403e+06</td>\n",
       "      <td>5.500248e+05</td>\n",
       "      <td>123.000000</td>\n",
       "      <td>2.000000</td>\n",
       "      <td>2.180629e+06</td>\n",
       "      <td>4.138530e+05</td>\n",
       "      <td>1.000000</td>\n",
       "      <td>1.000000</td>\n",
       "    </tr>\n",
       "    <tr>\n",
       "      <th>max</th>\n",
       "      <td>2059.000000</td>\n",
       "      <td>22.000000</td>\n",
       "      <td>2.638670e+08</td>\n",
       "      <td>3.937000e+08</td>\n",
       "      <td>2539.000000</td>\n",
       "      <td>91.000000</td>\n",
       "      <td>2.876591e+08</td>\n",
       "      <td>3.937000e+08</td>\n",
       "      <td>1.000000</td>\n",
       "      <td>1.000000</td>\n",
       "    </tr>\n",
       "  </tbody>\n",
       "</table>\n",
       "</div>"
      ],
      "text/plain": [
       "       Individual_buy_count  NonIndividual_buy_count  Individual_buy_volume  \\\n",
       "count            956.000000               956.000000           9.560000e+02   \n",
       "mean             108.714435                 1.471757           4.318087e+06   \n",
       "std              216.561470                 1.964139           1.824048e+07   \n",
       "min                0.000000                 0.000000           0.000000e+00   \n",
       "25%                5.000000                 0.000000           4.715750e+03   \n",
       "50%               44.000000                 1.000000           3.743530e+05   \n",
       "75%              110.000000                 2.000000           2.040403e+06   \n",
       "max             2059.000000                22.000000           2.638670e+08   \n",
       "\n",
       "       NonIndividual_buy_volume  Individual_sell_count  \\\n",
       "count              9.560000e+02             956.000000   \n",
       "mean               4.906431e+06             137.097280   \n",
       "std                2.951184e+07             270.372293   \n",
       "min                0.000000e+00               0.000000   \n",
       "25%                0.000000e+00               4.000000   \n",
       "50%                3.409750e+04              52.000000   \n",
       "75%                5.500248e+05             123.000000   \n",
       "max                3.937000e+08            2539.000000   \n",
       "\n",
       "       NonIndividual_sell_count  Individual_sell_volume  \\\n",
       "count                956.000000            9.560000e+02   \n",
       "mean                   1.815900            4.410830e+06   \n",
       "std                    5.015745            1.942258e+07   \n",
       "min                    0.000000            0.000000e+00   \n",
       "25%                    0.000000            6.141000e+03   \n",
       "50%                    1.000000            4.004515e+05   \n",
       "75%                    2.000000            2.180629e+06   \n",
       "max                   91.000000            2.876591e+08   \n",
       "\n",
       "       NonIndividual_sell_volume  proportion_buy_ind  proportion_sell_ind  \n",
       "count               9.560000e+02          956.000000           956.000000  \n",
       "mean                4.813689e+06            0.718137             0.738983  \n",
       "std                 3.032031e+07            0.357809             0.366784  \n",
       "min                 0.000000e+00            0.000000             0.000000  \n",
       "25%                 0.000000e+00            0.467909             0.548190  \n",
       "50%                 6.805000e+03            0.921249             0.959854  \n",
       "75%                 4.138530e+05            1.000000             1.000000  \n",
       "max                 3.937000e+08            1.000000             1.000000  "
      ]
     },
     "execution_count": 10,
     "metadata": {},
     "output_type": "execute_result"
    }
   ],
   "source": [
    "#print descriptive statistics of df using describe\n",
    "clients.___()"
   ]
  },
  {
   "cell_type": "markdown",
   "metadata": {},
   "source": [
    "<h1 align=right style=\"line-height:150%;font-family:vazir;color:#0099cc\">\n",
    "<font face=\"vazir\" color=\"#0099cc\">\n",
    "تحلیل  دادگان\n",
    "</font>\n",
    "</h1>"
   ]
  },
  {
   "cell_type": "markdown",
   "metadata": {},
   "source": [
    "<p dir=rtl style=\"direction: rtl;text-align: right;line-height:200%;font-family:vazir;font-size:medium\">\n",
    "<font face=\"vazir\" size=3>\n",
    "دو دادگان ساخته شده را روی ستون\n",
    "<code>id</code>\n",
    "با همدیگر\n",
    "<code>merge</code>\n",
    "کنید.\n",
    "</font>\n",
    "</p>"
   ]
  },
  {
   "cell_type": "code",
   "execution_count": 11,
   "metadata": {},
   "outputs": [],
   "source": [
    "data = pd.merge(..., ... ,on=... ,how='left')"
   ]
  },
  {
   "cell_type": "markdown",
   "metadata": {},
   "source": [
    "<p dir=rtl style=\"direction: rtl;text-align: right;line-height:200%;font-family:vazir;font-size:medium\">\n",
    "<font face=\"vazir\" size=3>\n",
    "نمودار میله ای رسم کنید که محور \n",
    "<code>x</code>\n",
    "آن ستون\n",
    "<code>symbol</code>\n",
    "و محور\n",
    "<code>y</code>\n",
    "ستون\n",
    "<code>value</code>\n",
    "به صورت مرتب شده باشد.\n",
    "برای مرتب کردن میتوانید از \n",
    "<code>sort_values</code>\n",
    "استفاده کنید.\n",
    "</font>\n",
    "</p>"
   ]
  },
  {
   "cell_type": "code",
   "execution_count": 12,
   "metadata": {},
   "outputs": [
    {
     "data": {
      "application/vnd.plotly.v1+json": {
       "config": {
        "plotlyServerURL": "https://plot.ly"
       },
       "data": [
        {
         "alignmentgroup": "True",
         "hovertemplate": "symbol=%{x}<br>value=%{y}<extra></extra>",
         "legendgroup": "",
         "marker": {
          "color": "#636efa",
          "pattern": {
           "shape": ""
          }
         },
         "name": "",
         "offsetgroup": "",
         "orientation": "v",
         "showlegend": false,
         "textposition": "auto",
         "type": "bar",
         "x": [
          "وغدير",
          "خگستر",
          "خودرو",
          "خساپا",
          "خبنيان",
          "شپنا",
          "خكاوه",
          "فملي",
          "شستا",
          "حكشتي",
          "وساپا",
          "وبملت",
          "فمراد",
          "شبندر",
          "خزاميا",
          "ذوب",
          "شپديس",
          "ثفارس",
          "شتران",
          "ورنا",
          "زاگرس",
          "خبهمن",
          "شفن",
          "فجام",
          "تفارس",
          "فارس",
          "غزر",
          "فرابورس",
          "وتجارت",
          "سبزوا",
          "نوري",
          "شلرد",
          "واميد",
          "سمگا",
          "غمينو",
          "فگستر",
          "فتوسا",
          "پارسان",
          "غدشت",
          "خكرمان",
          "غنوش",
          "مداران",
          "غگل",
          "كالا",
          "ددانا",
          "فاسمين",
          "سصفها",
          "وبصادر",
          "بركت",
          "خودكفا",
          "دماوند",
          "وخارزم",
          "كاما",
          "وخاور",
          "فنفت",
          "كايزد",
          "مبين",
          "سهرمز",
          "كدما",
          "كحافظ",
          "كسرا",
          "فخوز",
          "بوعلي",
          "شبريز",
          "آريا",
          "وآذر",
          "تاپيكو",
          "ختوقا",
          "قثابت",
          "ثجوان",
          "سآبيك",
          "پترول",
          "كرمان",
          "بهير",
          "دعبيد",
          "افق",
          "وساخت",
          "حفارس",
          "خچرخش",
          "ثنور",
          "سكارون",
          "شاوان",
          "سفارود",
          "تاصيكو",
          "ومعادن",
          "وصنا",
          "بپاس",
          "گشان",
          "رمپنا",
          "تليسه",
          "وملل",
          "كيسون",
          "حپترو",
          "سلار",
          "غپينو",
          "حگهر",
          "سپاها",
          "وحافظ",
          "تيپيكو",
          "فاذر",
          "شيران",
          "كماسه",
          "بميلا",
          "سدبير",
          "لپارس",
          "كهمدا",
          "آبين",
          "فاراك",
          "بترانس",
          "زنگان",
          "پتاير",
          "ديران",
          "خوساز",
          "خريخت",
          "حتايد",
          "ونيرو",
          "كنور",
          "شپلي",
          "چكاپا",
          "وتوصا",
          "ويسا",
          "سفارس",
          "ريشمك",
          "سپيد",
          "گنگين",
          "شيراز",
          "فسپا",
          "فباهنر",
          "مديريت",
          "سيستم",
          "شغدير",
          "قشرين",
          "درهآور",
          "شسپا",
          "خنصير",
          "ورازي",
          "ولساپا",
          "شبهرن",
          "ثالوند",
          "كلر",
          "ثعتما",
          "ودي",
          "وبانك",
          "ثشاهد",
          "خمحركه",
          "قرن",
          "كاوه",
          "سيمرغ",
          "حسينا",
          "ختراك",
          "ميدكو",
          "تپكو",
          "خمهر",
          "سخزر",
          "شرنگي",
          "وكبهمن",
          "غويتا",
          "فزرين",
          "شگويا",
          "ثباغ",
          "صبا",
          "شاراك",
          "وپاسار",
          "افرا",
          "كسرام",
          "غصينو",
          "ساذري",
          "شكربن",
          "نيرو",
          "غديس",
          "فسبزوار",
          "گدنا",
          "پرديس",
          "خرينگ",
          "تجلي",
          "دسانكو",
          "پارس",
          "وپست",
          "وسپه",
          "وملي",
          "وحكمت",
          "فبيرا",
          "اوان",
          "حگردش",
          "غدام",
          "كاسپين",
          "خراسان",
          "كرماشا",
          "بجهرم",
          "حفاري",
          "ركيش",
          "ثرود",
          "كاذر",
          "اعتلا",
          "ميهن",
          "كگهر",
          "شكام",
          "فروس",
          "غگلپا",
          "تنوين",
          "ساروم",
          "جم",
          "كگل",
          "خاذين",
          "ثمسكن",
          "فسرب",
          "فولاي",
          "كچاد",
          "حسير",
          "خكار",
          "زكوثر",
          "كرازي",
          "مفاخر",
          "شصدف",
          "وتعاون",
          "خفنر",
          "پلاست",
          "ونوين",
          "سهگمت",
          "كپارس",
          "ومدير",
          "ستران",
          "پخش",
          "كتوكا",
          "خاهن",
          "حتوكا",
          "ثغرب",
          "خشرق",
          "چكارن",
          "فسازان",
          "ثاباد",
          "دروز",
          "واحيا",
          "شوينده",
          "شبصير",
          "آريان",
          "خمحور",
          "دشيمي",
          "غبهار",
          "زقيام",
          "كترام",
          "لطيف",
          "غسالم",
          "ونيكي",
          "پكرمان",
          "فافق",
          "زپارس",
          "دجابر",
          "كروي",
          "ثاخت",
          "خموتور",
          "كلوند",
          "خزر",
          "ومهان",
          "ثبهساز",
          "غشوكو",
          "غشهداب",
          "ولشرق",
          "وثنو",
          "شفارس",
          "ولراز",
          "كفرا",
          "ساينا",
          "ثاژن",
          "غالبر",
          "فغدير",
          "زشريف",
          "زكشت",
          "شرانل",
          "بپيوند",
          "غگلستا",
          "شجم",
          "بكهنوج",
          "توريل",
          "پارسيان",
          "ثنوسا",
          "كقزوي",
          "ددام",
          "فوكا",
          "وسپهر",
          "سفانو",
          "غچين",
          "تپمپي",
          "دتماد",
          "زفكا",
          "ثاميد",
          "بمپنا",
          "سكرما",
          "سصوفي",
          "سفار",
          "لسرما",
          "شاروم",
          "ماديرا",
          "غپآذر",
          "واتي",
          "وپخش",
          "ملت",
          "چفيبر",
          "وسبحان",
          "وبرق",
          "فروي",
          "لبوتان",
          "قاسم",
          "وآرين",
          "شمواد",
          "زدشت",
          "مرقام",
          "دكوثر",
          "وتوشه",
          "وبشهر",
          "زماهان",
          "شخارك",
          "سمازن",
          "شسينا",
          "وسرمد",
          "همراه",
          "فجر",
          "خلنت",
          "زملارد",
          "داوه",
          "كيمياتك",
          "نطرين",
          "خپويش",
          "شفا",
          "تشتاد",
          "توسن",
          "پدرخش",
          "كزغال",
          "دتوليد",
          "وهنر",
          "كوثر",
          "غپاك",
          "تكشا",
          "قهكمت",
          "وسديد",
          "پاكشو",
          "غگيلا",
          "شپترو",
          "بالبر",
          "هجرت",
          "كيميا",
          "ثشرق",
          "چخزر",
          "پكوير",
          "شليا",
          "فپنتا",
          "حپارسا",
          "سشرق",
          "حخزر",
          "قنيشا",
          "كبافق",
          "زبينا",
          "غشان",
          "تماوند",
          "هرمز",
          "سيتا",
          "سنير",
          "حريل",
          "ولملت",
          "چكاوه",
          "ومعلم",
          "شلعاب",
          "كساوه",
          "كمنگنز",
          "فروسيل",
          "وصندوق",
          "كوير",
          "بساما",
          "خديزل",
          "وگستر",
          "سخواف",
          "حآسا",
          "كسعدي",
          "قشير",
          "فلامي",
          "كفپارس",
          "سرچشمه",
          "غفارس",
          "كمرجان",
          "شپاكسا",
          "كپشير",
          "زشگزا",
          "بالاس",
          "تايرا",
          "لپيام",
          "خكمك",
          "وبوعلي",
          "بهپاك",
          "فنرژي",
          "تاپكيش",
          "فجهان",
          "شنفت",
          "زمگسا",
          "ولغدر",
          "فولاژ",
          "چدن",
          "ثتوسا",
          "فرآور",
          "سباقر",
          "بموتو",
          "فنوال",
          "غبهنوش",
          "رانفور",
          "كساپا",
          "دلر",
          "زگلدشت",
          "بشهاب",
          "پيزد",
          "وتوسم",
          "آبادا",
          "ثزاگرس",
          "شكبير",
          "سجام",
          "دامين",
          "جوين",
          "ولصنم",
          "پارتا",
          "وهور",
          "وجامي",
          "واعتبار",
          "گكوثر",
          "ثتران",
          "ثاصفا",
          "دفارا",
          "دالبر",
          "غمهرا",
          "وپسا",
          "وپويا",
          "وهامون",
          "شفارا",
          "وتوس",
          "دابور",
          "پلاسك",
          "قصفها",
          "دكپسول",
          "قمرو",
          "بكام",
          "كپرور",
          "قيستو",
          "وايران",
          "غشصفا",
          "فايرا",
          "وآفر",
          "غشاذر",
          "فاما",
          "كفرآور",
          "شاملا",
          "دارو",
          "وصنعت",
          "وفتخار",
          "پرداخت",
          "قشكر",
          "شتوكا",
          "والبر",
          "وارس",
          "سيلام",
          "فالوم",
          "شصفها",
          "دزهراوي",
          "ولپارس",
          "نوين",
          "ثپرديس",
          "البرز",
          "رنيك",
          "قاروم",
          "لابسا",
          "ثعمرا",
          "قزوين",
          "سدور",
          "سخوز",
          "وبهمن",
          "پاسا",
          "ولانا",
          "دسينا",
          "وملت",
          "وبيمه",
          "شكلر",
          "بخاور",
          "ثنام",
          "ومشان",
          "تكمبا",
          "وسكاب",
          "ما",
          "غگرجي",
          "بگيلان",
          "سشمال",
          "امين",
          "ساراب",
          "فخاس",
          "وتوكا",
          "ارفع",
          "كخاك",
          "ساوه",
          "ونفت",
          "فافزا",
          "وآوا",
          "آسيا",
          "سپ",
          "غشهد",
          "سبهان",
          "چافست",
          "شزنگ",
          "دسبحان",
          "لخزر",
          "قپيرا",
          "سفاسي",
          "سرود",
          "قشهد",
          "سمايه",
          "بزاگرس",
          "رتاپ",
          "سقاين",
          "دشيري",
          "بايكا",
          "لازما",
          "اپال",
          "دتوزيع",
          "ثنظام",
          "وثوق",
          "دلقما",
          "دپارس",
          "غپونه",
          "حآفرين",
          "وكار",
          "سخاش",
          "شتولي",
          "سيدكو",
          "درازك",
          "اپرداز",
          "فسا",
          "شدوص",
          "كشرق",
          "ولبهمن",
          "لوتوس",
          "دكيمي",
          "شپاس",
          "اميد",
          "وثخوز",
          "فكمند",
          "آرمان",
          "پلوله",
          "سمتاز",
          "سنوين",
          "تملت",
          "تاتمس",
          "سپيدار",
          "نمرينو",
          "دحاوي",
          "سپرمي",
          "غگز",
          "سغرب",
          "حشكوه",
          "تكنو",
          "سدشت",
          "ولكار",
          "شپارس",
          "گوهران",
          "پسهند",
          "داسوه",
          "خفناور",
          "كمينا",
          "ثامان",
          "رافزا",
          "جهرم",
          "شگل",
          "وگردش",
          "ساربيل",
          "دفرا",
          "كطبس",
          "فاهواز",
          "تكنار",
          "كهرام",
          "بسويچ",
          "بنيرو",
          "وايرا",
          "ساروج",
          "خبازرس",
          "وآفري",
          "پشاهن",
          "سبجنو",
          "سايرا",
          "خفولا",
          "سغدير",
          "حاريا",
          "خليبل",
          "شستان",
          "كباده",
          "خعمرا",
          "ثقزوي",
          "حبندر",
          "فلات",
          "داراب",
          "كايتا",
          "گكيش",
          "وسين",
          "تابا",
          "فجوش",
          "بتك",
          "ولقمان",
          "گپارس",
          "كصدف",
          "ولتجار",
          "لخانه",
          "فسديد",
          "قنقش",
          "شسم",
          "وزمين",
          "نبروج",
          "كورز",
          "فبستم",
          "نشار",
          "ودانا",
          "كيا",
          "چنوپا",
          "عميلگرد"
         ],
         "xaxis": "x",
         "y": [
          999534704690,
          692599502592,
          535572933403,
          522869107999,
          470176340570,
          337724213100,
          320785861110,
          269795682100,
          269316927240,
          250567750370,
          229448229750,
          229205634626,
          223121007180,
          217007632040,
          211764036870,
          204981186214,
          193266297470,
          182303764210,
          180414491560,
          163259937740,
          161276129700,
          160761367680,
          159900430970,
          158287324900,
          155960596980,
          154539539640,
          136055230020,
          134438267400,
          133089207712,
          131658354128,
          130505366870,
          126421787450,
          125700955040,
          124823335940,
          123002854890,
          116937122920,
          115333688730,
          112705840040,
          104099501940,
          102475956185,
          98476431020,
          97291832520,
          97017301068,
          93301118060,
          91692025550,
          91066460430,
          91026991440,
          89682854990,
          85497073570,
          85009803470,
          82940511490,
          80269815584,
          79297023651,
          79021888883,
          77115562100,
          76059191090,
          75595239400,
          75203175630,
          75199028990,
          74523286480,
          74110159740,
          72603015930,
          71798461100,
          69132135430,
          69095104350,
          68932144800,
          68896317090,
          66883109808,
          66817691957,
          66577886496,
          65693602310,
          65064968080,
          64665286936,
          64068394760,
          62788504700,
          62286358450,
          61937651761,
          60778532170,
          59984341940,
          59682194410,
          58318248350,
          58171845000,
          53014571250,
          52308783340,
          52045332014,
          50838824586,
          50215727750,
          50159541020,
          49781586470,
          49679136501,
          47746137322,
          47160594570,
          46785841540,
          46411752850,
          46063921477,
          45907450310,
          45803404200,
          45762417150,
          45456975480,
          45124815086,
          45010566200,
          43500552509,
          43161966900,
          42185442700,
          42173255940,
          42034719120,
          41284774920,
          40693256619,
          40590661108,
          40525004850,
          40129959340,
          39868829090,
          39576775170,
          39507198194,
          39076498605,
          39042642755,
          38061327820,
          37742797560,
          37480469628,
          37421469620,
          36974671610,
          35729131370,
          35531653060,
          34902578260,
          34535072150,
          34354023500,
          34162509510,
          34059944550,
          33669398690,
          33432777210,
          33055473990,
          32908364415,
          32853102250,
          32843052491,
          32225644330,
          31838894118,
          31062413112,
          30716299180,
          30671578300,
          30597779550,
          29935570600,
          29717641941,
          29224077900,
          29215944860,
          29151988316,
          29106249680,
          28800602770,
          28736635790,
          28514416050,
          28406888920,
          27764379980,
          27545679364,
          27184417118,
          27170848490,
          27105861950,
          26364201237,
          25925713612,
          25504966312,
          24835289050,
          24717649960,
          24711606514,
          24590550860,
          24267901320,
          24128715720,
          24049802700,
          23884693540,
          23828041810,
          23680351746,
          23364906600,
          23306079700,
          23277240090,
          23009244690,
          22994904075,
          22878084490,
          22622007074,
          22387867610,
          22235794263,
          22137796659,
          21999288998,
          21872285670,
          21454900747,
          21445721497,
          21356888980,
          21226958367,
          20836484820,
          20679515800,
          20623936170,
          20604326290,
          20319211878,
          19908472075,
          19905483247,
          19751728280,
          19717129470,
          19590155656,
          19554945647,
          19544613550,
          19342931950,
          19080154380,
          19025221950,
          18962023387,
          18872812430,
          18782531930,
          18564261950,
          18513102379,
          18446646090,
          18436327289,
          18378527610,
          18329134500,
          18309883010,
          18094941752,
          17975514210,
          17921786342,
          17886413750,
          17846145850,
          17771468226,
          17763350210,
          17749116710,
          17697939215,
          17520276290,
          17240172110,
          17213954492,
          17213479350,
          17172423100,
          17108339080,
          17081295388,
          17033258230,
          16915559960,
          16714823970,
          16566241752,
          16528002421,
          16518398890,
          16474555520,
          16394767310,
          16372010760,
          16243412000,
          16091957350,
          16076913244,
          16030654620,
          15880566320,
          15821710119,
          15801600570,
          15664755350,
          15600812838,
          15600070280,
          15477555170,
          15436138092,
          15315894420,
          15198891830,
          15071059610,
          14943231441,
          14887112197,
          14864928770,
          14841785549,
          14737153472,
          14671580507,
          14670514310,
          14655717324,
          14573465892,
          14441723049,
          14435147771,
          14400938350,
          14266284630,
          14231967850,
          14161178705,
          14129260260,
          14048489610,
          14044528335,
          13727500400,
          13705381250,
          13546925700,
          13436640860,
          13363075340,
          13318056951,
          13306968030,
          13190947296,
          12827904064,
          12826335940,
          12816925780,
          12780638880,
          12775699370,
          12637474420,
          12420189680,
          12417597480,
          12274909130,
          12115495820,
          12028552649,
          11930251510,
          11886969750,
          11819714570,
          11787666710,
          11753399530,
          11665568590,
          11621417441,
          11610792600,
          11610440270,
          11571143670,
          11496279993,
          11461284100,
          11401799514,
          11365690050,
          11289739460,
          11258140800,
          11232841431,
          11222000587,
          11210825050,
          11138896310,
          11086965780,
          10861730101,
          10779045090,
          10776981920,
          10629845010,
          10581079860,
          10544286190,
          10537542320,
          10481882096,
          10410157970,
          10384909610,
          10380323560,
          10352439140,
          10282968600,
          10261535980,
          10212487842,
          10169608450,
          10162118080,
          10155976700,
          10093900450,
          10038364570,
          10002399720,
          9944648470,
          9935944850,
          9929200192,
          9855519150,
          9853289900,
          9820590390,
          9746506125,
          9638407260,
          9616252060,
          9582553086,
          9553069820,
          9452387620,
          9352726260,
          9262914808,
          9214378450,
          9149783321,
          9094221350,
          9010884490,
          8976954600,
          8971747930,
          8900892360,
          8849903325,
          8680343680,
          8642687852,
          8604218142,
          8599108200,
          8593901490,
          8593786700,
          8585537140,
          8490512083,
          8465859813,
          8442293420,
          8424280267,
          8415102336,
          8371583950,
          8338745450,
          8338695200,
          8297725810,
          8229811977,
          8190926860,
          8172815480,
          8125747417,
          8094029020,
          8062681290,
          8056886190,
          7985668900,
          7911983810,
          7869053020,
          7867485622,
          7779332170,
          7679064980,
          7514663207,
          7467186470,
          7400152550,
          7373003150,
          7367208200,
          7341926300,
          7332818420,
          7320312688,
          7285882280,
          7259902530,
          7239080650,
          7196476333,
          7176456960,
          7161981850,
          7120770200,
          7021671130,
          7015063218,
          6917643720,
          6904592000,
          6895523190,
          6890960312,
          6833079010,
          6763288080,
          6707520946,
          6396659290,
          6326467060,
          6303218330,
          6298144010,
          6296170320,
          6263531229,
          6198388530,
          6168977300,
          6129732100,
          6119526183,
          6098028634,
          6082153730,
          6052994907,
          6021722710,
          6001901083,
          5990738504,
          5981571609,
          5890454667,
          5861376688,
          5796370480,
          5787475550,
          5754114370,
          5722069710,
          5680041225,
          5648950090,
          5613613055,
          5532293737,
          5516164220,
          5441350930,
          5422632934,
          5373498090,
          5353310300,
          5323630530,
          5313219311,
          5278616530,
          5256965150,
          5248908613,
          5227085500,
          5199963870,
          5184419450,
          5179625320,
          5172495530,
          5140890170,
          5129074450,
          5081900800,
          5074073885,
          5072269928,
          5034934530,
          4902638301,
          4814109720,
          4811887690,
          4796805180,
          4689430790,
          4678075220,
          4618401550,
          4597583961,
          4588966052,
          4520838003,
          4458144430,
          4447323722,
          4434866410,
          4392871200,
          4362479470,
          4307581450,
          4306939928,
          4298326700,
          4247833390,
          4244873870,
          4196066920,
          4169974370,
          4164951170,
          4159183044,
          4157188724,
          4143777120,
          4132770570,
          4131666150,
          4119371000,
          4112248307,
          4074719481,
          4065200478,
          4056888699,
          4015580990,
          3977998220,
          3939554870,
          3886050680,
          3865270770,
          3861810780,
          3783179320,
          3730765800,
          3703565550,
          3626940716,
          3606051150,
          3591206422,
          3513547966,
          3505704460,
          3437885239,
          3349503150,
          3342597900,
          3319739500,
          3313991810,
          3190559250,
          3168733030,
          3163887745,
          3127951420,
          3117163410,
          3102226994,
          3072859527,
          3044405402,
          3021833580,
          3019431800,
          2985025770,
          2906204400,
          2883457610,
          2865567700,
          2852687700,
          2766205300,
          2725374559,
          2697372330,
          2632271610,
          2624563413,
          2617566034,
          2609271040,
          2600804540,
          2599341930,
          2548414690,
          2522803530,
          2506608930,
          2481791240,
          2472770850,
          2472431918,
          2384871980,
          2384408120,
          2318870210,
          2295255300,
          2210244900,
          2184475000,
          2155800096,
          2136460880,
          2122267250,
          2116415421,
          2051439300,
          2023606800,
          2019782000,
          1939673700,
          1902174110,
          1898143500,
          1859480000,
          1841496540,
          1790053529,
          1788255360,
          1723095340,
          1713548480,
          1653142381,
          1586869880,
          1537816040,
          1510277720,
          1497476050,
          1484370510,
          1457996860,
          1302451300,
          1218471390,
          1215199889,
          1185691640,
          1129830260,
          1050361340,
          1003696990,
          913771940,
          906981800,
          784655000,
          756393950,
          756273013,
          731678261,
          709213500,
          579777640,
          517731890,
          489072600,
          421484640,
          418806350,
          416230750,
          386825430,
          383787096,
          378548800,
          366974108,
          267861500,
          265762560,
          257520450,
          240250000,
          236515470,
          179583696,
          173953800,
          162524850,
          155685200,
          114056250,
          113715380,
          106650000,
          56817525,
          48745350,
          44507500,
          40377938,
          37273120,
          11400000,
          10654900,
          5389000,
          5032500,
          4590000,
          142150,
          0,
          0,
          0,
          0,
          0,
          0
         ],
         "yaxis": "y"
        }
       ],
       "layout": {
        "barmode": "relative",
        "legend": {
         "tracegroupgap": 0
        },
        "margin": {
         "t": 60
        },
        "template": {
         "data": {
          "bar": [
           {
            "error_x": {
             "color": "#2a3f5f"
            },
            "error_y": {
             "color": "#2a3f5f"
            },
            "marker": {
             "line": {
              "color": "#E5ECF6",
              "width": 0.5
             },
             "pattern": {
              "fillmode": "overlay",
              "size": 10,
              "solidity": 0.2
             }
            },
            "type": "bar"
           }
          ],
          "barpolar": [
           {
            "marker": {
             "line": {
              "color": "#E5ECF6",
              "width": 0.5
             },
             "pattern": {
              "fillmode": "overlay",
              "size": 10,
              "solidity": 0.2
             }
            },
            "type": "barpolar"
           }
          ],
          "carpet": [
           {
            "aaxis": {
             "endlinecolor": "#2a3f5f",
             "gridcolor": "white",
             "linecolor": "white",
             "minorgridcolor": "white",
             "startlinecolor": "#2a3f5f"
            },
            "baxis": {
             "endlinecolor": "#2a3f5f",
             "gridcolor": "white",
             "linecolor": "white",
             "minorgridcolor": "white",
             "startlinecolor": "#2a3f5f"
            },
            "type": "carpet"
           }
          ],
          "choropleth": [
           {
            "colorbar": {
             "outlinewidth": 0,
             "ticks": ""
            },
            "type": "choropleth"
           }
          ],
          "contour": [
           {
            "colorbar": {
             "outlinewidth": 0,
             "ticks": ""
            },
            "colorscale": [
             [
              0,
              "#0d0887"
             ],
             [
              0.1111111111111111,
              "#46039f"
             ],
             [
              0.2222222222222222,
              "#7201a8"
             ],
             [
              0.3333333333333333,
              "#9c179e"
             ],
             [
              0.4444444444444444,
              "#bd3786"
             ],
             [
              0.5555555555555556,
              "#d8576b"
             ],
             [
              0.6666666666666666,
              "#ed7953"
             ],
             [
              0.7777777777777778,
              "#fb9f3a"
             ],
             [
              0.8888888888888888,
              "#fdca26"
             ],
             [
              1,
              "#f0f921"
             ]
            ],
            "type": "contour"
           }
          ],
          "contourcarpet": [
           {
            "colorbar": {
             "outlinewidth": 0,
             "ticks": ""
            },
            "type": "contourcarpet"
           }
          ],
          "heatmap": [
           {
            "colorbar": {
             "outlinewidth": 0,
             "ticks": ""
            },
            "colorscale": [
             [
              0,
              "#0d0887"
             ],
             [
              0.1111111111111111,
              "#46039f"
             ],
             [
              0.2222222222222222,
              "#7201a8"
             ],
             [
              0.3333333333333333,
              "#9c179e"
             ],
             [
              0.4444444444444444,
              "#bd3786"
             ],
             [
              0.5555555555555556,
              "#d8576b"
             ],
             [
              0.6666666666666666,
              "#ed7953"
             ],
             [
              0.7777777777777778,
              "#fb9f3a"
             ],
             [
              0.8888888888888888,
              "#fdca26"
             ],
             [
              1,
              "#f0f921"
             ]
            ],
            "type": "heatmap"
           }
          ],
          "heatmapgl": [
           {
            "colorbar": {
             "outlinewidth": 0,
             "ticks": ""
            },
            "colorscale": [
             [
              0,
              "#0d0887"
             ],
             [
              0.1111111111111111,
              "#46039f"
             ],
             [
              0.2222222222222222,
              "#7201a8"
             ],
             [
              0.3333333333333333,
              "#9c179e"
             ],
             [
              0.4444444444444444,
              "#bd3786"
             ],
             [
              0.5555555555555556,
              "#d8576b"
             ],
             [
              0.6666666666666666,
              "#ed7953"
             ],
             [
              0.7777777777777778,
              "#fb9f3a"
             ],
             [
              0.8888888888888888,
              "#fdca26"
             ],
             [
              1,
              "#f0f921"
             ]
            ],
            "type": "heatmapgl"
           }
          ],
          "histogram": [
           {
            "marker": {
             "pattern": {
              "fillmode": "overlay",
              "size": 10,
              "solidity": 0.2
             }
            },
            "type": "histogram"
           }
          ],
          "histogram2d": [
           {
            "colorbar": {
             "outlinewidth": 0,
             "ticks": ""
            },
            "colorscale": [
             [
              0,
              "#0d0887"
             ],
             [
              0.1111111111111111,
              "#46039f"
             ],
             [
              0.2222222222222222,
              "#7201a8"
             ],
             [
              0.3333333333333333,
              "#9c179e"
             ],
             [
              0.4444444444444444,
              "#bd3786"
             ],
             [
              0.5555555555555556,
              "#d8576b"
             ],
             [
              0.6666666666666666,
              "#ed7953"
             ],
             [
              0.7777777777777778,
              "#fb9f3a"
             ],
             [
              0.8888888888888888,
              "#fdca26"
             ],
             [
              1,
              "#f0f921"
             ]
            ],
            "type": "histogram2d"
           }
          ],
          "histogram2dcontour": [
           {
            "colorbar": {
             "outlinewidth": 0,
             "ticks": ""
            },
            "colorscale": [
             [
              0,
              "#0d0887"
             ],
             [
              0.1111111111111111,
              "#46039f"
             ],
             [
              0.2222222222222222,
              "#7201a8"
             ],
             [
              0.3333333333333333,
              "#9c179e"
             ],
             [
              0.4444444444444444,
              "#bd3786"
             ],
             [
              0.5555555555555556,
              "#d8576b"
             ],
             [
              0.6666666666666666,
              "#ed7953"
             ],
             [
              0.7777777777777778,
              "#fb9f3a"
             ],
             [
              0.8888888888888888,
              "#fdca26"
             ],
             [
              1,
              "#f0f921"
             ]
            ],
            "type": "histogram2dcontour"
           }
          ],
          "mesh3d": [
           {
            "colorbar": {
             "outlinewidth": 0,
             "ticks": ""
            },
            "type": "mesh3d"
           }
          ],
          "parcoords": [
           {
            "line": {
             "colorbar": {
              "outlinewidth": 0,
              "ticks": ""
             }
            },
            "type": "parcoords"
           }
          ],
          "pie": [
           {
            "automargin": true,
            "type": "pie"
           }
          ],
          "scatter": [
           {
            "fillpattern": {
             "fillmode": "overlay",
             "size": 10,
             "solidity": 0.2
            },
            "type": "scatter"
           }
          ],
          "scatter3d": [
           {
            "line": {
             "colorbar": {
              "outlinewidth": 0,
              "ticks": ""
             }
            },
            "marker": {
             "colorbar": {
              "outlinewidth": 0,
              "ticks": ""
             }
            },
            "type": "scatter3d"
           }
          ],
          "scattercarpet": [
           {
            "marker": {
             "colorbar": {
              "outlinewidth": 0,
              "ticks": ""
             }
            },
            "type": "scattercarpet"
           }
          ],
          "scattergeo": [
           {
            "marker": {
             "colorbar": {
              "outlinewidth": 0,
              "ticks": ""
             }
            },
            "type": "scattergeo"
           }
          ],
          "scattergl": [
           {
            "marker": {
             "colorbar": {
              "outlinewidth": 0,
              "ticks": ""
             }
            },
            "type": "scattergl"
           }
          ],
          "scattermapbox": [
           {
            "marker": {
             "colorbar": {
              "outlinewidth": 0,
              "ticks": ""
             }
            },
            "type": "scattermapbox"
           }
          ],
          "scatterpolar": [
           {
            "marker": {
             "colorbar": {
              "outlinewidth": 0,
              "ticks": ""
             }
            },
            "type": "scatterpolar"
           }
          ],
          "scatterpolargl": [
           {
            "marker": {
             "colorbar": {
              "outlinewidth": 0,
              "ticks": ""
             }
            },
            "type": "scatterpolargl"
           }
          ],
          "scatterternary": [
           {
            "marker": {
             "colorbar": {
              "outlinewidth": 0,
              "ticks": ""
             }
            },
            "type": "scatterternary"
           }
          ],
          "surface": [
           {
            "colorbar": {
             "outlinewidth": 0,
             "ticks": ""
            },
            "colorscale": [
             [
              0,
              "#0d0887"
             ],
             [
              0.1111111111111111,
              "#46039f"
             ],
             [
              0.2222222222222222,
              "#7201a8"
             ],
             [
              0.3333333333333333,
              "#9c179e"
             ],
             [
              0.4444444444444444,
              "#bd3786"
             ],
             [
              0.5555555555555556,
              "#d8576b"
             ],
             [
              0.6666666666666666,
              "#ed7953"
             ],
             [
              0.7777777777777778,
              "#fb9f3a"
             ],
             [
              0.8888888888888888,
              "#fdca26"
             ],
             [
              1,
              "#f0f921"
             ]
            ],
            "type": "surface"
           }
          ],
          "table": [
           {
            "cells": {
             "fill": {
              "color": "#EBF0F8"
             },
             "line": {
              "color": "white"
             }
            },
            "header": {
             "fill": {
              "color": "#C8D4E3"
             },
             "line": {
              "color": "white"
             }
            },
            "type": "table"
           }
          ]
         },
         "layout": {
          "annotationdefaults": {
           "arrowcolor": "#2a3f5f",
           "arrowhead": 0,
           "arrowwidth": 1
          },
          "autotypenumbers": "strict",
          "coloraxis": {
           "colorbar": {
            "outlinewidth": 0,
            "ticks": ""
           }
          },
          "colorscale": {
           "diverging": [
            [
             0,
             "#8e0152"
            ],
            [
             0.1,
             "#c51b7d"
            ],
            [
             0.2,
             "#de77ae"
            ],
            [
             0.3,
             "#f1b6da"
            ],
            [
             0.4,
             "#fde0ef"
            ],
            [
             0.5,
             "#f7f7f7"
            ],
            [
             0.6,
             "#e6f5d0"
            ],
            [
             0.7,
             "#b8e186"
            ],
            [
             0.8,
             "#7fbc41"
            ],
            [
             0.9,
             "#4d9221"
            ],
            [
             1,
             "#276419"
            ]
           ],
           "sequential": [
            [
             0,
             "#0d0887"
            ],
            [
             0.1111111111111111,
             "#46039f"
            ],
            [
             0.2222222222222222,
             "#7201a8"
            ],
            [
             0.3333333333333333,
             "#9c179e"
            ],
            [
             0.4444444444444444,
             "#bd3786"
            ],
            [
             0.5555555555555556,
             "#d8576b"
            ],
            [
             0.6666666666666666,
             "#ed7953"
            ],
            [
             0.7777777777777778,
             "#fb9f3a"
            ],
            [
             0.8888888888888888,
             "#fdca26"
            ],
            [
             1,
             "#f0f921"
            ]
           ],
           "sequentialminus": [
            [
             0,
             "#0d0887"
            ],
            [
             0.1111111111111111,
             "#46039f"
            ],
            [
             0.2222222222222222,
             "#7201a8"
            ],
            [
             0.3333333333333333,
             "#9c179e"
            ],
            [
             0.4444444444444444,
             "#bd3786"
            ],
            [
             0.5555555555555556,
             "#d8576b"
            ],
            [
             0.6666666666666666,
             "#ed7953"
            ],
            [
             0.7777777777777778,
             "#fb9f3a"
            ],
            [
             0.8888888888888888,
             "#fdca26"
            ],
            [
             1,
             "#f0f921"
            ]
           ]
          },
          "colorway": [
           "#636efa",
           "#EF553B",
           "#00cc96",
           "#ab63fa",
           "#FFA15A",
           "#19d3f3",
           "#FF6692",
           "#B6E880",
           "#FF97FF",
           "#FECB52"
          ],
          "font": {
           "color": "#2a3f5f"
          },
          "geo": {
           "bgcolor": "white",
           "lakecolor": "white",
           "landcolor": "#E5ECF6",
           "showlakes": true,
           "showland": true,
           "subunitcolor": "white"
          },
          "hoverlabel": {
           "align": "left"
          },
          "hovermode": "closest",
          "mapbox": {
           "style": "light"
          },
          "paper_bgcolor": "white",
          "plot_bgcolor": "#E5ECF6",
          "polar": {
           "angularaxis": {
            "gridcolor": "white",
            "linecolor": "white",
            "ticks": ""
           },
           "bgcolor": "#E5ECF6",
           "radialaxis": {
            "gridcolor": "white",
            "linecolor": "white",
            "ticks": ""
           }
          },
          "scene": {
           "xaxis": {
            "backgroundcolor": "#E5ECF6",
            "gridcolor": "white",
            "gridwidth": 2,
            "linecolor": "white",
            "showbackground": true,
            "ticks": "",
            "zerolinecolor": "white"
           },
           "yaxis": {
            "backgroundcolor": "#E5ECF6",
            "gridcolor": "white",
            "gridwidth": 2,
            "linecolor": "white",
            "showbackground": true,
            "ticks": "",
            "zerolinecolor": "white"
           },
           "zaxis": {
            "backgroundcolor": "#E5ECF6",
            "gridcolor": "white",
            "gridwidth": 2,
            "linecolor": "white",
            "showbackground": true,
            "ticks": "",
            "zerolinecolor": "white"
           }
          },
          "shapedefaults": {
           "line": {
            "color": "#2a3f5f"
           }
          },
          "ternary": {
           "aaxis": {
            "gridcolor": "white",
            "linecolor": "white",
            "ticks": ""
           },
           "baxis": {
            "gridcolor": "white",
            "linecolor": "white",
            "ticks": ""
           },
           "bgcolor": "#E5ECF6",
           "caxis": {
            "gridcolor": "white",
            "linecolor": "white",
            "ticks": ""
           }
          },
          "title": {
           "x": 0.05
          },
          "xaxis": {
           "automargin": true,
           "gridcolor": "white",
           "linecolor": "white",
           "ticks": "",
           "title": {
            "standoff": 15
           },
           "zerolinecolor": "white",
           "zerolinewidth": 2
          },
          "yaxis": {
           "automargin": true,
           "gridcolor": "white",
           "linecolor": "white",
           "ticks": "",
           "title": {
            "standoff": 15
           },
           "zerolinecolor": "white",
           "zerolinewidth": 2
          }
         }
        },
        "xaxis": {
         "anchor": "y",
         "domain": [
          0,
          1
         ],
         "title": {
          "text": "symbol"
         }
        },
        "yaxis": {
         "anchor": "x",
         "domain": [
          0,
          1
         ],
         "title": {
          "text": "value"
         },
         "type": "log"
        }
       }
      }
     },
     "metadata": {},
     "output_type": "display_data"
    }
   ],
   "source": [
    "value_bar = px.__(...,\n",
    "           x=... , y=..., log_y=True)\n",
    "value_bar.show()"
   ]
  },
  {
   "cell_type": "markdown",
   "metadata": {},
   "source": [
    "<p dir=rtl style=\"direction: rtl;text-align: right;line-height:200%;font-family:vazir;font-size:medium\">\n",
    "<font face=\"vazir\" size=3>\n",
    "در ادامه\n",
    "<code>value</code>\n",
    "را نسبت به\n",
    "<code>Market_cap</code>\n",
    "میسنجیم و نمودار میله ای را برای آن نیز رسم میکنیم.\n",
    "</font>\n",
    "</p>"
   ]
  },
  {
   "cell_type": "code",
   "execution_count": 13,
   "metadata": {},
   "outputs": [
    {
     "data": {
      "application/vnd.plotly.v1+json": {
       "config": {
        "plotlyServerURL": "https://plot.ly"
       },
       "data": [
        {
         "alignmentgroup": "True",
         "hovertemplate": "symbol=%{x}<br>y=%{y}<extra></extra>",
         "legendgroup": "",
         "marker": {
          "color": "#636efa",
          "pattern": {
           "shape": ""
          }
         },
         "name": "",
         "offsetgroup": "",
         "orientation": "v",
         "showlegend": false,
         "textposition": "auto",
         "type": "bar",
         "x": [
          "وسپهر",
          "شصدف",
          "فسا",
          "فرآور",
          "سبزوا",
          "اپال",
          "وبملت",
          "لپيام",
          "ثنام",
          "حپارسا",
          "تجلي",
          "وآذر",
          "حسينا",
          "كلر",
          "غدام",
          "وسپه",
          "شستا",
          "غدشت",
          "خزاميا",
          "وتوصا",
          "قنقش",
          "وايران",
          "شستان",
          "شاروم",
          "غديس",
          "شوينده",
          "كيا",
          "كدما",
          "تكنو",
          "حتايد",
          "ثمسكن",
          "فبستم",
          "مفاخر",
          "قيستو",
          "غزر",
          "دلر",
          "سخاش",
          "زماهان",
          "سفانو",
          "ساراب",
          "كسرا",
          "سفارود",
          "فخاس",
          "خپويش",
          "كاما",
          "زمگسا",
          "وحافظ",
          "لپارس",
          "داوه",
          "هجرت",
          "زفكا",
          "غمينو",
          "حريل",
          "بخاور",
          "دسبحان",
          "وتعاون",
          "شگويا",
          "ثشرق",
          "پارس",
          "شجم",
          "غمهرا",
          "خعمرا",
          "ريشمك",
          "آريان",
          "سشمال",
          "ومعلم",
          "وپخش",
          "پكوير",
          "زكشت",
          "ورنا",
          "وخارزم",
          "خمحور",
          "خاهن",
          "ثاصفا",
          "بكهنوج",
          "شاراك",
          "شپنا",
          "وگردش",
          "بالاس",
          "فگستر",
          "دزهراوي",
          "كطبس",
          "فسپا",
          "وايرا",
          "پارسيان",
          "وپاسار",
          "كپارس",
          "آبين",
          "زگلدشت",
          "وملت",
          "گدنا",
          "پسهند",
          "سيتا",
          "سصفها",
          "قاروم",
          "نبروج",
          "تملت",
          "وسكاب",
          "ولملت",
          "عميلگرد",
          "دسينا",
          "وپسا",
          "شپاكسا",
          "وبيمه",
          "سرود",
          "چدن",
          "داسوه",
          "مديريت",
          "پخش",
          "بهپاك",
          "خريخت",
          "وحكمت",
          "فسازان",
          "ولراز",
          "ثقزوي",
          "سصوفي",
          "زاگرس",
          "درهآور",
          "حسير",
          "ملت",
          "وبشهر",
          "شنفت",
          "سنير",
          "غگلپا",
          "قهكمت",
          "سيلام",
          "ثبهساز",
          "فولاي",
          "زملارد",
          "خلنت",
          "پرديس",
          "قزوين",
          "سكرما",
          "سفارس",
          "ثعمرا",
          "ماديرا",
          "سكارون",
          "ساروم",
          "حپترو",
          "كخاك",
          "غفارس",
          "لطيف",
          "بميلا",
          "شفارا",
          "ثالوند",
          "شاملا",
          "غبهنوش",
          "واحيا",
          "خمهر",
          "وتوسم",
          "ثاخت",
          "خنصير",
          "ثغرب",
          "فمراد",
          "كچاد",
          "وبهمن",
          "دتوليد",
          "دفرا",
          "شصفها",
          "غپينو",
          "ثاميد",
          "اميد",
          "ثرود",
          "نوري",
          "خكمك",
          "تايرا",
          "خبازرس",
          "وهامون",
          "فالوم",
          "كفپارس",
          "وآفري",
          "وزمين",
          "دكيمي",
          "سجام",
          "كنور",
          "بنيرو",
          "غشهد",
          "كسرام",
          "شپديس",
          "فاراك",
          "ثتران",
          "فسديد",
          "سغدير",
          "حآفرين",
          "شغدير",
          "بموتو",
          "وپست",
          "درازك",
          "حتوكا",
          "كوثر",
          "تفارس",
          "غگل",
          "بكام",
          "فافق",
          "وآوا",
          "تاپيكو",
          "شبهرن",
          "كروي",
          "ختراك",
          "كپرور",
          "خودكفا",
          "خفولا",
          "ولغدر",
          "پكرمان",
          "جوين",
          "تاصيكو",
          "دكوثر",
          "پارسان",
          "كفرا",
          "مرقام",
          "بايكا",
          "چافست",
          "پدرخش",
          "كترام",
          "وآرين",
          "چكاوه",
          "غالبر",
          "وملل",
          "وپويا",
          "سباقر",
          "كساوه",
          "زدشت",
          "وهور",
          "فارس",
          "فلامي",
          "ونيكي",
          "تنوين",
          "ساروج",
          "وساخت",
          "كهرام",
          "وغدير",
          "شليا",
          "زشگزا",
          "ميهن",
          "زشريف",
          "خبهمن",
          "سشرق",
          "سدشت",
          "وفتخار",
          "سدور",
          "داراب",
          "شكربن",
          "سپرمي",
          "كيميا",
          "مبين",
          "ركيش",
          "خفنر",
          "فغدير",
          "شمواد",
          "حخزر",
          "كزغال",
          "وبصادر",
          "كساپا",
          "وبوعلي",
          "كاسپين",
          "سيمرغ",
          "غسالم",
          "حفاري",
          "شپلي",
          "ثزاگرس",
          "فخوز",
          "چكاپا",
          "كسعدي",
          "دلقما",
          "پلوله",
          "خكرمان",
          "سپيدار",
          "سهرمز",
          "تيپيكو",
          "ما",
          "بزاگرس",
          "فروي",
          "نمرينو",
          "ومدير",
          "ثجوان",
          "لبوتان",
          "كگهر",
          "تكمبا",
          "فجام",
          "ستران",
          "ثفارس",
          "شسينا",
          "غگرجي",
          "ولشرق",
          "غشان",
          "خوساز",
          "ولقمان",
          "كحافظ",
          "ساوه",
          "جم",
          "سبهان",
          "كلوند",
          "پيزد",
          "خزر",
          "ثنوسا",
          "دجابر",
          "زپارس",
          "ميدكو",
          "واتي",
          "دشيمي",
          "غشهداب",
          "بجهرم",
          "خچرخش",
          "سمازن",
          "رنيك",
          "ونفت",
          "غپاك",
          "قاسم",
          "بركت",
          "ولتجار",
          "دتماد",
          "فاما",
          "سفاسي",
          "ساربيل",
          "شپاس",
          "شبندر",
          "ومشان",
          "حفارس",
          "فملي",
          "تاتمس",
          "سپاها",
          "كگل",
          "شيران",
          "سرچشمه",
          "قشكر",
          "قشرين",
          "اعتلا",
          "شفا",
          "سنوين",
          "خبنيان",
          "وصندوق",
          "سيدكو",
          "فسبزوار",
          "توريل",
          "وساپا",
          "قشهد",
          "آبادا",
          "غويتا",
          "خديزل",
          "كرماشا",
          "فاذر",
          "شتوكا",
          "شيراز",
          "آرمان",
          "شلعاب",
          "خمحركه",
          "نيرو",
          "قرن",
          "بمپنا",
          "كيمياتك",
          "شرنگي",
          "وثخوز",
          "دروز",
          "قصفها",
          "رانفور",
          "شدوص",
          "ثاژن",
          "فولاژ",
          "رتاپ",
          "چخزر",
          "سفار",
          "سهگمت",
          "فجر",
          "بساما",
          "وسديد",
          "تليسه",
          "وملي",
          "پتاير",
          "سخوز",
          "كورز",
          "خاذين",
          "زكوثر",
          "كشرق",
          "كصدف",
          "چنوپا",
          "تپمپي",
          "كبافق",
          "وسبحان",
          "وسرمد",
          "قمرو",
          "دحاوي",
          "كوير",
          "خراسان",
          "فزرين",
          "شفارس",
          "سمايه",
          "وگستر",
          "ودي",
          "شرانل",
          "پشاهن",
          "شگل",
          "فاهواز",
          "كالا",
          "حآسا",
          "گكيش",
          "فروسيل",
          "غچين",
          "خساپا",
          "قثابت",
          "وثنو",
          "ثنظام",
          "ولساپا",
          "صبا",
          "فجهان",
          "غپآذر",
          "سپيد",
          "كايتا",
          "خرينگ",
          "وآفر",
          "سمگا",
          "بترانس",
          "وصنا",
          "وتوكا",
          "ونوين",
          "وخاور",
          "دسانكو",
          "بسويچ",
          "ثتوسا",
          "سيستم",
          "حگهر",
          "واعتبار",
          "وكار",
          "وبانك",
          "ولپارس",
          "ولبهمن",
          "غنوش",
          "شبريز",
          "خگستر",
          "دعبيد",
          "نشار",
          "شسپا",
          "كاذر",
          "فبيرا",
          "افق",
          "كفرآور",
          "جهرم",
          "كيسون",
          "تاپكيش",
          "دامين",
          "خليبل",
          "بوعلي",
          "كمنگنز",
          "لازما",
          "حشكوه",
          "كمرجان",
          "كرمان",
          "آسيا",
          "غشوكو",
          "تابا",
          "شتران",
          "بپاس",
          "سغرب",
          "واميد",
          "دكپسول",
          "تكنار",
          "پلاست",
          "افرا",
          "چكارن",
          "حگردش",
          "وارس",
          "ثپرديس",
          "كمينا",
          "فسرب",
          "بتك",
          "فروس",
          "زبينا",
          "تپكو",
          "وتوشه",
          "آريا",
          "فتوسا",
          "لسرما",
          "سخواف",
          "كباده",
          "لخانه",
          "شلرد",
          "دفارا",
          "شكبير",
          "وسين",
          "حاريا",
          "كرازي",
          "خموتور",
          "غگيلا",
          "وصنعت",
          "غگز",
          "وجامي",
          "كپشير",
          "پلاسك",
          "فنوال",
          "والبر",
          "سمتاز",
          "خفناور",
          "فرابورس",
          "كايزد",
          "امين",
          "ومعادن",
          "ومهان",
          "لوتوس",
          "خكار",
          "ارفع",
          "فنفت",
          "گنگين",
          "پرداخت",
          "ثاباد",
          "شسم",
          "وثوق",
          "گپارس",
          "نوين",
          "غشاذر",
          "ورازي",
          "تماوند",
          "شاوان",
          "بهير",
          "كاوه",
          "دالبر",
          "حكشتي",
          "فلات",
          "سقاين",
          "وهنر",
          "شپارس",
          "وبرق",
          "دابور",
          "ولكار",
          "غشصفا",
          "سلار",
          "غپونه",
          "شكلر",
          "تكشا",
          "سايرا",
          "ونيرو",
          "پاكشو",
          "بالبر",
          "دشيري",
          "ثنور",
          "لابسا",
          "قنيشا",
          "ثشاهد",
          "كقزوي",
          "پاسا",
          "حبندر",
          "اپرداز",
          "خشرق",
          "وتجارت",
          "فنرژي",
          "ساذري",
          "ساينا",
          "سدبير",
          "چفيبر",
          "فجوش",
          "بپيوند",
          "نطرين",
          "ثعتما",
          "خكاوه",
          "غگلستا",
          "وكبهمن",
          "فايرا",
          "گوهران",
          "شفن",
          "لخزر",
          "شزنگ",
          "كتوكا",
          "خودرو",
          "مداران",
          "فافزا",
          "تشتاد",
          "دماوند",
          "شتولي",
          "سبجنو",
          "توسن",
          "ودانا",
          "ددام",
          "ثامان",
          "فوكا",
          "گكوثر",
          "فاسمين",
          "دتوزيع",
          "فباهنر",
          "ولانا",
          "قپيرا",
          "رمپنا",
          "زنگان",
          "كهمدا",
          "سخزر",
          "كماسه",
          "دارو",
          "وتوس",
          "فپنتا",
          "شبصير",
          "همراه",
          "ثباغ",
          "رافزا",
          "ديران",
          "پترول",
          "شكام",
          "بشهاب",
          "ويسا",
          "ددانا",
          "اوان",
          "البرز",
          "ختوقا",
          "فكمند",
          "گشان",
          "دپارس",
          "هرمز",
          "سآبيك",
          "شخارك",
          "بگيلان",
          "زقيام",
          "ذوب",
          "قشير",
          "غبهار",
          "ولصنم",
          "غصينو",
          "سپ",
          "شپترو",
          "پارتا"
         ],
         "xaxis": "x",
         "y": [
          0.00006216885338199513,
          0.0007656004225654226,
          0.0008833540303721027,
          0.00044366000976688,
          0.010668709526755027,
          0.000007501190452653486,
          0.00031887990216220713,
          0.0021524263559073585,
          0.0016693600606060607,
          0.000952462026525199,
          0.000278527543388328,
          0.0034243489716840538,
          0.001533033120967742,
          0.0012317512788901357,
          0.003582614308803301,
          0.0002335752932844933,
          0.00017815778648096032,
          0.005589768412349295,
          0.003315534669891066,
          0.0013047932224546721,
          6.62809829957046e-7,
          0.0012309592252021538,
          0.0001922785080859603,
          0.0012436640287846483,
          0.0020251605575104257,
          0.001294230099604743,
          0,
          0.005451180064516129,
          0.0008047162780058819,
          0.0012306234292124173,
          0.0010800586727793293,
          0,
          0.0028321453170770325,
          0.0004751414633044107,
          0.002285874160282258,
          0.00014853476691905853,
          0.00023617587255611876,
          0.0014318025093950782,
          0.0006490741869542887,
          0.00018238717955938535,
          0.0029905928882010256,
          0.05293258925576068,
          0.000017258909125818233,
          0.00030166832641453033,
          0.00170384666203266,
          0.0013587520110036047,
          0.007298631124401914,
          0.0019178379236016372,
          0.0027771391301529688,
          0.00034568415813341133,
          0.001090013119208277,
          0.014138259182758621,
          0.0007317354103333949,
          0.0008507844552865613,
          0.00020538895148495217,
          0.003284929431792976,
          0.00010888994152393292,
          0.0025720316565779975,
          0.00001950272972223639,
          0.00023657741595113746,
          0.0005523233310810811,
          0.00003108926454659297,
          0.006419449514001807,
          0.00005151074695902689,
          0.0003062825854635048,
          0.0010992889918169375,
          0.00009686410371889584,
          0.0005603669308925662,
          0.0021789683174603175,
          0.0029132481711660967,
          0.0011349824186054403,
          0.0009090257849144375,
          0.00024654949305746843,
          0.00300641622406639,
          0.0008142883822699877,
          0.00009119089323391339,
          0.00027558075324357406,
          0.000007408257669478288,
          0.0022495814340198323,
          0.014139918128174124,
          0.00041798756151737213,
          0.00007420748065697883,
          0.002120972838517415,
          0.00020366260118020375,
          0.00032245397711938985,
          0.000021761998489172403,
          0.001484705785018247,
          0.0031677334407355204,
          0.0011456231061432206,
          0.0021572526161825725,
          0.007121400399257196,
          0.00014838771071549187,
          0.00009245601613770845,
          0.003562003186851888,
          0.0001573899939593146,
          0.0000013494168984037173,
          0.00004031156267685342,
          0.00013803250274390243,
          0.0014134501733032807,
          0,
          0.00023356612662628982,
          0.0013947308103130756,
          0.0005264314148736699,
          0.0005875885122261484,
          0.00018476882391163093,
          0.00047676659731469743,
          0.00006092900534543621,
          0.003728615580287929,
          0.00035865545321637425,
          0.00038478608959439427,
          0.005106883619639797,
          0.004077504249304571,
          0.0017335853179148311,
          0.011774611299619804,
          0.000120675,
          0.00053485291506403,
          0.000594412979876161,
          0.003809055333333333,
          0.0016459242347088819,
          0.00032608198658360245,
          0.00011208509537181488,
          0.00005963331826129602,
          0.001488374096803273,
          0.0031666744813122613,
          0.0005840035529353744,
          0.0005295201885727191,
          0.0005304316314812698,
          0.0037550113619646943,
          0.0014111830888767721,
          0.001257306632751938,
          0.003089467160419186,
          0.0005238372294325413,
          0.0005383591372282608,
          0.00039452456999309867,
          0.0005792874462076385,
          0.00037065655749260056,
          0.004977849818667138,
          0.0006316202285809907,
          0.0060166977289094654,
          0.00008282308358308359,
          0.001182971581517182,
          0.0022539216330935254,
          0.0030253114295627306,
          0.0004992080435719294,
          0.007034765665137614,
          0.0001903464131967639,
          0.00037172361166073076,
          0.00012720955392613284,
          0.0025877761161205775,
          0.00019851455467165315,
          0.0007769579078146935,
          0.0020686054619988062,
          0.0018946639740143368,
          0.04831550610220875,
          0.000011218233090759974,
          0.00011057238525657723,
          0.0018512003853313477,
          0.000044106884185773074,
          0.00012515993360433605,
          0.0024881932413439206,
          0.0002493324868620378,
          0.00002504206271275203,
          0.0062308291104100945,
          0.00014814667264904873,
          0.0013767367904597787,
          0.00013868991340361446,
          0.00021911475434618292,
          0.0006386362974971559,
          0.0004954276113317448,
          0.0015174524684858938,
          0.00001535809325517177,
          1.3484726688102893e-7,
          0.00020687643331112222,
          0.0004074669080307336,
          0.0001769767416456671,
          0.00003353969884065541,
          0.0009937872331080705,
          0.0038719390444309125,
          0.00017826691891268656,
          0.0015736549046079908,
          0.001242870374893978,
          0.0000020254459978786116,
          0.000008046709241250194,
          0.00010098136405001014,
          0.0003446833087246223,
          0.0001718733263891221,
          0.0003374020360322681,
          0.0001008753786169497,
          0.003264764960803481,
          0.00017690959951682206,
          0.005359470686597938,
          0.004162091514862215,
          0.0003703286549587296,
          0.0013157294657347425,
          0.0012232962795672552,
          0.00005092491469436026,
          0.0001957655449368561,
          0.00029815276408043167,
          0.0024307647282311062,
          0.00040832146183359633,
          0.0020721463368677637,
          0.00012143858497447119,
          0.0019933850848216786,
          0.0004842755384231494,
          0.0001812133852295329,
          0.00016673716479663394,
          0.0027731132815053106,
          0.00008820476221557004,
          0.001013230442471591,
          0.002727420856088561,
          0.0004257778502618167,
          0.000371815373628745,
          0.0038476557557889056,
          0.0023534990244386757,
          0.0025004457635918005,
          0.0019483714331871682,
          0.003552010965805391,
          0.0008195354844146927,
          0.00040984909598781107,
          0.0010505062751371115,
          0.0004387694708715471,
          0.0008749771265857586,
          0.00007686072138563599,
          0.00003771911201906707,
          0.0026215983465871437,
          0.00010574526541264192,
          0.00019484199945540484,
          0.000028577959285645206,
          0.002359784885935563,
          0.00018226596980255516,
          0.0009755745926934489,
          0.004491991690956123,
          0.001633847443743818,
          0.005859159744419476,
          0.0017299283071511922,
          0.0007624693479802572,
          0.00047486280938085975,
          0.00006009260445002441,
          0.0011408614322986955,
          0.0011163951878110714,
          0.0000368752599572241,
          0.0011506897267052703,
          0.0014673341836734695,
          0.0009326611747108097,
          0.00014181250157035345,
          0.0009946276543746566,
          0.0023065264860389323,
          0.00006790646563225058,
          0.0009373815231935772,
          0.0005154200750469043,
          0.00017805784993324433,
          0.00035491948018074064,
          0.0010554672535269367,
          0.0006030905163947932,
          0.0013458845297754636,
          0.0010668486705524205,
          0.001299670470559499,
          0.0006705221136034488,
          0.0016235505041503656,
          0.003935551706539075,
          0.00014968459494062346,
          0.0015982249266919338,
          0.002111896773263434,
          0.0002743385916310296,
          0.0004945511296296296,
          0.006121622233273596,
          0.00013674895057549087,
          0.00319261957086552,
          0.00018531176306563392,
          0.00019976415125307125,
          0.0001234675155496625,
          0.0010523619929157346,
          0.00022302893194863492,
          0.000525745357400281,
          0.004744137920938305,
          0.00036316583225806453,
          0.000017788044186575653,
          0.0005815402370607677,
          0.042605330776270454,
          0.0003682618462855003,
          0.012306180924125826,
          0.0019046210160043398,
          0.0008289938593103449,
          0.005566640906035141,
          0.0016599788523493151,
          0.00421722101124573,
          0.000013909784872942094,
          0.002771551412684296,
          0.00011406993300993301,
          0.00002496946628645875,
          0.0004476748396150762,
          0.001568030460970464,
          0.0003956869230769231,
          0.0018735230583988736,
          0.001618291327922168,
          0.0006394514717712078,
          0.00028458544253521606,
          0.000011198023707348552,
          0.00030752060045027146,
          0.001420080933335105,
          0.001528317284503849,
          0.00045439411051064165,
          0.004565397981128385,
          0.00033881666062571416,
          0.00024187981510771748,
          0.00024301110324958123,
          0.0007808302077996854,
          0.00046340104913366334,
          0.0008434542118908424,
          0.000007778151101864694,
          0.0005509533079885454,
          0.00031830741723076923,
          0.0020591792571331875,
          0.00008382525077160494,
          0.00007221195222969606,
          0.00020242332733731713,
          0.004299969728601253,
          0.002787171118430313,
          0.00012375948720183487,
          0.00013680726806789082,
          0.0019135380778309277,
          0.000007953839738646101,
          0.00025102476489832705,
          0.00024680333407052924,
          0.001181308274264592,
          0.0032446041339115744,
          0.0031066883910051066,
          0.00020016526107455312,
          0.0004856391512161542,
          0.010352269637090745,
          0.000018418577696092303,
          0.00006188909357142858,
          0.00023101667417626043,
          0.0006310208663694993,
          0.003090628094692888,
          0.0003440346353838138,
          0.0002934148416568047,
          0.0021127629053866843,
          0.00007876197868280555,
          0.00010327689268349438,
          0.0024406297854489677,
          0.0010953605733788395,
          0.00009963146042324636,
          0.00020909797245392822,
          0.003167382691960253,
          0.0015828079217379927,
          0.007150721240694764,
          0.0009450081064935065,
          0.00023750301620480968,
          0.00028877264612354016,
          0.0009677208836129953,
          0.0009259509426057813,
          0.0013322275037269413,
          0.0004058380038518183,
          0.00004872385624418875,
          0.00023016844331092047,
          0.01021435278779573,
          0.00004035443178160919,
          0.000124028575002037,
          0.0017584691698473282,
          0.0006219675958805881,
          0.0008644465646833067,
          0.0003553358187097485,
          0.00015281579962686566,
          0.00028334855902583197,
          0.0032820468940193193,
          0.0007916808875999562,
          0.0026227017410626755,
          0.0001412554332934291,
          5.1484969214052876e-8,
          0.002414254710672629,
          0.0005644689656146962,
          0.00035834142683244935,
          0.000007686960276338514,
          0,
          0.0007268979383012351,
          0.00028657504155668795,
          0.0006903905246139873,
          0.0008296829166666667,
          0.0005657418204038257,
          0.0002970105099619012,
          0.00008682203394175554,
          0.00010488183606982241,
          0.0026745979773489933,
          0.0012477080881626084,
          0.0003070295916468725,
          0.0035527052365337533,
          0.0011620664659740118,
          0.00015382021604938272,
          0.00013136200393185202,
          0.00010603098291567779,
          0.000034764276094656545,
          0.0008837341636356747,
          0.0010018242159542743,
          0.000029666481089369158,
          0.0004388786947368421,
          0.0014596189630047478,
          0.0016317132220270516,
          0.00445062434390876,
          0.003416137918154938,
          0.0020316089253558855,
          0.0017159373732619611,
          0.00007211382947107317,
          0.00003849618237402375,
          0.0021621587709497207,
          0.0006268422819683908,
          0.000017535665322580646,
          0.002431950133407035,
          0.0008409439497161395,
          0.0020873467548494984,
          0.0006050155331990081,
          0.004128203376857491,
          0.00010600284316739499,
          0.00018885605720191616,
          0.0005517517726783969,
          0.002599229747819353,
          0.000023316706226880394,
          0.004756355693069307,
          0.0005637905094435076,
          0.0013915902874274005,
          0.0013950862041701652,
          0.000021057354474625222,
          0.00012797651857852905,
          0.0007749013934481594,
          0.00047826367958836273,
          0.010247287306971904,
          0.00013499733534465925,
          0.005743060064511005,
          0.0005112862236879606,
          0,
          0.00019627947797738572,
          0.0024821652705601547,
          0.006842509010974892,
          0.0003624039009134811,
          0.0019888928234292787,
          0.0004956669877628195,
          0.0019096450668124392,
          0.0005469235909640375,
          0.0006227460166092057,
          0.000009796028292220123,
          0.00019980370145681727,
          0.00033839564361658956,
          0.0005784354679802955,
          0.0005708846636848711,
          0.0022179161361545697,
          0.0020042877416362958,
          0.00010581266766429311,
          0.005231995117689015,
          0.00009039886660854402,
          0.00020932183728970878,
          0.000035304533554565777,
          0.0002072590365785031,
          0.00009993499080755576,
          0.0004028073965387509,
          0.0002972736152081285,
          0.002781993214733542,
          0.0020767049570736954,
          0.0033201887907074127,
          0.0067344411062817255,
          0.000793516158808933,
          0.000601314328297815,
          0.00010401795263319068,
          0.0013308881180857093,
          0.00006666620000326665,
          0.0008657057341197823,
          0.0009917897134884542,
          0.0010813675209510323,
          0.00044912687875,
          0.00007027332947951905,
          0.014877926822755417,
          0.002319908637827851,
          0.0023701256945772163,
          0.000032074158564529445,
          0.000002389762133743669,
          0.0013519600839482409,
          0.0003574280848567194,
          0.00002345321434037343,
          0.000014255174994682451,
          0.00032691667177757336,
          0.0007524572646034375,
          0.0013935329211831882,
          0.002564435827538931,
          0.00016389127535529715,
          0.004716405773531205,
          0.004264386796978994,
          0.0013430191492805755,
          0.0013678281711310336,
          0.0004190154826227317,
          0.00008978635629020538,
          0.00010480332098765432,
          0.000511957623931624,
          0.002133940752380952,
          0.015367076424035607,
          0.00003147112054641317,
          0.000054017679771570056,
          0.00011610457316631214,
          0.00002511713512374934,
          0.0032393379434300035,
          0.000026968771884801824,
          0.002239127819396051,
          0.0003037385413368514,
          0.00007090458428390367,
          0.0029238174189323137,
          0.0000019603492178974172,
          0.0011825433054035567,
          0.000028331958762624387,
          0.0007009051167441861,
          0.0010444333223167948,
          0.000961620970578592,
          0.0002461811680503865,
          0.0003429943691037736,
          0.008144977721840835,
          0.00017928662082918327,
          0.00015743820167230302,
          0.0005405525960434914,
          0.00003887855254605562,
          0.0002931684288139704,
          0.00511168465841488,
          0.0003624835287023637,
          0.0005021265103056148,
          0.00027221726599629796,
          0.00016873938749384539,
          0.00037560581685881653,
          0.006960021898623724,
          0.00033903922072426256,
          0.00023292732546374367,
          0.0020596341764214047,
          0.0002861168155981855,
          0.0015735704312516373,
          0.0000321280242,
          0.0007464951492313618,
          0.0008416534634146342,
          0.005807830306334969,
          0.00040460763030977553,
          0.001234519972240434,
          0.0010755009219787339,
          0.0006713025388032642,
          0.00039015034123663413,
          0.000013397462707374878,
          0.00021729573901808785,
          0.002613937597935726,
          0.00042758579684398334,
          0.005964557997314434,
          0.01750568765611684,
          0.0028015684744094487,
          0.008999561109333334,
          0.00118573185392096,
          0.000025989910251168868,
          0.0005184433869115959,
          0.00315550854097145,
          0.014583612196465727,
          0.013418681254953838,
          0.002852603936320756,
          0.0013083970837220844,
          0.000028814838880616555,
          0.00007803930119837279,
          0.0007185551237695507,
          0.0001886765230800236,
          0.001909212962962963,
          0.002347305903821088,
          0.0009489269201457196,
          0.005364865316790736,
          0.0007468263746505126,
          0.002241121274417083,
          0.0008283051256930796,
          0.0007383405365507452,
          0.000028802998081096892,
          0.00024434520576131687,
          0,
          0.0011573367447740303,
          0.0005658307133851792,
          0.00015290330737217434,
          0.0010514341684593,
          0.0008432079669444444,
          0.00008262882641291811,
          0.0005399590916116758,
          0.003683722941696113,
          0.0001468810059602849,
          0.00008512583185704514,
          0.007846080319457889,
          0.0014211673401493023,
          0.00223997102143446,
          0.008552509587675979,
          0.00014132879470493353,
          0.00047635269602763384,
          0.0003853937818265524,
          0.00033682554691550026,
          0.000029212476063531262,
          0.003273687481457936,
          0.00012392495718363463,
          0.0037912541926588056,
          0.00047593422631848437,
          0.0007423884839762041,
          0.0005763889126833777,
          0.005148241661097187,
          0.0014020187392966362,
          0.00471298443782412,
          0.00008424013562536076,
          0.004091546298971447,
          0.0013810145468108916,
          0.0019676631760366945,
          0.00011875112064980518,
          0.000030501868642413486,
          0.0019269988024528016,
          0.00004548654397730204,
          0.00007788624221735166,
          0.0011960231986992303,
          0.001550865821285001,
          0.0020464802726464838,
          0.003199775596117882,
          0.0005602549895409107,
          0.00025572477023554606,
          0.00001706437139797508,
          0.0005797067807622505,
          0.00018261740259677953
         ],
         "yaxis": "y"
        }
       ],
       "layout": {
        "barmode": "relative",
        "legend": {
         "tracegroupgap": 0
        },
        "margin": {
         "t": 60
        },
        "template": {
         "data": {
          "bar": [
           {
            "error_x": {
             "color": "#2a3f5f"
            },
            "error_y": {
             "color": "#2a3f5f"
            },
            "marker": {
             "line": {
              "color": "#E5ECF6",
              "width": 0.5
             },
             "pattern": {
              "fillmode": "overlay",
              "size": 10,
              "solidity": 0.2
             }
            },
            "type": "bar"
           }
          ],
          "barpolar": [
           {
            "marker": {
             "line": {
              "color": "#E5ECF6",
              "width": 0.5
             },
             "pattern": {
              "fillmode": "overlay",
              "size": 10,
              "solidity": 0.2
             }
            },
            "type": "barpolar"
           }
          ],
          "carpet": [
           {
            "aaxis": {
             "endlinecolor": "#2a3f5f",
             "gridcolor": "white",
             "linecolor": "white",
             "minorgridcolor": "white",
             "startlinecolor": "#2a3f5f"
            },
            "baxis": {
             "endlinecolor": "#2a3f5f",
             "gridcolor": "white",
             "linecolor": "white",
             "minorgridcolor": "white",
             "startlinecolor": "#2a3f5f"
            },
            "type": "carpet"
           }
          ],
          "choropleth": [
           {
            "colorbar": {
             "outlinewidth": 0,
             "ticks": ""
            },
            "type": "choropleth"
           }
          ],
          "contour": [
           {
            "colorbar": {
             "outlinewidth": 0,
             "ticks": ""
            },
            "colorscale": [
             [
              0,
              "#0d0887"
             ],
             [
              0.1111111111111111,
              "#46039f"
             ],
             [
              0.2222222222222222,
              "#7201a8"
             ],
             [
              0.3333333333333333,
              "#9c179e"
             ],
             [
              0.4444444444444444,
              "#bd3786"
             ],
             [
              0.5555555555555556,
              "#d8576b"
             ],
             [
              0.6666666666666666,
              "#ed7953"
             ],
             [
              0.7777777777777778,
              "#fb9f3a"
             ],
             [
              0.8888888888888888,
              "#fdca26"
             ],
             [
              1,
              "#f0f921"
             ]
            ],
            "type": "contour"
           }
          ],
          "contourcarpet": [
           {
            "colorbar": {
             "outlinewidth": 0,
             "ticks": ""
            },
            "type": "contourcarpet"
           }
          ],
          "heatmap": [
           {
            "colorbar": {
             "outlinewidth": 0,
             "ticks": ""
            },
            "colorscale": [
             [
              0,
              "#0d0887"
             ],
             [
              0.1111111111111111,
              "#46039f"
             ],
             [
              0.2222222222222222,
              "#7201a8"
             ],
             [
              0.3333333333333333,
              "#9c179e"
             ],
             [
              0.4444444444444444,
              "#bd3786"
             ],
             [
              0.5555555555555556,
              "#d8576b"
             ],
             [
              0.6666666666666666,
              "#ed7953"
             ],
             [
              0.7777777777777778,
              "#fb9f3a"
             ],
             [
              0.8888888888888888,
              "#fdca26"
             ],
             [
              1,
              "#f0f921"
             ]
            ],
            "type": "heatmap"
           }
          ],
          "heatmapgl": [
           {
            "colorbar": {
             "outlinewidth": 0,
             "ticks": ""
            },
            "colorscale": [
             [
              0,
              "#0d0887"
             ],
             [
              0.1111111111111111,
              "#46039f"
             ],
             [
              0.2222222222222222,
              "#7201a8"
             ],
             [
              0.3333333333333333,
              "#9c179e"
             ],
             [
              0.4444444444444444,
              "#bd3786"
             ],
             [
              0.5555555555555556,
              "#d8576b"
             ],
             [
              0.6666666666666666,
              "#ed7953"
             ],
             [
              0.7777777777777778,
              "#fb9f3a"
             ],
             [
              0.8888888888888888,
              "#fdca26"
             ],
             [
              1,
              "#f0f921"
             ]
            ],
            "type": "heatmapgl"
           }
          ],
          "histogram": [
           {
            "marker": {
             "pattern": {
              "fillmode": "overlay",
              "size": 10,
              "solidity": 0.2
             }
            },
            "type": "histogram"
           }
          ],
          "histogram2d": [
           {
            "colorbar": {
             "outlinewidth": 0,
             "ticks": ""
            },
            "colorscale": [
             [
              0,
              "#0d0887"
             ],
             [
              0.1111111111111111,
              "#46039f"
             ],
             [
              0.2222222222222222,
              "#7201a8"
             ],
             [
              0.3333333333333333,
              "#9c179e"
             ],
             [
              0.4444444444444444,
              "#bd3786"
             ],
             [
              0.5555555555555556,
              "#d8576b"
             ],
             [
              0.6666666666666666,
              "#ed7953"
             ],
             [
              0.7777777777777778,
              "#fb9f3a"
             ],
             [
              0.8888888888888888,
              "#fdca26"
             ],
             [
              1,
              "#f0f921"
             ]
            ],
            "type": "histogram2d"
           }
          ],
          "histogram2dcontour": [
           {
            "colorbar": {
             "outlinewidth": 0,
             "ticks": ""
            },
            "colorscale": [
             [
              0,
              "#0d0887"
             ],
             [
              0.1111111111111111,
              "#46039f"
             ],
             [
              0.2222222222222222,
              "#7201a8"
             ],
             [
              0.3333333333333333,
              "#9c179e"
             ],
             [
              0.4444444444444444,
              "#bd3786"
             ],
             [
              0.5555555555555556,
              "#d8576b"
             ],
             [
              0.6666666666666666,
              "#ed7953"
             ],
             [
              0.7777777777777778,
              "#fb9f3a"
             ],
             [
              0.8888888888888888,
              "#fdca26"
             ],
             [
              1,
              "#f0f921"
             ]
            ],
            "type": "histogram2dcontour"
           }
          ],
          "mesh3d": [
           {
            "colorbar": {
             "outlinewidth": 0,
             "ticks": ""
            },
            "type": "mesh3d"
           }
          ],
          "parcoords": [
           {
            "line": {
             "colorbar": {
              "outlinewidth": 0,
              "ticks": ""
             }
            },
            "type": "parcoords"
           }
          ],
          "pie": [
           {
            "automargin": true,
            "type": "pie"
           }
          ],
          "scatter": [
           {
            "fillpattern": {
             "fillmode": "overlay",
             "size": 10,
             "solidity": 0.2
            },
            "type": "scatter"
           }
          ],
          "scatter3d": [
           {
            "line": {
             "colorbar": {
              "outlinewidth": 0,
              "ticks": ""
             }
            },
            "marker": {
             "colorbar": {
              "outlinewidth": 0,
              "ticks": ""
             }
            },
            "type": "scatter3d"
           }
          ],
          "scattercarpet": [
           {
            "marker": {
             "colorbar": {
              "outlinewidth": 0,
              "ticks": ""
             }
            },
            "type": "scattercarpet"
           }
          ],
          "scattergeo": [
           {
            "marker": {
             "colorbar": {
              "outlinewidth": 0,
              "ticks": ""
             }
            },
            "type": "scattergeo"
           }
          ],
          "scattergl": [
           {
            "marker": {
             "colorbar": {
              "outlinewidth": 0,
              "ticks": ""
             }
            },
            "type": "scattergl"
           }
          ],
          "scattermapbox": [
           {
            "marker": {
             "colorbar": {
              "outlinewidth": 0,
              "ticks": ""
             }
            },
            "type": "scattermapbox"
           }
          ],
          "scatterpolar": [
           {
            "marker": {
             "colorbar": {
              "outlinewidth": 0,
              "ticks": ""
             }
            },
            "type": "scatterpolar"
           }
          ],
          "scatterpolargl": [
           {
            "marker": {
             "colorbar": {
              "outlinewidth": 0,
              "ticks": ""
             }
            },
            "type": "scatterpolargl"
           }
          ],
          "scatterternary": [
           {
            "marker": {
             "colorbar": {
              "outlinewidth": 0,
              "ticks": ""
             }
            },
            "type": "scatterternary"
           }
          ],
          "surface": [
           {
            "colorbar": {
             "outlinewidth": 0,
             "ticks": ""
            },
            "colorscale": [
             [
              0,
              "#0d0887"
             ],
             [
              0.1111111111111111,
              "#46039f"
             ],
             [
              0.2222222222222222,
              "#7201a8"
             ],
             [
              0.3333333333333333,
              "#9c179e"
             ],
             [
              0.4444444444444444,
              "#bd3786"
             ],
             [
              0.5555555555555556,
              "#d8576b"
             ],
             [
              0.6666666666666666,
              "#ed7953"
             ],
             [
              0.7777777777777778,
              "#fb9f3a"
             ],
             [
              0.8888888888888888,
              "#fdca26"
             ],
             [
              1,
              "#f0f921"
             ]
            ],
            "type": "surface"
           }
          ],
          "table": [
           {
            "cells": {
             "fill": {
              "color": "#EBF0F8"
             },
             "line": {
              "color": "white"
             }
            },
            "header": {
             "fill": {
              "color": "#C8D4E3"
             },
             "line": {
              "color": "white"
             }
            },
            "type": "table"
           }
          ]
         },
         "layout": {
          "annotationdefaults": {
           "arrowcolor": "#2a3f5f",
           "arrowhead": 0,
           "arrowwidth": 1
          },
          "autotypenumbers": "strict",
          "coloraxis": {
           "colorbar": {
            "outlinewidth": 0,
            "ticks": ""
           }
          },
          "colorscale": {
           "diverging": [
            [
             0,
             "#8e0152"
            ],
            [
             0.1,
             "#c51b7d"
            ],
            [
             0.2,
             "#de77ae"
            ],
            [
             0.3,
             "#f1b6da"
            ],
            [
             0.4,
             "#fde0ef"
            ],
            [
             0.5,
             "#f7f7f7"
            ],
            [
             0.6,
             "#e6f5d0"
            ],
            [
             0.7,
             "#b8e186"
            ],
            [
             0.8,
             "#7fbc41"
            ],
            [
             0.9,
             "#4d9221"
            ],
            [
             1,
             "#276419"
            ]
           ],
           "sequential": [
            [
             0,
             "#0d0887"
            ],
            [
             0.1111111111111111,
             "#46039f"
            ],
            [
             0.2222222222222222,
             "#7201a8"
            ],
            [
             0.3333333333333333,
             "#9c179e"
            ],
            [
             0.4444444444444444,
             "#bd3786"
            ],
            [
             0.5555555555555556,
             "#d8576b"
            ],
            [
             0.6666666666666666,
             "#ed7953"
            ],
            [
             0.7777777777777778,
             "#fb9f3a"
            ],
            [
             0.8888888888888888,
             "#fdca26"
            ],
            [
             1,
             "#f0f921"
            ]
           ],
           "sequentialminus": [
            [
             0,
             "#0d0887"
            ],
            [
             0.1111111111111111,
             "#46039f"
            ],
            [
             0.2222222222222222,
             "#7201a8"
            ],
            [
             0.3333333333333333,
             "#9c179e"
            ],
            [
             0.4444444444444444,
             "#bd3786"
            ],
            [
             0.5555555555555556,
             "#d8576b"
            ],
            [
             0.6666666666666666,
             "#ed7953"
            ],
            [
             0.7777777777777778,
             "#fb9f3a"
            ],
            [
             0.8888888888888888,
             "#fdca26"
            ],
            [
             1,
             "#f0f921"
            ]
           ]
          },
          "colorway": [
           "#636efa",
           "#EF553B",
           "#00cc96",
           "#ab63fa",
           "#FFA15A",
           "#19d3f3",
           "#FF6692",
           "#B6E880",
           "#FF97FF",
           "#FECB52"
          ],
          "font": {
           "color": "#2a3f5f"
          },
          "geo": {
           "bgcolor": "white",
           "lakecolor": "white",
           "landcolor": "#E5ECF6",
           "showlakes": true,
           "showland": true,
           "subunitcolor": "white"
          },
          "hoverlabel": {
           "align": "left"
          },
          "hovermode": "closest",
          "mapbox": {
           "style": "light"
          },
          "paper_bgcolor": "white",
          "plot_bgcolor": "#E5ECF6",
          "polar": {
           "angularaxis": {
            "gridcolor": "white",
            "linecolor": "white",
            "ticks": ""
           },
           "bgcolor": "#E5ECF6",
           "radialaxis": {
            "gridcolor": "white",
            "linecolor": "white",
            "ticks": ""
           }
          },
          "scene": {
           "xaxis": {
            "backgroundcolor": "#E5ECF6",
            "gridcolor": "white",
            "gridwidth": 2,
            "linecolor": "white",
            "showbackground": true,
            "ticks": "",
            "zerolinecolor": "white"
           },
           "yaxis": {
            "backgroundcolor": "#E5ECF6",
            "gridcolor": "white",
            "gridwidth": 2,
            "linecolor": "white",
            "showbackground": true,
            "ticks": "",
            "zerolinecolor": "white"
           },
           "zaxis": {
            "backgroundcolor": "#E5ECF6",
            "gridcolor": "white",
            "gridwidth": 2,
            "linecolor": "white",
            "showbackground": true,
            "ticks": "",
            "zerolinecolor": "white"
           }
          },
          "shapedefaults": {
           "line": {
            "color": "#2a3f5f"
           }
          },
          "ternary": {
           "aaxis": {
            "gridcolor": "white",
            "linecolor": "white",
            "ticks": ""
           },
           "baxis": {
            "gridcolor": "white",
            "linecolor": "white",
            "ticks": ""
           },
           "bgcolor": "#E5ECF6",
           "caxis": {
            "gridcolor": "white",
            "linecolor": "white",
            "ticks": ""
           }
          },
          "title": {
           "x": 0.05
          },
          "xaxis": {
           "automargin": true,
           "gridcolor": "white",
           "linecolor": "white",
           "ticks": "",
           "title": {
            "standoff": 15
           },
           "zerolinecolor": "white",
           "zerolinewidth": 2
          },
          "yaxis": {
           "automargin": true,
           "gridcolor": "white",
           "linecolor": "white",
           "ticks": "",
           "title": {
            "standoff": 15
           },
           "zerolinecolor": "white",
           "zerolinewidth": 2
          }
         }
        },
        "xaxis": {
         "anchor": "y",
         "domain": [
          0,
          1
         ],
         "title": {
          "text": "symbol"
         }
        },
        "yaxis": {
         "anchor": "x",
         "domain": [
          0,
          1
         ],
         "title": {
          "text": "y"
         },
         "type": "log"
        }
       }
      }
     },
     "metadata": {},
     "output_type": "display_data"
    }
   ],
   "source": [
    "value_market = data[...] / data[\"Market_cap\"]\n",
    "value_market_bar = px.___(...,\n",
    "           x=... , y=..., log_y=True)\n",
    "value_market_bar.___()"
   ]
  },
  {
   "cell_type": "markdown",
   "metadata": {},
   "source": [
    "<p dir=rtl style=\"direction: rtl;text-align: right;line-height:200%;font-family:vazir;font-size:medium\">\n",
    "<font face=\"vazir\" size=3>\n",
    "حالا سرانه خرید حقیقی را محاسبه میکنیم.برای اینکار ابتدا باید کل مقدار خریداری شده را محاسبه و سپس تقسیم بر تعداد خریداران حقیقی کنیم.با ضرب ستون\n",
    "<code>value</code>\n",
    "در ستون\n",
    "<code>proportion_buy_ind</code>\n",
    "مقدار کل خریداری شده را محاسبه کرده و در ستون جدیدی به نام\n",
    " <code>valueBuy_ind</code>\n",
    " ذخیره کنید.\n",
    "</font>\n",
    "</p>"
   ]
  },
  {
   "cell_type": "code",
   "execution_count": 14,
   "metadata": {},
   "outputs": [],
   "source": [
    "data[\"valueBuy_ind\"] = ..."
   ]
  },
  {
   "cell_type": "markdown",
   "metadata": {},
   "source": [
    "<p dir=rtl style=\"direction: rtl;text-align: right;line-height:200%;font-family:vazir;font-size:medium\">\n",
    "<font face=\"vazir\" size=3>\n",
    "تعداد کل خریداران حقیقی در ستون\n",
    "<code>individual_buy_count</code>\n",
    "قرار دارد با تقسیم ستون\n",
    "<code>valueBuy_ind</code>\n",
    "بر تعداد کل سرانه خرید حقیقی به دست می آید.پس از محاسبه نمودار میله ای آن را برای هر سهم  به صورت مرتب شده رسم کنید.\n",
    "</font>\n",
    "</p>"
   ]
  },
  {
   "cell_type": "code",
   "execution_count": 15,
   "metadata": {},
   "outputs": [
    {
     "data": {
      "application/vnd.plotly.v1+json": {
       "config": {
        "plotlyServerURL": "https://plot.ly"
       },
       "data": [
        {
         "alignmentgroup": "True",
         "hovertemplate": "symbol=%{x}<br>percapitaBuy_ind(Rials)=%{y}<extra></extra>",
         "legendgroup": "",
         "marker": {
          "color": "#636efa",
          "pattern": {
           "shape": ""
          }
         },
         "name": "",
         "offsetgroup": "",
         "orientation": "v",
         "showlegend": false,
         "textposition": "auto",
         "type": "bar",
         "x": [
          "سپرمي",
          "غگز",
          "سكارون",
          "وثوق",
          "تپمپي",
          "كترام",
          "وبرق",
          "وخاور",
          "وآوا",
          "كايزد",
          "قاروم",
          "وساپا",
          "آبين",
          "فجام",
          "تاصيكو",
          "حكشتي",
          "پكرمان",
          "بميلا",
          "خكرمان",
          "دحاوي",
          "غدشت",
          "وسرمد",
          "ورنا",
          "خزاميا",
          "سهگمت",
          "شپترو",
          "خبنيان",
          "فنفت",
          "شلرد",
          "ذوب",
          "شمواد",
          "شپديس",
          "واميد",
          "لازما",
          "خساپا",
          "خمحور",
          "ونيرو",
          "غمينو",
          "خگستر",
          "كسرا",
          "كسرام",
          "خمحركه",
          "خكاوه",
          "ثباغ",
          "سفارود",
          "وبملت",
          "شيراز",
          "ثفارس",
          "كاذر",
          "ثمسكن",
          "قهكمت",
          "فافق",
          "شفا",
          "ثنظام",
          "سبزوا",
          "فگستر",
          "زكوثر",
          "حتايد",
          "فسپا",
          "ثشرق",
          "سصفها",
          "ريشمك",
          "مفاخر",
          "غپينو",
          "دعبيد",
          "غديس",
          "ثجوان",
          "شزنگ",
          "پارسان",
          "سفانو",
          "چكاپا",
          "پشاهن",
          "دسينا",
          "بهپاك",
          "حگهر",
          "كلوند",
          "درهآور",
          "سكرما",
          "خودرو",
          "خپويش",
          "غزر",
          "لطيف",
          "وتوصا",
          "وبانك",
          "وآذر",
          "تاپيكو",
          "غالبر",
          "ثعتما",
          "بپاس",
          "قشهد",
          "وثخوز",
          "كماسه",
          "بهير",
          "خبهمن",
          "خوساز",
          "خمهر",
          "شكربن",
          "غنوش",
          "شاوان",
          "حخزر",
          "حفارس",
          "حپارسا",
          "پترول",
          "زنگان",
          "وتعاون",
          "وغدير",
          "ختوقا",
          "خچرخش",
          "تفارس",
          "فمراد",
          "مداران",
          "جوين",
          "ثاژن",
          "سيلام",
          "بترانس",
          "غبهار",
          "سهرمز",
          "كهمدا",
          "سصوفي",
          "وحكمت",
          "شپنا",
          "سقاين",
          "خرينگ",
          "ستران",
          "كقزوي",
          "سآبيك",
          "وسبحان",
          "گنگين",
          "سيدكو",
          "غپآذر",
          "زپارس",
          "خريخت",
          "فاسمين",
          "غچين",
          "كلر",
          "كحافظ",
          "ثرود",
          "ثالوند",
          "سيمرغ",
          "كاما",
          "فروس",
          "ددانا",
          "وبصادر",
          "پدرخش",
          "تاتمس",
          "ثاباد",
          "چكاوه",
          "فرابورس",
          "كالا",
          "غگل",
          "شغدير",
          "غشان",
          "شليا",
          "شرنگي",
          "ثنور",
          "مرقام",
          "سنوين",
          "شتولي",
          "مديريت",
          "دماوند",
          "سفار",
          "كهرام",
          "زاگرس",
          "شسپا",
          "دفارا",
          "وصندوق",
          "بوعلي",
          "شبصير",
          "بايكا",
          "خنصير",
          "سلار",
          "وپخش",
          "حپترو",
          "كنور",
          "غشوكو",
          "ورازي",
          "لسرما",
          "توريل",
          "قاسم",
          "پتاير",
          "خكار",
          "ثشاهد",
          "كپشير",
          "كرماشا",
          "سدبير",
          "واحيا",
          "دتماد",
          "دپارس",
          "كفرا",
          "فلامي",
          "زفكا",
          "نيرو",
          "قيستو",
          "شبندر",
          "فاذر",
          "بمپنا",
          "حتوكا",
          "وفتخار",
          "اوان",
          "قشرين",
          "وگستر",
          "غمهرا",
          "كاسپين",
          "تماوند",
          "غپونه",
          "ديران",
          "دجابر",
          "فولاي",
          "خودكفا",
          "تيپيكو",
          "فنرژي",
          "وملي",
          "ويسا",
          "حسينا",
          "زشريف",
          "چفيبر",
          "غويتا",
          "ساروم",
          "كمينا",
          "كپارس",
          "قزوين",
          "كمنگنز",
          "وخارزم",
          "ولساپا",
          "خفنر",
          "ونوين",
          "ونيكي",
          "چكارن",
          "سشمال",
          "وتجارت",
          "ومهان",
          "فتوسا",
          "قرن",
          "دشيري",
          "حفاري",
          "ددام",
          "فبيرا",
          "بجهرم",
          "غصينو",
          "شپلي",
          "سفارس",
          "قثابت",
          "گشان",
          "كدما",
          "پرديس",
          "شبهرن",
          "ودي",
          "وثنو",
          "كرازي",
          "آريان",
          "خشرق",
          "كاوه",
          "رانفور",
          "زبينا",
          "پلاسك",
          "زمگسا",
          "نطرين",
          "بزاگرس",
          "شرانل",
          "شتران",
          "تشتاد",
          "غدام",
          "فخوز",
          "فسرب",
          "سپيد",
          "سپاها",
          "خراسان",
          "جم",
          "شكام",
          "غگلپا",
          "غسالم",
          "لخزر",
          "فباهنر",
          "افرا",
          "بركت",
          "سدور",
          "خاذين",
          "حآسا",
          "شوينده",
          "ختراك",
          "وحافظ",
          "سباقر",
          "حسير",
          "كروي",
          "بكهنوج",
          "تايرا",
          "لپارس",
          "شگويا",
          "شكبير",
          "لپيام",
          "خلنت",
          "شفن",
          "ساذري",
          "كفپارس",
          "شصدف",
          "ومدير",
          "غپاك",
          "شيران",
          "وساخت",
          "تليسه",
          "ومعلم",
          "نوري",
          "ثنوسا",
          "زشگزا",
          "وسپه",
          "كيسون",
          "شصفها",
          "وصنا",
          "فاراك",
          "بالبر",
          "توسن",
          "لابسا",
          "كگهر",
          "كساوه",
          "پكوير",
          "فروسيل",
          "غگلستا",
          "ماديرا",
          "دابور",
          "خزر",
          "مبين",
          "شاملا",
          "ولشرق",
          "گكوثر",
          "غفارس",
          "خموتور",
          "خكمك",
          "خاهن",
          "زدشت",
          "تجلي",
          "سخوز",
          "دتوليد",
          "بخاور",
          "وتوكا",
          "داوه",
          "سخزر",
          "فزرين",
          "سمگا",
          "ثاصفا",
          "افق",
          "كسعدي",
          "شتوكا",
          "كساپا",
          "وتوسم",
          "كتوكا",
          "دسانكو",
          "سخواف",
          "فسازان",
          "غشهداب",
          "سمازن",
          "فنوال",
          "حگردش",
          "كرمان",
          "شستا",
          "وارس",
          "دكيمي",
          "ثغرب",
          "وجامي",
          "دكوثر",
          "ثزاگرس",
          "ثتران",
          "ثنام",
          "ومعادن",
          "وبيمه",
          "فارس",
          "ميهن",
          "پاكشو",
          "بپيوند",
          "اعتلا",
          "تاپكيش",
          "كپرور",
          "رمپنا",
          "ركيش",
          "وپسا",
          "پاسا",
          "پسهند",
          "ولغدر",
          "شاروم",
          "دشيمي",
          "ميدكو",
          "وپست",
          "شپاس",
          "وايران",
          "وصنعت",
          "كشرق",
          "غبهنوش",
          "قصفها",
          "پخش",
          "زماهان",
          "شاراك",
          "دالبر",
          "وملل",
          "كمرجان",
          "خديزل",
          "تكمبا",
          "ثاخت",
          "دلر",
          "فولاژ",
          "شخارك",
          "بساما",
          "وكبهمن",
          "سجام",
          "ولانا",
          "ساينا",
          "هجرت",
          "بالاس",
          "قمرو",
          "ثتوسا",
          "زقيام",
          "غشاذر",
          "شدوص",
          "چخزر",
          "دروز",
          "ثعمرا",
          "واتي",
          "فجر",
          "ولملت",
          "كخاك",
          "پارتا",
          "كيميا",
          "وهنر",
          "سمتاز",
          "پلاست",
          "دسبحان",
          "شجم",
          "ومشان",
          "شفارس",
          "فغدير",
          "تكشا",
          "والبر",
          "فرآور",
          "زكشت",
          "گدنا",
          "نوين",
          "كبافق",
          "وسكاب",
          "وبوعلي",
          "سدشت",
          "صبا",
          "فاما",
          "شكلر",
          "سنير",
          "ثبهساز",
          "وتوس",
          "كوثر",
          "پرداخت",
          "فملي",
          "غشصفا",
          "ولصنم",
          "غگيلا",
          "سشرق",
          "البرز",
          "زملارد",
          "چافست",
          "فافزا",
          "ولراز",
          "شلعاب",
          "وآفر",
          "شبريز",
          "دامين",
          "كگل",
          "سغرب",
          "فالوم",
          "اميد",
          "هرمز",
          "آريا",
          "زگلدشت",
          "همراه",
          "كزغال",
          "وكار",
          "چدن",
          "فپنتا",
          "شسينا",
          "سبهان",
          "غگرجي",
          "قنيشا",
          "ولبهمن",
          "ثاميد",
          "شفارا",
          "سرود",
          "فروي",
          "دتوزيع",
          "قشير",
          "كفرآور",
          "بموتو",
          "آبادا",
          "خفناور",
          "وملت",
          "ثپرديس",
          "بشهاب",
          "وآرين",
          "سمايه",
          "سيستم",
          "فكمند",
          "غشهد",
          "دزهراوي",
          "تپكو",
          "دارو",
          "واعتبار",
          "ارفع",
          "پلوله",
          "وگردش",
          "ثامان",
          "پيزد",
          "ملت",
          "دكپسول",
          "شنفت",
          "ما",
          "بكام",
          "فسا",
          "تكنو",
          "كيمياتك",
          "وهامون",
          "پارس",
          "ساراب",
          "بتك",
          "لوتوس",
          "حشكوه",
          "لبوتان",
          "پارسيان",
          "قشكر",
          "وتوشه",
          "اپرداز",
          "رنيك",
          "حآفرين",
          "كوير",
          "فخاس",
          "ساربيل",
          "فاهواز",
          "وايرا",
          "كچاد",
          "شپارس",
          "سخاش",
          "آسيا",
          "وبشهر",
          "وبهمن",
          "سيتا",
          "سبجنو",
          "سپ",
          "ولپارس",
          "خعمرا",
          "سرچشمه",
          "وپاسار",
          "وپويا",
          "ولكار",
          "سفاسي",
          "رتاپ",
          "سپيدار",
          "دلقما",
          "خفولا",
          "تملت",
          "ونفت",
          "ساوه",
          "نمرينو",
          "وهور",
          "وسديد",
          "بگيلان",
          "شپاكسا",
          "دفرا",
          "فايرا",
          "حريل",
          "فجهان",
          "ساروج",
          "تكنار",
          "كايتا",
          "شستان",
          "وسپهر",
          "سايرا",
          "خبازرس",
          "وآفري",
          "حبندر",
          "فوكا",
          "رافزا",
          "خليبل",
          "اپال",
          "داسوه",
          "گكيش",
          "بنيرو",
          "كطبس",
          "آرمان",
          "تنوين",
          "حاريا",
          "قپيرا",
          "امين",
          "فسبزوار",
          "شگل",
          "درازك",
          "سغدير",
          "جهرم",
          "گوهران",
          "بسويچ",
          "ثقزوي",
          "وسين",
          "گپارس",
          "داراب",
          "كصدف",
          "كباده",
          "تابا",
          "لخانه",
          "ولقمان",
          "ولتجار",
          "فلات",
          "فجوش",
          "فسديد",
          "شسم",
          "قنقش",
          "وزمين",
          "نبروج",
          "كورز",
          "كيا",
          "فبستم",
          "عميلگرد",
          "چنوپا",
          "نشار",
          "ودانا"
         ],
         "xaxis": "x",
         "y": [
          1898143500,
          1859480000,
          1388529722.6190476,
          1383102650,
          1379733053.3333333,
          1067133380.8333334,
          1033244550,
          970780073.4204826,
          897801605.5,
          894814012.8235294,
          878574240,
          582147234.6469717,
          577373549.5652174,
          576100269.6517534,
          540520664.8584492,
          516564396.9193451,
          506450266.90615577,
          505852263.92387146,
          487539224.1832231,
          475543527.5,
          471038470.31674206,
          435762280.4705882,
          426870545.63393456,
          424436679.13929397,
          417098579.82434255,
          416632742.8695652,
          411352878.8888889,
          410189160.10638297,
          389634148.1880979,
          373790284.1587861,
          373694168.3333333,
          373141792.78839475,
          368258772.2192058,
          363275550,
          360102162.3923232,
          357264738.75555557,
          349389100.53499424,
          345729455.1164483,
          335520015.4594256,
          335348480.41974276,
          333145812.53530455,
          331272594.5,
          327870878.69789857,
          326561321.72382885,
          326462677.23812854,
          322697280.3390983,
          321839775.08650035,
          318690320.8458701,
          318018217.2580645,
          312655018.4745763,
          309649513.4907027,
          309308584.4225421,
          301526525.5532312,
          299516872.5,
          294603890.42890006,
          288733636.83950615,
          284838832.6140328,
          282212464.07439226,
          277937863.2895977,
          272438670.8235294,
          268289266.32623145,
          267111870.8878728,
          265374209.15075973,
          260518261.2396447,
          260386764.1524076,
          258540483.7317515,
          255834031.91699374,
          255364576.92307693,
          255187515.0779408,
          251452242.39132464,
          247654825.98055133,
          244536300,
          243749779.5303703,
          242862742.66666666,
          242374910.3654765,
          240698116.73615563,
          240484868.43507096,
          240051388.9015152,
          239244972.61948812,
          231127464.77272728,
          230156984.04845965,
          229767647.05346105,
          225225576.16212457,
          224911873.99238387,
          222841072.11229628,
          222701435.9683872,
          220769691.5625,
          220114489.70588234,
          218390826.81230503,
          217586305.1792023,
          217146688.3378734,
          215223197.8305041,
          214739405.23612288,
          214128346.34172514,
          212778361.12903225,
          210731915.64341086,
          208587584.69330597,
          206803067.98872617,
          206655963.54393002,
          206205024.1008961,
          205635895.7063058,
          205270980.9965504,
          204938104.91612536,
          203367526.81003115,
          202421304.29010683,
          202385862.0908495,
          201455150.0240964,
          200988683.07012543,
          199538796.10888702,
          198010869.12519643,
          196644445.27229917,
          196198507.41935483,
          195960894.29846606,
          195392949.58333334,
          194682145.06822243,
          193665442.92682928,
          192828655.46153846,
          190732804.39343378,
          188753417.27172506,
          188145443.5739352,
          185880422.25761276,
          184607167.61954704,
          184500681.37096775,
          183441339.38872707,
          182355867.37582958,
          181528811.43305582,
          180450674.93418875,
          179772441.51097152,
          177129814.9722945,
          176377826.8242164,
          176304254.03903595,
          176186198.2152702,
          175271918.08646792,
          174932249.01408452,
          174844454.57142857,
          174838707.5367873,
          174527895.32210752,
          173645578.84739652,
          173459088.6101553,
          173137606.22489083,
          171628349.06590077,
          171276844.69611683,
          171026985.40159163,
          170141772.37288135,
          168633900,
          168555090.7142857,
          166419038.68611947,
          166083843.37557262,
          165721346.46536413,
          165571056.9658134,
          165081258.09027898,
          165075019.1409244,
          163401827.00476766,
          163288325,
          163066104.94535518,
          163043614.4117647,
          162801186.23076922,
          162550283.75,
          161872109.08653846,
          158285173.8557215,
          158151338.30830655,
          156931000,
          156614721.44363335,
          156579383.28972903,
          156450033.02448002,
          155541023.62488228,
          155185780.31640834,
          154337123.2673409,
          153401224.7368421,
          153164552.31788316,
          152565011.3909976,
          152020640.6706513,
          151882517.2936631,
          151477509.11166814,
          150517734.486374,
          150450653.39557981,
          150339332.14887232,
          149479342.9950237,
          148157704.9421813,
          148091607.33450025,
          147719859.6505791,
          147555277.07070708,
          147193575.27322719,
          145207061.5237141,
          144953479.93413,
          144826962.2021987,
          144606492.4000873,
          144282167.6587753,
          144244298.05801064,
          143854251.0909091,
          142830960.2776902,
          142169552.0946102,
          142080139.1891892,
          141990768.09067017,
          141741610.06387648,
          141409302.00694963,
          141126866.39851224,
          140896386.8888889,
          140883678.0090773,
          140677611.69010007,
          140099093.39655173,
          139562675.85365853,
          139557312.211166,
          139429196.8563963,
          138540611.0526316,
          138409756.47950655,
          138186211.97139692,
          138184418.12030074,
          138085024.08933398,
          138028215.0195094,
          137757468.6912707,
          137561545.0943396,
          136970133.70884025,
          136184295.11563444,
          135801297.02135655,
          135418284.52184993,
          135299732.803066,
          135087471.1241558,
          134942773.63636363,
          134688844.609375,
          134591872.75,
          134495894.3548387,
          134418091.46656287,
          134094200.90465763,
          133570088.19874692,
          133565363.32148619,
          133479744.247746,
          133287378.39631863,
          133122188.91594718,
          132865127.56760265,
          132784170.9321861,
          132750034.66804801,
          132747860.38569722,
          131279643.47826087,
          131061387.18454328,
          129730438.455405,
          128813304.54165767,
          128602606.82278481,
          128412330.86021505,
          128376862.44897959,
          128357923.74731871,
          128251278.09446386,
          127209052.89312688,
          126597691.90235691,
          126531177.43718654,
          126404294.95243013,
          125839265.62725493,
          125580200.42608696,
          125406338.52513291,
          124988750.94664899,
          124433725.15001652,
          124382709.57510239,
          124352692.45416851,
          123466969.31428571,
          123241657.5909091,
          123061688.69305296,
          123042022.19277108,
          122914381.08,
          122839705.67229445,
          122419937.96067938,
          122220956.69492453,
          122117424.8017387,
          121999735.6036131,
          121970707.92307797,
          121943937.15552391,
          121478974.17964719,
          121440061.03728122,
          120949433.0820947,
          120479746.24140444,
          120412797.15189873,
          120006252.6,
          119915899.22818337,
          119894888.14386608,
          119659310.81448185,
          119057470.27152377,
          118725783.08443189,
          118673733.19871795,
          118507436.76970825,
          118282592.82681514,
          117870908.38174275,
          117558082.56907064,
          117460740.91505627,
          117180905.63008292,
          114965811.45529053,
          114698176.80682799,
          114399520.59910633,
          114025897.76684791,
          113791340.44664726,
          113786301.46134993,
          113351894.64074832,
          112829603.91304348,
          112715446.76637863,
          112396423.63207547,
          112322371.97091095,
          112239911.0062893,
          112091692.8074367,
          111994535.79545455,
          111487304.15509784,
          111242025.94549432,
          110848227.97063382,
          110608448.95171155,
          110582632.12905802,
          110532566.78899421,
          110450038.05970149,
          110137397.86334793,
          109813452.98167883,
          109211160.71606995,
          108650736.09156094,
          108226746.32712767,
          108191355.37366572,
          107663410.36463746,
          107388115.7721711,
          107285267.9903618,
          107278272.09821121,
          107216756.01773953,
          107203758.36518236,
          106781507.29656573,
          106618508.63302752,
          106383273.30944104,
          106012753.92142858,
          105880055.60357784,
          105617540.87230343,
          105420257.24427097,
          105056063.0228106,
          104978716.11546881,
          104838818.2887324,
          104754548.85714285,
          104501244.3875253,
          104101834.67289719,
          103770674.65137614,
          103416386.06859887,
          102543924.73158231,
          102017515.20740525,
          101945857.64965825,
          101865766.30610387,
          101718614.44136465,
          101497903.61212963,
          101412811.41281444,
          101289302.26719542,
          100822348.01246205,
          100819417.23777966,
          100293952.5,
          99947801.40625,
          99421130.61904761,
          98872268.44424504,
          97763614.01746725,
          97518421.92771085,
          96849654.47365054,
          96419192.92105263,
          96346485.2105659,
          96240549.43661971,
          96049585.37104072,
          95718150.28442687,
          95613008.38054113,
          95441210.9292815,
          95376324.8,
          95269857.82691783,
          95091087.36507936,
          95037205.1583642,
          94907343.07692307,
          94815122.86226512,
          94083800.68865667,
          94032369.4751207,
          93895036.86703707,
          93797703.09119071,
          93730666.96992962,
          93497104.43338825,
          93427073.79310344,
          93130134.28178787,
          92882386.9201541,
          92426201.65739627,
          92391336.7222304,
          92065717.46716449,
          91988954.64314836,
          91218846.08695652,
          90459767.05882353,
          90136331.64556962,
          90046567.66749418,
          90011948.81634828,
          89933401.87189466,
          89727519.14100708,
          89187315.76923077,
          89172998.40928614,
          89018840.08771929,
          88939098.54475428,
          87949935.0372948,
          87231361.3539135,
          87180241.3642335,
          87024387.59506468,
          86824283.13256589,
          86396266.80190152,
          86223023.82433845,
          86077759.22024707,
          86029636.63157895,
          85671839.72916667,
          85601649.46270084,
          85480465.40496518,
          85235974.46066135,
          83923557.08201906,
          83871829.63690595,
          83429588.33768314,
          83404128.4467898,
          83399487.4,
          83227882.16374269,
          83179829.15298554,
          82842732.0224719,
          81454761.42732815,
          81384043.76470588,
          81136974.96923077,
          80931645.625,
          80829180.7173645,
          80827881.14035088,
          80757625.09803921,
          79770026.85185185,
          79289302.92764471,
          79183004.09122802,
          79107286.00869267,
          78892241.61300197,
          78672749.848269,
          78452187.25038369,
          78224443.13954943,
          78101171.86373326,
          77954197.19509616,
          77884468.03104673,
          77635994.95563954,
          77474352.21928039,
          76782700.90957446,
          76677039.14036115,
          76382092.24806201,
          76166579.23755218,
          75930121.82069768,
          75842543.64640884,
          75657918.78690733,
          75236096.29073195,
          75183710.41575457,
          75178829.24054624,
          74911561.02462865,
          74749245.88466632,
          74630423.54618223,
          74177018.95628737,
          73996020,
          73537517.80893527,
          72451013.07935749,
          72429383.86595245,
          71925538.86712202,
          71851258.0257564,
          71646694.4376457,
          71548842.67904572,
          71492918.67447291,
          71231496.74074075,
          71120617.34383518,
          70601236.82334104,
          70349837.88958271,
          69657732.52097282,
          69539367.85714285,
          69423288.59517832,
          69179942.6222877,
          69145523.25407118,
          68806366.30913202,
          68472276.24734312,
          68214059.70310403,
          68203575.55555555,
          67587985.55247357,
          67507508.8235294,
          67032827.31552306,
          66991260.79351996,
          66925113.04055585,
          66917362.70755288,
          66802727.62352086,
          66761541.82054981,
          66036337.04074735,
          65772879.489051096,
          65753561.21105475,
          65735091.52184778,
          65433688.69354839,
          65388213.438565165,
          65063997.84210526,
          64936606.636379324,
          64328996.94186047,
          64023270.92023618,
          63783838.757062145,
          63745252.344382435,
          63378324.603174604,
          63199058.78787879,
          62680689.207434945,
          62609985.15151515,
          62394835.416666664,
          62291323.6366656,
          61904360.61084449,
          61746509.90196078,
          61188992.82276772,
          60827980.2745098,
          60814026.82005635,
          60679861.11111111,
          60541601.01944318,
          60494525.80263158,
          60407191.5877193,
          60227564.51908024,
          60151878.06438906,
          59501331.467368014,
          59346135.55555555,
          59284582,
          58319874.4,
          57995737.838396765,
          57672758.19033928,
          57625983.314523615,
          57624285.945838116,
          57105335.66040275,
          57041739.959032714,
          56968384.77272727,
          56468973.333333336,
          55307172.81125136,
          53840966.8885183,
          53806941.808611415,
          53690854.44872669,
          53325000,
          53129870.00152494,
          52648633.205882356,
          52559657.14285714,
          52437443.0560367,
          52155726.60638298,
          51422057.02970202,
          50456070.6,
          50318877.81695733,
          50269245.29547472,
          49789646.39786775,
          48829405.50844021,
          48476083.51449184,
          48093260,
          47477812.412552826,
          47431835.16617527,
          47181535.33514636,
          46738200.32803357,
          46193826.37811673,
          46161652.14408113,
          45608233.938415155,
          45497249.54789869,
          44986045.320197046,
          44944928.974358976,
          44318585.22716374,
          44293760,
          44075508.26877591,
          44050407.966991834,
          43790310.775193796,
          43559020.90226293,
          43340928.01369863,
          42401967.66202807,
          42122255.056365125,
          41928839.36923077,
          41623075,
          41216778.92570853,
          41053227.86700141,
          40976174.8390352,
          40409868.75,
          40070786.20989647,
          39987783.41584159,
          39758227.62376238,
          39604514.57865015,
          39573257.8635607,
          39210410.436590135,
          38798838.17888757,
          36507158.47254153,
          35910013.40300457,
          34883915.384615384,
          34790760,
          33361282.545454547,
          32881668.918414745,
          30463459.99367489,
          30255528,
          30077685.19819976,
          30031250,
          29698739.399454586,
          29601165.90909091,
          29119138.46153846,
          27747355.424705923,
          27301742.583477587,
          27087475,
          27009750.464285713,
          26800065.39637884,
          26370462.77523916,
          25870065.051044885,
          25585806.4,
          23729100.43506973,
          22904724.545692284,
          21911857.001767725,
          20493566.850158047,
          20464704.653679796,
          20210166.78950154,
          19974940.81967213,
          19907962.996590164,
          19905103.94736842,
          19809265.384615384,
          19460650,
          16248450,
          14965308,
          14835833.333333334,
          12755309.523809524,
          12672916.666666666,
          12424373.333333334,
          11363505,
          10094484.5,
          8965470,
          7107211.25,
          5700000,
          5389000,
          5327450,
          5032500,
          4590000,
          142150,
          null,
          null,
          null,
          null,
          null,
          null
         ],
         "yaxis": "y"
        }
       ],
       "layout": {
        "barmode": "relative",
        "legend": {
         "tracegroupgap": 0
        },
        "margin": {
         "t": 60
        },
        "template": {
         "data": {
          "bar": [
           {
            "error_x": {
             "color": "#2a3f5f"
            },
            "error_y": {
             "color": "#2a3f5f"
            },
            "marker": {
             "line": {
              "color": "#E5ECF6",
              "width": 0.5
             },
             "pattern": {
              "fillmode": "overlay",
              "size": 10,
              "solidity": 0.2
             }
            },
            "type": "bar"
           }
          ],
          "barpolar": [
           {
            "marker": {
             "line": {
              "color": "#E5ECF6",
              "width": 0.5
             },
             "pattern": {
              "fillmode": "overlay",
              "size": 10,
              "solidity": 0.2
             }
            },
            "type": "barpolar"
           }
          ],
          "carpet": [
           {
            "aaxis": {
             "endlinecolor": "#2a3f5f",
             "gridcolor": "white",
             "linecolor": "white",
             "minorgridcolor": "white",
             "startlinecolor": "#2a3f5f"
            },
            "baxis": {
             "endlinecolor": "#2a3f5f",
             "gridcolor": "white",
             "linecolor": "white",
             "minorgridcolor": "white",
             "startlinecolor": "#2a3f5f"
            },
            "type": "carpet"
           }
          ],
          "choropleth": [
           {
            "colorbar": {
             "outlinewidth": 0,
             "ticks": ""
            },
            "type": "choropleth"
           }
          ],
          "contour": [
           {
            "colorbar": {
             "outlinewidth": 0,
             "ticks": ""
            },
            "colorscale": [
             [
              0,
              "#0d0887"
             ],
             [
              0.1111111111111111,
              "#46039f"
             ],
             [
              0.2222222222222222,
              "#7201a8"
             ],
             [
              0.3333333333333333,
              "#9c179e"
             ],
             [
              0.4444444444444444,
              "#bd3786"
             ],
             [
              0.5555555555555556,
              "#d8576b"
             ],
             [
              0.6666666666666666,
              "#ed7953"
             ],
             [
              0.7777777777777778,
              "#fb9f3a"
             ],
             [
              0.8888888888888888,
              "#fdca26"
             ],
             [
              1,
              "#f0f921"
             ]
            ],
            "type": "contour"
           }
          ],
          "contourcarpet": [
           {
            "colorbar": {
             "outlinewidth": 0,
             "ticks": ""
            },
            "type": "contourcarpet"
           }
          ],
          "heatmap": [
           {
            "colorbar": {
             "outlinewidth": 0,
             "ticks": ""
            },
            "colorscale": [
             [
              0,
              "#0d0887"
             ],
             [
              0.1111111111111111,
              "#46039f"
             ],
             [
              0.2222222222222222,
              "#7201a8"
             ],
             [
              0.3333333333333333,
              "#9c179e"
             ],
             [
              0.4444444444444444,
              "#bd3786"
             ],
             [
              0.5555555555555556,
              "#d8576b"
             ],
             [
              0.6666666666666666,
              "#ed7953"
             ],
             [
              0.7777777777777778,
              "#fb9f3a"
             ],
             [
              0.8888888888888888,
              "#fdca26"
             ],
             [
              1,
              "#f0f921"
             ]
            ],
            "type": "heatmap"
           }
          ],
          "heatmapgl": [
           {
            "colorbar": {
             "outlinewidth": 0,
             "ticks": ""
            },
            "colorscale": [
             [
              0,
              "#0d0887"
             ],
             [
              0.1111111111111111,
              "#46039f"
             ],
             [
              0.2222222222222222,
              "#7201a8"
             ],
             [
              0.3333333333333333,
              "#9c179e"
             ],
             [
              0.4444444444444444,
              "#bd3786"
             ],
             [
              0.5555555555555556,
              "#d8576b"
             ],
             [
              0.6666666666666666,
              "#ed7953"
             ],
             [
              0.7777777777777778,
              "#fb9f3a"
             ],
             [
              0.8888888888888888,
              "#fdca26"
             ],
             [
              1,
              "#f0f921"
             ]
            ],
            "type": "heatmapgl"
           }
          ],
          "histogram": [
           {
            "marker": {
             "pattern": {
              "fillmode": "overlay",
              "size": 10,
              "solidity": 0.2
             }
            },
            "type": "histogram"
           }
          ],
          "histogram2d": [
           {
            "colorbar": {
             "outlinewidth": 0,
             "ticks": ""
            },
            "colorscale": [
             [
              0,
              "#0d0887"
             ],
             [
              0.1111111111111111,
              "#46039f"
             ],
             [
              0.2222222222222222,
              "#7201a8"
             ],
             [
              0.3333333333333333,
              "#9c179e"
             ],
             [
              0.4444444444444444,
              "#bd3786"
             ],
             [
              0.5555555555555556,
              "#d8576b"
             ],
             [
              0.6666666666666666,
              "#ed7953"
             ],
             [
              0.7777777777777778,
              "#fb9f3a"
             ],
             [
              0.8888888888888888,
              "#fdca26"
             ],
             [
              1,
              "#f0f921"
             ]
            ],
            "type": "histogram2d"
           }
          ],
          "histogram2dcontour": [
           {
            "colorbar": {
             "outlinewidth": 0,
             "ticks": ""
            },
            "colorscale": [
             [
              0,
              "#0d0887"
             ],
             [
              0.1111111111111111,
              "#46039f"
             ],
             [
              0.2222222222222222,
              "#7201a8"
             ],
             [
              0.3333333333333333,
              "#9c179e"
             ],
             [
              0.4444444444444444,
              "#bd3786"
             ],
             [
              0.5555555555555556,
              "#d8576b"
             ],
             [
              0.6666666666666666,
              "#ed7953"
             ],
             [
              0.7777777777777778,
              "#fb9f3a"
             ],
             [
              0.8888888888888888,
              "#fdca26"
             ],
             [
              1,
              "#f0f921"
             ]
            ],
            "type": "histogram2dcontour"
           }
          ],
          "mesh3d": [
           {
            "colorbar": {
             "outlinewidth": 0,
             "ticks": ""
            },
            "type": "mesh3d"
           }
          ],
          "parcoords": [
           {
            "line": {
             "colorbar": {
              "outlinewidth": 0,
              "ticks": ""
             }
            },
            "type": "parcoords"
           }
          ],
          "pie": [
           {
            "automargin": true,
            "type": "pie"
           }
          ],
          "scatter": [
           {
            "fillpattern": {
             "fillmode": "overlay",
             "size": 10,
             "solidity": 0.2
            },
            "type": "scatter"
           }
          ],
          "scatter3d": [
           {
            "line": {
             "colorbar": {
              "outlinewidth": 0,
              "ticks": ""
             }
            },
            "marker": {
             "colorbar": {
              "outlinewidth": 0,
              "ticks": ""
             }
            },
            "type": "scatter3d"
           }
          ],
          "scattercarpet": [
           {
            "marker": {
             "colorbar": {
              "outlinewidth": 0,
              "ticks": ""
             }
            },
            "type": "scattercarpet"
           }
          ],
          "scattergeo": [
           {
            "marker": {
             "colorbar": {
              "outlinewidth": 0,
              "ticks": ""
             }
            },
            "type": "scattergeo"
           }
          ],
          "scattergl": [
           {
            "marker": {
             "colorbar": {
              "outlinewidth": 0,
              "ticks": ""
             }
            },
            "type": "scattergl"
           }
          ],
          "scattermapbox": [
           {
            "marker": {
             "colorbar": {
              "outlinewidth": 0,
              "ticks": ""
             }
            },
            "type": "scattermapbox"
           }
          ],
          "scatterpolar": [
           {
            "marker": {
             "colorbar": {
              "outlinewidth": 0,
              "ticks": ""
             }
            },
            "type": "scatterpolar"
           }
          ],
          "scatterpolargl": [
           {
            "marker": {
             "colorbar": {
              "outlinewidth": 0,
              "ticks": ""
             }
            },
            "type": "scatterpolargl"
           }
          ],
          "scatterternary": [
           {
            "marker": {
             "colorbar": {
              "outlinewidth": 0,
              "ticks": ""
             }
            },
            "type": "scatterternary"
           }
          ],
          "surface": [
           {
            "colorbar": {
             "outlinewidth": 0,
             "ticks": ""
            },
            "colorscale": [
             [
              0,
              "#0d0887"
             ],
             [
              0.1111111111111111,
              "#46039f"
             ],
             [
              0.2222222222222222,
              "#7201a8"
             ],
             [
              0.3333333333333333,
              "#9c179e"
             ],
             [
              0.4444444444444444,
              "#bd3786"
             ],
             [
              0.5555555555555556,
              "#d8576b"
             ],
             [
              0.6666666666666666,
              "#ed7953"
             ],
             [
              0.7777777777777778,
              "#fb9f3a"
             ],
             [
              0.8888888888888888,
              "#fdca26"
             ],
             [
              1,
              "#f0f921"
             ]
            ],
            "type": "surface"
           }
          ],
          "table": [
           {
            "cells": {
             "fill": {
              "color": "#EBF0F8"
             },
             "line": {
              "color": "white"
             }
            },
            "header": {
             "fill": {
              "color": "#C8D4E3"
             },
             "line": {
              "color": "white"
             }
            },
            "type": "table"
           }
          ]
         },
         "layout": {
          "annotationdefaults": {
           "arrowcolor": "#2a3f5f",
           "arrowhead": 0,
           "arrowwidth": 1
          },
          "autotypenumbers": "strict",
          "coloraxis": {
           "colorbar": {
            "outlinewidth": 0,
            "ticks": ""
           }
          },
          "colorscale": {
           "diverging": [
            [
             0,
             "#8e0152"
            ],
            [
             0.1,
             "#c51b7d"
            ],
            [
             0.2,
             "#de77ae"
            ],
            [
             0.3,
             "#f1b6da"
            ],
            [
             0.4,
             "#fde0ef"
            ],
            [
             0.5,
             "#f7f7f7"
            ],
            [
             0.6,
             "#e6f5d0"
            ],
            [
             0.7,
             "#b8e186"
            ],
            [
             0.8,
             "#7fbc41"
            ],
            [
             0.9,
             "#4d9221"
            ],
            [
             1,
             "#276419"
            ]
           ],
           "sequential": [
            [
             0,
             "#0d0887"
            ],
            [
             0.1111111111111111,
             "#46039f"
            ],
            [
             0.2222222222222222,
             "#7201a8"
            ],
            [
             0.3333333333333333,
             "#9c179e"
            ],
            [
             0.4444444444444444,
             "#bd3786"
            ],
            [
             0.5555555555555556,
             "#d8576b"
            ],
            [
             0.6666666666666666,
             "#ed7953"
            ],
            [
             0.7777777777777778,
             "#fb9f3a"
            ],
            [
             0.8888888888888888,
             "#fdca26"
            ],
            [
             1,
             "#f0f921"
            ]
           ],
           "sequentialminus": [
            [
             0,
             "#0d0887"
            ],
            [
             0.1111111111111111,
             "#46039f"
            ],
            [
             0.2222222222222222,
             "#7201a8"
            ],
            [
             0.3333333333333333,
             "#9c179e"
            ],
            [
             0.4444444444444444,
             "#bd3786"
            ],
            [
             0.5555555555555556,
             "#d8576b"
            ],
            [
             0.6666666666666666,
             "#ed7953"
            ],
            [
             0.7777777777777778,
             "#fb9f3a"
            ],
            [
             0.8888888888888888,
             "#fdca26"
            ],
            [
             1,
             "#f0f921"
            ]
           ]
          },
          "colorway": [
           "#636efa",
           "#EF553B",
           "#00cc96",
           "#ab63fa",
           "#FFA15A",
           "#19d3f3",
           "#FF6692",
           "#B6E880",
           "#FF97FF",
           "#FECB52"
          ],
          "font": {
           "color": "#2a3f5f"
          },
          "geo": {
           "bgcolor": "white",
           "lakecolor": "white",
           "landcolor": "#E5ECF6",
           "showlakes": true,
           "showland": true,
           "subunitcolor": "white"
          },
          "hoverlabel": {
           "align": "left"
          },
          "hovermode": "closest",
          "mapbox": {
           "style": "light"
          },
          "paper_bgcolor": "white",
          "plot_bgcolor": "#E5ECF6",
          "polar": {
           "angularaxis": {
            "gridcolor": "white",
            "linecolor": "white",
            "ticks": ""
           },
           "bgcolor": "#E5ECF6",
           "radialaxis": {
            "gridcolor": "white",
            "linecolor": "white",
            "ticks": ""
           }
          },
          "scene": {
           "xaxis": {
            "backgroundcolor": "#E5ECF6",
            "gridcolor": "white",
            "gridwidth": 2,
            "linecolor": "white",
            "showbackground": true,
            "ticks": "",
            "zerolinecolor": "white"
           },
           "yaxis": {
            "backgroundcolor": "#E5ECF6",
            "gridcolor": "white",
            "gridwidth": 2,
            "linecolor": "white",
            "showbackground": true,
            "ticks": "",
            "zerolinecolor": "white"
           },
           "zaxis": {
            "backgroundcolor": "#E5ECF6",
            "gridcolor": "white",
            "gridwidth": 2,
            "linecolor": "white",
            "showbackground": true,
            "ticks": "",
            "zerolinecolor": "white"
           }
          },
          "shapedefaults": {
           "line": {
            "color": "#2a3f5f"
           }
          },
          "ternary": {
           "aaxis": {
            "gridcolor": "white",
            "linecolor": "white",
            "ticks": ""
           },
           "baxis": {
            "gridcolor": "white",
            "linecolor": "white",
            "ticks": ""
           },
           "bgcolor": "#E5ECF6",
           "caxis": {
            "gridcolor": "white",
            "linecolor": "white",
            "ticks": ""
           }
          },
          "title": {
           "x": 0.05
          },
          "xaxis": {
           "automargin": true,
           "gridcolor": "white",
           "linecolor": "white",
           "ticks": "",
           "title": {
            "standoff": 15
           },
           "zerolinecolor": "white",
           "zerolinewidth": 2
          },
          "yaxis": {
           "automargin": true,
           "gridcolor": "white",
           "linecolor": "white",
           "ticks": "",
           "title": {
            "standoff": 15
           },
           "zerolinecolor": "white",
           "zerolinewidth": 2
          }
         }
        },
        "xaxis": {
         "anchor": "y",
         "domain": [
          0,
          1
         ],
         "title": {
          "text": "symbol"
         }
        },
        "yaxis": {
         "anchor": "x",
         "domain": [
          0,
          1
         ],
         "title": {
          "text": "percapitaBuy_ind(Rials)"
         },
         "type": "log"
        }
       }
      }
     },
     "metadata": {},
     "output_type": "display_data"
    }
   ],
   "source": [
    "data['percapitaBuy_ind'] = ...\n",
    "percapita_ind_buy = px.___(___.sort_values('percapitaBuy_ind', ascending=False),\n",
    "           x=... , y=..., log_y=True, labels={'percapitaBuy_ind' :'percapitaBuy_ind(Rials)'})\n",
    "percapita_ind_buy.show()"
   ]
  },
  {
   "cell_type": "markdown",
   "metadata": {},
   "source": [
    "<p dir=rtl style=\"direction: rtl;text-align: right;line-height:200%;font-family:vazir;font-size:medium\">\n",
    "<font face=\"vazir\" size=3>\n",
    "مثل سرانه خرید حقیقی سرانه فروش حقیقی را نیز محاسبه و نمودار آن را رسم کنید.\n",
    "</font>\n",
    "</p>"
   ]
  },
  {
   "cell_type": "code",
   "execution_count": 16,
   "metadata": {},
   "outputs": [
    {
     "data": {
      "application/vnd.plotly.v1+json": {
       "config": {
        "plotlyServerURL": "https://plot.ly"
       },
       "data": [
        {
         "alignmentgroup": "True",
         "hovertemplate": "symbol=%{x}<br>percapitaSell_ind=%{y}<extra></extra>",
         "legendgroup": "",
         "marker": {
          "color": "#636efa",
          "pattern": {
           "shape": ""
          }
         },
         "name": "",
         "offsetgroup": "",
         "orientation": "v",
         "showlegend": false,
         "textposition": "auto",
         "type": "bar",
         "x": [
          "لازما",
          "شمواد",
          "فجام",
          "غگز",
          "فافزا",
          "كمينا",
          "وگردش",
          "كاسپين",
          "واميد",
          "بايكا",
          "سكارون",
          "ساذري",
          "مبين",
          "بميلا",
          "حپترو",
          "حفارس",
          "شرنگي",
          "بپاس",
          "خفناور",
          "گنگين",
          "خبنيان",
          "كگهر",
          "سپرمي",
          "فاهواز",
          "خفولا",
          "وتوشه",
          "حتايد",
          "فاسمين",
          "وساپا",
          "ساروم",
          "كايزد",
          "ميدكو",
          "فافق",
          "خكاوه",
          "فنفت",
          "سهرمز",
          "لبوتان",
          "سخزر",
          "ثالوند",
          "حسينا",
          "وتوصا",
          "سفارس",
          "تماوند",
          "دماوند",
          "سهگمت",
          "بساما",
          "وحافظ",
          "شلرد",
          "سفانو",
          "كسرام",
          "تكنو",
          "خريخت",
          "پرديس",
          "شيراز",
          "ورنا",
          "خبازرس",
          "خگستر",
          "وارس",
          "غدشت",
          "ثفارس",
          "ويسا",
          "فخوز",
          "كباده",
          "دتماد",
          "خزاميا",
          "كهرام",
          "خكرمان",
          "كفرآور",
          "پارسان",
          "وخاور",
          "واتي",
          "شاوان",
          "حكشتي",
          "شكام",
          "شپديس",
          "ثجوان",
          "وبملت",
          "كنور",
          "غنوش",
          "لپيام",
          "فلات",
          "شفن",
          "شبندر",
          "نيرو",
          "پخش",
          "ورازي",
          "ميهن",
          "كحافظ",
          "وصندوق",
          "سصوفي",
          "بهير",
          "ثرود",
          "دشيمي",
          "فروس",
          "نوري",
          "لسرما",
          "غمينو",
          "خپويش",
          "فمراد",
          "كسرا",
          "شپلي",
          "فملي",
          "تنوين",
          "كهمدا",
          "ولملت",
          "خفنر",
          "سلار",
          "خساپا",
          "خودرو",
          "تفارس",
          "ريشمك",
          "وپاسار",
          "خبهمن",
          "سبزوا",
          "ديران",
          "حاريا",
          "ركيش",
          "وسديد",
          "خليبل",
          "فباهنر",
          "ذوب",
          "افرا",
          "شپنا",
          "كترام",
          "سفارود",
          "وسرمد",
          "سكرما",
          "كيسون",
          "خرينگ",
          "شيران",
          "كفرا",
          "وثخوز",
          "وسبحان",
          "خوساز",
          "درهآور",
          "شتران",
          "تاصيكو",
          "فرابورس",
          "داراب",
          "ثنور",
          "فنرژي",
          "وآذر",
          "ونيرو",
          "كپارس",
          "كايتا",
          "آريان",
          "بالبر",
          "وخارزم",
          "وثوق",
          "شبهرن",
          "واحيا",
          "شصفها",
          "خمحور",
          "وپست",
          "كاذر",
          "ثنظام",
          "كاما",
          "خچرخش",
          "ثباغ",
          "زاگرس",
          "جم",
          "كلوند",
          "قشرين",
          "كرماشا",
          "گكيش",
          "ودي",
          "كالا",
          "شغدير",
          "ثاژن",
          "ولراز",
          "حپارسا",
          "بمپنا",
          "شفا",
          "گشان",
          "غشوكو",
          "فروسيل",
          "غبهار",
          "وبهمن",
          "بركت",
          "بكهنوج",
          "قهكمت",
          "كخاك",
          "فولاي",
          "وسين",
          "تاتمس",
          "قثابت",
          "كوثر",
          "شجم",
          "وصنا",
          "فوكا",
          "ختوقا",
          "كماسه",
          "فغدير",
          "خودكفا",
          "كدما",
          "دشيري",
          "كقزوي",
          "وتجارت",
          "تليسه",
          "وثنو",
          "فالوم",
          "دروز",
          "وتعاون",
          "زكشت",
          "ختراك",
          "وساخت",
          "مداران",
          "حگهر",
          "سصفها",
          "شوينده",
          "ونيكي",
          "فارس",
          "وپخش",
          "غصينو",
          "ثاباد",
          "افق",
          "تايرا",
          "پلاست",
          "شفارا",
          "تيپيكو",
          "لپارس",
          "وغدير",
          "ستران",
          "سدبير",
          "زنگان",
          "توريل",
          "غپينو",
          "شسپا",
          "ثعتما",
          "خنصير",
          "فاراك",
          "وتوسم",
          "فرآور",
          "شليا",
          "ثشرق",
          "اعتلا",
          "فتوسا",
          "فسپا",
          "خشرق",
          "ولشرق",
          "شبريز",
          "دسينا",
          "غگل",
          "آبين",
          "ثقزوي",
          "شاراك",
          "زمگسا",
          "كرازي",
          "قيستو",
          "پارس",
          "غمهرا",
          "شستا",
          "خمهر",
          "ومعادن",
          "كاوه",
          "فلامي",
          "سفار",
          "غديس",
          "پتاير",
          "سپاها",
          "سدور",
          "وبرق",
          "سمتاز",
          "ولساپا",
          "شرانل",
          "سقاين",
          "پارتا",
          "سيلام",
          "شفارس",
          "شبصير",
          "قاروم",
          "سرچشمه",
          "كتوكا",
          "غويتا",
          "شكربن",
          "تاپيكو",
          "وبصادر",
          "ثاصفا",
          "وپسا",
          "سرود",
          "خمحركه",
          "ساينا",
          "فپنتا",
          "دامين",
          "سمگا",
          "ثمسكن",
          "لخزر",
          "فجوش",
          "پترول",
          "حتوكا",
          "وبانك",
          "سباقر",
          "وملل",
          "كلر",
          "زدشت",
          "سيمرغ",
          "حآسا",
          "غپونه",
          "زفكا",
          "تشتاد",
          "فگستر",
          "وحكمت",
          "داوه",
          "شكبير",
          "خراسان",
          "حگردش",
          "وهنر",
          "قاسم",
          "ثنوسا",
          "فولاژ",
          "فايرا",
          "ولصنم",
          "شپاكسا",
          "غدام",
          "حخزر",
          "كرمان",
          "وبشهر",
          "فاذر",
          "حريل",
          "كساپا",
          "غالبر",
          "وآفر",
          "دحاوي",
          "مفاخر",
          "بترانس",
          "وكار",
          "شزنگ",
          "دلر",
          "پاكشو",
          "وآفري",
          "چفيبر",
          "ولبهمن",
          "حسير",
          "غشهداب",
          "قرن",
          "كبافق",
          "وملت",
          "كروي",
          "ددام",
          "دپارس",
          "زماهان",
          "كساوه",
          "فبيرا",
          "دعبيد",
          "ثشاهد",
          "شنفت",
          "كمرجان",
          "ثغرب",
          "وملي",
          "غشصفا",
          "خموتور",
          "تپكو",
          "چكاوه",
          "رمپنا",
          "سخوز",
          "كپشير",
          "بموتو",
          "ونوين",
          "تاپكيش",
          "قصفها",
          "كچاد",
          "دكپسول",
          "آرمان",
          "ولغدر",
          "فسازان",
          "ومهان",
          "دابور",
          "تجلي",
          "خاهن",
          "شلعاب",
          "پكرمان",
          "سبهان",
          "شكلر",
          "چكاپا",
          "ثزاگرس",
          "شخارك",
          "غگلستا",
          "دسانكو",
          "خلنت",
          "شدوص",
          "خكار",
          "غفارس",
          "نطرين",
          "تپمپي",
          "وايران",
          "كيميا",
          "غپاك",
          "دسبحان",
          "حفاري",
          "وبوعلي",
          "پارسيان",
          "قشهد",
          "ومعلم",
          "پكوير",
          "اوان",
          "كگل",
          "زقيام",
          "پاسا",
          "شسينا",
          "ثتوسا",
          "وگستر",
          "قزوين",
          "خديزل",
          "وفتخار",
          "فكمند",
          "سيدكو",
          "وجامي",
          "زشگزا",
          "سشرق",
          "لابسا",
          "شتولي",
          "ثپرديس",
          "چكارن",
          "وآرين",
          "زپارس",
          "بالاس",
          "دجابر",
          "همراه",
          "غسالم",
          "كمنگنز",
          "زگلدشت",
          "كسعدي",
          "كپرور",
          "وهور",
          "فجر",
          "ثتران",
          "بهپاك",
          "غچين",
          "هرمز",
          "فزرين",
          "پدرخش",
          "فسرب",
          "تكشا",
          "ثاخت",
          "جوين",
          "سنير",
          "آريا",
          "غبهنوش",
          "دكوثر",
          "بشهاب",
          "ساراب",
          "سنوين",
          "غپآذر",
          "كشرق",
          "غشان",
          "ومشان",
          "سمازن",
          "قشير",
          "مرقام",
          "رانفور",
          "دارو",
          "ملت",
          "گكوثر",
          "وتوكا",
          "پرداخت",
          "فخاس",
          "چدن",
          "ثعمرا",
          "سجام",
          "سيستم",
          "خزر",
          "غشاذر",
          "خاذين",
          "پلاسك",
          "زشريف",
          "سپ",
          "ولانا",
          "فنوال",
          "دكيمي",
          "وسكاب",
          "بجهرم",
          "زبينا",
          "وسپه",
          "پلوله",
          "اپرداز",
          "واعتبار",
          "البرز",
          "وتوس",
          "كفپارس",
          "نوين",
          "غزر",
          "سشمال",
          "شصدف",
          "هجرت",
          "دفارا",
          "پسهند",
          "غگلپا",
          "سخواف",
          "شاملا",
          "سخاش",
          "والبر",
          "چافست",
          "دزهراوي",
          "خكمك",
          "شتوكا",
          "ارفع",
          "ثنام",
          "قنيشا",
          "ماديرا",
          "ساربيل",
          "حشكوه",
          "حآفرين",
          "سدشت",
          "آسيا",
          "بوعلي",
          "قشكر",
          "قپيرا",
          "شگويا",
          "لوتوس",
          "وصنعت",
          "كوير",
          "نمرينو",
          "داسوه",
          "تكمبا",
          "غگرجي",
          "سايرا",
          "درازك",
          "ما",
          "سفاسي",
          "فاما",
          "ونفت",
          "بخاور",
          "سپيد",
          "فروي",
          "گوهران",
          "رتاپ",
          "وبيمه",
          "سمايه",
          "دتوزيع",
          "دتوليد",
          "قمرو",
          "شپترو",
          "كصدف",
          "بسويچ",
          "شپاس",
          "ساروج",
          "ومدير",
          "صبا",
          "دلقما",
          "تكنار",
          "بكام",
          "سغرب",
          "دالبر",
          "زكوثر",
          "ثامان",
          "اميد",
          "كطبس",
          "ددانا",
          "شگل",
          "رنيك",
          "مديريت",
          "تابا",
          "وآوا",
          "حبندر",
          "لخانه",
          "وايرا",
          "غشهد",
          "سغدير",
          "پشاهن",
          "بزاگرس",
          "دفرا",
          "فسبزوار",
          "فسا",
          "شپارس",
          "سآبيك",
          "جهرم",
          "بنيرو",
          "لطيف",
          "خعمرا",
          "سبجنو",
          "گپارس",
          "وسپهر",
          "شستان",
          "ولتجار",
          "ساوه",
          "توسن",
          "ولقمان",
          "گدنا",
          "كزغال",
          "ثبهساز",
          "غگيلا",
          "شاروم",
          "كيمياتك",
          "وپويا",
          "زملارد",
          "چخزر",
          "بپيوند",
          "فجهان",
          "پيزد",
          "وهامون",
          "سيتا",
          "ثاميد",
          "اپال",
          "فسديد",
          "قنقش",
          "تملت",
          "آبادا",
          "ولپارس",
          "وكبهمن",
          "بتك",
          "امين",
          "شسم",
          "وزمين",
          "بگيلان",
          "ولكار",
          "رافزا",
          "نبروج",
          "سپيدار",
          "كورز",
          "كيا",
          "فبستم",
          "عميلگرد",
          "چنوپا",
          "نشار",
          "ودانا"
         ],
         "xaxis": "x",
         "y": [
          2906204400,
          2802706262.5,
          2075853562.3224862,
          1859480000,
          1803025575,
          1484370510,
          1185691640,
          861646491.6666666,
          801786118.238236,
          746256442.5,
          671598758.9079224,
          567334328.8095238,
          561984502.1359692,
          561687097.934439,
          531657290.22727275,
          519474633.93162394,
          511431357.5471698,
          507229573.2323232,
          499158683.3333333,
          495605471.3860364,
          492817997.1208485,
          480335839.9202957,
          474535875,
          456885970,
          416230750,
          414578657.3076923,
          402299935.6542053,
          396825690.14379126,
          394885186.5986146,
          393183592.2916667,
          392531589.0145834,
          390541375.4325194,
          379038387.5550773,
          367452303.67697597,
          363845006.8450216,
          363365228.84104836,
          361864242.85714287,
          357511164.34210527,
          356646259.3023256,
          353255217.55324423,
          349733360.93457943,
          343205883.2013986,
          335998987.330494,
          329636628.1432528,
          328495145.08214146,
          326863553.0695614,
          320827385.25409555,
          311071195.5169002,
          308231083.41463417,
          304427882.278481,
          298042560,
          295786386.92741674,
          294806462.5,
          291751033.86642194,
          291259451.2921066,
          289888820,
          283627511.8395887,
          282165010.5882353,
          276125999.8408488,
          275089472.7739334,
          273886456.3703704,
          272129357.7305016,
          267861500,
          266845850.6521739,
          266304861.84495035,
          261551666.66666666,
          258517384.0912263,
          257044508.5,
          255323687.8440541,
          253250529.52691427,
          252400875.4347826,
          251619413.68199638,
          251408082.86904356,
          251052136.71532488,
          247284904.33740506,
          239993766.59951016,
          238306450.28248656,
          238302860.80590445,
          237821891.93931082,
          236836332.2580645,
          236515470,
          233187415.69883335,
          232930209.5192744,
          232489032.2488332,
          227733521.55340245,
          226242402.25891283,
          224769490.1954023,
          224021513.60633397,
          223889867.68321273,
          223013482.4528302,
          218663463.3447099,
          217478799.24476042,
          217031919.37736994,
          216783890.95803303,
          213943224.37704918,
          213698173.27272728,
          213149094.4913794,
          211866842.70833334,
          210376713.48947635,
          208745970.12332395,
          207378008.57142857,
          202880006.39293966,
          202428653.9832694,
          201891716.79741535,
          201568090.7857143,
          201122776.48317066,
          200916679.004329,
          200438384.48564613,
          198404558.63301668,
          197253488.8407186,
          197241204.8111122,
          192602391.42857143,
          192589965.8875883,
          192519304.09130177,
          192029657.96902734,
          191893548,
          190005902.7242384,
          189634915.76086956,
          189274400,
          188800769.43608257,
          188742092.21094188,
          188505591.5625,
          188180528.35206428,
          187889101.27272728,
          187549972.4294547,
          186901954.66666666,
          186057697.92781132,
          186021222.29218772,
          186000686.9105691,
          185994075.20661157,
          185276423.76623377,
          184187075,
          183899992.16129032,
          182278647.8330717,
          181912783.46370894,
          180321926.55131653,
          180270959.88168326,
          180121679.69823298,
          179583696,
          178833433.978205,
          177070793.41463414,
          176386232.12624913,
          176344593.41322565,
          175920123.57142857,
          173953800,
          173949036.482051,
          172732366.0213978,
          172215383.73576716,
          171901246.25,
          171437356.7613253,
          171190623.7517664,
          171051909.25925925,
          169430899.70655733,
          168301695.67777252,
          167932055.0896794,
          167805158.82352942,
          167748680.11813843,
          166409371.84598666,
          165335736.84207067,
          165199676.13980782,
          164409607.0588542,
          163350865.6043956,
          163250290.74728847,
          163041418.9262068,
          162524850,
          161508923.5923913,
          160725863.72142792,
          160384165.88375422,
          160332394.81977075,
          160010426.1111111,
          160003869.82733876,
          159680078.99147144,
          159266307.9613343,
          158017344.5593071,
          157878039.52825898,
          157333871.6981132,
          157233329.9009901,
          157217550.74074075,
          156875364.34862384,
          156683022.95294118,
          155882387.14285713,
          155870653.96845248,
          155750233.98305085,
          155685200,
          155662061.53846154,
          155476264.58390155,
          154756603.8835956,
          154144033.327489,
          154020405.4772069,
          153943244.7777696,
          153276453.38456368,
          153013418.90389398,
          151719423.64534515,
          151677883.98949984,
          151305893.34004024,
          150971590,
          150898069.88235295,
          150795159.53420416,
          150478545.38096935,
          150434615.09375,
          149969896.33036625,
          149768686.54545453,
          149239119.09601066,
          149211960.86956522,
          149088282.4548936,
          149081066.30739123,
          148952716.4172799,
          147886948.5795746,
          147103688.00576222,
          145347869.59013468,
          144895674.94420114,
          144446348.44595292,
          144007695.35935488,
          143842333.549641,
          143638251.2173913,
          142940909.98087642,
          142408323.0443345,
          142305213.18989518,
          141853685.56410256,
          141684789.51054552,
          141520993.08724833,
          141206669.761758,
          141094093.03278688,
          139225883.49834985,
          138987067.22083396,
          138614250.3125,
          138302635.77705622,
          137541032.9466862,
          134844912.6126126,
          134811595.57660958,
          133474294.48343743,
          133266621.89361702,
          132780615.38461539,
          132525679.24142891,
          132337182.43673971,
          132217436.37754595,
          132075163.1574352,
          131506461.70693667,
          130469911.78069925,
          130113290.47265875,
          129629502.34467618,
          129591833.71286239,
          129348814.72178698,
          128912992.89473684,
          128760225,
          128512193.82386507,
          127892533.03571428,
          127727053.01985027,
          127282306.94580056,
          127219616.45797068,
          127157104.66666667,
          126831525.84107782,
          126767405.79943416,
          125444473.42951947,
          125233099.87585013,
          124853456.41695093,
          123488347.42163965,
          123361321.34747021,
          123000423.97501592,
          122884710.76439683,
          122642364.57388715,
          122211720.96774194,
          122081960.65685277,
          121862171.1751964,
          121664234.93713689,
          120873343.2,
          120434454.2,
          120241815.12820514,
          120111076.45687363,
          119675030.33550106,
          119321169.23076923,
          118104161.03095663,
          117180404.65753424,
          116765522.83004324,
          116291964.75924243,
          116214217.6503405,
          116167686.22147834,
          115927409.6,
          115919208.6734694,
          115850052.5925926,
          115738899.82874525,
          115707055.6910569,
          115524160.12820514,
          115017328.25333795,
          114331422.37791902,
          114280821.21805704,
          113948544.64285715,
          113715380,
          113678052.88094111,
          113177231.72199556,
          113089665.25023727,
          112506963.9389635,
          111814888.84351346,
          111670728.28467153,
          111388963.1,
          111176152.21366483,
          111156496.55333911,
          110918816.63125072,
          110490040.7677747,
          110391051.08695652,
          110375204.38008974,
          110229429.49512437,
          109567775.35017961,
          109459501.78571428,
          109429553.81123905,
          109417311.17010309,
          109186207.14285715,
          109183783.42156804,
          108711051.38983051,
          108352377.89748764,
          108332580.625,
          108089194.76785715,
          108012491.9249101,
          107961061.24352331,
          107880950.29381575,
          107836965.23379847,
          107778052.75290784,
          107205611.1539211,
          106718511.43297537,
          106610988.16666667,
          106235039.54887219,
          106056353.30191669,
          105676339.44444445,
          104957439.18149213,
          104796670.77480698,
          104702641.36,
          103741859.375,
          103712574.75409836,
          103638787.74193548,
          103546378,
          103480009.87047023,
          103017996.58333333,
          102713628.61916555,
          102487533.73426573,
          102400928.64357117,
          102121690.35294117,
          101443488.87804878,
          100655246.49861445,
          99960082.94905652,
          99902678.8888889,
          99899315.34348702,
          99792238.29626821,
          99724621.80289835,
          99557330.56198294,
          99227259.58485763,
          98764530.78509744,
          98449551.02564102,
          97777803.23699422,
          97631237.92994095,
          97517799.29870747,
          97174732.65813468,
          96970111.9406179,
          96926786.79998761,
          96461501.60728915,
          95817153.30901007,
          95733159.87179486,
          95707782.1111111,
          95430392.3402635,
          95251061.18421052,
          94271896.31578948,
          94091963.35540447,
          93917724.56140351,
          93730438.95652173,
          93694344.73684211,
          93110762.68074417,
          92542422.6285518,
          91946166.78514023,
          91906143.19301729,
          91508717.2529738,
          91468503.6521739,
          90630491.50936064,
          90527112.16216215,
          90082111.30434783,
          89766904.43560965,
          89405468.11594203,
          89202675.66141865,
          89083652.78998199,
          89001036.22811247,
          88720714.18803419,
          88635401.42857143,
          88173762.58389963,
          88056911.76173928,
          87905107.81608647,
          87688607.72727273,
          87481810.21666667,
          87408656.63551402,
          87216983.62831858,
          87210310.78947368,
          87177685.38961299,
          87146579.61904761,
          86688053.31158702,
          86587872.5,
          86558692.3495104,
          86416107.59813829,
          86094603.4189656,
          85995791.78257881,
          85987554.99456522,
          85634018.7755102,
          85452442.81475702,
          85403008.8888889,
          85313063.66639264,
          85112448.60714976,
          84362236.95383818,
          84174368.87406114,
          84018269.23076923,
          83849739.67741935,
          83204701.44444445,
          83147781.46067415,
          82612325.81988743,
          82310933.39622642,
          81275141.875,
          81057171.45454545,
          80290822.29038735,
          79588656.64539006,
          79199386.35343687,
          78436203.72340426,
          78364030.49506976,
          78298061.3718853,
          78115888.49797891,
          77932200.46728972,
          77817510.24691358,
          77250200.38270581,
          77045186.0227187,
          76947449.78205128,
          76925256.37037037,
          76829683.9632325,
          76659759.29532374,
          76248388.11686225,
          76052225.57522124,
          75998741.886031,
          75742832.16071926,
          75739540.9571597,
          75215953.4351145,
          75037894.44768578,
          74440692.16699551,
          74397424.12006302,
          74388172.51115724,
          74321847.03296703,
          73810446.89674534,
          73696679.07898758,
          73321710.94339623,
          72979842.10344827,
          72902411.19321015,
          72728554.41176471,
          72313232.57579471,
          72269666.66666667,
          71871611.72901754,
          71158514.9504475,
          71018810.96249416,
          70807168.34229954,
          70536410.56304236,
          70529325.11042945,
          70124460.32142857,
          69846982.73337117,
          69827388.41622707,
          69654068.92557973,
          69580606.79397568,
          69477120.16129032,
          69282022.43439072,
          68963450.98250514,
          68457605.24068563,
          68152964.73684211,
          68121677.06101038,
          67782911.675,
          67775557.71079923,
          67417393.46153846,
          67257651.12903225,
          66580802.11264136,
          66233558.88888889,
          65721281.951612905,
          65536932.11605586,
          65474907.96969697,
          65389453.36340186,
          64741238.78787879,
          64687270,
          63742698.24140543,
          63533196.02857143,
          63404186.43678161,
          63279542.40649427,
          63191324.9901844,
          63188629.58926623,
          62654186.494010314,
          62399111.36363637,
          61867030.49194777,
          61829604.991682425,
          61512641.6,
          61360120.42815204,
          61318401.666666664,
          60756919.20145373,
          60680721.86046512,
          60148596.125,
          59357568.51310929,
          58943384.115384616,
          58777176.693657495,
          58708655.12195122,
          58126390.63739996,
          57253686.427545615,
          56662023.460009344,
          56521403.780890435,
          56491513,
          55939172.78125,
          55888124.57247599,
          55583720.64516129,
          54899186.96875,
          54886508.72387571,
          54798332.563402206,
          54633328.10344828,
          53271469.43573727,
          52907381.36118731,
          52854936.302083336,
          52755204.98076923,
          52356394.001683764,
          52078542.06896552,
          52053776.037974685,
          52011393.57692308,
          51722981.57447818,
          51658490.20879822,
          51332678.26107442,
          51030447.5,
          50959124.43663202,
          50374176.61111111,
          49967621.754503585,
          49894392.75083788,
          49746677.90771891,
          49589683.75,
          49041535.171969734,
          48908102.63529412,
          48472296.78125,
          46218833.87096774,
          46214271.80020253,
          46062695.69859322,
          45104860.34367863,
          44507500,
          44492785.681831084,
          44139978.04841453,
          44024740.696440235,
          43576251.33510899,
          43266864.789986536,
          43259913.634920634,
          43189609.52380952,
          42928589.18161477,
          42825500.930232555,
          42706169.454205595,
          42180897.680819295,
          41657053.14285714,
          40986701.78571428,
          40147879.6,
          39752377.382277615,
          39199996.41935484,
          39094736.70942176,
          39040624.189259306,
          38018750,
          37914624.57889761,
          37910416.666666664,
          37273120,
          37071748.80920616,
          36992675.3936467,
          35165948.18181818,
          34933757.14285714,
          34526511.53932584,
          33882623.87096774,
          33782297.978098914,
          30945789.259259257,
          29520399.660714287,
          29075308.282502104,
          28336543.953488372,
          28010111.592592593,
          27243052.782608695,
          26576256,
          26342790,
          24372675,
          21998941.90706764,
          20387450.444444444,
          20188969,
          19891549.992928855,
          19726217.134125967,
          18939175,
          17899220.471204206,
          17829589.518716577,
          17803143.956356592,
          17553362.454473052,
          14673401.43772969,
          14261738.941681296,
          13879484.25061425,
          13766541.409574468,
          13711326.560674071,
          13638935.116966955,
          13289014.439572088,
          13107689.553595388,
          12873316.204636168,
          12414351.70559685,
          12350927.61220614,
          12064676.192468619,
          11400000,
          10654900,
          8990918.097681396,
          7660274.339951258,
          7318565.322421201,
          6783494.747738092,
          5925000,
          5536846.765027757,
          5389000,
          5032500,
          4992981.222792623,
          3994285.5011655013,
          2371833.901970085,
          2295000,
          1882483.528420058,
          142150,
          null,
          null,
          null,
          null,
          null,
          null
         ],
         "yaxis": "y"
        }
       ],
       "layout": {
        "barmode": "relative",
        "legend": {
         "tracegroupgap": 0
        },
        "margin": {
         "t": 60
        },
        "template": {
         "data": {
          "bar": [
           {
            "error_x": {
             "color": "#2a3f5f"
            },
            "error_y": {
             "color": "#2a3f5f"
            },
            "marker": {
             "line": {
              "color": "#E5ECF6",
              "width": 0.5
             },
             "pattern": {
              "fillmode": "overlay",
              "size": 10,
              "solidity": 0.2
             }
            },
            "type": "bar"
           }
          ],
          "barpolar": [
           {
            "marker": {
             "line": {
              "color": "#E5ECF6",
              "width": 0.5
             },
             "pattern": {
              "fillmode": "overlay",
              "size": 10,
              "solidity": 0.2
             }
            },
            "type": "barpolar"
           }
          ],
          "carpet": [
           {
            "aaxis": {
             "endlinecolor": "#2a3f5f",
             "gridcolor": "white",
             "linecolor": "white",
             "minorgridcolor": "white",
             "startlinecolor": "#2a3f5f"
            },
            "baxis": {
             "endlinecolor": "#2a3f5f",
             "gridcolor": "white",
             "linecolor": "white",
             "minorgridcolor": "white",
             "startlinecolor": "#2a3f5f"
            },
            "type": "carpet"
           }
          ],
          "choropleth": [
           {
            "colorbar": {
             "outlinewidth": 0,
             "ticks": ""
            },
            "type": "choropleth"
           }
          ],
          "contour": [
           {
            "colorbar": {
             "outlinewidth": 0,
             "ticks": ""
            },
            "colorscale": [
             [
              0,
              "#0d0887"
             ],
             [
              0.1111111111111111,
              "#46039f"
             ],
             [
              0.2222222222222222,
              "#7201a8"
             ],
             [
              0.3333333333333333,
              "#9c179e"
             ],
             [
              0.4444444444444444,
              "#bd3786"
             ],
             [
              0.5555555555555556,
              "#d8576b"
             ],
             [
              0.6666666666666666,
              "#ed7953"
             ],
             [
              0.7777777777777778,
              "#fb9f3a"
             ],
             [
              0.8888888888888888,
              "#fdca26"
             ],
             [
              1,
              "#f0f921"
             ]
            ],
            "type": "contour"
           }
          ],
          "contourcarpet": [
           {
            "colorbar": {
             "outlinewidth": 0,
             "ticks": ""
            },
            "type": "contourcarpet"
           }
          ],
          "heatmap": [
           {
            "colorbar": {
             "outlinewidth": 0,
             "ticks": ""
            },
            "colorscale": [
             [
              0,
              "#0d0887"
             ],
             [
              0.1111111111111111,
              "#46039f"
             ],
             [
              0.2222222222222222,
              "#7201a8"
             ],
             [
              0.3333333333333333,
              "#9c179e"
             ],
             [
              0.4444444444444444,
              "#bd3786"
             ],
             [
              0.5555555555555556,
              "#d8576b"
             ],
             [
              0.6666666666666666,
              "#ed7953"
             ],
             [
              0.7777777777777778,
              "#fb9f3a"
             ],
             [
              0.8888888888888888,
              "#fdca26"
             ],
             [
              1,
              "#f0f921"
             ]
            ],
            "type": "heatmap"
           }
          ],
          "heatmapgl": [
           {
            "colorbar": {
             "outlinewidth": 0,
             "ticks": ""
            },
            "colorscale": [
             [
              0,
              "#0d0887"
             ],
             [
              0.1111111111111111,
              "#46039f"
             ],
             [
              0.2222222222222222,
              "#7201a8"
             ],
             [
              0.3333333333333333,
              "#9c179e"
             ],
             [
              0.4444444444444444,
              "#bd3786"
             ],
             [
              0.5555555555555556,
              "#d8576b"
             ],
             [
              0.6666666666666666,
              "#ed7953"
             ],
             [
              0.7777777777777778,
              "#fb9f3a"
             ],
             [
              0.8888888888888888,
              "#fdca26"
             ],
             [
              1,
              "#f0f921"
             ]
            ],
            "type": "heatmapgl"
           }
          ],
          "histogram": [
           {
            "marker": {
             "pattern": {
              "fillmode": "overlay",
              "size": 10,
              "solidity": 0.2
             }
            },
            "type": "histogram"
           }
          ],
          "histogram2d": [
           {
            "colorbar": {
             "outlinewidth": 0,
             "ticks": ""
            },
            "colorscale": [
             [
              0,
              "#0d0887"
             ],
             [
              0.1111111111111111,
              "#46039f"
             ],
             [
              0.2222222222222222,
              "#7201a8"
             ],
             [
              0.3333333333333333,
              "#9c179e"
             ],
             [
              0.4444444444444444,
              "#bd3786"
             ],
             [
              0.5555555555555556,
              "#d8576b"
             ],
             [
              0.6666666666666666,
              "#ed7953"
             ],
             [
              0.7777777777777778,
              "#fb9f3a"
             ],
             [
              0.8888888888888888,
              "#fdca26"
             ],
             [
              1,
              "#f0f921"
             ]
            ],
            "type": "histogram2d"
           }
          ],
          "histogram2dcontour": [
           {
            "colorbar": {
             "outlinewidth": 0,
             "ticks": ""
            },
            "colorscale": [
             [
              0,
              "#0d0887"
             ],
             [
              0.1111111111111111,
              "#46039f"
             ],
             [
              0.2222222222222222,
              "#7201a8"
             ],
             [
              0.3333333333333333,
              "#9c179e"
             ],
             [
              0.4444444444444444,
              "#bd3786"
             ],
             [
              0.5555555555555556,
              "#d8576b"
             ],
             [
              0.6666666666666666,
              "#ed7953"
             ],
             [
              0.7777777777777778,
              "#fb9f3a"
             ],
             [
              0.8888888888888888,
              "#fdca26"
             ],
             [
              1,
              "#f0f921"
             ]
            ],
            "type": "histogram2dcontour"
           }
          ],
          "mesh3d": [
           {
            "colorbar": {
             "outlinewidth": 0,
             "ticks": ""
            },
            "type": "mesh3d"
           }
          ],
          "parcoords": [
           {
            "line": {
             "colorbar": {
              "outlinewidth": 0,
              "ticks": ""
             }
            },
            "type": "parcoords"
           }
          ],
          "pie": [
           {
            "automargin": true,
            "type": "pie"
           }
          ],
          "scatter": [
           {
            "fillpattern": {
             "fillmode": "overlay",
             "size": 10,
             "solidity": 0.2
            },
            "type": "scatter"
           }
          ],
          "scatter3d": [
           {
            "line": {
             "colorbar": {
              "outlinewidth": 0,
              "ticks": ""
             }
            },
            "marker": {
             "colorbar": {
              "outlinewidth": 0,
              "ticks": ""
             }
            },
            "type": "scatter3d"
           }
          ],
          "scattercarpet": [
           {
            "marker": {
             "colorbar": {
              "outlinewidth": 0,
              "ticks": ""
             }
            },
            "type": "scattercarpet"
           }
          ],
          "scattergeo": [
           {
            "marker": {
             "colorbar": {
              "outlinewidth": 0,
              "ticks": ""
             }
            },
            "type": "scattergeo"
           }
          ],
          "scattergl": [
           {
            "marker": {
             "colorbar": {
              "outlinewidth": 0,
              "ticks": ""
             }
            },
            "type": "scattergl"
           }
          ],
          "scattermapbox": [
           {
            "marker": {
             "colorbar": {
              "outlinewidth": 0,
              "ticks": ""
             }
            },
            "type": "scattermapbox"
           }
          ],
          "scatterpolar": [
           {
            "marker": {
             "colorbar": {
              "outlinewidth": 0,
              "ticks": ""
             }
            },
            "type": "scatterpolar"
           }
          ],
          "scatterpolargl": [
           {
            "marker": {
             "colorbar": {
              "outlinewidth": 0,
              "ticks": ""
             }
            },
            "type": "scatterpolargl"
           }
          ],
          "scatterternary": [
           {
            "marker": {
             "colorbar": {
              "outlinewidth": 0,
              "ticks": ""
             }
            },
            "type": "scatterternary"
           }
          ],
          "surface": [
           {
            "colorbar": {
             "outlinewidth": 0,
             "ticks": ""
            },
            "colorscale": [
             [
              0,
              "#0d0887"
             ],
             [
              0.1111111111111111,
              "#46039f"
             ],
             [
              0.2222222222222222,
              "#7201a8"
             ],
             [
              0.3333333333333333,
              "#9c179e"
             ],
             [
              0.4444444444444444,
              "#bd3786"
             ],
             [
              0.5555555555555556,
              "#d8576b"
             ],
             [
              0.6666666666666666,
              "#ed7953"
             ],
             [
              0.7777777777777778,
              "#fb9f3a"
             ],
             [
              0.8888888888888888,
              "#fdca26"
             ],
             [
              1,
              "#f0f921"
             ]
            ],
            "type": "surface"
           }
          ],
          "table": [
           {
            "cells": {
             "fill": {
              "color": "#EBF0F8"
             },
             "line": {
              "color": "white"
             }
            },
            "header": {
             "fill": {
              "color": "#C8D4E3"
             },
             "line": {
              "color": "white"
             }
            },
            "type": "table"
           }
          ]
         },
         "layout": {
          "annotationdefaults": {
           "arrowcolor": "#2a3f5f",
           "arrowhead": 0,
           "arrowwidth": 1
          },
          "autotypenumbers": "strict",
          "coloraxis": {
           "colorbar": {
            "outlinewidth": 0,
            "ticks": ""
           }
          },
          "colorscale": {
           "diverging": [
            [
             0,
             "#8e0152"
            ],
            [
             0.1,
             "#c51b7d"
            ],
            [
             0.2,
             "#de77ae"
            ],
            [
             0.3,
             "#f1b6da"
            ],
            [
             0.4,
             "#fde0ef"
            ],
            [
             0.5,
             "#f7f7f7"
            ],
            [
             0.6,
             "#e6f5d0"
            ],
            [
             0.7,
             "#b8e186"
            ],
            [
             0.8,
             "#7fbc41"
            ],
            [
             0.9,
             "#4d9221"
            ],
            [
             1,
             "#276419"
            ]
           ],
           "sequential": [
            [
             0,
             "#0d0887"
            ],
            [
             0.1111111111111111,
             "#46039f"
            ],
            [
             0.2222222222222222,
             "#7201a8"
            ],
            [
             0.3333333333333333,
             "#9c179e"
            ],
            [
             0.4444444444444444,
             "#bd3786"
            ],
            [
             0.5555555555555556,
             "#d8576b"
            ],
            [
             0.6666666666666666,
             "#ed7953"
            ],
            [
             0.7777777777777778,
             "#fb9f3a"
            ],
            [
             0.8888888888888888,
             "#fdca26"
            ],
            [
             1,
             "#f0f921"
            ]
           ],
           "sequentialminus": [
            [
             0,
             "#0d0887"
            ],
            [
             0.1111111111111111,
             "#46039f"
            ],
            [
             0.2222222222222222,
             "#7201a8"
            ],
            [
             0.3333333333333333,
             "#9c179e"
            ],
            [
             0.4444444444444444,
             "#bd3786"
            ],
            [
             0.5555555555555556,
             "#d8576b"
            ],
            [
             0.6666666666666666,
             "#ed7953"
            ],
            [
             0.7777777777777778,
             "#fb9f3a"
            ],
            [
             0.8888888888888888,
             "#fdca26"
            ],
            [
             1,
             "#f0f921"
            ]
           ]
          },
          "colorway": [
           "#636efa",
           "#EF553B",
           "#00cc96",
           "#ab63fa",
           "#FFA15A",
           "#19d3f3",
           "#FF6692",
           "#B6E880",
           "#FF97FF",
           "#FECB52"
          ],
          "font": {
           "color": "#2a3f5f"
          },
          "geo": {
           "bgcolor": "white",
           "lakecolor": "white",
           "landcolor": "#E5ECF6",
           "showlakes": true,
           "showland": true,
           "subunitcolor": "white"
          },
          "hoverlabel": {
           "align": "left"
          },
          "hovermode": "closest",
          "mapbox": {
           "style": "light"
          },
          "paper_bgcolor": "white",
          "plot_bgcolor": "#E5ECF6",
          "polar": {
           "angularaxis": {
            "gridcolor": "white",
            "linecolor": "white",
            "ticks": ""
           },
           "bgcolor": "#E5ECF6",
           "radialaxis": {
            "gridcolor": "white",
            "linecolor": "white",
            "ticks": ""
           }
          },
          "scene": {
           "xaxis": {
            "backgroundcolor": "#E5ECF6",
            "gridcolor": "white",
            "gridwidth": 2,
            "linecolor": "white",
            "showbackground": true,
            "ticks": "",
            "zerolinecolor": "white"
           },
           "yaxis": {
            "backgroundcolor": "#E5ECF6",
            "gridcolor": "white",
            "gridwidth": 2,
            "linecolor": "white",
            "showbackground": true,
            "ticks": "",
            "zerolinecolor": "white"
           },
           "zaxis": {
            "backgroundcolor": "#E5ECF6",
            "gridcolor": "white",
            "gridwidth": 2,
            "linecolor": "white",
            "showbackground": true,
            "ticks": "",
            "zerolinecolor": "white"
           }
          },
          "shapedefaults": {
           "line": {
            "color": "#2a3f5f"
           }
          },
          "ternary": {
           "aaxis": {
            "gridcolor": "white",
            "linecolor": "white",
            "ticks": ""
           },
           "baxis": {
            "gridcolor": "white",
            "linecolor": "white",
            "ticks": ""
           },
           "bgcolor": "#E5ECF6",
           "caxis": {
            "gridcolor": "white",
            "linecolor": "white",
            "ticks": ""
           }
          },
          "title": {
           "x": 0.05
          },
          "xaxis": {
           "automargin": true,
           "gridcolor": "white",
           "linecolor": "white",
           "ticks": "",
           "title": {
            "standoff": 15
           },
           "zerolinecolor": "white",
           "zerolinewidth": 2
          },
          "yaxis": {
           "automargin": true,
           "gridcolor": "white",
           "linecolor": "white",
           "ticks": "",
           "title": {
            "standoff": 15
           },
           "zerolinecolor": "white",
           "zerolinewidth": 2
          }
         }
        },
        "xaxis": {
         "anchor": "y",
         "domain": [
          0,
          1
         ],
         "title": {
          "text": "symbol"
         }
        },
        "yaxis": {
         "anchor": "x",
         "domain": [
          0,
          1
         ],
         "title": {
          "text": "percapitaSell_ind"
         },
         "type": "log"
        }
       }
      }
     },
     "metadata": {},
     "output_type": "display_data"
    }
   ],
   "source": [
    "#calculate percapita sell individual\n",
    "data['valueSell_ind'] = ...\n",
    "data['percapitaSell_ind'] = ...\n",
    "percapita_ind_sell = px.__(___.sort_values('percapitaSell_ind', ascending=False),\n",
    "           x=... , y=..., log_y=True, labels={'percapitaBuy_ind' :'percapitaBuy_ind(Rials)'})\n",
    "percapita_ind_sell.show()"
   ]
  },
  {
   "cell_type": "markdown",
   "metadata": {},
   "source": [
    "<p dir=rtl style=\"direction: rtl;text-align: right;line-height:200%;font-family:vazir;font-size:medium\">\n",
    "<font face=\"vazir\" size=3>\n",
    "با استفاده از سرانه خرید حقیقی و فروش حقیقی\n",
    "<code>Power ratio</code>\n",
    "را محاسبه و به عنوان ستون جدید به\n",
    "نام\n",
    "<code>powerRatio_ind</code>\n",
    "به\n",
    " دیتافریم اضافه کنید.\n",
    "</font>\n",
    "</p>"
   ]
  },
  {
   "cell_type": "code",
   "execution_count": 17,
   "metadata": {},
   "outputs": [
    {
     "data": {
      "text/plain": [
       "0      1.494693\n",
       "1      1.798742\n",
       "2      1.840909\n",
       "3      0.571846\n",
       "4      1.530256\n",
       "         ...   \n",
       "610    0.661425\n",
       "611    0.892730\n",
       "612    0.666667\n",
       "613    9.236981\n",
       "614    0.653241\n",
       "Name: powerRatio_ind, Length: 615, dtype: float64"
      ]
     },
     "execution_count": 17,
     "metadata": {},
     "output_type": "execute_result"
    }
   ],
   "source": [
    "# calculate power ratio\n",
    "data['powerRatio_ind'] = ...\n",
    "data[\"powerRatio_ind\"]"
   ]
  },
  {
   "cell_type": "markdown",
   "metadata": {},
   "source": [
    "<p dir=rtl style=\"direction: rtl;text-align: right;line-height:200%;font-family:vazir;font-size:medium\">\n",
    "<font face=\"vazir\" size=3>\n",
    "تابع\n",
    "<code>get_adjusted_single_ticker_history</code>\n",
    "در ورودی شناسه یکتای سهم را میگیرد و اطلاعات آن را برای رسم نمودار\n",
    "<code>Candle stick</code>\n",
    "برمیگرداند.برای استفاده از تابع ابتدا آن را\n",
    "از فایل\n",
    "<code>getData</code>\n",
    " به محیط کاری خود اضافه کنید.\n",
    "</font>\n",
    "</p>"
   ]
  },
  {
   "cell_type": "code",
   "execution_count": 18,
   "metadata": {},
   "outputs": [],
   "source": [
    "from getData import get_adjusted_single_ticker_history"
   ]
  },
  {
   "cell_type": "markdown",
   "metadata": {},
   "source": [
    "<p dir=rtl style=\"direction: rtl;text-align: right;line-height:200%;font-family:vazir;font-size:medium\">\n",
    "<font face=\"vazir\" size=3>\n",
    "منظور از شناسه یکتای سهم مقدار ستون\n",
    "<code>id</code>\n",
    "است.در سلول زیر تابع اضافه شده را با\n",
    "<code>stock_id</code>\n",
    "فراخوانی میکنیم.\n",
    "</font>\n",
    "</p>"
   ]
  },
  {
   "cell_type": "code",
   "execution_count": 19,
   "metadata": {},
   "outputs": [],
   "source": [
    "stock_id = '71856634742001725'\n",
    "#call get_single_ticker_history with stock_id\n",
    "ticker = get_adjusted_single_ticker_history(...)"
   ]
  },
  {
   "cell_type": "markdown",
   "metadata": {},
   "source": [
    "<p dir=rtl style=\"direction: rtl;text-align: right;line-height:200%;font-family:vazir;font-size:medium\">\n",
    "<font face=\"vazir\" size=3>\n",
    "دیتافریم به دست آمده را بررسی کنید.\n",
    "</font>\n",
    "</p>"
   ]
  },
  {
   "cell_type": "code",
   "execution_count": 20,
   "metadata": {},
   "outputs": [
    {
     "data": {
      "text/html": [
       "<div>\n",
       "<style scoped>\n",
       "    .dataframe tbody tr th:only-of-type {\n",
       "        vertical-align: middle;\n",
       "    }\n",
       "\n",
       "    .dataframe tbody tr th {\n",
       "        vertical-align: top;\n",
       "    }\n",
       "\n",
       "    .dataframe thead th {\n",
       "        text-align: right;\n",
       "    }\n",
       "</style>\n",
       "<table border=\"1\" class=\"dataframe\">\n",
       "  <thead>\n",
       "    <tr style=\"text-align: right;\">\n",
       "      <th></th>\n",
       "      <th>high</th>\n",
       "      <th>low</th>\n",
       "      <th>first</th>\n",
       "      <th>last</th>\n",
       "      <th>volume</th>\n",
       "      <th>close</th>\n",
       "      <th>return</th>\n",
       "    </tr>\n",
       "    <tr>\n",
       "      <th>date</th>\n",
       "      <th></th>\n",
       "      <th></th>\n",
       "      <th></th>\n",
       "      <th></th>\n",
       "      <th></th>\n",
       "      <th></th>\n",
       "      <th></th>\n",
       "    </tr>\n",
       "  </thead>\n",
       "  <tbody>\n",
       "    <tr>\n",
       "      <th>2018-06-03</th>\n",
       "      <td>1470.0</td>\n",
       "      <td>1470.0</td>\n",
       "      <td>1470.0</td>\n",
       "      <td>1470.0</td>\n",
       "      <td>179991070.0</td>\n",
       "      <td>1470.0</td>\n",
       "      <td>NaN</td>\n",
       "    </tr>\n",
       "    <tr>\n",
       "      <th>2018-06-09</th>\n",
       "      <td>1544.0</td>\n",
       "      <td>1544.0</td>\n",
       "      <td>1544.0</td>\n",
       "      <td>1544.0</td>\n",
       "      <td>5220431.0</td>\n",
       "      <td>1544.0</td>\n",
       "      <td>0.050340</td>\n",
       "    </tr>\n",
       "    <tr>\n",
       "      <th>2018-06-10</th>\n",
       "      <td>1621.0</td>\n",
       "      <td>1583.0</td>\n",
       "      <td>1583.0</td>\n",
       "      <td>1621.0</td>\n",
       "      <td>65508189.0</td>\n",
       "      <td>1611.0</td>\n",
       "      <td>0.043394</td>\n",
       "    </tr>\n",
       "    <tr>\n",
       "      <th>2018-06-11</th>\n",
       "      <td>1691.0</td>\n",
       "      <td>1691.0</td>\n",
       "      <td>1691.0</td>\n",
       "      <td>1691.0</td>\n",
       "      <td>7286966.0</td>\n",
       "      <td>1691.0</td>\n",
       "      <td>0.049659</td>\n",
       "    </tr>\n",
       "    <tr>\n",
       "      <th>2018-06-12</th>\n",
       "      <td>1775.0</td>\n",
       "      <td>1742.0</td>\n",
       "      <td>1775.0</td>\n",
       "      <td>1742.0</td>\n",
       "      <td>16543441.0</td>\n",
       "      <td>1775.0</td>\n",
       "      <td>0.049675</td>\n",
       "    </tr>\n",
       "  </tbody>\n",
       "</table>\n",
       "</div>"
      ],
      "text/plain": [
       "              high     low   first    last       volume   close    return\n",
       "date                                                                     \n",
       "2018-06-03  1470.0  1470.0  1470.0  1470.0  179991070.0  1470.0       NaN\n",
       "2018-06-09  1544.0  1544.0  1544.0  1544.0    5220431.0  1544.0  0.050340\n",
       "2018-06-10  1621.0  1583.0  1583.0  1621.0   65508189.0  1611.0  0.043394\n",
       "2018-06-11  1691.0  1691.0  1691.0  1691.0    7286966.0  1691.0  0.049659\n",
       "2018-06-12  1775.0  1742.0  1775.0  1742.0   16543441.0  1775.0  0.049675"
      ]
     },
     "execution_count": 20,
     "metadata": {},
     "output_type": "execute_result"
    }
   ],
   "source": [
    "#print head\n",
    "ticker.___()"
   ]
  },
  {
   "cell_type": "code",
   "execution_count": 21,
   "metadata": {},
   "outputs": [
    {
     "name": "stdout",
     "output_type": "stream",
     "text": [
      "<class 'pandas.core.frame.DataFrame'>\n",
      "DatetimeIndex: 949 entries, 2018-06-03 to 2022-08-03\n",
      "Data columns (total 7 columns):\n",
      " #   Column  Non-Null Count  Dtype  \n",
      "---  ------  --------------  -----  \n",
      " 0   high    949 non-null    float64\n",
      " 1   low     949 non-null    float64\n",
      " 2   first   949 non-null    float64\n",
      " 3   last    949 non-null    float64\n",
      " 4   volume  949 non-null    float64\n",
      " 5   close   949 non-null    float64\n",
      " 6   return  948 non-null    float64\n",
      "dtypes: float64(7)\n",
      "memory usage: 59.3 KB\n"
     ]
    }
   ],
   "source": [
    "ticker.___()"
   ]
  },
  {
   "cell_type": "code",
   "execution_count": 22,
   "metadata": {},
   "outputs": [
    {
     "data": {
      "text/html": [
       "<div>\n",
       "<style scoped>\n",
       "    .dataframe tbody tr th:only-of-type {\n",
       "        vertical-align: middle;\n",
       "    }\n",
       "\n",
       "    .dataframe tbody tr th {\n",
       "        vertical-align: top;\n",
       "    }\n",
       "\n",
       "    .dataframe thead th {\n",
       "        text-align: right;\n",
       "    }\n",
       "</style>\n",
       "<table border=\"1\" class=\"dataframe\">\n",
       "  <thead>\n",
       "    <tr style=\"text-align: right;\">\n",
       "      <th></th>\n",
       "      <th>high</th>\n",
       "      <th>low</th>\n",
       "      <th>first</th>\n",
       "      <th>last</th>\n",
       "      <th>volume</th>\n",
       "      <th>close</th>\n",
       "      <th>return</th>\n",
       "    </tr>\n",
       "  </thead>\n",
       "  <tbody>\n",
       "    <tr>\n",
       "      <th>count</th>\n",
       "      <td>949.000000</td>\n",
       "      <td>949.000000</td>\n",
       "      <td>949.000000</td>\n",
       "      <td>949.000000</td>\n",
       "      <td>9.490000e+02</td>\n",
       "      <td>949.000000</td>\n",
       "      <td>948.000000</td>\n",
       "    </tr>\n",
       "    <tr>\n",
       "      <th>mean</th>\n",
       "      <td>11377.412013</td>\n",
       "      <td>10887.387777</td>\n",
       "      <td>11115.904110</td>\n",
       "      <td>11156.398314</td>\n",
       "      <td>2.449379e+06</td>\n",
       "      <td>11153.090622</td>\n",
       "      <td>0.003313</td>\n",
       "    </tr>\n",
       "    <tr>\n",
       "      <th>std</th>\n",
       "      <td>7394.005648</td>\n",
       "      <td>7094.233880</td>\n",
       "      <td>7213.740344</td>\n",
       "      <td>7270.941231</td>\n",
       "      <td>7.131889e+06</td>\n",
       "      <td>7255.532588</td>\n",
       "      <td>0.024268</td>\n",
       "    </tr>\n",
       "    <tr>\n",
       "      <th>min</th>\n",
       "      <td>1470.000000</td>\n",
       "      <td>1470.000000</td>\n",
       "      <td>1470.000000</td>\n",
       "      <td>1470.000000</td>\n",
       "      <td>3.699400e+04</td>\n",
       "      <td>1470.000000</td>\n",
       "      <td>-0.078774</td>\n",
       "    </tr>\n",
       "    <tr>\n",
       "      <th>25%</th>\n",
       "      <td>4411.000000</td>\n",
       "      <td>4222.000000</td>\n",
       "      <td>4306.000000</td>\n",
       "      <td>4278.000000</td>\n",
       "      <td>4.189160e+05</td>\n",
       "      <td>4287.000000</td>\n",
       "      <td>-0.007168</td>\n",
       "    </tr>\n",
       "    <tr>\n",
       "      <th>50%</th>\n",
       "      <td>10087.000000</td>\n",
       "      <td>9603.000000</td>\n",
       "      <td>9873.000000</td>\n",
       "      <td>9842.000000</td>\n",
       "      <td>1.091896e+06</td>\n",
       "      <td>9779.000000</td>\n",
       "      <td>0.000000</td>\n",
       "    </tr>\n",
       "    <tr>\n",
       "      <th>75%</th>\n",
       "      <td>18303.000000</td>\n",
       "      <td>17365.000000</td>\n",
       "      <td>17930.000000</td>\n",
       "      <td>17893.000000</td>\n",
       "      <td>2.524779e+06</td>\n",
       "      <td>17838.000000</td>\n",
       "      <td>0.014666</td>\n",
       "    </tr>\n",
       "    <tr>\n",
       "      <th>max</th>\n",
       "      <td>26810.000000</td>\n",
       "      <td>25800.000000</td>\n",
       "      <td>26200.000000</td>\n",
       "      <td>26200.000000</td>\n",
       "      <td>1.799911e+08</td>\n",
       "      <td>25740.000000</td>\n",
       "      <td>0.185202</td>\n",
       "    </tr>\n",
       "  </tbody>\n",
       "</table>\n",
       "</div>"
      ],
      "text/plain": [
       "               high           low         first          last        volume  \\\n",
       "count    949.000000    949.000000    949.000000    949.000000  9.490000e+02   \n",
       "mean   11377.412013  10887.387777  11115.904110  11156.398314  2.449379e+06   \n",
       "std     7394.005648   7094.233880   7213.740344   7270.941231  7.131889e+06   \n",
       "min     1470.000000   1470.000000   1470.000000   1470.000000  3.699400e+04   \n",
       "25%     4411.000000   4222.000000   4306.000000   4278.000000  4.189160e+05   \n",
       "50%    10087.000000   9603.000000   9873.000000   9842.000000  1.091896e+06   \n",
       "75%    18303.000000  17365.000000  17930.000000  17893.000000  2.524779e+06   \n",
       "max    26810.000000  25800.000000  26200.000000  26200.000000  1.799911e+08   \n",
       "\n",
       "              close      return  \n",
       "count    949.000000  948.000000  \n",
       "mean   11153.090622    0.003313  \n",
       "std     7255.532588    0.024268  \n",
       "min     1470.000000   -0.078774  \n",
       "25%     4287.000000   -0.007168  \n",
       "50%     9779.000000    0.000000  \n",
       "75%    17838.000000    0.014666  \n",
       "max    25740.000000    0.185202  "
      ]
     },
     "execution_count": 22,
     "metadata": {},
     "output_type": "execute_result"
    }
   ],
   "source": [
    "#print descriptive statistics of df using describe\n",
    "ticker.___()"
   ]
  },
  {
   "cell_type": "markdown",
   "metadata": {},
   "source": [
    "<p dir=rtl style=\"direction: rtl;text-align: right;line-height:200%;font-family:vazir;font-size:medium\">\n",
    "<font face=\"vazir\" size=3>\n",
    "نمودار تغییرات ستون\n",
    "<code>close</code>\n",
    "را در طول\n",
    "زمان رسم کنید.\n",
    "</font>\n",
    "</p>"
   ]
  },
  {
   "cell_type": "code",
   "execution_count": 23,
   "metadata": {},
   "outputs": [
    {
     "data": {
      "application/vnd.plotly.v1+json": {
       "config": {
        "plotlyServerURL": "https://plot.ly"
       },
       "data": [
        {
         "hovertemplate": "date=%{x}<br>close=%{y}<extra></extra>",
         "legendgroup": "",
         "line": {
          "color": "#636efa",
          "dash": "solid"
         },
         "marker": {
          "symbol": "circle"
         },
         "mode": "lines",
         "name": "",
         "orientation": "v",
         "showlegend": false,
         "type": "scatter",
         "x": [
          "2018-06-03T00:00:00",
          "2018-06-09T00:00:00",
          "2018-06-10T00:00:00",
          "2018-06-11T00:00:00",
          "2018-06-12T00:00:00",
          "2018-06-13T00:00:00",
          "2018-06-17T00:00:00",
          "2018-06-18T00:00:00",
          "2018-06-19T00:00:00",
          "2018-06-20T00:00:00",
          "2018-06-23T00:00:00",
          "2018-06-24T00:00:00",
          "2018-06-25T00:00:00",
          "2018-06-26T00:00:00",
          "2018-06-27T00:00:00",
          "2018-06-30T00:00:00",
          "2018-07-01T00:00:00",
          "2018-07-02T00:00:00",
          "2018-07-03T00:00:00",
          "2018-07-04T00:00:00",
          "2018-07-07T00:00:00",
          "2018-07-08T00:00:00",
          "2018-07-10T00:00:00",
          "2018-07-11T00:00:00",
          "2018-07-14T00:00:00",
          "2018-07-15T00:00:00",
          "2018-07-16T00:00:00",
          "2018-07-17T00:00:00",
          "2018-07-18T00:00:00",
          "2018-07-21T00:00:00",
          "2018-07-22T00:00:00",
          "2018-07-23T00:00:00",
          "2018-07-24T00:00:00",
          "2018-07-25T00:00:00",
          "2018-07-28T00:00:00",
          "2018-07-29T00:00:00",
          "2018-07-30T00:00:00",
          "2018-07-31T00:00:00",
          "2018-08-01T00:00:00",
          "2018-08-04T00:00:00",
          "2018-08-05T00:00:00",
          "2018-08-06T00:00:00",
          "2018-08-07T00:00:00",
          "2018-08-08T00:00:00",
          "2018-08-11T00:00:00",
          "2018-08-12T00:00:00",
          "2018-08-13T00:00:00",
          "2018-08-14T00:00:00",
          "2018-08-15T00:00:00",
          "2018-08-18T00:00:00",
          "2018-08-19T00:00:00",
          "2018-08-20T00:00:00",
          "2018-08-21T00:00:00",
          "2018-08-25T00:00:00",
          "2018-08-26T00:00:00",
          "2018-08-27T00:00:00",
          "2018-08-28T00:00:00",
          "2018-08-29T00:00:00",
          "2018-09-01T00:00:00",
          "2018-09-02T00:00:00",
          "2018-09-03T00:00:00",
          "2018-09-04T00:00:00",
          "2018-09-05T00:00:00",
          "2018-09-08T00:00:00",
          "2018-09-09T00:00:00",
          "2018-09-10T00:00:00",
          "2018-09-11T00:00:00",
          "2018-09-12T00:00:00",
          "2018-09-15T00:00:00",
          "2018-09-16T00:00:00",
          "2018-09-17T00:00:00",
          "2018-09-23T00:00:00",
          "2018-09-24T00:00:00",
          "2018-09-25T00:00:00",
          "2018-09-26T00:00:00",
          "2018-09-29T00:00:00",
          "2018-09-30T00:00:00",
          "2018-10-01T00:00:00",
          "2018-10-02T00:00:00",
          "2018-10-03T00:00:00",
          "2018-10-06T00:00:00",
          "2018-10-07T00:00:00",
          "2018-10-08T00:00:00",
          "2018-10-09T00:00:00",
          "2018-10-10T00:00:00",
          "2018-10-13T00:00:00",
          "2018-10-15T00:00:00",
          "2018-10-16T00:00:00",
          "2018-10-17T00:00:00",
          "2018-10-20T00:00:00",
          "2018-10-21T00:00:00",
          "2018-10-22T00:00:00",
          "2018-10-23T00:00:00",
          "2018-10-24T00:00:00",
          "2018-10-27T00:00:00",
          "2018-10-28T00:00:00",
          "2018-10-29T00:00:00",
          "2018-10-31T00:00:00",
          "2018-11-03T00:00:00",
          "2018-11-04T00:00:00",
          "2018-11-05T00:00:00",
          "2018-11-06T00:00:00",
          "2018-11-10T00:00:00",
          "2018-11-11T00:00:00",
          "2018-11-12T00:00:00",
          "2018-11-13T00:00:00",
          "2018-11-14T00:00:00",
          "2018-11-17T00:00:00",
          "2018-11-18T00:00:00",
          "2018-11-19T00:00:00",
          "2018-11-20T00:00:00",
          "2018-11-21T00:00:00",
          "2018-11-24T00:00:00",
          "2018-11-26T00:00:00",
          "2018-11-27T00:00:00",
          "2018-11-28T00:00:00",
          "2018-12-01T00:00:00",
          "2018-12-02T00:00:00",
          "2018-12-03T00:00:00",
          "2018-12-04T00:00:00",
          "2018-12-05T00:00:00",
          "2018-12-08T00:00:00",
          "2018-12-09T00:00:00",
          "2018-12-10T00:00:00",
          "2018-12-11T00:00:00",
          "2018-12-12T00:00:00",
          "2018-12-15T00:00:00",
          "2018-12-16T00:00:00",
          "2018-12-17T00:00:00",
          "2018-12-18T00:00:00",
          "2018-12-19T00:00:00",
          "2018-12-22T00:00:00",
          "2018-12-23T00:00:00",
          "2018-12-24T00:00:00",
          "2018-12-25T00:00:00",
          "2018-12-26T00:00:00",
          "2018-12-29T00:00:00",
          "2018-12-30T00:00:00",
          "2018-12-31T00:00:00",
          "2019-01-01T00:00:00",
          "2019-01-02T00:00:00",
          "2019-01-05T00:00:00",
          "2019-01-06T00:00:00",
          "2019-01-07T00:00:00",
          "2019-01-08T00:00:00",
          "2019-01-09T00:00:00",
          "2019-01-12T00:00:00",
          "2019-01-13T00:00:00",
          "2019-01-14T00:00:00",
          "2019-01-15T00:00:00",
          "2019-01-16T00:00:00",
          "2019-01-19T00:00:00",
          "2019-01-20T00:00:00",
          "2019-01-21T00:00:00",
          "2019-01-22T00:00:00",
          "2019-01-23T00:00:00",
          "2019-01-26T00:00:00",
          "2019-01-27T00:00:00",
          "2019-01-28T00:00:00",
          "2019-01-29T00:00:00",
          "2019-01-30T00:00:00",
          "2019-02-02T00:00:00",
          "2019-02-03T00:00:00",
          "2019-02-04T00:00:00",
          "2019-02-05T00:00:00",
          "2019-02-06T00:00:00",
          "2019-02-10T00:00:00",
          "2019-02-12T00:00:00",
          "2019-02-13T00:00:00",
          "2019-02-16T00:00:00",
          "2019-02-17T00:00:00",
          "2019-02-18T00:00:00",
          "2019-02-19T00:00:00",
          "2019-02-20T00:00:00",
          "2019-02-23T00:00:00",
          "2019-02-24T00:00:00",
          "2019-02-25T00:00:00",
          "2019-02-26T00:00:00",
          "2019-03-10T00:00:00",
          "2019-03-11T00:00:00",
          "2019-03-12T00:00:00",
          "2019-03-27T00:00:00",
          "2019-03-30T00:00:00",
          "2019-03-31T00:00:00",
          "2019-04-06T00:00:00",
          "2019-04-07T00:00:00",
          "2019-04-08T00:00:00",
          "2019-04-09T00:00:00",
          "2019-04-10T00:00:00",
          "2019-04-13T00:00:00",
          "2019-04-14T00:00:00",
          "2019-04-15T00:00:00",
          "2019-04-16T00:00:00",
          "2019-04-17T00:00:00",
          "2019-04-20T00:00:00",
          "2019-04-22T00:00:00",
          "2019-04-23T00:00:00",
          "2019-04-24T00:00:00",
          "2019-04-27T00:00:00",
          "2019-04-28T00:00:00",
          "2019-04-29T00:00:00",
          "2019-04-30T00:00:00",
          "2019-05-01T00:00:00",
          "2019-05-04T00:00:00",
          "2019-05-05T00:00:00",
          "2019-05-06T00:00:00",
          "2019-05-07T00:00:00",
          "2019-05-08T00:00:00",
          "2019-05-11T00:00:00",
          "2019-05-12T00:00:00",
          "2019-05-13T00:00:00",
          "2019-05-14T00:00:00",
          "2019-05-15T00:00:00",
          "2019-05-18T00:00:00",
          "2019-05-19T00:00:00",
          "2019-05-20T00:00:00",
          "2019-05-21T00:00:00",
          "2019-05-22T00:00:00",
          "2019-05-25T00:00:00",
          "2019-05-26T00:00:00",
          "2019-05-28T00:00:00",
          "2019-05-29T00:00:00",
          "2019-06-01T00:00:00",
          "2019-06-02T00:00:00",
          "2019-06-03T00:00:00",
          "2019-06-08T00:00:00",
          "2019-06-09T00:00:00",
          "2019-06-10T00:00:00",
          "2019-06-11T00:00:00",
          "2019-06-12T00:00:00",
          "2019-06-15T00:00:00",
          "2019-06-16T00:00:00",
          "2019-06-17T00:00:00",
          "2019-06-18T00:00:00",
          "2019-06-19T00:00:00",
          "2019-06-22T00:00:00",
          "2019-06-23T00:00:00",
          "2019-06-24T00:00:00",
          "2019-06-25T00:00:00",
          "2019-06-26T00:00:00",
          "2019-06-30T00:00:00",
          "2019-07-01T00:00:00",
          "2019-07-02T00:00:00",
          "2019-07-03T00:00:00",
          "2019-07-06T00:00:00",
          "2019-07-07T00:00:00",
          "2019-07-08T00:00:00",
          "2019-07-09T00:00:00",
          "2019-07-10T00:00:00",
          "2019-07-13T00:00:00",
          "2019-07-14T00:00:00",
          "2019-07-15T00:00:00",
          "2019-07-16T00:00:00",
          "2019-07-17T00:00:00",
          "2019-07-20T00:00:00",
          "2019-07-21T00:00:00",
          "2019-07-22T00:00:00",
          "2019-07-23T00:00:00",
          "2019-07-24T00:00:00",
          "2019-07-27T00:00:00",
          "2019-07-28T00:00:00",
          "2019-07-29T00:00:00",
          "2019-07-30T00:00:00",
          "2019-07-31T00:00:00",
          "2019-08-03T00:00:00",
          "2019-08-04T00:00:00",
          "2019-08-05T00:00:00",
          "2019-08-06T00:00:00",
          "2019-08-07T00:00:00",
          "2019-08-10T00:00:00",
          "2019-08-11T00:00:00",
          "2019-08-13T00:00:00",
          "2019-08-14T00:00:00",
          "2019-08-17T00:00:00",
          "2019-08-18T00:00:00",
          "2019-08-19T00:00:00",
          "2019-08-21T00:00:00",
          "2019-08-24T00:00:00",
          "2019-08-25T00:00:00",
          "2019-08-26T00:00:00",
          "2019-08-27T00:00:00",
          "2019-08-28T00:00:00",
          "2019-08-31T00:00:00",
          "2019-09-01T00:00:00",
          "2019-09-02T00:00:00",
          "2019-09-03T00:00:00",
          "2019-09-04T00:00:00",
          "2019-09-07T00:00:00",
          "2019-09-08T00:00:00",
          "2019-09-11T00:00:00",
          "2019-09-14T00:00:00",
          "2019-09-15T00:00:00",
          "2019-09-16T00:00:00",
          "2019-09-17T00:00:00",
          "2019-09-18T00:00:00",
          "2019-09-21T00:00:00",
          "2019-09-22T00:00:00",
          "2019-09-23T00:00:00",
          "2019-09-24T00:00:00",
          "2019-09-25T00:00:00",
          "2019-09-28T00:00:00",
          "2019-09-29T00:00:00",
          "2019-09-30T00:00:00",
          "2019-10-01T00:00:00",
          "2019-10-02T00:00:00",
          "2019-10-05T00:00:00",
          "2019-10-06T00:00:00",
          "2019-10-07T00:00:00",
          "2019-10-08T00:00:00",
          "2019-10-09T00:00:00",
          "2019-10-12T00:00:00",
          "2019-10-13T00:00:00",
          "2019-10-14T00:00:00",
          "2019-10-15T00:00:00",
          "2019-10-16T00:00:00",
          "2019-10-20T00:00:00",
          "2019-10-21T00:00:00",
          "2019-10-22T00:00:00",
          "2019-10-23T00:00:00",
          "2019-10-26T00:00:00",
          "2019-10-28T00:00:00",
          "2019-10-30T00:00:00",
          "2019-11-02T00:00:00",
          "2019-11-03T00:00:00",
          "2019-11-04T00:00:00",
          "2019-11-05T00:00:00",
          "2019-11-09T00:00:00",
          "2019-11-10T00:00:00",
          "2019-11-11T00:00:00",
          "2019-11-12T00:00:00",
          "2019-11-13T00:00:00",
          "2019-11-16T00:00:00",
          "2019-11-17T00:00:00",
          "2019-11-18T00:00:00",
          "2019-11-19T00:00:00",
          "2019-11-20T00:00:00",
          "2019-11-23T00:00:00",
          "2019-11-24T00:00:00",
          "2019-11-25T00:00:00",
          "2019-11-26T00:00:00",
          "2019-11-27T00:00:00",
          "2019-11-30T00:00:00",
          "2019-12-01T00:00:00",
          "2019-12-02T00:00:00",
          "2019-12-03T00:00:00",
          "2019-12-04T00:00:00",
          "2019-12-07T00:00:00",
          "2019-12-08T00:00:00",
          "2019-12-09T00:00:00",
          "2019-12-10T00:00:00",
          "2019-12-11T00:00:00",
          "2019-12-14T00:00:00",
          "2019-12-15T00:00:00",
          "2019-12-16T00:00:00",
          "2019-12-17T00:00:00",
          "2019-12-18T00:00:00",
          "2019-12-21T00:00:00",
          "2019-12-22T00:00:00",
          "2019-12-23T00:00:00",
          "2019-12-24T00:00:00",
          "2019-12-25T00:00:00",
          "2019-12-28T00:00:00",
          "2019-12-29T00:00:00",
          "2019-12-30T00:00:00",
          "2019-12-31T00:00:00",
          "2020-01-01T00:00:00",
          "2020-01-04T00:00:00",
          "2020-01-05T00:00:00",
          "2020-01-07T00:00:00",
          "2020-01-08T00:00:00",
          "2020-01-11T00:00:00",
          "2020-01-12T00:00:00",
          "2020-01-13T00:00:00",
          "2020-01-14T00:00:00",
          "2020-01-15T00:00:00",
          "2020-01-18T00:00:00",
          "2020-01-19T00:00:00",
          "2020-01-20T00:00:00",
          "2020-01-21T00:00:00",
          "2020-01-22T00:00:00",
          "2020-01-25T00:00:00",
          "2020-01-26T00:00:00",
          "2020-01-27T00:00:00",
          "2020-01-28T00:00:00",
          "2020-02-01T00:00:00",
          "2020-02-02T00:00:00",
          "2020-02-03T00:00:00",
          "2020-02-04T00:00:00",
          "2020-02-05T00:00:00",
          "2020-02-08T00:00:00",
          "2020-02-09T00:00:00",
          "2020-02-10T00:00:00",
          "2020-02-12T00:00:00",
          "2020-02-15T00:00:00",
          "2020-02-16T00:00:00",
          "2020-02-17T00:00:00",
          "2020-02-18T00:00:00",
          "2020-02-19T00:00:00",
          "2020-02-22T00:00:00",
          "2020-02-23T00:00:00",
          "2020-02-24T00:00:00",
          "2020-02-25T00:00:00",
          "2020-02-26T00:00:00",
          "2020-02-29T00:00:00",
          "2020-03-01T00:00:00",
          "2020-03-02T00:00:00",
          "2020-03-03T00:00:00",
          "2020-03-04T00:00:00",
          "2020-03-07T00:00:00",
          "2020-03-09T00:00:00",
          "2020-03-10T00:00:00",
          "2020-03-11T00:00:00",
          "2020-03-14T00:00:00",
          "2020-03-15T00:00:00",
          "2020-03-16T00:00:00",
          "2020-03-17T00:00:00",
          "2020-03-18T00:00:00",
          "2020-03-24T00:00:00",
          "2020-03-25T00:00:00",
          "2020-03-28T00:00:00",
          "2020-03-29T00:00:00",
          "2020-03-30T00:00:00",
          "2020-04-04T00:00:00",
          "2020-04-11T00:00:00",
          "2020-04-12T00:00:00",
          "2020-04-13T00:00:00",
          "2020-04-14T00:00:00",
          "2020-04-15T00:00:00",
          "2020-04-18T00:00:00",
          "2020-04-19T00:00:00",
          "2020-04-20T00:00:00",
          "2020-04-21T00:00:00",
          "2020-04-22T00:00:00",
          "2020-04-25T00:00:00",
          "2020-04-26T00:00:00",
          "2020-04-28T00:00:00",
          "2020-04-29T00:00:00",
          "2020-05-02T00:00:00",
          "2020-05-03T00:00:00",
          "2020-05-04T00:00:00",
          "2020-05-05T00:00:00",
          "2020-05-06T00:00:00",
          "2020-05-09T00:00:00",
          "2020-05-10T00:00:00",
          "2020-05-11T00:00:00",
          "2020-05-12T00:00:00",
          "2020-05-13T00:00:00",
          "2020-05-16T00:00:00",
          "2020-05-17T00:00:00",
          "2020-05-18T00:00:00",
          "2020-05-19T00:00:00",
          "2020-05-20T00:00:00",
          "2020-05-23T00:00:00",
          "2020-05-26T00:00:00",
          "2020-05-27T00:00:00",
          "2020-05-30T00:00:00",
          "2020-05-31T00:00:00",
          "2020-06-01T00:00:00",
          "2020-06-02T00:00:00",
          "2020-06-06T00:00:00",
          "2020-06-07T00:00:00",
          "2020-06-08T00:00:00",
          "2020-06-09T00:00:00",
          "2020-06-10T00:00:00",
          "2020-06-13T00:00:00",
          "2020-06-14T00:00:00",
          "2020-06-15T00:00:00",
          "2020-06-16T00:00:00",
          "2020-06-20T00:00:00",
          "2020-06-21T00:00:00",
          "2020-06-22T00:00:00",
          "2020-06-23T00:00:00",
          "2020-06-24T00:00:00",
          "2020-06-27T00:00:00",
          "2020-06-28T00:00:00",
          "2020-06-29T00:00:00",
          "2020-06-30T00:00:00",
          "2020-07-01T00:00:00",
          "2020-07-04T00:00:00",
          "2020-07-05T00:00:00",
          "2020-07-06T00:00:00",
          "2020-07-07T00:00:00",
          "2020-07-08T00:00:00",
          "2020-07-11T00:00:00",
          "2020-07-12T00:00:00",
          "2020-07-13T00:00:00",
          "2020-07-14T00:00:00",
          "2020-07-15T00:00:00",
          "2020-07-18T00:00:00",
          "2020-07-19T00:00:00",
          "2020-07-20T00:00:00",
          "2020-07-21T00:00:00",
          "2020-07-22T00:00:00",
          "2020-07-25T00:00:00",
          "2020-07-26T00:00:00",
          "2020-07-27T00:00:00",
          "2020-07-28T00:00:00",
          "2020-07-29T00:00:00",
          "2020-08-01T00:00:00",
          "2020-08-02T00:00:00",
          "2020-08-03T00:00:00",
          "2020-08-04T00:00:00",
          "2020-08-05T00:00:00",
          "2020-08-09T00:00:00",
          "2020-08-10T00:00:00",
          "2020-08-11T00:00:00",
          "2020-08-12T00:00:00",
          "2020-08-15T00:00:00",
          "2020-08-16T00:00:00",
          "2020-08-17T00:00:00",
          "2020-08-18T00:00:00",
          "2020-08-19T00:00:00",
          "2020-08-22T00:00:00",
          "2020-08-23T00:00:00",
          "2020-08-24T00:00:00",
          "2020-08-25T00:00:00",
          "2020-08-26T00:00:00",
          "2020-08-31T00:00:00",
          "2020-09-01T00:00:00",
          "2020-09-02T00:00:00",
          "2020-09-05T00:00:00",
          "2020-09-06T00:00:00",
          "2020-09-07T00:00:00",
          "2020-09-08T00:00:00",
          "2020-09-09T00:00:00",
          "2020-09-12T00:00:00",
          "2020-09-13T00:00:00",
          "2020-09-14T00:00:00",
          "2020-09-15T00:00:00",
          "2020-09-16T00:00:00",
          "2020-09-19T00:00:00",
          "2020-09-20T00:00:00",
          "2020-09-21T00:00:00",
          "2020-09-22T00:00:00",
          "2020-09-23T00:00:00",
          "2020-09-26T00:00:00",
          "2020-09-27T00:00:00",
          "2020-09-28T00:00:00",
          "2020-09-29T00:00:00",
          "2020-09-30T00:00:00",
          "2020-10-03T00:00:00",
          "2020-10-04T00:00:00",
          "2020-10-05T00:00:00",
          "2020-10-06T00:00:00",
          "2020-10-07T00:00:00",
          "2020-10-10T00:00:00",
          "2020-10-11T00:00:00",
          "2020-10-12T00:00:00",
          "2020-10-13T00:00:00",
          "2020-10-31T00:00:00",
          "2020-11-01T00:00:00",
          "2020-11-02T00:00:00",
          "2020-11-04T00:00:00",
          "2020-11-07T00:00:00",
          "2020-11-08T00:00:00",
          "2020-11-09T00:00:00",
          "2020-11-10T00:00:00",
          "2020-11-11T00:00:00",
          "2020-11-14T00:00:00",
          "2020-11-15T00:00:00",
          "2020-11-16T00:00:00",
          "2020-11-17T00:00:00",
          "2020-11-18T00:00:00",
          "2020-11-21T00:00:00",
          "2020-11-22T00:00:00",
          "2020-11-23T00:00:00",
          "2020-11-24T00:00:00",
          "2020-11-25T00:00:00",
          "2020-11-28T00:00:00",
          "2020-11-29T00:00:00",
          "2020-11-30T00:00:00",
          "2020-12-01T00:00:00",
          "2020-12-02T00:00:00",
          "2020-12-05T00:00:00",
          "2020-12-06T00:00:00",
          "2020-12-07T00:00:00",
          "2020-12-08T00:00:00",
          "2020-12-09T00:00:00",
          "2020-12-12T00:00:00",
          "2020-12-13T00:00:00",
          "2020-12-14T00:00:00",
          "2020-12-15T00:00:00",
          "2020-12-16T00:00:00",
          "2020-12-19T00:00:00",
          "2020-12-20T00:00:00",
          "2020-12-21T00:00:00",
          "2020-12-22T00:00:00",
          "2020-12-23T00:00:00",
          "2020-12-26T00:00:00",
          "2020-12-27T00:00:00",
          "2020-12-28T00:00:00",
          "2020-12-29T00:00:00",
          "2020-12-30T00:00:00",
          "2021-01-02T00:00:00",
          "2021-01-03T00:00:00",
          "2021-01-04T00:00:00",
          "2021-01-05T00:00:00",
          "2021-01-06T00:00:00",
          "2021-01-09T00:00:00",
          "2021-01-10T00:00:00",
          "2021-01-11T00:00:00",
          "2021-01-12T00:00:00",
          "2021-01-13T00:00:00",
          "2021-01-16T00:00:00",
          "2021-01-18T00:00:00",
          "2021-01-19T00:00:00",
          "2021-01-20T00:00:00",
          "2021-01-23T00:00:00",
          "2021-01-24T00:00:00",
          "2021-01-25T00:00:00",
          "2021-01-26T00:00:00",
          "2021-01-27T00:00:00",
          "2021-01-30T00:00:00",
          "2021-01-31T00:00:00",
          "2021-02-01T00:00:00",
          "2021-02-02T00:00:00",
          "2021-02-03T00:00:00",
          "2021-02-06T00:00:00",
          "2021-02-07T00:00:00",
          "2021-02-08T00:00:00",
          "2021-02-09T00:00:00",
          "2021-02-13T00:00:00",
          "2021-02-14T00:00:00",
          "2021-02-15T00:00:00",
          "2021-02-16T00:00:00",
          "2021-02-17T00:00:00",
          "2021-02-20T00:00:00",
          "2021-02-21T00:00:00",
          "2021-02-22T00:00:00",
          "2021-02-23T00:00:00",
          "2021-02-24T00:00:00",
          "2021-02-27T00:00:00",
          "2021-02-28T00:00:00",
          "2021-03-01T00:00:00",
          "2021-03-02T00:00:00",
          "2021-03-03T00:00:00",
          "2021-03-06T00:00:00",
          "2021-03-07T00:00:00",
          "2021-03-08T00:00:00",
          "2021-03-09T00:00:00",
          "2021-03-10T00:00:00",
          "2021-03-13T00:00:00",
          "2021-03-14T00:00:00",
          "2021-03-15T00:00:00",
          "2021-03-16T00:00:00",
          "2021-03-17T00:00:00",
          "2021-03-30T00:00:00",
          "2021-03-31T00:00:00",
          "2021-04-03T00:00:00",
          "2021-04-04T00:00:00",
          "2021-04-05T00:00:00",
          "2021-04-06T00:00:00",
          "2021-04-07T00:00:00",
          "2021-04-13T00:00:00",
          "2021-04-14T00:00:00",
          "2021-04-17T00:00:00",
          "2021-04-18T00:00:00",
          "2021-04-19T00:00:00",
          "2021-04-20T00:00:00",
          "2021-04-21T00:00:00",
          "2021-04-24T00:00:00",
          "2021-04-25T00:00:00",
          "2021-04-26T00:00:00",
          "2021-04-27T00:00:00",
          "2021-04-28T00:00:00",
          "2021-05-01T00:00:00",
          "2021-05-02T00:00:00",
          "2021-05-03T00:00:00",
          "2021-05-05T00:00:00",
          "2021-05-08T00:00:00",
          "2021-05-09T00:00:00",
          "2021-05-10T00:00:00",
          "2021-05-11T00:00:00",
          "2021-05-12T00:00:00",
          "2021-05-15T00:00:00",
          "2021-05-16T00:00:00",
          "2021-05-17T00:00:00",
          "2021-05-18T00:00:00",
          "2021-05-19T00:00:00",
          "2021-05-22T00:00:00",
          "2021-05-23T00:00:00",
          "2021-05-24T00:00:00",
          "2021-05-25T00:00:00",
          "2021-05-26T00:00:00",
          "2021-05-29T00:00:00",
          "2021-05-30T00:00:00",
          "2021-05-31T00:00:00",
          "2021-06-01T00:00:00",
          "2021-06-02T00:00:00",
          "2021-06-08T00:00:00",
          "2021-06-09T00:00:00",
          "2021-06-12T00:00:00",
          "2021-06-13T00:00:00",
          "2021-06-14T00:00:00",
          "2021-06-15T00:00:00",
          "2021-06-16T00:00:00",
          "2021-06-19T00:00:00",
          "2021-06-20T00:00:00",
          "2021-06-21T00:00:00",
          "2021-06-22T00:00:00",
          "2021-06-23T00:00:00",
          "2021-06-26T00:00:00",
          "2021-06-27T00:00:00",
          "2021-06-28T00:00:00",
          "2021-06-29T00:00:00",
          "2021-06-30T00:00:00",
          "2021-07-03T00:00:00",
          "2021-07-04T00:00:00",
          "2021-07-05T00:00:00",
          "2021-07-06T00:00:00",
          "2021-07-07T00:00:00",
          "2021-07-10T00:00:00",
          "2021-07-11T00:00:00",
          "2021-07-12T00:00:00",
          "2021-07-13T00:00:00",
          "2021-07-14T00:00:00",
          "2021-07-17T00:00:00",
          "2021-07-18T00:00:00",
          "2021-07-19T00:00:00",
          "2021-07-26T00:00:00",
          "2021-07-27T00:00:00",
          "2021-07-28T00:00:00",
          "2021-07-31T00:00:00",
          "2021-08-01T00:00:00",
          "2021-08-02T00:00:00",
          "2021-08-03T00:00:00",
          "2021-08-04T00:00:00",
          "2021-08-07T00:00:00",
          "2021-08-08T00:00:00",
          "2021-08-09T00:00:00",
          "2021-08-10T00:00:00",
          "2021-08-11T00:00:00",
          "2021-08-14T00:00:00",
          "2021-08-15T00:00:00",
          "2021-08-22T00:00:00",
          "2021-08-23T00:00:00",
          "2021-08-24T00:00:00",
          "2021-08-25T00:00:00",
          "2021-08-28T00:00:00",
          "2021-08-29T00:00:00",
          "2021-08-30T00:00:00",
          "2021-08-31T00:00:00",
          "2021-09-01T00:00:00",
          "2021-09-04T00:00:00",
          "2021-09-05T00:00:00",
          "2021-09-06T00:00:00",
          "2021-09-07T00:00:00",
          "2021-09-08T00:00:00",
          "2021-09-11T00:00:00",
          "2021-09-12T00:00:00",
          "2021-09-13T00:00:00",
          "2021-09-14T00:00:00",
          "2021-09-15T00:00:00",
          "2021-09-18T00:00:00",
          "2021-09-19T00:00:00",
          "2021-09-20T00:00:00",
          "2021-09-21T00:00:00",
          "2021-09-22T00:00:00",
          "2021-09-25T00:00:00",
          "2021-09-26T00:00:00",
          "2021-09-28T00:00:00",
          "2021-09-29T00:00:00",
          "2021-10-02T00:00:00",
          "2021-10-03T00:00:00",
          "2021-10-04T00:00:00",
          "2021-10-06T00:00:00",
          "2021-10-09T00:00:00",
          "2021-10-10T00:00:00",
          "2021-10-11T00:00:00",
          "2021-10-12T00:00:00",
          "2021-10-13T00:00:00",
          "2021-10-16T00:00:00",
          "2021-10-17T00:00:00",
          "2021-10-18T00:00:00",
          "2021-10-19T00:00:00",
          "2021-10-20T00:00:00",
          "2021-10-23T00:00:00",
          "2021-10-25T00:00:00",
          "2021-10-26T00:00:00",
          "2021-10-27T00:00:00",
          "2021-10-30T00:00:00",
          "2021-10-31T00:00:00",
          "2021-11-01T00:00:00",
          "2021-11-02T00:00:00",
          "2021-11-03T00:00:00",
          "2021-11-06T00:00:00",
          "2021-11-07T00:00:00",
          "2021-11-08T00:00:00",
          "2021-11-09T00:00:00",
          "2021-11-10T00:00:00",
          "2021-11-13T00:00:00",
          "2021-11-14T00:00:00",
          "2021-11-15T00:00:00",
          "2021-11-16T00:00:00",
          "2021-11-17T00:00:00",
          "2021-11-20T00:00:00",
          "2021-11-21T00:00:00",
          "2021-11-22T00:00:00",
          "2021-11-23T00:00:00",
          "2021-11-24T00:00:00",
          "2021-11-27T00:00:00",
          "2021-11-28T00:00:00",
          "2021-11-29T00:00:00",
          "2021-11-30T00:00:00",
          "2021-12-01T00:00:00",
          "2021-12-04T00:00:00",
          "2021-12-05T00:00:00",
          "2021-12-06T00:00:00",
          "2021-12-07T00:00:00",
          "2021-12-08T00:00:00",
          "2021-12-11T00:00:00",
          "2021-12-12T00:00:00",
          "2021-12-13T00:00:00",
          "2021-12-14T00:00:00",
          "2021-12-15T00:00:00",
          "2021-12-18T00:00:00",
          "2021-12-19T00:00:00",
          "2021-12-20T00:00:00",
          "2021-12-21T00:00:00",
          "2021-12-22T00:00:00",
          "2021-12-25T00:00:00",
          "2021-12-26T00:00:00",
          "2021-12-27T00:00:00",
          "2021-12-28T00:00:00",
          "2021-12-29T00:00:00",
          "2022-01-01T00:00:00",
          "2022-01-02T00:00:00",
          "2022-01-03T00:00:00",
          "2022-01-04T00:00:00",
          "2022-01-05T00:00:00",
          "2022-01-08T00:00:00",
          "2022-01-09T00:00:00",
          "2022-01-10T00:00:00",
          "2022-01-11T00:00:00",
          "2022-01-12T00:00:00",
          "2022-01-15T00:00:00",
          "2022-01-16T00:00:00",
          "2022-01-17T00:00:00",
          "2022-01-29T00:00:00",
          "2022-01-30T00:00:00",
          "2022-01-31T00:00:00",
          "2022-02-01T00:00:00",
          "2022-02-02T00:00:00",
          "2022-02-05T00:00:00",
          "2022-02-06T00:00:00",
          "2022-02-07T00:00:00",
          "2022-02-08T00:00:00",
          "2022-02-09T00:00:00",
          "2022-02-12T00:00:00",
          "2022-02-13T00:00:00",
          "2022-02-14T00:00:00",
          "2022-02-16T00:00:00",
          "2022-02-19T00:00:00",
          "2022-02-20T00:00:00",
          "2022-02-21T00:00:00",
          "2022-02-22T00:00:00",
          "2022-02-23T00:00:00",
          "2022-02-26T00:00:00",
          "2022-02-27T00:00:00",
          "2022-02-28T00:00:00",
          "2022-03-02T00:00:00",
          "2022-03-05T00:00:00",
          "2022-03-06T00:00:00",
          "2022-03-07T00:00:00",
          "2022-03-08T00:00:00",
          "2022-03-09T00:00:00",
          "2022-03-12T00:00:00",
          "2022-03-15T00:00:00",
          "2022-04-03T00:00:00",
          "2022-04-04T00:00:00",
          "2022-04-05T00:00:00",
          "2022-04-06T00:00:00",
          "2022-04-09T00:00:00",
          "2022-04-10T00:00:00",
          "2022-04-11T00:00:00",
          "2022-04-12T00:00:00",
          "2022-04-13T00:00:00",
          "2022-04-16T00:00:00",
          "2022-04-17T00:00:00",
          "2022-04-18T00:00:00",
          "2022-04-19T00:00:00",
          "2022-04-20T00:00:00",
          "2022-04-24T00:00:00",
          "2022-04-25T00:00:00",
          "2022-04-26T00:00:00",
          "2022-04-27T00:00:00",
          "2022-04-30T00:00:00",
          "2022-05-01T00:00:00",
          "2022-05-02T00:00:00",
          "2022-05-07T00:00:00",
          "2022-05-08T00:00:00",
          "2022-05-09T00:00:00",
          "2022-05-10T00:00:00",
          "2022-05-11T00:00:00",
          "2022-05-14T00:00:00",
          "2022-05-15T00:00:00",
          "2022-05-16T00:00:00",
          "2022-05-17T00:00:00",
          "2022-05-18T00:00:00",
          "2022-05-21T00:00:00",
          "2022-05-22T00:00:00",
          "2022-05-23T00:00:00",
          "2022-05-24T00:00:00",
          "2022-05-25T00:00:00",
          "2022-05-28T00:00:00",
          "2022-05-29T00:00:00",
          "2022-05-30T00:00:00",
          "2022-05-31T00:00:00",
          "2022-06-01T00:00:00",
          "2022-06-06T00:00:00",
          "2022-06-07T00:00:00",
          "2022-06-08T00:00:00",
          "2022-06-11T00:00:00",
          "2022-06-12T00:00:00",
          "2022-06-13T00:00:00",
          "2022-06-14T00:00:00",
          "2022-06-15T00:00:00",
          "2022-06-18T00:00:00",
          "2022-06-19T00:00:00",
          "2022-06-20T00:00:00",
          "2022-06-21T00:00:00",
          "2022-06-25T00:00:00",
          "2022-06-26T00:00:00",
          "2022-06-27T00:00:00",
          "2022-06-28T00:00:00",
          "2022-06-29T00:00:00",
          "2022-07-02T00:00:00",
          "2022-07-03T00:00:00",
          "2022-07-04T00:00:00",
          "2022-07-05T00:00:00",
          "2022-07-06T00:00:00",
          "2022-07-09T00:00:00",
          "2022-07-11T00:00:00",
          "2022-07-12T00:00:00",
          "2022-07-13T00:00:00",
          "2022-07-16T00:00:00",
          "2022-07-17T00:00:00",
          "2022-07-19T00:00:00",
          "2022-07-20T00:00:00",
          "2022-07-23T00:00:00",
          "2022-07-24T00:00:00",
          "2022-07-25T00:00:00",
          "2022-07-26T00:00:00",
          "2022-07-27T00:00:00",
          "2022-07-30T00:00:00",
          "2022-07-31T00:00:00",
          "2022-08-01T00:00:00",
          "2022-08-02T00:00:00",
          "2022-08-03T00:00:00"
         ],
         "xaxis": "x",
         "y": [
          1470,
          1544,
          1611,
          1691,
          1775,
          1854,
          1943,
          2039,
          2139,
          2225,
          2345,
          2286,
          2188,
          2171,
          2117,
          2150,
          2087,
          2099,
          2156,
          2140,
          2108,
          2105,
          2098,
          2065,
          2081,
          2120,
          2143,
          2112,
          2103,
          2084,
          2152,
          2183,
          2174,
          2179,
          2187,
          2144,
          2139,
          2170,
          2260,
          2203,
          2205,
          2315,
          2302,
          2326,
          2299,
          2302,
          2292,
          2296,
          2299,
          2285,
          2253,
          2263,
          2319,
          2424,
          2516,
          2595,
          2487,
          2417,
          2436,
          2392,
          2397,
          2459,
          2565,
          2547,
          2592,
          2601,
          2531,
          2563,
          2618,
          2555,
          2527,
          2540,
          2485,
          2541,
          2625,
          2756,
          2893,
          3034,
          2795,
          2666,
          2612,
          2710,
          2846,
          2951,
          3098,
          3253,
          3433,
          3520,
          3535,
          3708,
          3790,
          3839,
          3812,
          3826,
          3824,
          3885,
          3779,
          3604,
          3682,
          3712,
          3812,
          3870,
          3795,
          3656,
          3745,
          3765,
          3764,
          3723,
          3547,
          3618,
          3612,
          3616,
          3592,
          3432,
          3448,
          3496,
          3447,
          3517,
          3514,
          3477,
          3531,
          3659,
          3745,
          3822,
          3806,
          3769,
          3727,
          3609,
          3573,
          3562,
          3603,
          3595,
          3574,
          3521,
          3658,
          3529,
          3555,
          3513,
          3504,
          3496,
          3487,
          3460,
          3473,
          3646,
          3802,
          3735,
          3781,
          3883,
          4069,
          4111,
          4059,
          4049,
          3995,
          3968,
          3980,
          3971,
          3942,
          3930,
          3876,
          3898,
          3899,
          3850,
          3814,
          3810,
          3811,
          3809,
          3827,
          3837,
          3798,
          3798,
          3794,
          3790,
          3746,
          3852,
          3844,
          3849,
          3830,
          3900,
          3906,
          3842,
          3825,
          4016,
          4192,
          4102,
          4182,
          4175,
          4105,
          4068,
          4067,
          4053,
          4048,
          4041,
          4024,
          4013,
          4032,
          3997,
          3967,
          3901,
          3951,
          3982,
          3961,
          4135,
          4222,
          4301,
          4237,
          4080,
          3917,
          3917,
          3900,
          3863,
          3889,
          4060,
          4124,
          4185,
          4119,
          4087,
          4020,
          4014,
          4005,
          3979,
          3967,
          3949,
          3960,
          3984,
          4089,
          4287,
          4473,
          4377,
          4513,
          4523,
          4522,
          4362,
          4243,
          4175,
          4150,
          4242,
          4276,
          4330,
          4270,
          4246,
          4277,
          4270,
          4252,
          4311,
          4287,
          4272,
          4249,
          4397,
          4544,
          4742,
          4902,
          4780,
          4590,
          4392,
          4373,
          4541,
          4537,
          4400,
          4415,
          4417,
          4405,
          4386,
          4588,
          4603,
          4534,
          4519,
          4538,
          4505,
          4655,
          4703,
          4882,
          5006,
          4963,
          4936,
          4918,
          4871,
          4984,
          5108,
          5016,
          5061,
          5007,
          5119,
          5251,
          5357,
          5412,
          5354,
          5405,
          5454,
          5402,
          5361,
          5365,
          5317,
          5468,
          5632,
          5441,
          5605,
          5749,
          5699,
          5643,
          5587,
          5639,
          5691,
          5704,
          5524,
          5319,
          5175,
          5029,
          5105,
          4913,
          4824,
          4977,
          5002,
          4979,
          4870,
          4709,
          4598,
          4430,
          4425,
          4312,
          4256,
          4297,
          4364,
          4520,
          4570,
          4506,
          4437,
          4428,
          4428,
          4425,
          4463,
          4567,
          4578,
          4458,
          4358,
          4368,
          4376,
          4386,
          4390,
          4491,
          4529,
          4527,
          4538,
          4741,
          4969,
          5063,
          5017,
          4993,
          5183,
          5179,
          5107,
          5001,
          5027,
          4971,
          4986,
          5062,
          5207,
          5383,
          5323,
          5190,
          5184,
          5114,
          5216,
          5206,
          5436,
          5584,
          5611,
          5334,
          5174,
          4998,
          4898,
          4955,
          5202,
          5380,
          5313,
          5358,
          5554,
          5469,
          5374,
          5384,
          5354,
          5594,
          5844,
          5800,
          5959,
          5752,
          5643,
          5648,
          5492,
          5463,
          5608,
          5598,
          5375,
          5628,
          5731,
          5628,
          5479,
          5388,
          5467,
          5428,
          5571,
          5783,
          6010,
          6310,
          6552,
          6879,
          6765,
          7028,
          6750,
          6425,
          6275,
          6029,
          6124,
          5992,
          5938,
          6073,
          6377,
          6689,
          7022,
          7370,
          7673,
          8038,
          8290,
          8704,
          10316,
          10826,
          11366,
          11934,
          12384,
          12900,
          13280,
          13795,
          14049,
          14729,
          15433,
          15536,
          15548,
          15994,
          16794,
          17454,
          16688,
          16388,
          16159,
          16967,
          17815,
          17829,
          17282,
          16827,
          16118,
          15322,
          15516,
          16287,
          17049,
          17858,
          17280,
          16458,
          16727,
          16286,
          15681,
          16300,
          16472,
          17244,
          17458,
          16844,
          17655,
          18535,
          19264,
          19783,
          18954,
          19752,
          18934,
          18977,
          19027,
          18233,
          17838,
          17035,
          16663,
          17493,
          18365,
          19117,
          19694,
          20679,
          21617,
          20841,
          19803,
          19942,
          18946,
          18024,
          17167,
          17969,
          17299,
          17256,
          16431,
          15617,
          16392,
          15977,
          15299,
          15031,
          15291,
          16055,
          16737,
          16070,
          15310,
          15012,
          15039,
          14524,
          13857,
          13376,
          12779,
          12190,
          12547,
          13117,
          12783,
          12202,
          11737,
          11411,
          11105,
          11539,
          11155,
          10706,
          10438,
          9965,
          9787,
          9771,
          9291,
          8977,
          9147,
          8833,
          8783,
          9213,
          9295,
          8907,
          8512,
          8326,
          8268,
          8318,
          8299,
          8004,
          7729,
          7923,
          8016,
          8175,
          8523,
          8469,
          8678,
          8857,
          8927,
          9070,
          8729,
          9163,
          9138,
          8842,
          8761,
          8654,
          8578,
          8428,
          8365,
          8271,
          8321,
          8591,
          8553,
          8553,
          8541,
          8622,
          8635,
          8748,
          9176,
          9603,
          9923,
          10414,
          10866,
          10652,
          10439,
          10891,
          11180,
          11124,
          11469,
          11947,
          12519,
          12877,
          13066,
          12745,
          12180,
          12701,
          13229,
          13242,
          13091,
          12965,
          13072,
          13675,
          13656,
          14109,
          14310,
          13688,
          13015,
          12519,
          12657,
          12902,
          12387,
          11821,
          12085,
          12274,
          11740,
          11639,
          11331,
          11557,
          12048,
          12180,
          11878,
          11589,
          11476,
          11180,
          10891,
          10388,
          10225,
          10024,
          9961,
          9986,
          9703,
          9735,
          9672,
          9615,
          9747,
          9754,
          9779,
          10313,
          10747,
          11161,
          11080,
          11055,
          11011,
          10992,
          10992,
          10941,
          10910,
          10879,
          10835,
          10822,
          10778,
          10747,
          10747,
          10728,
          10690,
          10640,
          10615,
          10998,
          11388,
          11934,
          12431,
          12997,
          12896,
          12890,
          13531,
          13719,
          13479,
          14016,
          13751,
          13745,
          13662,
          13530,
          13309,
          13214,
          13132,
          13056,
          13075,
          13157,
          13441,
          13536,
          13587,
          13555,
          13543,
          13656,
          13681,
          13871,
          14673,
          15253,
          16011,
          15708,
          15279,
          14995,
          14931,
          14843,
          14957,
          14925,
          14906,
          14622,
          14515,
          15108,
          15405,
          15430,
          15752,
          15796,
          16434,
          16920,
          16990,
          17015,
          17249,
          17709,
          18518,
          17861,
          17779,
          17665,
          17583,
          17280,
          17185,
          17312,
          17381,
          17406,
          17381,
          17356,
          17331,
          17312,
          17261,
          17249,
          17261,
          17299,
          17343,
          17394,
          17375,
          17350,
          17331,
          17280,
          17255,
          17160,
          17185,
          17223,
          17236,
          17236,
          17204,
          17084,
          17078,
          17047,
          16927,
          17028,
          17381,
          17476,
          18025,
          18915,
          18795,
          18802,
          18663,
          18505,
          18587,
          18543,
          18713,
          19282,
          19490,
          20102,
          20304,
          20184,
          19894,
          19925,
          20241,
          20393,
          20342,
          20216,
          20197,
          20140,
          20235,
          20797,
          21706,
          22059,
          21952,
          21725,
          21580,
          21485,
          21441,
          21302,
          21239,
          21182,
          20778,
          20374,
          20336,
          20241,
          20146,
          20058,
          19989,
          19951,
          19881,
          19787,
          19749,
          19660,
          19553,
          19439,
          19307,
          19307,
          19351,
          19218,
          19117,
          19048,
          19004,
          18978,
          18928,
          19035,
          19338,
          19313,
          19269,
          19282,
          19332,
          19319,
          19307,
          19294,
          19288,
          19263,
          19244,
          19218,
          19193,
          19180,
          19155,
          19149,
          19143,
          19231,
          19326,
          19364,
          19420,
          19439,
          19439,
          19439,
          19452,
          19528,
          19648,
          19667,
          19692,
          19705,
          19755,
          19780,
          19806,
          19831,
          19837,
          19900,
          19944,
          19989,
          20052,
          20052,
          20033,
          20090,
          20052,
          20020,
          20159,
          20427,
          21171,
          21805,
          21855,
          21904,
          21954,
          21974,
          21974,
          22033,
          22033,
          22023,
          22003,
          21994,
          22023,
          22013,
          22013,
          22013,
          22003,
          21994,
          21984,
          21984,
          21984,
          21974,
          21974,
          22073,
          22222,
          22341,
          22380,
          22390,
          22410,
          22470,
          22470,
          22470,
          22470,
          22450,
          22500,
          22510,
          22510,
          22510,
          22500,
          22500,
          22530,
          22530,
          22520,
          22520,
          22520,
          22520,
          22510,
          22500,
          22490,
          22470,
          22460,
          22450,
          22430,
          22400,
          22390,
          22370,
          22350,
          22310,
          22280,
          22260,
          22230,
          22230,
          22270,
          22300,
          22320,
          22430,
          22490,
          22500,
          22580,
          22620,
          22650,
          22660,
          22670,
          22680,
          22780,
          22810,
          23110,
          23300,
          23640,
          23880,
          24060,
          24140,
          24100,
          24130,
          24130,
          24070,
          24000,
          23950,
          23940,
          23940,
          23940,
          23930,
          23920,
          23910,
          23890,
          23890,
          23880,
          23860,
          23850,
          23860,
          23930,
          23940,
          24000,
          24760,
          24810,
          25680,
          25730,
          25740,
          25720,
          25680
         ],
         "yaxis": "y"
        }
       ],
       "layout": {
        "legend": {
         "tracegroupgap": 0
        },
        "margin": {
         "t": 60
        },
        "template": {
         "data": {
          "bar": [
           {
            "error_x": {
             "color": "#2a3f5f"
            },
            "error_y": {
             "color": "#2a3f5f"
            },
            "marker": {
             "line": {
              "color": "#E5ECF6",
              "width": 0.5
             },
             "pattern": {
              "fillmode": "overlay",
              "size": 10,
              "solidity": 0.2
             }
            },
            "type": "bar"
           }
          ],
          "barpolar": [
           {
            "marker": {
             "line": {
              "color": "#E5ECF6",
              "width": 0.5
             },
             "pattern": {
              "fillmode": "overlay",
              "size": 10,
              "solidity": 0.2
             }
            },
            "type": "barpolar"
           }
          ],
          "carpet": [
           {
            "aaxis": {
             "endlinecolor": "#2a3f5f",
             "gridcolor": "white",
             "linecolor": "white",
             "minorgridcolor": "white",
             "startlinecolor": "#2a3f5f"
            },
            "baxis": {
             "endlinecolor": "#2a3f5f",
             "gridcolor": "white",
             "linecolor": "white",
             "minorgridcolor": "white",
             "startlinecolor": "#2a3f5f"
            },
            "type": "carpet"
           }
          ],
          "choropleth": [
           {
            "colorbar": {
             "outlinewidth": 0,
             "ticks": ""
            },
            "type": "choropleth"
           }
          ],
          "contour": [
           {
            "colorbar": {
             "outlinewidth": 0,
             "ticks": ""
            },
            "colorscale": [
             [
              0,
              "#0d0887"
             ],
             [
              0.1111111111111111,
              "#46039f"
             ],
             [
              0.2222222222222222,
              "#7201a8"
             ],
             [
              0.3333333333333333,
              "#9c179e"
             ],
             [
              0.4444444444444444,
              "#bd3786"
             ],
             [
              0.5555555555555556,
              "#d8576b"
             ],
             [
              0.6666666666666666,
              "#ed7953"
             ],
             [
              0.7777777777777778,
              "#fb9f3a"
             ],
             [
              0.8888888888888888,
              "#fdca26"
             ],
             [
              1,
              "#f0f921"
             ]
            ],
            "type": "contour"
           }
          ],
          "contourcarpet": [
           {
            "colorbar": {
             "outlinewidth": 0,
             "ticks": ""
            },
            "type": "contourcarpet"
           }
          ],
          "heatmap": [
           {
            "colorbar": {
             "outlinewidth": 0,
             "ticks": ""
            },
            "colorscale": [
             [
              0,
              "#0d0887"
             ],
             [
              0.1111111111111111,
              "#46039f"
             ],
             [
              0.2222222222222222,
              "#7201a8"
             ],
             [
              0.3333333333333333,
              "#9c179e"
             ],
             [
              0.4444444444444444,
              "#bd3786"
             ],
             [
              0.5555555555555556,
              "#d8576b"
             ],
             [
              0.6666666666666666,
              "#ed7953"
             ],
             [
              0.7777777777777778,
              "#fb9f3a"
             ],
             [
              0.8888888888888888,
              "#fdca26"
             ],
             [
              1,
              "#f0f921"
             ]
            ],
            "type": "heatmap"
           }
          ],
          "heatmapgl": [
           {
            "colorbar": {
             "outlinewidth": 0,
             "ticks": ""
            },
            "colorscale": [
             [
              0,
              "#0d0887"
             ],
             [
              0.1111111111111111,
              "#46039f"
             ],
             [
              0.2222222222222222,
              "#7201a8"
             ],
             [
              0.3333333333333333,
              "#9c179e"
             ],
             [
              0.4444444444444444,
              "#bd3786"
             ],
             [
              0.5555555555555556,
              "#d8576b"
             ],
             [
              0.6666666666666666,
              "#ed7953"
             ],
             [
              0.7777777777777778,
              "#fb9f3a"
             ],
             [
              0.8888888888888888,
              "#fdca26"
             ],
             [
              1,
              "#f0f921"
             ]
            ],
            "type": "heatmapgl"
           }
          ],
          "histogram": [
           {
            "marker": {
             "pattern": {
              "fillmode": "overlay",
              "size": 10,
              "solidity": 0.2
             }
            },
            "type": "histogram"
           }
          ],
          "histogram2d": [
           {
            "colorbar": {
             "outlinewidth": 0,
             "ticks": ""
            },
            "colorscale": [
             [
              0,
              "#0d0887"
             ],
             [
              0.1111111111111111,
              "#46039f"
             ],
             [
              0.2222222222222222,
              "#7201a8"
             ],
             [
              0.3333333333333333,
              "#9c179e"
             ],
             [
              0.4444444444444444,
              "#bd3786"
             ],
             [
              0.5555555555555556,
              "#d8576b"
             ],
             [
              0.6666666666666666,
              "#ed7953"
             ],
             [
              0.7777777777777778,
              "#fb9f3a"
             ],
             [
              0.8888888888888888,
              "#fdca26"
             ],
             [
              1,
              "#f0f921"
             ]
            ],
            "type": "histogram2d"
           }
          ],
          "histogram2dcontour": [
           {
            "colorbar": {
             "outlinewidth": 0,
             "ticks": ""
            },
            "colorscale": [
             [
              0,
              "#0d0887"
             ],
             [
              0.1111111111111111,
              "#46039f"
             ],
             [
              0.2222222222222222,
              "#7201a8"
             ],
             [
              0.3333333333333333,
              "#9c179e"
             ],
             [
              0.4444444444444444,
              "#bd3786"
             ],
             [
              0.5555555555555556,
              "#d8576b"
             ],
             [
              0.6666666666666666,
              "#ed7953"
             ],
             [
              0.7777777777777778,
              "#fb9f3a"
             ],
             [
              0.8888888888888888,
              "#fdca26"
             ],
             [
              1,
              "#f0f921"
             ]
            ],
            "type": "histogram2dcontour"
           }
          ],
          "mesh3d": [
           {
            "colorbar": {
             "outlinewidth": 0,
             "ticks": ""
            },
            "type": "mesh3d"
           }
          ],
          "parcoords": [
           {
            "line": {
             "colorbar": {
              "outlinewidth": 0,
              "ticks": ""
             }
            },
            "type": "parcoords"
           }
          ],
          "pie": [
           {
            "automargin": true,
            "type": "pie"
           }
          ],
          "scatter": [
           {
            "fillpattern": {
             "fillmode": "overlay",
             "size": 10,
             "solidity": 0.2
            },
            "type": "scatter"
           }
          ],
          "scatter3d": [
           {
            "line": {
             "colorbar": {
              "outlinewidth": 0,
              "ticks": ""
             }
            },
            "marker": {
             "colorbar": {
              "outlinewidth": 0,
              "ticks": ""
             }
            },
            "type": "scatter3d"
           }
          ],
          "scattercarpet": [
           {
            "marker": {
             "colorbar": {
              "outlinewidth": 0,
              "ticks": ""
             }
            },
            "type": "scattercarpet"
           }
          ],
          "scattergeo": [
           {
            "marker": {
             "colorbar": {
              "outlinewidth": 0,
              "ticks": ""
             }
            },
            "type": "scattergeo"
           }
          ],
          "scattergl": [
           {
            "marker": {
             "colorbar": {
              "outlinewidth": 0,
              "ticks": ""
             }
            },
            "type": "scattergl"
           }
          ],
          "scattermapbox": [
           {
            "marker": {
             "colorbar": {
              "outlinewidth": 0,
              "ticks": ""
             }
            },
            "type": "scattermapbox"
           }
          ],
          "scatterpolar": [
           {
            "marker": {
             "colorbar": {
              "outlinewidth": 0,
              "ticks": ""
             }
            },
            "type": "scatterpolar"
           }
          ],
          "scatterpolargl": [
           {
            "marker": {
             "colorbar": {
              "outlinewidth": 0,
              "ticks": ""
             }
            },
            "type": "scatterpolargl"
           }
          ],
          "scatterternary": [
           {
            "marker": {
             "colorbar": {
              "outlinewidth": 0,
              "ticks": ""
             }
            },
            "type": "scatterternary"
           }
          ],
          "surface": [
           {
            "colorbar": {
             "outlinewidth": 0,
             "ticks": ""
            },
            "colorscale": [
             [
              0,
              "#0d0887"
             ],
             [
              0.1111111111111111,
              "#46039f"
             ],
             [
              0.2222222222222222,
              "#7201a8"
             ],
             [
              0.3333333333333333,
              "#9c179e"
             ],
             [
              0.4444444444444444,
              "#bd3786"
             ],
             [
              0.5555555555555556,
              "#d8576b"
             ],
             [
              0.6666666666666666,
              "#ed7953"
             ],
             [
              0.7777777777777778,
              "#fb9f3a"
             ],
             [
              0.8888888888888888,
              "#fdca26"
             ],
             [
              1,
              "#f0f921"
             ]
            ],
            "type": "surface"
           }
          ],
          "table": [
           {
            "cells": {
             "fill": {
              "color": "#EBF0F8"
             },
             "line": {
              "color": "white"
             }
            },
            "header": {
             "fill": {
              "color": "#C8D4E3"
             },
             "line": {
              "color": "white"
             }
            },
            "type": "table"
           }
          ]
         },
         "layout": {
          "annotationdefaults": {
           "arrowcolor": "#2a3f5f",
           "arrowhead": 0,
           "arrowwidth": 1
          },
          "autotypenumbers": "strict",
          "coloraxis": {
           "colorbar": {
            "outlinewidth": 0,
            "ticks": ""
           }
          },
          "colorscale": {
           "diverging": [
            [
             0,
             "#8e0152"
            ],
            [
             0.1,
             "#c51b7d"
            ],
            [
             0.2,
             "#de77ae"
            ],
            [
             0.3,
             "#f1b6da"
            ],
            [
             0.4,
             "#fde0ef"
            ],
            [
             0.5,
             "#f7f7f7"
            ],
            [
             0.6,
             "#e6f5d0"
            ],
            [
             0.7,
             "#b8e186"
            ],
            [
             0.8,
             "#7fbc41"
            ],
            [
             0.9,
             "#4d9221"
            ],
            [
             1,
             "#276419"
            ]
           ],
           "sequential": [
            [
             0,
             "#0d0887"
            ],
            [
             0.1111111111111111,
             "#46039f"
            ],
            [
             0.2222222222222222,
             "#7201a8"
            ],
            [
             0.3333333333333333,
             "#9c179e"
            ],
            [
             0.4444444444444444,
             "#bd3786"
            ],
            [
             0.5555555555555556,
             "#d8576b"
            ],
            [
             0.6666666666666666,
             "#ed7953"
            ],
            [
             0.7777777777777778,
             "#fb9f3a"
            ],
            [
             0.8888888888888888,
             "#fdca26"
            ],
            [
             1,
             "#f0f921"
            ]
           ],
           "sequentialminus": [
            [
             0,
             "#0d0887"
            ],
            [
             0.1111111111111111,
             "#46039f"
            ],
            [
             0.2222222222222222,
             "#7201a8"
            ],
            [
             0.3333333333333333,
             "#9c179e"
            ],
            [
             0.4444444444444444,
             "#bd3786"
            ],
            [
             0.5555555555555556,
             "#d8576b"
            ],
            [
             0.6666666666666666,
             "#ed7953"
            ],
            [
             0.7777777777777778,
             "#fb9f3a"
            ],
            [
             0.8888888888888888,
             "#fdca26"
            ],
            [
             1,
             "#f0f921"
            ]
           ]
          },
          "colorway": [
           "#636efa",
           "#EF553B",
           "#00cc96",
           "#ab63fa",
           "#FFA15A",
           "#19d3f3",
           "#FF6692",
           "#B6E880",
           "#FF97FF",
           "#FECB52"
          ],
          "font": {
           "color": "#2a3f5f"
          },
          "geo": {
           "bgcolor": "white",
           "lakecolor": "white",
           "landcolor": "#E5ECF6",
           "showlakes": true,
           "showland": true,
           "subunitcolor": "white"
          },
          "hoverlabel": {
           "align": "left"
          },
          "hovermode": "closest",
          "mapbox": {
           "style": "light"
          },
          "paper_bgcolor": "white",
          "plot_bgcolor": "#E5ECF6",
          "polar": {
           "angularaxis": {
            "gridcolor": "white",
            "linecolor": "white",
            "ticks": ""
           },
           "bgcolor": "#E5ECF6",
           "radialaxis": {
            "gridcolor": "white",
            "linecolor": "white",
            "ticks": ""
           }
          },
          "scene": {
           "xaxis": {
            "backgroundcolor": "#E5ECF6",
            "gridcolor": "white",
            "gridwidth": 2,
            "linecolor": "white",
            "showbackground": true,
            "ticks": "",
            "zerolinecolor": "white"
           },
           "yaxis": {
            "backgroundcolor": "#E5ECF6",
            "gridcolor": "white",
            "gridwidth": 2,
            "linecolor": "white",
            "showbackground": true,
            "ticks": "",
            "zerolinecolor": "white"
           },
           "zaxis": {
            "backgroundcolor": "#E5ECF6",
            "gridcolor": "white",
            "gridwidth": 2,
            "linecolor": "white",
            "showbackground": true,
            "ticks": "",
            "zerolinecolor": "white"
           }
          },
          "shapedefaults": {
           "line": {
            "color": "#2a3f5f"
           }
          },
          "ternary": {
           "aaxis": {
            "gridcolor": "white",
            "linecolor": "white",
            "ticks": ""
           },
           "baxis": {
            "gridcolor": "white",
            "linecolor": "white",
            "ticks": ""
           },
           "bgcolor": "#E5ECF6",
           "caxis": {
            "gridcolor": "white",
            "linecolor": "white",
            "ticks": ""
           }
          },
          "title": {
           "x": 0.05
          },
          "xaxis": {
           "automargin": true,
           "gridcolor": "white",
           "linecolor": "white",
           "ticks": "",
           "title": {
            "standoff": 15
           },
           "zerolinecolor": "white",
           "zerolinewidth": 2
          },
          "yaxis": {
           "automargin": true,
           "gridcolor": "white",
           "linecolor": "white",
           "ticks": "",
           "title": {
            "standoff": 15
           },
           "zerolinecolor": "white",
           "zerolinewidth": 2
          }
         }
        },
        "xaxis": {
         "anchor": "y",
         "domain": [
          0,
          1
         ],
         "title": {
          "text": "date"
         }
        },
        "yaxis": {
         "anchor": "x",
         "domain": [
          0,
          1
         ],
         "title": {
          "text": "close"
         }
        }
       }
      }
     },
     "metadata": {},
     "output_type": "display_data"
    }
   ],
   "source": [
    "#line plot of close column\n",
    "close_line = px.__(...)\n",
    "#show the plot\n",
    "close_line.___()"
   ]
  },
  {
   "cell_type": "markdown",
   "metadata": {},
   "source": [
    "<p dir=rtl style=\"direction: rtl;text-align: right;line-height:200%;font-family:vazir;font-size:medium\">\n",
    "<font face=\"vazir\" size=3>\n",
    "ستون\n",
    "<code>return</code>\n",
    "میزان بازدهی روزانه را نشان میدهد.\n",
    "نمودار تغییرات \n",
    "آن \n",
    "را در طول\n",
    "زمان رسم کنید.\n",
    "</font>\n",
    "</p>"
   ]
  },
  {
   "cell_type": "code",
   "execution_count": 24,
   "metadata": {},
   "outputs": [
    {
     "data": {
      "application/vnd.plotly.v1+json": {
       "config": {
        "plotlyServerURL": "https://plot.ly"
       },
       "data": [
        {
         "hovertemplate": "date=%{x}<br>return=%{y}<extra></extra>",
         "legendgroup": "",
         "line": {
          "color": "#636efa",
          "dash": "solid"
         },
         "marker": {
          "symbol": "circle"
         },
         "mode": "lines",
         "name": "",
         "orientation": "v",
         "showlegend": false,
         "type": "scatter",
         "x": [
          "2018-06-03T00:00:00",
          "2018-06-09T00:00:00",
          "2018-06-10T00:00:00",
          "2018-06-11T00:00:00",
          "2018-06-12T00:00:00",
          "2018-06-13T00:00:00",
          "2018-06-17T00:00:00",
          "2018-06-18T00:00:00",
          "2018-06-19T00:00:00",
          "2018-06-20T00:00:00",
          "2018-06-23T00:00:00",
          "2018-06-24T00:00:00",
          "2018-06-25T00:00:00",
          "2018-06-26T00:00:00",
          "2018-06-27T00:00:00",
          "2018-06-30T00:00:00",
          "2018-07-01T00:00:00",
          "2018-07-02T00:00:00",
          "2018-07-03T00:00:00",
          "2018-07-04T00:00:00",
          "2018-07-07T00:00:00",
          "2018-07-08T00:00:00",
          "2018-07-10T00:00:00",
          "2018-07-11T00:00:00",
          "2018-07-14T00:00:00",
          "2018-07-15T00:00:00",
          "2018-07-16T00:00:00",
          "2018-07-17T00:00:00",
          "2018-07-18T00:00:00",
          "2018-07-21T00:00:00",
          "2018-07-22T00:00:00",
          "2018-07-23T00:00:00",
          "2018-07-24T00:00:00",
          "2018-07-25T00:00:00",
          "2018-07-28T00:00:00",
          "2018-07-29T00:00:00",
          "2018-07-30T00:00:00",
          "2018-07-31T00:00:00",
          "2018-08-01T00:00:00",
          "2018-08-04T00:00:00",
          "2018-08-05T00:00:00",
          "2018-08-06T00:00:00",
          "2018-08-07T00:00:00",
          "2018-08-08T00:00:00",
          "2018-08-11T00:00:00",
          "2018-08-12T00:00:00",
          "2018-08-13T00:00:00",
          "2018-08-14T00:00:00",
          "2018-08-15T00:00:00",
          "2018-08-18T00:00:00",
          "2018-08-19T00:00:00",
          "2018-08-20T00:00:00",
          "2018-08-21T00:00:00",
          "2018-08-25T00:00:00",
          "2018-08-26T00:00:00",
          "2018-08-27T00:00:00",
          "2018-08-28T00:00:00",
          "2018-08-29T00:00:00",
          "2018-09-01T00:00:00",
          "2018-09-02T00:00:00",
          "2018-09-03T00:00:00",
          "2018-09-04T00:00:00",
          "2018-09-05T00:00:00",
          "2018-09-08T00:00:00",
          "2018-09-09T00:00:00",
          "2018-09-10T00:00:00",
          "2018-09-11T00:00:00",
          "2018-09-12T00:00:00",
          "2018-09-15T00:00:00",
          "2018-09-16T00:00:00",
          "2018-09-17T00:00:00",
          "2018-09-23T00:00:00",
          "2018-09-24T00:00:00",
          "2018-09-25T00:00:00",
          "2018-09-26T00:00:00",
          "2018-09-29T00:00:00",
          "2018-09-30T00:00:00",
          "2018-10-01T00:00:00",
          "2018-10-02T00:00:00",
          "2018-10-03T00:00:00",
          "2018-10-06T00:00:00",
          "2018-10-07T00:00:00",
          "2018-10-08T00:00:00",
          "2018-10-09T00:00:00",
          "2018-10-10T00:00:00",
          "2018-10-13T00:00:00",
          "2018-10-15T00:00:00",
          "2018-10-16T00:00:00",
          "2018-10-17T00:00:00",
          "2018-10-20T00:00:00",
          "2018-10-21T00:00:00",
          "2018-10-22T00:00:00",
          "2018-10-23T00:00:00",
          "2018-10-24T00:00:00",
          "2018-10-27T00:00:00",
          "2018-10-28T00:00:00",
          "2018-10-29T00:00:00",
          "2018-10-31T00:00:00",
          "2018-11-03T00:00:00",
          "2018-11-04T00:00:00",
          "2018-11-05T00:00:00",
          "2018-11-06T00:00:00",
          "2018-11-10T00:00:00",
          "2018-11-11T00:00:00",
          "2018-11-12T00:00:00",
          "2018-11-13T00:00:00",
          "2018-11-14T00:00:00",
          "2018-11-17T00:00:00",
          "2018-11-18T00:00:00",
          "2018-11-19T00:00:00",
          "2018-11-20T00:00:00",
          "2018-11-21T00:00:00",
          "2018-11-24T00:00:00",
          "2018-11-26T00:00:00",
          "2018-11-27T00:00:00",
          "2018-11-28T00:00:00",
          "2018-12-01T00:00:00",
          "2018-12-02T00:00:00",
          "2018-12-03T00:00:00",
          "2018-12-04T00:00:00",
          "2018-12-05T00:00:00",
          "2018-12-08T00:00:00",
          "2018-12-09T00:00:00",
          "2018-12-10T00:00:00",
          "2018-12-11T00:00:00",
          "2018-12-12T00:00:00",
          "2018-12-15T00:00:00",
          "2018-12-16T00:00:00",
          "2018-12-17T00:00:00",
          "2018-12-18T00:00:00",
          "2018-12-19T00:00:00",
          "2018-12-22T00:00:00",
          "2018-12-23T00:00:00",
          "2018-12-24T00:00:00",
          "2018-12-25T00:00:00",
          "2018-12-26T00:00:00",
          "2018-12-29T00:00:00",
          "2018-12-30T00:00:00",
          "2018-12-31T00:00:00",
          "2019-01-01T00:00:00",
          "2019-01-02T00:00:00",
          "2019-01-05T00:00:00",
          "2019-01-06T00:00:00",
          "2019-01-07T00:00:00",
          "2019-01-08T00:00:00",
          "2019-01-09T00:00:00",
          "2019-01-12T00:00:00",
          "2019-01-13T00:00:00",
          "2019-01-14T00:00:00",
          "2019-01-15T00:00:00",
          "2019-01-16T00:00:00",
          "2019-01-19T00:00:00",
          "2019-01-20T00:00:00",
          "2019-01-21T00:00:00",
          "2019-01-22T00:00:00",
          "2019-01-23T00:00:00",
          "2019-01-26T00:00:00",
          "2019-01-27T00:00:00",
          "2019-01-28T00:00:00",
          "2019-01-29T00:00:00",
          "2019-01-30T00:00:00",
          "2019-02-02T00:00:00",
          "2019-02-03T00:00:00",
          "2019-02-04T00:00:00",
          "2019-02-05T00:00:00",
          "2019-02-06T00:00:00",
          "2019-02-10T00:00:00",
          "2019-02-12T00:00:00",
          "2019-02-13T00:00:00",
          "2019-02-16T00:00:00",
          "2019-02-17T00:00:00",
          "2019-02-18T00:00:00",
          "2019-02-19T00:00:00",
          "2019-02-20T00:00:00",
          "2019-02-23T00:00:00",
          "2019-02-24T00:00:00",
          "2019-02-25T00:00:00",
          "2019-02-26T00:00:00",
          "2019-03-10T00:00:00",
          "2019-03-11T00:00:00",
          "2019-03-12T00:00:00",
          "2019-03-27T00:00:00",
          "2019-03-30T00:00:00",
          "2019-03-31T00:00:00",
          "2019-04-06T00:00:00",
          "2019-04-07T00:00:00",
          "2019-04-08T00:00:00",
          "2019-04-09T00:00:00",
          "2019-04-10T00:00:00",
          "2019-04-13T00:00:00",
          "2019-04-14T00:00:00",
          "2019-04-15T00:00:00",
          "2019-04-16T00:00:00",
          "2019-04-17T00:00:00",
          "2019-04-20T00:00:00",
          "2019-04-22T00:00:00",
          "2019-04-23T00:00:00",
          "2019-04-24T00:00:00",
          "2019-04-27T00:00:00",
          "2019-04-28T00:00:00",
          "2019-04-29T00:00:00",
          "2019-04-30T00:00:00",
          "2019-05-01T00:00:00",
          "2019-05-04T00:00:00",
          "2019-05-05T00:00:00",
          "2019-05-06T00:00:00",
          "2019-05-07T00:00:00",
          "2019-05-08T00:00:00",
          "2019-05-11T00:00:00",
          "2019-05-12T00:00:00",
          "2019-05-13T00:00:00",
          "2019-05-14T00:00:00",
          "2019-05-15T00:00:00",
          "2019-05-18T00:00:00",
          "2019-05-19T00:00:00",
          "2019-05-20T00:00:00",
          "2019-05-21T00:00:00",
          "2019-05-22T00:00:00",
          "2019-05-25T00:00:00",
          "2019-05-26T00:00:00",
          "2019-05-28T00:00:00",
          "2019-05-29T00:00:00",
          "2019-06-01T00:00:00",
          "2019-06-02T00:00:00",
          "2019-06-03T00:00:00",
          "2019-06-08T00:00:00",
          "2019-06-09T00:00:00",
          "2019-06-10T00:00:00",
          "2019-06-11T00:00:00",
          "2019-06-12T00:00:00",
          "2019-06-15T00:00:00",
          "2019-06-16T00:00:00",
          "2019-06-17T00:00:00",
          "2019-06-18T00:00:00",
          "2019-06-19T00:00:00",
          "2019-06-22T00:00:00",
          "2019-06-23T00:00:00",
          "2019-06-24T00:00:00",
          "2019-06-25T00:00:00",
          "2019-06-26T00:00:00",
          "2019-06-30T00:00:00",
          "2019-07-01T00:00:00",
          "2019-07-02T00:00:00",
          "2019-07-03T00:00:00",
          "2019-07-06T00:00:00",
          "2019-07-07T00:00:00",
          "2019-07-08T00:00:00",
          "2019-07-09T00:00:00",
          "2019-07-10T00:00:00",
          "2019-07-13T00:00:00",
          "2019-07-14T00:00:00",
          "2019-07-15T00:00:00",
          "2019-07-16T00:00:00",
          "2019-07-17T00:00:00",
          "2019-07-20T00:00:00",
          "2019-07-21T00:00:00",
          "2019-07-22T00:00:00",
          "2019-07-23T00:00:00",
          "2019-07-24T00:00:00",
          "2019-07-27T00:00:00",
          "2019-07-28T00:00:00",
          "2019-07-29T00:00:00",
          "2019-07-30T00:00:00",
          "2019-07-31T00:00:00",
          "2019-08-03T00:00:00",
          "2019-08-04T00:00:00",
          "2019-08-05T00:00:00",
          "2019-08-06T00:00:00",
          "2019-08-07T00:00:00",
          "2019-08-10T00:00:00",
          "2019-08-11T00:00:00",
          "2019-08-13T00:00:00",
          "2019-08-14T00:00:00",
          "2019-08-17T00:00:00",
          "2019-08-18T00:00:00",
          "2019-08-19T00:00:00",
          "2019-08-21T00:00:00",
          "2019-08-24T00:00:00",
          "2019-08-25T00:00:00",
          "2019-08-26T00:00:00",
          "2019-08-27T00:00:00",
          "2019-08-28T00:00:00",
          "2019-08-31T00:00:00",
          "2019-09-01T00:00:00",
          "2019-09-02T00:00:00",
          "2019-09-03T00:00:00",
          "2019-09-04T00:00:00",
          "2019-09-07T00:00:00",
          "2019-09-08T00:00:00",
          "2019-09-11T00:00:00",
          "2019-09-14T00:00:00",
          "2019-09-15T00:00:00",
          "2019-09-16T00:00:00",
          "2019-09-17T00:00:00",
          "2019-09-18T00:00:00",
          "2019-09-21T00:00:00",
          "2019-09-22T00:00:00",
          "2019-09-23T00:00:00",
          "2019-09-24T00:00:00",
          "2019-09-25T00:00:00",
          "2019-09-28T00:00:00",
          "2019-09-29T00:00:00",
          "2019-09-30T00:00:00",
          "2019-10-01T00:00:00",
          "2019-10-02T00:00:00",
          "2019-10-05T00:00:00",
          "2019-10-06T00:00:00",
          "2019-10-07T00:00:00",
          "2019-10-08T00:00:00",
          "2019-10-09T00:00:00",
          "2019-10-12T00:00:00",
          "2019-10-13T00:00:00",
          "2019-10-14T00:00:00",
          "2019-10-15T00:00:00",
          "2019-10-16T00:00:00",
          "2019-10-20T00:00:00",
          "2019-10-21T00:00:00",
          "2019-10-22T00:00:00",
          "2019-10-23T00:00:00",
          "2019-10-26T00:00:00",
          "2019-10-28T00:00:00",
          "2019-10-30T00:00:00",
          "2019-11-02T00:00:00",
          "2019-11-03T00:00:00",
          "2019-11-04T00:00:00",
          "2019-11-05T00:00:00",
          "2019-11-09T00:00:00",
          "2019-11-10T00:00:00",
          "2019-11-11T00:00:00",
          "2019-11-12T00:00:00",
          "2019-11-13T00:00:00",
          "2019-11-16T00:00:00",
          "2019-11-17T00:00:00",
          "2019-11-18T00:00:00",
          "2019-11-19T00:00:00",
          "2019-11-20T00:00:00",
          "2019-11-23T00:00:00",
          "2019-11-24T00:00:00",
          "2019-11-25T00:00:00",
          "2019-11-26T00:00:00",
          "2019-11-27T00:00:00",
          "2019-11-30T00:00:00",
          "2019-12-01T00:00:00",
          "2019-12-02T00:00:00",
          "2019-12-03T00:00:00",
          "2019-12-04T00:00:00",
          "2019-12-07T00:00:00",
          "2019-12-08T00:00:00",
          "2019-12-09T00:00:00",
          "2019-12-10T00:00:00",
          "2019-12-11T00:00:00",
          "2019-12-14T00:00:00",
          "2019-12-15T00:00:00",
          "2019-12-16T00:00:00",
          "2019-12-17T00:00:00",
          "2019-12-18T00:00:00",
          "2019-12-21T00:00:00",
          "2019-12-22T00:00:00",
          "2019-12-23T00:00:00",
          "2019-12-24T00:00:00",
          "2019-12-25T00:00:00",
          "2019-12-28T00:00:00",
          "2019-12-29T00:00:00",
          "2019-12-30T00:00:00",
          "2019-12-31T00:00:00",
          "2020-01-01T00:00:00",
          "2020-01-04T00:00:00",
          "2020-01-05T00:00:00",
          "2020-01-07T00:00:00",
          "2020-01-08T00:00:00",
          "2020-01-11T00:00:00",
          "2020-01-12T00:00:00",
          "2020-01-13T00:00:00",
          "2020-01-14T00:00:00",
          "2020-01-15T00:00:00",
          "2020-01-18T00:00:00",
          "2020-01-19T00:00:00",
          "2020-01-20T00:00:00",
          "2020-01-21T00:00:00",
          "2020-01-22T00:00:00",
          "2020-01-25T00:00:00",
          "2020-01-26T00:00:00",
          "2020-01-27T00:00:00",
          "2020-01-28T00:00:00",
          "2020-02-01T00:00:00",
          "2020-02-02T00:00:00",
          "2020-02-03T00:00:00",
          "2020-02-04T00:00:00",
          "2020-02-05T00:00:00",
          "2020-02-08T00:00:00",
          "2020-02-09T00:00:00",
          "2020-02-10T00:00:00",
          "2020-02-12T00:00:00",
          "2020-02-15T00:00:00",
          "2020-02-16T00:00:00",
          "2020-02-17T00:00:00",
          "2020-02-18T00:00:00",
          "2020-02-19T00:00:00",
          "2020-02-22T00:00:00",
          "2020-02-23T00:00:00",
          "2020-02-24T00:00:00",
          "2020-02-25T00:00:00",
          "2020-02-26T00:00:00",
          "2020-02-29T00:00:00",
          "2020-03-01T00:00:00",
          "2020-03-02T00:00:00",
          "2020-03-03T00:00:00",
          "2020-03-04T00:00:00",
          "2020-03-07T00:00:00",
          "2020-03-09T00:00:00",
          "2020-03-10T00:00:00",
          "2020-03-11T00:00:00",
          "2020-03-14T00:00:00",
          "2020-03-15T00:00:00",
          "2020-03-16T00:00:00",
          "2020-03-17T00:00:00",
          "2020-03-18T00:00:00",
          "2020-03-24T00:00:00",
          "2020-03-25T00:00:00",
          "2020-03-28T00:00:00",
          "2020-03-29T00:00:00",
          "2020-03-30T00:00:00",
          "2020-04-04T00:00:00",
          "2020-04-11T00:00:00",
          "2020-04-12T00:00:00",
          "2020-04-13T00:00:00",
          "2020-04-14T00:00:00",
          "2020-04-15T00:00:00",
          "2020-04-18T00:00:00",
          "2020-04-19T00:00:00",
          "2020-04-20T00:00:00",
          "2020-04-21T00:00:00",
          "2020-04-22T00:00:00",
          "2020-04-25T00:00:00",
          "2020-04-26T00:00:00",
          "2020-04-28T00:00:00",
          "2020-04-29T00:00:00",
          "2020-05-02T00:00:00",
          "2020-05-03T00:00:00",
          "2020-05-04T00:00:00",
          "2020-05-05T00:00:00",
          "2020-05-06T00:00:00",
          "2020-05-09T00:00:00",
          "2020-05-10T00:00:00",
          "2020-05-11T00:00:00",
          "2020-05-12T00:00:00",
          "2020-05-13T00:00:00",
          "2020-05-16T00:00:00",
          "2020-05-17T00:00:00",
          "2020-05-18T00:00:00",
          "2020-05-19T00:00:00",
          "2020-05-20T00:00:00",
          "2020-05-23T00:00:00",
          "2020-05-26T00:00:00",
          "2020-05-27T00:00:00",
          "2020-05-30T00:00:00",
          "2020-05-31T00:00:00",
          "2020-06-01T00:00:00",
          "2020-06-02T00:00:00",
          "2020-06-06T00:00:00",
          "2020-06-07T00:00:00",
          "2020-06-08T00:00:00",
          "2020-06-09T00:00:00",
          "2020-06-10T00:00:00",
          "2020-06-13T00:00:00",
          "2020-06-14T00:00:00",
          "2020-06-15T00:00:00",
          "2020-06-16T00:00:00",
          "2020-06-20T00:00:00",
          "2020-06-21T00:00:00",
          "2020-06-22T00:00:00",
          "2020-06-23T00:00:00",
          "2020-06-24T00:00:00",
          "2020-06-27T00:00:00",
          "2020-06-28T00:00:00",
          "2020-06-29T00:00:00",
          "2020-06-30T00:00:00",
          "2020-07-01T00:00:00",
          "2020-07-04T00:00:00",
          "2020-07-05T00:00:00",
          "2020-07-06T00:00:00",
          "2020-07-07T00:00:00",
          "2020-07-08T00:00:00",
          "2020-07-11T00:00:00",
          "2020-07-12T00:00:00",
          "2020-07-13T00:00:00",
          "2020-07-14T00:00:00",
          "2020-07-15T00:00:00",
          "2020-07-18T00:00:00",
          "2020-07-19T00:00:00",
          "2020-07-20T00:00:00",
          "2020-07-21T00:00:00",
          "2020-07-22T00:00:00",
          "2020-07-25T00:00:00",
          "2020-07-26T00:00:00",
          "2020-07-27T00:00:00",
          "2020-07-28T00:00:00",
          "2020-07-29T00:00:00",
          "2020-08-01T00:00:00",
          "2020-08-02T00:00:00",
          "2020-08-03T00:00:00",
          "2020-08-04T00:00:00",
          "2020-08-05T00:00:00",
          "2020-08-09T00:00:00",
          "2020-08-10T00:00:00",
          "2020-08-11T00:00:00",
          "2020-08-12T00:00:00",
          "2020-08-15T00:00:00",
          "2020-08-16T00:00:00",
          "2020-08-17T00:00:00",
          "2020-08-18T00:00:00",
          "2020-08-19T00:00:00",
          "2020-08-22T00:00:00",
          "2020-08-23T00:00:00",
          "2020-08-24T00:00:00",
          "2020-08-25T00:00:00",
          "2020-08-26T00:00:00",
          "2020-08-31T00:00:00",
          "2020-09-01T00:00:00",
          "2020-09-02T00:00:00",
          "2020-09-05T00:00:00",
          "2020-09-06T00:00:00",
          "2020-09-07T00:00:00",
          "2020-09-08T00:00:00",
          "2020-09-09T00:00:00",
          "2020-09-12T00:00:00",
          "2020-09-13T00:00:00",
          "2020-09-14T00:00:00",
          "2020-09-15T00:00:00",
          "2020-09-16T00:00:00",
          "2020-09-19T00:00:00",
          "2020-09-20T00:00:00",
          "2020-09-21T00:00:00",
          "2020-09-22T00:00:00",
          "2020-09-23T00:00:00",
          "2020-09-26T00:00:00",
          "2020-09-27T00:00:00",
          "2020-09-28T00:00:00",
          "2020-09-29T00:00:00",
          "2020-09-30T00:00:00",
          "2020-10-03T00:00:00",
          "2020-10-04T00:00:00",
          "2020-10-05T00:00:00",
          "2020-10-06T00:00:00",
          "2020-10-07T00:00:00",
          "2020-10-10T00:00:00",
          "2020-10-11T00:00:00",
          "2020-10-12T00:00:00",
          "2020-10-13T00:00:00",
          "2020-10-31T00:00:00",
          "2020-11-01T00:00:00",
          "2020-11-02T00:00:00",
          "2020-11-04T00:00:00",
          "2020-11-07T00:00:00",
          "2020-11-08T00:00:00",
          "2020-11-09T00:00:00",
          "2020-11-10T00:00:00",
          "2020-11-11T00:00:00",
          "2020-11-14T00:00:00",
          "2020-11-15T00:00:00",
          "2020-11-16T00:00:00",
          "2020-11-17T00:00:00",
          "2020-11-18T00:00:00",
          "2020-11-21T00:00:00",
          "2020-11-22T00:00:00",
          "2020-11-23T00:00:00",
          "2020-11-24T00:00:00",
          "2020-11-25T00:00:00",
          "2020-11-28T00:00:00",
          "2020-11-29T00:00:00",
          "2020-11-30T00:00:00",
          "2020-12-01T00:00:00",
          "2020-12-02T00:00:00",
          "2020-12-05T00:00:00",
          "2020-12-06T00:00:00",
          "2020-12-07T00:00:00",
          "2020-12-08T00:00:00",
          "2020-12-09T00:00:00",
          "2020-12-12T00:00:00",
          "2020-12-13T00:00:00",
          "2020-12-14T00:00:00",
          "2020-12-15T00:00:00",
          "2020-12-16T00:00:00",
          "2020-12-19T00:00:00",
          "2020-12-20T00:00:00",
          "2020-12-21T00:00:00",
          "2020-12-22T00:00:00",
          "2020-12-23T00:00:00",
          "2020-12-26T00:00:00",
          "2020-12-27T00:00:00",
          "2020-12-28T00:00:00",
          "2020-12-29T00:00:00",
          "2020-12-30T00:00:00",
          "2021-01-02T00:00:00",
          "2021-01-03T00:00:00",
          "2021-01-04T00:00:00",
          "2021-01-05T00:00:00",
          "2021-01-06T00:00:00",
          "2021-01-09T00:00:00",
          "2021-01-10T00:00:00",
          "2021-01-11T00:00:00",
          "2021-01-12T00:00:00",
          "2021-01-13T00:00:00",
          "2021-01-16T00:00:00",
          "2021-01-18T00:00:00",
          "2021-01-19T00:00:00",
          "2021-01-20T00:00:00",
          "2021-01-23T00:00:00",
          "2021-01-24T00:00:00",
          "2021-01-25T00:00:00",
          "2021-01-26T00:00:00",
          "2021-01-27T00:00:00",
          "2021-01-30T00:00:00",
          "2021-01-31T00:00:00",
          "2021-02-01T00:00:00",
          "2021-02-02T00:00:00",
          "2021-02-03T00:00:00",
          "2021-02-06T00:00:00",
          "2021-02-07T00:00:00",
          "2021-02-08T00:00:00",
          "2021-02-09T00:00:00",
          "2021-02-13T00:00:00",
          "2021-02-14T00:00:00",
          "2021-02-15T00:00:00",
          "2021-02-16T00:00:00",
          "2021-02-17T00:00:00",
          "2021-02-20T00:00:00",
          "2021-02-21T00:00:00",
          "2021-02-22T00:00:00",
          "2021-02-23T00:00:00",
          "2021-02-24T00:00:00",
          "2021-02-27T00:00:00",
          "2021-02-28T00:00:00",
          "2021-03-01T00:00:00",
          "2021-03-02T00:00:00",
          "2021-03-03T00:00:00",
          "2021-03-06T00:00:00",
          "2021-03-07T00:00:00",
          "2021-03-08T00:00:00",
          "2021-03-09T00:00:00",
          "2021-03-10T00:00:00",
          "2021-03-13T00:00:00",
          "2021-03-14T00:00:00",
          "2021-03-15T00:00:00",
          "2021-03-16T00:00:00",
          "2021-03-17T00:00:00",
          "2021-03-30T00:00:00",
          "2021-03-31T00:00:00",
          "2021-04-03T00:00:00",
          "2021-04-04T00:00:00",
          "2021-04-05T00:00:00",
          "2021-04-06T00:00:00",
          "2021-04-07T00:00:00",
          "2021-04-13T00:00:00",
          "2021-04-14T00:00:00",
          "2021-04-17T00:00:00",
          "2021-04-18T00:00:00",
          "2021-04-19T00:00:00",
          "2021-04-20T00:00:00",
          "2021-04-21T00:00:00",
          "2021-04-24T00:00:00",
          "2021-04-25T00:00:00",
          "2021-04-26T00:00:00",
          "2021-04-27T00:00:00",
          "2021-04-28T00:00:00",
          "2021-05-01T00:00:00",
          "2021-05-02T00:00:00",
          "2021-05-03T00:00:00",
          "2021-05-05T00:00:00",
          "2021-05-08T00:00:00",
          "2021-05-09T00:00:00",
          "2021-05-10T00:00:00",
          "2021-05-11T00:00:00",
          "2021-05-12T00:00:00",
          "2021-05-15T00:00:00",
          "2021-05-16T00:00:00",
          "2021-05-17T00:00:00",
          "2021-05-18T00:00:00",
          "2021-05-19T00:00:00",
          "2021-05-22T00:00:00",
          "2021-05-23T00:00:00",
          "2021-05-24T00:00:00",
          "2021-05-25T00:00:00",
          "2021-05-26T00:00:00",
          "2021-05-29T00:00:00",
          "2021-05-30T00:00:00",
          "2021-05-31T00:00:00",
          "2021-06-01T00:00:00",
          "2021-06-02T00:00:00",
          "2021-06-08T00:00:00",
          "2021-06-09T00:00:00",
          "2021-06-12T00:00:00",
          "2021-06-13T00:00:00",
          "2021-06-14T00:00:00",
          "2021-06-15T00:00:00",
          "2021-06-16T00:00:00",
          "2021-06-19T00:00:00",
          "2021-06-20T00:00:00",
          "2021-06-21T00:00:00",
          "2021-06-22T00:00:00",
          "2021-06-23T00:00:00",
          "2021-06-26T00:00:00",
          "2021-06-27T00:00:00",
          "2021-06-28T00:00:00",
          "2021-06-29T00:00:00",
          "2021-06-30T00:00:00",
          "2021-07-03T00:00:00",
          "2021-07-04T00:00:00",
          "2021-07-05T00:00:00",
          "2021-07-06T00:00:00",
          "2021-07-07T00:00:00",
          "2021-07-10T00:00:00",
          "2021-07-11T00:00:00",
          "2021-07-12T00:00:00",
          "2021-07-13T00:00:00",
          "2021-07-14T00:00:00",
          "2021-07-17T00:00:00",
          "2021-07-18T00:00:00",
          "2021-07-19T00:00:00",
          "2021-07-26T00:00:00",
          "2021-07-27T00:00:00",
          "2021-07-28T00:00:00",
          "2021-07-31T00:00:00",
          "2021-08-01T00:00:00",
          "2021-08-02T00:00:00",
          "2021-08-03T00:00:00",
          "2021-08-04T00:00:00",
          "2021-08-07T00:00:00",
          "2021-08-08T00:00:00",
          "2021-08-09T00:00:00",
          "2021-08-10T00:00:00",
          "2021-08-11T00:00:00",
          "2021-08-14T00:00:00",
          "2021-08-15T00:00:00",
          "2021-08-22T00:00:00",
          "2021-08-23T00:00:00",
          "2021-08-24T00:00:00",
          "2021-08-25T00:00:00",
          "2021-08-28T00:00:00",
          "2021-08-29T00:00:00",
          "2021-08-30T00:00:00",
          "2021-08-31T00:00:00",
          "2021-09-01T00:00:00",
          "2021-09-04T00:00:00",
          "2021-09-05T00:00:00",
          "2021-09-06T00:00:00",
          "2021-09-07T00:00:00",
          "2021-09-08T00:00:00",
          "2021-09-11T00:00:00",
          "2021-09-12T00:00:00",
          "2021-09-13T00:00:00",
          "2021-09-14T00:00:00",
          "2021-09-15T00:00:00",
          "2021-09-18T00:00:00",
          "2021-09-19T00:00:00",
          "2021-09-20T00:00:00",
          "2021-09-21T00:00:00",
          "2021-09-22T00:00:00",
          "2021-09-25T00:00:00",
          "2021-09-26T00:00:00",
          "2021-09-28T00:00:00",
          "2021-09-29T00:00:00",
          "2021-10-02T00:00:00",
          "2021-10-03T00:00:00",
          "2021-10-04T00:00:00",
          "2021-10-06T00:00:00",
          "2021-10-09T00:00:00",
          "2021-10-10T00:00:00",
          "2021-10-11T00:00:00",
          "2021-10-12T00:00:00",
          "2021-10-13T00:00:00",
          "2021-10-16T00:00:00",
          "2021-10-17T00:00:00",
          "2021-10-18T00:00:00",
          "2021-10-19T00:00:00",
          "2021-10-20T00:00:00",
          "2021-10-23T00:00:00",
          "2021-10-25T00:00:00",
          "2021-10-26T00:00:00",
          "2021-10-27T00:00:00",
          "2021-10-30T00:00:00",
          "2021-10-31T00:00:00",
          "2021-11-01T00:00:00",
          "2021-11-02T00:00:00",
          "2021-11-03T00:00:00",
          "2021-11-06T00:00:00",
          "2021-11-07T00:00:00",
          "2021-11-08T00:00:00",
          "2021-11-09T00:00:00",
          "2021-11-10T00:00:00",
          "2021-11-13T00:00:00",
          "2021-11-14T00:00:00",
          "2021-11-15T00:00:00",
          "2021-11-16T00:00:00",
          "2021-11-17T00:00:00",
          "2021-11-20T00:00:00",
          "2021-11-21T00:00:00",
          "2021-11-22T00:00:00",
          "2021-11-23T00:00:00",
          "2021-11-24T00:00:00",
          "2021-11-27T00:00:00",
          "2021-11-28T00:00:00",
          "2021-11-29T00:00:00",
          "2021-11-30T00:00:00",
          "2021-12-01T00:00:00",
          "2021-12-04T00:00:00",
          "2021-12-05T00:00:00",
          "2021-12-06T00:00:00",
          "2021-12-07T00:00:00",
          "2021-12-08T00:00:00",
          "2021-12-11T00:00:00",
          "2021-12-12T00:00:00",
          "2021-12-13T00:00:00",
          "2021-12-14T00:00:00",
          "2021-12-15T00:00:00",
          "2021-12-18T00:00:00",
          "2021-12-19T00:00:00",
          "2021-12-20T00:00:00",
          "2021-12-21T00:00:00",
          "2021-12-22T00:00:00",
          "2021-12-25T00:00:00",
          "2021-12-26T00:00:00",
          "2021-12-27T00:00:00",
          "2021-12-28T00:00:00",
          "2021-12-29T00:00:00",
          "2022-01-01T00:00:00",
          "2022-01-02T00:00:00",
          "2022-01-03T00:00:00",
          "2022-01-04T00:00:00",
          "2022-01-05T00:00:00",
          "2022-01-08T00:00:00",
          "2022-01-09T00:00:00",
          "2022-01-10T00:00:00",
          "2022-01-11T00:00:00",
          "2022-01-12T00:00:00",
          "2022-01-15T00:00:00",
          "2022-01-16T00:00:00",
          "2022-01-17T00:00:00",
          "2022-01-29T00:00:00",
          "2022-01-30T00:00:00",
          "2022-01-31T00:00:00",
          "2022-02-01T00:00:00",
          "2022-02-02T00:00:00",
          "2022-02-05T00:00:00",
          "2022-02-06T00:00:00",
          "2022-02-07T00:00:00",
          "2022-02-08T00:00:00",
          "2022-02-09T00:00:00",
          "2022-02-12T00:00:00",
          "2022-02-13T00:00:00",
          "2022-02-14T00:00:00",
          "2022-02-16T00:00:00",
          "2022-02-19T00:00:00",
          "2022-02-20T00:00:00",
          "2022-02-21T00:00:00",
          "2022-02-22T00:00:00",
          "2022-02-23T00:00:00",
          "2022-02-26T00:00:00",
          "2022-02-27T00:00:00",
          "2022-02-28T00:00:00",
          "2022-03-02T00:00:00",
          "2022-03-05T00:00:00",
          "2022-03-06T00:00:00",
          "2022-03-07T00:00:00",
          "2022-03-08T00:00:00",
          "2022-03-09T00:00:00",
          "2022-03-12T00:00:00",
          "2022-03-15T00:00:00",
          "2022-04-03T00:00:00",
          "2022-04-04T00:00:00",
          "2022-04-05T00:00:00",
          "2022-04-06T00:00:00",
          "2022-04-09T00:00:00",
          "2022-04-10T00:00:00",
          "2022-04-11T00:00:00",
          "2022-04-12T00:00:00",
          "2022-04-13T00:00:00",
          "2022-04-16T00:00:00",
          "2022-04-17T00:00:00",
          "2022-04-18T00:00:00",
          "2022-04-19T00:00:00",
          "2022-04-20T00:00:00",
          "2022-04-24T00:00:00",
          "2022-04-25T00:00:00",
          "2022-04-26T00:00:00",
          "2022-04-27T00:00:00",
          "2022-04-30T00:00:00",
          "2022-05-01T00:00:00",
          "2022-05-02T00:00:00",
          "2022-05-07T00:00:00",
          "2022-05-08T00:00:00",
          "2022-05-09T00:00:00",
          "2022-05-10T00:00:00",
          "2022-05-11T00:00:00",
          "2022-05-14T00:00:00",
          "2022-05-15T00:00:00",
          "2022-05-16T00:00:00",
          "2022-05-17T00:00:00",
          "2022-05-18T00:00:00",
          "2022-05-21T00:00:00",
          "2022-05-22T00:00:00",
          "2022-05-23T00:00:00",
          "2022-05-24T00:00:00",
          "2022-05-25T00:00:00",
          "2022-05-28T00:00:00",
          "2022-05-29T00:00:00",
          "2022-05-30T00:00:00",
          "2022-05-31T00:00:00",
          "2022-06-01T00:00:00",
          "2022-06-06T00:00:00",
          "2022-06-07T00:00:00",
          "2022-06-08T00:00:00",
          "2022-06-11T00:00:00",
          "2022-06-12T00:00:00",
          "2022-06-13T00:00:00",
          "2022-06-14T00:00:00",
          "2022-06-15T00:00:00",
          "2022-06-18T00:00:00",
          "2022-06-19T00:00:00",
          "2022-06-20T00:00:00",
          "2022-06-21T00:00:00",
          "2022-06-25T00:00:00",
          "2022-06-26T00:00:00",
          "2022-06-27T00:00:00",
          "2022-06-28T00:00:00",
          "2022-06-29T00:00:00",
          "2022-07-02T00:00:00",
          "2022-07-03T00:00:00",
          "2022-07-04T00:00:00",
          "2022-07-05T00:00:00",
          "2022-07-06T00:00:00",
          "2022-07-09T00:00:00",
          "2022-07-11T00:00:00",
          "2022-07-12T00:00:00",
          "2022-07-13T00:00:00",
          "2022-07-16T00:00:00",
          "2022-07-17T00:00:00",
          "2022-07-19T00:00:00",
          "2022-07-20T00:00:00",
          "2022-07-23T00:00:00",
          "2022-07-24T00:00:00",
          "2022-07-25T00:00:00",
          "2022-07-26T00:00:00",
          "2022-07-27T00:00:00",
          "2022-07-30T00:00:00",
          "2022-07-31T00:00:00",
          "2022-08-01T00:00:00",
          "2022-08-02T00:00:00",
          "2022-08-03T00:00:00"
         ],
         "xaxis": "x",
         "y": [
          null,
          0.05034013605442178,
          0.04339378238341962,
          0.04965859714463061,
          0.04967474866942645,
          0.0445070422535212,
          0.048004314994606334,
          0.0494081317550179,
          0.04904364884747414,
          0.0402057035998129,
          0.053932584269662964,
          -0.02515991471215351,
          -0.04286964129483817,
          -0.007769652650822634,
          -0.024873330262551785,
          0.01558809636277747,
          -0.02930232558139534,
          0.005749880210828895,
          0.027155788470700326,
          -0.007421150278293154,
          -0.01495327102803734,
          -0.0014231499051233776,
          -0.0033254156769596532,
          -0.01572926596758817,
          0.0077481840193704965,
          0.01874098990869766,
          0.010849056603773555,
          -0.014465702286514226,
          -0.0042613636363636465,
          -0.00903471231573938,
          0.03262955854126681,
          0.014405204460966603,
          -0.004122766834631197,
          0.0022999080036798514,
          0.0036714089031666397,
          -0.019661636945587535,
          -0.0023320895522388474,
          0.01449275362318847,
          0.041474654377880116,
          -0.02522123893805306,
          0.0009078529278256919,
          0.049886621315192725,
          -0.005615550755939558,
          0.010425716768027726,
          -0.011607910576096336,
          0.001304915180513344,
          -0.004344048653344923,
          0.0017452006980802626,
          0.0013066202090592505,
          -0.006089604175728569,
          -0.014004376367614868,
          0.004438526409232146,
          0.024745912505523604,
          0.04527813712807238,
          0.037953795379537913,
          0.031399046104928496,
          -0.04161849710982657,
          -0.028146361077603488,
          0.007860984691766548,
          -0.01806239737274218,
          0.002090301003344397,
          0.025865665415102157,
          0.043106954046360224,
          -0.007017543859649145,
          0.0176678445229681,
          0.003472222222222321,
          -0.026912725874663646,
          0.012643224022125699,
          0.02145922746781115,
          -0.024064171122994638,
          -0.010958904109588996,
          0.005144440047487153,
          -0.021653543307086576,
          0.022535211267605604,
          0.03305785123966931,
          0.049904761904761896,
          0.04970972423802622,
          0.04873833390943649,
          -0.07877389584706662,
          -0.0461538461538461,
          -0.02025506376594144,
          0.03751914241960175,
          0.05018450184501844,
          0.036893886156008415,
          0.0498136225008472,
          0.05003227888960615,
          0.05533353827236387,
          0.02534226623944069,
          0.0042613636363635354,
          0.04893917963224892,
          0.022114347357065745,
          0.012928759894459185,
          -0.007033081531648833,
          0.003672612801678854,
          -0.000522739153162588,
          0.015951882845188337,
          -0.02728442728442726,
          -0.04630854723471822,
          0.02164261931187572,
          0.008147745790331395,
          0.0269396551724137,
          0.01521511017838395,
          -0.019379844961240345,
          -0.03662714097496711,
          0.024343544857768018,
          0.005340453938584844,
          -0.00026560424966803886,
          -0.010892667375132836,
          -0.04727370400214881,
          0.020016915703411353,
          -0.0016583747927031434,
          0.001107419712070845,
          -0.006637168141592875,
          -0.04454342984409798,
          0.004662004662004726,
          0.0139211136890951,
          -0.014016018306636124,
          0.02030751378009854,
          -0.000852999715666769,
          -0.010529311326124113,
          0.015530629853321765,
          0.03625035400736332,
          0.023503689532659244,
          0.020560747663551426,
          -0.004186289900575568,
          -0.009721492380451946,
          -0.011143539400371494,
          -0.031660853233163366,
          -0.009975062344139696,
          -0.0030786453960257587,
          0.011510387422796198,
          -0.0022203719122952936,
          -0.005841446453407562,
          -0.014829322887521035,
          0.038909400738426525,
          -0.03526517222525971,
          0.007367526211391251,
          -0.01181434599156117,
          -0.002561912894961549,
          -0.0022831050228310223,
          -0.0025743707093821566,
          -0.00774304559793515,
          0.003757225433526079,
          0.04981284192340918,
          0.04278661546900708,
          -0.017622304050499693,
          0.012315930388219654,
          0.026976990214228946,
          0.047901107391192355,
          0.010321946424182826,
          -0.012648990513257075,
          -0.00246366100024642,
          -0.013336626327488221,
          -0.006758448060075084,
          0.003024193548387011,
          -0.002261306532663321,
          -0.007302946361118057,
          -0.0030441400304414,
          -0.013740458015267132,
          0.005675954592363253,
          0.0002565418163160693,
          -0.012567324955116699,
          -0.009350649350649332,
          -0.001048767697954922,
          0.0002624671916009458,
          -0.0005247966413014504,
          0.0047256497768444206,
          0.002613012803762693,
          -0.010164190774042181,
          0,
          -0.0010531858873090716,
          -0.0010542962572482883,
          -0.011609498680738795,
          0.02829684997330495,
          -0.0020768431983385627,
          0.0013007284079085135,
          -0.004936347103143723,
          0.018276762402088753,
          0.0015384615384614886,
          -0.016385048643113187,
          -0.004424778761061954,
          0.04993464052287577,
          0.043824701195219085,
          -0.02146946564885499,
          0.019502681618722484,
          -0.0016738402678144748,
          -0.016766467065868262,
          -0.009013398294762442,
          -0.0002458210422812135,
          -0.0034423407917383297,
          -0.0012336540833950416,
          -0.0017292490118576698,
          -0.004206879485275872,
          -0.0027335984095427923,
          0.0047346125093445934,
          -0.00868055555555558,
          -0.007505629221916443,
          -0.016637257373329994,
          0.01281722635221727,
          0.007846114907618329,
          -0.005273731793068781,
          0.0439283009341076,
          0.02103990326481253,
          0.01871151113216496,
          -0.014880260404557033,
          -0.03705451970734008,
          -0.03995098039215683,
          0,
          -0.00434005616543276,
          -0.009487179487179476,
          0.006730520320993971,
          0.04397017228079192,
          0.015763546798029493,
          0.014791464597478265,
          -0.01577060931899643,
          -0.007768875940762365,
          -0.016393442622950838,
          -0.0014925373134327957,
          -0.0022421524663677195,
          -0.006491885143570575,
          -0.0030158331239005243,
          -0.0045374338290899985,
          0.0027855153203342198,
          0.0060606060606061,
          0.026355421686746983,
          0.04842259721203224,
          0.043386983904828647,
          -0.021462105969148215,
          0.03107151016678089,
          0.0022158209616662816,
          -0.00022109219544552694,
          -0.03538257408226453,
          -0.027281063732232935,
          -0.01602639641762904,
          -0.005988023952095856,
          0.022168674698795243,
          0.008015087223008033,
          0.012628624883068262,
          -0.01385681293302543,
          -0.005620608899297386,
          0.0073009891662740856,
          -0.0016366612111292644,
          -0.004215456674473095,
          0.013875823142050825,
          -0.005567153792623514,
          -0.0034989503149055468,
          -0.005383895131086169,
          0.03483172511179111,
          0.03343188537639308,
          0.04357394366197176,
          0.03374103753690427,
          -0.024887800897592793,
          -0.03974895397489542,
          -0.04313725490196074,
          -0.00432604735883424,
          0.03841756231420068,
          -0.0008808632459810228,
          -0.030196164866651998,
          0.003409090909090917,
          0.00045300113250279495,
          -0.002716776092370421,
          -0.004313280363223648,
          0.04605563155494763,
          0.0032693984306888524,
          -0.014990223767108457,
          -0.0033083370092633624,
          0.00420447001549018,
          -0.0072719259585720675,
          0.03329633740288562,
          0.010311493018259954,
          0.038060812247501685,
          0.025399426464563613,
          -0.008589692369156965,
          -0.005440257908523094,
          -0.003646677471636939,
          -0.009556730378202483,
          0.023198521864093546,
          0.024879614767255198,
          -0.018010963194988294,
          0.008971291866028741,
          -0.010669828097213951,
          0.02236868384262025,
          0.025786286384059443,
          0.020186631117882214,
          0.010266940451745477,
          -0.010716925351071716,
          0.009525588345162594,
          0.009065679925994496,
          -0.009534286762009514,
          -0.0075897815623843234,
          0.0007461294534600871,
          -0.008946877912395124,
          0.028399473387248353,
          0.029992684711046103,
          -0.03391335227272729,
          0.0301415181032898,
          0.0256913470115967,
          -0.008697164724299933,
          -0.009826285313212835,
          -0.009923799397483557,
          0.009307320565598687,
          0.009221493172548278,
          0.002284308557371384,
          -0.03155680224403923,
          -0.037110789283128165,
          -0.027072758037225086,
          -0.028212560386473462,
          0.015112348379399565,
          -0.037610186092066566,
          -0.018115204559332354,
          0.03171641791044766,
          0.005023106288928991,
          -0.004598160735705736,
          -0.021891946173930532,
          -0.0330595482546201,
          -0.023571883627097057,
          -0.036537625054371414,
          -0.0011286681715575453,
          -0.025536723163841812,
          -0.012987012987012991,
          0.009633458646616466,
          0.015592273679311042,
          0.03574702108157646,
          0.01106194690265494,
          -0.014004376367614868,
          -0.015312916111850816,
          -0.0020283975659228792,
          0,
          -0.0006775067750677266,
          0.008587570621468865,
          0.023302711180820168,
          0.002408583315086421,
          -0.026212319790301475,
          -0.02243158366980713,
          0.0022946305644790943,
          0.001831501831501825,
          0.0022851919561244216,
          0.0009119927040583953,
          0.023006833712984065,
          0.008461367178802082,
          -0.00044159858688452847,
          0.002429865252926877,
          0.04473336271485229,
          0.0480911200168741,
          0.018917287180519216,
          -0.009085522417539016,
          -0.0047837352999801075,
          0.038053274584418206,
          -0.0007717538105344035,
          -0.01390229774087659,
          -0.02075582533777165,
          0.005198960207958514,
          -0.011139844837875446,
          0.0030175015087507973,
          0.01524267950260727,
          0.0286448044251284,
          0.033800652967159506,
          -0.011146201003158107,
          -0.024985910201014483,
          -0.0011560693641619046,
          -0.013503086419753063,
          0.019945248337895904,
          -0.0019171779141103906,
          0.04417979254706106,
          0.027225901398086894,
          0.0048352435530085724,
          -0.049367314204241675,
          -0.029996250468691366,
          -0.034016235021260166,
          -0.02000800320128049,
          0.011637403021641513,
          0.049848637739656976,
          0.03421760861207224,
          -0.012453531598513035,
          0.008469791078486777,
          0.03658081373646893,
          -0.015304285199855938,
          -0.017370634485280645,
          0.0018608113137328353,
          -0.005572065378900426,
          0.044826298094882366,
          0.04469074007865581,
          -0.007529089664613298,
          0.02741379310344838,
          -0.034737372042288994,
          -0.018949930458970754,
          0.0008860535176324902,
          -0.027620396600566588,
          -0.005280407865986936,
          0.02654219293428528,
          -0.001783166904422262,
          -0.03983565559128255,
          0.04706976744186053,
          0.018301350390902638,
          -0.017972430640376902,
          -0.026474769012082455,
          -0.016608870231794137,
          0.014662212323682366,
          -0.007133711359063488,
          0.02634487840825339,
          0.038054209298151065,
          0.039252982880857656,
          0.04991680532445919,
          0.038351822503962074,
          0.04990842490842495,
          -0.016572176188399457,
          0.038876570583887604,
          -0.03955606146841206,
          -0.04814814814814816,
          -0.023346303501945553,
          -0.03920318725099603,
          0.015757173660640333,
          -0.021554539516655757,
          -0.009012016021361813,
          0.022734927585045472,
          0.05005763214226899,
          0.04892582719146943,
          0.04978322619225595,
          0.049558530333238426,
          0.04111261872455896,
          0.047569399191971895,
          0.03135108235879569,
          0.049939686369119496,
          0.18520220588235303,
          0.049437766576192255,
          0.049879918714206495,
          0.04997360549005814,
          0.03770739064856721,
          0.04166666666666674,
          0.029457364341085368,
          0.038780120481927804,
          0.018412468285610828,
          0.048402021496191994,
          0.047796863330843875,
          0.006674010237802008,
          0.0007723995880535295,
          0.0286853614612812,
          0.050018757033887695,
          0.03929974991068241,
          -0.04388678812879565,
          -0.01797698945349957,
          -0.013973639248230363,
          0.050003094250881785,
          0.04997937172157707,
          0.0007858546168959535,
          -0.030680352235122554,
          -0.026327971299618058,
          -0.0421346645272479,
          -0.0493857798734334,
          0.01266153243701873,
          0.049690641918020084,
          0.046785780069994454,
          0.04745146342894002,
          -0.03236644641057229,
          -0.04756944444444444,
          0.016344634828047155,
          -0.026364560291743833,
          -0.03714847107945474,
          0.03947452330846257,
          0.010552147239263787,
          0.046867411364740263,
          0.012410113662723266,
          -0.03517012257990604,
          0.04814770838280702,
          0.049844236760124616,
          0.03933099541408147,
          0.026941445182724344,
          -0.04190466562199868,
          0.042101930990819936,
          -0.04141352774402596,
          0.0022710467941269297,
          0.002634768403857235,
          -0.0417301729121774,
          -0.021664015795535563,
          -0.04501625742796278,
          -0.021837393601408905,
          0.04981095841085037,
          0.049848510832904536,
          0.0409474543969508,
          0.03018256002510844,
          0.05001523306590849,
          0.04536002708061315,
          -0.035897673127631036,
          -0.04980567151288329,
          0.00701913851436653,
          -0.049944840036104665,
          -0.04866462577852848,
          -0.047547714158899246,
          0.04671753946525303,
          -0.037286437753909496,
          -0.002485692814613527,
          -0.04780945757997224,
          -0.04954050270829524,
          0.049625408209003075,
          -0.025317227916056617,
          -0.04243600175251927,
          -0.01751748480292825,
          0.017297584991018633,
          0.04996403112942249,
          0.04247897851136728,
          -0.039851825297245624,
          -0.04729309271935278,
          -0.019464402351404342,
          0.0017985611510791255,
          -0.034244298158122244,
          -0.04592398788212615,
          -0.03471169805874286,
          -0.04463217703349287,
          -0.04609124344627902,
          0.02928630024610346,
          0.045429186259663634,
          -0.02546313943737133,
          -0.0454509895955566,
          -0.0381085068021636,
          -0.027775411093124314,
          -0.026816229953553594,
          0.039081494822152285,
          -0.0332784470058064,
          -0.04025100851636043,
          -0.025032691948440156,
          -0.045315194481701515,
          -0.017862518815855544,
          -0.001634821702258149,
          -0.049124961621123786,
          -0.03379614680873966,
          0.01893728417065832,
          -0.03432819503662399,
          -0.005660590965696821,
          0.04895821473300699,
          0.008900466731792012,
          -0.04174287251210329,
          -0.044347142696755326,
          -0.021851503759398483,
          -0.006966130194571263,
          0.006047411707789108,
          -0.0022842029333974834,
          -0.03554645137968426,
          -0.03435782108945529,
          0.02510027170397211,
          0.011737978038621755,
          0.019835329341317376,
          0.042568807339449455,
          -0.006335797254487852,
          0.024678238280788856,
          0.02062687255127904,
          0.007903353279891556,
          0.01601881931219884,
          -0.037596471885336324,
          0.049719326383319995,
          -0.00272836407290189,
          -0.032392208360691566,
          -0.00916082334313506,
          -0.012213217669215792,
          -0.008782066096602703,
          -0.01748659361156446,
          -0.007475083056478371,
          -0.011237298266586926,
          0.006045218232378247,
          0.032448023074149734,
          -0.004423233616575484,
          0,
          -0.00140301648544372,
          0.0094836670179137,
          0.0015077708188355743,
          0.013086276780544193,
          0.048925468678555184,
          0.046534437663469985,
          0.03332291992085801,
          0.049481003728711004,
          0.04340311119646634,
          -0.019694459782808815,
          -0.019996244836650412,
          0.043299166586837856,
          0.02653567165549542,
          -0.005008944543828275,
          0.03101402373247031,
          0.041677565611648815,
          0.04787812840043526,
          0.028596533269430457,
          0.014677331676632654,
          -0.024567579978570286,
          -0.04433111023930958,
          0.04277504105090313,
          0.04157152980080303,
          0.0009826895456950258,
          -0.01140311131249061,
          -0.009624933160186422,
          0.008252988816043194,
          0.04612913096695226,
          -0.001389396709323587,
          0.033172231985940215,
          0.014246225813310698,
          -0.04346610761705105,
          -0.04916715371128,
          -0.03810987322320403,
          0.011023244668104448,
          0.019356877617128898,
          -0.039916292047744495,
          -0.04569306531040607,
          0.02233313594450559,
          0.015639222176251577,
          -0.043506599315626504,
          -0.008603066439523022,
          -0.02646275453217628,
          0.019945282852351864,
          0.04248507398113688,
          0.010956175298804771,
          -0.024794745484400638,
          -0.02433069540326649,
          -0.009750625593234918,
          -0.025792959219240186,
          -0.025849731663685205,
          -0.04618492333119084,
          -0.01569118213323062,
          -0.019657701711491393,
          -0.006284916201117263,
          0.002509788173878036,
          -0.02833967554576411,
          0.003297949087911034,
          -0.0064714946070878465,
          -0.005893300248138944,
          0.01372854914196564,
          0.0007181696932390125,
          0.0025630510559770947,
          0.0546068105123223,
          0.04208280810627363,
          0.03852237833814098,
          -0.007257414210196211,
          -0.002256317689530718,
          -0.003980099502487566,
          -0.001725547180092657,
          0,
          -0.004639737991266379,
          -0.002833379032995187,
          -0.002841429880843238,
          -0.004044489383215333,
          -0.0011998154130133942,
          -0.0040657919053779246,
          -0.002876229356095772,
          0,
          -0.0017679352377407698,
          -0.0035421327367636257,
          -0.004677268475210439,
          -0.0023496240601503793,
          0.036081017428167605,
          0.03546099290780136,
          0.047945205479452024,
          0.04164571811630635,
          0.04553133295792766,
          -0.007771024082480538,
          -0.0004652605459056769,
          0.049728471683475606,
          0.01389402113664917,
          -0.017493986442160492,
          0.039839750723347445,
          -0.018906963470319615,
          -0.0004363319031343016,
          -0.006038559476173155,
          -0.009661835748792313,
          -0.01633407243163343,
          -0.007138026899090821,
          -0.006205539579234198,
          -0.005787389582698754,
          0.001455269607843146,
          0.006271510516252299,
          0.021585467811811254,
          0.007067926493564469,
          0.003767730496453847,
          -0.002355192463384115,
          -0.0008852821836961011,
          0.008343793841837144,
          0.0018306971294668184,
          0.013887873693443353,
          0.05781847018960429,
          0.039528385469910665,
          0.04969514193929059,
          -0.0189244894135282,
          -0.027310924369747913,
          -0.01858760390077885,
          -0.004268089363121064,
          -0.005893778045676812,
          0.007680388061712673,
          -0.0021394664705488564,
          -0.0012730318257956341,
          -0.019052730444116484,
          -0.007317740391191374,
          0.04085428866689633,
          0.019658459094519465,
          0.001622849724115527,
          0.020868438107582543,
          0.0027932960893854997,
          0.04038997214484685,
          0.02957283680175249,
          0.004137115839243588,
          0.001471453796350719,
          0.013752571260652324,
          0.026668212650008627,
          0.04568298605228982,
          -0.035478993411815485,
          -0.004591008342198055,
          -0.006412059170932016,
          -0.0046419473535239675,
          -0.017232554171643044,
          -0.00549768518518523,
          0.0073901658423043415,
          0.003985674676524997,
          0.001438352223692485,
          -0.001436286338044379,
          -0.001438352223692485,
          -0.0014404240608435481,
          -0.0010963014251919034,
          -0.002945933456561911,
          -0.0006952088523261013,
          0.0006956925039132145,
          0.0022014946990325246,
          0.0025434996242557073,
          0.002940667704549371,
          -0.0010923306887432593,
          -0.0014388489208633226,
          -0.0010951008645533333,
          -0.0029427038255149807,
          -0.0014467592592593004,
          -0.005505650536076545,
          0.0014568764568765324,
          0.0022112307244690488,
          0.0007548046217267235,
          0,
          -0.0018565792527268643,
          -0.00697512206463613,
          -0.0003512058066026391,
          -0.0018152008431900901,
          -0.007039361764533347,
          0.005966798605777646,
          0.020730561428235816,
          0.005465738450031621,
          0.03141451132982387,
          0.049375866851594896,
          -0.006344171292624878,
          0.0003724394785846741,
          -0.007392830549941443,
          -0.008465948668488488,
          0.0044312348014050595,
          -0.0023672459245709376,
          0.009167880062557199,
          0.03040666916047674,
          0.010787262732081748,
          0.031400718317085685,
          0.01004875136802319,
          -0.005910165484633523,
          -0.014367816091954033,
          0.0015582587714888518,
          0.0158594730238395,
          0.007509510399683839,
          -0.0025008581375962624,
          -0.00619408121128695,
          -0.0009398496240601295,
          -0.002822201317027262,
          0.004716981132075526,
          0.027773659500864856,
          0.04370822714814637,
          0.016262784483553006,
          -0.004850627861643808,
          -0.01034074344023328,
          -0.006674338319907935,
          -0.004402224281742306,
          -0.0020479404235512755,
          -0.006482906580849823,
          -0.0029574687822739865,
          -0.002683742172418624,
          -0.019072797658389207,
          -0.019443642313985987,
          -0.0018651222145872337,
          -0.004671518489378412,
          -0.004693443999802427,
          -0.004368112776729882,
          -0.003440023930601277,
          -0.001901045575066318,
          -0.003508596060347813,
          -0.004728132387706863,
          -0.001920452822560259,
          -0.004506557294040259,
          -0.0054425228891149535,
          -0.005830307369713128,
          -0.006790472760944466,
          0,
          0.0022789661780702186,
          -0.006873029817580534,
          -0.005255489645124345,
          -0.00360935293194542,
          -0.002309953800924025,
          -0.0013681330246263501,
          -0.002634629571082292,
          0.00565300084530862,
          0.01591804570527966,
          -0.0012927913951804593,
          -0.002278258168073366,
          0.0006746587783486024,
          0.0025930920029042515,
          -0.000672460169666822,
          -0.0006211501630518645,
          -0.0006733309162479939,
          -0.0003109775059604303,
          -0.0012961426793861586,
          -0.0009863468826246669,
          -0.0013510704635211201,
          -0.0013008637735456574,
          -0.0006773302766633904,
          -0.0013034410844630084,
          -0.0003132341425214902,
          -0.0003133322888924095,
          0.004596980619547608,
          0.0049399407207113555,
          0.0019662630653005664,
          0.002891964470150832,
          0.0009783728115344559,
          0,
          0,
          0.0006687586810021351,
          0.003907053259304849,
          0.0061450225317492,
          0.0009670195439739349,
          0.0012711648955101573,
          0.0006601665651024824,
          0.0025374270489724182,
          0.0012655024044545549,
          0.0013144590495450803,
          0.0012622437645157802,
          0.000302556603297921,
          0.003175883450118544,
          0.002211055276381879,
          0.002256317689530718,
          0.0031517334533994745,
          0,
          -0.0009475364053460611,
          0.0028453052463435213,
          -0.001891488302638078,
          -0.001595850787951325,
          0.006943056943056858,
          0.01329431023364247,
          0.03642238214128368,
          0.029946625100373048,
          0.0022930520522816966,
          0.0022420498741706485,
          0.0022826880934989635,
          0.0009109957183202066,
          0,
          0.0026849913534177094,
          0,
          -0.0004538646575591443,
          -0.0009081414884438699,
          -0.0004090351315729768,
          0.0013185414203873425,
          -0.00045407074422199045,
          0,
          0,
          -0.00045427701812561505,
          -0.0004090351315729768,
          -0.00045466945530603375,
          0,
          0,
          -0.00045487627365359273,
          0,
          0.004505324474378902,
          0.006750328455579213,
          0.00535505355053556,
          0.0017456693970725468,
          0.00044682752457547714,
          0.0008932559178205235,
          0.0026773761713521083,
          0,
          0,
          0,
          -0.0008900756564308443,
          0.00222717149220486,
          0.0004444444444444695,
          0,
          0,
          -0.00044424700133272044,
          0,
          0.0013333333333334085,
          0,
          -0.00044385264092317023,
          0,
          0,
          0,
          -0.000444049733570151,
          -0.00044424700133272044,
          -0.0004444444444444695,
          -0.0008892841262783113,
          -0.00044503782821536664,
          -0.00044523597506673784,
          -0.0008908685968819219,
          -0.0013374944271065115,
          -0.00044642857142862535,
          -0.0008932559178204125,
          -0.0008940545373268272,
          -0.0017897091722595126,
          -0.0013446884805020654,
          -0.0008976660682226134,
          -0.0013477088948786742,
          0,
          0.001799370220422869,
          0.0013471037269869868,
          0.0008968609865471766,
          0.0049283154121864126,
          0.002674988854213023,
          0.0004446420631392112,
          0.003555555555555534,
          0.001771479185119551,
          0.0013262599469496816,
          0.00044150110375285045,
          0.00044130626654892424,
          0.00044111160123505577,
          0.0044091710758378255,
          0.0013169446883229963,
          0.013152126260412178,
          0.008221549112938042,
          0.014592274678111528,
          0.010152284263959421,
          0.007537688442211143,
          0.0033250207813799726,
          -0.001657000828500399,
          0.0012448132780082943,
          0,
          -0.002486531288852012,
          -0.00290818446198593,
          -0.002083333333333326,
          -0.00041753653444676075,
          0,
          0,
          -0.00041771094402676123,
          -0.00041788549937316066,
          -0.0004180602006689238,
          -0.0008364700961940308,
          0,
          -0.0004185851820845965,
          -0.0008375209380234727,
          -0.0004191114836546994,
          0.00041928721174011585,
          0.002933780385582674,
          0.0004178854993732717,
          0.0025062656641603454,
          0.03166666666666673,
          0.0020193861066235552,
          0.03506650544135437,
          0.0019470404984422984,
          0.0003886513797124458,
          -0.0007770007770008247,
          -0.0015552099533436836
         ],
         "yaxis": "y"
        }
       ],
       "layout": {
        "legend": {
         "tracegroupgap": 0
        },
        "margin": {
         "t": 60
        },
        "template": {
         "data": {
          "bar": [
           {
            "error_x": {
             "color": "#2a3f5f"
            },
            "error_y": {
             "color": "#2a3f5f"
            },
            "marker": {
             "line": {
              "color": "#E5ECF6",
              "width": 0.5
             },
             "pattern": {
              "fillmode": "overlay",
              "size": 10,
              "solidity": 0.2
             }
            },
            "type": "bar"
           }
          ],
          "barpolar": [
           {
            "marker": {
             "line": {
              "color": "#E5ECF6",
              "width": 0.5
             },
             "pattern": {
              "fillmode": "overlay",
              "size": 10,
              "solidity": 0.2
             }
            },
            "type": "barpolar"
           }
          ],
          "carpet": [
           {
            "aaxis": {
             "endlinecolor": "#2a3f5f",
             "gridcolor": "white",
             "linecolor": "white",
             "minorgridcolor": "white",
             "startlinecolor": "#2a3f5f"
            },
            "baxis": {
             "endlinecolor": "#2a3f5f",
             "gridcolor": "white",
             "linecolor": "white",
             "minorgridcolor": "white",
             "startlinecolor": "#2a3f5f"
            },
            "type": "carpet"
           }
          ],
          "choropleth": [
           {
            "colorbar": {
             "outlinewidth": 0,
             "ticks": ""
            },
            "type": "choropleth"
           }
          ],
          "contour": [
           {
            "colorbar": {
             "outlinewidth": 0,
             "ticks": ""
            },
            "colorscale": [
             [
              0,
              "#0d0887"
             ],
             [
              0.1111111111111111,
              "#46039f"
             ],
             [
              0.2222222222222222,
              "#7201a8"
             ],
             [
              0.3333333333333333,
              "#9c179e"
             ],
             [
              0.4444444444444444,
              "#bd3786"
             ],
             [
              0.5555555555555556,
              "#d8576b"
             ],
             [
              0.6666666666666666,
              "#ed7953"
             ],
             [
              0.7777777777777778,
              "#fb9f3a"
             ],
             [
              0.8888888888888888,
              "#fdca26"
             ],
             [
              1,
              "#f0f921"
             ]
            ],
            "type": "contour"
           }
          ],
          "contourcarpet": [
           {
            "colorbar": {
             "outlinewidth": 0,
             "ticks": ""
            },
            "type": "contourcarpet"
           }
          ],
          "heatmap": [
           {
            "colorbar": {
             "outlinewidth": 0,
             "ticks": ""
            },
            "colorscale": [
             [
              0,
              "#0d0887"
             ],
             [
              0.1111111111111111,
              "#46039f"
             ],
             [
              0.2222222222222222,
              "#7201a8"
             ],
             [
              0.3333333333333333,
              "#9c179e"
             ],
             [
              0.4444444444444444,
              "#bd3786"
             ],
             [
              0.5555555555555556,
              "#d8576b"
             ],
             [
              0.6666666666666666,
              "#ed7953"
             ],
             [
              0.7777777777777778,
              "#fb9f3a"
             ],
             [
              0.8888888888888888,
              "#fdca26"
             ],
             [
              1,
              "#f0f921"
             ]
            ],
            "type": "heatmap"
           }
          ],
          "heatmapgl": [
           {
            "colorbar": {
             "outlinewidth": 0,
             "ticks": ""
            },
            "colorscale": [
             [
              0,
              "#0d0887"
             ],
             [
              0.1111111111111111,
              "#46039f"
             ],
             [
              0.2222222222222222,
              "#7201a8"
             ],
             [
              0.3333333333333333,
              "#9c179e"
             ],
             [
              0.4444444444444444,
              "#bd3786"
             ],
             [
              0.5555555555555556,
              "#d8576b"
             ],
             [
              0.6666666666666666,
              "#ed7953"
             ],
             [
              0.7777777777777778,
              "#fb9f3a"
             ],
             [
              0.8888888888888888,
              "#fdca26"
             ],
             [
              1,
              "#f0f921"
             ]
            ],
            "type": "heatmapgl"
           }
          ],
          "histogram": [
           {
            "marker": {
             "pattern": {
              "fillmode": "overlay",
              "size": 10,
              "solidity": 0.2
             }
            },
            "type": "histogram"
           }
          ],
          "histogram2d": [
           {
            "colorbar": {
             "outlinewidth": 0,
             "ticks": ""
            },
            "colorscale": [
             [
              0,
              "#0d0887"
             ],
             [
              0.1111111111111111,
              "#46039f"
             ],
             [
              0.2222222222222222,
              "#7201a8"
             ],
             [
              0.3333333333333333,
              "#9c179e"
             ],
             [
              0.4444444444444444,
              "#bd3786"
             ],
             [
              0.5555555555555556,
              "#d8576b"
             ],
             [
              0.6666666666666666,
              "#ed7953"
             ],
             [
              0.7777777777777778,
              "#fb9f3a"
             ],
             [
              0.8888888888888888,
              "#fdca26"
             ],
             [
              1,
              "#f0f921"
             ]
            ],
            "type": "histogram2d"
           }
          ],
          "histogram2dcontour": [
           {
            "colorbar": {
             "outlinewidth": 0,
             "ticks": ""
            },
            "colorscale": [
             [
              0,
              "#0d0887"
             ],
             [
              0.1111111111111111,
              "#46039f"
             ],
             [
              0.2222222222222222,
              "#7201a8"
             ],
             [
              0.3333333333333333,
              "#9c179e"
             ],
             [
              0.4444444444444444,
              "#bd3786"
             ],
             [
              0.5555555555555556,
              "#d8576b"
             ],
             [
              0.6666666666666666,
              "#ed7953"
             ],
             [
              0.7777777777777778,
              "#fb9f3a"
             ],
             [
              0.8888888888888888,
              "#fdca26"
             ],
             [
              1,
              "#f0f921"
             ]
            ],
            "type": "histogram2dcontour"
           }
          ],
          "mesh3d": [
           {
            "colorbar": {
             "outlinewidth": 0,
             "ticks": ""
            },
            "type": "mesh3d"
           }
          ],
          "parcoords": [
           {
            "line": {
             "colorbar": {
              "outlinewidth": 0,
              "ticks": ""
             }
            },
            "type": "parcoords"
           }
          ],
          "pie": [
           {
            "automargin": true,
            "type": "pie"
           }
          ],
          "scatter": [
           {
            "fillpattern": {
             "fillmode": "overlay",
             "size": 10,
             "solidity": 0.2
            },
            "type": "scatter"
           }
          ],
          "scatter3d": [
           {
            "line": {
             "colorbar": {
              "outlinewidth": 0,
              "ticks": ""
             }
            },
            "marker": {
             "colorbar": {
              "outlinewidth": 0,
              "ticks": ""
             }
            },
            "type": "scatter3d"
           }
          ],
          "scattercarpet": [
           {
            "marker": {
             "colorbar": {
              "outlinewidth": 0,
              "ticks": ""
             }
            },
            "type": "scattercarpet"
           }
          ],
          "scattergeo": [
           {
            "marker": {
             "colorbar": {
              "outlinewidth": 0,
              "ticks": ""
             }
            },
            "type": "scattergeo"
           }
          ],
          "scattergl": [
           {
            "marker": {
             "colorbar": {
              "outlinewidth": 0,
              "ticks": ""
             }
            },
            "type": "scattergl"
           }
          ],
          "scattermapbox": [
           {
            "marker": {
             "colorbar": {
              "outlinewidth": 0,
              "ticks": ""
             }
            },
            "type": "scattermapbox"
           }
          ],
          "scatterpolar": [
           {
            "marker": {
             "colorbar": {
              "outlinewidth": 0,
              "ticks": ""
             }
            },
            "type": "scatterpolar"
           }
          ],
          "scatterpolargl": [
           {
            "marker": {
             "colorbar": {
              "outlinewidth": 0,
              "ticks": ""
             }
            },
            "type": "scatterpolargl"
           }
          ],
          "scatterternary": [
           {
            "marker": {
             "colorbar": {
              "outlinewidth": 0,
              "ticks": ""
             }
            },
            "type": "scatterternary"
           }
          ],
          "surface": [
           {
            "colorbar": {
             "outlinewidth": 0,
             "ticks": ""
            },
            "colorscale": [
             [
              0,
              "#0d0887"
             ],
             [
              0.1111111111111111,
              "#46039f"
             ],
             [
              0.2222222222222222,
              "#7201a8"
             ],
             [
              0.3333333333333333,
              "#9c179e"
             ],
             [
              0.4444444444444444,
              "#bd3786"
             ],
             [
              0.5555555555555556,
              "#d8576b"
             ],
             [
              0.6666666666666666,
              "#ed7953"
             ],
             [
              0.7777777777777778,
              "#fb9f3a"
             ],
             [
              0.8888888888888888,
              "#fdca26"
             ],
             [
              1,
              "#f0f921"
             ]
            ],
            "type": "surface"
           }
          ],
          "table": [
           {
            "cells": {
             "fill": {
              "color": "#EBF0F8"
             },
             "line": {
              "color": "white"
             }
            },
            "header": {
             "fill": {
              "color": "#C8D4E3"
             },
             "line": {
              "color": "white"
             }
            },
            "type": "table"
           }
          ]
         },
         "layout": {
          "annotationdefaults": {
           "arrowcolor": "#2a3f5f",
           "arrowhead": 0,
           "arrowwidth": 1
          },
          "autotypenumbers": "strict",
          "coloraxis": {
           "colorbar": {
            "outlinewidth": 0,
            "ticks": ""
           }
          },
          "colorscale": {
           "diverging": [
            [
             0,
             "#8e0152"
            ],
            [
             0.1,
             "#c51b7d"
            ],
            [
             0.2,
             "#de77ae"
            ],
            [
             0.3,
             "#f1b6da"
            ],
            [
             0.4,
             "#fde0ef"
            ],
            [
             0.5,
             "#f7f7f7"
            ],
            [
             0.6,
             "#e6f5d0"
            ],
            [
             0.7,
             "#b8e186"
            ],
            [
             0.8,
             "#7fbc41"
            ],
            [
             0.9,
             "#4d9221"
            ],
            [
             1,
             "#276419"
            ]
           ],
           "sequential": [
            [
             0,
             "#0d0887"
            ],
            [
             0.1111111111111111,
             "#46039f"
            ],
            [
             0.2222222222222222,
             "#7201a8"
            ],
            [
             0.3333333333333333,
             "#9c179e"
            ],
            [
             0.4444444444444444,
             "#bd3786"
            ],
            [
             0.5555555555555556,
             "#d8576b"
            ],
            [
             0.6666666666666666,
             "#ed7953"
            ],
            [
             0.7777777777777778,
             "#fb9f3a"
            ],
            [
             0.8888888888888888,
             "#fdca26"
            ],
            [
             1,
             "#f0f921"
            ]
           ],
           "sequentialminus": [
            [
             0,
             "#0d0887"
            ],
            [
             0.1111111111111111,
             "#46039f"
            ],
            [
             0.2222222222222222,
             "#7201a8"
            ],
            [
             0.3333333333333333,
             "#9c179e"
            ],
            [
             0.4444444444444444,
             "#bd3786"
            ],
            [
             0.5555555555555556,
             "#d8576b"
            ],
            [
             0.6666666666666666,
             "#ed7953"
            ],
            [
             0.7777777777777778,
             "#fb9f3a"
            ],
            [
             0.8888888888888888,
             "#fdca26"
            ],
            [
             1,
             "#f0f921"
            ]
           ]
          },
          "colorway": [
           "#636efa",
           "#EF553B",
           "#00cc96",
           "#ab63fa",
           "#FFA15A",
           "#19d3f3",
           "#FF6692",
           "#B6E880",
           "#FF97FF",
           "#FECB52"
          ],
          "font": {
           "color": "#2a3f5f"
          },
          "geo": {
           "bgcolor": "white",
           "lakecolor": "white",
           "landcolor": "#E5ECF6",
           "showlakes": true,
           "showland": true,
           "subunitcolor": "white"
          },
          "hoverlabel": {
           "align": "left"
          },
          "hovermode": "closest",
          "mapbox": {
           "style": "light"
          },
          "paper_bgcolor": "white",
          "plot_bgcolor": "#E5ECF6",
          "polar": {
           "angularaxis": {
            "gridcolor": "white",
            "linecolor": "white",
            "ticks": ""
           },
           "bgcolor": "#E5ECF6",
           "radialaxis": {
            "gridcolor": "white",
            "linecolor": "white",
            "ticks": ""
           }
          },
          "scene": {
           "xaxis": {
            "backgroundcolor": "#E5ECF6",
            "gridcolor": "white",
            "gridwidth": 2,
            "linecolor": "white",
            "showbackground": true,
            "ticks": "",
            "zerolinecolor": "white"
           },
           "yaxis": {
            "backgroundcolor": "#E5ECF6",
            "gridcolor": "white",
            "gridwidth": 2,
            "linecolor": "white",
            "showbackground": true,
            "ticks": "",
            "zerolinecolor": "white"
           },
           "zaxis": {
            "backgroundcolor": "#E5ECF6",
            "gridcolor": "white",
            "gridwidth": 2,
            "linecolor": "white",
            "showbackground": true,
            "ticks": "",
            "zerolinecolor": "white"
           }
          },
          "shapedefaults": {
           "line": {
            "color": "#2a3f5f"
           }
          },
          "ternary": {
           "aaxis": {
            "gridcolor": "white",
            "linecolor": "white",
            "ticks": ""
           },
           "baxis": {
            "gridcolor": "white",
            "linecolor": "white",
            "ticks": ""
           },
           "bgcolor": "#E5ECF6",
           "caxis": {
            "gridcolor": "white",
            "linecolor": "white",
            "ticks": ""
           }
          },
          "title": {
           "x": 0.05
          },
          "xaxis": {
           "automargin": true,
           "gridcolor": "white",
           "linecolor": "white",
           "ticks": "",
           "title": {
            "standoff": 15
           },
           "zerolinecolor": "white",
           "zerolinewidth": 2
          },
          "yaxis": {
           "automargin": true,
           "gridcolor": "white",
           "linecolor": "white",
           "ticks": "",
           "title": {
            "standoff": 15
           },
           "zerolinecolor": "white",
           "zerolinewidth": 2
          }
         }
        },
        "xaxis": {
         "anchor": "y",
         "domain": [
          0,
          1
         ],
         "title": {
          "text": "date"
         }
        },
        "yaxis": {
         "anchor": "x",
         "domain": [
          0,
          1
         ],
         "title": {
          "text": "return"
         }
        }
       }
      }
     },
     "metadata": {},
     "output_type": "display_data"
    }
   ],
   "source": [
    "# line plot of return column\n",
    "return_line = px.___(...)\n",
    "return_line.___()"
   ]
  },
  {
   "cell_type": "markdown",
   "metadata": {},
   "source": [
    "<p dir=rtl style=\"direction: rtl;text-align: right;line-height:200%;font-family:vazir;font-size:medium\">\n",
    "<font face=\"vazir\" size=3>\n",
    "برای رسم نمودار\n",
    "<code>Efficient frontier</code>\n",
    "از ستون\n",
    "<code>return</code>\n",
    "استفاده میکنیم.\n",
    "در لیست\n",
    "<code>stock_ids</code>\n",
    "شناسه شش سهم وجود دارد با یک حلقه روی شناسه سهم ها ستون\n",
    "<code>return</code>\n",
    "آن ها را گرفته و به دیتافریم\n",
    "<code>daily_returns</code>\n",
    "اضافه میکنیم.\n",
    "توجه کنید که دیتافریم\n",
    "<code>daily_returns</code>\n",
    "ابتدا یک دیتافریم خالی است.\n",
    "  </font>\n",
    "</p>"
   ]
  },
  {
   "cell_type": "code",
   "execution_count": 25,
   "metadata": {},
   "outputs": [],
   "source": [
    "# define stock ids\n",
    "stock_ids = [\"611986653700161\" , \"408934423224097\" , \"318005355896147\" , \"204092872752957\" , \"114312662654155\" , \"71856634742001725\"]\n",
    "daily_returns = pd.DataFrame()"
   ]
  },
  {
   "cell_type": "code",
   "execution_count": 26,
   "metadata": {},
   "outputs": [
    {
     "data": {
      "text/html": [
       "<div>\n",
       "<style scoped>\n",
       "    .dataframe tbody tr th:only-of-type {\n",
       "        vertical-align: middle;\n",
       "    }\n",
       "\n",
       "    .dataframe tbody tr th {\n",
       "        vertical-align: top;\n",
       "    }\n",
       "\n",
       "    .dataframe thead th {\n",
       "        text-align: right;\n",
       "    }\n",
       "</style>\n",
       "<table border=\"1\" class=\"dataframe\">\n",
       "  <thead>\n",
       "    <tr style=\"text-align: right;\">\n",
       "      <th></th>\n",
       "      <th>611986653700161</th>\n",
       "      <th>408934423224097</th>\n",
       "      <th>318005355896147</th>\n",
       "      <th>204092872752957</th>\n",
       "      <th>114312662654155</th>\n",
       "      <th>71856634742001725</th>\n",
       "    </tr>\n",
       "    <tr>\n",
       "      <th>date</th>\n",
       "      <th></th>\n",
       "      <th></th>\n",
       "      <th></th>\n",
       "      <th></th>\n",
       "      <th></th>\n",
       "      <th></th>\n",
       "    </tr>\n",
       "  </thead>\n",
       "  <tbody>\n",
       "    <tr>\n",
       "      <th>2011-01-17</th>\n",
       "      <td>NaN</td>\n",
       "      <td>0.007921</td>\n",
       "      <td>NaN</td>\n",
       "      <td>NaN</td>\n",
       "      <td>NaN</td>\n",
       "      <td>NaN</td>\n",
       "    </tr>\n",
       "    <tr>\n",
       "      <th>2011-01-18</th>\n",
       "      <td>0.053030</td>\n",
       "      <td>0.031434</td>\n",
       "      <td>NaN</td>\n",
       "      <td>NaN</td>\n",
       "      <td>NaN</td>\n",
       "      <td>NaN</td>\n",
       "    </tr>\n",
       "    <tr>\n",
       "      <th>2011-01-24</th>\n",
       "      <td>0.000000</td>\n",
       "      <td>NaN</td>\n",
       "      <td>NaN</td>\n",
       "      <td>NaN</td>\n",
       "      <td>NaN</td>\n",
       "      <td>NaN</td>\n",
       "    </tr>\n",
       "    <tr>\n",
       "      <th>2011-01-26</th>\n",
       "      <td>0.007194</td>\n",
       "      <td>NaN</td>\n",
       "      <td>NaN</td>\n",
       "      <td>NaN</td>\n",
       "      <td>NaN</td>\n",
       "      <td>NaN</td>\n",
       "    </tr>\n",
       "    <tr>\n",
       "      <th>2011-01-29</th>\n",
       "      <td>0.007143</td>\n",
       "      <td>NaN</td>\n",
       "      <td>NaN</td>\n",
       "      <td>NaN</td>\n",
       "      <td>NaN</td>\n",
       "      <td>NaN</td>\n",
       "    </tr>\n",
       "  </tbody>\n",
       "</table>\n",
       "</div>"
      ],
      "text/plain": [
       "            611986653700161  408934423224097  318005355896147  \\\n",
       "date                                                            \n",
       "2011-01-17              NaN         0.007921              NaN   \n",
       "2011-01-18         0.053030         0.031434              NaN   \n",
       "2011-01-24         0.000000              NaN              NaN   \n",
       "2011-01-26         0.007194              NaN              NaN   \n",
       "2011-01-29         0.007143              NaN              NaN   \n",
       "\n",
       "            204092872752957  114312662654155  71856634742001725  \n",
       "date                                                             \n",
       "2011-01-17              NaN              NaN                NaN  \n",
       "2011-01-18              NaN              NaN                NaN  \n",
       "2011-01-24              NaN              NaN                NaN  \n",
       "2011-01-26              NaN              NaN                NaN  \n",
       "2011-01-29              NaN              NaN                NaN  "
      ]
     },
     "execution_count": 26,
     "metadata": {},
     "output_type": "execute_result"
    }
   ],
   "source": [
    "#iterate over stock_ids\n",
    "for ... in stock_ids:\n",
    "    # get stock information\n",
    "    current_ticker = get_adjusted_single_ticker_history(...)\n",
    "    #add return column to daily_returns\n",
    "    daily_returns[stock_id] = ...\n",
    "daily_returns.head()"
   ]
  },
  {
   "cell_type": "markdown",
   "metadata": {},
   "source": [
    "<p dir=rtl style=\"direction: rtl;text-align: right;line-height:200%;font-family:vazir;font-size:medium\">\n",
    "<font face=\"vazir\" size=3>\n",
    "میانگین بازده هر سهم در\n",
    "<code>daily_returns</code>\n",
    "را به دست آورید و سپس نمودار میله ای آن را رسم کنید .\n",
    "  </font>\n",
    "</p>"
   ]
  },
  {
   "cell_type": "code",
   "execution_count": 27,
   "metadata": {},
   "outputs": [
    {
     "data": {
      "application/vnd.plotly.v1+json": {
       "config": {
        "plotlyServerURL": "https://plot.ly"
       },
       "data": [
        {
         "alignmentgroup": "True",
         "hovertemplate": "variable=0<br>index=%{x}<br>value=%{y}<extra></extra>",
         "legendgroup": "0",
         "marker": {
          "color": "#636efa",
          "pattern": {
           "shape": ""
          }
         },
         "name": "0",
         "offsetgroup": "0",
         "orientation": "v",
         "showlegend": true,
         "textposition": "auto",
         "type": "bar",
         "x": [
          "611986653700161",
          "408934423224097",
          "318005355896147",
          "204092872752957",
          "114312662654155",
          "71856634742001725"
         ],
         "xaxis": "x",
         "y": [
          0.0026111725681170635,
          0.002266942277971257,
          0.0011518103930025073,
          0.004113667924735875,
          -0.001382276113318183,
          0.004055123308518601
         ],
         "yaxis": "y"
        }
       ],
       "layout": {
        "barmode": "relative",
        "legend": {
         "title": {
          "text": "variable"
         },
         "tracegroupgap": 0
        },
        "margin": {
         "t": 60
        },
        "template": {
         "data": {
          "bar": [
           {
            "error_x": {
             "color": "#2a3f5f"
            },
            "error_y": {
             "color": "#2a3f5f"
            },
            "marker": {
             "line": {
              "color": "#E5ECF6",
              "width": 0.5
             },
             "pattern": {
              "fillmode": "overlay",
              "size": 10,
              "solidity": 0.2
             }
            },
            "type": "bar"
           }
          ],
          "barpolar": [
           {
            "marker": {
             "line": {
              "color": "#E5ECF6",
              "width": 0.5
             },
             "pattern": {
              "fillmode": "overlay",
              "size": 10,
              "solidity": 0.2
             }
            },
            "type": "barpolar"
           }
          ],
          "carpet": [
           {
            "aaxis": {
             "endlinecolor": "#2a3f5f",
             "gridcolor": "white",
             "linecolor": "white",
             "minorgridcolor": "white",
             "startlinecolor": "#2a3f5f"
            },
            "baxis": {
             "endlinecolor": "#2a3f5f",
             "gridcolor": "white",
             "linecolor": "white",
             "minorgridcolor": "white",
             "startlinecolor": "#2a3f5f"
            },
            "type": "carpet"
           }
          ],
          "choropleth": [
           {
            "colorbar": {
             "outlinewidth": 0,
             "ticks": ""
            },
            "type": "choropleth"
           }
          ],
          "contour": [
           {
            "colorbar": {
             "outlinewidth": 0,
             "ticks": ""
            },
            "colorscale": [
             [
              0,
              "#0d0887"
             ],
             [
              0.1111111111111111,
              "#46039f"
             ],
             [
              0.2222222222222222,
              "#7201a8"
             ],
             [
              0.3333333333333333,
              "#9c179e"
             ],
             [
              0.4444444444444444,
              "#bd3786"
             ],
             [
              0.5555555555555556,
              "#d8576b"
             ],
             [
              0.6666666666666666,
              "#ed7953"
             ],
             [
              0.7777777777777778,
              "#fb9f3a"
             ],
             [
              0.8888888888888888,
              "#fdca26"
             ],
             [
              1,
              "#f0f921"
             ]
            ],
            "type": "contour"
           }
          ],
          "contourcarpet": [
           {
            "colorbar": {
             "outlinewidth": 0,
             "ticks": ""
            },
            "type": "contourcarpet"
           }
          ],
          "heatmap": [
           {
            "colorbar": {
             "outlinewidth": 0,
             "ticks": ""
            },
            "colorscale": [
             [
              0,
              "#0d0887"
             ],
             [
              0.1111111111111111,
              "#46039f"
             ],
             [
              0.2222222222222222,
              "#7201a8"
             ],
             [
              0.3333333333333333,
              "#9c179e"
             ],
             [
              0.4444444444444444,
              "#bd3786"
             ],
             [
              0.5555555555555556,
              "#d8576b"
             ],
             [
              0.6666666666666666,
              "#ed7953"
             ],
             [
              0.7777777777777778,
              "#fb9f3a"
             ],
             [
              0.8888888888888888,
              "#fdca26"
             ],
             [
              1,
              "#f0f921"
             ]
            ],
            "type": "heatmap"
           }
          ],
          "heatmapgl": [
           {
            "colorbar": {
             "outlinewidth": 0,
             "ticks": ""
            },
            "colorscale": [
             [
              0,
              "#0d0887"
             ],
             [
              0.1111111111111111,
              "#46039f"
             ],
             [
              0.2222222222222222,
              "#7201a8"
             ],
             [
              0.3333333333333333,
              "#9c179e"
             ],
             [
              0.4444444444444444,
              "#bd3786"
             ],
             [
              0.5555555555555556,
              "#d8576b"
             ],
             [
              0.6666666666666666,
              "#ed7953"
             ],
             [
              0.7777777777777778,
              "#fb9f3a"
             ],
             [
              0.8888888888888888,
              "#fdca26"
             ],
             [
              1,
              "#f0f921"
             ]
            ],
            "type": "heatmapgl"
           }
          ],
          "histogram": [
           {
            "marker": {
             "pattern": {
              "fillmode": "overlay",
              "size": 10,
              "solidity": 0.2
             }
            },
            "type": "histogram"
           }
          ],
          "histogram2d": [
           {
            "colorbar": {
             "outlinewidth": 0,
             "ticks": ""
            },
            "colorscale": [
             [
              0,
              "#0d0887"
             ],
             [
              0.1111111111111111,
              "#46039f"
             ],
             [
              0.2222222222222222,
              "#7201a8"
             ],
             [
              0.3333333333333333,
              "#9c179e"
             ],
             [
              0.4444444444444444,
              "#bd3786"
             ],
             [
              0.5555555555555556,
              "#d8576b"
             ],
             [
              0.6666666666666666,
              "#ed7953"
             ],
             [
              0.7777777777777778,
              "#fb9f3a"
             ],
             [
              0.8888888888888888,
              "#fdca26"
             ],
             [
              1,
              "#f0f921"
             ]
            ],
            "type": "histogram2d"
           }
          ],
          "histogram2dcontour": [
           {
            "colorbar": {
             "outlinewidth": 0,
             "ticks": ""
            },
            "colorscale": [
             [
              0,
              "#0d0887"
             ],
             [
              0.1111111111111111,
              "#46039f"
             ],
             [
              0.2222222222222222,
              "#7201a8"
             ],
             [
              0.3333333333333333,
              "#9c179e"
             ],
             [
              0.4444444444444444,
              "#bd3786"
             ],
             [
              0.5555555555555556,
              "#d8576b"
             ],
             [
              0.6666666666666666,
              "#ed7953"
             ],
             [
              0.7777777777777778,
              "#fb9f3a"
             ],
             [
              0.8888888888888888,
              "#fdca26"
             ],
             [
              1,
              "#f0f921"
             ]
            ],
            "type": "histogram2dcontour"
           }
          ],
          "mesh3d": [
           {
            "colorbar": {
             "outlinewidth": 0,
             "ticks": ""
            },
            "type": "mesh3d"
           }
          ],
          "parcoords": [
           {
            "line": {
             "colorbar": {
              "outlinewidth": 0,
              "ticks": ""
             }
            },
            "type": "parcoords"
           }
          ],
          "pie": [
           {
            "automargin": true,
            "type": "pie"
           }
          ],
          "scatter": [
           {
            "fillpattern": {
             "fillmode": "overlay",
             "size": 10,
             "solidity": 0.2
            },
            "type": "scatter"
           }
          ],
          "scatter3d": [
           {
            "line": {
             "colorbar": {
              "outlinewidth": 0,
              "ticks": ""
             }
            },
            "marker": {
             "colorbar": {
              "outlinewidth": 0,
              "ticks": ""
             }
            },
            "type": "scatter3d"
           }
          ],
          "scattercarpet": [
           {
            "marker": {
             "colorbar": {
              "outlinewidth": 0,
              "ticks": ""
             }
            },
            "type": "scattercarpet"
           }
          ],
          "scattergeo": [
           {
            "marker": {
             "colorbar": {
              "outlinewidth": 0,
              "ticks": ""
             }
            },
            "type": "scattergeo"
           }
          ],
          "scattergl": [
           {
            "marker": {
             "colorbar": {
              "outlinewidth": 0,
              "ticks": ""
             }
            },
            "type": "scattergl"
           }
          ],
          "scattermapbox": [
           {
            "marker": {
             "colorbar": {
              "outlinewidth": 0,
              "ticks": ""
             }
            },
            "type": "scattermapbox"
           }
          ],
          "scatterpolar": [
           {
            "marker": {
             "colorbar": {
              "outlinewidth": 0,
              "ticks": ""
             }
            },
            "type": "scatterpolar"
           }
          ],
          "scatterpolargl": [
           {
            "marker": {
             "colorbar": {
              "outlinewidth": 0,
              "ticks": ""
             }
            },
            "type": "scatterpolargl"
           }
          ],
          "scatterternary": [
           {
            "marker": {
             "colorbar": {
              "outlinewidth": 0,
              "ticks": ""
             }
            },
            "type": "scatterternary"
           }
          ],
          "surface": [
           {
            "colorbar": {
             "outlinewidth": 0,
             "ticks": ""
            },
            "colorscale": [
             [
              0,
              "#0d0887"
             ],
             [
              0.1111111111111111,
              "#46039f"
             ],
             [
              0.2222222222222222,
              "#7201a8"
             ],
             [
              0.3333333333333333,
              "#9c179e"
             ],
             [
              0.4444444444444444,
              "#bd3786"
             ],
             [
              0.5555555555555556,
              "#d8576b"
             ],
             [
              0.6666666666666666,
              "#ed7953"
             ],
             [
              0.7777777777777778,
              "#fb9f3a"
             ],
             [
              0.8888888888888888,
              "#fdca26"
             ],
             [
              1,
              "#f0f921"
             ]
            ],
            "type": "surface"
           }
          ],
          "table": [
           {
            "cells": {
             "fill": {
              "color": "#EBF0F8"
             },
             "line": {
              "color": "white"
             }
            },
            "header": {
             "fill": {
              "color": "#C8D4E3"
             },
             "line": {
              "color": "white"
             }
            },
            "type": "table"
           }
          ]
         },
         "layout": {
          "annotationdefaults": {
           "arrowcolor": "#2a3f5f",
           "arrowhead": 0,
           "arrowwidth": 1
          },
          "autotypenumbers": "strict",
          "coloraxis": {
           "colorbar": {
            "outlinewidth": 0,
            "ticks": ""
           }
          },
          "colorscale": {
           "diverging": [
            [
             0,
             "#8e0152"
            ],
            [
             0.1,
             "#c51b7d"
            ],
            [
             0.2,
             "#de77ae"
            ],
            [
             0.3,
             "#f1b6da"
            ],
            [
             0.4,
             "#fde0ef"
            ],
            [
             0.5,
             "#f7f7f7"
            ],
            [
             0.6,
             "#e6f5d0"
            ],
            [
             0.7,
             "#b8e186"
            ],
            [
             0.8,
             "#7fbc41"
            ],
            [
             0.9,
             "#4d9221"
            ],
            [
             1,
             "#276419"
            ]
           ],
           "sequential": [
            [
             0,
             "#0d0887"
            ],
            [
             0.1111111111111111,
             "#46039f"
            ],
            [
             0.2222222222222222,
             "#7201a8"
            ],
            [
             0.3333333333333333,
             "#9c179e"
            ],
            [
             0.4444444444444444,
             "#bd3786"
            ],
            [
             0.5555555555555556,
             "#d8576b"
            ],
            [
             0.6666666666666666,
             "#ed7953"
            ],
            [
             0.7777777777777778,
             "#fb9f3a"
            ],
            [
             0.8888888888888888,
             "#fdca26"
            ],
            [
             1,
             "#f0f921"
            ]
           ],
           "sequentialminus": [
            [
             0,
             "#0d0887"
            ],
            [
             0.1111111111111111,
             "#46039f"
            ],
            [
             0.2222222222222222,
             "#7201a8"
            ],
            [
             0.3333333333333333,
             "#9c179e"
            ],
            [
             0.4444444444444444,
             "#bd3786"
            ],
            [
             0.5555555555555556,
             "#d8576b"
            ],
            [
             0.6666666666666666,
             "#ed7953"
            ],
            [
             0.7777777777777778,
             "#fb9f3a"
            ],
            [
             0.8888888888888888,
             "#fdca26"
            ],
            [
             1,
             "#f0f921"
            ]
           ]
          },
          "colorway": [
           "#636efa",
           "#EF553B",
           "#00cc96",
           "#ab63fa",
           "#FFA15A",
           "#19d3f3",
           "#FF6692",
           "#B6E880",
           "#FF97FF",
           "#FECB52"
          ],
          "font": {
           "color": "#2a3f5f"
          },
          "geo": {
           "bgcolor": "white",
           "lakecolor": "white",
           "landcolor": "#E5ECF6",
           "showlakes": true,
           "showland": true,
           "subunitcolor": "white"
          },
          "hoverlabel": {
           "align": "left"
          },
          "hovermode": "closest",
          "mapbox": {
           "style": "light"
          },
          "paper_bgcolor": "white",
          "plot_bgcolor": "#E5ECF6",
          "polar": {
           "angularaxis": {
            "gridcolor": "white",
            "linecolor": "white",
            "ticks": ""
           },
           "bgcolor": "#E5ECF6",
           "radialaxis": {
            "gridcolor": "white",
            "linecolor": "white",
            "ticks": ""
           }
          },
          "scene": {
           "xaxis": {
            "backgroundcolor": "#E5ECF6",
            "gridcolor": "white",
            "gridwidth": 2,
            "linecolor": "white",
            "showbackground": true,
            "ticks": "",
            "zerolinecolor": "white"
           },
           "yaxis": {
            "backgroundcolor": "#E5ECF6",
            "gridcolor": "white",
            "gridwidth": 2,
            "linecolor": "white",
            "showbackground": true,
            "ticks": "",
            "zerolinecolor": "white"
           },
           "zaxis": {
            "backgroundcolor": "#E5ECF6",
            "gridcolor": "white",
            "gridwidth": 2,
            "linecolor": "white",
            "showbackground": true,
            "ticks": "",
            "zerolinecolor": "white"
           }
          },
          "shapedefaults": {
           "line": {
            "color": "#2a3f5f"
           }
          },
          "ternary": {
           "aaxis": {
            "gridcolor": "white",
            "linecolor": "white",
            "ticks": ""
           },
           "baxis": {
            "gridcolor": "white",
            "linecolor": "white",
            "ticks": ""
           },
           "bgcolor": "#E5ECF6",
           "caxis": {
            "gridcolor": "white",
            "linecolor": "white",
            "ticks": ""
           }
          },
          "title": {
           "x": 0.05
          },
          "xaxis": {
           "automargin": true,
           "gridcolor": "white",
           "linecolor": "white",
           "ticks": "",
           "title": {
            "standoff": 15
           },
           "zerolinecolor": "white",
           "zerolinewidth": 2
          },
          "yaxis": {
           "automargin": true,
           "gridcolor": "white",
           "linecolor": "white",
           "ticks": "",
           "title": {
            "standoff": 15
           },
           "zerolinecolor": "white",
           "zerolinewidth": 2
          }
         }
        },
        "xaxis": {
         "anchor": "y",
         "domain": [
          0,
          1
         ],
         "title": {
          "text": "index"
         }
        },
        "yaxis": {
         "anchor": "x",
         "domain": [
          0,
          1
         ],
         "title": {
          "text": "value"
         }
        }
       }
      }
     },
     "metadata": {},
     "output_type": "display_data"
    }
   ],
   "source": [
    "#calculate mean of columns in daily_returns\n",
    "returns_mean = daily_returns.___\n",
    "# bar plot of returns mean\n",
    "returns_mean_bar = ...\n",
    "#show the plot\n",
    "returns_mean_bar.show()"
   ]
  },
  {
   "cell_type": "markdown",
   "metadata": {},
   "source": [
    "<h1 align=right style=\"line-height:150%;font-family:vazir;color:#0099cc\">\n",
    "<font face=\"vazir\" color=\"#0099cc\">\n",
    "<code>Portfolio</code>\n",
    "محاسبه بازده و ریسک برای هر\n",
    "</font>\n",
    "</h1>"
   ]
  },
  {
   "cell_type": "markdown",
   "metadata": {},
   "source": [
    "<h1 align=right style=\"line-height:150%;font-family:vazir;color:#0099cc\">\n",
    "<font face=\"vazir\" color=\"#0099cc\" size=5>\n",
    "<code>Portfolio</code>\n",
    "نحوه محاسبه بازده یک\n",
    "</font>\n",
    "</h1>"
   ]
  },
  {
   "cell_type": "markdown",
   "metadata": {},
   "source": [
    "<p dir=rtl style=\"direction: rtl;text-align: right;line-height:200%;font-family:vazir;font-size:medium\">\n",
    "<font face=\"vazir\" size=3>\n",
    "بازده مجموعه ای از سهم ها یا \n",
    "<code>Portfolio</code>\n",
    "را به صورت میانگین وزنی بازده  سهم ها تعریف میکنیم.\n",
    "  </font>\n",
    "</p>"
   ]
  },
  {
   "cell_type": "markdown",
   "metadata": {},
   "source": [
    "$$\n",
    "E(R_p) = \\sum_{i=1}^{n} w_i * E(R_i)\n",
    "$$"
   ]
  },
  {
   "cell_type": "markdown",
   "metadata": {},
   "source": [
    "<p dir=rtl style=\"direction: rtl;text-align: right;line-height:200%;font-family:vazir;font-size:medium\">\n",
    "<font face=\"vazir\" size=3>\n",
    "برای مثال فرض کنید \n",
    "<code>Portfolio</code>\n",
    "ما\n",
    "از دو سهم با نسبت های برابر تشکیل شده است به طوری بازده سهم اول \n",
    "<code>9%</code>\n",
    "و بازده سهم دوم\n",
    "<code>5%</code>\n",
    "است بازده \n",
    "<code>Portfolio</code>\n",
    "برابر است با:\n",
    "  </font>\n",
    "</p>"
   ]
  },
  {
   "cell_type": "markdown",
   "metadata": {},
   "source": [
    "$$\n",
    "(\\frac{5}{100} * \\frac{1}{2}) + (\\frac{9}{100} * \\frac{1}{2}) = \\frac{7}{100}\n",
    "$$"
   ]
  },
  {
   "cell_type": "markdown",
   "metadata": {},
   "source": [
    "<p dir=rtl style=\"direction: rtl;text-align: right;line-height:200%;font-family:vazir;font-size:medium\">\n",
    "<font face=\"vazir\" size=3>\n",
    "حال در ادامه تابعی مینویسیم که با دریافت اسم سهام ها به صورت رشته و نسبت آن ها در\n",
    "<code>Portfolio</code>\n",
    "بازده\n",
    "<code>Portfolio</code>\n",
    "را محاسبه کند.\n",
    "  </font>\n",
    "</p>"
   ]
  },
  {
   "cell_type": "code",
   "execution_count": 28,
   "metadata": {},
   "outputs": [],
   "source": [
    "def calculate_return(assets , weights):\n",
    "    # initialize E_return\n",
    "    E_return = 0\n",
    "    # iterate over assets \n",
    "    for ... in range(len(assets)):\n",
    "        current_asset = assets[...]\n",
    "        current_weight = weights[...]\n",
    "        #calculate wi*E(Ri) for each asset and add it to the result\n",
    "        E_return +=  returns_mean[...] * ...\n",
    "    return E_return\n"
   ]
  },
  {
   "cell_type": "markdown",
   "metadata": {},
   "source": [
    "<h1 align=right style=\"line-height:150%;font-family:vazir;color:#0099cc\">\n",
    "<font face=\"vazir\" color=\"#0099cc\" size=5>\n",
    "<code>Portfolio</code>\n",
    "نحوه محاسبه ریسک یک\n",
    "</font>\n",
    "</h1>"
   ]
  },
  {
   "cell_type": "markdown",
   "metadata": {},
   "source": [
    "<p dir=rtl style=\"direction: rtl;text-align: right;line-height:200%;font-family:vazir;font-size:medium\">\n",
    "<font face=\"vazir\" size=3>\n",
    "قبل از محاسبه ریسک \n",
    "<code>Portfolio</code>\n",
    "با مفهوم \n",
    "کوواریانس آشنا میشویم.\n",
    "اغلب برای مشخص کردن میزان رابطه خطی بین دو متغیر تصادفی از کوواریانس استفاده می‌شود. مقدار کوواریانس دو متغیر، شامل مقادیر مثبت و منفی است. ولی هر چه مقدار کوواریانس به صفر نزدیکتر باشد، میزان وابستگی خطی بین آن‌ها کمتر خواهد بود. مقادیر مثبت نشانگر رابطه هم جهت بین دو متغیر و مقادیر منفی کوواریانس نیز بیانگر رابطه معکوس بین آن‌ها خواهد بود.\n",
    "</font>\n",
    "</p>"
   ]
  },
  {
   "cell_type": "markdown",
   "metadata": {},
   "source": [
    "<p dir=rtl style=\"direction: rtl;text-align: right;line-height:200%;font-family:vazir;font-size:medium\">\n",
    "<font face=\"vazir\" size=3>\n",
    "برای محاسبه ریسک \n",
    "یک \n",
    "<code>Portfolio</code>\n",
    "از رابطه زیر استفاده میکنیم:\n",
    "  </font>\n",
    "</p>"
   ]
  },
  {
   "cell_type": "markdown",
   "metadata": {},
   "source": [
    "$$\\sigma^2(Rp) = \\sum_{i=1}^{n} \\sum_{j=1}^{n} w_i w_j COV(R_i, R_j) $$"
   ]
  },
  {
   "cell_type": "markdown",
   "metadata": {},
   "source": [
    "<p dir=rtl style=\"direction: rtl;text-align: right;line-height:200%;font-family:vazir;font-size:medium\">\n",
    "<font face=\"vazir\" size=3>\n",
    "همچنین برای محاسبه کوواریانس میان ستون های دیتافریم میتوانیم\n",
    "از تابع\n",
    "<code>cov</code>\n",
    "استفاده کنیم.\n",
    "  </font>\n",
    "</p>"
   ]
  },
  {
   "cell_type": "code",
   "execution_count": 29,
   "metadata": {},
   "outputs": [
    {
     "data": {
      "text/html": [
       "<div>\n",
       "<style scoped>\n",
       "    .dataframe tbody tr th:only-of-type {\n",
       "        vertical-align: middle;\n",
       "    }\n",
       "\n",
       "    .dataframe tbody tr th {\n",
       "        vertical-align: top;\n",
       "    }\n",
       "\n",
       "    .dataframe thead th {\n",
       "        text-align: right;\n",
       "    }\n",
       "</style>\n",
       "<table border=\"1\" class=\"dataframe\">\n",
       "  <thead>\n",
       "    <tr style=\"text-align: right;\">\n",
       "      <th></th>\n",
       "      <th>611986653700161</th>\n",
       "      <th>408934423224097</th>\n",
       "      <th>318005355896147</th>\n",
       "      <th>204092872752957</th>\n",
       "      <th>114312662654155</th>\n",
       "      <th>71856634742001725</th>\n",
       "    </tr>\n",
       "  </thead>\n",
       "  <tbody>\n",
       "    <tr>\n",
       "      <th>611986653700161</th>\n",
       "      <td>0.002275</td>\n",
       "      <td>0.000198</td>\n",
       "      <td>0.000222</td>\n",
       "      <td>0.000239</td>\n",
       "      <td>0.000054</td>\n",
       "      <td>0.000184</td>\n",
       "    </tr>\n",
       "    <tr>\n",
       "      <th>408934423224097</th>\n",
       "      <td>0.000198</td>\n",
       "      <td>0.000945</td>\n",
       "      <td>0.000185</td>\n",
       "      <td>0.000167</td>\n",
       "      <td>0.000058</td>\n",
       "      <td>0.000161</td>\n",
       "    </tr>\n",
       "    <tr>\n",
       "      <th>318005355896147</th>\n",
       "      <td>0.000222</td>\n",
       "      <td>0.000185</td>\n",
       "      <td>0.001582</td>\n",
       "      <td>0.000058</td>\n",
       "      <td>0.000006</td>\n",
       "      <td>0.000088</td>\n",
       "    </tr>\n",
       "    <tr>\n",
       "      <th>204092872752957</th>\n",
       "      <td>0.000239</td>\n",
       "      <td>0.000167</td>\n",
       "      <td>0.000058</td>\n",
       "      <td>0.001779</td>\n",
       "      <td>0.000019</td>\n",
       "      <td>-0.000020</td>\n",
       "    </tr>\n",
       "    <tr>\n",
       "      <th>114312662654155</th>\n",
       "      <td>0.000054</td>\n",
       "      <td>0.000058</td>\n",
       "      <td>0.000006</td>\n",
       "      <td>0.000019</td>\n",
       "      <td>0.000306</td>\n",
       "      <td>0.000045</td>\n",
       "    </tr>\n",
       "    <tr>\n",
       "      <th>71856634742001725</th>\n",
       "      <td>0.000184</td>\n",
       "      <td>0.000161</td>\n",
       "      <td>0.000088</td>\n",
       "      <td>-0.000020</td>\n",
       "      <td>0.000045</td>\n",
       "      <td>0.000563</td>\n",
       "    </tr>\n",
       "  </tbody>\n",
       "</table>\n",
       "</div>"
      ],
      "text/plain": [
       "                   611986653700161  408934423224097  318005355896147  \\\n",
       "611986653700161           0.002275         0.000198         0.000222   \n",
       "408934423224097           0.000198         0.000945         0.000185   \n",
       "318005355896147           0.000222         0.000185         0.001582   \n",
       "204092872752957           0.000239         0.000167         0.000058   \n",
       "114312662654155           0.000054         0.000058         0.000006   \n",
       "71856634742001725         0.000184         0.000161         0.000088   \n",
       "\n",
       "                   204092872752957  114312662654155  71856634742001725  \n",
       "611986653700161           0.000239         0.000054           0.000184  \n",
       "408934423224097           0.000167         0.000058           0.000161  \n",
       "318005355896147           0.000058         0.000006           0.000088  \n",
       "204092872752957           0.001779         0.000019          -0.000020  \n",
       "114312662654155           0.000019         0.000306           0.000045  \n",
       "71856634742001725        -0.000020         0.000045           0.000563  "
      ]
     },
     "execution_count": 29,
     "metadata": {},
     "output_type": "execute_result"
    }
   ],
   "source": [
    "# calculate covariance mat\n",
    "covariance = daily_returns.cov()\n",
    "covariance"
   ]
  },
  {
   "cell_type": "markdown",
   "metadata": {},
   "source": [
    "<p dir=rtl style=\"direction: rtl;text-align: right;line-height:200%;font-family:vazir;font-size:medium\">\n",
    "<font face=\"vazir\" size=3>\n",
    "ماتریس کوواریانس به دست آمده در سلول فوق را با\n",
    "<code>px.imshow</code>\n",
    "رسم میکنیم.\n",
    "  </font>\n",
    "</p>"
   ]
  },
  {
   "cell_type": "code",
   "execution_count": 30,
   "metadata": {},
   "outputs": [
    {
     "data": {
      "application/vnd.plotly.v1+json": {
       "config": {
        "plotlyServerURL": "https://plot.ly"
       },
       "data": [
        {
         "coloraxis": "coloraxis",
         "hovertemplate": "x: %{x}<br>y: %{y}<br>color: %{z}<extra></extra>",
         "name": "0",
         "type": "heatmap",
         "x": [
          "611986653700161",
          "408934423224097",
          "318005355896147",
          "204092872752957",
          "114312662654155",
          "71856634742001725"
         ],
         "xaxis": "x",
         "y": [
          "611986653700161",
          "408934423224097",
          "318005355896147",
          "204092872752957",
          "114312662654155",
          "71856634742001725"
         ],
         "yaxis": "y",
         "z": [
          [
           0.002274901136141464,
           0.0001982858205466115,
           0.00022187288408514655,
           0.0002392044384329689,
           0.00005432623318866021,
           0.0001835694778920745
          ],
          [
           0.0001982858205466115,
           0.0009450022873520562,
           0.00018549083063416742,
           0.00016683802645751068,
           0.00005843394159152039,
           0.0001613502839635308
          ],
          [
           0.00022187288408514655,
           0.00018549083063416742,
           0.0015823491923041397,
           0.00005831403601091754,
           0.000005502479996266258,
           0.00008812142753453087
          ],
          [
           0.0002392044384329689,
           0.00016683802645751068,
           0.00005831403601091754,
           0.001778928830310071,
           0.000018566326850539972,
           -0.00002041091520861802
          ],
          [
           0.00005432623318866021,
           0.00005843394159152039,
           0.000005502479996266258,
           0.000018566326850539972,
           0.0003056408144604376,
           0.000045072204107574055
          ],
          [
           0.0001835694778920745,
           0.0001613502839635308,
           0.00008812142753453087,
           -0.00002041091520861802,
           0.000045072204107574055,
           0.000562665223271045
          ]
         ]
        }
       ],
       "layout": {
        "coloraxis": {
         "colorscale": [
          [
           0,
           "#0d0887"
          ],
          [
           0.1111111111111111,
           "#46039f"
          ],
          [
           0.2222222222222222,
           "#7201a8"
          ],
          [
           0.3333333333333333,
           "#9c179e"
          ],
          [
           0.4444444444444444,
           "#bd3786"
          ],
          [
           0.5555555555555556,
           "#d8576b"
          ],
          [
           0.6666666666666666,
           "#ed7953"
          ],
          [
           0.7777777777777778,
           "#fb9f3a"
          ],
          [
           0.8888888888888888,
           "#fdca26"
          ],
          [
           1,
           "#f0f921"
          ]
         ]
        },
        "margin": {
         "t": 60
        },
        "template": {
         "data": {
          "bar": [
           {
            "error_x": {
             "color": "#2a3f5f"
            },
            "error_y": {
             "color": "#2a3f5f"
            },
            "marker": {
             "line": {
              "color": "#E5ECF6",
              "width": 0.5
             },
             "pattern": {
              "fillmode": "overlay",
              "size": 10,
              "solidity": 0.2
             }
            },
            "type": "bar"
           }
          ],
          "barpolar": [
           {
            "marker": {
             "line": {
              "color": "#E5ECF6",
              "width": 0.5
             },
             "pattern": {
              "fillmode": "overlay",
              "size": 10,
              "solidity": 0.2
             }
            },
            "type": "barpolar"
           }
          ],
          "carpet": [
           {
            "aaxis": {
             "endlinecolor": "#2a3f5f",
             "gridcolor": "white",
             "linecolor": "white",
             "minorgridcolor": "white",
             "startlinecolor": "#2a3f5f"
            },
            "baxis": {
             "endlinecolor": "#2a3f5f",
             "gridcolor": "white",
             "linecolor": "white",
             "minorgridcolor": "white",
             "startlinecolor": "#2a3f5f"
            },
            "type": "carpet"
           }
          ],
          "choropleth": [
           {
            "colorbar": {
             "outlinewidth": 0,
             "ticks": ""
            },
            "type": "choropleth"
           }
          ],
          "contour": [
           {
            "colorbar": {
             "outlinewidth": 0,
             "ticks": ""
            },
            "colorscale": [
             [
              0,
              "#0d0887"
             ],
             [
              0.1111111111111111,
              "#46039f"
             ],
             [
              0.2222222222222222,
              "#7201a8"
             ],
             [
              0.3333333333333333,
              "#9c179e"
             ],
             [
              0.4444444444444444,
              "#bd3786"
             ],
             [
              0.5555555555555556,
              "#d8576b"
             ],
             [
              0.6666666666666666,
              "#ed7953"
             ],
             [
              0.7777777777777778,
              "#fb9f3a"
             ],
             [
              0.8888888888888888,
              "#fdca26"
             ],
             [
              1,
              "#f0f921"
             ]
            ],
            "type": "contour"
           }
          ],
          "contourcarpet": [
           {
            "colorbar": {
             "outlinewidth": 0,
             "ticks": ""
            },
            "type": "contourcarpet"
           }
          ],
          "heatmap": [
           {
            "colorbar": {
             "outlinewidth": 0,
             "ticks": ""
            },
            "colorscale": [
             [
              0,
              "#0d0887"
             ],
             [
              0.1111111111111111,
              "#46039f"
             ],
             [
              0.2222222222222222,
              "#7201a8"
             ],
             [
              0.3333333333333333,
              "#9c179e"
             ],
             [
              0.4444444444444444,
              "#bd3786"
             ],
             [
              0.5555555555555556,
              "#d8576b"
             ],
             [
              0.6666666666666666,
              "#ed7953"
             ],
             [
              0.7777777777777778,
              "#fb9f3a"
             ],
             [
              0.8888888888888888,
              "#fdca26"
             ],
             [
              1,
              "#f0f921"
             ]
            ],
            "type": "heatmap"
           }
          ],
          "heatmapgl": [
           {
            "colorbar": {
             "outlinewidth": 0,
             "ticks": ""
            },
            "colorscale": [
             [
              0,
              "#0d0887"
             ],
             [
              0.1111111111111111,
              "#46039f"
             ],
             [
              0.2222222222222222,
              "#7201a8"
             ],
             [
              0.3333333333333333,
              "#9c179e"
             ],
             [
              0.4444444444444444,
              "#bd3786"
             ],
             [
              0.5555555555555556,
              "#d8576b"
             ],
             [
              0.6666666666666666,
              "#ed7953"
             ],
             [
              0.7777777777777778,
              "#fb9f3a"
             ],
             [
              0.8888888888888888,
              "#fdca26"
             ],
             [
              1,
              "#f0f921"
             ]
            ],
            "type": "heatmapgl"
           }
          ],
          "histogram": [
           {
            "marker": {
             "pattern": {
              "fillmode": "overlay",
              "size": 10,
              "solidity": 0.2
             }
            },
            "type": "histogram"
           }
          ],
          "histogram2d": [
           {
            "colorbar": {
             "outlinewidth": 0,
             "ticks": ""
            },
            "colorscale": [
             [
              0,
              "#0d0887"
             ],
             [
              0.1111111111111111,
              "#46039f"
             ],
             [
              0.2222222222222222,
              "#7201a8"
             ],
             [
              0.3333333333333333,
              "#9c179e"
             ],
             [
              0.4444444444444444,
              "#bd3786"
             ],
             [
              0.5555555555555556,
              "#d8576b"
             ],
             [
              0.6666666666666666,
              "#ed7953"
             ],
             [
              0.7777777777777778,
              "#fb9f3a"
             ],
             [
              0.8888888888888888,
              "#fdca26"
             ],
             [
              1,
              "#f0f921"
             ]
            ],
            "type": "histogram2d"
           }
          ],
          "histogram2dcontour": [
           {
            "colorbar": {
             "outlinewidth": 0,
             "ticks": ""
            },
            "colorscale": [
             [
              0,
              "#0d0887"
             ],
             [
              0.1111111111111111,
              "#46039f"
             ],
             [
              0.2222222222222222,
              "#7201a8"
             ],
             [
              0.3333333333333333,
              "#9c179e"
             ],
             [
              0.4444444444444444,
              "#bd3786"
             ],
             [
              0.5555555555555556,
              "#d8576b"
             ],
             [
              0.6666666666666666,
              "#ed7953"
             ],
             [
              0.7777777777777778,
              "#fb9f3a"
             ],
             [
              0.8888888888888888,
              "#fdca26"
             ],
             [
              1,
              "#f0f921"
             ]
            ],
            "type": "histogram2dcontour"
           }
          ],
          "mesh3d": [
           {
            "colorbar": {
             "outlinewidth": 0,
             "ticks": ""
            },
            "type": "mesh3d"
           }
          ],
          "parcoords": [
           {
            "line": {
             "colorbar": {
              "outlinewidth": 0,
              "ticks": ""
             }
            },
            "type": "parcoords"
           }
          ],
          "pie": [
           {
            "automargin": true,
            "type": "pie"
           }
          ],
          "scatter": [
           {
            "fillpattern": {
             "fillmode": "overlay",
             "size": 10,
             "solidity": 0.2
            },
            "type": "scatter"
           }
          ],
          "scatter3d": [
           {
            "line": {
             "colorbar": {
              "outlinewidth": 0,
              "ticks": ""
             }
            },
            "marker": {
             "colorbar": {
              "outlinewidth": 0,
              "ticks": ""
             }
            },
            "type": "scatter3d"
           }
          ],
          "scattercarpet": [
           {
            "marker": {
             "colorbar": {
              "outlinewidth": 0,
              "ticks": ""
             }
            },
            "type": "scattercarpet"
           }
          ],
          "scattergeo": [
           {
            "marker": {
             "colorbar": {
              "outlinewidth": 0,
              "ticks": ""
             }
            },
            "type": "scattergeo"
           }
          ],
          "scattergl": [
           {
            "marker": {
             "colorbar": {
              "outlinewidth": 0,
              "ticks": ""
             }
            },
            "type": "scattergl"
           }
          ],
          "scattermapbox": [
           {
            "marker": {
             "colorbar": {
              "outlinewidth": 0,
              "ticks": ""
             }
            },
            "type": "scattermapbox"
           }
          ],
          "scatterpolar": [
           {
            "marker": {
             "colorbar": {
              "outlinewidth": 0,
              "ticks": ""
             }
            },
            "type": "scatterpolar"
           }
          ],
          "scatterpolargl": [
           {
            "marker": {
             "colorbar": {
              "outlinewidth": 0,
              "ticks": ""
             }
            },
            "type": "scatterpolargl"
           }
          ],
          "scatterternary": [
           {
            "marker": {
             "colorbar": {
              "outlinewidth": 0,
              "ticks": ""
             }
            },
            "type": "scatterternary"
           }
          ],
          "surface": [
           {
            "colorbar": {
             "outlinewidth": 0,
             "ticks": ""
            },
            "colorscale": [
             [
              0,
              "#0d0887"
             ],
             [
              0.1111111111111111,
              "#46039f"
             ],
             [
              0.2222222222222222,
              "#7201a8"
             ],
             [
              0.3333333333333333,
              "#9c179e"
             ],
             [
              0.4444444444444444,
              "#bd3786"
             ],
             [
              0.5555555555555556,
              "#d8576b"
             ],
             [
              0.6666666666666666,
              "#ed7953"
             ],
             [
              0.7777777777777778,
              "#fb9f3a"
             ],
             [
              0.8888888888888888,
              "#fdca26"
             ],
             [
              1,
              "#f0f921"
             ]
            ],
            "type": "surface"
           }
          ],
          "table": [
           {
            "cells": {
             "fill": {
              "color": "#EBF0F8"
             },
             "line": {
              "color": "white"
             }
            },
            "header": {
             "fill": {
              "color": "#C8D4E3"
             },
             "line": {
              "color": "white"
             }
            },
            "type": "table"
           }
          ]
         },
         "layout": {
          "annotationdefaults": {
           "arrowcolor": "#2a3f5f",
           "arrowhead": 0,
           "arrowwidth": 1
          },
          "autotypenumbers": "strict",
          "coloraxis": {
           "colorbar": {
            "outlinewidth": 0,
            "ticks": ""
           }
          },
          "colorscale": {
           "diverging": [
            [
             0,
             "#8e0152"
            ],
            [
             0.1,
             "#c51b7d"
            ],
            [
             0.2,
             "#de77ae"
            ],
            [
             0.3,
             "#f1b6da"
            ],
            [
             0.4,
             "#fde0ef"
            ],
            [
             0.5,
             "#f7f7f7"
            ],
            [
             0.6,
             "#e6f5d0"
            ],
            [
             0.7,
             "#b8e186"
            ],
            [
             0.8,
             "#7fbc41"
            ],
            [
             0.9,
             "#4d9221"
            ],
            [
             1,
             "#276419"
            ]
           ],
           "sequential": [
            [
             0,
             "#0d0887"
            ],
            [
             0.1111111111111111,
             "#46039f"
            ],
            [
             0.2222222222222222,
             "#7201a8"
            ],
            [
             0.3333333333333333,
             "#9c179e"
            ],
            [
             0.4444444444444444,
             "#bd3786"
            ],
            [
             0.5555555555555556,
             "#d8576b"
            ],
            [
             0.6666666666666666,
             "#ed7953"
            ],
            [
             0.7777777777777778,
             "#fb9f3a"
            ],
            [
             0.8888888888888888,
             "#fdca26"
            ],
            [
             1,
             "#f0f921"
            ]
           ],
           "sequentialminus": [
            [
             0,
             "#0d0887"
            ],
            [
             0.1111111111111111,
             "#46039f"
            ],
            [
             0.2222222222222222,
             "#7201a8"
            ],
            [
             0.3333333333333333,
             "#9c179e"
            ],
            [
             0.4444444444444444,
             "#bd3786"
            ],
            [
             0.5555555555555556,
             "#d8576b"
            ],
            [
             0.6666666666666666,
             "#ed7953"
            ],
            [
             0.7777777777777778,
             "#fb9f3a"
            ],
            [
             0.8888888888888888,
             "#fdca26"
            ],
            [
             1,
             "#f0f921"
            ]
           ]
          },
          "colorway": [
           "#636efa",
           "#EF553B",
           "#00cc96",
           "#ab63fa",
           "#FFA15A",
           "#19d3f3",
           "#FF6692",
           "#B6E880",
           "#FF97FF",
           "#FECB52"
          ],
          "font": {
           "color": "#2a3f5f"
          },
          "geo": {
           "bgcolor": "white",
           "lakecolor": "white",
           "landcolor": "#E5ECF6",
           "showlakes": true,
           "showland": true,
           "subunitcolor": "white"
          },
          "hoverlabel": {
           "align": "left"
          },
          "hovermode": "closest",
          "mapbox": {
           "style": "light"
          },
          "paper_bgcolor": "white",
          "plot_bgcolor": "#E5ECF6",
          "polar": {
           "angularaxis": {
            "gridcolor": "white",
            "linecolor": "white",
            "ticks": ""
           },
           "bgcolor": "#E5ECF6",
           "radialaxis": {
            "gridcolor": "white",
            "linecolor": "white",
            "ticks": ""
           }
          },
          "scene": {
           "xaxis": {
            "backgroundcolor": "#E5ECF6",
            "gridcolor": "white",
            "gridwidth": 2,
            "linecolor": "white",
            "showbackground": true,
            "ticks": "",
            "zerolinecolor": "white"
           },
           "yaxis": {
            "backgroundcolor": "#E5ECF6",
            "gridcolor": "white",
            "gridwidth": 2,
            "linecolor": "white",
            "showbackground": true,
            "ticks": "",
            "zerolinecolor": "white"
           },
           "zaxis": {
            "backgroundcolor": "#E5ECF6",
            "gridcolor": "white",
            "gridwidth": 2,
            "linecolor": "white",
            "showbackground": true,
            "ticks": "",
            "zerolinecolor": "white"
           }
          },
          "shapedefaults": {
           "line": {
            "color": "#2a3f5f"
           }
          },
          "ternary": {
           "aaxis": {
            "gridcolor": "white",
            "linecolor": "white",
            "ticks": ""
           },
           "baxis": {
            "gridcolor": "white",
            "linecolor": "white",
            "ticks": ""
           },
           "bgcolor": "#E5ECF6",
           "caxis": {
            "gridcolor": "white",
            "linecolor": "white",
            "ticks": ""
           }
          },
          "title": {
           "x": 0.05
          },
          "xaxis": {
           "automargin": true,
           "gridcolor": "white",
           "linecolor": "white",
           "ticks": "",
           "title": {
            "standoff": 15
           },
           "zerolinecolor": "white",
           "zerolinewidth": 2
          },
          "yaxis": {
           "automargin": true,
           "gridcolor": "white",
           "linecolor": "white",
           "ticks": "",
           "title": {
            "standoff": 15
           },
           "zerolinecolor": "white",
           "zerolinewidth": 2
          }
         }
        },
        "xaxis": {
         "anchor": "y",
         "constrain": "domain",
         "domain": [
          0,
          1
         ],
         "scaleanchor": "y"
        },
        "yaxis": {
         "anchor": "x",
         "autorange": "reversed",
         "constrain": "domain",
         "domain": [
          0,
          1
         ]
        }
       }
      }
     },
     "metadata": {},
     "output_type": "display_data"
    }
   ],
   "source": [
    "px.___(covariance)"
   ]
  },
  {
   "cell_type": "markdown",
   "metadata": {},
   "source": [
    "<p dir=rtl style=\"direction: rtl;text-align: right;line-height:200%;font-family:vazir;font-size:medium\">\n",
    "<font face=\"vazir\" size=3>\n",
    "مانند بازدهی تابعی برای محاسبه ریسک\n",
    "<code>Portfolio</code>\n",
    "مینویسیم.این تابع دو ورودی دارد که اولی اسم سهم ها و دومی نسبت آن ها در \n",
    "<code>Portfolio</code>\n",
    "است.\n",
    "  </font>\n",
    "</p>"
   ]
  },
  {
   "cell_type": "code",
   "execution_count": 31,
   "metadata": {},
   "outputs": [],
   "source": [
    "def calculate_risk(assets , weights):\n",
    "    #initialize E_varince\n",
    "    E_variance = 0\n",
    "    for ... in range(len(assets)):\n",
    "        for ... in range(len(assets)):\n",
    "            asset_i , weight_i = assets[...] , weights[...]\n",
    "            asset_j , weight_j = assets[...] , weights[...]\n",
    "            E_variance += ... * ... * covariance.loc[... , ...]\n",
    "    return E_variance"
   ]
  },
  {
   "cell_type": "markdown",
   "metadata": {},
   "source": [
    "<p dir=rtl style=\"direction: rtl;text-align: right;line-height:200%;font-family:vazir;font-size:medium\">\n",
    "<font face=\"vazir\" size=3>\n",
    "حالا در ادامه میخواهیم\n",
    "<code>n</code>\n",
    "تا\n",
    "<code>Portfolio</code>\n",
    "بسازیم\n",
    "با\n",
    "<code>m</code>\n",
    "سهم به طوری که نسبت آن ها در \n",
    "<code>Portfolio</code>\n",
    "رندوم باشد.همچنین سهم ها را نیز رندوم انتخاب میکنیم.\n",
    "  </font>\n",
    "</p>"
   ]
  },
  {
   "cell_type": "markdown",
   "metadata": {},
   "source": [
    "<p dir=rtl style=\"direction: rtl;text-align: right;line-height:200%;font-family:vazir;font-size:medium\">\n",
    "<font face=\"vazir\" size=3>\n",
    "تعداد سهم هایی که میخواهید در \n",
    "<code>Portfolio</code>\n",
    "داشته باشید را در\n",
    "<code>n_assets</code>\n",
    "ذخیره کنید.\n",
    "  </font>\n",
    "</p>"
   ]
  },
  {
   "cell_type": "code",
   "execution_count": 32,
   "metadata": {},
   "outputs": [],
   "source": [
    "#- How many assests to include in each portfolio\n",
    "n_assets = 5"
   ]
  },
  {
   "cell_type": "markdown",
   "metadata": {},
   "source": [
    "<p dir=rtl style=\"direction: rtl;text-align: right;line-height:200%;font-family:vazir;font-size:medium\">\n",
    "<font face=\"vazir\" size=3>\n",
    "تعداد\n",
    "<code>Portfolio</code>\n",
    "هایی که میخواهیم تصادفی بسازیم را در متغیر\n",
    "<code>n_portfolios</code>\n",
    "قرار دهید.\n",
    "  </font>\n",
    "</p>"
   ]
  },
  {
   "cell_type": "code",
   "execution_count": 33,
   "metadata": {},
   "outputs": [],
   "source": [
    "#-- How many portfolios to generate\n",
    "n_portfolios = 1000"
   ]
  },
  {
   "cell_type": "markdown",
   "metadata": {},
   "source": [
    "<p dir=rtl style=\"direction: rtl;text-align: right;line-height:200%;font-family:vazir;font-size:medium\">\n",
    "<font face=\"vazir\" size=3>\n",
    "حالا یک لیست خالی تعریف میکنیم برای ذخیره کردن دوتایی بازدهی و ریسک.برای قابل پیش بینی بودن نتایج تصادفی نیز یک عدد\n",
    "به عنوان\n",
    "<code>seed</code>\n",
    "به تولید کننده اعداد تصادفی \n",
    "در نامپای با استفاده از\n",
    "<code>np.random.seed</code>\n",
    "میدهیم.\n",
    "  </font>\n",
    "</p>"
   ]
  },
  {
   "cell_type": "code",
   "execution_count": 34,
   "metadata": {},
   "outputs": [],
   "source": [
    "#-- Initialize empty list to store return-risk pairs for plotting\n",
    "mean_variance_pairs = []\n",
    "# seed the random number generator\n",
    "np.random.seed(75)"
   ]
  },
  {
   "cell_type": "markdown",
   "metadata": {},
   "source": [
    "<p dir=rtl style=\"direction: rtl;text-align: right;line-height:200%;font-family:vazir;font-size:medium\">\n",
    "<font face=\"vazir\" size=3>\n",
    "در این قسمت با یک حلقه به اندازه\n",
    "<code>n_portfolios</code>\n",
    "در هر گام یک \n",
    "<code>Portfolio</code>\n",
    "تصادفی میسازیم و سپس با استفاده از توابع\n",
    "<code>calculate_risk</code>\n",
    "و\n",
    "<code>calculate_return</code>\n",
    "ریسک و بازدهی\n",
    "<code>Portfolio</code>\n",
    "را محاسبه و به لیست\n",
    "<code>mean_variance_pairs</code>\n",
    "اضافه میکنیم.\n",
    "  </font>\n",
    "</p>"
   ]
  },
  {
   "cell_type": "markdown",
   "metadata": {},
   "source": [
    "<p dir=rtl style=\"direction: rtl;text-align: right;line-height:200%;font-family:vazir;font-size:medium\">\n",
    "<font face=\"vazir\" size=3>\n",
    "تابع \n",
    "<code>np.random.choice</code>\n",
    "یک دنباله آیتم و یک عدد دریافت میکند و به صورت تصادفی  به اندازه خواسته شده آیتم انتخاب کرده و برمیگرداند.\n",
    "  </font>\n",
    "</p>"
   ]
  },
  {
   "cell_type": "code",
   "execution_count": 35,
   "metadata": {},
   "outputs": [],
   "source": [
    "#-- Loop through and generate lots of random portfolios\n",
    "for ... in range(...):\n",
    "    # Choose assets randomly without replacement\n",
    "    assets = np.random.choice(list(daily_returns.columns), n_assets, replace=False)\n",
    "    # Choose weights randomly\n",
    "    weights = np.random.rand(n_assets)\n",
    "    # Ensure weights sum to 1\n",
    "    weights = weights/sum(weights)\n",
    "\n",
    "    portfolio_E_Variance = ...\n",
    "    portfolio_E_Return = \n",
    "    \n",
    "            \n",
    "    #-- Add the mean/variance pairs to a list for plotting\n",
    "    mean_variance_pairs.___((... , ...))"
   ]
  },
  {
   "cell_type": "markdown",
   "metadata": {},
   "source": [
    "<p dir=rtl style=\"direction: rtl;text-align: right;line-height:200%;font-family:vazir;font-size:medium\">\n",
    "<font face=\"vazir\" size=3>\n",
    "در نهایت میتوانیم با استفاده از داده های محاسبه شده نمودار بازدهی به ریسک را برای هر\n",
    "<code>Portfolio</code>\n",
    "رسم کنیم.\n",
    "  </font>\n",
    "</p>"
   ]
  },
  {
   "cell_type": "code",
   "execution_count": 36,
   "metadata": {},
   "outputs": [
    {
     "data": {
      "application/vnd.plotly.v1+json": {
       "config": {
        "plotlyServerURL": "https://plot.ly"
       },
       "data": [
        {
         "marker": {
          "color": [
           0.16065197990637,
           0.06426077369215993,
           0.09925985845774107,
           0.09174088177141317,
           0.11896374432273081,
           0.09235679405015225,
           0.13597080109868495,
           0.06441297795155351,
           0.13569296924680174,
           0.09067651690212704,
           0.13017787210533327,
           0.12637319942400613,
           0.05679305819004464,
           0.0815916075844773,
           0.07303591830185852,
           0.14108913576555468,
           0.08776709229613067,
           0.14365600411298962,
           0.11985637359266481,
           0.13489790301565938,
           0.12179378996337659,
           0.1237157383110523,
           0.1575112232990702,
           0.10660645506923792,
           0.14691171477835013,
           0.015619657173885533,
           0.1375138501706274,
           0.0542088457351117,
           0.14000095456209405,
           0.039684279404271605,
           0.057620935520204586,
           0.11038384408513155,
           0.07744183873377941,
           0.11956789054701325,
           0.08254087140062785,
           0.1498035311533677,
           0.09581674213465703,
           0.13552475242083709,
           0.11965108992670186,
           0.07104931381178711,
           0.06514201654605437,
           0.051365375869319725,
           0.15872775142112638,
           0.09874586479958648,
           0.0778756200002881,
           0.09157120374376494,
           0.13757213719002342,
           0.13431987425222536,
           0.13289991624124833,
           0.0714413205721776,
           0.09209721084193614,
           0.12759702712504037,
           0.15108930463430864,
           0.10016406058364268,
           0.13877169425370942,
           0.16335791545288547,
           0.07836005974383879,
           0.10296629173466436,
           0.09366427859224101,
           0.011083664836261909,
           0.12120121423990561,
           0.13610369365032357,
           0.09349712340521611,
           0.13668376749774336,
           0.09085137735820117,
           0.04547019021135796,
           0.057984857104705786,
           0.17018889785085284,
           0.1385613944585092,
           0.1218132855687053,
           0.09265906597792352,
           0.1273351672693161,
           0.04796878863023095,
           0.043063229243622214,
           0.13926127757395146,
           0.11247539394658414,
           0.14069330632953078,
           0.051243486814761145,
           0.14239713840958643,
           0.06973157038762103,
           0.15777532894497975,
           0.08778187146612096,
           0.12082975608924597,
           0.1518873481123445,
           0.14810354589914254,
           0.05915020893941609,
           0.07127255531510455,
           0.11997661629246285,
           0.16827617481309234,
           0.055217430976520675,
           0.0515274896954148,
           0.07570340355625144,
           0.11620724473443649,
           0.033511665034943086,
           0.10596147788502053,
           0.08229417699717129,
           0.09662968347794232,
           0.09681768911615633,
           0.07101731364652447,
           0.11331054678380488,
           0.10315963315356394,
           0.11860774271905042,
           0.14934198447743402,
           0.08923959335921922,
           0.12868335008306947,
           0.09346047661238295,
           0.1505782166702468,
           0.09906023519588132,
           0.08885730070967648,
           0.05384373561616343,
           0.11809032731328095,
           0.06266086813936157,
           0.0993701399740081,
           0.07648386623219719,
           0.10840678388403405,
           0.10576811707198315,
           0.07895915335009102,
           0.06152621834079396,
           0.11092138501614601,
           0.18692103759308565,
           0.12227448851941913,
           0.03810423384976443,
           0.06699510645801338,
           0.08908550941252802,
           0.08187799559547188,
           0.12053852069867331,
           0.16026996134012342,
           0.061946037607444625,
           0.1006078971255091,
           0.11174956540745754,
           0.13467161356506882,
           0.08555454158851729,
           0.12606872933189353,
           0.08413569034380952,
           0.13081155217679674,
           0.13043454775652114,
           0.09993261944224627,
           0.14996505491364007,
           0.10945894691012854,
           0.07519899313765327,
           0.12754372441166134,
           0.030102680696379728,
           0.11360841846782126,
           0.13648042144099098,
           0.09691392411326308,
           0.050510829833264076,
           0.09112747833472172,
           0.1345396593695879,
           0.12061071616817548,
           0.07488469226374002,
           0.10816229887908892,
           0.0888898569476058,
           0.1009036737367851,
           0.11780502341581128,
           0.07964872700966168,
           0.16676631529681693,
           0.09341755276783242,
           0.12846216994395923,
           0.15759606901895742,
           0.16637227153285855,
           0.12695332736177634,
           0.11016748983648518,
           0.06675770876979382,
           0.11135561786226951,
           0.09925428092509793,
           0.1413350748926911,
           0.12468548874853096,
           0.11832104688434647,
           0.11420895267189007,
           0.11033060007260391,
           0.10563882018663331,
           0.06237964979824127,
           0.10454416417831752,
           0.06707928612205485,
           0.07829356638662106,
           0.10989687498150956,
           0.05424673751972611,
           0.18034931944613658,
           0.1356085959324453,
           0.1136344064953456,
           0.07452116248713589,
           0.07630928894984257,
           0.08788582759722614,
           0.08822807432322494,
           0.059870364667446226,
           0.0878378816358203,
           0.09912370458831789,
           0.03435215302898077,
           0.02680100135337048,
           0.06919626922374471,
           0.11170398074377576,
           0.1481214512579467,
           0.08535145911680544,
           0.08733238994532865,
           0.07886341630651557,
           0.09132337714207193,
           0.11057538551658405,
           0.09295338135753356,
           0.13233370005026154,
           0.11841455165231708,
           0.08754942243012917,
           0.09226660799177935,
           0.0876136997071214,
           0.10333092910804582,
           0.05297660845460074,
           0.08372943284680974,
           0.08450562185461968,
           0.11968692810598097,
           0.1551698294033935,
           0.11543587004520323,
           0.12605080878186709,
           0.0753189246099953,
           0.12545803681135892,
           0.10085599696246642,
           0.091114433642382,
           0.05879520866126465,
           0.07387265474588142,
           0.014281167052244498,
           0.11482003088629276,
           0.16170554580920196,
           0.10955686821984105,
           0.11710073623521779,
           0.15988199553531496,
           0.062085957028803755,
           0.06753751561495663,
           0.0940087547639845,
           0.08267424453446877,
           0.09340595616482127,
           0.0910620426675533,
           0.08832495986613557,
           0.09266230458784909,
           0.15636944575493558,
           0.017835655057403015,
           0.15790200717896138,
           0.136314620765884,
           0.13709527453577447,
           0.11306500447469048,
           0.10432498862178001,
           0.06095179949838206,
           0.08329589017887988,
           0.13954583449557664,
           0.11879492478173057,
           0.11226815894545474,
           0.05964627319266009,
           0.15163246570602215,
           0.07793821057401516,
           0.17601440082366088,
           0.15337305221248504,
           0.14620433690925547,
           0.15997423753272624,
           0.10769893559880124,
           0.14378164195204163,
           0.15209432676231086,
           0.09873836797654892,
           0.12026383942119316,
           0.08260091596920463,
           0.13871122831379884,
           0.0677851782573472,
           0.0747500707285158,
           0.1248337821012603,
           0.11507958308515559,
           0.1251122759618982,
           0.18150076452856256,
           0.11802686067891154,
           0.05008850009988251,
           0.04622524484930791,
           0.12944966737952118,
           0.10885962721355631,
           0.07520195833186147,
           0.08403913344900421,
           0.014958324795276237,
           0.08161483546927221,
           0.06801440665661553,
           0.12638238869726195,
           0.06707062049962428,
           0.11574730876032627,
           0.12525377400670745,
           0.08852103459296692,
           0.1251362413619339,
           0.14448672891905986,
           0.11106368096236446,
           0.03778389174271593,
           0.11367225585806513,
           0.10310291753443672,
           0.07496975319071063,
           0.1327326143302292,
           0.11513628313201646,
           0.09964898773641678,
           0.1221596290194163,
           0.12284519750256874,
           0.10456992101655276,
           0.12472400594072024,
           0.14468961205223407,
           0.08671423646408483,
           0.08372844584031301,
           0.09594088045467852,
           0.13103115964384426,
           0.14470167175422077,
           0.09778501622781634,
           0.06364494909542318,
           0.09507185431826896,
           0.11858775364556834,
           0.14307792332241162,
           0.1791986247296531,
           0.14669892290841122,
           0.12132438255780204,
           0.11797249591039573,
           0.09089694563996072,
           0.12164811583575977,
           0.059999241524939045,
           0.11305722333915662,
           0.13312726652122175,
           0.14208680101909513,
           0.12745245767016838,
           0.09305195283538541,
           0.10390564899082795,
           0.06946472622597498,
           0.10413131777227849,
           0.10945733698847382,
           0.14017002389716984,
           0.08916015695408028,
           0.07968142987238035,
           0.06652628967890731,
           0.07476834051364906,
           0.1502989956255601,
           0.15116529586117974,
           0.051099013404544,
           0.11089433707678806,
           0.10021095744469415,
           0.10720359291938251,
           0.1243411739060512,
           0.12366155051554048,
           0.14952085068873675,
           0.13699160593439821,
           0.11148528260542293,
           0.10408937927149697,
           0.09695161051228803,
           0.148475284787415,
           0.10951465919240463,
           0.10210219437781853,
           0.07698945250414131,
           0.10697866401846855,
           0.12956287744667283,
           0.12265653559957058,
           0.08806078636580687,
           0.11221567821473762,
           0.08940139072209677,
           0.11271565866651308,
           0.08828228652686163,
           0.04731300287473716,
           0.09284300116336876,
           0.06418081492286916,
           0.1495903948689705,
           0.08663963324758635,
           0.09673075724150615,
           0.07259290117331306,
           0.12827186107424124,
           0.14589643314454606,
           0.09427382281246899,
           0.14114719240816914,
           0.12848609145065581,
           0.12451115699608126,
           0.14579137138420506,
           0.07453786999485243,
           0.1038881543107385,
           0.15261789903763193,
           0.07343995970100732,
           0.10929063349054813,
           0.12916780765561212,
           0.12017600612675243,
           0.05826743610678969,
           0.12418006230623369,
           0.10645726477997643,
           0.0720461695525623,
           0.05474946910764564,
           0.07989873306729038,
           0.07049123516848498,
           0.14215766561455104,
           0.09001057261019837,
           0.09701998055519694,
           0.07521844506392622,
           0.09473059498743583,
           0.0785553170653099,
           0.08007054397771379,
           0.14809108087978806,
           0.15191357783776455,
           0.07671231469858081,
           0.09584207967410091,
           0.11210243724178195,
           0.10741220292206646,
           0.08260995242286194,
           0.08735360124486287,
           0.07643046581056417,
           0.12470440522018966,
           0.10237787863777174,
           0.17387011279579878,
           0.1420654061150011,
           0.11859108272926566,
           0.09287140656152754,
           0.052759861210556105,
           0.09317575169776318,
           0.15285462492127963,
           0.14035971761813446,
           0.13098404879195424,
           0.14126297487763048,
           0.0814389218800326,
           0.11610694640467249,
           0.13574662111542518,
           0.1278043298066888,
           0.07529686410114436,
           0.11056350160409976,
           0.13199485130023403,
           0.09430349585723705,
           0.14022143268765935,
           0.16925108101915282,
           0.14042147040678815,
           0.10523838738224217,
           0.1550594031754689,
           0.0892481277646151,
           0.1000264196641331,
           0.12938991486128046,
           0.1053699164781492,
           0.104221362079652,
           0.08696351493656225,
           0.10191204639197432,
           0.13066778235357218,
           0.09763440773761987,
           0.09333073355401449,
           0.10920974761136139,
           0.14654690867726958,
           0.1348155956732651,
           0.05135523546648819,
           0.15719514547420865,
           0.14712645341485603,
           0.09212984758852583,
           0.10191669866736922,
           0.11205267545275849,
           0.1196056256837399,
           0.10778672885566064,
           0.10420079390035697,
           0.07806591625741892,
           0.06661288923442531,
           0.11030202980102624,
           0.10194984447776499,
           0.10379047961989829,
           0.10684884448054328,
           0.13651273006738093,
           0.09517842967856964,
           0.13878181392964603,
           0.14818140057207524,
           0.0760990674250169,
           0.12622891258970695,
           0.10778561524360279,
           0.13578635365787414,
           0.13593812118239895,
           0.08940954885695541,
           0.1070922340323659,
           0.15616088766100666,
           0.14324776952716528,
           0.11836382952783706,
           0.11621191823844707,
           0.13875552755761308,
           0.12509581041746246,
           0.1319019321524934,
           0.16242389140791308,
           0.0755482691335202,
           0.10715846477145187,
           0.08258879023552963,
           0.1665997837817472,
           0.07348880953678763,
           0.10248696614446019,
           0.12449335323347718,
           0.15747791390088864,
           0.14128774792599222,
           0.11832493069681273,
           0.10795753815172741,
           0.08516988993971332,
           0.11949419995638394,
           0.12124688393299722,
           0.13208242175167365,
           0.12016917436943692,
           0.07872687180926448,
           0.13745426695753124,
           0.1254413015702803,
           0.12175303443118878,
           0.1258940033224965,
           0.07692968909067788,
           0.11788136076051386,
           0.10713819366117937,
           0.08089349878261602,
           0.1259080318857267,
           0.10412313983308202,
           0.08728100468639328,
           0.10712041295932456,
           0.14138246912550584,
           0.12403968372098516,
           0.12330582372081048,
           0.13238871557524964,
           0.14170365395435572,
           0.1039216663995007,
           0.033972002572147046,
           0.11770764067319467,
           0.09669268451516803,
           0.14023752153914476,
           0.13086436794997428,
           0.10770386706617786,
           0.11254868648537444,
           0.10908504915454846,
           0.0762651851623579,
           0.11137884538414089,
           0.09940067559973025,
           0.09444135523314821,
           0.0915646224394068,
           0.13066137013158904,
           0.044660558760893004,
           0.06395065431324998,
           0.07585287955661675,
           0.03724535753040952,
           0.07071144959290313,
           0.07464195561544573,
           0.09431142362839841,
           0.11270309857628644,
           0.06524549420984979,
           0.12370257426983244,
           0.12912374269370144,
           0.11984382430848672,
           0.034400044906672984,
           0.11716941622984059,
           0.13183126949072704,
           0.14362601044389978,
           0.11222646188037866,
           0.07350079346670711,
           0.0544440988476293,
           0.098958091520588,
           0.12715486287740993,
           0.09656554946717692,
           0.08117460293664445,
           0.13320229791139052,
           0.08137296579897889,
           0.09824901544444034,
           0.0768017366468825,
           0.08372756916237198,
           0.10329612680254421,
           0.10441534287591873,
           0.1052446602532157,
           0.07678552186301613,
           0.12176456632247135,
           0.09162582036717007,
           0.09530664352566587,
           0.08311461937747136,
           0.1534503817976907,
           0.07237502007878628,
           0.15040099710779664,
           0.13178560762879465,
           0.15899153852686052,
           0.1067303859058135,
           0.0830022184137855,
           0.13451183196769165,
           0.13542883024028957,
           0.12336291695258152,
           0.11794921380250166,
           0.13863910423751227,
           0.13689501435304172,
           0.11170596723844312,
           0.07466773159718222,
           0.13837965759825177,
           0.1235915321659621,
           0.1493131861052727,
           0.09288179992397515,
           0.14823945048699108,
           0.07640757513028779,
           0.1200025734852027,
           0.10037559128941231,
           0.15302552835331343,
           0.08948095690338549,
           0.07341204031482361,
           0.12633257103929643,
           0.12238461835977558,
           0.056105589025691995,
           0.1289025624673229,
           0.13731814143407176,
           0.1206431636148459,
           0.14067665755538095,
           0.12480156290475708,
           0.11987449157804525,
           0.11360494473345112,
           0.024013788253437206,
           0.12100158740675963,
           0.1423743815589722,
           0.12957205855109424,
           0.159204844919219,
           0.15017695014373636,
           0.10704238471152665,
           0.08587689748563747,
           0.08896145774346101,
           0.08140253778752465,
           0.08449947707863677,
           0.08353026305872605,
           0.1686901274548223,
           0.07553938935122506,
           0.11358908076662029,
           0.15657581706786894,
           0.09430947496183123,
           0.13117733634743498,
           0.11251562526372996,
           0.134414396303675,
           0.11922270264782414,
           0.1292326763348317,
           0.14519810959179064,
           0.05902720651851564,
           0.11197012607216177,
           0.12585083583773987,
           0.1408774441771436,
           0.08248125380242684,
           0.09605515821007451,
           0.07476172665245685,
           0.10689045075564274,
           0.12641455404615218,
           0.1013807245020087,
           0.13580500087053196,
           0.03544533015941418,
           0.1047554108997574,
           0.08069553097801122,
           0.11310558688323658,
           0.10774014501844663,
           0.1118182733860784,
           0.10134095589385071,
           0.08453674786747631,
           0.09909405940589641,
           0.079980397164505,
           0.08270344561490063,
           0.08906605481084205,
           0.0835612218317014,
           0.14423307930168786,
           0.14408078434258878,
           0.14386081883512442,
           0.12634100241070004,
           0.1261262265169358,
           0.1175471115435462,
           0.07935352051508546,
           0.09597253142559595,
           0.09750639395702246,
           0.154313488003141,
           0.09127187934271025,
           0.10560618141318855,
           0.10397672988652666,
           0.11370655949098189,
           0.1280775637110943,
           0.10338972896432586,
           0.0782852439755377,
           0.07856966075939105,
           0.1006600619737955,
           0.11627976670208767,
           0.08200278316246892,
           0.04884021088399147,
           0.07712419577197276,
           0.09945138649765436,
           0.13279938545156614,
           0.14389865677533414,
           0.08391620354076049,
           0.06390132115927694,
           0.06104511719441433,
           0.11593241846139099,
           0.09551126340850821,
           0.059882562188589596,
           0.10378187535321562,
           0.15613287008762458,
           0.12748610371499516,
           0.10928673100729287,
           0.09263184208470261,
           0.10008454782331483,
           0.13998907585281686,
           0.14325638532572701,
           0.12363156503562042,
           0.06292905711600977,
           0.14359883151727676,
           0.08445500983651538,
           0.09365132524583934,
           0.07941276284941898,
           0.13202912247205367,
           0.11533195501040537,
           0.07169709387326136,
           0.07166511820866958,
           0.06574011584667198,
           0.1401502518389087,
           0.12310239265972192,
           0.06757676046579562,
           0.029817989443277595,
           0.13983568029977586,
           0.11610843949439723,
           0.11153055023048061,
           0.11056489722786585,
           0.162320629012911,
           0.11582030056312151,
           0.1597942069492006,
           0.06037942654518513,
           0.13494053097278388,
           0.08424119145363415,
           0.16950149178535515,
           0.04429876543878314,
           0.07684351121814631,
           0.10615989661887221,
           0.10064011152920328,
           0.15571569444260933,
           0.0646115726699569,
           0.07312843752123352,
           0.10213391539400742,
           0.07164518129977138,
           0.08260406564297575,
           0.1010624558803721,
           0.09573592584194258,
           0.10618391010945205,
           0.13509020024827287,
           0.05580898641939279,
           0.13453117113641763,
           0.15611004675527534,
           0.12860582073751958,
           0.1442772465275154,
           0.1184794616697198,
           0.0912439847291996,
           0.08321381541309113,
           0.06801344070451928,
           0.12062679175102822,
           0.03372664076420559,
           0.09008352504269934,
           0.12405150417228385,
           0.10684748533819657,
           0.13487879180649892,
           0.10522864376023497,
           0.12280976187261469,
           0.09715169306263285,
           0.09965209826917056,
           0.08279199168713157,
           0.09545618543499607,
           0.08871177748057325,
           0.1443930723632705,
           0.15697146259538816,
           0.142279201423432,
           0.08526505062606188,
           0.06492448768919416,
           0.05780041002587993,
           0.1758537738588221,
           0.06726227505120996,
           0.09962145883588812,
           0.10356001132391027,
           0.06619007168219998,
           0.1146675699172251,
           0.1405827712601663,
           0.12661102886719777,
           0.12370284209908758,
           0.1364712120153995,
           0.07642790826589785,
           0.08401661571333784,
           0.06171734796567762,
           0.1086391589681944,
           0.11300437685746452,
           0.041255789982623726,
           0.06179261888230967,
           0.12231803464950071,
           0.0162969958496309,
           0.09398875392748153,
           0.10285067772106793,
           0.07507744567159091,
           0.10589809859192592,
           0.07075509134937016,
           0.10730247834273249,
           0.0960152322728265,
           0.09998128900786014,
           0.11488559332179289,
           0.07348079441102248,
           0.08274546181922061,
           0.07259657765055623,
           0.09797804139779275,
           0.14530690301639124,
           0.08683602448547736,
           0.08167563532806271,
           0.12980376974465735,
           0.12437052898336705,
           0.13327547184420688,
           0.09408925055727632,
           0.06382914085890076,
           0.07133814437938008,
           0.05501635689546262,
           0.056102982729065456,
           0.08147762500070692,
           0.12008186717839021,
           0.07006909580822523,
           0.16605181582423667,
           0.13656965472343088,
           0.1356032775358408,
           0.08320971794725993,
           0.09384988050407163,
           0.06234036185492551,
           0.11118780685838911,
           0.11368423477214283,
           0.06694570447771182,
           0.09402878788471083,
           0.12349251666500159,
           0.10378287217459808,
           0.14005975751879687,
           0.04004310779853314,
           0.10606236176803055,
           0.08039575115837556,
           0.0748114692454155,
           0.1250878022092332,
           0.09419945650050801,
           0.11711756047078875,
           0.1280789804656897,
           0.12702518878324812,
           0.13748663981555398,
           0.10348281802800667,
           0.08069481171470815,
           0.11278734316524533,
           0.13308567450624156,
           0.12904417805021945,
           0.14130581975879347,
           0.11555583577283202,
           0.09108048011898187,
           0.1138545928086264,
           0.07592450387416576,
           0.12327506151262174,
           0.07949195417516075,
           0.128820507671906,
           0.1297159346451615,
           0.09468264696146707,
           0.11634821914463261,
           0.096167131909441,
           0.06717221688245942,
           0.14894926010387508,
           0.14570646118311661,
           0.07550195562568947,
           0.08823397290438424,
           0.10256691022406149,
           0.07663353332900409,
           0.07029285662288572,
           0.0909651432926409,
           0.09504585776129389,
           0.13948561983306065,
           0.09427654369272596,
           0.12765234484030977,
           0.10908738158515227,
           0.10486832781934083,
           0.08999959483179915,
           0.1351599643622558,
           0.12178094631213635,
           0.04239728677560729,
           0.13752408379566386,
           0.10988001621599977,
           0.1245072500905774,
           0.06845700713560547,
           0.11656930422518756,
           0.09932563437530331,
           0.14122721517689577,
           0.1487774549573424,
           0.1312786813010426,
           0.1270625081280374,
           0.032045915572179645,
           0.10067206908911464,
           0.12523742941690238,
           0.05721874699196924,
           0.12978078204712906,
           0.11937599466147794,
           0.15392380058460298,
           0.1271307807949117,
           0.11124777640016274,
           0.09497494834426884,
           0.11237675426096913,
           0.14766380198350407,
           0.15581911834009277,
           0.08676306660119737,
           0.09322021045407432,
           0.14763105475023294,
           0.08649687205857239,
           0.10755865591364508,
           0.18222611703589583,
           0.1441639116302,
           0.05023510758103155,
           0.07883902286699455,
           0.14487292351080205,
           0.09266871779739701,
           0.11501945146035011,
           0.08213783179745349,
           0.08848766883836164,
           0.09523346339395414,
           0.11081541423668237,
           0.11853863922707393,
           0.15329883467553715,
           0.13782659708425846,
           0.15412843088333195,
           0.08484730022937,
           0.13943667647268898,
           0.09803702953222627,
           0.10659502195707447,
           0.09222066937943749,
           0.13901029390399194,
           0.13626044542883392,
           0.12758114962787329,
           0.07770936859475235,
           0.10573269131284023,
           0.11705905378839634,
           0.10737884372672994,
           0.14502972143825144,
           0.06328382343769551,
           0.05932219527838919,
           0.1226674426048659,
           0.11010406744020908,
           0.1718213718240986,
           0.10338432414924506,
           0.04493045887811047,
           0.07238615996864536,
           0.13754966418003914,
           0.07487601145828213,
           0.1254628021676639,
           0.09168951043779718,
           0.1527118148731343,
           0.14189350672042672,
           0.07045718677125148,
           0.14851520447501645,
           0.11606180540651025,
           0.12806403313074338,
           0.1299984264447902,
           0.15084064445506307,
           0.10752710988275506,
           0.1333539816711467,
           0.10981882732998013,
           0.11582350719524301,
           0.07360352096870973,
           0.036940730930607825,
           0.13942480521096634,
           0.10736173096290724,
           0.1749436755487169,
           0.10295559515346647,
           0.08049163515409563,
           0.09411860743034882,
           0.13854887755979586,
           0.09907802259086126,
           0.1325683019484034,
           0.10396444524750328,
           0.05020855454791664,
           0.09510877648478361,
           0.12018945384292991,
           0.0760738079322185,
           0.10166658737646114,
           0.11884120286821517,
           0.0898591103688513,
           0.05663257221246192,
           0.12274819105858104,
           0.13621745048751277,
           0.06903221177441178,
           0.12790719475517523,
           0.13093736534515243,
           0.07945794233698657,
           0.11041471461173133,
           0.12480865176368143,
           0.07414488404163597,
           0.0805448286737381,
           0.11551733927735433,
           0.08555427791587748,
           0.10532432472764522,
           0.09031107690664898,
           0.0993297447996989,
           0.11139119461632706,
           0.09721281107539712,
           0.14104856987464717,
           0.08351691974981887,
           0.07855525001856456,
           0.10481511601187823,
           0.1018098714390109,
           0.08946819095245281,
           0.07034427580987314,
           0.07383049169383075,
           0.09820549766342788,
           0.13371698748584526,
           0.048684083637203016,
           0.10944321643236198,
           0.12213229614867757,
           0.07091407212658618,
           0.08286981328392698,
           0.12912435868239505,
           0.1479637267012044,
           0.09028290914302554,
           0.12265698398519934,
           0.1344802346331496,
           0.14680899369733416,
           0.09342632781077238,
           0.05952380641461945,
           0.10901650767317017,
           0.09443757209539842,
           0.14104959175613574,
           0.032192221906046946,
           0.10285165213395057,
           0.13904785565874944,
           0.08723593662666894,
           0.1214707306005781,
           0.11402095209964322,
           0.10794913488648701,
           0.14543556768678972,
           0.1063530275602996,
           0.09021322320994507,
           0.10452554696931449
          ],
          "colorbar": {
           "title": {
            "text": "Sharpe<br>Ratio"
           }
          },
          "colorscale": [
           [
            0,
            "rgb(103,0,31)"
           ],
           [
            0.1,
            "rgb(178,24,43)"
           ],
           [
            0.2,
            "rgb(214,96,77)"
           ],
           [
            0.3,
            "rgb(244,165,130)"
           ],
           [
            0.4,
            "rgb(253,219,199)"
           ],
           [
            0.5,
            "rgb(247,247,247)"
           ],
           [
            0.6,
            "rgb(209,229,240)"
           ],
           [
            0.7,
            "rgb(146,197,222)"
           ],
           [
            0.8,
            "rgb(67,147,195)"
           ],
           [
            0.9,
            "rgb(33,102,172)"
           ],
           [
            1,
            "rgb(5,48,97)"
           ]
          ],
          "line": {
           "width": 1
          },
          "showscale": true,
          "size": 7
         },
         "mode": "markers",
         "type": "scatter",
         "x": [
          0.016157423667919654,
          0.0216621527275274,
          0.023202456255077337,
          0.022802411113293394,
          0.019317091781936673,
          0.017988474731281397,
          0.020680413973250943,
          0.021929026925043667,
          0.017265131175662394,
          0.01712838106109793,
          0.01518346165184224,
          0.017370329145395057,
          0.021699206965258965,
          0.03098996789759054,
          0.01679554691878987,
          0.017792525972612182,
          0.019912513875558688,
          0.021704433410197222,
          0.0168346402935284,
          0.018934347258017247,
          0.02605290466814554,
          0.022601661663594626,
          0.01670183575516707,
          0.015310431156675113,
          0.016761934987417466,
          0.01507153165467224,
          0.02190547937609895,
          0.017860194192477943,
          0.019618733142011673,
          0.01945859230632798,
          0.01641390105840174,
          0.021971962733139228,
          0.019531516902423794,
          0.02095990391061221,
          0.02316932953274257,
          0.02095250050956687,
          0.01786321378149368,
          0.019680678290772535,
          0.018579312240804124,
          0.022254699198558176,
          0.02048809514576248,
          0.02484488406316473,
          0.018573803409206186,
          0.020470187627667984,
          0.018501895744634254,
          0.026906544985787376,
          0.0171420092843068,
          0.017242598433149885,
          0.02203036890382874,
          0.02467397954078859,
          0.01987848717813519,
          0.014251606196771828,
          0.01756178263667391,
          0.023929251633907016,
          0.018794686470047776,
          0.02053847723597467,
          0.022961932998752647,
          0.015245988120572405,
          0.022863385534162527,
          0.015833812713308564,
          0.026071139058751445,
          0.019855702177920976,
          0.023207370152802994,
          0.019965968166974723,
          0.01923437737494928,
          0.016981232387958952,
          0.01748699377342823,
          0.017774878093429775,
          0.02048294698397853,
          0.018172843260535563,
          0.014470622122505258,
          0.015319806921802336,
          0.02210599333458513,
          0.02096169774936261,
          0.017544663831769777,
          0.01603601976697145,
          0.019441345550697882,
          0.016429172747413227,
          0.016568837854739546,
          0.024246544364700275,
          0.016672226416425233,
          0.020188771461743967,
          0.025633662122302878,
          0.0157400514800714,
          0.02086839020258931,
          0.02510129153954614,
          0.0164058323259972,
          0.017659861746665024,
          0.019040249557568185,
          0.019363759088541124,
          0.019036695689940028,
          0.025697521413446094,
          0.023764354075925698,
          0.022850239486788947,
          0.015456486627854506,
          0.018054777750726402,
          0.020656936153726917,
          0.023275931600486827,
          0.021808046075275856,
          0.017600549952382156,
          0.021127754127314255,
          0.018359232251733672,
          0.020246286268504315,
          0.017979417793788043,
          0.020748010112155775,
          0.019459778903159638,
          0.02088501998112503,
          0.017370587034841792,
          0.015923704746574705,
          0.017306462298547327,
          0.014389960289391782,
          0.016750856790324235,
          0.02322856178284347,
          0.01782399228031028,
          0.017420360810311834,
          0.020947691554468243,
          0.01976802892374652,
          0.01952056587111011,
          0.022871077926013738,
          0.018424291711644385,
          0.023800646899722597,
          0.018295412657471977,
          0.017618677403881566,
          0.030266882803291963,
          0.02142891296744418,
          0.022218661215111114,
          0.020584295658186504,
          0.01986841323654844,
          0.0183866969834,
          0.023859411856148184,
          0.017497707102760635,
          0.019161833596658427,
          0.021527903084337947,
          0.020603948141690913,
          0.020965393764529393,
          0.02181929369651547,
          0.025242279973344696,
          0.016304284676378074,
          0.023542792431046882,
          0.01720715418935284,
          0.017462020433066067,
          0.023078353972403657,
          0.01703595461736831,
          0.017774743414150033,
          0.022448850890323828,
          0.02024052933010249,
          0.017801808940427103,
          0.015782057673258736,
          0.02073849712609643,
          0.017470598067416198,
          0.015048263294421124,
          0.01712111044232611,
          0.018936393181174453,
          0.022956805119735482,
          0.02054871697539893,
          0.01964119966012513,
          0.017894814575804132,
          0.01741168677527179,
          0.023652809850725695,
          0.020026590733296743,
          0.01916136027157934,
          0.021872623163039253,
          0.02090712030057179,
          0.023950702284586598,
          0.016835619098391746,
          0.020227124534351833,
          0.01798572839588941,
          0.014014694429211879,
          0.018577402363468346,
          0.014924875877038514,
          0.020650499493347508,
          0.02108359109852853,
          0.017297749445132977,
          0.023655824749289667,
          0.018539149870777837,
          0.01538709347806511,
          0.02190731686547349,
          0.01750653214557221,
          0.024577043066609888,
          0.022764344790007267,
          0.02427381216463776,
          0.019817816542551665,
          0.019936823784716853,
          0.01960928326404647,
          0.014081555015038775,
          0.02075679878080111,
          0.017080582736003474,
          0.02583507774761997,
          0.015615612615003539,
          0.02039201344954887,
          0.021385688329652135,
          0.018892178237191595,
          0.02383315250283525,
          0.01798975843503241,
          0.016814694202445975,
          0.021310259253903122,
          0.018085621676142027,
          0.01878851640898208,
          0.018012615773892675,
          0.022342802306093236,
          0.023306829678186567,
          0.018933320482510705,
          0.02140991230200776,
          0.0174877359731226,
          0.0196660978763811,
          0.024353122934898372,
          0.018431306206248724,
          0.02369390803991227,
          0.017199059806460536,
          0.015870195284936117,
          0.02208598789500163,
          0.017956673381897967,
          0.022450275470198247,
          0.01771742186811907,
          0.01960218655504235,
          0.019962111320291777,
          0.019630678896220524,
          0.01392330400621886,
          0.020714474551260645,
          0.015976221450452525,
          0.0171941435789906,
          0.022567192773651636,
          0.01956642046696168,
          0.016307924155872934,
          0.017238412330573705,
          0.02423995751616532,
          0.01871092401424108,
          0.018477059272976038,
          0.018620759760409843,
          0.026525641086837574,
          0.02713198868172444,
          0.018865265950325002,
          0.02040899675433544,
          0.01615704706938108,
          0.022053585848458263,
          0.02389645863163865,
          0.016044412189824987,
          0.02283775672545707,
          0.03116061878659391,
          0.02450667065875257,
          0.02007944834531722,
          0.02569769524091063,
          0.014713080084516812,
          0.019520845370768508,
          0.020135243063686543,
          0.020222863159897932,
          0.019900154122148808,
          0.016567663031477654,
          0.019840247191783452,
          0.018389629779588506,
          0.019467636528070646,
          0.021791671359812352,
          0.018776609387277928,
          0.023205282999996153,
          0.018056114553099484,
          0.014182205321374087,
          0.01987683371704536,
          0.024963346570563302,
          0.01950837618487497,
          0.0282121890016895,
          0.01955554060318464,
          0.014312474537476328,
          0.020453201845111964,
          0.024411553007969596,
          0.02030935704865624,
          0.016847144571953146,
          0.02156035635039312,
          0.01697327263772504,
          0.026098381356178743,
          0.021402177647805377,
          0.017053189891030034,
          0.018749942776773745,
          0.01718225215109307,
          0.021396237671828085,
          0.02857514357432822,
          0.015848699696319732,
          0.022277837964090955,
          0.018694680517370554,
          0.01704195313041177,
          0.019706139432229545,
          0.017792924523610247,
          0.014489495551024656,
          0.026217483996730358,
          0.02009851542826213,
          0.017815892867197036,
          0.022796415724933593,
          0.02533299705160577,
          0.017672110327149576,
          0.01954474066949907,
          0.018213706322228542,
          0.01489319905767095,
          0.017936591682099264,
          0.019319757167617555,
          0.020322722964282603,
          0.019634372243961713,
          0.022383618760329755,
          0.019979829806819338,
          0.021112149172987628,
          0.019183808899968947,
          0.01753849282284579,
          0.023547070779158946,
          0.017537193377664507,
          0.022473669217845663,
          0.01985759309144102,
          0.0177825836845644,
          0.022797250974786232,
          0.019888820557804766,
          0.01942553596841687,
          0.02087995637704915,
          0.018483335008402303,
          0.017990331282046634,
          0.02161827127994897,
          0.021138941909728946,
          0.022727742093354923,
          0.02211721202743759,
          0.023530598636579574,
          0.02056565939847326,
          0.016124464836390646,
          0.024206420053239884,
          0.020393397023124097,
          0.018324052778550596,
          0.02150080103707055,
          0.01838520784178181,
          0.02085059647670915,
          0.01641957908946815,
          0.019363832712203214,
          0.023755944708117073,
          0.027969171338044597,
          0.0210805159060632,
          0.018957939328453244,
          0.021025256223651447,
          0.016720335473072945,
          0.019584618198620382,
          0.021523763911825537,
          0.022897288602151296,
          0.027259821828866986,
          0.01993087072112424,
          0.0196476538426876,
          0.024619254002222837,
          0.01943857438351898,
          0.01995616547683631,
          0.01463813867973594,
          0.021712943430982217,
          0.0192564279848944,
          0.020678348420658826,
          0.015484734680535019,
          0.018695403964076745,
          0.021402956608407842,
          0.0204684430127855,
          0.01999203324483588,
          0.019095489155225357,
          0.021003972987468516,
          0.020417028897049303,
          0.01638523357828532,
          0.021302525699129687,
          0.020935920868035765,
          0.02178241446977229,
          0.01992705665640727,
          0.017796247349154214,
          0.018413391290173015,
          0.02019742334523228,
          0.015109687827164164,
          0.020685321950934445,
          0.024449692613990315,
          0.02169722176003173,
          0.020157492934394335,
          0.021232638178528912,
          0.020794469203240545,
          0.01953824666410043,
          0.016713916189954412,
          0.020467811706334924,
          0.016857412639721462,
          0.022934581011413588,
          0.01968605287170681,
          0.017912887742010913,
          0.019546945380865308,
          0.023572819194039463,
          0.02214311621559401,
          0.018686910351201857,
          0.01968798957698295,
          0.02225538743663459,
          0.023628411752122484,
          0.019032759095542237,
          0.02613388547493507,
          0.018149248249559418,
          0.022949828585738928,
          0.01758138309638272,
          0.017569719399416154,
          0.022160818950311266,
          0.019957219205865673,
          0.017406727830941653,
          0.023380419652501417,
          0.021150675044987754,
          0.020113829026206984,
          0.02011520133756795,
          0.01890269966460684,
          0.019746083049242993,
          0.020873554788958852,
          0.023462054464690223,
          0.020684506501526697,
          0.02590494968815434,
          0.019520991950083746,
          0.02047678907056417,
          0.017191602906314926,
          0.02219835415559286,
          0.017364345916014764,
          0.025162643258863804,
          0.01903197413840393,
          0.01814708041596816,
          0.019550961616016594,
          0.022556984694154982,
          0.016441630642605193,
          0.02131728122990152,
          0.018860642192713016,
          0.02122121821292417,
          0.016524564781754486,
          0.021159526701207815,
          0.019380445881365914,
          0.022066421840114234,
          0.02207958195204891,
          0.020328475661402456,
          0.020099630599086694,
          0.01977645362104235,
          0.019192748816354747,
          0.015335024398874268,
          0.02348375624449513,
          0.02595872736347194,
          0.021126576013611478,
          0.018083813750183298,
          0.020993284375861863,
          0.01611388541431162,
          0.014665478221604614,
          0.019396861444707664,
          0.016288141717186993,
          0.021106951887320237,
          0.026813519019160133,
          0.024394517453841632,
          0.016556672251222572,
          0.017255031892634578,
          0.016213321305032544,
          0.020349109485933665,
          0.017475964289761295,
          0.0150880788787571,
          0.02552223447165297,
          0.023684084097921426,
          0.01855530478385974,
          0.0205534100292241,
          0.014793300277700972,
          0.019785618434088575,
          0.01933154284096842,
          0.024784497013747173,
          0.019283525862095773,
          0.021434635138709537,
          0.02326967786556131,
          0.023160810410014727,
          0.01676896214532679,
          0.02152045504608511,
          0.018741267397354412,
          0.023669382157033743,
          0.01754871089549655,
          0.021965325671871955,
          0.01933950197148873,
          0.02396719840472712,
          0.015865820436653126,
          0.022433448416424074,
          0.017902032345448904,
          0.020007128990490904,
          0.020683813036033033,
          0.02025037868761656,
          0.019399339079990124,
          0.022365393382671524,
          0.02224954006520071,
          0.018482117750348546,
          0.019636800410950724,
          0.01742969301023271,
          0.015897970761300402,
          0.01687458808282976,
          0.023601697683852396,
          0.021516899366006044,
          0.016647323782834164,
          0.0171092729098441,
          0.018508316670247243,
          0.020744512772164218,
          0.01844995371215105,
          0.022888797861282235,
          0.022088836610922778,
          0.0177446488056701,
          0.022117133381500776,
          0.014858969953041644,
          0.02067395167927548,
          0.018977416128160042,
          0.0187544106459482,
          0.021317857195512883,
          0.02717165930851853,
          0.0194180369596603,
          0.023269951104985014,
          0.021444079051120616,
          0.01533739445290317,
          0.01761277860450837,
          0.026397770991780808,
          0.01947620861180241,
          0.025948801035039257,
          0.02099866872106948,
          0.019167087892752257,
          0.0157279864936505,
          0.015766299292562565,
          0.021637671231242554,
          0.01573406942052505,
          0.020102314870834477,
          0.016939095158190663,
          0.020860251050310696,
          0.021630361146591153,
          0.018549683927767235,
          0.018305697600900662,
          0.020495615482764486,
          0.015996558747437245,
          0.017471837017388987,
          0.01727488181318012,
          0.02369582086262441,
          0.01648709255257952,
          0.02647602081445408,
          0.01817623894017729,
          0.017681239001138625,
          0.02038942421396642,
          0.020020946079938276,
          0.023378198868559463,
          0.01978202335874585,
          0.022675350263379464,
          0.017212559383173044,
          0.017854334181650205,
          0.019230236135839473,
          0.0243155241021157,
          0.02218516619829235,
          0.02454766380501341,
          0.02035383477782837,
          0.019358156754904314,
          0.019467153179312434,
          0.021442801067077882,
          0.01627564152864858,
          0.021551686863445385,
          0.016915809060648008,
          0.02066547279752475,
          0.02537255600123407,
          0.017336789807722238,
          0.023061982014899205,
          0.0188277616950673,
          0.021689088862715197,
          0.01866540736969188,
          0.020081773449065154,
          0.024900721476449336,
          0.01705412928551134,
          0.022799455703708813,
          0.021092529671748537,
          0.015283885309576577,
          0.01903244213840187,
          0.022536451742467618,
          0.018954268815634195,
          0.015405915971878518,
          0.015027485517449517,
          0.026002754418430404,
          0.015564179910930646,
          0.01926178257905734,
          0.020028941968649246,
          0.02115639728763647,
          0.022962413195041834,
          0.020673337629104224,
          0.016854921735687745,
          0.015056537675951519,
          0.02556010407981858,
          0.01727809959101091,
          0.018226891890803166,
          0.020516129573056617,
          0.02308539471071686,
          0.02035038018673599,
          0.02164490532402378,
          0.019562931221426848,
          0.015897628109231298,
          0.021254010027050792,
          0.02085948267803559,
          0.01622153875394279,
          0.016910356566024312,
          0.018305082145044563,
          0.024286503765316426,
          0.02167951843733424,
          0.01707348601649989,
          0.02062430925312623,
          0.01627658801099569,
          0.01934122615861823,
          0.023800372641823338,
          0.020827521527121695,
          0.02022199022188543,
          0.018824331662150424,
          0.01855334635225933,
          0.015661105712892913,
          0.018647784582262544,
          0.01891726824577553,
          0.015310899794205982,
          0.024572509271552228,
          0.02034380486271553,
          0.018860416704183362,
          0.01405734005805288,
          0.020722876959438107,
          0.0216605257619134,
          0.01911416065475635,
          0.019350390860405346,
          0.021304497200882726,
          0.02217406876169885,
          0.01583713400309773,
          0.020706539883958226,
          0.022653961538218265,
          0.023653410147457574,
          0.02260277475674429,
          0.018579715149945955,
          0.022756130758620964,
          0.0183185924146456,
          0.02069994552272337,
          0.01531325148566326,
          0.02422617197794221,
          0.015782652333338722,
          0.019458191914650213,
          0.01649387822812706,
          0.02412623782117483,
          0.018965552135654398,
          0.02692227791364319,
          0.019499019027481527,
          0.015597220557712723,
          0.01589200052081759,
          0.022745312300120123,
          0.01530742552840264,
          0.02651571489167347,
          0.017475366734356,
          0.020197577554616892,
          0.022743250970507688,
          0.017880594935858495,
          0.0188110772123421,
          0.016565184671871416,
          0.017178454233983818,
          0.022229821636575258,
          0.023625703720839338,
          0.019954968144771868,
          0.02406122211994088,
          0.015729009608182135,
          0.01977317554602553,
          0.02161825508495148,
          0.02314673558458901,
          0.01681258641070006,
          0.015831198491904556,
          0.014393267178505231,
          0.02270943227175894,
          0.021542121534483854,
          0.022188433999962592,
          0.02054254894733814,
          0.027632913060766515,
          0.02193642307700325,
          0.019882220495888506,
          0.018233170261439873,
          0.023812482462111012,
          0.019182139643195064,
          0.020563917353812085,
          0.020489840391093268,
          0.02254396848264722,
          0.015887933359742895,
          0.022627475755165976,
          0.01756917965749394,
          0.01770163555968665,
          0.01873385066376261,
          0.022002423910436,
          0.01696672629193164,
          0.01909117810477983,
          0.018901028428614994,
          0.029204924401746737,
          0.022819172784695696,
          0.01499611137656905,
          0.0207865533327901,
          0.01922321227250328,
          0.021748797496320627,
          0.014188308061496822,
          0.020700134783203913,
          0.016443953526866176,
          0.021447879512032256,
          0.014525340539086853,
          0.021610730865634493,
          0.020630468528911768,
          0.021478149225752273,
          0.02039291762822785,
          0.014971558646810178,
          0.019489192360714558,
          0.016146844454791472,
          0.016895405196249935,
          0.02407220662582064,
          0.014748816954345158,
          0.016379829246327384,
          0.019010213191702954,
          0.01532315399922239,
          0.01727469414314082,
          0.016124342519183318,
          0.01877197542669493,
          0.021929302456043843,
          0.018746816757158398,
          0.015664183535050752,
          0.029277765806372123,
          0.020623752916380134,
          0.02086407036776752,
          0.022603299783477224,
          0.023417213151561353,
          0.018429285991282823,
          0.023461760988083988,
          0.019747892544922437,
          0.018412611569950943,
          0.021465863184464685,
          0.016443174519072373,
          0.01907590830337213,
          0.015889588709166964,
          0.016824534043670233,
          0.020867450921302298,
          0.020083327695394816,
          0.02049179291742676,
          0.019820836034757667,
          0.016827398316492184,
          0.017175081281964606,
          0.018213155779332506,
          0.02508485138314139,
          0.017151685449997303,
          0.01592164797507,
          0.02158136857287868,
          0.01743398547502802,
          0.021894955763069445,
          0.02223386612161853,
          0.01732005794865323,
          0.02363381481197781,
          0.030656427489717693,
          0.017743510524031995,
          0.022538038537455687,
          0.017178274011448398,
          0.018493644039649038,
          0.02074083247133958,
          0.0193503595360075,
          0.020177385332236588,
          0.018418895389796595,
          0.02484587458602732,
          0.020378225580919705,
          0.020228446145543425,
          0.026140471098282863,
          0.024162096755279555,
          0.018961301952788227,
          0.018371956666096288,
          0.021159596143507948,
          0.022333539008169024,
          0.0200358568300103,
          0.01730522819593414,
          0.021963515259552674,
          0.02138741204212271,
          0.020220752690610345,
          0.016699263259988443,
          0.020023693541245283,
          0.017765326566114285,
          0.014017393087284148,
          0.019309949193255113,
          0.018809302659042935,
          0.02138824400957874,
          0.023359899002360865,
          0.0171234100729928,
          0.01925530512238485,
          0.01957635685034195,
          0.02307423851977459,
          0.01796764907313051,
          0.024796079089961936,
          0.016318362427362183,
          0.023838931662881504,
          0.016572284544140257,
          0.022368232754386538,
          0.016452364527095552,
          0.023236144584911703,
          0.02172963446394621,
          0.01907491535953489,
          0.019491502267217565,
          0.02106720025221808,
          0.02151863703454575,
          0.019793493881989064,
          0.020055166510565443,
          0.02621667027254389,
          0.013879136258056732,
          0.02385653536263641,
          0.026063233149049958,
          0.020130005549624873,
          0.015641731660921025,
          0.02115848420886215,
          0.019069071215178788,
          0.02078737510168733,
          0.02207817437227255,
          0.019261828883765177,
          0.02169190540714964,
          0.02983824617267444,
          0.022519901693549112,
          0.02434542667888774,
          0.02004711101271713,
          0.025391102521878216,
          0.020207434322535713,
          0.025435722986612785,
          0.023540585101476094,
          0.017241102516851105,
          0.020416825679389117,
          0.017623937426957895,
          0.02062675836164473,
          0.022654772994615748,
          0.023962618872426084,
          0.016641150952769603,
          0.016476198634011736,
          0.021455772071853337,
          0.01531165545363589,
          0.01884216970698124,
          0.017716670231928012,
          0.020258011961586334,
          0.021215271203491887,
          0.0198511935257081,
          0.02105896733820063,
          0.020758537234613995,
          0.020975330360151694,
          0.022938941353610503,
          0.01615329646506732,
          0.01992787630074486,
          0.01709796618026939,
          0.01727807644480571,
          0.025358611440542366,
          0.017317328925172144,
          0.01676361087013811,
          0.017814043199214254,
          0.01927303951765823,
          0.021089767107762877,
          0.02017007294758486,
          0.025227637849807038,
          0.025201130086300465,
          0.020716041805784707,
          0.017061824620063684,
          0.015711493761253952,
          0.02157305504605214,
          0.018300495783201354,
          0.01649422255549055,
          0.018818758252483674,
          0.01871278389257385,
          0.018826311439872827,
          0.01644086276895473,
          0.019517753053737222,
          0.020305154331939905,
          0.018206011280965047,
          0.019597079966634918,
          0.019297650270737123,
          0.0174328545393256,
          0.015690995524441406,
          0.020246949961725283,
          0.017393559691009863,
          0.023502540167150535,
          0.022416123878302996,
          0.022714902433140484,
          0.018246745625767412,
          0.019265745251697747,
          0.016375537605572883,
          0.022095871906435836,
          0.024353628479345406,
          0.020368503259834306,
          0.024049959690608663,
          0.01680210268145142,
          0.01923138656608347,
          0.01655189890933416,
          0.021446306614753743,
          0.021148147194540834,
          0.017220627019557774,
          0.014593451561568995,
          0.018051871443140775,
          0.020836259975279034,
          0.01904958232435158,
          0.019584484397269553,
          0.01762178341686175,
          0.020766733548701774,
          0.0184863900124442,
          0.020322391784339058,
          0.021182656830843822,
          0.02356380215725498,
          0.019299754256631222,
          0.019552433383699833,
          0.024973603570027786,
          0.019270705483615966,
          0.01623247726862001,
          0.014843740316350804,
          0.02484464939236679,
          0.0211623766558584,
          0.023281370145165264,
          0.01950877524852388,
          0.016755408280054805,
          0.014021174111110793,
          0.019474964053024613,
          0.019844059893629373,
          0.01609103246436454,
          0.021099893143702177,
          0.01861858833036762,
          0.0203369762337663,
          0.018872505521244073,
          0.02099185337614881,
          0.017424268753778623,
          0.018702229791306434,
          0.01616348958467256,
          0.023894197898574374,
          0.018540999660762458,
          0.017535454528499427,
          0.022653243206591275,
          0.016936384428385767,
          0.0201982991866726,
          0.022379633476508287,
          0.01758229259476038,
          0.022214563230654225,
          0.01794150435897569,
          0.019830883331033975,
          0.020435510502888013,
          0.024262542835400188,
          0.021451295597832848,
          0.01927434192430819,
          0.025731780655435195,
          0.020558015865912004,
          0.019192815981606694,
          0.02182660527917097,
          0.016296709326492145,
          0.01896418940738434,
          0.023812375627779988,
          0.015501608628787364,
          0.023969368839746718,
          0.015665886984256014,
          0.019878278307408834,
          0.021673796771068024,
          0.0196002107616908,
          0.02294933938513172,
          0.019971414881078314,
          0.01710556350892516,
          0.02728418662424311,
          0.01648358785286127,
          0.02287830985267548,
          0.020749805808280987,
          0.017914091607789603,
          0.022622371808885124,
          0.016024405752644473,
          0.019315983789351236,
          0.02213077465657614,
          0.022446625534624648,
          0.022812525876654662,
          0.022468686404715863,
          0.018201117784525742,
          0.019284213707361105,
          0.018508701466285905,
          0.016991911967925592,
          0.01805012576000189,
          0.014437467075102742,
          0.020536558059804425,
          0.02548362466587475,
          0.023263142599771674,
          0.015908278356906273,
          0.013534451076949366,
          0.016180098976123252,
          0.015384708330062826,
          0.020393340438961287,
          0.022792203388338542,
          0.01796793142953513,
          0.016143869653401057,
          0.019581496333650722,
          0.024722067342350537,
          0.019811656967307568,
          0.01712614006407755,
          0.025010859014760887,
          0.032992965014511766,
          0.026512115887611685,
          0.02237688735381934,
          0.019447002314567377,
          0.021656508329395602,
          0.01866553012793053,
          0.020512984429262308,
          0.019816043420196983,
          0.022876744114803116,
          0.017471155302678093,
          0.017348687634770942,
          0.020542226076036833,
          0.01722849404535042,
          0.019278209856683166,
          0.022384934561829873,
          0.02171655966179196,
          0.018205194159804733,
          0.01878318616497849,
          0.02826025125500097,
          0.01957328691476437,
          0.021843980590720184,
          0.01991933010958651,
          0.021240863088489787,
          0.0169668731490999,
          0.02101388870254756,
          0.024776735591427963,
          0.022166523911115798,
          0.019748261671259704,
          0.01940527821222704,
          0.018669411351273937,
          0.017863222568763167,
          0.02008809944876446,
          0.018615155452156605,
          0.021902260706861333
         ],
         "y": [
          0.0025957221024373355,
          0.0013920266941086434,
          0.0023030725237509057,
          0.002091913302047807,
          0.0022980335678050388,
          0.001661357856033324,
          0.002811932454995369,
          0.001412513927821861,
          0.002342756913661155,
          0.0015531419347927192,
          0.0019765507290297516,
          0.0021951440691516354,
          0.0012323643238557743,
          0.0025285212997557564,
          0.0012266781925957685,
          0.002510332112562038,
          0.0017476634431641419,
          0.003117972175245401,
          0.0020177389363192685,
          0.0025542037400768268,
          0.0031730819990879915,
          0.0027961812597682156,
          0.0026307265811365147,
          0.001632190791194746,
          0.0024625246120047227,
          0.00023541215753134415,
          0.003012306808840639,
          0.0009681805117791747,
          0.0027466413671806246,
          0.0007722002138981294,
          0.0009457843345211845,
          0.0024253497085791613,
          0.0015125565821835904,
          0.0025061314966599957,
          0.0019124166494008737,
          0.003138758562825853,
          0.0017115949485976317,
          0.002667219052831091,
          0.002223034959700727,
          0.001581181107145287,
          0.0013346358329823955,
          0.001276166808334128,
          0.0029481780504813492,
          0.0020213463799038708,
          0.0014408466022940846,
          0.002463864712934313,
          0.0023582628529733103,
          0.0023160236533223107,
          0.0029278341820826413,
          0.001762741682164829,
          0.0018307532248634409,
          0.0018184625824648885,
          0.0026533975267139364,
          0.002396851010379893,
          0.002608170484415799,
          0.003355122827845363,
          0.0017992984416162808,
          0.0015698228606060853,
          0.002141482512233612,
          0.0001754966731944549,
          0.003159853710538105,
          0.002702434406435819,
          0.0021698223510871507,
          0.002729023750802118,
          0.001747469677141564,
          0.0007721398667037659,
          0.0010139808351431157,
          0.003025086912154082,
          0.0028381456967197806,
          0.00221369374569094,
          0.0013408343299908144,
          0.0019507501769213268,
          0.0010603977217280083,
          0.000902678395516322,
          0.0024432922998177575,
          0.0018036576406253242,
          0.0027352671850225975,
          0.0008418880970595029,
          0.0023593550972873423,
          0.0016907496150236731,
          0.002630466007096672,
          0.0017722081415137,
          0.003097309141912,
          0.002390714678459828,
          0.0030906825862104022,
          0.0014847466392133516,
          0.0011692855919449659,
          0.0021187704565575724,
          0.003204020363034248,
          0.0010692170309174944,
          0.0009809131409981321,
          0.0019453898339575225,
          0.0027615901100569006,
          0.000765749571649501,
          0.0016377921659975207,
          0.0014858030758628687,
          0.0019960732021586953,
          0.002253521909584853,
          0.0015487488481457225,
          0.001994327938800093,
          0.002179531365132435,
          0.00217754709543292,
          0.0030236205696366567,
          0.0016044759327531553,
          0.002669923448789607,
          0.0018187202110608945,
          0.0031448290638802783,
          0.0017207344371619547,
          0.0014149374210784913,
          0.0009318445804540824,
          0.0016993151205993906,
          0.0010496232285598362,
          0.0023082254357560507,
          0.0013632478412909667,
          0.0018884852895453713,
          0.00221559789272079,
          0.001560866827219136,
          0.0012010265979217716,
          0.002536891640365648,
          0.0034438877236582562,
          0.0029102119260948794,
          0.0006971326822782523,
          0.0011803651683224402,
          0.0026963406728605487,
          0.0017545564415641448,
          0.0026782045547744807,
          0.0032990442693512216,
          0.0012307694735514802,
          0.0018498469185838158,
          0.0026662789058020993,
          0.00235644444921774,
          0.0016393818893575612,
          0.0027139953870226365,
          0.0017335274007092164,
          0.002742515700335826,
          0.002845989705671708,
          0.0025225271584308896,
          0.0024450729468206583,
          0.002576969266826137,
          0.001293960669803686,
          0.0022271711217857777,
          0.000694720320629294,
          0.001935427861168791,
          0.0024259044721686752,
          0.0021756062316148016,
          0.0010223659327279974,
          0.0016222339585376263,
          0.002123312663511421,
          0.0025012849906301394,
          0.0013082803599419532,
          0.0016276547520624007,
          0.001521893058002528,
          0.0019107516393047092,
          0.0027044269646826547,
          0.0016366791487723502,
          0.003275490495328161,
          0.0016716897849057594,
          0.0022367430655359523,
          0.003727589853727243,
          0.0033318693913574745,
          0.0024325984432547474,
          0.002409651990011397,
          0.001395711448240616,
          0.0026670452511354105,
          0.0016710072675397182,
          0.0028588021609264056,
          0.002242559335539803,
          0.001658233316628568,
          0.002121705667296015,
          0.0016466705115227899,
          0.0021814944027418997,
          0.0013151870292155267,
          0.0018083787579073827,
          0.0015868158368107883,
          0.001451496161159262,
          0.0016909934882877223,
          0.0011884004677628094,
          0.0031572911583158613,
          0.0033328583024342068,
          0.0025868128094678885,
          0.0018089127005031862,
          0.001512283488900545,
          0.001752164257979903,
          0.0017300893012454628,
          0.0008430678338350777,
          0.0018232332344465473,
          0.001693090637319931,
          0.0008874905443018571,
          0.00041851405482841897,
          0.0014110512526692067,
          0.002388866517367852,
          0.0027983368579166164,
          0.002034194341470332,
          0.0015710885986705157,
          0.0013260642289542506,
          0.0019461248428395232,
          0.0019998245891464936,
          0.0017464561309063881,
          0.002383676092942923,
          0.0026457129177323868,
          0.0020404994770026274,
          0.001746913258942542,
          0.0018758016271839123,
          0.0018070240060989542,
          0.0010418431670268966,
          0.0020390731713876755,
          0.0015575489925519596,
          0.0028358510681227044,
          0.0026687751760672432,
          0.0018319898005038826,
          0.0027839566369114816,
          0.0013524773286974824,
          0.00281656748636528,
          0.0017869082461137529,
          0.001786042126114999,
          0.0011736765003959482,
          0.0014501703645277593,
          0.0001988410304319966,
          0.0023784366077690727,
          0.0025834436096141057,
          0.0018837365222364993,
          0.002642634888556693,
          0.0031283183497408623,
          0.0010124930783705177,
          0.0011642395419531825,
          0.002278768221626588,
          0.0015469115074192312,
          0.001725867388506404,
          0.0016956444198047006,
          0.0023428761844184456,
          0.0025141125993000243,
          0.002949951180671779,
          0.0003640078261779846,
          0.0025512301623402288,
          0.003006226191460454,
          0.003276091556537278,
          0.0018140615360363406,
          0.0023825487105302886,
          0.0018992957885259891,
          0.002041304947841432,
          0.0028020033755581167,
          0.003052755773207814,
          0.001651810413505738,
          0.0011643456759365324,
          0.00305315655333687,
          0.0015761337673656187,
          0.0035027137041085277,
          0.0025410330471656805,
          0.0029007301847904176,
          0.0029418670024987876,
          0.002096643732697551,
          0.0031332422889931,
          0.0028558157636369226,
          0.002291251771853575,
          0.0021714976611846254,
          0.0011714631500088276,
          0.002757140019880494,
          0.0016921448971855702,
          0.0014582524996178973,
          0.0035218342544364794,
          0.0022504434596193204,
          0.0017906662640303796,
          0.003712271771944828,
          0.0028812189658274914,
          0.0010172652325601676,
          0.0007787633828502228,
          0.0027909809581423365,
          0.0018477041319368036,
          0.001962649387276384,
          0.0017986204634432112,
          0.00025508715318554864,
          0.0015302734947846583,
          0.001168640685080951,
          0.002704107626099976,
          0.0019165526103960455,
          0.0018344443371996091,
          0.002790383281712296,
          0.0016548724607826236,
          0.0021325659602059724,
          0.0028472756261857467,
          0.0019761476926776793,
          0.0005474695313064797,
          0.0029802005488310615,
          0.0020722155787647146,
          0.0013356530911259037,
          0.003025827856529183,
          0.0029167471211162203,
          0.0017610079052667324,
          0.002387578269466704,
          0.00223746635040795,
          0.0015573806491444493,
          0.002237123567514422,
          0.0027953681695259526,
          0.0017622694047188885,
          0.0016439554730370933,
          0.0021475040916278964,
          0.002617980269074183,
          0.0030549632796557993,
          0.0018758890645947908,
          0.001116236482920465,
          0.0022386636827381673,
          0.002079696367905171,
          0.003215485921124164,
          0.0035584533724272913,
          0.0026086858730542837,
          0.0027658623985311903,
          0.002346333801918217,
          0.00176572188694829,
          0.002540007352000886,
          0.001108986081355491,
          0.0020339369016997622,
          0.0028779813624138406,
          0.0030035646328818674,
          0.0028967065870918224,
          0.0020580497704273414,
          0.002444962122476492,
          0.0014285878997715943,
          0.001679061771786125,
          0.0026495702770520284,
          0.002858542948075777,
          0.0016337754217704218,
          0.00171321457003534,
          0.001223099662689295,
          0.001558964497283281,
          0.002467846245741511,
          0.0029271395009465894,
          0.0012139053370776804,
          0.003101622714119557,
          0.0021124986823746975,
          0.0020323592103578536,
          0.00261430504052433,
          0.0020676626097401933,
          0.0029283087734718345,
          0.002948574984033825,
          0.0025527106907087664,
          0.002837457933218368,
          0.0019323300153252024,
          0.0029171909996975904,
          0.002696169211624678,
          0.001984721100133739,
          0.0015364142541436738,
          0.0015659685196752198,
          0.002813191428754889,
          0.0023619267446497675,
          0.001820951622669357,
          0.0017376300041515055,
          0.0016713951144998618,
          0.0024124483515274887,
          0.0018070009508134686,
          0.0009458831263847608,
          0.0017728825218536832,
          0.00134805210295366,
          0.0030541914147607864,
          0.0014196106278986772,
          0.00206060944203346,
          0.0015197992345456228,
          0.0027940708427281733,
          0.0029072864892391048,
          0.0016777202693210353,
          0.0025989984833209565,
          0.0025950879830031253,
          0.001881324713209815,
          0.003015741454750533,
          0.0018224280094757137,
          0.0022540843223204897,
          0.0030763942215131738,
          0.0015593240921772328,
          0.002272640712321853,
          0.0025237124870364294,
          0.002008611694445988,
          0.0011926069108446722,
          0.0020933545519225025,
          0.002441552763349876,
          0.0014183047030156947,
          0.0009807210940599507,
          0.0015617761712666618,
          0.0016616771413912122,
          0.003147813710640556,
          0.0016820195010271224,
          0.0019101283659298059,
          0.0016740156372788927,
          0.002238333503886684,
          0.0014951244253779813,
          0.0020925544262293243,
          0.0026877417904328555,
          0.0034863905712230045,
          0.0013487085929260202,
          0.0016839184465304393,
          0.002484281815603761,
          0.002143648879100606,
          0.0014379689579517969,
          0.002042363855262164,
          0.0016165559458962895,
          0.0025082830854137286,
          0.002059351641311875,
          0.0032866145228302992,
          0.002805235307571245,
          0.0024754174628312787,
          0.002178953998958948,
          0.001091311692229394,
          0.0024137131598865164,
          0.00298387390262137,
          0.002874116331670489,
          0.002251825753892657,
          0.0031358055454062585,
          0.0014141336105521895,
          0.002921557672256793,
          0.002583526182444489,
          0.0023192754505108977,
          0.0014721260998478913,
          0.0024939792134158582,
          0.002170210591804044,
          0.002010294142151575,
          0.002644666269671536,
          0.00359171412308075,
          0.002320403684486191,
          0.002226794467806605,
          0.003005120371639073,
          0.0019693868356944083,
          0.0022085415303442634,
          0.0026302997350884758,
          0.002117896397467417,
          0.0020611289334900996,
          0.0016690688983647536,
          0.0015628237179601324,
          0.0030685703498000315,
          0.0025344649717549297,
          0.0019717588368350063,
          0.0019749287355083846,
          0.003076500928265379,
          0.0021724030607411593,
          0.0007531490872991594,
          0.00304909245654389,
          0.0023964165235682853,
          0.001944580260437161,
          0.0027327453380875167,
          0.002733470947081969,
          0.00198027114384809,
          0.00185986344400718,
          0.0016894409517459628,
          0.0015885718770419464,
          0.0011641244734986412,
          0.0016642457261249002,
          0.002601987835110073,
          0.002458182447881271,
          0.00198261287513971,
          0.00280580211528367,
          0.0014080030901951267,
          0.002745884016002655,
          0.0028645750933937748,
          0.0018860771093442761,
          0.0024341385004678405,
          0.002310345335947955,
          0.003159704708157914,
          0.003148437052199149,
          0.0014993053402130316,
          0.002304673608278356,
          0.002926652952663149,
          0.003390586200081168,
          0.0020771326248678504,
          0.002552632631060446,
          0.002683462798755417,
          0.0029981961078754523,
          0.002092732370779064,
          0.0036437279894942836,
          0.0013524675576709576,
          0.002143933227105413,
          0.0017082510961038454,
          0.0033737087108554205,
          0.001425634334788955,
          0.0022921613144173906,
          0.002769919850619435,
          0.002910525347795474,
          0.0027744393065354265,
          0.0020623672175025067,
          0.001716305784998135,
          0.0014372068097926085,
          0.002820265982344382,
          0.0026088570000281164,
          0.002198818840920969,
          0.002056007199637339,
          0.0014571018739038275,
          0.002851421796488977,
          0.0023143862075636528,
          0.002786780594093216,
          0.002780852069685595,
          0.0013650903156434693,
          0.002607197779133097,
          0.001591963200434621,
          0.0016723882849993333,
          0.0023894091149730787,
          0.0019527681221751067,
          0.0018606439937854226,
          0.00291063936591858,
          0.0027453700109271034,
          0.0028863973752651303,
          0.0026441798313326034,
          0.0020304979518908093,
          0.002495795084547934,
          0.002743300350698262,
          0.000661645809055824,
          0.0030543721481326226,
          0.002030417649884898,
          0.0026879449012025256,
          0.0020582330116173044,
          0.0016980914031317327,
          0.0024352914756787243,
          0.0017163517361390528,
          0.0015331067658162123,
          0.0018866568605713674,
          0.0020735230475808658,
          0.0020428006208665023,
          0.0016984948052163396,
          0.002391847529748223,
          0.0009153456396086717,
          0.0010229903986589543,
          0.0013252891489128448,
          0.0006434091494274627,
          0.001675565842489928,
          0.0012306288305373864,
          0.0024969912150262724,
          0.0020485184490209372,
          0.0011536211768717604,
          0.0025222242631473013,
          0.0025851794901104205,
          0.0028017327578525033,
          0.0006805024918857111,
          0.002656857553167334,
          0.002269153554668228,
          0.002564346787642569,
          0.0021581413626494688,
          0.001787210315064345,
          0.0012078513814509132,
          0.0024291899614331427,
          0.0025880890702042235,
          0.0018693310437090777,
          0.0015802384296375225,
          0.0028562303757915905,
          0.0013243972214671614,
          0.0021174320155003877,
          0.001299163512644837,
          0.00173026980292787,
          0.0026208867620081287,
          0.0018102268521410507,
          0.0024271504619238376,
          0.0014456995072682477,
          0.0026409624992980592,
          0.0017102332627354404,
          0.0019139264234732342,
          0.002069613987739513,
          0.0026169626500888933,
          0.0016501110643413236,
          0.0031723374941567666,
          0.0020141961124513575,
          0.0030259972575079645,
          0.002405324191421312,
          0.0015732463601088728,
          0.0020722779805177,
          0.002035154785081081,
          0.003207775633859202,
          0.00183578278397496,
          0.0026704362827782283,
          0.0027418622982744783,
          0.0023632958222962065,
          0.0017145513052709792,
          0.0028607693825284967,
          0.0020831256018510255,
          0.002248139612110399,
          0.00237406847317769,
          0.0025612959888309623,
          0.0013926726115381762,
          0.002461988346722667,
          0.002317210144237676,
          0.003114127680266076,
          0.001936806840476831,
          0.0014361546955035092,
          0.0020083882324657787,
          0.0026011639057754547,
          0.001170333562422406,
          0.00209099791254621,
          0.0023220987346339104,
          0.0022083830202078054,
          0.0034165441734108886,
          0.00270563778400181,
          0.0020466754556927895,
          0.0023430235128670098,
          0.00039086253798448515,
          0.0023403190675859494,
          0.003388563335752679,
          0.002698664838786388,
          0.0032194388172332323,
          0.0028269807175159223,
          0.001985994437924743,
          0.001344927169817836,
          0.001658934100124113,
          0.0015399136432134829,
          0.0012937630262138127,
          0.002052548163465742,
          0.0034317990352075163,
          0.001424704360743656,
          0.0015967603352180153,
          0.003244701391920937,
          0.0020427928120032722,
          0.002507344681207882,
          0.002177221326756073,
          0.0028636311298099854,
          0.002643652406468428,
          0.0020466752126936864,
          0.0030065504473377504,
          0.0013372000661789197,
          0.002648475316247375,
          0.0028445780953884367,
          0.0026174627838637405,
          0.0018769541966630278,
          0.001759595292574654,
          0.0015475636688905927,
          0.0016368403538370617,
          0.0030625407268369534,
          0.001600056728117198,
          0.0026425197699080504,
          0.000584630959405137,
          0.0025273539564224373,
          0.0015304352998777861,
          0.003045060043656211,
          0.00210082713773831,
          0.0017440542723852835,
          0.001610510523845228,
          0.0019228147310822623,
          0.0015168749346628665,
          0.002120737408136824,
          0.001445273042315255,
          0.0017989185495257414,
          0.0019004538395206508,
          0.0025789732673450363,
          0.002710314759083248,
          0.002383081031050474,
          0.0021703431277878497,
          0.002803763519165772,
          0.002777133230568276,
          0.0015834969740540312,
          0.0023092163960442705,
          0.0015336790074091987,
          0.0030512676874056115,
          0.0019731387697136237,
          0.002444438357269214,
          0.001748117755919249,
          0.0018001111131332882,
          0.0018434545940658061,
          0.0023479220475108717,
          0.001686430240077753,
          0.0017433377321591991,
          0.0020678142501387845,
          0.003213148684005002,
          0.001798847744943677,
          0.0009710518418612122,
          0.0014062185927870004,
          0.0023681843968080185,
          0.0025473763562624285,
          0.002959120085252543,
          0.001719429616776678,
          0.0014405893702142572,
          0.00096988075392255,
          0.002623257987972881,
          0.0016780545461383078,
          0.0010600192922426848,
          0.001944234154472367,
          0.0034353015940209487,
          0.0021630218277571326,
          0.0020864124461493928,
          0.001750837080637939,
          0.0029229616529629155,
          0.0031944349098553,
          0.0021482887097492944,
          0.0025698741202292317,
          0.001209698623049539,
          0.0031231019073775165,
          0.0011982736968972245,
          0.0019385950552145417,
          0.0013058597817358904,
          0.0028317447108599575,
          0.0016752359215647821,
          0.001549426599543183,
          0.0014784849658246995,
          0.0014119760182730627,
          0.002858072541326254,
          0.0018430346912676815,
          0.0013170164838318217,
          0.0004814664374952175,
          0.002362580479557978,
          0.002794986346510724,
          0.0016449436701667568,
          0.0018110341372301786,
          0.003085749762946762,
          0.0017747323017649344,
          0.0027603960508931877,
          0.0009735785547264345,
          0.002533100331486265,
          0.001847350566644239,
          0.003177613406565042,
          0.0006939039922092622,
          0.002249806325184217,
          0.0021894154774960792,
          0.0020997623687652686,
          0.0035196885224786367,
          0.0015130229692699767,
          0.00134770488917447,
          0.0023962415117513938,
          0.0014148413416693716,
          0.0015209565747828424,
          0.002169392851014066,
          0.0015742025363640326,
          0.002025554532541416,
          0.002146527720584061,
          0.0009389601919558037,
          0.0028073226110745153,
          0.003135209225529601,
          0.0026353638465289597,
          0.0028596956469681928,
          0.0019937010938399433,
          0.0015671228542143405,
          0.001515586183111249,
          0.0017061070521289653,
          0.0020689527889559654,
          0.0005369837016293273,
          0.0019441257562906411,
          0.0021627121218949744,
          0.002339420964875025,
          0.0029988769996713554,
          0.0018225662077854567,
          0.002902463169200469,
          0.0029783238338779135,
          0.0017681780543808982,
          0.0018659690992372823,
          0.0016397725094899921,
          0.0016406040348502754,
          0.002994832523908607,
          0.003037454238113714,
          0.002870822271883492,
          0.0015704880478871444,
          0.001613105678687793,
          0.001177869794177034,
          0.003557248593993755,
          0.0017582675569809067,
          0.002407063327294828,
          0.0019636326449468306,
          0.001216041128671185,
          0.002426319470205944,
          0.003139710805815427,
          0.002536760447483476,
          0.002140705911010319,
          0.002997387547589875,
          0.0016345951656003134,
          0.0016988792082414514,
          0.0010306342413871628,
          0.002175357225757754,
          0.0020075596582731048,
          0.0005782986253128764,
          0.0011932123311355763,
          0.0023007169343817594,
          0.00034856412385499765,
          0.0021955677991037166,
          0.0017611543309030708,
          0.0014456391242157547,
          0.002073098967808236,
          0.0016326198542838068,
          0.0019279732755394042,
          0.0023808012932780716,
          0.0016315309099851046,
          0.0027387498082478163,
          0.0012177446335089356,
          0.0018508697493415313,
          0.0011943853589265491,
          0.0022766319360655765,
          0.0031574658876342646,
          0.0016563898172189799,
          0.0015919808311733695,
          0.0027346020107035032,
          0.0026762842709875277,
          0.0026379872365675148,
          0.0018869755867804892,
          0.0016733875396775604,
          0.00099011182623834,
          0.0013124996638000294,
          0.001462225119224756,
          0.0016401450434344845,
          0.0018782883437467395,
          0.0014825558571875828,
          0.003166453901362121,
          0.0028389246402438827,
          0.002993872806887962,
          0.001602771348566485,
          0.002035782730366619,
          0.0018601270635208707,
          0.0025039384799722484,
          0.0027676912021906636,
          0.0013420679694892432,
          0.002387494593188633,
          0.0024954669198326666,
          0.002639792387388121,
          0.003297088641163344,
          0.0006903873266478298,
          0.0021654567513621848,
          0.0014168896878084887,
          0.0015431180988048016,
          0.0028338357634455726,
          0.002257265674111353,
          0.0019489710030145178,
          0.0021102547229944124,
          0.0027254234979175126,
          0.0021051480583339005,
          0.0019498408190403594,
          0.0014296433685770055,
          0.0022848473469570824,
          0.002823448677949561,
          0.00256168095184084,
          0.0029757546429980968,
          0.0023987701195672733,
          0.0019104431598568731,
          0.002611703827276285,
          0.0012264310200425517,
          0.0024566101767902397,
          0.0013591507440904225,
          0.0022257705792138724,
          0.0032894159843134384,
          0.001639650540937676,
          0.0019504162711741742,
          0.0017131254421793175,
          0.0012946127904643497,
          0.0031413052064643223,
          0.0029389099509979037,
          0.0019047359934770951,
          0.002223595829194498,
          0.002124780400091825,
          0.001307507905675273,
          0.0011044057782911875,
          0.0019623960435241625,
          0.0017393863191713145,
          0.0023007068568170488,
          0.0017741674846331245,
          0.002388730742377031,
          0.0020537130198823245,
          0.0017241257864875402,
          0.0017565898668634606,
          0.0027444439358751014,
          0.002217145282365353,
          0.0008308630193099292,
          0.0026538916728922677,
          0.0019155223394722622,
          0.001953642703931757,
          0.0013860455980040747,
          0.0020275551511802882,
          0.002334404711533274,
          0.0031657667503930485,
          0.0033794653736069855,
          0.002395408703786313,
          0.002447953912636543,
          0.0005247690955572414,
          0.0022244371431489355,
          0.003049985827727484,
          0.0011654602346295598,
          0.0031212225768491226,
          0.0020057677200025488,
          0.002960168110763245,
          0.002104255831982099,
          0.0023858539228874555,
          0.0020085441873785095,
          0.0019351981707966493,
          0.0021549245416433824,
          0.0028128266926588934,
          0.001807817811954998,
          0.0017758060733382684,
          0.002891278088308384,
          0.0015242291456521633,
          0.0022336419482151637,
          0.0033687030699788728,
          0.0029297554933117587,
          0.0010641130447495123,
          0.0018577471371091611,
          0.0027960118221982116,
          0.0018118989314864842,
          0.002872450183612837,
          0.0015828539656315126,
          0.0014363740729718805,
          0.0014136208000465555,
          0.0027531701139802646,
          0.00250855933159625,
          0.0035690069129036763,
          0.0026888281057856553,
          0.002582484787014435,
          0.0011896587693736875,
          0.002715524261978841,
          0.00194545268583101,
          0.0017152239588509365,
          0.0019458462695468182,
          0.0025881754358818374,
          0.0027711254402886056,
          0.002407775950758705,
          0.0016312636714941443,
          0.0018423148294952425,
          0.0021892653231034885,
          0.0017356168221911818,
          0.003465368865220694,
          0.0011733453488900637,
          0.001040241657834957,
          0.0027788154108586037,
          0.0018647648132962933,
          0.003470499474767661,
          0.002313703281676629,
          0.0007899804744117875,
          0.001608026927647724,
          0.0024678478994618145,
          0.001484857447522356,
          0.0025638964114190563,
          0.0022246206745539267,
          0.0032758662821251302,
          0.0027349039653686265,
          0.0018129888755968734,
          0.0030531779299265535,
          0.002227552873660196,
          0.0027952031016034097,
          0.0021185465686721157,
          0.0028605705517777344,
          0.002560475930697737,
          0.0020672012329565996,
          0.002632287977820751,
          0.0018144779738408403,
          0.0014631112742212139,
          0.0008006458947647005,
          0.002732755567542626,
          0.002463880800842963,
          0.0034938727252041813,
          0.001761113471496808,
          0.0021961487952348326,
          0.0015514123341671161,
          0.003169764150553406,
          0.002055849728628848,
          0.0023748407053928115,
          0.0023519223352934993,
          0.0008045622503295992,
          0.0018371195848051103,
          0.002659885719094841,
          0.001707600279647467,
          0.002319271655316692,
          0.002670205719205146,
          0.001635536251836161,
          0.0010921146253426758,
          0.0022719096238299013,
          0.00231459492717908,
          0.001246040104019216,
          0.0018466559129465966,
          0.002689002805608547,
          0.0020248763792384845,
          0.002568593251125799,
          0.001985490773606825,
          0.0010035103056676058,
          0.0013032232999559727,
          0.0017772005718470069,
          0.0017447375155479968,
          0.0024005734309319043,
          0.0016227032371861426,
          0.0016035664527519306,
          0.0021812062689805824,
          0.0024033016619451676,
          0.0027944058820858217,
          0.0014303224653557226,
          0.001964734283083611,
          0.0034581614555718905,
          0.0026991951100939038,
          0.0020020196306930354,
          0.0013679852944911688,
          0.0015989106583308187,
          0.0018330576753651244,
          0.0027429344822250067,
          0.0009647259152273165,
          0.0025037044574241604,
          0.0021337923134862194,
          0.0012302660862337604,
          0.0017023304393573883,
          0.002224618244669335,
          0.0028524757745227326,
          0.0020209770132182587,
          0.0026636877106500424,
          0.002448238782152585,
          0.0027575406593101813,
          0.002640251497764512,
          0.0011650765412122384,
          0.002381354477680827,
          0.0018811331733161166,
          0.0029960150671794568,
          0.0005462013454675736,
          0.0021613131708159757,
          0.0034451519542118753,
          0.0019337174751436394,
          0.0023988357732993098,
          0.0022126082975165895,
          0.002015346804209982,
          0.0025979479150035453,
          0.002136430194308486,
          0.0016793331738932298,
          0.0022893457802492054
         ]
        }
       ],
       "layout": {
        "coloraxis": {
         "colorbar": {
          "title": {
           "text": "Sharpe Ratio"
          }
         }
        },
        "template": {
         "data": {
          "bar": [
           {
            "error_x": {
             "color": "#2a3f5f"
            },
            "error_y": {
             "color": "#2a3f5f"
            },
            "marker": {
             "line": {
              "color": "white",
              "width": 0.5
             },
             "pattern": {
              "fillmode": "overlay",
              "size": 10,
              "solidity": 0.2
             }
            },
            "type": "bar"
           }
          ],
          "barpolar": [
           {
            "marker": {
             "line": {
              "color": "white",
              "width": 0.5
             },
             "pattern": {
              "fillmode": "overlay",
              "size": 10,
              "solidity": 0.2
             }
            },
            "type": "barpolar"
           }
          ],
          "carpet": [
           {
            "aaxis": {
             "endlinecolor": "#2a3f5f",
             "gridcolor": "#C8D4E3",
             "linecolor": "#C8D4E3",
             "minorgridcolor": "#C8D4E3",
             "startlinecolor": "#2a3f5f"
            },
            "baxis": {
             "endlinecolor": "#2a3f5f",
             "gridcolor": "#C8D4E3",
             "linecolor": "#C8D4E3",
             "minorgridcolor": "#C8D4E3",
             "startlinecolor": "#2a3f5f"
            },
            "type": "carpet"
           }
          ],
          "choropleth": [
           {
            "colorbar": {
             "outlinewidth": 0,
             "ticks": ""
            },
            "type": "choropleth"
           }
          ],
          "contour": [
           {
            "colorbar": {
             "outlinewidth": 0,
             "ticks": ""
            },
            "colorscale": [
             [
              0,
              "#0d0887"
             ],
             [
              0.1111111111111111,
              "#46039f"
             ],
             [
              0.2222222222222222,
              "#7201a8"
             ],
             [
              0.3333333333333333,
              "#9c179e"
             ],
             [
              0.4444444444444444,
              "#bd3786"
             ],
             [
              0.5555555555555556,
              "#d8576b"
             ],
             [
              0.6666666666666666,
              "#ed7953"
             ],
             [
              0.7777777777777778,
              "#fb9f3a"
             ],
             [
              0.8888888888888888,
              "#fdca26"
             ],
             [
              1,
              "#f0f921"
             ]
            ],
            "type": "contour"
           }
          ],
          "contourcarpet": [
           {
            "colorbar": {
             "outlinewidth": 0,
             "ticks": ""
            },
            "type": "contourcarpet"
           }
          ],
          "heatmap": [
           {
            "colorbar": {
             "outlinewidth": 0,
             "ticks": ""
            },
            "colorscale": [
             [
              0,
              "#0d0887"
             ],
             [
              0.1111111111111111,
              "#46039f"
             ],
             [
              0.2222222222222222,
              "#7201a8"
             ],
             [
              0.3333333333333333,
              "#9c179e"
             ],
             [
              0.4444444444444444,
              "#bd3786"
             ],
             [
              0.5555555555555556,
              "#d8576b"
             ],
             [
              0.6666666666666666,
              "#ed7953"
             ],
             [
              0.7777777777777778,
              "#fb9f3a"
             ],
             [
              0.8888888888888888,
              "#fdca26"
             ],
             [
              1,
              "#f0f921"
             ]
            ],
            "type": "heatmap"
           }
          ],
          "heatmapgl": [
           {
            "colorbar": {
             "outlinewidth": 0,
             "ticks": ""
            },
            "colorscale": [
             [
              0,
              "#0d0887"
             ],
             [
              0.1111111111111111,
              "#46039f"
             ],
             [
              0.2222222222222222,
              "#7201a8"
             ],
             [
              0.3333333333333333,
              "#9c179e"
             ],
             [
              0.4444444444444444,
              "#bd3786"
             ],
             [
              0.5555555555555556,
              "#d8576b"
             ],
             [
              0.6666666666666666,
              "#ed7953"
             ],
             [
              0.7777777777777778,
              "#fb9f3a"
             ],
             [
              0.8888888888888888,
              "#fdca26"
             ],
             [
              1,
              "#f0f921"
             ]
            ],
            "type": "heatmapgl"
           }
          ],
          "histogram": [
           {
            "marker": {
             "pattern": {
              "fillmode": "overlay",
              "size": 10,
              "solidity": 0.2
             }
            },
            "type": "histogram"
           }
          ],
          "histogram2d": [
           {
            "colorbar": {
             "outlinewidth": 0,
             "ticks": ""
            },
            "colorscale": [
             [
              0,
              "#0d0887"
             ],
             [
              0.1111111111111111,
              "#46039f"
             ],
             [
              0.2222222222222222,
              "#7201a8"
             ],
             [
              0.3333333333333333,
              "#9c179e"
             ],
             [
              0.4444444444444444,
              "#bd3786"
             ],
             [
              0.5555555555555556,
              "#d8576b"
             ],
             [
              0.6666666666666666,
              "#ed7953"
             ],
             [
              0.7777777777777778,
              "#fb9f3a"
             ],
             [
              0.8888888888888888,
              "#fdca26"
             ],
             [
              1,
              "#f0f921"
             ]
            ],
            "type": "histogram2d"
           }
          ],
          "histogram2dcontour": [
           {
            "colorbar": {
             "outlinewidth": 0,
             "ticks": ""
            },
            "colorscale": [
             [
              0,
              "#0d0887"
             ],
             [
              0.1111111111111111,
              "#46039f"
             ],
             [
              0.2222222222222222,
              "#7201a8"
             ],
             [
              0.3333333333333333,
              "#9c179e"
             ],
             [
              0.4444444444444444,
              "#bd3786"
             ],
             [
              0.5555555555555556,
              "#d8576b"
             ],
             [
              0.6666666666666666,
              "#ed7953"
             ],
             [
              0.7777777777777778,
              "#fb9f3a"
             ],
             [
              0.8888888888888888,
              "#fdca26"
             ],
             [
              1,
              "#f0f921"
             ]
            ],
            "type": "histogram2dcontour"
           }
          ],
          "mesh3d": [
           {
            "colorbar": {
             "outlinewidth": 0,
             "ticks": ""
            },
            "type": "mesh3d"
           }
          ],
          "parcoords": [
           {
            "line": {
             "colorbar": {
              "outlinewidth": 0,
              "ticks": ""
             }
            },
            "type": "parcoords"
           }
          ],
          "pie": [
           {
            "automargin": true,
            "type": "pie"
           }
          ],
          "scatter": [
           {
            "fillpattern": {
             "fillmode": "overlay",
             "size": 10,
             "solidity": 0.2
            },
            "type": "scatter"
           }
          ],
          "scatter3d": [
           {
            "line": {
             "colorbar": {
              "outlinewidth": 0,
              "ticks": ""
             }
            },
            "marker": {
             "colorbar": {
              "outlinewidth": 0,
              "ticks": ""
             }
            },
            "type": "scatter3d"
           }
          ],
          "scattercarpet": [
           {
            "marker": {
             "colorbar": {
              "outlinewidth": 0,
              "ticks": ""
             }
            },
            "type": "scattercarpet"
           }
          ],
          "scattergeo": [
           {
            "marker": {
             "colorbar": {
              "outlinewidth": 0,
              "ticks": ""
             }
            },
            "type": "scattergeo"
           }
          ],
          "scattergl": [
           {
            "marker": {
             "colorbar": {
              "outlinewidth": 0,
              "ticks": ""
             }
            },
            "type": "scattergl"
           }
          ],
          "scattermapbox": [
           {
            "marker": {
             "colorbar": {
              "outlinewidth": 0,
              "ticks": ""
             }
            },
            "type": "scattermapbox"
           }
          ],
          "scatterpolar": [
           {
            "marker": {
             "colorbar": {
              "outlinewidth": 0,
              "ticks": ""
             }
            },
            "type": "scatterpolar"
           }
          ],
          "scatterpolargl": [
           {
            "marker": {
             "colorbar": {
              "outlinewidth": 0,
              "ticks": ""
             }
            },
            "type": "scatterpolargl"
           }
          ],
          "scatterternary": [
           {
            "marker": {
             "colorbar": {
              "outlinewidth": 0,
              "ticks": ""
             }
            },
            "type": "scatterternary"
           }
          ],
          "surface": [
           {
            "colorbar": {
             "outlinewidth": 0,
             "ticks": ""
            },
            "colorscale": [
             [
              0,
              "#0d0887"
             ],
             [
              0.1111111111111111,
              "#46039f"
             ],
             [
              0.2222222222222222,
              "#7201a8"
             ],
             [
              0.3333333333333333,
              "#9c179e"
             ],
             [
              0.4444444444444444,
              "#bd3786"
             ],
             [
              0.5555555555555556,
              "#d8576b"
             ],
             [
              0.6666666666666666,
              "#ed7953"
             ],
             [
              0.7777777777777778,
              "#fb9f3a"
             ],
             [
              0.8888888888888888,
              "#fdca26"
             ],
             [
              1,
              "#f0f921"
             ]
            ],
            "type": "surface"
           }
          ],
          "table": [
           {
            "cells": {
             "fill": {
              "color": "#EBF0F8"
             },
             "line": {
              "color": "white"
             }
            },
            "header": {
             "fill": {
              "color": "#C8D4E3"
             },
             "line": {
              "color": "white"
             }
            },
            "type": "table"
           }
          ]
         },
         "layout": {
          "annotationdefaults": {
           "arrowcolor": "#2a3f5f",
           "arrowhead": 0,
           "arrowwidth": 1
          },
          "autotypenumbers": "strict",
          "coloraxis": {
           "colorbar": {
            "outlinewidth": 0,
            "ticks": ""
           }
          },
          "colorscale": {
           "diverging": [
            [
             0,
             "#8e0152"
            ],
            [
             0.1,
             "#c51b7d"
            ],
            [
             0.2,
             "#de77ae"
            ],
            [
             0.3,
             "#f1b6da"
            ],
            [
             0.4,
             "#fde0ef"
            ],
            [
             0.5,
             "#f7f7f7"
            ],
            [
             0.6,
             "#e6f5d0"
            ],
            [
             0.7,
             "#b8e186"
            ],
            [
             0.8,
             "#7fbc41"
            ],
            [
             0.9,
             "#4d9221"
            ],
            [
             1,
             "#276419"
            ]
           ],
           "sequential": [
            [
             0,
             "#0d0887"
            ],
            [
             0.1111111111111111,
             "#46039f"
            ],
            [
             0.2222222222222222,
             "#7201a8"
            ],
            [
             0.3333333333333333,
             "#9c179e"
            ],
            [
             0.4444444444444444,
             "#bd3786"
            ],
            [
             0.5555555555555556,
             "#d8576b"
            ],
            [
             0.6666666666666666,
             "#ed7953"
            ],
            [
             0.7777777777777778,
             "#fb9f3a"
            ],
            [
             0.8888888888888888,
             "#fdca26"
            ],
            [
             1,
             "#f0f921"
            ]
           ],
           "sequentialminus": [
            [
             0,
             "#0d0887"
            ],
            [
             0.1111111111111111,
             "#46039f"
            ],
            [
             0.2222222222222222,
             "#7201a8"
            ],
            [
             0.3333333333333333,
             "#9c179e"
            ],
            [
             0.4444444444444444,
             "#bd3786"
            ],
            [
             0.5555555555555556,
             "#d8576b"
            ],
            [
             0.6666666666666666,
             "#ed7953"
            ],
            [
             0.7777777777777778,
             "#fb9f3a"
            ],
            [
             0.8888888888888888,
             "#fdca26"
            ],
            [
             1,
             "#f0f921"
            ]
           ]
          },
          "colorway": [
           "#636efa",
           "#EF553B",
           "#00cc96",
           "#ab63fa",
           "#FFA15A",
           "#19d3f3",
           "#FF6692",
           "#B6E880",
           "#FF97FF",
           "#FECB52"
          ],
          "font": {
           "color": "#2a3f5f"
          },
          "geo": {
           "bgcolor": "white",
           "lakecolor": "white",
           "landcolor": "white",
           "showlakes": true,
           "showland": true,
           "subunitcolor": "#C8D4E3"
          },
          "hoverlabel": {
           "align": "left"
          },
          "hovermode": "closest",
          "mapbox": {
           "style": "light"
          },
          "paper_bgcolor": "white",
          "plot_bgcolor": "white",
          "polar": {
           "angularaxis": {
            "gridcolor": "#EBF0F8",
            "linecolor": "#EBF0F8",
            "ticks": ""
           },
           "bgcolor": "white",
           "radialaxis": {
            "gridcolor": "#EBF0F8",
            "linecolor": "#EBF0F8",
            "ticks": ""
           }
          },
          "scene": {
           "xaxis": {
            "backgroundcolor": "white",
            "gridcolor": "#DFE8F3",
            "gridwidth": 2,
            "linecolor": "#EBF0F8",
            "showbackground": true,
            "ticks": "",
            "zerolinecolor": "#EBF0F8"
           },
           "yaxis": {
            "backgroundcolor": "white",
            "gridcolor": "#DFE8F3",
            "gridwidth": 2,
            "linecolor": "#EBF0F8",
            "showbackground": true,
            "ticks": "",
            "zerolinecolor": "#EBF0F8"
           },
           "zaxis": {
            "backgroundcolor": "white",
            "gridcolor": "#DFE8F3",
            "gridwidth": 2,
            "linecolor": "#EBF0F8",
            "showbackground": true,
            "ticks": "",
            "zerolinecolor": "#EBF0F8"
           }
          },
          "shapedefaults": {
           "line": {
            "color": "#2a3f5f"
           }
          },
          "ternary": {
           "aaxis": {
            "gridcolor": "#DFE8F3",
            "linecolor": "#A2B1C6",
            "ticks": ""
           },
           "baxis": {
            "gridcolor": "#DFE8F3",
            "linecolor": "#A2B1C6",
            "ticks": ""
           },
           "bgcolor": "white",
           "caxis": {
            "gridcolor": "#DFE8F3",
            "linecolor": "#A2B1C6",
            "ticks": ""
           }
          },
          "title": {
           "x": 0.05
          },
          "xaxis": {
           "automargin": true,
           "gridcolor": "#EBF0F8",
           "linecolor": "#EBF0F8",
           "ticks": "",
           "title": {
            "standoff": 15
           },
           "zerolinecolor": "#EBF0F8",
           "zerolinewidth": 2
          },
          "yaxis": {
           "automargin": true,
           "gridcolor": "#EBF0F8",
           "linecolor": "#EBF0F8",
           "ticks": "",
           "title": {
            "standoff": 15
           },
           "zerolinecolor": "#EBF0F8",
           "zerolinewidth": 2
          }
         }
        },
        "title": {
         "text": "Sample of Random Portfolios"
        },
        "xaxis": {
         "title": {
          "text": "Risk (Volatility)"
         }
        },
        "yaxis": {
         "title": {
          "text": "Return"
         }
        }
       }
      }
     },
     "metadata": {},
     "output_type": "display_data"
    }
   ],
   "source": [
    "import plotly.graph_objects as go\n",
    "mean_variance_pairs = np.array(mean_variance_pairs)\n",
    "risk_free_rate=0 #-- Include risk free rate here for sharpe ratio\n",
    "\n",
    "#-- Create Plot\n",
    "fig = go.Figure()\n",
    "fig.add_trace(go.Scatter(x=mean_variance_pairs[:,1]**0.5, \n",
    "                         y=mean_variance_pairs[:,0], \n",
    "                      #- Add color scale for sharpe ratio   \n",
    "                      marker=dict(color=(mean_variance_pairs[:,0]-risk_free_rate)/(mean_variance_pairs[:,1]**0.5), \n",
    "                                  showscale=True, \n",
    "                                  size=7,\n",
    "                                  line=dict(width=1),\n",
    "                                  colorscale=\"RdBu\",\n",
    "                                  colorbar=dict(title=\"Sharpe<br>Ratio\")\n",
    "                                 ), \n",
    "                      mode='markers'))\n",
    "#- Add title/labels\n",
    "fig.update_layout(template='plotly_white',\n",
    "                  xaxis=dict(title='Risk (Volatility)'),\n",
    "                  yaxis=dict(title='Return'),\n",
    "                  title='Sample of Random Portfolios',\n",
    "                  coloraxis_colorbar=dict(title=\"Sharpe Ratio\"))"
   ]
  },
  {
   "cell_type": "markdown",
   "metadata": {},
   "source": [
    "<p dir=rtl style=\"direction: rtl;text-align: right;line-height:200%;font-family:vazir;font-size:medium\">\n",
    "<font face=\"vazir\" size=3>\n",
    "در سلول فوق متغیر\n",
    "<code>risk_free_rate</code>\n",
    "را برای محاسبه\n",
    "<code>Sharpe Ratio</code>\n",
    "قرار دادیم برای آشنایی با \n",
    "<code>Sharp Ratio</code>\n",
    "میتوانید به این\n",
    "<a href=\"https://en.wikipedia.org/wiki/Sharpe_ratio\">لینک</a>\n",
    "مراجعه کنید.\n",
    "  </font>\n",
    "</p>"
   ]
  },
  {
   "cell_type": "markdown",
   "metadata": {},
   "source": []
  }
 ],
 "metadata": {
  "kernelspec": {
   "display_name": "Python 3.10.5 64-bit",
   "language": "python",
   "name": "python3"
  },
  "language_info": {
   "codemirror_mode": {
    "name": "ipython",
    "version": 3
   },
   "file_extension": ".py",
   "mimetype": "text/x-python",
   "name": "python",
   "nbconvert_exporter": "python",
   "pygments_lexer": "ipython3",
   "version": "3.10.5"
  },
  "orig_nbformat": 4,
  "vscode": {
   "interpreter": {
    "hash": "8c3d4d9970fc5c09c50d9318a9c7fbf4d0159e4b28833276f5678ee22bded273"
   }
  }
 },
 "nbformat": 4,
 "nbformat_minor": 2
}
