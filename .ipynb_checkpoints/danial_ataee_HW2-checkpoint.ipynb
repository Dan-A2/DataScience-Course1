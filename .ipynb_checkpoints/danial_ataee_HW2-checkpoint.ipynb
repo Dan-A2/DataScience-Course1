{
 "cells": [
  {
   "cell_type": "markdown",
   "id": "ddd3c7a8-9d51-42fa-b44e-5f1405fb9599",
   "metadata": {},
   "source": [
    "<h1 align=center style=\"line-height:150%;font-family:vazir;color:#0099cc\">\n",
    "<font face=\"vazir\" color=\"#0099cc\"> \n",
    "    تمرین سری دوم\n",
    "</font>\n",
    "</h1>"
   ]
  },
  {
   "cell_type": "markdown",
   "id": "a2c400f6",
   "metadata": {},
   "source": [
    "<p style=\"text-align:center;\"><img align=\"center\" src=\"https://i.postimg.cc/QN9gTNvN/logo.png\" width=\"250\" ></p>"
   ]
  },
  {
   "cell_type": "markdown",
   "id": "d62b11ca-7697-46e3-93e7-75c2772a7700",
   "metadata": {},
   "source": [
    "<h1 align=center style=\"line-height:100%;color:#0099cc\">\n",
    "1.Numpy\n",
    "</h1>"
   ]
  },
  {
   "cell_type": "markdown",
   "id": "99d36218",
   "metadata": {},
   "source": [
    "<p><img src=\"https://i.postimg.cc/Ssh9zNGv/pngaaa-com-619322.png\"  width=\"1200\" height=\"400\" alt=\"Numpy logo\"></p>"
   ]
  },
  {
   "cell_type": "markdown",
   "id": "e8fd8a77-b0e1-4ba2-a9cd-5f30ad040fd1",
   "metadata": {},
   "source": [
    "<h1 align=right style=\"line-height:50%;font-family:vazir;color:#0099cc\">\n",
    "<font face=\"vazir\" color=\"#0099cc\"> \n",
    "    ساخت آرایه و کار با آن ها\n",
    "   \n",
    "</font>\n",
    "</h1>"
   ]
  },
  {
   "cell_type": "markdown",
   "id": "469d3cb5-af71-4b6d-b672-940b64be2e5d",
   "metadata": {},
   "source": [
    "<p dir=rtl style=\"direction: rtl;text-align: right;line-height:200%;font-family:vazir;font-size:medium\">\n",
    "<font face=\"vazir\" size=3>\n",
    "  در سلول زیر لیست \n",
    "    <code> height_cm </code>\n",
    "    را تعریف کرده ایم که نشان دهنده قد یازده بازیکن بسکتبال است.\n",
    "</font>\n",
    "</p>\n"
   ]
  },
  {
   "cell_type": "markdown",
   "id": "507aa766-a0e6-4153-a0c4-f520f0b32b4c",
   "metadata": {},
   "source": [
    "<p dir=rtl style=\"direction: rtl;text-align: right;line-height:200%;font-family:vazir;font-size:medium\">\n",
    "<font face=\"vazir\" size=3>\n",
    "  برای بررسی داده های بازیکنان ابتدا کتابخانه\n",
    "    <code> Numpy </code>\n",
    "    را اضافه کرده و سپس از روی\n",
    "    <code> height_cm </code>\n",
    "    یک آرایه به اسم\n",
    "    <code> np_height_cm </code>\n",
    "    بسازید.\n",
    "</font>\n",
    "</p>\n"
   ]
  },
  {
   "cell_type": "code",
   "execution_count": 2,
   "id": "213d07ff-1fde-4016-ad4b-27a489ad86b2",
   "metadata": {
    "ExecuteTime": {
     "end_time": "2022-07-14T10:40:10.097043Z",
     "start_time": "2022-07-14T10:40:10.024567Z"
    }
   },
   "outputs": [
    {
     "name": "stdout",
     "output_type": "stream",
     "text": [
      "<class 'numpy.ndarray'>\n"
     ]
    }
   ],
   "source": [
    "# Import numpy package\n",
    "import numpy as np\n",
    "# Create list height_cm\n",
    "height_cm = [180, 215, 210, 210, 188, 176, 209, 200 , 210 , 189 , 210]\n",
    "\n",
    "# Create a numpy array from height_cm: np_height_cm\n",
    "np_height_cm = np.array(height_cm)\n",
    "\n",
    "# Print out type of np_height_cm\n",
    "print(type(np_height_cm))"
   ]
  },
  {
   "cell_type": "markdown",
   "id": "cd893371-7862-44b3-bfdc-a011aa5e3085",
   "metadata": {},
   "source": [
    "<p dir=rtl style=\"direction: rtl;text-align: right;line-height:200%;font-family:vazir;font-size:medium\">\n",
    "<font face=\"vazir\" size=3>\n",
    "  آرایه ساخته شده قد بازیکنان را در واحد \n",
    "    <b> سانتیمتر</b>\n",
    "    بیان میکند.\n",
    "    </font>\n",
    "</p>\n"
   ]
  },
  {
   "cell_type": "markdown",
   "id": "36d8a699-b461-40d6-a9f7-3ecb44a2dd6d",
   "metadata": {},
   "source": [
    "<p dir=rtl style=\"direction: rtl;text-align: right;line-height:200%;font-family:vazir;font-size:medium\">\n",
    "<font face=\"vazir\" size=3>\n",
    "  آرایه جدیدی به نام\n",
    "    <code> np_height_m </code>\n",
    "   را با استفاده از \n",
    "   <code> np_height_cm </code>\n",
    "   بسازید به طوری واحد قد در آن\n",
    "   <b> متر </b>\n",
    "    باشد.\n",
    "</font>\n",
    "</p>\n"
   ]
  },
  {
   "cell_type": "markdown",
   "id": "5708b8cc-28d7-493f-942a-556870274234",
   "metadata": {},
   "source": [
    "<p dir=rtl style=\"direction: rtl;text-align: right;line-height:200%;font-family:vazir;font-size:medium\">\n",
    "<font face=\"vazir\" size=3>\n",
    "    <b> \n",
    "    راهنمایی:\n",
    "    </b>\n",
    "    هر متر صد سانتی متر است بنابراین کافیست آرایه\n",
    "    <code>np_height_cm </code>\n",
    "    را تقسیم بر صد کنیم.\n",
    "  </font>\n",
    "</p>"
   ]
  },
  {
   "cell_type": "code",
   "execution_count": null,
   "id": "4cd9ca6d-402f-4383-9824-ebc8f78021c3",
   "metadata": {},
   "outputs": [],
   "source": [
    "np_height_m = np_height_cm / 100\n",
    "print(np_height_m)"
   ]
  },
  {
   "cell_type": "markdown",
   "id": "d1697f6d-df5b-4f0d-a4da-fa3579046c6e",
   "metadata": {},
   "source": [
    "<p dir=rtl style=\"direction: rtl;text-align: right;line-height:200%;font-family:vazir;font-size:medium\">\n",
    "<font face=\"vazir\" size=3>\n",
    "  در سلول زیر لیست\n",
    "    <code> weight_pound </code>\n",
    "    تعریف شده است که شامل وزن بازیکنان در واحد\n",
    "    <code> pound </code>\n",
    "    می باشد. \n",
    "</font>\n",
    "</p>\n"
   ]
  },
  {
   "cell_type": "markdown",
   "id": "adff2e38-ba98-4a87-b1a8-7fa6d002775b",
   "metadata": {},
   "source": [
    "<p dir=rtl style=\"direction: rtl;text-align: right;line-height:200%;font-family:vazir;font-size:medium\">\n",
    "<font face=\"vazir\" size=3>\n",
    "  مشابه بخش های قبلی ابتدا از روی \n",
    "    <code> weight_pound </code>\n",
    "    یک آرایه به نام\n",
    "    <code> np_weight_pound </code>\n",
    "    بسازید و سپس وزن ها را در واحد \n",
    "    <b> کیلوگرم </b>\n",
    "    به دست آورید.\n",
    "</font>\n",
    "</p>\n"
   ]
  },
  {
   "cell_type": "markdown",
   "id": "53378426-1d8a-4b55-9a4f-4cc0e1333022",
   "metadata": {},
   "source": [
    "<p dir=rtl style=\"direction: rtl;text-align: right;line-height:200%;font-family:vazir;font-size:medium\">\n",
    "<font face=\"vazir\" size=3>\n",
    "    <b> \n",
    "    راهنمایی:\n",
    "    </b>\n",
    "    هر\n",
    "    <code> pound </code>\n",
    "    معادل\n",
    "    <code> 0.4535 </code>\n",
    "    کیلوگرم است.\n",
    "  </font>\n",
    "</p>"
   ]
  },
  {
   "cell_type": "code",
   "execution_count": null,
   "id": "6d58f067-d6c6-4ea7-8257-25b1aa8bda74",
   "metadata": {},
   "outputs": [],
   "source": [
    "# Create list weight_pound\n",
    "weight_pound = [150 , 275 , 169 , 236 , 140 , 156 , 280 , 269 , 171 , 261 , 237] \n",
    "# Create a numpy array from weight_pound: np_weight_pound\n",
    "np_weight_pound = np.array(weight_pound)\n",
    "# Create array from np_weight_pound with metric units: np_weight_kg\n",
    "np_weight_kg = np_weight_pound * 0.4535\n",
    "print(np_weight_kg)"
   ]
  },
  {
   "cell_type": "markdown",
   "id": "154f34c8-5a7a-4b8f-aaab-8a611267d52b",
   "metadata": {},
   "source": [
    "<h1 align=right style=\"line-height:50%;font-family:vazir;color:#0099cc\">\n",
    "<font face=\"vazir\" color=\"#0099cc\"> \n",
    "    شاخص توده بدنی بازیکنان بسکتبال\n",
    "   \n",
    "</font>\n",
    "</h1>"
   ]
  },
  {
   "cell_type": "markdown",
   "id": "4b82064a",
   "metadata": {},
   "source": [
    "<p><img src=\"https://i.postimg.cc/Gtj612Mw/nba.jpg\"  width=\"1400\" height=\"600\" alt=\"Nba\"></p>"
   ]
  },
  {
   "cell_type": "markdown",
   "id": "b5445340-398e-4b56-8499-6ea7a1c11196",
   "metadata": {},
   "source": [
    "<p dir=rtl style=\"direction: rtl;text-align: right;line-height:200%;font-family:vazir;font-size:medium\">\n",
    "<font face=\"vazir\" size=3>\n",
    "شاخص توده بدنی یک ابزار اندازه گیری است که نشان میدهد \n",
    "قد و وزن افراد تا چه حد با هم تناسب دارند.\n",
    "    </font>\n",
    "</p>\n"
   ]
  },
  {
   "cell_type": "markdown",
   "id": "ad31ded7-eaf9-4ce0-8e15-6d7448cc8e62",
   "metadata": {},
   "source": [
    "<p dir=rtl style=\"direction: rtl;text-align: right;line-height:200%;font-family:vazir;font-size:medium\">\n",
    "<font face=\"vazir\" size=3>\n",
    "با استفاده از رابطه زیر شاخص توده بدنی بازیکنان بسکتبال را محاسبه کرده و در\n",
    "    <code> bmi </code>\n",
    "    ذخیره کنید.\n",
    "    </font>\n",
    "</p>\n"
   ]
  },
  {
   "cell_type": "markdown",
   "id": "ef4b7c5e-7755-4183-b4cd-1d4d5c5b6106",
   "metadata": {},
   "source": [
    "$$\n",
    "BMI = \\dfrac{weight(kg)}{height(m)^2} \n",
    "$$"
   ]
  },
  {
   "cell_type": "markdown",
   "id": "8467bc97-37c4-4e57-9903-94e160aed9e4",
   "metadata": {},
   "source": [
    "<p dir=rtl style=\"direction: rtl;text-align: right;line-height:200%;font-family:vazir;font-size:medium\">\n",
    "<font face=\"vazir\" size=3>\n",
    "    <b> \n",
    "    راهنمایی:\n",
    "    </b>\n",
    "    برای محاسبه\n",
    "    <code> bmi </code>\n",
    "   از عملگر های  \n",
    "    <code> ** </code>\n",
    "    و\n",
    "    <code> / </code>\n",
    "    استفاده کنید.\n",
    "  </font>\n",
    "</p>"
   ]
  },
  {
   "cell_type": "code",
   "execution_count": null,
   "id": "bca16259-1950-43b5-b6d4-30629954f357",
   "metadata": {},
   "outputs": [],
   "source": [
    "bmi = np_weight_kg / (np_height_m ** 2)\n",
    "bmi"
   ]
  },
  {
   "cell_type": "markdown",
   "id": "908b2e88-6af6-4b05-8417-176c6e08db34",
   "metadata": {},
   "source": [
    "<h1 align=right style=\"line-height:50%;font-family:vazir;color:#0099cc\">\n",
    "<font face=\"vazir\" color=\"#0099cc\"> \n",
    "    بازیکنان سبک وزن\n",
    "   \n",
    "</font>\n",
    "</h1>"
   ]
  },
  {
   "cell_type": "markdown",
   "id": "15d2bc08-1d1b-48fc-8be1-262100cb85f4",
   "metadata": {},
   "source": [
    "<p dir=rtl style=\"direction: rtl;text-align: right;line-height:200%;font-family:vazir;font-size:medium\">\n",
    "<font face=\"vazir\" size=3>\n",
    "یک آرایه بولی به نام\n",
    "    <code> light </code>\n",
    "    بسازید که برای بازیکنانی که شاخص توده بدنی آن ها کمتر از\n",
    "    <code> <b> 18.5 </b> </code>\n",
    "    است مقدار\n",
    "    <code> True </code>\n",
    "    داشته باشد و برای بقیه\n",
    "    <code> False </code>\n",
    "    </font>\n",
    "</p>\n"
   ]
  },
  {
   "cell_type": "code",
   "execution_count": null,
   "id": "40dc4c67-1047-4703-ac30-ec3b5ca39774",
   "metadata": {},
   "outputs": [],
   "source": [
    "# Create boolean array light\n",
    "light =  bmi < 18.5\n",
    "# Print light\n",
    "print(light)"
   ]
  },
  {
   "cell_type": "markdown",
   "id": "7450159d-6d11-4dab-85fc-b2882e024076",
   "metadata": {},
   "source": [
    "<p dir=rtl style=\"direction: rtl;text-align: right;line-height:200%;font-family:vazir;font-size:medium\">\n",
    "<font face=\"vazir\" size=3>\n",
    "حالا با استفاده از آرایه\n",
    "    <code> light </code>\n",
    "    مقادیر\n",
    "    <code> bmi </code>\n",
    "    که کمتر از \n",
    "    <code> 18.5 </code>\n",
    "    هستند را انتخاب کنید.\n",
    "    </font>\n",
    "</p>\n"
   ]
  },
  {
   "cell_type": "code",
   "execution_count": null,
   "id": "20b0e168-7988-4204-9e47-d01d82d7a089",
   "metadata": {},
   "outputs": [],
   "source": [
    "# Print BMIs that are below 18.5\n",
    "print(bmi[light])"
   ]
  },
  {
   "cell_type": "markdown",
   "id": "33aca8ac-6361-4a3c-9fa4-ea3978e09ee0",
   "metadata": {},
   "source": [
    "<p dir=rtl style=\"direction: rtl;text-align: right;line-height:200%;font-family:vazir;font-size:medium\">\n",
    "<font face=\"vazir\" size=3>\n",
    "موارد زیر را برای آرایه\n",
    "    <code> bmi </code>\n",
    "    به دست آورید.\n",
    "    </font>\n",
    "</p>\n"
   ]
  },
  {
   "cell_type": "markdown",
   "id": "4eaf3b6d-4378-4f88-ac60-0d017fb39738",
   "metadata": {},
   "source": [
    "\n",
    "<ul style=\"style=\"text-align: center ; list-style-position: inside;justify-items: center\">\n",
    "        <li > min </li>\n",
    "        <li >max</li>\n",
    "        <li >mean</li>\n",
    "        <li >median</li>\n",
    "        <li >std</li>\n",
    "</ul>\n"
   ]
  },
  {
   "cell_type": "markdown",
   "id": "470797a6-234b-4fd6-8f83-d5ff0b48e511",
   "metadata": {},
   "source": [
    "<p dir=rtl style=\"direction: rtl;text-align: right;line-height:200%;font-family:vazir;font-size:medium\">\n",
    "<font face=\"vazir\" size=3>\n",
    "انحراف معیار  \n",
    "  یا \n",
    "    <code> std </code>\n",
    "    مفهومی است که میزان پراکندگی داده‌های یک مجموعه را مشخص می‌کند\n",
    "   هر چه انحراف معیار مجموعه‌ای از داده‌ها عدد پایین‌تری باشد، نشانه آن است که داده‌ها به میانگین نزدیک هستند و پراکندگی اندکی دارند. در صورتی که انحراف معیار عدد بزرگی باشد، نشان می‌دهد که پراکندگی داده‌ها زیاد است.\n",
    "    برای محاسبه انحراف معیار میتوانید از\n",
    "    <code> np.std </code>\n",
    "    استفاده کنید.\n",
    "    </font>\n",
    "</p>\n"
   ]
  },
  {
   "cell_type": "markdown",
   "id": "cf0ec8be-e42b-4f01-b712-535e8b213cd7",
   "metadata": {},
   "source": [
    "<p dir=rtl style=\"direction: rtl;text-align: right;line-height:200%;font-family:vazir;font-size:medium\">\n",
    "<font face=\"vazir\" size=3>\n",
    "میانه\n",
    "    یا همان \n",
    "    <code> median </code>\n",
    "    عدد وسط مجموعه‌ای از اعداد مرتب شده بر اساس مقدار آنهاست.\n",
    "    تابع\n",
    "    <code> np.median </code> \n",
    "    میانه را به دست می آورد.\n",
    "    </font>\n",
    "</p>\n"
   ]
  },
  {
   "cell_type": "code",
   "execution_count": null,
   "id": "8981344e-127b-44b3-88eb-6965cf13869a",
   "metadata": {},
   "outputs": [],
   "source": [
    "#Calculate mean\n",
    "mean_bmi = np.mean(bmi)\n",
    "#Calculate min\n",
    "min_bmi = np.min(bmi)\n",
    "#Calculate max\n",
    "max_bmi = np.max(bmi)\n",
    "#Calculate median\n",
    "median_bmi = np.median(bmi)\n",
    "#Calculate std\n",
    "std_bmi = np.std(bmi)\n"
   ]
  },
  {
   "cell_type": "code",
   "execution_count": null,
   "id": "eada0ecc-5a96-4e55-a63a-a143c46038ac",
   "metadata": {},
   "outputs": [],
   "source": [
    "# Print the results\n",
    "print(\"Min : \" , min_bmi)\n",
    "print(\"Max : \" , max_bmi)\n",
    "print(\"Mean : \" , mean_bmi)\n",
    "print(\"Median : \" , median_bmi)\n",
    "print(\"Std : \" , std_bmi)"
   ]
  },
  {
   "cell_type": "markdown",
   "id": "16684254-5dee-4271-92b7-57719942c7df",
   "metadata": {},
   "source": [
    "<h1 align=right style=\"line-height:50%;font-family:vazir;color:#0099cc\">\n",
    "<font face=\"vazir\" color=\"#0099cc\"> \n",
    "    ایجاد محدوده اعداد\n",
    "   \n",
    "</font>\n",
    "</h1>"
   ]
  },
  {
   "cell_type": "markdown",
   "id": "66fc5873-e4e9-4863-a35c-8f813210dff1",
   "metadata": {},
   "source": [
    "<p dir=rtl style=\"direction: rtl;text-align: right;line-height:200%;font-family:vazir;font-size:medium\">\n",
    "<font face=\"vazir\" size=3>\n",
    "با استفاده از\n",
    "    <code> np.arange </code>\n",
    "    یک آرایه از اعداد\n",
    "   صحیح\n",
    "   <code> 0 </code>\n",
    "    تا\n",
    "    <code> 90 </code>\n",
    "    را بسازید\n",
    "    که شامل خود\n",
    "    <code>0</code>\n",
    "    و \n",
    "    <code> 90 </code>\n",
    "    باشد.\n",
    "    </font>\n",
    "</p>\n"
   ]
  },
  {
   "cell_type": "markdown",
   "id": "36e135e3-893b-4a29-8b7a-a3c3a6ec5772",
   "metadata": {},
   "source": [
    "<p dir=rtl style=\"direction: rtl;text-align: right;line-height:200%;font-family:vazir;font-size:medium\">\n",
    "<font face=\"vazir\" size=3>\n",
    "    <b> سینوس </b>\n",
    "    آرایه\n",
    "    ساخته شده را به دست آورید.\n",
    "    </font>\n",
    "</p>\n"
   ]
  },
  {
   "cell_type": "code",
   "execution_count": null,
   "id": "1b1874df-fa2a-4e29-894d-cd693de7fd5a",
   "metadata": {},
   "outputs": [],
   "source": [
    "#Create _0_to_90 using np.arange \n",
    "_0_to_90 = np.arange(0,91)\n",
    "#Calculate sin of _0_to_90\n",
    "sin_0_to_90 = np.sin(_0_to_90 * np.pi/180)"
   ]
  },
  {
   "cell_type": "markdown",
   "id": "066238cc-37be-4b2c-9eac-729029978957",
   "metadata": {},
   "source": [
    "<p dir=rtl style=\"direction: rtl;text-align: right;line-height:200%;font-family:vazir;font-size:medium\">\n",
    "<font face=\"vazir\" size=3>\n",
    "    با استفاده از\n",
    "    <code> np.linspace </code>\n",
    "    میتوانید محدوده ای از اعداد با فاصله های مساوی از هم را بسازید.\n",
    "    </font>\n",
    "</p>\n"
   ]
  },
  {
   "cell_type": "markdown",
   "id": "d95ad699-aeaf-44a4-a12a-bf3a535795dc",
   "metadata": {},
   "source": [
    "<p dir=rtl style=\"direction: rtl;text-align: right;line-height:200%;font-family:vazir;font-size:medium\">\n",
    "<font face=\"vazir\" size=3>\n",
    "   آرایه ای به نام\n",
    "    <code> spaced_0_100 </code>\n",
    "    را تعریف کنید که شامل سی عدد با فاصله های مساوی از هم در بازه \n",
    "    <code>0</code>\n",
    "    تا\n",
    "    <code>100 </code>\n",
    "    باشد.\n",
    "    </font>\n",
    "</p>\n"
   ]
  },
  {
   "cell_type": "code",
   "execution_count": null,
   "id": "3ea23121-74ae-415c-8f32-676dfeb82de5",
   "metadata": {},
   "outputs": [],
   "source": [
    "# Create evenly spaced numbers using np.linspace\n",
    "spaced_0_100 = np.linspace(start = 0 , stop = 100 , num = 30)"
   ]
  },
  {
   "cell_type": "markdown",
   "id": "8d7be5c2-c82c-43bc-ad16-ca846bdf2ba3",
   "metadata": {},
   "source": [
    "<p dir=rtl style=\"direction: rtl;text-align: right;line-height:200%;font-family:vazir;font-size:medium\">\n",
    "<font face=\"vazir\" size=3>\n",
    "    حالا آرایه\n",
    "    <code> spaced_0_100 </code>\n",
    "    را به یک آرایه دوبعدی با \n",
    "    <code> shape = (5,6) </code>\n",
    "    تبدیل کنید.\n",
    "    \n",
    "</font>\n",
    "</p>\n"
   ]
  },
  {
   "cell_type": "markdown",
   "id": "e25fbe46-ed90-4c56-b9ef-0b5b2cbcf487",
   "metadata": {},
   "source": [
    "<p dir=rtl style=\"direction: rtl;text-align: right;line-height:200%;font-family:vazir;font-size:medium\">\n",
    "<font face=\"vazir\" size=3>\n",
    "    <b> \n",
    "    راهنمایی:\n",
    "    </b>\n",
    "    برای تغییر\n",
    "    <code> shape </code>\n",
    "    یک آرایه از\n",
    "    <code> reshape </code>\n",
    "    استفاده میکنیم.\n",
    "  </font>\n",
    "</p>"
   ]
  },
  {
   "cell_type": "code",
   "execution_count": null,
   "id": "f3fd3ad8-76ac-45ea-99e9-47e29015a7f0",
   "metadata": {},
   "outputs": [],
   "source": [
    "# Reshape spaced_0_100\n",
    "spaced_0_100_2D = spaced_0_100.reshape(5,6)"
   ]
  },
  {
   "cell_type": "markdown",
   "id": "e71d223a-3622-44b0-b24f-b782879f7e10",
   "metadata": {},
   "source": [
    "<h1 align=right style=\"line-height:50%;font-family:vazir;color:#0099cc\">\n",
    "<font face=\"vazir\" color=\"#0099cc\"> \n",
    "    آرایه های دوبعدی در نامپای\n",
    "   \n",
    "</font>\n",
    "</h1>"
   ]
  },
  {
   "cell_type": "markdown",
   "id": "5c20e501-9c1d-415c-8d73-8f2561523019",
   "metadata": {},
   "source": [
    "<p dir=rtl style=\"direction: rtl;text-align: right;line-height:200%;font-family:vazir;font-size:medium\">\n",
    "<font face=\"vazir\" size=3>\n",
    "    با اجرای کد زیر عکس\n",
    "    <code> hermes.png </code>\n",
    "    به صورت یک آرایه دو بعدی نامپای در متغیر\n",
    "    <code> logo </code>\n",
    "    ذخیره میشود.\n",
    "  </font>\n",
    "</p>"
   ]
  },
  {
   "cell_type": "code",
   "execution_count": 1,
   "id": "2649963f-1deb-4c26-8cbf-859d851bc7bd",
   "metadata": {
    "ExecuteTime": {
     "end_time": "2022-07-14T10:42:49.774413Z",
     "start_time": "2022-07-14T10:42:49.769954Z"
    }
   },
   "outputs": [
    {
     "name": "stdout",
     "output_type": "stream",
     "text": [
      "Shape of image is  (40, 180)\n",
      "[[  0.   0.   0. ...   0.   0.   0.]\n",
      " [  0.   0.   0. ...   0.   0.   0.]\n",
      " [  0.   0.   0. ... 255.   0.   0.]\n",
      " ...\n",
      " [255. 255.   0. ...   0.   0.   0.]\n",
      " [255. 255.   0. ...   0.   0.   0.]\n",
      " [  0.   0.   0. ...   0.   0.   0.]]\n"
     ]
    }
   ],
   "source": [
    "import numpy as np\n",
    "import matplotlib.pyplot as plt\n",
    "def load_logo():\n",
    "    image = plt.imread('hermes.png')\n",
    "    logo = image[: , : , 0]\n",
    "    logo[logo == 1] = 255\n",
    "    return logo\n",
    "\n",
    "logo = load_logo()\n",
    "print(\"Shape of image is \" , logo.shape)\n",
    "print(logo)"
   ]
  },
  {
   "cell_type": "markdown",
   "id": "4e2f7892",
   "metadata": {},
   "source": [
    "<p dir=rtl style=\"direction: rtl;text-align: right;line-height:200%;font-family:vazir;font-size:medium\">\n",
    "<font face=\"vazir\" size=3>\n",
    "  طبق خروجی سلول بالا عکس های دیجیتالی آرایه های چند بعدی هستند که مقادیر درایه هایشان\n",
    "    یا همان پیکسل ها\n",
    "    در بازه \n",
    "    <code> 0 </code>\n",
    "    تا \n",
    "    <code> 255 </code>\n",
    "    است.\n",
    "    </font>\n",
    "</p>"
   ]
  },
  {
   "cell_type": "markdown",
   "id": "5a6e4aef",
   "metadata": {},
   "source": [
    "<p dir=rtl style=\"direction: rtl;text-align: right;line-height:200%;font-family:vazir;font-size:medium\">\n",
    "<font face=\"vazir\" size=3>\n",
    "   با تابع\n",
    "    <code> plot_image </code>\n",
    "    عکس خوانده شده را رسم میکنیم.\n",
    "  </font>\n",
    "</p>"
   ]
  },
  {
   "cell_type": "code",
   "execution_count": 2,
   "id": "1fc8ca5c",
   "metadata": {},
   "outputs": [
    {
     "data": {
      "image/png": "[encoded data removed]",
      "text/plain": [
       "<Figure size 432x288 with 1 Axes>"
      ]
     },
     "metadata": {
      "needs_background": "light"
     },
     "output_type": "display_data"
    }
   ],
   "source": [
    "def plot_image(img):\n",
    "    plt.imshow(img , cmap='gray')\n",
    "\n",
    "plot_image(logo)"
   ]
  },
  {
   "cell_type": "markdown",
   "id": "81440842",
   "metadata": {},
   "source": [
    "<h1 align=right style=\"line-height:50%;font-family:vazir;color:#0099cc\">\n",
    "<font face=\"vazir\" color=\"#0099cc\"> \n",
    "    برش عکس با نامپای\n",
    "   \n",
    "</font>\n",
    "</h1>"
   ]
  },
  {
   "cell_type": "markdown",
   "id": "b29b4f17",
   "metadata": {},
   "source": [
    "<p dir=rtl style=\"direction: rtl;text-align: right;line-height:200%;font-family:vazir;font-size:medium\">\n",
    "<font face=\"vazir\" size=3>\n",
    "   عمل برش عکس را میتوانیم با \n",
    "    <code> slicing </code>\n",
    "    انجام دهیم.\n",
    "  </font>\n",
    "</p>"
   ]
  },
  {
   "cell_type": "markdown",
   "id": "bb415c7c",
   "metadata": {},
   "source": [
    "<p dir=rtl style=\"direction: rtl;text-align: right;line-height:200%;font-family:vazir;font-size:medium\">\n",
    "<font face=\"vazir\" size=3>\n",
    "   سلول زیر را طوری پر کنید که \n",
    "    از تصویر خوانده شده لوگو هرمس را انتخاب و در \n",
    "    <code> cropped_logo </code>\n",
    "    قرار دهد.\n",
    "  </font>\n",
    "</p>"
   ]
  },
  {
   "cell_type": "markdown",
   "id": "4667e988",
   "metadata": {},
   "source": [
    "<p dir=rtl style=\"direction: rtl;text-align: right;line-height:200%;font-family:vazir;font-size:medium\">\n",
    "<font face=\"vazir\" size=3>\n",
    "   منظور از لوگو شکل زیر است.\n",
    "  </font>\n",
    "</p>"
   ]
  },
  {
   "cell_type": "markdown",
   "id": "675b1251",
   "metadata": {},
   "source": [
    "<center> </div><img align=\"center\" src=\"https://i.postimg.cc/Kjp3jJJQ/logo-shape.png\" ></center>"
   ]
  },
  {
   "cell_type": "code",
   "execution_count": 20,
   "id": "561ff61b",
   "metadata": {},
   "outputs": [],
   "source": [
    "cropped_logo = logo[: , 139:]\n",
    "plot_image(cropped_logo)"
   ]
  },
  {
   "cell_type": "markdown",
   "id": "b7871aea",
   "metadata": {},
   "source": [
    "<h1 align=right style=\"line-height:50%;font-family:vazir;color:#0099cc\">\n",
    "<font face=\"vazir\" color=\"#0099cc\"> \n",
    "    رنگ آمیزی با نامپای\n",
    "   \n",
    "</font>\n",
    "</h1>"
   ]
  },
  {
   "cell_type": "markdown",
   "id": "12a81ec3",
   "metadata": {},
   "source": [
    "<p dir=rtl style=\"direction: rtl;text-align: right;line-height:200%;font-family:vazir;font-size:medium\">\n",
    "<font face=\"vazir\" size=3>\n",
    "   میخواهیم مربع سفید کوچک در وسط لوگو هرمس را قرمز کنیم!\n",
    "   برای اینکار ابتدا بامفهوم\n",
    "   <code>RGB</code>\n",
    "   آشنا میشویم.\n",
    "  </font>\n",
    "</p>"
   ]
  },
  {
   "cell_type": "markdown",
   "id": "8d9ec895",
   "metadata": {},
   "source": [
    "<p dir=rtl style=\"direction: rtl;text-align: right;line-height:200%;font-family:vazir;font-size:medium\">\n",
    "<font face=\"vazir\" size=3>\n",
    "   مدل رنگی \n",
    "   <code>RGB</code>\n",
    "   یکی از پرکاربرد ترین مدل های ساخت رنگ در صفحات نمایش الکترونیکی است.\n",
    "   نام آن از حروف ابتدایی رنگ های \n",
    "   قرمز\n",
    "   <code>Red</code>\n",
    "   و\n",
    "   سبز\n",
    "   <code>Green</code>\n",
    "   و\n",
    "   آبی\n",
    "   <code>Blue</code>\n",
    "   گرفته شده است.\n",
    "   به این ترتیب این سه رنگ به نسبت های مختلف با هم مخلوط میشوند و آرایشی از رنگ های جدید را به وجود می آورند.\n",
    "  </font>\n",
    "</p>"
   ]
  },
  {
   "cell_type": "markdown",
   "id": "20fcfadc",
   "metadata": {},
   "source": [
    "<p dir=rtl style=\"direction: rtl;text-align: right;line-height:200%;font-family:vazir;font-size:medium\">\n",
    "<font face=\"vazir\" size=3>\n",
    "  در سلول زیر سه کپی از \n",
    "  <code>cropped_logo</code>\n",
    "  بسازید\n",
    "  که هر کدام متناظر با یکی از سه رنگ\n",
    "  <code>RGB</code>\n",
    "  است.\n",
    "  </font>\n",
    "</p>"
   ]
  },
  {
   "cell_type": "code",
   "execution_count": 9,
   "id": "9cfda8c0",
   "metadata": {},
   "outputs": [],
   "source": [
    "cropped_logo_R = cropped_logo.copy()\n",
    "cropped_logo_G = cropped_logo.copy()\n",
    "cropped_logo_B = cropped_logo.copy()"
   ]
  },
  {
   "cell_type": "markdown",
   "id": "a24887f1",
   "metadata": {},
   "source": [
    "<p dir=rtl style=\"direction: rtl;text-align: right;line-height:200%;font-family:vazir;font-size:medium\">\n",
    "<font face=\"vazir\" size=3>\n",
    "حالا بخشی که میخواهیم رنگ آمیزی شود را انتخاب میکنیم.\n",
    "  </font>\n",
    "</p>"
   ]
  },
  {
   "cell_type": "markdown",
   "id": "d7ec7817",
   "metadata": {},
   "source": [
    "<p dir=rtl style=\"direction: rtl;text-align: right;line-height:200%;font-family:vazir;font-size:medium\">\n",
    "<font face=\"vazir\" size=3>\n",
    "با استفاده از سلول زیر شماره سطر و ستون مربع سفید داخل لوگو را تعیین کنید.\n",
    "  </font>\n",
    "</p>"
   ]
  },
  {
   "cell_type": "code",
   "execution_count": 21,
   "id": "7a846b77",
   "metadata": {},
   "outputs": [],
   "source": [
    "plot_image(cropped_logo[14:26 , 15:26])"
   ]
  },
  {
   "cell_type": "markdown",
   "id": "6b145ae0",
   "metadata": {},
   "source": [
    "<p dir=rtl style=\"direction: rtl;text-align: right;line-height:200%;font-family:vazir;font-size:medium\">\n",
    "<font face=\"vazir\" size=3>\n",
    "حالا شماره هایی که در سلول فوق پیدا کردید را به ترتیب در متغیر های زیر ذخیره کنید.\n",
    "</font>\n",
    "</p>"
   ]
  },
  {
   "cell_type": "code",
   "execution_count": 15,
   "id": "359c5ebe",
   "metadata": {},
   "outputs": [],
   "source": [
    "row_start = 14\n",
    "row_end = 26\n",
    "col_start = 15\n",
    "col_end = 26"
   ]
  },
  {
   "cell_type": "markdown",
   "id": "7671db45",
   "metadata": {},
   "source": [
    "<p dir=rtl style=\"direction: rtl;text-align: right;line-height:200%;font-family:vazir;font-size:medium\">\n",
    "<font face=\"vazir\" size=3>\n",
    "الان میتونیم رنگ آمیزی کنیم! میخواهیم مربع قرمز شود پس درایه های مربع در آرایه رنگ قرمز را \n",
    "برابر با \n",
    "<code>255</code>\n",
    "قرار میدهیم و بقیه رنگ ها را \n",
    "<code>0</code>\n",
    "میکنیم.\n",
    "</font>\n",
    "</p>"
   ]
  },
  {
   "cell_type": "code",
   "execution_count": 16,
   "id": "7fe99b20",
   "metadata": {},
   "outputs": [],
   "source": [
    "cropped_logo_R[row_start:row_end , col_start : col_end] = 255\n",
    "cropped_logo_G[row_start:row_end , col_start : col_end] = 0\n",
    "cropped_logo_B[row_start:row_end , col_start : col_end] = 0"
   ]
  },
  {
   "cell_type": "markdown",
   "id": "7d43727f",
   "metadata": {},
   "source": [
    "<p dir=rtl style=\"direction: rtl;text-align: right;line-height:200%;font-family:vazir;font-size:medium\">\n",
    "<font face=\"vazir\" size=3>\n",
    "    <b> \n",
    "    معرفی تابع\n",
    "    <code>np.dstack</code>\n",
    "    </b>\n",
    "    این تابع لیستی از آرایه ها را در بُعد سوم به هم میچسباند.\n",
    "\n",
    "  </font>\n",
    "</p>"
   ]
  },
  {
   "cell_type": "markdown",
   "id": "84385a8e",
   "metadata": {},
   "source": [
    "<img src=\"https://i.postimg.cc/T1JtpysC/d-stack.png\" >"
   ]
  },
  {
   "cell_type": "markdown",
   "id": "44dafa67",
   "metadata": {},
   "source": [
    "<p dir=rtl style=\"direction: rtl;text-align: right;line-height:200%;font-family:vazir;font-size:medium\">\n",
    "<font face=\"vazir\" size=3>\n",
    "برای ساخت تصویر نهایی سه آرایه\n",
    "<code>cropped_logo_R</code>\n",
    "و\n",
    "<code>cropped_logo_R</code>\n",
    "و\n",
    "<code>cropped_logo_R</code>\n",
    "را با استفاده از\n",
    "<code>np.dstack</code>\n",
    "به همدیگر پیوست میدهیم.\n",
    "</font>\n",
    "</p>"
   ]
  },
  {
   "cell_type": "code",
   "execution_count": 17,
   "id": "e953135c",
   "metadata": {},
   "outputs": [],
   "source": [
    "img_final = (np.dstack([cropped_logo_R,cropped_logo_G,cropped_logo_B]))\n"
   ]
  },
  {
   "cell_type": "code",
   "execution_count": 22,
   "id": "3bd29c82",
   "metadata": {},
   "outputs": [],
   "source": [
    "plt.imshow(img_final);"
   ]
  },
  {
   "cell_type": "markdown",
   "id": "de844926",
   "metadata": {},
   "source": [
    "<p dir=rtl style=\"direction: rtl;text-align: right;line-height:200%;font-family:vazir;font-size:medium\">\n",
    "<font face=\"vazir\" size=3>\n",
    "اگر مراحل را درست رفته باشید لوگوی خوشگل  زیر باید در خروجی سلول فوق نمایان شود!\n",
    "</font>\n",
    "</p>"
   ]
  },
  {
   "cell_type": "markdown",
   "id": "abe1302e",
   "metadata": {},
   "source": [
    "<center> </div><img align=\"center\" src=\"https://i.postimg.cc/NjD7mqpf/colored-logo.png\" ></center>"
   ]
  },
  {
   "cell_type": "markdown",
   "id": "31b949cd-f231-4b66-b88f-ce0aa0572d46",
   "metadata": {},
   "source": [
    "<h1 align=center style=\"line-height:100%;color:#0099cc\">\n",
    "2.Pandas\n",
    "</h1>"
   ]
  },
  {
   "cell_type": "markdown",
   "id": "6abf91b2",
   "metadata": {},
   "source": [
    "<img  src=\"https://media.giphy.com/media/AGl4BWvZNfvby/giphy.gif\"  width=\"1000\" height=700 alt=\"Pandas\">"
   ]
  },
  {
   "cell_type": "markdown",
   "id": "b2ef9087-1771-481b-8a53-97b44eeb95a3",
   "metadata": {},
   "source": [
    "<p dir=rtl style=\"direction: rtl;text-align: right;line-height:200%;font-family:vazir;font-size:medium\">\n",
    "<font face=\"vazir\" size=3>\n",
    "  قبل از شروع کار با \n",
    "    <code> pandas </code>\n",
    "    لازم است آن را به محیط کار مان اضافه کنیم برای اینکار از دستور\n",
    "    <code> import </code>\n",
    "    استفاده کنید.\n",
    "</font>\n",
    "</p>\n"
   ]
  },
  {
   "cell_type": "code",
   "execution_count": 3,
   "id": "f55173d2-c0e9-4aa1-b290-c2e4e337bef4",
   "metadata": {},
   "outputs": [],
   "source": [
    "import pandas as pd"
   ]
  },
  {
   "cell_type": "markdown",
   "id": "b22b7932-ecbc-4152-8c74-384cbc3d22e9",
   "metadata": {},
   "source": [
    "<h1 align=right style=\"line-height:150%;font-family:vazir;color:#0099cc\">\n",
    "<font face=\"vazir\" color=\"#0099cc\"> \n",
    "    ساخت سری و دیتافریم و خواندن داده\n",
    "</font>\n",
    "</h1>"
   ]
  },
  {
   "cell_type": "markdown",
   "id": "d6e55263-ea84-4a0a-b3af-970d3551e6c4",
   "metadata": {},
   "source": [
    "<p dir=rtl style=\"direction: rtl;text-align: right;line-height:200%;font-family:vazir;font-size:medium\">\n",
    "<font face=\"vazir\" size=3>\n",
    "  از روی دیکشنری\n",
    "    <code> fruits </code>\n",
    "    در سلول زیر یک دیتافریم\n",
    "    به اسم\n",
    "    <code>fruits_df</code>\n",
    "    بسازید.\n",
    "</font>\n",
    "</p>\n"
   ]
  },
  {
   "cell_type": "code",
   "execution_count": null,
   "id": "e802788c-f513-4e9c-9daf-efa06dd41ad5",
   "metadata": {},
   "outputs": [],
   "source": [
    "fruits = {\"apple\":[20 , 25] , \"banana\":[12 , 30]}\n",
    "fruits_df = pd.DataFrame(fruits)\n",
    "fruits_df"
   ]
  },
  {
   "cell_type": "markdown",
   "id": "1f06e18b-ca28-4a78-81ba-7ecdf218c234",
   "metadata": {},
   "source": [
    "<p dir=rtl style=\"direction: rtl;text-align: right;line-height:200%;font-family:vazir;font-size:medium\">\n",
    "<font face=\"vazir\" size=3>\n",
    "  دیتافریم حاصل به این شکل خواهد بود.\n",
    "</font>\n",
    "</p>\n"
   ]
  },
  {
   "cell_type": "markdown",
   "id": "2807bf8b-b913-428d-98b2-08c7aff2e6f2",
   "metadata": {},
   "source": [
    "|   | apple | banana |\n",
    "|:-:|:-----:|:------:|\n",
    "| 0 |   20  |   12   |\n",
    "| 1 |   25  |   30   |"
   ]
  },
  {
   "cell_type": "markdown",
   "id": "4a381e5a-a6c5-4c2d-abd3-7b35133f42db",
   "metadata": {},
   "source": [
    "<p dir=rtl style=\"direction: rtl;text-align: right;line-height:200%;font-family:vazir;font-size:medium\">\n",
    "<font face=\"vazir\" size=3>\n",
    "  حالا یک دیتافریم دیگری از دیکشنری \n",
    "    <code>fruits</code>\n",
    "    میسازیم به طوری که\n",
    "    <code>index</code>\n",
    "    آن لیست\n",
    "    <code>years</code>\n",
    "    باشد.\n",
    "</font>\n",
    "</p>\n"
   ]
  },
  {
   "cell_type": "markdown",
   "id": "6e7ef741-57b2-4d39-8660-9b884ff85732",
   "metadata": {},
   "source": [
    "<p dir=rtl style=\"direction: rtl;text-align: right;line-height:200%;font-family:vazir;font-size:medium\">\n",
    "<font face=\"vazir\" size=3>\n",
    "    <b> \n",
    "    راهنمایی:\n",
    "    </b>\n",
    "  به آرگومان\n",
    "    <code> index </code>\n",
    "    در ورودی\n",
    "    <code> pd.DataFrame </code>\n",
    "    توجه داشته باشید.\n",
    "  </font>\n",
    "</p>"
   ]
  },
  {
   "cell_type": "code",
   "execution_count": null,
   "id": "4f6fa3b7-39d7-468c-96f1-42e86150df59",
   "metadata": {},
   "outputs": [],
   "source": [
    "years = [2020 , 2021]\n",
    "fruits_df_with_index = pd.DataFrame(fruits , index=years)\n",
    "fruits_df_with_index"
   ]
  },
  {
   "cell_type": "markdown",
   "id": "2f659658-06f3-4625-b9cf-e17844ced8e7",
   "metadata": {},
   "source": [
    "<p dir=rtl style=\"direction: rtl;text-align: right;line-height:200%;font-family:vazir;font-size:medium\">\n",
    "<font face=\"vazir\" size=3>\n",
    "  دیتافریم\n",
    "    <code> fruits_df_with_index </code>\n",
    "    به این صورت است:\n",
    "</font>\n",
    "</p>"
   ]
  },
  {
   "cell_type": "markdown",
   "id": "320a2697-8a6a-4beb-b338-fa9fcc8e305e",
   "metadata": {},
   "source": [
    "|   | apple | banana |\n",
    "|:-:|:-----:|:------:|\n",
    "| 2020 |   20  |   12   |\n",
    "| 2021 |   25  |   30   |"
   ]
  },
  {
   "cell_type": "markdown",
   "id": "f27b0d6c",
   "metadata": {},
   "source": [
    "<img src=\"https://i.postimg.cc/GpFF5B3b/game.jpg\" width=\"700\" height=\"700\" >"
   ]
  },
  {
   "cell_type": "markdown",
   "id": "503f8ea1-2989-44f3-af52-7a2964c9aa9a",
   "metadata": {},
   "source": [
    "<p dir=rtl style=\"direction: rtl;text-align: right;line-height:200%;font-family:vazir;font-size:medium\">\n",
    "<font face=\"vazir\" size=3>\n",
    "   دو سری به نام های\n",
    "    <code> hardware_1 </code>\n",
    "    و\n",
    "    <code> hardware_2 </code>\n",
    "    با مشخصات زیر تعریف کنید.\n",
    "</font>\n",
    "</p>\n"
   ]
  },
  {
   "cell_type": "markdown",
   "id": "1d07a4a6-8323-4d06-9785-c5b82ce0d424",
   "metadata": {},
   "source": [
    "```\n",
    "hardware_1:\n",
    "Ram     DDR5\n",
    "Cpu     Corei9     \n",
    "Gpu     RTX3090\n",
    "Name: hardware_1, dtype: object\n",
    "```\n",
    "```\n",
    "hardware_2:\n",
    "Ram     DDR4\n",
    "Cpu     Corei7     \n",
    "Gpu     RTX3060\n",
    "Name: hardware_2, dtype: object\n",
    "```"
   ]
  },
  {
   "cell_type": "code",
   "execution_count": 8,
   "id": "578bba5a-5148-4a78-bbcd-86abee59a8ca",
   "metadata": {},
   "outputs": [],
   "source": [
    "import pandas as pd\n",
    "# Create list of indexes for two series \n",
    "indexes_hardware = [\"Ram\" , \"Cpu\", \"Gpu\"]\n",
    "# Create list of values for hardware_1 \n",
    "values_hardware_1 = [\"DDR5\" , \"Corei9\", \"RTX3090\"]\n",
    "hardware_1 = pd.Series( values_hardware_1 , index=indexes_hardware , name=\"hardware_1\")\n",
    "# Create list of values for hardware_2 \n",
    "values_hardware_2 = [\"DDR4\" , \"Corei7\", \"RTX3060\"]\n",
    "hardware_2 = pd.Series( values_hardware_2 , index=indexes_hardware , name=\"hardware_2\")"
   ]
  },
  {
   "cell_type": "markdown",
   "id": "27d82278",
   "metadata": {},
   "source": [
    "<p dir=rtl style=\"direction: rtl;text-align: right;line-height:200%;font-family:vazir;font-size:medium\">\n",
    "<font face=\"vazir\" size=3>\n",
    "  حال با استفاده از\n",
    "  <code>pd.concat </code>\n",
    "  و دو سری ساخته شده یک دیتافریم \n",
    "  به نام \n",
    "  <code> system </code>\n",
    "  بسازید.\n",
    "</font>\n",
    "</p>\n"
   ]
  },
  {
   "cell_type": "code",
   "execution_count": 10,
   "id": "b0be926a",
   "metadata": {},
   "outputs": [],
   "source": [
    "system = pd.concat([hardware_1 , hardware_2] , axis=1)\n",
    "system"
   ]
  },
  {
   "cell_type": "markdown",
   "id": "61a7fa5e",
   "metadata": {},
   "source": [
    "<p dir=rtl style=\"direction: rtl;text-align: right;line-height:200%;font-family:vazir;font-size:medium\">\n",
    "<font face=\"vazir\" size=3>\n",
    "خروجی کد خودتان را با جدول زیر مقایسه کنید.\n",
    "</font>\n",
    "</p>"
   ]
  },
  {
   "cell_type": "markdown",
   "id": "7bbdc860",
   "metadata": {},
   "source": [
    "|     | hardware_1 | hardware_2 |\n",
    "|:---:|:----------:|:----------:|\n",
    "| Ram |    DDR5    |    DDR4    |\n",
    "| Cpu |   Corei9   |   Corei7   |\n",
    "| Gpu |   RTX3090  |   RTX3060  |"
   ]
  },
  {
   "cell_type": "markdown",
   "id": "0cfb0014-d721-4553-8dc1-cccd2255fc4e",
   "metadata": {},
   "source": [
    "<p dir=rtl style=\"direction: rtl;text-align: right;line-height:200%;font-family:vazir;font-size:medium\">\n",
    "<font face=\"vazir\" size=3>\n",
    "   همراه با فایل تمرین\n",
    "    دیتاست\n",
    "    <code> apps.csv </code>\n",
    "    را نیز دریافت میکنید.\n",
    "    آن را با \n",
    "    <code> pd.read_csv </code>\n",
    "    بخوانید و در \n",
    "    <code> data </code>\n",
    "    ذخیره کنید.\n",
    "</font>\n",
    "</p>\n"
   ]
  },
  {
   "cell_type": "code",
   "execution_count": 4,
   "id": "4fb7a210-21d9-4319-95ce-aa4933b6b221",
   "metadata": {},
   "outputs": [],
   "source": [
    "data = pd.read_csv('apps.csv')"
   ]
  },
  {
   "cell_type": "markdown",
   "id": "3afa989f-0ce2-4adb-bba6-95d9ad86c320",
   "metadata": {},
   "source": [
    "<p dir=rtl style=\"direction: rtl;text-align: right;line-height:200%;font-family:vazir;font-size:medium\">\n",
    "<font face=\"vazir\" size=3>\n",
    "   برای اینکه بدانیم دیتاست ما از چند سطر و ستون تشکیل شده است میتوانیم\n",
    "    <code> shape </code>\n",
    "    آن را چاپ کنیم.\n",
    "</font>\n",
    "</p>\n"
   ]
  },
  {
   "cell_type": "code",
   "execution_count": 27,
   "id": "af9986ec-be11-478c-9bbe-991a135da5b1",
   "metadata": {},
   "outputs": [
    {
     "data": {
      "text/plain": [
       "(9659, 14)"
      ]
     },
     "execution_count": 27,
     "metadata": {},
     "output_type": "execute_result"
    }
   ],
   "source": [
    "data.shape"
   ]
  },
  {
   "cell_type": "markdown",
   "id": "082907ca-6ba8-46c5-b308-92eef6f6b802",
   "metadata": {},
   "source": [
    "<h1 align=right style=\"line-height:150%;font-family:vazir;color:#0099cc\">\n",
    "<font face=\"vazir\" color=\"#0099cc\"> \n",
    "    نمایه سازی(indexing) ،انتخاب و تخصیص\n",
    "</font>\n",
    "</h1>"
   ]
  },
  {
   "cell_type": "markdown",
   "id": "3e339f96-5795-49da-828c-2926e8d2c637",
   "metadata": {},
   "source": [
    "<p dir=rtl style=\"direction: rtl;text-align: right;line-height:200%;font-family:vazir;font-size:medium\">\n",
    "<font face=\"vazir\" size=3>\n",
    "   در ادامه تمارین با دیتای\n",
    "    <code> Apps.csv </code>\n",
    "کار میکنیم که شامل بیش \n",
    "از نه هزار داده مربوط به اپلیکیشن های موجود در\n",
    "<code> Google Play </code>\n",
    "هست.\n",
    "</font>\n",
    "</p>\n"
   ]
  },
  {
   "cell_type": "markdown",
   "id": "e942534b-5a6f-4dbf-867a-8d67b3736e98",
   "metadata": {},
   "source": [
    "<p><img src=\"https://i.postimg.cc/bvbG73gn/google-play-store.webp\" alt=\"Google Play logo\"></p>"
   ]
  },
  {
   "cell_type": "markdown",
   "id": "5c6beefe-3fa6-461e-8c9c-d78d3eea4651",
   "metadata": {},
   "source": [
    "<p dir=rtl style=\"direction: rtl;text-align: right;line-height:200%;font-family:vazir;font-size:medium\">\n",
    "<font face=\"vazir\" size=3>\n",
    "   ده سطر اول دیتاست را با استفاده \n",
    "    <code> head </code>\n",
    "    چاپ کنید.\n",
    "</font>\n",
    "</p>\n"
   ]
  },
  {
   "cell_type": "code",
   "execution_count": null,
   "id": "29843338-fc70-41bc-bd27-104f469598f2",
   "metadata": {},
   "outputs": [],
   "source": [
    "data.head(10)"
   ]
  },
  {
   "cell_type": "markdown",
   "id": "0039857e-e8d4-4227-804b-1bb60309c84d",
   "metadata": {},
   "source": [
    "<p dir=rtl style=\"direction: rtl;text-align: right;line-height:200%;font-family:vazir;font-size:medium\">\n",
    "<font face=\"vazir\" size=3>\n",
    "  همانطور که میبینید اسم یکی\n",
    "    از ستون ها\n",
    "    <code> Unnamed :0 </code>\n",
    "    است.آن را با استفاده از تابع\n",
    "    <code> drop </code>\n",
    "    حذف کنید.\n",
    "</font>\n",
    "</p>\n"
   ]
  },
  {
   "cell_type": "code",
   "execution_count": null,
   "id": "0097220c-c7c6-4869-abf7-ab6651e84c7e",
   "metadata": {},
   "outputs": [],
   "source": [
    "data.drop('Unnamed: 0' , axis=1 , inplace=True)"
   ]
  },
  {
   "cell_type": "markdown",
   "id": "7b322758-e9e7-42c0-9048-9cdb3f4d9c92",
   "metadata": {},
   "source": [
    "<p dir=rtl style=\"direction: rtl;text-align: right;line-height:200%;font-family:vazir;font-size:medium\">\n",
    "<font face=\"vazir\" size=3>\n",
    "   ستون\n",
    "    <code> Rating </code>\n",
    "    دیتاست را در\n",
    "    متغیر\n",
    "    <code> ratings </code>\n",
    "    ذخیره کنید.\n",
    "</font>\n",
    "</p>\n"
   ]
  },
  {
   "cell_type": "code",
   "execution_count": null,
   "id": "d1b6c585-873e-4fc7-8f69-e5f5f6fbbb03",
   "metadata": {},
   "outputs": [],
   "source": [
    "ratings = data['Rating']\n",
    "type(ratings)"
   ]
  },
  {
   "cell_type": "markdown",
   "id": "11a62bb7-820d-4b0a-abc9-3ef01b4bbfb0",
   "metadata": {},
   "source": [
    "<p dir=rtl style=\"direction: rtl;text-align: right;line-height:200%;font-family:vazir;font-size:medium\">\n",
    "<font face=\"vazir\" size=3>\n",
    "  با استفاده از\n",
    "    <code> iloc </code>\n",
    "    سطر دهم دیتاست \n",
    "    را چاپ کنید\n",
    "</font>\n",
    "</p>\n"
   ]
  },
  {
   "cell_type": "code",
   "execution_count": null,
   "id": "c412d7ed-8b1d-467f-98f9-a111f90f38a8",
   "metadata": {},
   "outputs": [],
   "source": [
    "data.iloc[9, :]"
   ]
  },
  {
   "cell_type": "markdown",
   "id": "06bb4906-e566-4e15-84ba-1a24a9c86257",
   "metadata": {},
   "source": [
    "<p dir=rtl style=\"direction: rtl;text-align: right;line-height:200%;font-family:vazir;font-size:medium\">\n",
    "<font face=\"vazir\" size=3>\n",
    "  سطر دهم دیتاست به شکل زیر است:\n",
    "    \n",
    "</font>\n",
    "</p>\n"
   ]
  },
  {
   "cell_type": "markdown",
   "id": "31036140-6078-4f12-b110-07e7f8e18a54",
   "metadata": {},
   "source": [
    "|   |              App              |    Category    | Rating | Reviews | Size | Installs | Type | Price | Content Rating | Genres                  | Last Updated | Current Ver | Android Ver  |\n",
    "|:-:|:-----------------------------:|:--------------:|--------|---------|------|----------|------|-------|----------------|-------------------------|--------------|-------------|--------------|\n",
    "| 9 | Kids Paint Free - Drawing Fun | ART_AND_DESIGN | 4.7    | 121     | 3.1  | 10,000+  | Free | 0     | Everyone       | Art & Design;Creativity | July 3, 2018 | 2.8         | 4.0.3 and up |"
   ]
  },
  {
   "cell_type": "markdown",
   "id": "b140f24c-5e03-4932-86e1-b9d517094781",
   "metadata": {},
   "source": [
    "<p dir=rtl style=\"direction: rtl;text-align: right;line-height:200%;font-family:vazir;font-size:medium\">\n",
    "<font face=\"vazir\" size=3>\n",
    " حالا با استفاده از\n",
    "    <code> iloc </code>\n",
    "    محتوای ستون\n",
    "    <code> Rating </code>\n",
    "    را بدست آورید.\n",
    "</font>\n",
    "</p>"
   ]
  },
  {
   "cell_type": "markdown",
   "id": "1d5c92cf-2e2a-44a5-b142-537e315f5504",
   "metadata": {},
   "source": [
    "<p dir=rtl style=\"direction: rtl;text-align: right;line-height:200%;font-family:vazir;font-size:medium\">\n",
    "<font face=\"vazir\" size=3>\n",
    "    <b> \n",
    "    راهنمایی:\n",
    "    </b>\n",
    "      ابتدا لازم است\n",
    "    اندیس ستون\n",
    "    <code> Rating </code>\n",
    "    را حساب کنید سپس داخل براکت را طوری پر کنید که همه سطر ها و شماره‌ی ستون\n",
    "    <code> Rating </code>\n",
    "    را انتخاب کند.\n",
    "  </font>\n",
    "</p>"
   ]
  },
  {
   "cell_type": "code",
   "execution_count": null,
   "id": "18fb2690-e3a5-43d6-a7e6-bd03654f1470",
   "metadata": {},
   "outputs": [],
   "source": [
    "data.iloc[: , 2]"
   ]
  },
  {
   "cell_type": "markdown",
   "id": "e9b0a8e1-8997-4405-bda3-f82e6cbc5fa8",
   "metadata": {},
   "source": [
    "<p dir=rtl style=\"direction: rtl;text-align: right;line-height:200%;font-family:vazir;font-size:medium\">\n",
    "<font face=\"vazir\" size=3>\n",
    "میتوانید نتایج چاپ شده را با \n",
    "    <code> ratings </code>\n",
    "    مقایسه کنید.\n",
    "</font>\n",
    "</p>"
   ]
  },
  {
   "cell_type": "markdown",
   "id": "d2358a8b-88f3-40ee-94d4-d27f2e153749",
   "metadata": {},
   "source": [
    "<p dir=rtl style=\"direction: rtl;text-align: right;line-height:200%;font-family:vazir;font-size:medium\">\n",
    "<font face=\"vazir\" size=3>\n",
    " کد سوال قبلی را طوری تغییر دهید که مقدار ستون\n",
    "    <code> Ratings </code>\n",
    "    را برای سطر های ششم تا بیستم به دست آورد.\n",
    "</font>\n",
    "</p>"
   ]
  },
  {
   "cell_type": "code",
   "execution_count": null,
   "id": "67b71ed0-3deb-4ee2-858d-78759df43def",
   "metadata": {},
   "outputs": [],
   "source": [
    "data.iloc[5 : 20 , 2]"
   ]
  },
  {
   "cell_type": "markdown",
   "id": "92d2fcab-2021-443b-ad8f-3e916b5e1bdd",
   "metadata": {},
   "source": [
    "<p dir=rtl style=\"direction: rtl;text-align: right;line-height:200%;font-family:vazir;font-size:medium\">\n",
    "<font face=\"vazir\" size=3>\n",
    "مقادیر ستون های مشخص شده در لیست\n",
    "    <code> cols </code>\n",
    "    را برای همه سطر ها با استفاده از\n",
    "    <code> loc </code>\n",
    "    به دست آورید.\n",
    "</font>\n",
    "</p>"
   ]
  },
  {
   "cell_type": "code",
   "execution_count": null,
   "id": "81221f93-3865-4492-8d1a-5c098a0d7c04",
   "metadata": {},
   "outputs": [],
   "source": [
    "cols = [\"Category\" , \"Reviews\"]\n",
    "data.loc[: , cols]"
   ]
  },
  {
   "cell_type": "markdown",
   "id": "044c5c4f-6406-455a-80dc-7539cbe05354",
   "metadata": {},
   "source": [
    "<p dir=rtl style=\"direction: rtl;text-align: right;line-height:200%;font-family:vazir;font-size:medium\">\n",
    "<font face=\"vazir\" size=3>\n",
    "    مقدار ستون\n",
    "    <code> Type </code>\n",
    "    در سطر با اندیس\n",
    "    <code> 130 </code>\n",
    "    را به دست آورید.\n",
    "</font>\n",
    "</p>"
   ]
  },
  {
   "cell_type": "code",
   "execution_count": 29,
   "id": "2cc156b2-5abd-4815-af95-e530fe550c30",
   "metadata": {},
   "outputs": [
    {
     "data": {
      "text/plain": [
       "'Free'"
      ]
     },
     "execution_count": 29,
     "metadata": {},
     "output_type": "execute_result"
    }
   ],
   "source": [
    "data.loc[129, \"Type\"]"
   ]
  },
  {
   "cell_type": "markdown",
   "id": "db6ed9f3-920b-4853-9a72-69bfa7bc7ae1",
   "metadata": {},
   "source": [
    "<p dir=rtl style=\"direction: rtl;text-align: right;line-height:200%;font-family:vazir;font-size:medium\">\n",
    "<font face=\"vazir\" size=3>\n",
    "    یک سری بولی به نام\n",
    "    <code> is_free </code>\n",
    "    بسازید به طوری که برای اپلیکیشن های رایگان\n",
    "    <code> True </code>\n",
    "    باشد و برای بقیه\n",
    "    <code> False </code>\n",
    "</font>\n",
    "</p>"
   ]
  },
  {
   "cell_type": "markdown",
   "id": "b839a9a1-1437-4522-a16a-462694065971",
   "metadata": {},
   "source": [
    "<p dir=rtl style=\"direction: rtl;text-align: right;line-height:200%;font-family:vazir;font-size:medium\">\n",
    "<font face=\"vazir\" size=3>\n",
    "    <b> \n",
    "    راهنمایی:\n",
    "    </b>\n",
    "مقدار ستون\n",
    "    <code> Type </code>\n",
    "    برای اپلیکیشن های رایگان\n",
    "    <code> Free </code>\n",
    "    است.\n",
    "  </font>\n",
    "</p>"
   ]
  },
  {
   "cell_type": "code",
   "execution_count": null,
   "id": "5f8cc8eb-7d74-4b2a-94a5-aa500afad053",
   "metadata": {},
   "outputs": [],
   "source": [
    "is_free = data.loc[  :  , \"Type\"] == \"Free\"\n",
    "is_free"
   ]
  },
  {
   "cell_type": "markdown",
   "id": "ca247e6c-b10e-47b8-82b5-06029e958dc9",
   "metadata": {},
   "source": [
    "<p dir=rtl style=\"direction: rtl;text-align: right;line-height:200%;font-family:vazir;font-size:medium\">\n",
    "<font face=\"vazir\" size=3>\n",
    "   حالا با استفاده از \n",
    "    <code> is_free </code>\n",
    "    اپلیکیشن های رایگان راانتخاب کنید.\n",
    "</font>\n",
    "</p>"
   ]
  },
  {
   "cell_type": "code",
   "execution_count": null,
   "id": "c8e085b0-0cc4-4e95-81a0-55c6bc624468",
   "metadata": {},
   "outputs": [],
   "source": [
    "data.loc[is_free]"
   ]
  },
  {
   "cell_type": "markdown",
   "id": "003b07f8-73f5-4a84-bb01-b85d9b148a3b",
   "metadata": {},
   "source": [
    "<p dir=rtl style=\"direction: rtl;text-align: right;line-height:200%;font-family:vazir;font-size:medium\">\n",
    "<font face=\"vazir\" size=3>\n",
    " مشابه سری\n",
    "    <code> is_free </code>\n",
    "    سری \n",
    "    <code> most_rated </code>\n",
    "    تعریف کنید به طوری که برای\n",
    "    اپلیکیشن هایی که \n",
    "    مقدار ستون\n",
    "    <code> Rating </code>\n",
    "    در آن ها\n",
    "    بیشتر از\n",
    "    <code> 4 </code>\n",
    "    است \n",
    "    <code> True </code>\n",
    "    باشد و برای بقیه\n",
    "    <code> False </code>\n",
    "</font>\n",
    "</p>"
   ]
  },
  {
   "cell_type": "code",
   "execution_count": null,
   "id": "e8c3a8c4-5af2-4342-92d0-4b496be5c19f",
   "metadata": {},
   "outputs": [],
   "source": [
    "most_rated = data.loc[:, \"Rating\"] > 4"
   ]
  },
  {
   "cell_type": "markdown",
   "id": "906b1d80-0907-4b85-a359-33b910afeba6",
   "metadata": {},
   "source": [
    "<p dir=rtl style=\"direction: rtl;text-align: right;line-height:200%;font-family:vazir;font-size:medium\">\n",
    "<font face=\"vazir\" size=3>\n",
    " حالا میتوانیم با استفاده از سری های \n",
    "    <code> most_rated </code>\n",
    "    و\n",
    "    <code> is_free </code>\n",
    "    اپلیکیشن هایی که رایگان هستند و \n",
    "    <code> Rating </code>\n",
    "    بالاتر از \n",
    "    <code> 4 </code>\n",
    "    دارند را انتخاب کنیم.\n",
    "</font>\n",
    "</p>"
   ]
  },
  {
   "cell_type": "code",
   "execution_count": null,
   "id": "0b17b9f6-68d3-4a36-8ca9-65c45317b8ea",
   "metadata": {},
   "outputs": [],
   "source": [
    "data.loc[(most_rated) & (is_free)]]"
   ]
  },
  {
   "cell_type": "markdown",
   "id": "427b6419-bd0b-4ac0-9193-a0a4f2d6dd7a",
   "metadata": {},
   "source": [
    "<p dir=rtl style=\"direction: rtl;text-align: right;line-height:200%;font-family:vazir;font-size:medium\">\n",
    "<font face=\"vazir\" size=3>\n",
    "    <b> \n",
    "    توجه :\n",
    "    </b>\n",
    "به عملکرد عملگر\n",
    "    <code> & </code>\n",
    "    دقت کنید.این عملگر معادل\n",
    "    <code> and </code>\n",
    "    در شرط های پایتون است.\n",
    "    بنابراین در پانداز نمیتوانیم از\n",
    "    <code>and</code>\n",
    "    و\n",
    "    <code>or</code>\n",
    "    استفاده کنیم.\n",
    "  </font>\n",
    "</p>"
   ]
  },
  {
   "cell_type": "markdown",
   "id": "4ed1423c-f885-488d-be20-084f9345d211",
   "metadata": {},
   "source": [
    "<p dir=rtl style=\"direction: rtl;text-align: right;line-height:200%;font-family:vazir;font-size:medium\">\n",
    "<font face=\"vazir\" size=3>\n",
    " مشابه کد بالا و با استفاده از عملگر\n",
    "    <code> | </code>\n",
    "    <code> (shift + \\) </code>\n",
    "    سطر هایی را انتخاب کنید که یا رایگان هستند و یا\n",
    "    <code> Rating </code>\n",
    "    آن ها بیشتر از \n",
    "    <code> 4 </code>\n",
    "    است را انتخاب کنید.\n",
    "</font>\n",
    "</p>"
   ]
  },
  {
   "cell_type": "code",
   "execution_count": null,
   "id": "ed04ea2b-c9c8-4738-9686-91a1fa471e90",
   "metadata": {},
   "outputs": [],
   "source": [
    "data.loc[(is_free) | (most_rated)]"
   ]
  },
  {
   "cell_type": "markdown",
   "id": "3e61a1e4-407d-4031-84c3-d721a26ea10a",
   "metadata": {},
   "source": [
    "<p dir=rtl style=\"direction: rtl;text-align: right;line-height:200%;font-family:vazir;font-size:medium\">\n",
    "<font face=\"vazir\" size=3>\n",
    "   با استفاده از تابع\n",
    "    <code> loc </code>\n",
    "    دیتافریم \n",
    "    <code> df </code>\n",
    "    را طوری بسازید که شامل ستون های \n",
    "    <code> App , Category , Review , Type </code>\n",
    "  و سطر با اندیس های  \n",
    "    <code> 1 , 10 , 100 , 1000 </code>\n",
    "    از\n",
    "    <code> data </code>\n",
    "    باشد.\n",
    "  </font>\n",
    "</p>"
   ]
  },
  {
   "cell_type": "code",
   "execution_count": null,
   "id": "a3456a6f-f6dc-4adb-a410-b0f5a0603307",
   "metadata": {},
   "outputs": [],
   "source": [
    "indexs = [1, 10, 100, 1000]\n",
    "columns = [\"App\", \"Category\", \"Reviews\", \"Type\"]\n",
    "df = data.loc[indexs , columns]"
   ]
  },
  {
   "cell_type": "markdown",
   "id": "9c0b14db-e32c-41e8-a44e-77e0c8c0d9af",
   "metadata": {},
   "source": [
    "<h1 align=right style=\"line-height:150%;font-family:vazir;color:#0099cc\">\n",
    "<font face=\"vazir\" color=\"#0099cc\"> \n",
    "    توابع تجمعی در پانداز\n",
    "</font>\n",
    "</h1>"
   ]
  },
  {
   "cell_type": "markdown",
   "id": "469621e9-4a60-429f-829d-7112927acbe7",
   "metadata": {},
   "source": [
    "<p dir=rtl style=\"direction: rtl;text-align: right;line-height:200%;font-family:vazir;font-size:medium\">\n",
    "<font face=\"vazir\" size=3>\n",
    "   با استفاده از متد\n",
    "    <code> mean </code>\n",
    "    میانگین ستون\n",
    "    <code> Size </code>\n",
    "    در \n",
    "    <code> data </code>\n",
    "    را محاسبه و در\n",
    "    <code> size_mean </code>\n",
    "    ذخیره کنید.\n",
    "  </font>\n",
    "</p>"
   ]
  },
  {
   "cell_type": "code",
   "execution_count": null,
   "id": "c61c231e-4b1b-4475-9543-0c24d0a016ef",
   "metadata": {},
   "outputs": [],
   "source": [
    "size_mean = data[\"Size\"].mean()"
   ]
  },
  {
   "cell_type": "markdown",
   "id": "f7065a44-211e-4a5b-aef8-9000bdbfca84",
   "metadata": {},
   "source": [
    "<p dir=rtl style=\"direction: rtl;text-align: right;line-height:200%;font-family:vazir;font-size:medium\">\n",
    "<font face=\"vazir\" size=3>\n",
    "   سری به نام\n",
    "    <code> centered_size </code>\n",
    "   بسازید که شامل تفاضل مقادیر\n",
    "   ستون \n",
    "   <code> Size </code>\n",
    "   و متغیر\n",
    "   <code> size_mean </code>\n",
    "   باشد.\n",
    "  </font>\n",
    "</p>"
   ]
  },
  {
   "cell_type": "code",
   "execution_count": null,
   "id": "071ca73f-a0c4-4e19-ab1e-341585c8dcf0",
   "metadata": {},
   "outputs": [],
   "source": [
    "centered_size = data[\"Size\"] - size_mean"
   ]
  },
  {
   "cell_type": "markdown",
   "id": "08072b95",
   "metadata": {},
   "source": [
    "<p dir=rtl style=\"direction: rtl;text-align: right;line-height:200%;font-family:vazir;font-size:medium\">\n",
    "<font face=\"vazir\" size=3>\n",
    "   تعداد مقادیر یکتای موجود در ستون\n",
    "   <code>Category</code>\n",
    "   را به دست آورید.\n",
    "  </font>\n",
    "</p>"
   ]
  },
  {
   "cell_type": "code",
   "execution_count": null,
   "id": "932c851b",
   "metadata": {},
   "outputs": [],
   "source": [
    "data[\"Category\"].unique()"
   ]
  },
  {
   "cell_type": "markdown",
   "id": "d52146dd-0f7f-4b73-a050-cb9c921a87c1",
   "metadata": {},
   "source": [
    "<p dir=rtl style=\"direction: rtl;text-align: right;line-height:200%;font-family:vazir;font-size:medium\">\n",
    "<font face=\"vazir\" size=3>\n",
    "   مقادیر یکتای ستون\n",
    "    <code> Category </code>\n",
    "    را به دست آورید.\n",
    "  </font>\n",
    "</p>"
   ]
  },
  {
   "cell_type": "markdown",
   "id": "ce1bd945-6659-412d-9c04-a1d033ab2447",
   "metadata": {},
   "source": [
    "<p dir=rtl style=\"direction: rtl;text-align: right;line-height:200%;font-family:vazir;font-size:medium\">\n",
    "<font face=\"vazir\" size=3>\n",
    "    <b> \n",
    "    راهنمایی:\n",
    "    </b>\n",
    "از متد\n",
    "    <code> unique </code>\n",
    "    استفاده کنید.\n",
    "  </font>\n",
    "</p>"
   ]
  },
  {
   "cell_type": "markdown",
   "id": "39102f87",
   "metadata": {},
   "source": [
    "categories = data[\"Category\"].unique()"
   ]
  },
  {
   "cell_type": "markdown",
   "id": "d1c4284e",
   "metadata": {},
   "source": [
    "<p dir=rtl style=\"direction: rtl;text-align: right;line-height:200%;font-family:vazir;font-size:medium\">\n",
    "<font face=\"vazir\" size=3>\n",
    "   حال تعیین کنید هر دسته در ستون\n",
    "   <code>Category</code>\n",
    "   چند بار دیده شده است.\n",
    "  </font>\n",
    "</p>"
   ]
  },
  {
   "cell_type": "code",
   "execution_count": null,
   "id": "551cc10f",
   "metadata": {},
   "outputs": [],
   "source": [
    "data[\"Category\"].value_counts()"
   ]
  },
  {
   "cell_type": "markdown",
   "id": "0741e13c-d54b-4c91-811e-0f237ff74445",
   "metadata": {},
   "source": [
    "<p dir=rtl style=\"direction: rtl;text-align: right;line-height:200%;font-family:vazir;font-size:medium\">\n",
    "<font face=\"vazir\" size=3>\n",
    "  ستون \n",
    "    <code> Genres </code>\n",
    "    دسته بندی اپلیکیشن ها را مشخص میکند.یک اپلیکیشن ممکن است متعلق به چند دسته باشد.\n",
    "    یک سری بولی به نام \n",
    "    <code> has_creativity </code>\n",
    "    بسازید که برای اپلیکیشن هایی که رشته\n",
    "    <code> \"Creativity\" </code>\n",
    "    را در ستون \n",
    "    <code>Genres</code>\n",
    "    دارند مقدار \n",
    "    <code>True</code>\n",
    "    و برای بقیه مقدار\n",
    "    <code>False</code>\n",
    "    داشته باشد.\n",
    "  </font>\n",
    "</p>"
   ]
  },
  {
   "cell_type": "code",
   "execution_count": null,
   "id": "951eac55-de76-48a9-9f6a-29dc97822b47",
   "metadata": {},
   "outputs": [],
   "source": [
    "has_creativity = data.loc[: , \"Genres\"].apply(lambda genre : genre.find(\"Creativity\") != -1)\n",
    "has_creativity"
   ]
  },
  {
   "cell_type": "markdown",
   "id": "532c0c2e-9f06-40b2-8ef6-9a6da41f80a0",
   "metadata": {},
   "source": [
    "<p dir=rtl style=\"direction: rtl;text-align: right;line-height:200%;font-family:vazir;font-size:medium\">\n",
    "<font face=\"vazir\" size=3>\n",
    "   راه حل کوتاه تر سوال فوق به این صورت است:\n",
    "  </font>\n",
    "</p>"
   ]
  },
  {
   "cell_type": "code",
   "execution_count": null,
   "id": "39dab27c-be4c-469a-9aed-dd7e94433b4c",
   "metadata": {},
   "outputs": [],
   "source": [
    "has_creativity = data[\"Genres\"].str.contains(\"Creativity\")"
   ]
  },
  {
   "cell_type": "markdown",
   "id": "2a2972dd-4b2a-4339-bf8c-128b66989bed",
   "metadata": {},
   "source": [
    "<h1 align=right style=\"line-height:150%;font-family:vazir;color:#0099cc\">\n",
    "<font face=\"vazir\" color=\"#0099cc\"> \n",
    "    انواع داده ها و داده های گمشده\n",
    "</font>\n",
    "</h1>"
   ]
  },
  {
   "cell_type": "markdown",
   "id": "c12d1fcd-854d-4590-bcb3-f1129b183cd6",
   "metadata": {},
   "source": [
    "<p dir=rtl style=\"direction: rtl;text-align: right;line-height:200%;font-family:vazir;font-size:medium\">\n",
    "<font face=\"vazir\" size=3>\n",
    "   با استفاده از ویژگی\n",
    "    <code> dtype </code>\n",
    "    نوع داده ستون\n",
    "    <code> Installs </code>\n",
    "    را به دست آورید.\n",
    "  </font>\n",
    "</p>"
   ]
  },
  {
   "cell_type": "code",
   "execution_count": null,
   "id": "b9aefde2-bc9b-40d7-80d7-136e46468d14",
   "metadata": {},
   "outputs": [],
   "source": [
    "data[\"Installs\"].dtype"
   ]
  },
  {
   "cell_type": "markdown",
   "id": "b7885ce9-74f8-4190-8222-ffb1cc5a09b1",
   "metadata": {},
   "source": [
    "<p dir=rtl style=\"direction: rtl;text-align: right;line-height:200%;font-family:vazir;font-size:medium\">\n",
    "<font face=\"vazir\" size=3>\n",
    "   ستون \n",
    "    <code> Installs </code>\n",
    "    تعداد نصب های یک اپلیکیشن را نشان میدهد و بهتر است نوع آن \n",
    "    عددی باشد.\n",
    "     برای تبدیل آن به عدد ابتدا کاراکتر های اضافی\n",
    "     <code> + </code>\n",
    "     و\n",
    "     <code> , </code>\n",
    "     را حذف میکنیم.\n",
    "  </font>\n",
    "</p>"
   ]
  },
  {
   "cell_type": "markdown",
   "id": "213a0fae",
   "metadata": {},
   "source": [
    "<p dir=rtl style=\"direction: rtl;text-align: right;line-height:200%;font-family:vazir;font-size:medium\">\n",
    "<font face=\"vazir\" size=3>\n",
    "    <b> \n",
    "    راهنمایی:\n",
    "    </b>\n",
    "    برای حذف کاراکتر های اضافی از متد\n",
    "    <code> replace </code>\n",
    "    در پایتون استفاده کنید.\n",
    "  </font>\n",
    "</p>"
   ]
  },
  {
   "cell_type": "code",
   "execution_count": 5,
   "id": "5d41c490-db61-4096-9e4d-f5f79f357696",
   "metadata": {},
   "outputs": [],
   "source": [
    "chars_to_remove = [\"+\" , \",\"]\n",
    "for char in chars_to_remove:\n",
    "    data[\"Installs\"] = data[\"Installs\"].apply(lambda x: x.replace(char, ''))"
   ]
  },
  {
   "cell_type": "markdown",
   "id": "7f350c67-2b06-4f6a-a50b-e642676744f2",
   "metadata": {},
   "source": [
    "<p dir=rtl style=\"direction: rtl;text-align: right;line-height:200%;font-family:vazir;font-size:medium\">\n",
    "<font face=\"vazir\" size=3>\n",
    "  حالا میتوانیم با تابع\n",
    "    <code> astype </code>\n",
    "    نوع داده ستون\n",
    "    <code> Installs </code>\n",
    "    را به \n",
    "    <code>int</code>\n",
    "    تغییر دهیم.\n",
    "  </font>\n",
    "</p>"
   ]
  },
  {
   "cell_type": "code",
   "execution_count": 6,
   "id": "05785c7a-b120-4625-a9e8-4bbb83319c7e",
   "metadata": {},
   "outputs": [],
   "source": [
    "data[\"Installs\"] = data[\"Installs\"].astype(int)"
   ]
  },
  {
   "cell_type": "markdown",
   "id": "5aad6ccc-f3ab-403f-8a66-5e33becea823",
   "metadata": {},
   "source": [
    "<p dir=rtl style=\"direction: rtl;text-align: right;line-height:200%;font-family:vazir;font-size:medium\">\n",
    "<font face=\"vazir\" size=3>\n",
    "  با اجرای کد زیر تعداد\n",
    "    داده های گمشده در ستون\n",
    "    <code> Rating </code>\n",
    "    را به دست می آوریم.\n",
    "  </font>\n",
    "</p>"
   ]
  },
  {
   "cell_type": "code",
   "execution_count": null,
   "id": "5c9de74a-83ff-4076-b8ed-56dcac93343e",
   "metadata": {},
   "outputs": [],
   "source": [
    "print(\"Number of missing values in Rating:\")\n",
    "print(data[\"Rating\"].isnull().sum())"
   ]
  },
  {
   "cell_type": "markdown",
   "id": "f54ade8a-e911-48cb-bc76-38a24d26d0ca",
   "metadata": {},
   "source": [
    "<p dir=rtl style=\"direction: rtl;text-align: right;line-height:200%;font-family:vazir;font-size:medium\">\n",
    "<font face=\"vazir\" size=3>\n",
    " با استفاده از تابع\n",
    "    <code>fillna</code>\n",
    "    مقادیر گمشده ستون\n",
    "    <code>Rating</code>\n",
    "    .را با عدد ثابت دلخواهی پرکنید\n",
    "  </font>\n",
    "</p>"
   ]
  },
  {
   "cell_type": "markdown",
   "id": "a463ccdb-de7d-4553-aafa-9af2400722a1",
   "metadata": {},
   "source": [
    "<p dir=rtl style=\"direction: rtl;text-align: right;line-height:200%;font-family:vazir;font-size:medium\">\n",
    "<font face=\"vazir\" size=3>\n",
    "    توصیه میشود عدد انتخابی برای پرکردن مقدار های گمشده \n",
    "    از \n",
    "    <b> میانگین </b>\n",
    "     یا \n",
    "    <b> میانه </b>\n",
    "    ستون موردنظر\n",
    "    استفاده کنید\n",
    "    .\n",
    "    </font>\n",
    "</p>"
   ]
  },
  {
   "cell_type": "code",
   "execution_count": null,
   "id": "334b16ca-7198-4cc2-9037-e6f50a425c38",
   "metadata": {},
   "outputs": [],
   "source": [
    "impute_value = data[\"Rating\"].mean()\n",
    "data[\"Rating\"].fillna(impute_value, inplace=True)"
   ]
  },
  {
   "cell_type": "markdown",
   "id": "6baff3a4-7b09-4d46-8ba8-235d725da441",
   "metadata": {},
   "source": [
    "<h1 align=right style=\"line-height:150%;font-family:vazir;color:#0099cc\">\n",
    "<font face=\"vazir\" color=\"#0099cc\"> \n",
    "    تغییر نام ستون ها و ترکیب دیتافریم ها\n",
    "</font>\n",
    "</h1>"
   ]
  },
  {
   "cell_type": "markdown",
   "id": "8e57bb37-6266-4a05-b0fa-2c3e47fac856",
   "metadata": {},
   "source": [
    "<p dir=rtl style=\"direction: rtl;text-align: right;line-height:200%;font-family:vazir;font-size:medium\">\n",
    "<font face=\"vazir\" size=3>\n",
    " برای تغییر اسم ستون در دیتافریم از \n",
    "    تابع\n",
    "    <code> rename </code>\n",
    "    استفاده میکنیم.\n",
    "  سلول زیر را طوری پرکنید که ستون \n",
    "  <code>Price</code>\n",
    "  در \n",
    "  <code> data </code>\n",
    "  را به\n",
    "  <code> Cost </code>\n",
    "  تغییر اسم دهد.\n",
    "  </font>\n",
    "</p>"
   ]
  },
  {
   "cell_type": "code",
   "execution_count": null,
   "id": "c2945f26-7277-43f9-a7e9-79cab82574a0",
   "metadata": {},
   "outputs": [],
   "source": [
    "data.rename(columns={'Price': \"Cost\"}, inplace=True)"
   ]
  },
  {
   "cell_type": "markdown",
   "id": "e5d72243-b16d-412f-bd4e-a1e9bf4a1659",
   "metadata": {},
   "source": [
    "<p dir=rtl style=\"direction: rtl;text-align: right;line-height:200%;font-family:vazir;font-size:medium\">\n",
    "<font face=\"vazir\" size=3>\n",
    "     با استفاده از داده های \n",
    "    <code> user_info </code>\n",
    "    دیتافریم به نام\n",
    "    <code> user_info_df </code>\n",
    "    بسازید.\n",
    "  </font>\n",
    "</p>"
   ]
  },
  {
   "cell_type": "code",
   "execution_count": 40,
   "id": "a6e397ab-0092-41ce-bba4-edfb0f95bc4d",
   "metadata": {},
   "outputs": [],
   "source": [
    "user_info = {'user_id': ['id001', 'id002', 'id003', 'id004', 'id005', 'id006', 'id007'],\n",
    "             'first_name': ['Rivi', 'Wynnie', 'Kristos', 'Madalyn', 'Tobe', 'Regan', 'Kristin'],\n",
    "             'last_name': ['Valti', 'McMurty', 'Ivanets', 'Max', 'Riddich', 'Huyghe', 'Illis'],\n",
    "            'email': ['rvalti0@example.com', 'wmcmurty1@example.com', 'kivanets2@example.com',\n",
    "                              'mmax3@example.com', 'triddich4@example.com', 'rhuyghe@example.com', 'killis4@example.com']\n",
    "                    }\n",
    "user_info_df = pd.DataFrame(user_info)"
   ]
  },
  {
   "cell_type": "markdown",
   "id": "36d4e420-d15f-4381-a83a-633e03b83f28",
   "metadata": {},
   "source": [
    "<p dir=rtl style=\"direction: rtl;text-align: right;line-height:200%;font-family:vazir;font-size:medium\">\n",
    "<font face=\"vazir\" size=3>\n",
    "     مشابه کد قبلی دیتافریم به اسم\n",
    "    <code> user_address_df </code>\n",
    "    با استفاده از\n",
    "    <code>user_address </code>\n",
    "    بسازید.\n",
    "  </font>\n",
    "</p>"
   ]
  },
  {
   "cell_type": "code",
   "execution_count": 41,
   "id": "302e3775-fb5b-4431-8188-d7cca6ef8f1e",
   "metadata": {},
   "outputs": [],
   "source": [
    "user_address = {'user_id': ['id001', 'id002', 'id003', 'id004', 'id005'],\n",
    "                'address': ['1245 Chicago Ave', '194 St Johns Rd',\n",
    "                            '291 Willow Greene Drive','1060 Isaacs Creek Road',\n",
    "                            '1428 Allison Avenue']\n",
    "                    }\n",
    "user_address_df = pd.DataFrame(user_address)"
   ]
  },
  {
   "cell_type": "markdown",
   "id": "dff5aee9-35d7-43da-ba29-d7b0ed72277f",
   "metadata": {},
   "source": [
    "<p dir=rtl style=\"direction: rtl;text-align: right;line-height:200%;font-family:vazir;font-size:medium\">\n",
    "<font face=\"vazir\" size=3>\n",
    "     دو دیتافریم ساخته شده را با \n",
    "    <code> pd.merge </code>\n",
    "    و ستون\n",
    "    <code> user_id </code>\n",
    "    به هم بچسبانید به طوری که دیتافریم حاصل فقط شامل مقادیری باشد که\n",
    "    <code> user_id </code>\n",
    "    آن ها در هر دو \n",
    "    <code> user_info_df </code>\n",
    "    و\n",
    "    <code> user_address_df </code>\n",
    "    ظاهر شده اند.\n",
    "  </font>\n",
    "</p>"
   ]
  },
  {
   "cell_type": "markdown",
   "id": "87aab71a-dc79-4090-abc6-9050217931ef",
   "metadata": {},
   "source": [
    "<p dir=rtl style=\"direction: rtl;text-align: right;line-height:200%;font-family:vazir;font-size:medium\">\n",
    "<font face=\"vazir\" size=3>\n",
    "    <b> \n",
    "    راهنمایی:\n",
    "    </b>\n",
    "     به مقدار \n",
    "    <code> how </code>\n",
    "    در \n",
    "    <code> pd.merge </code>\n",
    "    دقت کنید.\n",
    "  </font>\n",
    "</p>"
   ]
  },
  {
   "cell_type": "code",
   "execution_count": null,
   "id": "8433df0d-7f83-4f42-b714-01621a9cb3b1",
   "metadata": {},
   "outputs": [],
   "source": [
    "all_data = pd.merge(user_info_df , user_address_df , on=\"user_id\" , how=\"inner\")"
   ]
  },
  {
   "cell_type": "markdown",
   "id": "495b7711-0d0d-4755-9daa-e703de50d4a9",
   "metadata": {},
   "source": [
    "<p dir=rtl style=\"direction: rtl;text-align: right;line-height:200%;font-family:vazir;font-size:medium\">\n",
    "<font face=\"vazir\" size=3>\n",
    "     مقدار \n",
    "    <code>how</code>\n",
    "    را طوری تغییر دهید که در دیتافریم حاصل همه سطر های \n",
    "    <code> user_info_df </code>\n",
    "    را داشته باشد.\n",
    "  </font>\n",
    "</p>"
   ]
  },
  {
   "cell_type": "code",
   "execution_count": null,
   "id": "0a8ac604-49b0-496f-8e2b-081e8f4b1d90",
   "metadata": {},
   "outputs": [],
   "source": [
    "left_data = pd.merge(user_info_df , user_address_df , on=\"user_id\" , how=\"left\")"
   ]
  },
  {
   "cell_type": "markdown",
   "id": "c360a7ce-0ab6-495d-9b13-946e3abfc969",
   "metadata": {},
   "source": [
    "<p dir=rtl style=\"direction: rtl;text-align: right;line-height:200%;font-family:vazir;font-size:medium\">\n",
    "<font face=\"vazir\" size=3>\n",
    "    با استفاده از تابع\n",
    "    <code> set_index </code>\n",
    "    در دیتافریم های \n",
    "    <code> user_info_df </code>\n",
    "    و\n",
    "    <code> user_address_df </code>\n",
    "    اندیس را ستون\n",
    "    <code> user_id </code>\n",
    "    قرار دهید.\n",
    "  </font>\n",
    "</p>"
   ]
  },
  {
   "cell_type": "code",
   "execution_count": 42,
   "id": "c41734b7-a5b2-4918-bb8a-ece3ab54d84f",
   "metadata": {},
   "outputs": [],
   "source": [
    "user_info_df.set_index(\"user_id\" , inplace=True)\n",
    "user_address_df.set_index(\"user_id\" , inplace=True)"
   ]
  },
  {
   "cell_type": "markdown",
   "id": "3d39d755-2768-43a5-8ed3-cf13fa02984a",
   "metadata": {},
   "source": [
    "<p dir=rtl style=\"direction: rtl;text-align: right;line-height:200%;font-family:vazir;font-size:medium\">\n",
    "<font face=\"vazir\" size=3>\n",
    "    حالا با استفاده از \n",
    "    <code> pd.concat </code>\n",
    "    دیتافریم\n",
    "    <code> all_data_concat </code>\n",
    "    را بسازید که دقیقا با \n",
    "    <code> all_data </code>\n",
    "    برابر باشد.\n",
    "  </font>\n",
    "</p>"
   ]
  },
  {
   "cell_type": "code",
   "execution_count": 44,
   "id": "fd7adf12-4c58-4f31-b947-29e2b4c8e23f",
   "metadata": {},
   "outputs": [],
   "source": [
    "all_data_concat = pd.concat([user_info_df , user_address_df], axis=1, join=\"inner\")\n",
    "all_data_concat"
   ]
  },
  {
   "cell_type": "markdown",
   "id": "042de20b-7803-4dc2-91c7-cbbfaba07881",
   "metadata": {},
   "source": [
    "<h1 align=center style=\"line-height:100%;color:#0099cc\">\n",
    "3.Plotly\n",
    "</h1>"
   ]
  },
  {
   "cell_type": "markdown",
   "id": "4a16a7a8-50c9-4641-929f-f3aadba231e6",
   "metadata": {},
   "source": [
    "<p dir=rtl style=\"direction: rtl;text-align: right;line-height:200%;font-family:vazir;font-size:medium\">\n",
    "<font face=\"vazir\" size=3>\n",
    "    مثل کتابخانه های قبلی  با اضافه کردن \n",
    "    <code> plotly </code>\n",
    "    تمرین را شروع میکنیم.\n",
    "  </font>\n",
    "</p>"
   ]
  },
  {
   "cell_type": "code",
   "execution_count": 8,
   "id": "071f8147",
   "metadata": {},
   "outputs": [],
   "source": [
    "import plotly.express as px"
   ]
  },
  {
   "cell_type": "markdown",
   "id": "09341888",
   "metadata": {},
   "source": [
    "<p dir=rtl style=\"direction: rtl;text-align: right;line-height:200%;font-family:vazir;font-size:medium\">\n",
    "<font face=\"vazir\" size=3>\n",
    "    سرویس \n",
    "    <code>Google Play </code>\n",
    "    برای بهبود تجربه کلی جستجو اپلیکیشن ها را دسته بندی کرده است.این موضوع ما را به سوالات زیر می رساند:\n",
    "    <li dir=rtl style=\"text-align: right\"> کدام دسته بیشترین تعداد اپلیکیشن فعال در بازار را دارد؟ </li>\n",
    "    <li dir=rtl style=\"text-align: right\"> آیا بازار در اختیار دسته خاصی است؟</li>\n",
    "    <li dir=rtl style=\"text-align: right\">  کدام دسته ها کمترین تعداد اپلیکیشن را دارند؟  </li>\n",
    "  \n",
    "  </font>\n",
    "</p>"
   ]
  },
  {
   "cell_type": "markdown",
   "id": "558b5cff",
   "metadata": {},
   "source": [
    "<p dir=rtl style=\"direction: rtl;text-align: right;line-height:200%;font-family:vazir;font-size:medium\">\n",
    "<font face=\"vazir\" size=3>\n",
    "    برای یافتن پاسخ سوالات بالا سلول زیر را پر کنید!\n",
    "    در سلول زیر ابتدا تعداد رخداد هر دسته را محاسبه کنید سپس برای آن ها \n",
    "    نمودار میله ای بکشید.\n",
    "  </font>\n",
    "</p>"
   ]
  },
  {
   "cell_type": "code",
   "execution_count": null,
   "id": "58d25198-1e66-4fdb-98bc-9bacc96274e5",
   "metadata": {},
   "outputs": [],
   "source": [
    "# Count the number of apps in each 'Category'. \n",
    "num_apps_in_category = data[\"Category\"].value_counts()\n",
    "\n",
    "# Sort num_apps_in_category in descending order based on the count of apps in each category\n",
    "sorted_num_apps_in_category = num_apps_in_category.sort_values(ascending=False)\n",
    "\n",
    "bar_figure = px.bar(\n",
    "        x = num_apps_in_category.index, # index = category name\n",
    "        y = num_apps_in_category.values, # value = count\n",
    ")\n",
    "bar_figure.show()"
   ]
  },
  {
   "cell_type": "markdown",
   "id": "374363c8",
   "metadata": {},
   "source": [
    "<p dir=rtl style=\"direction: rtl;text-align: right;line-height:200%;font-family:vazir;font-size:medium\">\n",
    "<font face=\"vazir\" size=3>\n",
    "    حال میخواهیم ببینیم اپلیکیشن ها به طور متوسط چگونه عمل میکنند.برای بررسی عملکرد اپ ها سراغ ستون \n",
    "    <code> Rating </code>\n",
    "    میرویم.نمودار\n",
    "    <code> histigram </code>\n",
    "    این ستون را رسم کنید.\n",
    "  </font>\n",
    "</p>"
   ]
  },
  {
   "cell_type": "code",
   "execution_count": null,
   "id": "45ba5d0a",
   "metadata": {},
   "outputs": [],
   "source": [
    "# Distribution of apps according to their ratings\n",
    "hist_figure = px.histogram(\n",
    "        x = data[\"Rating\"]\n",
    ")\n",
    "# display plot\n",
    "hist_figure.show()"
   ]
  },
  {
   "cell_type": "markdown",
   "id": "2142e676",
   "metadata": {},
   "source": [
    "<p dir=rtl style=\"direction: rtl;text-align: right;line-height:200%;font-family:vazir;font-size:medium\">\n",
    "<font face=\"vazir\" size=3>\n",
    "    برنامه های موجود \n",
    "    در\n",
    "    <code> Google Play </code>\n",
    "    پنج استراتژی قیمت گذاری دارند که در این بخش ما فقط روی  دو استراتژی \n",
    "    <b> رایگان </b>\n",
    "    و\n",
    "    <b> پولی </b>\n",
    "    تمرکز میکنیم.\n",
    "    <li dir=rtl style=\"text-align: right\"> آیا اپلیکیشن های پولی به اندازه اپلیکیشن های رایگان نصب میشوند؟ </li>\n",
    "    <li dir=rtl style=\"text-align: right\"> تفاوت تعداد نصب بین دو گروه اپلیکشین های رایگان و پولی چقدر است؟ </li>\n",
    "  </font>\n",
    "</p>"
   ]
  },
  {
   "cell_type": "markdown",
   "id": "6ca5a6d6",
   "metadata": {},
   "source": [
    "<p dir=rtl style=\"direction: rtl;text-align: right;line-height:200%;font-family:vazir;font-size:medium\">\n",
    "<font face=\"vazir\" size=3>\n",
    "    برای یافتن جواب سوالات فوق نمودار جعبه ای رسم میکنیم به طوری که\n",
    "    محور\n",
    "    <code>x</code>\n",
    "    در آن پولی یا رایگان بودن اپلیکیشن را تعیین میکند و محور \n",
    "    <code>y</code>\n",
    "    نیز تعداد نصب ها نشان میدهد.\n",
    "  </font>\n",
    "</p>"
   ]
  },
  {
   "cell_type": "code",
   "execution_count": null,
   "id": "274ca4df",
   "metadata": {},
   "outputs": [],
   "source": [
    "box_figure = px.box(\n",
    "    data ,\n",
    "    x=\"Type\",\n",
    "    y=\"Installs\" ,\n",
    "    log_y=True ,\n",
    "    title=\"Number of downloads of paid apps vs. free apps\"\n",
    ")\n",
    "\n",
    "box_figure.show()"
   ]
  },
  {
   "cell_type": "markdown",
   "id": "deb3ed9e",
   "metadata": {},
   "source": [
    "<p dir=rtl style=\"direction: rtl;text-align: right;line-height:200%;font-family:vazir;font-size:medium\">\n",
    "<font face=\"vazir\" size=3>\n",
    " یکی از مواردی که قبل از نصب یک اپ به آن دقت میکنیم اندازه آن است!\n",
    "    این مورد ما را به این سوال سوق میدهد که اندازه اپ روی تعداد نصب آن چه تاثیری دارد؟\n",
    "    \n",
    "  </font>\n",
    "</p>"
   ]
  },
  {
   "cell_type": "markdown",
   "id": "b28ee9be",
   "metadata": {},
   "source": [
    "<p dir=rtl style=\"direction: rtl;text-align: right;line-height:200%;font-family:vazir;font-size:medium\">\n",
    "<font face=\"vazir\" size=3>\n",
    "برای بررسی سوال مطرح شده نمودار پراکندگی\n",
    "یا \n",
    "<code>scatter plot </code>\n",
    "دو ستون\n",
    "<code> Size </code> \n",
    "و\n",
    "<code> Installs </code>\n",
    "را رسم میکنیم.   \n",
    "  </font>\n",
    "</p>"
   ]
  },
  {
   "cell_type": "code",
   "execution_count": null,
   "id": "31717b83",
   "metadata": {},
   "outputs": [],
   "source": [
    "scatter_figure = px.scatter(data , x=\"Size\" , y=\"Installs\")\n",
    "scatter_figure.show()"
   ]
  },
  {
   "cell_type": "markdown",
   "id": "1df57e49",
   "metadata": {},
   "source": [
    "<h1 align=right style=\"line-height:150%;font-family:vazir;color:#0099cc\">\n",
    "<font face=\"vazir\" color=\"#0099cc\"> \n",
    "    تمرین امتیازی\n",
    "</font>\n",
    "</h1>"
   ]
  },
  {
   "cell_type": "markdown",
   "id": "06694fa8",
   "metadata": {},
   "source": [
    "<img src=\"https://i.postimg.cc/rw29Lz0W/housesbanner.png\" width=\"1400\">"
   ]
  },
  {
   "cell_type": "markdown",
   "id": "84f7ea09",
   "metadata": {},
   "source": [
    "<p dir=rtl style=\"direction: rtl;text-align: right;line-height:200%;font-family:vazir;font-size:medium\">\n",
    "<font face=\"vazir\" size=3>\n",
    "  تا اینجای کار با کتابخانه های لازم برای علم داده در زبان پایتون آشنا شده ایم.\n",
    "  حال در این بخش یک دیتاست به شما میدهیم و از شما میخواهیم با \n",
    "  <code>dtale</code>\n",
    "   داده ها را تحلیل و گزارشی از تحلیل خود آماده کنید.\n",
    "  </font>\n",
    "</p>"
   ]
  },
  {
   "cell_type": "markdown",
   "id": "db885d2e",
   "metadata": {},
   "source": [
    "<p dir=rtl style=\"direction: rtl;text-align: right;line-height:200%;font-family:vazir;font-size:medium\">\n",
    "<font face=\"vazir\" size=3>\n",
    "    <b>توضیحات :</b>\n",
    "    از یک خریدار خانه بخواهید که خانه رویایی خود را توصیف کند، و احتمالاً با تعداد اتاق خواب ها یا مساحت زیر بنا شروع میکند. اما مجموعه داده‌های این تمرین  ثابت می‌کند که مواردی هستند که بسیار بیشتر از تعداد اتاق‌خواب‌ها بر روی مذاکرات قیمت تأثیر می‌گذارد.\n",
    "  </font>\n",
    "</p>"
   ]
  },
  {
   "cell_type": "markdown",
   "id": "a107e561",
   "metadata": {},
   "source": [
    "<p dir=rtl style=\"direction: rtl;text-align: right;line-height:200%;font-family:vazir;font-size:medium\">\n",
    "<font face=\"vazir\" size=3>\n",
    "  داده های این تمرین در فایل\n",
    "  <code>House_prices</code>\n",
    "  موجود است.\n",
    "در ادامه به تحلیل داده ها بپردازید!\n",
    "  </font>\n",
    "</p>"
   ]
  },
  {
   "cell_type": "code",
   "execution_count": 51,
   "id": "baf9fd05",
   "metadata": {},
   "outputs": [
    {
     "data": {
      "text/html": [
       "<div>\n",
       "<style scoped>\n",
       "    .dataframe tbody tr th:only-of-type {\n",
       "        vertical-align: middle;\n",
       "    }\n",
       "\n",
       "    .dataframe tbody tr th {\n",
       "        vertical-align: top;\n",
       "    }\n",
       "\n",
       "    .dataframe thead th {\n",
       "        text-align: right;\n",
       "    }\n",
       "</style>\n",
       "<table border=\"1\" class=\"dataframe\">\n",
       "  <thead>\n",
       "    <tr style=\"text-align: right;\">\n",
       "      <th></th>\n",
       "      <th>Id</th>\n",
       "      <th>MSSubClass</th>\n",
       "      <th>MSZoning</th>\n",
       "      <th>LotFrontage</th>\n",
       "      <th>LotArea</th>\n",
       "      <th>Street</th>\n",
       "      <th>Alley</th>\n",
       "      <th>LotShape</th>\n",
       "      <th>LandContour</th>\n",
       "      <th>Utilities</th>\n",
       "      <th>...</th>\n",
       "      <th>PoolArea</th>\n",
       "      <th>PoolQC</th>\n",
       "      <th>Fence</th>\n",
       "      <th>MiscFeature</th>\n",
       "      <th>MiscVal</th>\n",
       "      <th>MoSold</th>\n",
       "      <th>YrSold</th>\n",
       "      <th>SaleType</th>\n",
       "      <th>SaleCondition</th>\n",
       "      <th>SalePrice</th>\n",
       "    </tr>\n",
       "  </thead>\n",
       "  <tbody>\n",
       "    <tr>\n",
       "      <th>0</th>\n",
       "      <td>1</td>\n",
       "      <td>60</td>\n",
       "      <td>RL</td>\n",
       "      <td>65.0</td>\n",
       "      <td>8450</td>\n",
       "      <td>Pave</td>\n",
       "      <td>NaN</td>\n",
       "      <td>Reg</td>\n",
       "      <td>Lvl</td>\n",
       "      <td>AllPub</td>\n",
       "      <td>...</td>\n",
       "      <td>0</td>\n",
       "      <td>NaN</td>\n",
       "      <td>NaN</td>\n",
       "      <td>NaN</td>\n",
       "      <td>0</td>\n",
       "      <td>2</td>\n",
       "      <td>2008</td>\n",
       "      <td>WD</td>\n",
       "      <td>Normal</td>\n",
       "      <td>208500</td>\n",
       "    </tr>\n",
       "    <tr>\n",
       "      <th>1</th>\n",
       "      <td>2</td>\n",
       "      <td>20</td>\n",
       "      <td>RL</td>\n",
       "      <td>80.0</td>\n",
       "      <td>9600</td>\n",
       "      <td>Pave</td>\n",
       "      <td>NaN</td>\n",
       "      <td>Reg</td>\n",
       "      <td>Lvl</td>\n",
       "      <td>AllPub</td>\n",
       "      <td>...</td>\n",
       "      <td>0</td>\n",
       "      <td>NaN</td>\n",
       "      <td>NaN</td>\n",
       "      <td>NaN</td>\n",
       "      <td>0</td>\n",
       "      <td>5</td>\n",
       "      <td>2007</td>\n",
       "      <td>WD</td>\n",
       "      <td>Normal</td>\n",
       "      <td>181500</td>\n",
       "    </tr>\n",
       "    <tr>\n",
       "      <th>2</th>\n",
       "      <td>3</td>\n",
       "      <td>60</td>\n",
       "      <td>RL</td>\n",
       "      <td>68.0</td>\n",
       "      <td>11250</td>\n",
       "      <td>Pave</td>\n",
       "      <td>NaN</td>\n",
       "      <td>IR1</td>\n",
       "      <td>Lvl</td>\n",
       "      <td>AllPub</td>\n",
       "      <td>...</td>\n",
       "      <td>0</td>\n",
       "      <td>NaN</td>\n",
       "      <td>NaN</td>\n",
       "      <td>NaN</td>\n",
       "      <td>0</td>\n",
       "      <td>9</td>\n",
       "      <td>2008</td>\n",
       "      <td>WD</td>\n",
       "      <td>Normal</td>\n",
       "      <td>223500</td>\n",
       "    </tr>\n",
       "    <tr>\n",
       "      <th>3</th>\n",
       "      <td>4</td>\n",
       "      <td>70</td>\n",
       "      <td>RL</td>\n",
       "      <td>60.0</td>\n",
       "      <td>9550</td>\n",
       "      <td>Pave</td>\n",
       "      <td>NaN</td>\n",
       "      <td>IR1</td>\n",
       "      <td>Lvl</td>\n",
       "      <td>AllPub</td>\n",
       "      <td>...</td>\n",
       "      <td>0</td>\n",
       "      <td>NaN</td>\n",
       "      <td>NaN</td>\n",
       "      <td>NaN</td>\n",
       "      <td>0</td>\n",
       "      <td>2</td>\n",
       "      <td>2006</td>\n",
       "      <td>WD</td>\n",
       "      <td>Abnorml</td>\n",
       "      <td>140000</td>\n",
       "    </tr>\n",
       "    <tr>\n",
       "      <th>4</th>\n",
       "      <td>5</td>\n",
       "      <td>60</td>\n",
       "      <td>RL</td>\n",
       "      <td>84.0</td>\n",
       "      <td>14260</td>\n",
       "      <td>Pave</td>\n",
       "      <td>NaN</td>\n",
       "      <td>IR1</td>\n",
       "      <td>Lvl</td>\n",
       "      <td>AllPub</td>\n",
       "      <td>...</td>\n",
       "      <td>0</td>\n",
       "      <td>NaN</td>\n",
       "      <td>NaN</td>\n",
       "      <td>NaN</td>\n",
       "      <td>0</td>\n",
       "      <td>12</td>\n",
       "      <td>2008</td>\n",
       "      <td>WD</td>\n",
       "      <td>Normal</td>\n",
       "      <td>250000</td>\n",
       "    </tr>\n",
       "    <tr>\n",
       "      <th>...</th>\n",
       "      <td>...</td>\n",
       "      <td>...</td>\n",
       "      <td>...</td>\n",
       "      <td>...</td>\n",
       "      <td>...</td>\n",
       "      <td>...</td>\n",
       "      <td>...</td>\n",
       "      <td>...</td>\n",
       "      <td>...</td>\n",
       "      <td>...</td>\n",
       "      <td>...</td>\n",
       "      <td>...</td>\n",
       "      <td>...</td>\n",
       "      <td>...</td>\n",
       "      <td>...</td>\n",
       "      <td>...</td>\n",
       "      <td>...</td>\n",
       "      <td>...</td>\n",
       "      <td>...</td>\n",
       "      <td>...</td>\n",
       "      <td>...</td>\n",
       "    </tr>\n",
       "    <tr>\n",
       "      <th>1455</th>\n",
       "      <td>1456</td>\n",
       "      <td>60</td>\n",
       "      <td>RL</td>\n",
       "      <td>62.0</td>\n",
       "      <td>7917</td>\n",
       "      <td>Pave</td>\n",
       "      <td>NaN</td>\n",
       "      <td>Reg</td>\n",
       "      <td>Lvl</td>\n",
       "      <td>AllPub</td>\n",
       "      <td>...</td>\n",
       "      <td>0</td>\n",
       "      <td>NaN</td>\n",
       "      <td>NaN</td>\n",
       "      <td>NaN</td>\n",
       "      <td>0</td>\n",
       "      <td>8</td>\n",
       "      <td>2007</td>\n",
       "      <td>WD</td>\n",
       "      <td>Normal</td>\n",
       "      <td>175000</td>\n",
       "    </tr>\n",
       "    <tr>\n",
       "      <th>1456</th>\n",
       "      <td>1457</td>\n",
       "      <td>20</td>\n",
       "      <td>RL</td>\n",
       "      <td>85.0</td>\n",
       "      <td>13175</td>\n",
       "      <td>Pave</td>\n",
       "      <td>NaN</td>\n",
       "      <td>Reg</td>\n",
       "      <td>Lvl</td>\n",
       "      <td>AllPub</td>\n",
       "      <td>...</td>\n",
       "      <td>0</td>\n",
       "      <td>NaN</td>\n",
       "      <td>MnPrv</td>\n",
       "      <td>NaN</td>\n",
       "      <td>0</td>\n",
       "      <td>2</td>\n",
       "      <td>2010</td>\n",
       "      <td>WD</td>\n",
       "      <td>Normal</td>\n",
       "      <td>210000</td>\n",
       "    </tr>\n",
       "    <tr>\n",
       "      <th>1457</th>\n",
       "      <td>1458</td>\n",
       "      <td>70</td>\n",
       "      <td>RL</td>\n",
       "      <td>66.0</td>\n",
       "      <td>9042</td>\n",
       "      <td>Pave</td>\n",
       "      <td>NaN</td>\n",
       "      <td>Reg</td>\n",
       "      <td>Lvl</td>\n",
       "      <td>AllPub</td>\n",
       "      <td>...</td>\n",
       "      <td>0</td>\n",
       "      <td>NaN</td>\n",
       "      <td>GdPrv</td>\n",
       "      <td>Shed</td>\n",
       "      <td>2500</td>\n",
       "      <td>5</td>\n",
       "      <td>2010</td>\n",
       "      <td>WD</td>\n",
       "      <td>Normal</td>\n",
       "      <td>266500</td>\n",
       "    </tr>\n",
       "    <tr>\n",
       "      <th>1458</th>\n",
       "      <td>1459</td>\n",
       "      <td>20</td>\n",
       "      <td>RL</td>\n",
       "      <td>68.0</td>\n",
       "      <td>9717</td>\n",
       "      <td>Pave</td>\n",
       "      <td>NaN</td>\n",
       "      <td>Reg</td>\n",
       "      <td>Lvl</td>\n",
       "      <td>AllPub</td>\n",
       "      <td>...</td>\n",
       "      <td>0</td>\n",
       "      <td>NaN</td>\n",
       "      <td>NaN</td>\n",
       "      <td>NaN</td>\n",
       "      <td>0</td>\n",
       "      <td>4</td>\n",
       "      <td>2010</td>\n",
       "      <td>WD</td>\n",
       "      <td>Normal</td>\n",
       "      <td>142125</td>\n",
       "    </tr>\n",
       "    <tr>\n",
       "      <th>1459</th>\n",
       "      <td>1460</td>\n",
       "      <td>20</td>\n",
       "      <td>RL</td>\n",
       "      <td>75.0</td>\n",
       "      <td>9937</td>\n",
       "      <td>Pave</td>\n",
       "      <td>NaN</td>\n",
       "      <td>Reg</td>\n",
       "      <td>Lvl</td>\n",
       "      <td>AllPub</td>\n",
       "      <td>...</td>\n",
       "      <td>0</td>\n",
       "      <td>NaN</td>\n",
       "      <td>NaN</td>\n",
       "      <td>NaN</td>\n",
       "      <td>0</td>\n",
       "      <td>6</td>\n",
       "      <td>2008</td>\n",
       "      <td>WD</td>\n",
       "      <td>Normal</td>\n",
       "      <td>147500</td>\n",
       "    </tr>\n",
       "  </tbody>\n",
       "</table>\n",
       "<p>1460 rows × 81 columns</p>\n",
       "</div>"
      ],
      "text/plain": [
       "        Id  MSSubClass MSZoning  LotFrontage  LotArea Street Alley LotShape  \\\n",
       "0        1          60       RL         65.0     8450   Pave   NaN      Reg   \n",
       "1        2          20       RL         80.0     9600   Pave   NaN      Reg   \n",
       "2        3          60       RL         68.0    11250   Pave   NaN      IR1   \n",
       "3        4          70       RL         60.0     9550   Pave   NaN      IR1   \n",
       "4        5          60       RL         84.0    14260   Pave   NaN      IR1   \n",
       "...    ...         ...      ...          ...      ...    ...   ...      ...   \n",
       "1455  1456          60       RL         62.0     7917   Pave   NaN      Reg   \n",
       "1456  1457          20       RL         85.0    13175   Pave   NaN      Reg   \n",
       "1457  1458          70       RL         66.0     9042   Pave   NaN      Reg   \n",
       "1458  1459          20       RL         68.0     9717   Pave   NaN      Reg   \n",
       "1459  1460          20       RL         75.0     9937   Pave   NaN      Reg   \n",
       "\n",
       "     LandContour Utilities  ... PoolArea PoolQC  Fence MiscFeature MiscVal  \\\n",
       "0            Lvl    AllPub  ...        0    NaN    NaN         NaN       0   \n",
       "1            Lvl    AllPub  ...        0    NaN    NaN         NaN       0   \n",
       "2            Lvl    AllPub  ...        0    NaN    NaN         NaN       0   \n",
       "3            Lvl    AllPub  ...        0    NaN    NaN         NaN       0   \n",
       "4            Lvl    AllPub  ...        0    NaN    NaN         NaN       0   \n",
       "...          ...       ...  ...      ...    ...    ...         ...     ...   \n",
       "1455         Lvl    AllPub  ...        0    NaN    NaN         NaN       0   \n",
       "1456         Lvl    AllPub  ...        0    NaN  MnPrv         NaN       0   \n",
       "1457         Lvl    AllPub  ...        0    NaN  GdPrv        Shed    2500   \n",
       "1458         Lvl    AllPub  ...        0    NaN    NaN         NaN       0   \n",
       "1459         Lvl    AllPub  ...        0    NaN    NaN         NaN       0   \n",
       "\n",
       "     MoSold YrSold  SaleType  SaleCondition  SalePrice  \n",
       "0         2   2008        WD         Normal     208500  \n",
       "1         5   2007        WD         Normal     181500  \n",
       "2         9   2008        WD         Normal     223500  \n",
       "3         2   2006        WD        Abnorml     140000  \n",
       "4        12   2008        WD         Normal     250000  \n",
       "...     ...    ...       ...            ...        ...  \n",
       "1455      8   2007        WD         Normal     175000  \n",
       "1456      2   2010        WD         Normal     210000  \n",
       "1457      5   2010        WD         Normal     266500  \n",
       "1458      4   2010        WD         Normal     142125  \n",
       "1459      6   2008        WD         Normal     147500  \n",
       "\n",
       "[1460 rows x 81 columns]"
      ]
     },
     "execution_count": 51,
     "metadata": {},
     "output_type": "execute_result"
    }
   ],
   "source": [
    "import pandas as pd\n",
    "df = pd.read_csv('House_prices.csv')\n",
    "df"
   ]
  },
  {
   "cell_type": "code",
   "execution_count": 23,
   "id": "983520dd",
   "metadata": {},
   "outputs": [],
   "source": [
    "import dtale\n",
    "d= dtale.show(df)\n",
    "d"
   ]
  },
  {
   "cell_type": "code",
   "execution_count": null,
   "id": "09301e9c",
   "metadata": {},
   "outputs": [],
   "source": []
  },
  {
   "cell_type": "code",
   "execution_count": null,
   "id": "5dee7a9d",
   "metadata": {},
   "outputs": [],
   "source": []
  }
 ],
 "metadata": {
  "kernelspec": {
   "display_name": "Python 3 (ipykernel)",
   "language": "python",
   "name": "python3"
  },
  "language_info": {
   "codemirror_mode": {
    "name": "ipython",
    "version": 3
   },
   "file_extension": ".py",
   "mimetype": "text/x-python",
   "name": "python",
   "nbconvert_exporter": "python",
   "pygments_lexer": "ipython3",
   "version": "3.10.4"
  },
  "vscode": {
   "interpreter": {
    "hash": "8c3d4d9970fc5c09c50d9318a9c7fbf4d0159e4b28833276f5678ee22bded273"
   }
  }
 },
 "nbformat": 4,
 "nbformat_minor": 5
}
