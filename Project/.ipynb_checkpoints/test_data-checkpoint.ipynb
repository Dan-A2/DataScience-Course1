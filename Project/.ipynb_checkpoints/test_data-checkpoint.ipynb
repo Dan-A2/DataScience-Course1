{
 "cells": [
  {
   "cell_type": "code",
   "execution_count": 1,
   "id": "f6971181",
   "metadata": {},
   "outputs": [],
   "source": [
    "# importing libraries\n",
    "import numpy as np\n",
    "import pandas as pd\n",
    "from stockstats import StockDataFrame\n",
    "from sklearn.metrics import classification_report\n",
    "from sklearn.preprocessing import MinMaxScaler\n",
    "from sklearn.ensemble import RandomForestClassifier , HistGradientBoostingClassifier"
   ]
  },
  {
   "cell_type": "code",
   "execution_count": 3,
   "id": "cff7b7e2",
   "metadata": {},
   "outputs": [],
   "source": [
    "# reading data from csv files\n",
    "BTC_USDT_csv = pd.read_csv(input(\"please write the address of bitcoin/tether data: \"))\n",
    "USDT_IRT_csv = pd.read_csv(input(\"please write the address of tether/toman data: \"))\n",
    "USD_IRT_csv = pd.read_csv(input(\"please write the address of dollar/toamn data: \"))"
   ]
  },
  {
   "cell_type": "code",
   "execution_count": null,
   "id": "c3a8058d",
   "metadata": {},
   "outputs": [],
   "source": [
    "# creating dataframes\n",
    "BTC_USDT = pd.DataFrame(BTC_USDT_csv)\n",
    "USDT_IRT = pd.DataFrame(USDT_IRT_csv)\n",
    "USD_IRT = pd.DataFrame(USD_IRT_csv)"
   ]
  },
  {
   "cell_type": "code",
   "execution_count": null,
   "id": "d8b24ed0",
   "metadata": {},
   "outputs": [],
   "source": [
    "# initializing stock data frames\n",
    "BTC_USDT = StockDataFrame.retype(BTC_USDT)\n",
    "USDT_IRT = StockDataFrame.retype(USDT_IRT)\n",
    "USD_IRT = StockDataFrame.retype(USD_IRT)"
   ]
  },
  {
   "cell_type": "code",
   "execution_count": null,
   "id": "2a4fcd29",
   "metadata": {},
   "outputs": [],
   "source": [
    "# creating the final dataframe which we use for prediction\n",
    "df = pd.DataFrame({\"DateTime\" : USDT_IRT[\"datetime\"] , \"Close\" : USDT_IRT[\"close\"]})\n",
    "df = StockDataFrame.retype(df)"
   ]
  },
  {
   "cell_type": "code",
   "execution_count": null,
   "id": "a5ed0813",
   "metadata": {},
   "outputs": [],
   "source": [
    "# adding columns to our dataframe\n",
    "\n",
    "df[\"USDTtoUSDprice\"] = np.array(USDT_IRT[\"close\"] / USD_IRT[\"close\"])\n",
    "df[\"OBV_USDTtoIRT\"] = (np.sign(USDT_IRT[\"close\"].diff()) * USDT_IRT[\"volume\"]).fillna(0).cumsum()\n",
    "df[\"close_delta_USDTtoIRT\"] = USDT_IRT.get(\"close_2_d\")\n",
    "df[\"close_delta_USDtoIRT\"] = USD_IRT.get(\"close_2_d\")\n",
    "df[\"close_delta_BTCtoUSDT\"] = BTC_USDT.get(\"close_2_d\")\n",
    "df[\"high_delta_USDTtoIRT\"] = USDT_IRT.get(\"high_-1_d\")\n",
    "df[\"high_delta_USDtoIRT\"] = USD_IRT.get(\"high_-1_d\")\n",
    "df[\"high_delta_BTCtoUSDT\"] = BTC_USDT.get(\"high_-1_d\")\n",
    "df[\"log_return_USDTtoIRT\"] = USDT_IRT.get(\"log-ret\")\n",
    "df[\"log_return_USDtoIRT\"] = USD_IRT.get(\"log-ret\")\n",
    "df[\"log_return_BTCtoUSDT\"] = BTC_USDT.get(\"log-ret\")\n",
    "df[\"Change%_USDTtoIRT\"] = USDT_IRT.get(\"change\")\n",
    "df[\"Change%_USDtoIRT\"] = USD_IRT.get(\"change\")\n",
    "df[\"Change%_BTCtoUSDT\"] = BTC_USDT.get(\"change\")\n",
    "df[\"rsv_USDTtoIRT\"] = USDT_IRT.get(\"rsv_6\")\n",
    "df[\"rsv_USDtoIRT\"] = USD_IRT.get(\"rsv_6\")\n",
    "df[\"rsv_BTCtoUSDT\"] = BTC_USDT.get(\"rsv_6\")\n",
    "df[\"stochrsi_USDtoIRT\"] = USD_IRT.get(\"stochrsi\")\n",
    "df[\"stochrsi_BTCtoUSDT\"] = BTC_USDT.get(\"stochrsi\")\n",
    "df[\"dma_USDTtoIRT\"] = USDT_IRT.get(\"dma\")\n",
    "df[\"dma_USDtoIRT\"] = USD_IRT.get(\"dma\")\n",
    "df[\"dma_BTCtoUSDT\"] = BTC_USDT.get(\"dma\")\n",
    "df[\"adxr_USDTtoIRT\"] = USDT_IRT.get(\"adxr\")\n",
    "df[\"adxr_USDtoIRT\"] = USD_IRT.get(\"adxr\")\n",
    "df[\"adxr_BTCtoUSDT\"] = BTC_USDT.get(\"adxr\")\n",
    "df[\"kdj_USDTtoIRT\"] = USDT_IRT.get(\"kdjk\")\n",
    "df[\"kdj_USDtoIRT\"] = USD_IRT.get(\"kdjk\")\n",
    "df[\"kdj_BTCtoUSDT\"] = BTC_USDT.get(\"kdjk\")\n",
    "df[\"rsi_USDTtoIRT\"] = USDT_IRT.get(\"rsi\")\n",
    "df[\"rsi_USDtoIRT\"] = USD_IRT.get(\"rsi\")\n",
    "df[\"rsi_BTCtoUSDT\"] = BTC_USDT.get(\"rsi\")\n",
    "df[\"boll_USDTtoIRT\"] = USDT_IRT.get(\"boll\")\n",
    "df[\"boll_USDtoIRT\"] = USD_IRT.get(\"boll\")\n",
    "df[\"boll_BTCtoUSDT\"] = BTC_USDT.get(\"boll\")\n",
    "df[\"boll_dn_USDTtoIRT\"] = USDT_IRT.get(\"boll_lb\")\n",
    "df[\"boll_dn_USDtoIRT\"] = USD_IRT.get(\"boll_lb\")\n",
    "df[\"boll_dn_BTCtoUSDT\"] = BTC_USDT.get(\"boll_lb\")\n",
    "df[\"boll_ub_USDTtoIRT\"] = USDT_IRT.get(\"boll_ub\")\n",
    "df[\"boll_ub_USDtoIRT\"] = USD_IRT.get(\"boll_ub\")\n",
    "df[\"boll_ub_BTCtoUSDT\"] = BTC_USDT.get(\"boll_ub\")\n",
    "df[\"macd_USDTtoIRT\"] = USDT_IRT.get(\"macd\")\n",
    "df[\"macd_USDtoIRT\"] = USD_IRT.get(\"macd\")\n",
    "df[\"macd_BTCtoUSDT\"] = BTC_USDT.get(\"macd\")\n",
    "df[\"wr_USDtoIRT\"] = USD_IRT.get(\"wr\")\n",
    "df[\"wr_BTCtoUSDT\"] = BTC_USDT.get(\"wr\")\n",
    "df[\"atr_USDTtoIRT\"] = USDT_IRT.get(\"atr\")\n",
    "df[\"atr_USDtoIRT\"] = USD_IRT.get(\"atr\")\n",
    "df[\"atr_BTCtoUSDT\"] = BTC_USDT.get(\"atr\")\n",
    "df[\"cci_USDtoIRT\"] = USD_IRT.get(\"cci\")\n",
    "df[\"cci_BTCtoUSDT\"] = BTC_USDT.get(\"cci\")\n",
    "df[\"trix_USDTtoIRT\"] = USDT_IRT.get(\"trix\")\n",
    "df[\"trix_USDtoIRT\"] = USD_IRT.get(\"trix\")\n",
    "df[\"trix_BTCtoUSDT\"] = BTC_USDT.get(\"trix\")\n",
    "df[\"ppo_USDTtoIRT\"] = USDT_IRT.get(\"ppo\")\n",
    "df[\"ppo_dn_USDtoIRT\"] = USD_IRT.get(\"ppo\")\n",
    "df[\"ppo_dn_BTCtoUSDT\"] = BTC_USDT.get(\"ppo\")\n",
    "df[\"sma_USDTtoIRT\"] = USDT_IRT.get(\"close_2_sma\")\n",
    "df[\"sma_USDtoIRT\"] = USD_IRT.get(\"close_2_sma\")\n",
    "df[\"sma_BTCtoUSDT\"] = BTC_USDT.get(\"close_2_sma\")\n",
    "df[\"mstd_USDTtoIRT\"] = USDT_IRT.get(\"close_2_mstd\")\n",
    "df[\"mstd_USDtoIRT\"] = USD_IRT.get(\"close_2_mstd\")\n",
    "df[\"mstd_BTCtoUSDT\"] = BTC_USDT.get(\"close_2_mstd\")\n",
    "df[\"mvar_USDTtoIRT\"] = USDT_IRT.get(\"close_2_mvar\")\n",
    "df[\"mvar_USDtoIRT\"] = USD_IRT.get(\"close_2_mvar\")\n",
    "df[\"mvar_BTCtoUSDT\"] = BTC_USDT.get(\"close_2_mvar\")"
   ]
  },
  {
   "cell_type": "code",
   "execution_count": null,
   "id": "7db6f3e1",
   "metadata": {},
   "outputs": [],
   "source": [
    "# let's take a look at the dataframe now!\n",
    "df"
   ]
  },
  {
   "cell_type": "code",
   "execution_count": null,
   "id": "5c1bb567",
   "metadata": {},
   "outputs": [],
   "source": [
    "# the same classification func in the project file\n",
    "def classification(X , y):\n",
    "    y_class = list()\n",
    "    for i in range(0 , len(X)):\n",
    "        progress = y[i][0] - X[i][0]\n",
    "        if (progress > 0):\n",
    "             y_class.append(1)\n",
    "        else:\n",
    "            y_class.append(0)\n",
    "    return y_class"
   ]
  },
  {
   "cell_type": "code",
   "execution_count": null,
   "id": "4d5a4327",
   "metadata": {},
   "outputs": [],
   "source": [
    "X = df[:-1].drop(\"datetime\" , axis = 1)\n",
    "y = df[\"close\"][1:]"
   ]
  },
  {
   "cell_type": "markdown",
   "id": "3a1a7b76",
   "metadata": {},
   "source": [
    "## below cells are exactly the same as the project file and I'm not in the mood of rewiting the comments...!"
   ]
  },
  {
   "cell_type": "code",
   "execution_count": null,
   "id": "77eaf3f5",
   "metadata": {},
   "outputs": [],
   "source": [
    "scaler1 , scaler2 = MinMaxScaler() , MinMaxScaler()\n",
    "scaled_X = scaler1.fit_transform(X)\n",
    "scaled_y = scaler2.fit_transform(np.array(y).reshape(-1 , 1))"
   ]
  },
  {
   "cell_type": "code",
   "execution_count": null,
   "id": "97e58a7a",
   "metadata": {},
   "outputs": [],
   "source": [
    "train_size = len(df)* 0.7\n",
    "X_train = scaled_X[60:int(train_size)]\n",
    "X_test = scaled_X[int(train_size):]\n",
    "y_train = scaled_y[60:int(train_size)]\n",
    "y_test = scaled_y[int(train_size):]"
   ]
  },
  {
   "cell_type": "code",
   "execution_count": null,
   "id": "7bc2d5d6",
   "metadata": {},
   "outputs": [],
   "source": [
    "model = RandomForestClassifier(max_depth = 1 , max_features = 70 , n_estimators = 1 , bootstrap = False , random_state = 99)\n",
    "model.fit(X_train , classification(X_train , y_train))\n",
    "y_pred = model.predict(X_test)"
   ]
  },
  {
   "cell_type": "code",
   "execution_count": null,
   "id": "272fe1bb",
   "metadata": {},
   "outputs": [],
   "source": [
    "print(classification_report(classification(X_test , y_test) , y_pred))"
   ]
  },
  {
   "cell_type": "code",
   "execution_count": null,
   "id": "7440d682",
   "metadata": {},
   "outputs": [],
   "source": [
    "final_data = pd.DataFrame({\"Labels\" : model.predict(scaled_X[60:])})\n",
    "final_data.set_index(df[\"datetime\"][:-1][60:] , inplace = True)\n",
    "final_data"
   ]
  }
 ],
 "metadata": {
  "kernelspec": {
   "display_name": "Python 3 (ipykernel)",
   "language": "python",
   "name": "python3"
  },
  "language_info": {
   "codemirror_mode": {
    "name": "ipython",
    "version": 3
   },
   "file_extension": ".py",
   "mimetype": "text/x-python",
   "name": "python",
   "nbconvert_exporter": "python",
   "pygments_lexer": "ipython3",
   "version": "3.10.4"
  }
 },
 "nbformat": 4,
 "nbformat_minor": 5
}
