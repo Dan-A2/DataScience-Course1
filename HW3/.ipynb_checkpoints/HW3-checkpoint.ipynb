{
 "cells": [
  {
   "cell_type": "markdown",
   "metadata": {},
   "source": [
    "<h1 align=center style=\"line-height:150%;font-family:vazir;color:#0099cc\">\n",
    "<font face=\"vazir\" color=\"#0099cc\">\n",
    "تمرین سری سوم\n",
    "</font>\n",
    "</h1>"
   ]
  },
  {
   "cell_type": "markdown",
   "metadata": {},
   "source": [
    "<h1 align=right style=\"line-height:150%;font-family:vazir;color:#0099cc\">\n",
    "<font face=\"vazir\" color=\"#0099cc\">\n",
    "فراخوانی کتابخانه های لازم\n",
    "</font>\n",
    "</h1>"
   ]
  },
  {
   "cell_type": "code",
   "execution_count": 2,
   "metadata": {},
   "outputs": [
    {
     "ename": "ModuleNotFoundError",
     "evalue": "No module named 'numpy'",
     "output_type": "error",
     "traceback": [
      "\u001b[0;31m---------------------------------------------------------------------------\u001b[0m",
      "\u001b[0;31mModuleNotFoundError\u001b[0m                       Traceback (most recent call last)",
      "Input \u001b[0;32mIn [2]\u001b[0m, in \u001b[0;36m<cell line: 1>\u001b[0;34m()\u001b[0m\n\u001b[0;32m----> 1\u001b[0m \u001b[38;5;28;01mimport\u001b[39;00m \u001b[38;5;21;01mnumpy\u001b[39;00m \u001b[38;5;28;01mas\u001b[39;00m \u001b[38;5;21;01mnp\u001b[39;00m\n\u001b[1;32m      2\u001b[0m \u001b[38;5;28;01mimport\u001b[39;00m \u001b[38;5;21;01mpandas\u001b[39;00m \u001b[38;5;28;01mas\u001b[39;00m \u001b[38;5;21;01mpd\u001b[39;00m\n\u001b[1;32m      3\u001b[0m \u001b[38;5;28;01mimport\u001b[39;00m \u001b[38;5;21;01mplotly\u001b[39;00m\u001b[38;5;21;01m.\u001b[39;00m\u001b[38;5;21;01mexpress\u001b[39;00m \u001b[38;5;28;01mas\u001b[39;00m \u001b[38;5;21;01mpx\u001b[39;00m\n",
      "\u001b[0;31mModuleNotFoundError\u001b[0m: No module named 'numpy'"
     ]
    }
   ],
   "source": [
    "import numpy as np\n",
    "import pandas as pd\n",
    "import plotly.express as px"
   ]
  },
  {
   "cell_type": "markdown",
   "metadata": {},
   "source": [
    "<h1 align=right style=\"line-height:150%;font-family:vazir;color:#0099cc\">\n",
    "<font face=\"vazir\" color=\"#0099cc\">\n",
    "رگرسیون خطی\n",
    "</font>\n",
    "</h1>"
   ]
  },
  {
   "cell_type": "markdown",
   "metadata": {},
   "source": [
    "<p style=\"text-align:center\"><img  src=\"https://i.postimg.cc/JhvkYsZ9/Regression.jpg\" width=\"1000\" alt=\"regression\"></p>"
   ]
  },
  {
   "cell_type": "markdown",
   "metadata": {},
   "source": [
    "<h1 align=right style=\"line-height:150%;font-family:vazir;color:#0099cc\">\n",
    "<font face=\"vazir\" color=\"#0099cc\">\n",
    "خواندن داده ها و تحلیل آن ها\n",
    "</font>\n",
    "</h1>"
   ]
  },
  {
   "cell_type": "markdown",
   "metadata": {},
   "source": [
    "<p dir=rtl style=\"direction: rtl;text-align: right;line-height:200%;font-family:vazir;font-size:medium\">\n",
    "<font face=\"vazir\" size=3>\n",
    "   در این بخش از دیتاست\n",
    "   <code>gapminder</code>\n",
    "استفاده میکنیم.دادگان مذکور شامل اطلاعات در مورد\n",
    "<b>جمعیت</b>\n",
    "و\n",
    "<b>امید به زندگی</b>\n",
    "و\n",
    "<b>تولید ناخالص داخلی </b>\n",
    "کشور های گوناگون از سال\n",
    "<code>1952</code>\n",
    "تا\n",
    "<code>2007</code>\n",
    "است.\n",
    "     برای اطلاعات بیشتر میتوانید به\n",
    "  <a href=\"https://www.gapminder.org/data/\">لینک</a>\n",
    "  مراجعه کنید.\n",
    "  </font>\n",
    "</p>"
   ]
  },
  {
   "cell_type": "markdown",
   "metadata": {},
   "source": [
    "<p style=\"text-align:center\"><img  src=\"https://i.postimg.cc/4NwL4DbQ/download-2.png\" width=\"1000\" alt=\"Gapminder logo\"></p>"
   ]
  },
  {
   "cell_type": "markdown",
   "metadata": {},
   "source": [
    "<p dir=rtl style=\"direction: rtl;text-align: right;line-height:200%;font-family:vazir;font-size:medium\">\n",
    "<font face=\"vazir\" size=3>\n",
    "   اگر به تابع\n",
    "   <code>read_csv</code>\n",
    "    آدرس یا \n",
    "    <code>url</code>\n",
    "    فایل داده ها را بدهیم آن را دانلود و بارگذاری میکند.\n",
    "    با استفاده از\n",
    "    <code>gapminder_url</code>\n",
    "    داده ها را بخوانید.\n",
    "  </font>\n",
    "</p>"
   ]
  },
  {
   "cell_type": "code",
   "execution_count": 33,
   "metadata": {},
   "outputs": [],
   "source": [
    "gapminder_url = \"https://raw.githubusercontent.com/Aminzein/HermesMachineLearningBootcampDatasets/main/HW3/gapminder.csv\"\n",
    "data = pd.___(...)"
   ]
  },
  {
   "cell_type": "markdown",
   "metadata": {},
   "source": [
    "<p dir=rtl style=\"direction: rtl;text-align: right;line-height:200%;font-family:vazir;font-size:medium\">\n",
    "<font face=\"vazir\" size=3>\n",
    "حال نگاهی به پنج سطر اول دیتاست می اندازیم.\n",
    "  </font>\n",
    "</p>"
   ]
  },
  {
   "cell_type": "code",
   "execution_count": 34,
   "metadata": {},
   "outputs": [
    {
     "data": {
      "text/html": [
       "<div>\n",
       "<style scoped>\n",
       "    .dataframe tbody tr th:only-of-type {\n",
       "        vertical-align: middle;\n",
       "    }\n",
       "\n",
       "    .dataframe tbody tr th {\n",
       "        vertical-align: top;\n",
       "    }\n",
       "\n",
       "    .dataframe thead th {\n",
       "        text-align: right;\n",
       "    }\n",
       "</style>\n",
       "<table border=\"1\" class=\"dataframe\">\n",
       "  <thead>\n",
       "    <tr style=\"text-align: right;\">\n",
       "      <th></th>\n",
       "      <th>population</th>\n",
       "      <th>fertility</th>\n",
       "      <th>HIV</th>\n",
       "      <th>CO2</th>\n",
       "      <th>BMI_male</th>\n",
       "      <th>GDP</th>\n",
       "      <th>BMI_female</th>\n",
       "      <th>life</th>\n",
       "      <th>child_mortality</th>\n",
       "      <th>Region</th>\n",
       "    </tr>\n",
       "  </thead>\n",
       "  <tbody>\n",
       "    <tr>\n",
       "      <th>0</th>\n",
       "      <td>34811059.0</td>\n",
       "      <td>2.73</td>\n",
       "      <td>0.1</td>\n",
       "      <td>3.328945</td>\n",
       "      <td>24.59620</td>\n",
       "      <td>12314.0</td>\n",
       "      <td>129.9049</td>\n",
       "      <td>75.3</td>\n",
       "      <td>29.5</td>\n",
       "      <td>Middle East &amp; North Africa</td>\n",
       "    </tr>\n",
       "    <tr>\n",
       "      <th>1</th>\n",
       "      <td>19842251.0</td>\n",
       "      <td>6.43</td>\n",
       "      <td>2.0</td>\n",
       "      <td>1.474353</td>\n",
       "      <td>22.25083</td>\n",
       "      <td>7103.0</td>\n",
       "      <td>130.1247</td>\n",
       "      <td>58.3</td>\n",
       "      <td>192.0</td>\n",
       "      <td>Sub-Saharan Africa</td>\n",
       "    </tr>\n",
       "    <tr>\n",
       "      <th>2</th>\n",
       "      <td>40381860.0</td>\n",
       "      <td>2.24</td>\n",
       "      <td>0.5</td>\n",
       "      <td>4.785170</td>\n",
       "      <td>27.50170</td>\n",
       "      <td>14646.0</td>\n",
       "      <td>118.8915</td>\n",
       "      <td>75.5</td>\n",
       "      <td>15.4</td>\n",
       "      <td>America</td>\n",
       "    </tr>\n",
       "    <tr>\n",
       "      <th>3</th>\n",
       "      <td>2975029.0</td>\n",
       "      <td>1.40</td>\n",
       "      <td>0.1</td>\n",
       "      <td>1.804106</td>\n",
       "      <td>25.35542</td>\n",
       "      <td>7383.0</td>\n",
       "      <td>132.8108</td>\n",
       "      <td>72.5</td>\n",
       "      <td>20.0</td>\n",
       "      <td>Europe &amp; Central Asia</td>\n",
       "    </tr>\n",
       "    <tr>\n",
       "      <th>4</th>\n",
       "      <td>21370348.0</td>\n",
       "      <td>1.96</td>\n",
       "      <td>0.1</td>\n",
       "      <td>18.016313</td>\n",
       "      <td>27.56373</td>\n",
       "      <td>41312.0</td>\n",
       "      <td>117.3755</td>\n",
       "      <td>81.5</td>\n",
       "      <td>5.2</td>\n",
       "      <td>East Asia &amp; Pacific</td>\n",
       "    </tr>\n",
       "  </tbody>\n",
       "</table>\n",
       "</div>"
      ],
      "text/plain": [
       "   population  fertility  HIV        CO2  BMI_male      GDP  BMI_female  life  \\\n",
       "0  34811059.0       2.73  0.1   3.328945  24.59620  12314.0    129.9049  75.3   \n",
       "1  19842251.0       6.43  2.0   1.474353  22.25083   7103.0    130.1247  58.3   \n",
       "2  40381860.0       2.24  0.5   4.785170  27.50170  14646.0    118.8915  75.5   \n",
       "3   2975029.0       1.40  0.1   1.804106  25.35542   7383.0    132.8108  72.5   \n",
       "4  21370348.0       1.96  0.1  18.016313  27.56373  41312.0    117.3755  81.5   \n",
       "\n",
       "   child_mortality                      Region  \n",
       "0             29.5  Middle East & North Africa  \n",
       "1            192.0          Sub-Saharan Africa  \n",
       "2             15.4                     America  \n",
       "3             20.0       Europe & Central Asia  \n",
       "4              5.2         East Asia & Pacific  "
      ]
     },
     "execution_count": 34,
     "metadata": {},
     "output_type": "execute_result"
    }
   ],
   "source": [
    "data.___"
   ]
  },
  {
   "cell_type": "markdown",
   "metadata": {},
   "source": [
    "<p dir=rtl style=\"direction: rtl;text-align: right;line-height:200%;font-family:vazir;font-size:medium\">\n",
    "<font face=\"vazir\" size=3>\n",
    "از میان ده ستون دادگان ما با دو ستون\n",
    "<code>fertility</code>\n",
    "و\n",
    "<code>life</code>\n",
    "کار میکنیم که به ترتیب نشان دهنده\n",
    "<b>\n",
    "باروری\n",
    "</b> \n",
    "و\n",
    "<b>\n",
    "امید به زندگی\n",
    "</b>\n",
    "هستند.\n",
    "  </font>\n",
    "</p>"
   ]
  },
  {
   "cell_type": "markdown",
   "metadata": {},
   "source": [
    "<p dir=rtl style=\"direction: rtl;text-align: right;line-height:200%;font-family:vazir;font-size:medium\">\n",
    "<font face=\"vazir\" size=3>\n",
    "مثل همیشه مهم است که قبل از ساخت مدل و انجام پیش بینی دادگان خود را بررسی کنیم.\n",
    "  </font>\n",
    "</p>"
   ]
  },
  {
   "cell_type": "markdown",
   "metadata": {},
   "source": [
    "<p dir=rtl style=\"direction: rtl;text-align: right;line-height:200%;font-family:vazir;font-size:medium\">\n",
    "<font face=\"vazir\" size=3>\n",
    "برای بررسی دیتافریم ساخته شده از\n",
    "<code>describe</code>\n",
    "و\n",
    "<code>info</code>\n",
    "استفاده کنید.\n",
    "  </font>\n",
    "</p>"
   ]
  },
  {
   "cell_type": "code",
   "execution_count": 45,
   "metadata": {},
   "outputs": [],
   "source": [
    "#print descriptive statistics of df using describe\n",
    "data.___"
   ]
  },
  {
   "cell_type": "code",
   "execution_count": null,
   "metadata": {},
   "outputs": [],
   "source": [
    "#print a concise summary of df using info\n",
    "data.___"
   ]
  },
  {
   "cell_type": "markdown",
   "metadata": {},
   "source": [
    "<p dir=rtl style=\"direction: rtl;text-align: right;line-height:200%;font-family:vazir;font-size:medium\">\n",
    "<font face=\"vazir\" size=3>\n",
    "در سلول زیر با استفاده از\n",
    "<code>corr</code>\n",
    "میزان همبستگی متغیر ها به همدیگر را به دست آورده و  \n",
    "<code>heatmap</code>\n",
    "آن را رسم کنید.\n",
    "  </font>\n",
    "</p>"
   ]
  },
  {
   "cell_type": "code",
   "execution_count": 4,
   "metadata": {},
   "outputs": [
    {
     "data": {
      "application/vnd.plotly.v1+json": {
       "config": {
        "plotlyServerURL": "https://plot.ly"
       },
       "data": [
        {
         "coloraxis": "coloraxis",
         "hovertemplate": "x: %{x}<br>y: %{y}<br>color: %{z}<extra></extra>",
         "name": "0",
         "type": "heatmap",
         "x": [
          "population",
          "fertility",
          "HIV",
          "CO2",
          "BMI_male",
          "GDP",
          "BMI_female",
          "life",
          "child_mortality"
         ],
         "xaxis": "x",
         "y": [
          "population",
          "fertility",
          "HIV",
          "CO2",
          "BMI_male",
          "GDP",
          "BMI_female",
          "life",
          "child_mortality"
         ],
         "yaxis": "y",
         "z": [
          [
           1,
           -0.06134546629540096,
           -0.0658207209530217,
           -0.010147200296705912,
           -0.13490502775567295,
           -0.045687395019070536,
           -0.13514851740809133,
           -0.005050785985357894,
           0.008058020688222641
          ],
          [
           -0.06134546629540096,
           1,
           0.2926946753792279,
           -0.43974676387182915,
           -0.7153795759723666,
           -0.5026148018301009,
           0.5273136777085887,
           -0.786920718226432,
           0.9017037347600143
          ],
          [
           -0.0658207209530217,
           0.2926946753792279,
           1,
           -0.16588949223590477,
           -0.30869982089333575,
           -0.20841018887955737,
           0.3966798137454112,
           -0.6047487707780781,
           0.3949129097462706
          ],
          [
           -0.010147200296705912,
           -0.43974676387182915,
           -0.16588949223590477,
           1,
           0.5810310433093213,
           0.8230988980909927,
           -0.2808128528191284,
           0.4766661052380282,
           -0.45818638937893935
          ],
          [
           -0.13490502775567295,
           -0.7153795759723666,
           -0.30869982089333575,
           0.5810310433093213,
           1,
           0.625126438278535,
           -0.44704900438474326,
           0.7315588009355668,
           -0.7496911381870344
          ],
          [
           -0.045687395019070536,
           -0.5026148018301009,
           -0.20841018887955737,
           0.8230988980909927,
           0.625126438278535,
           1,
           -0.400740233696841,
           0.6289986986111094,
           -0.5438737926612441
          ],
          [
           -0.13514851740809133,
           0.5273136777085887,
           0.3966798137454112,
           -0.2808128528191284,
           -0.44704900438474326,
           -0.400740233696841,
           1,
           -0.6587178145116734,
           0.5820527615159855
          ],
          [
           -0.005050785985357894,
           -0.786920718226432,
           -0.6047487707780781,
           0.4766661052380282,
           0.7315588009355668,
           0.6289986986111094,
           -0.6587178145116734,
           1,
           -0.8741061295399247
          ],
          [
           0.008058020688222641,
           0.9017037347600143,
           0.3949129097462706,
           -0.45818638937893935,
           -0.7496911381870344,
           -0.5438737926612441,
           0.5820527615159855,
           -0.8741061295399247,
           1
          ]
         ]
        }
       ],
       "layout": {
        "coloraxis": {
         "colorscale": [
          [
           0,
           "#0d0887"
          ],
          [
           0.1111111111111111,
           "#46039f"
          ],
          [
           0.2222222222222222,
           "#7201a8"
          ],
          [
           0.3333333333333333,
           "#9c179e"
          ],
          [
           0.4444444444444444,
           "#bd3786"
          ],
          [
           0.5555555555555556,
           "#d8576b"
          ],
          [
           0.6666666666666666,
           "#ed7953"
          ],
          [
           0.7777777777777778,
           "#fb9f3a"
          ],
          [
           0.8888888888888888,
           "#fdca26"
          ],
          [
           1,
           "#f0f921"
          ]
         ]
        },
        "margin": {
         "t": 60
        },
        "template": {
         "data": {
          "bar": [
           {
            "error_x": {
             "color": "#2a3f5f"
            },
            "error_y": {
             "color": "#2a3f5f"
            },
            "marker": {
             "line": {
              "color": "#E5ECF6",
              "width": 0.5
             },
             "pattern": {
              "fillmode": "overlay",
              "size": 10,
              "solidity": 0.2
             }
            },
            "type": "bar"
           }
          ],
          "barpolar": [
           {
            "marker": {
             "line": {
              "color": "#E5ECF6",
              "width": 0.5
             },
             "pattern": {
              "fillmode": "overlay",
              "size": 10,
              "solidity": 0.2
             }
            },
            "type": "barpolar"
           }
          ],
          "carpet": [
           {
            "aaxis": {
             "endlinecolor": "#2a3f5f",
             "gridcolor": "white",
             "linecolor": "white",
             "minorgridcolor": "white",
             "startlinecolor": "#2a3f5f"
            },
            "baxis": {
             "endlinecolor": "#2a3f5f",
             "gridcolor": "white",
             "linecolor": "white",
             "minorgridcolor": "white",
             "startlinecolor": "#2a3f5f"
            },
            "type": "carpet"
           }
          ],
          "choropleth": [
           {
            "colorbar": {
             "outlinewidth": 0,
             "ticks": ""
            },
            "type": "choropleth"
           }
          ],
          "contour": [
           {
            "colorbar": {
             "outlinewidth": 0,
             "ticks": ""
            },
            "colorscale": [
             [
              0,
              "#0d0887"
             ],
             [
              0.1111111111111111,
              "#46039f"
             ],
             [
              0.2222222222222222,
              "#7201a8"
             ],
             [
              0.3333333333333333,
              "#9c179e"
             ],
             [
              0.4444444444444444,
              "#bd3786"
             ],
             [
              0.5555555555555556,
              "#d8576b"
             ],
             [
              0.6666666666666666,
              "#ed7953"
             ],
             [
              0.7777777777777778,
              "#fb9f3a"
             ],
             [
              0.8888888888888888,
              "#fdca26"
             ],
             [
              1,
              "#f0f921"
             ]
            ],
            "type": "contour"
           }
          ],
          "contourcarpet": [
           {
            "colorbar": {
             "outlinewidth": 0,
             "ticks": ""
            },
            "type": "contourcarpet"
           }
          ],
          "heatmap": [
           {
            "colorbar": {
             "outlinewidth": 0,
             "ticks": ""
            },
            "colorscale": [
             [
              0,
              "#0d0887"
             ],
             [
              0.1111111111111111,
              "#46039f"
             ],
             [
              0.2222222222222222,
              "#7201a8"
             ],
             [
              0.3333333333333333,
              "#9c179e"
             ],
             [
              0.4444444444444444,
              "#bd3786"
             ],
             [
              0.5555555555555556,
              "#d8576b"
             ],
             [
              0.6666666666666666,
              "#ed7953"
             ],
             [
              0.7777777777777778,
              "#fb9f3a"
             ],
             [
              0.8888888888888888,
              "#fdca26"
             ],
             [
              1,
              "#f0f921"
             ]
            ],
            "type": "heatmap"
           }
          ],
          "heatmapgl": [
           {
            "colorbar": {
             "outlinewidth": 0,
             "ticks": ""
            },
            "colorscale": [
             [
              0,
              "#0d0887"
             ],
             [
              0.1111111111111111,
              "#46039f"
             ],
             [
              0.2222222222222222,
              "#7201a8"
             ],
             [
              0.3333333333333333,
              "#9c179e"
             ],
             [
              0.4444444444444444,
              "#bd3786"
             ],
             [
              0.5555555555555556,
              "#d8576b"
             ],
             [
              0.6666666666666666,
              "#ed7953"
             ],
             [
              0.7777777777777778,
              "#fb9f3a"
             ],
             [
              0.8888888888888888,
              "#fdca26"
             ],
             [
              1,
              "#f0f921"
             ]
            ],
            "type": "heatmapgl"
           }
          ],
          "histogram": [
           {
            "marker": {
             "pattern": {
              "fillmode": "overlay",
              "size": 10,
              "solidity": 0.2
             }
            },
            "type": "histogram"
           }
          ],
          "histogram2d": [
           {
            "colorbar": {
             "outlinewidth": 0,
             "ticks": ""
            },
            "colorscale": [
             [
              0,
              "#0d0887"
             ],
             [
              0.1111111111111111,
              "#46039f"
             ],
             [
              0.2222222222222222,
              "#7201a8"
             ],
             [
              0.3333333333333333,
              "#9c179e"
             ],
             [
              0.4444444444444444,
              "#bd3786"
             ],
             [
              0.5555555555555556,
              "#d8576b"
             ],
             [
              0.6666666666666666,
              "#ed7953"
             ],
             [
              0.7777777777777778,
              "#fb9f3a"
             ],
             [
              0.8888888888888888,
              "#fdca26"
             ],
             [
              1,
              "#f0f921"
             ]
            ],
            "type": "histogram2d"
           }
          ],
          "histogram2dcontour": [
           {
            "colorbar": {
             "outlinewidth": 0,
             "ticks": ""
            },
            "colorscale": [
             [
              0,
              "#0d0887"
             ],
             [
              0.1111111111111111,
              "#46039f"
             ],
             [
              0.2222222222222222,
              "#7201a8"
             ],
             [
              0.3333333333333333,
              "#9c179e"
             ],
             [
              0.4444444444444444,
              "#bd3786"
             ],
             [
              0.5555555555555556,
              "#d8576b"
             ],
             [
              0.6666666666666666,
              "#ed7953"
             ],
             [
              0.7777777777777778,
              "#fb9f3a"
             ],
             [
              0.8888888888888888,
              "#fdca26"
             ],
             [
              1,
              "#f0f921"
             ]
            ],
            "type": "histogram2dcontour"
           }
          ],
          "mesh3d": [
           {
            "colorbar": {
             "outlinewidth": 0,
             "ticks": ""
            },
            "type": "mesh3d"
           }
          ],
          "parcoords": [
           {
            "line": {
             "colorbar": {
              "outlinewidth": 0,
              "ticks": ""
             }
            },
            "type": "parcoords"
           }
          ],
          "pie": [
           {
            "automargin": true,
            "type": "pie"
           }
          ],
          "scatter": [
           {
            "fillpattern": {
             "fillmode": "overlay",
             "size": 10,
             "solidity": 0.2
            },
            "type": "scatter"
           }
          ],
          "scatter3d": [
           {
            "line": {
             "colorbar": {
              "outlinewidth": 0,
              "ticks": ""
             }
            },
            "marker": {
             "colorbar": {
              "outlinewidth": 0,
              "ticks": ""
             }
            },
            "type": "scatter3d"
           }
          ],
          "scattercarpet": [
           {
            "marker": {
             "colorbar": {
              "outlinewidth": 0,
              "ticks": ""
             }
            },
            "type": "scattercarpet"
           }
          ],
          "scattergeo": [
           {
            "marker": {
             "colorbar": {
              "outlinewidth": 0,
              "ticks": ""
             }
            },
            "type": "scattergeo"
           }
          ],
          "scattergl": [
           {
            "marker": {
             "colorbar": {
              "outlinewidth": 0,
              "ticks": ""
             }
            },
            "type": "scattergl"
           }
          ],
          "scattermapbox": [
           {
            "marker": {
             "colorbar": {
              "outlinewidth": 0,
              "ticks": ""
             }
            },
            "type": "scattermapbox"
           }
          ],
          "scatterpolar": [
           {
            "marker": {
             "colorbar": {
              "outlinewidth": 0,
              "ticks": ""
             }
            },
            "type": "scatterpolar"
           }
          ],
          "scatterpolargl": [
           {
            "marker": {
             "colorbar": {
              "outlinewidth": 0,
              "ticks": ""
             }
            },
            "type": "scatterpolargl"
           }
          ],
          "scatterternary": [
           {
            "marker": {
             "colorbar": {
              "outlinewidth": 0,
              "ticks": ""
             }
            },
            "type": "scatterternary"
           }
          ],
          "surface": [
           {
            "colorbar": {
             "outlinewidth": 0,
             "ticks": ""
            },
            "colorscale": [
             [
              0,
              "#0d0887"
             ],
             [
              0.1111111111111111,
              "#46039f"
             ],
             [
              0.2222222222222222,
              "#7201a8"
             ],
             [
              0.3333333333333333,
              "#9c179e"
             ],
             [
              0.4444444444444444,
              "#bd3786"
             ],
             [
              0.5555555555555556,
              "#d8576b"
             ],
             [
              0.6666666666666666,
              "#ed7953"
             ],
             [
              0.7777777777777778,
              "#fb9f3a"
             ],
             [
              0.8888888888888888,
              "#fdca26"
             ],
             [
              1,
              "#f0f921"
             ]
            ],
            "type": "surface"
           }
          ],
          "table": [
           {
            "cells": {
             "fill": {
              "color": "#EBF0F8"
             },
             "line": {
              "color": "white"
             }
            },
            "header": {
             "fill": {
              "color": "#C8D4E3"
             },
             "line": {
              "color": "white"
             }
            },
            "type": "table"
           }
          ]
         },
         "layout": {
          "annotationdefaults": {
           "arrowcolor": "#2a3f5f",
           "arrowhead": 0,
           "arrowwidth": 1
          },
          "autotypenumbers": "strict",
          "coloraxis": {
           "colorbar": {
            "outlinewidth": 0,
            "ticks": ""
           }
          },
          "colorscale": {
           "diverging": [
            [
             0,
             "#8e0152"
            ],
            [
             0.1,
             "#c51b7d"
            ],
            [
             0.2,
             "#de77ae"
            ],
            [
             0.3,
             "#f1b6da"
            ],
            [
             0.4,
             "#fde0ef"
            ],
            [
             0.5,
             "#f7f7f7"
            ],
            [
             0.6,
             "#e6f5d0"
            ],
            [
             0.7,
             "#b8e186"
            ],
            [
             0.8,
             "#7fbc41"
            ],
            [
             0.9,
             "#4d9221"
            ],
            [
             1,
             "#276419"
            ]
           ],
           "sequential": [
            [
             0,
             "#0d0887"
            ],
            [
             0.1111111111111111,
             "#46039f"
            ],
            [
             0.2222222222222222,
             "#7201a8"
            ],
            [
             0.3333333333333333,
             "#9c179e"
            ],
            [
             0.4444444444444444,
             "#bd3786"
            ],
            [
             0.5555555555555556,
             "#d8576b"
            ],
            [
             0.6666666666666666,
             "#ed7953"
            ],
            [
             0.7777777777777778,
             "#fb9f3a"
            ],
            [
             0.8888888888888888,
             "#fdca26"
            ],
            [
             1,
             "#f0f921"
            ]
           ],
           "sequentialminus": [
            [
             0,
             "#0d0887"
            ],
            [
             0.1111111111111111,
             "#46039f"
            ],
            [
             0.2222222222222222,
             "#7201a8"
            ],
            [
             0.3333333333333333,
             "#9c179e"
            ],
            [
             0.4444444444444444,
             "#bd3786"
            ],
            [
             0.5555555555555556,
             "#d8576b"
            ],
            [
             0.6666666666666666,
             "#ed7953"
            ],
            [
             0.7777777777777778,
             "#fb9f3a"
            ],
            [
             0.8888888888888888,
             "#fdca26"
            ],
            [
             1,
             "#f0f921"
            ]
           ]
          },
          "colorway": [
           "#636efa",
           "#EF553B",
           "#00cc96",
           "#ab63fa",
           "#FFA15A",
           "#19d3f3",
           "#FF6692",
           "#B6E880",
           "#FF97FF",
           "#FECB52"
          ],
          "font": {
           "color": "#2a3f5f"
          },
          "geo": {
           "bgcolor": "white",
           "lakecolor": "white",
           "landcolor": "#E5ECF6",
           "showlakes": true,
           "showland": true,
           "subunitcolor": "white"
          },
          "hoverlabel": {
           "align": "left"
          },
          "hovermode": "closest",
          "mapbox": {
           "style": "light"
          },
          "paper_bgcolor": "white",
          "plot_bgcolor": "#E5ECF6",
          "polar": {
           "angularaxis": {
            "gridcolor": "white",
            "linecolor": "white",
            "ticks": ""
           },
           "bgcolor": "#E5ECF6",
           "radialaxis": {
            "gridcolor": "white",
            "linecolor": "white",
            "ticks": ""
           }
          },
          "scene": {
           "xaxis": {
            "backgroundcolor": "#E5ECF6",
            "gridcolor": "white",
            "gridwidth": 2,
            "linecolor": "white",
            "showbackground": true,
            "ticks": "",
            "zerolinecolor": "white"
           },
           "yaxis": {
            "backgroundcolor": "#E5ECF6",
            "gridcolor": "white",
            "gridwidth": 2,
            "linecolor": "white",
            "showbackground": true,
            "ticks": "",
            "zerolinecolor": "white"
           },
           "zaxis": {
            "backgroundcolor": "#E5ECF6",
            "gridcolor": "white",
            "gridwidth": 2,
            "linecolor": "white",
            "showbackground": true,
            "ticks": "",
            "zerolinecolor": "white"
           }
          },
          "shapedefaults": {
           "line": {
            "color": "#2a3f5f"
           }
          },
          "ternary": {
           "aaxis": {
            "gridcolor": "white",
            "linecolor": "white",
            "ticks": ""
           },
           "baxis": {
            "gridcolor": "white",
            "linecolor": "white",
            "ticks": ""
           },
           "bgcolor": "#E5ECF6",
           "caxis": {
            "gridcolor": "white",
            "linecolor": "white",
            "ticks": ""
           }
          },
          "title": {
           "x": 0.05
          },
          "xaxis": {
           "automargin": true,
           "gridcolor": "white",
           "linecolor": "white",
           "ticks": "",
           "title": {
            "standoff": 15
           },
           "zerolinecolor": "white",
           "zerolinewidth": 2
          },
          "yaxis": {
           "automargin": true,
           "gridcolor": "white",
           "linecolor": "white",
           "ticks": "",
           "title": {
            "standoff": 15
           },
           "zerolinecolor": "white",
           "zerolinewidth": 2
          }
         }
        },
        "xaxis": {
         "anchor": "y",
         "constrain": "domain",
         "domain": [
          0,
          1
         ],
         "scaleanchor": "y"
        },
        "yaxis": {
         "anchor": "x",
         "autorange": "reversed",
         "constrain": "domain",
         "domain": [
          0,
          1
         ]
        }
       }
      }
     },
     "metadata": {},
     "output_type": "display_data"
    }
   ],
   "source": [
    "correlation_mat = data.___\n",
    "heatmap = px.imshow(...)\n",
    "heatmap.___()"
   ]
  },
  {
   "cell_type": "markdown",
   "metadata": {},
   "source": [
    "<p dir=rtl style=\"direction: rtl;text-align: right;line-height:200%;font-family:vazir;font-size:medium\">\n",
    "<font face=\"vazir\" size=3>\n",
    "با استفاده از نمودار بالا ویژگی هایی که با \n",
    "<code>life</code>\n",
    "همبستگی منفی دارند را پیدا کنید.\n",
    "  </font>\n",
    "</p>"
   ]
  },
  {
   "cell_type": "markdown",
   "metadata": {},
   "source": [
    "<p dir=rtl style=\"direction: rtl;text-align: right;line-height:200%;font-family:vazir;font-size:medium\">\n",
    "<font face=\"vazir\" size=3>\n",
    "در ادامه میخواهیم با استفاده از ویژگی\n",
    "<code>fertility</code>\n",
    "امید به زندگی یا\n",
    "<code>life</code>\n",
    "را با استفاده از\n",
    "<code>sklearn</code>\n",
    " پیش بینی کنیم.\n",
    "  </font>\n",
    "</p>"
   ]
  },
  {
   "cell_type": "markdown",
   "metadata": {},
   "source": [
    "<h1 align=right style=\"line-height:150%;font-family:vazir;color:#0099cc\">\n",
    "<font face=\"vazir\" color=\"#0099cc\">\n",
    "تقسیم داده به دو قسمت آموزش و آزمون\n",
    "</font>\n",
    "</h1>"
   ]
  },
  {
   "cell_type": "markdown",
   "metadata": {},
   "source": [
    "<p style=\"text-align:center\"><img  src=\"https://i.postimg.cc/W4gvvdPy/sklearn-logo.png\" width=\"1000\" alt=\"Gapminder logo\"></p>"
   ]
  },
  {
   "cell_type": "markdown",
   "metadata": {},
   "source": [
    "<p dir=rtl style=\"direction: rtl;text-align: right;line-height:200%;font-family:vazir;font-size:medium\">\n",
    "<font face=\"vazir\" size=3>\n",
    "    با استفاده از تابع\n",
    "    <code>train_test_split</code>\n",
    "    در کتابخانه\n",
    "    <code>sklearn</code>\n",
    "    داده ها را به دو قسمت\n",
    "    <b>آموزش</b>\n",
    "    و\n",
    "    <b>آزمون</b>\n",
    "    تقسیم میکنیم به طوری که\n",
    "    <code>20%</code>\n",
    "     کل داده ها به داده های آزمون اختصاص داده شود.\n",
    " </font>\n",
    "</p>"
   ]
  },
  {
   "cell_type": "code",
   "execution_count": 11,
   "metadata": {},
   "outputs": [],
   "source": [
    "from sklearn.model_selection import train_test_split\n",
    "X_simple_reg = data[...].values\n",
    "y_simple_reg = data[...].values"
   ]
  },
  {
   "cell_type": "markdown",
   "metadata": {},
   "source": [
    "<p dir=rtl style=\"direction: rtl;text-align: right;line-height:200%;font-family:vazir;font-size:medium\">\n",
    "<font face=\"vazir\" size=3>\n",
    "<b>\n",
    "توجه:\n",
    "</b>\n",
    "مدل های \n",
    "<code>sklearn</code>\n",
    "با داده های یک بعدی کار نمیکنند.اینجا لازم است قبل از اینکه آموزش و پیش بینی را انجام دهیم داده های خود را دوبعدی کنیم.\n",
    "</font>\n",
    "</p>"
   ]
  },
  {
   "cell_type": "code",
   "execution_count": 11,
   "metadata": {},
   "outputs": [],
   "source": [
    "X_simple_2d = X_simple_reg.reshape(-1,1)\n",
    "y_simple_2d = y_simple_reg.reshape(-1,1)"
   ]
  },
  {
   "cell_type": "code",
   "execution_count": 12,
   "metadata": {},
   "outputs": [],
   "source": [
    "X_train_simple, X_test_simple, y_train_simple, y_test_simple = train_test_split(X_simple_2d, y_simple_2d, test_size=..., random_state=...)"
   ]
  },
  {
   "cell_type": "markdown",
   "metadata": {},
   "source": [
    "<p dir=rtl style=\"direction: rtl;text-align: right;line-height:200%;font-family:vazir;font-size:medium\">\n",
    "<font face=\"vazir\" size=3>\n",
    "    پارامتر\n",
    "    <code>random_state</code>\n",
    "    فرایند\n",
    "    <code>shuffle</code>\n",
    "    کردن را کنترل میکند به طوری که اگر مقدار آن\n",
    "    <code>None</code>\n",
    "    باشد در اجرا های مختلف دسته بندی داده متفاوت خواهد بود ولی اگر یک مقدار مثل\n",
    "    <code>42</code>\n",
    "    به آن بدهیم در اجرا های مختلف نتایج یکسانی دریافت میکنیم.\n",
    " </font>\n",
    "</p>"
   ]
  },
  {
   "cell_type": "markdown",
   "metadata": {},
   "source": [
    "<p dir=rtl style=\"direction: rtl;text-align: right;line-height:200%;font-family:vazir;font-size:medium\">\n",
    "<font face=\"vazir\" size=3>\n",
    "برای ساخت مدل رگرسیون خطی و بررسی عملکرد آن  \n",
    "<code>LinearRegression</code>\n",
    "و\n",
    "<code>mean_squared_error</code>\n",
    "را از\n",
    "<code>sklearn</code>\n",
    "اضافه میکنیم.\n",
    " </font>\n",
    "</p>"
   ]
  },
  {
   "cell_type": "code",
   "execution_count": 10,
   "metadata": {},
   "outputs": [],
   "source": [
    "from sklearn.linear_model import ...\n",
    "from sklearn.metrics import ..."
   ]
  },
  {
   "cell_type": "markdown",
   "metadata": {},
   "source": [
    "<p dir=rtl style=\"direction: rtl;text-align: right;line-height:200%;font-family:vazir;font-size:medium\">\n",
    "<font face=\"vazir\" size=3>\n",
    "برای ساخت مدل رگرسیون خطی کافیست\n",
    "آن را فراخوانی کنیم.\n",
    " </font>\n",
    "</p>"
   ]
  },
  {
   "cell_type": "code",
   "execution_count": 14,
   "metadata": {},
   "outputs": [],
   "source": [
    "linear_reg_simple = ..."
   ]
  },
  {
   "cell_type": "markdown",
   "metadata": {},
   "source": [
    "<p dir=rtl style=\"direction: rtl;text-align: right;line-height:200%;font-family:vazir;font-size:medium\">\n",
    "<font face=\"vazir\" size=3>\n",
    "حالا که مدل را ساختیم برای انجام پیش بینی لازم است آن را روی داده های \n",
    "آموزشی یعنی\n",
    "<code>X_train_simple</code>\n",
    "و\n",
    "<code>y_train_simple</code>\n",
    "آموزش دهیم.\n",
    "برای اینکار از متد\n",
    "<code>fit</code>\n",
    "استفاده میکنیم. \n",
    "این تابع داده های آموزشی را به عنوان ورودی دریافت میکند.\n",
    "</font>\n",
    "</p>"
   ]
  },
  {
   "cell_type": "code",
   "execution_count": 15,
   "metadata": {},
   "outputs": [
    {
     "data": {
      "text/html": [
       "<style>#sk-container-id-1 {color: black;background-color: white;}#sk-container-id-1 pre{padding: 0;}#sk-container-id-1 div.sk-toggleable {background-color: white;}#sk-container-id-1 label.sk-toggleable__label {cursor: pointer;display: block;width: 100%;margin-bottom: 0;padding: 0.3em;box-sizing: border-box;text-align: center;}#sk-container-id-1 label.sk-toggleable__label-arrow:before {content: \"▸\";float: left;margin-right: 0.25em;color: #696969;}#sk-container-id-1 label.sk-toggleable__label-arrow:hover:before {color: black;}#sk-container-id-1 div.sk-estimator:hover label.sk-toggleable__label-arrow:before {color: black;}#sk-container-id-1 div.sk-toggleable__content {max-height: 0;max-width: 0;overflow: hidden;text-align: left;background-color: #f0f8ff;}#sk-container-id-1 div.sk-toggleable__content pre {margin: 0.2em;color: black;border-radius: 0.25em;background-color: #f0f8ff;}#sk-container-id-1 input.sk-toggleable__control:checked~div.sk-toggleable__content {max-height: 200px;max-width: 100%;overflow: auto;}#sk-container-id-1 input.sk-toggleable__control:checked~label.sk-toggleable__label-arrow:before {content: \"▾\";}#sk-container-id-1 div.sk-estimator input.sk-toggleable__control:checked~label.sk-toggleable__label {background-color: #d4ebff;}#sk-container-id-1 div.sk-label input.sk-toggleable__control:checked~label.sk-toggleable__label {background-color: #d4ebff;}#sk-container-id-1 input.sk-hidden--visually {border: 0;clip: rect(1px 1px 1px 1px);clip: rect(1px, 1px, 1px, 1px);height: 1px;margin: -1px;overflow: hidden;padding: 0;position: absolute;width: 1px;}#sk-container-id-1 div.sk-estimator {font-family: monospace;background-color: #f0f8ff;border: 1px dotted black;border-radius: 0.25em;box-sizing: border-box;margin-bottom: 0.5em;}#sk-container-id-1 div.sk-estimator:hover {background-color: #d4ebff;}#sk-container-id-1 div.sk-parallel-item::after {content: \"\";width: 100%;border-bottom: 1px solid gray;flex-grow: 1;}#sk-container-id-1 div.sk-label:hover label.sk-toggleable__label {background-color: #d4ebff;}#sk-container-id-1 div.sk-serial::before {content: \"\";position: absolute;border-left: 1px solid gray;box-sizing: border-box;top: 0;bottom: 0;left: 50%;z-index: 0;}#sk-container-id-1 div.sk-serial {display: flex;flex-direction: column;align-items: center;background-color: white;padding-right: 0.2em;padding-left: 0.2em;position: relative;}#sk-container-id-1 div.sk-item {position: relative;z-index: 1;}#sk-container-id-1 div.sk-parallel {display: flex;align-items: stretch;justify-content: center;background-color: white;position: relative;}#sk-container-id-1 div.sk-item::before, #sk-container-id-1 div.sk-parallel-item::before {content: \"\";position: absolute;border-left: 1px solid gray;box-sizing: border-box;top: 0;bottom: 0;left: 50%;z-index: -1;}#sk-container-id-1 div.sk-parallel-item {display: flex;flex-direction: column;z-index: 1;position: relative;background-color: white;}#sk-container-id-1 div.sk-parallel-item:first-child::after {align-self: flex-end;width: 50%;}#sk-container-id-1 div.sk-parallel-item:last-child::after {align-self: flex-start;width: 50%;}#sk-container-id-1 div.sk-parallel-item:only-child::after {width: 0;}#sk-container-id-1 div.sk-dashed-wrapped {border: 1px dashed gray;margin: 0 0.4em 0.5em 0.4em;box-sizing: border-box;padding-bottom: 0.4em;background-color: white;}#sk-container-id-1 div.sk-label label {font-family: monospace;font-weight: bold;display: inline-block;line-height: 1.2em;}#sk-container-id-1 div.sk-label-container {text-align: center;}#sk-container-id-1 div.sk-container {/* jupyter's `normalize.less` sets `[hidden] { display: none; }` but bootstrap.min.css set `[hidden] { display: none !important; }` so we also need the `!important` here to be able to override the default hidden behavior on the sphinx rendered scikit-learn.org. See: https://github.com/scikit-learn/scikit-learn/issues/21755 */display: inline-block !important;position: relative;}#sk-container-id-1 div.sk-text-repr-fallback {display: none;}</style><div id=\"sk-container-id-1\" class=\"sk-top-container\"><div class=\"sk-text-repr-fallback\"><pre>LinearRegression()</pre><b>In a Jupyter environment, please rerun this cell to show the HTML representation or trust the notebook. <br />On GitHub, the HTML representation is unable to render, please try loading this page with nbviewer.org.</b></div><div class=\"sk-container\" hidden><div class=\"sk-item\"><div class=\"sk-estimator sk-toggleable\"><input class=\"sk-toggleable__control sk-hidden--visually\" id=\"sk-estimator-id-1\" type=\"checkbox\" checked><label for=\"sk-estimator-id-1\" class=\"sk-toggleable__label sk-toggleable__label-arrow\">LinearRegression</label><div class=\"sk-toggleable__content\"><pre>LinearRegression()</pre></div></div></div></div></div>"
      ],
      "text/plain": [
       "LinearRegression()"
      ]
     },
     "execution_count": 15,
     "metadata": {},
     "output_type": "execute_result"
    }
   ],
   "source": [
    "linear_reg_simple.___(... , ...)"
   ]
  },
  {
   "cell_type": "markdown",
   "metadata": {},
   "source": [
    "<p dir=rtl style=\"direction: rtl;text-align: right;line-height:200%;font-family:vazir;font-size:medium\">\n",
    "<font face=\"vazir\" size=3>\n",
    "حالا میتوانیم روی داده های آزمون پیش بینی انجام دهیم.\n",
    " </font>\n",
    "</p>"
   ]
  },
  {
   "cell_type": "code",
   "execution_count": 16,
   "metadata": {},
   "outputs": [],
   "source": [
    "y_pred_simple = linear_reg_simple.___(...)"
   ]
  },
  {
   "cell_type": "markdown",
   "metadata": {},
   "source": [
    "<p dir=rtl style=\"direction: rtl;text-align: right;line-height:200%;font-family:vazir;font-size:medium\">\n",
    "<font face=\"vazir\" size=3>\n",
    "در نهایت خطای مدل را محاسبه میکنیم.\n",
    " </font>\n",
    "</p>"
   ]
  },
  {
   "cell_type": "code",
   "execution_count": 17,
   "metadata": {},
   "outputs": [
    {
     "name": "stdout",
     "output_type": "stream",
     "text": [
      "Mean squared error:  12.719085109582442\n"
     ]
    }
   ],
   "source": [
    "mse = mean_squared_error(... , ...)\n",
    "print(\"Mean squared error: \" , mse)"
   ]
  },
  {
   "cell_type": "markdown",
   "metadata": {},
   "source": [
    "<h1 align=right style=\"line-height:150%;font-family:vazir;color:#0099cc\">\n",
    "<font face=\"vazir\" color=\"#0099cc\">\n",
    "رسم خط برازش یافته\n",
    "</font>\n",
    "</h1>"
   ]
  },
  {
   "cell_type": "markdown",
   "metadata": {},
   "source": [
    "<p dir=rtl style=\"direction: rtl;text-align: right;line-height:200%;font-family:vazir;font-size:medium\">\n",
    "<font face=\"vazir\" size=3>\n",
    "برای رسم خط به دست آمده در مراحل قبل به پارامتر های آن نیاز داریم.پارامتر های مدل ما در\n",
    "ویژگی\n",
    "<code> _coef </code>\n",
    "و\n",
    "<code>_intercept</code>\n",
    "مدل\n",
    "ذخیره شده است.\n",
    " </font>\n",
    "</p>"
   ]
  },
  {
   "cell_type": "code",
   "execution_count": 18,
   "metadata": {},
   "outputs": [
    {
     "name": "stdout",
     "output_type": "stream",
     "text": [
      "Coefficients : -4.492523770392074\n",
      "Intercept : 82.75362130837394\n"
     ]
    }
   ],
   "source": [
    "print(\"Coefficients :\" , linear_reg_simple.coef_[0][0])\n",
    "print(\"Intercept :\" , linear_reg_simple.intercept_[0])"
   ]
  },
  {
   "cell_type": "markdown",
   "metadata": {},
   "source": [
    "<p dir=rtl style=\"direction: rtl;text-align: right;line-height:200%;font-family:vazir;font-size:medium\">\n",
    "<font face=\"vazir\" size=3>\n",
    "در این مسئله رابطه رگرسیون به صورت زیر است:\n",
    " </font>\n",
    "</p>"
   ]
  },
  {
   "cell_type": "markdown",
   "metadata": {},
   "source": [
    "$$\n",
    "\\hat{Y} = \\alpha_0 + \\alpha_1 * X\n",
    "$$"
   ]
  },
  {
   "cell_type": "markdown",
   "metadata": {},
   "source": [
    "<p dir=rtl style=\"direction: rtl;text-align: right;line-height:200%;font-family:vazir;font-size:medium\">\n",
    "<font face=\"vazir\" size=3>\n",
    "همانطور که مشاهده میکنید مدل ما فقط دو پارامتر دارد.حال با استفاده از آن ها  خط برازش شده را رسم میکنیم.\n",
    " </font>\n",
    "</p>"
   ]
  },
  {
   "cell_type": "code",
   "execution_count": 19,
   "metadata": {},
   "outputs": [],
   "source": [
    "coef , intercept = ... , ...\n",
    "x_space = np.arange(1 , 7 , 0.1)\n",
    "y = intercept + ... * x_space"
   ]
  },
  {
   "cell_type": "code",
   "execution_count": 20,
   "metadata": {},
   "outputs": [
    {
     "data": {
      "application/vnd.plotly.v1+json": {
       "config": {
        "plotlyServerURL": "https://plot.ly"
       },
       "data": [
        {
         "hovertemplate": "fertility=%{x}<br>life=%{y}<extra></extra>",
         "legendgroup": "",
         "marker": {
          "color": "#636efa",
          "symbol": "circle"
         },
         "mode": "markers",
         "name": "",
         "orientation": "v",
         "showlegend": false,
         "type": "scatter",
         "x": [
          2.73,
          6.43,
          2.24,
          1.4,
          1.96,
          1.41,
          1.99,
          1.89,
          2.38,
          1.83,
          1.42,
          1.82,
          2.91,
          5.27,
          2.51,
          3.48,
          2.86,
          1.9,
          1.43,
          6.04,
          6.48,
          3.05,
          5.17,
          1.68,
          6.81,
          1.89,
          2.43,
          5.05,
          5.1,
          1.91,
          4.91,
          1.43,
          1.5,
          1.89,
          3.76,
          2.73,
          2.95,
          2.32,
          5.31,
          5.16,
          1.62,
          2.74,
          1.85,
          1.97,
          4.28,
          5.8,
          1.79,
          1.37,
          4.19,
          1.46,
          4.12,
          5.34,
          5.25,
          2.74,
          3.5,
          3.27,
          1.33,
          2.12,
          2.64,
          2.48,
          1.88,
          2,
          2.92,
          1.39,
          2.39,
          1.34,
          2.51,
          4.76,
          1.5,
          1.57,
          3.34,
          5.19,
          1.42,
          1.63,
          4.79,
          5.78,
          2.05,
          2.38,
          6.82,
          1.38,
          4.94,
          1.58,
          2.35,
          1.49,
          2.37,
          2.44,
          5.54,
          2.05,
          2.9,
          1.77,
          2.12,
          2.72,
          7.59,
          6.02,
          1.96,
          2.89,
          3.58,
          2.61,
          4.07,
          3.06,
          2.58,
          3.26,
          1.33,
          1.36,
          2.2,
          1.34,
          1.49,
          5.06,
          5.11,
          1.41,
          5.13,
          1.28,
          1.31,
          1.43,
          7.06,
          2.54,
          1.42,
          2.32,
          4.79,
          2.41,
          3.7,
          1.92,
          1.47,
          3.7,
          5.54,
          1.48,
          4.88,
          1.8,
          2.04,
          2.15,
          6.34,
          1.38,
          1.87,
          2.07,
          2.11,
          2.46,
          1.86,
          5.88,
          3.85
         ],
         "xaxis": "x",
         "y": [
          75.3,
          58.3,
          75.5,
          72.5,
          81.5,
          80.4,
          70.6,
          72.2,
          68.4,
          75.3,
          70.1,
          79.4,
          70.7,
          63.2,
          67.6,
          70.9,
          61.2,
          73.9,
          73.2,
          59.4,
          57.4,
          66.2,
          56.6,
          80.7,
          54.8,
          78.9,
          75.1,
          62.6,
          58.6,
          79.7,
          55.9,
          76.5,
          77.8,
          78.7,
          61,
          74,
          70.1,
          74.1,
          56.7,
          60.4,
          74,
          65.7,
          79.4,
          81,
          57.5,
          62.2,
          72.1,
          80,
          62.7,
          79.5,
          70.8,
          58.3,
          51.3,
          63,
          61.7,
          70.9,
          73.8,
          82,
          64.4,
          69.5,
          76.9,
          79.4,
          80.9,
          81.4,
          75.5,
          82.6,
          66.1,
          61.5,
          72.3,
          77.6,
          45.2,
          61,
          72,
          80.7,
          63.4,
          51.4,
          74.5,
          78.2,
          55.8,
          81.4,
          63.6,
          72.1,
          75.7,
          69.6,
          63.2,
          73.3,
          55,
          60.8,
          68.6,
          80.3,
          80.2,
          75.2,
          59.7,
          58,
          80.7,
          74.6,
          64.1,
          77.1,
          58.2,
          73.6,
          76.8,
          69.4,
          75.3,
          79.2,
          80.4,
          73.4,
          67.6,
          62.2,
          64.3,
          76.4,
          55.9,
          80.9,
          74.8,
          78.5,
          56.7,
          55,
          81.1,
          74.3,
          67.4,
          69.1,
          46.1,
          81.1,
          81.9,
          69.5,
          59.7,
          74.1,
          60,
          71.3,
          76.5,
          75.1,
          57.2,
          68.2,
          79.5,
          78.2,
          76,
          68.7,
          75.4,
          52,
          49
         ],
         "yaxis": "y"
        },
        {
         "hovertemplate": "x=%{x}<br>y=%{y}<extra></extra>",
         "legendgroup": "",
         "line": {
          "color": "#ff0000",
          "dash": "solid",
          "width": 5
         },
         "marker": {
          "symbol": "circle"
         },
         "mode": "lines",
         "name": "",
         "orientation": "v",
         "showlegend": false,
         "type": "scatter",
         "x": [
          1,
          1.1,
          1.2000000000000002,
          1.3000000000000003,
          1.4000000000000004,
          1.5000000000000004,
          1.6000000000000005,
          1.7000000000000006,
          1.8000000000000007,
          1.9000000000000008,
          2.000000000000001,
          2.100000000000001,
          2.200000000000001,
          2.300000000000001,
          2.4000000000000012,
          2.5000000000000013,
          2.6000000000000014,
          2.7000000000000015,
          2.8000000000000016,
          2.9000000000000017,
          3.0000000000000018,
          3.100000000000002,
          3.200000000000002,
          3.300000000000002,
          3.400000000000002,
          3.500000000000002,
          3.6000000000000023,
          3.7000000000000024,
          3.8000000000000025,
          3.9000000000000026,
          4.000000000000003,
          4.100000000000003,
          4.200000000000003,
          4.3000000000000025,
          4.400000000000003,
          4.5000000000000036,
          4.600000000000003,
          4.700000000000003,
          4.800000000000003,
          4.900000000000004,
          5.0000000000000036,
          5.100000000000003,
          5.200000000000004,
          5.300000000000004,
          5.400000000000004,
          5.5000000000000036,
          5.600000000000004,
          5.700000000000005,
          5.800000000000004,
          5.900000000000004,
          6.000000000000004,
          6.100000000000005,
          6.200000000000005,
          6.300000000000004,
          6.400000000000005,
          6.500000000000005,
          6.600000000000005,
          6.700000000000005,
          6.800000000000005,
          6.900000000000006
         ],
         "xaxis": "x",
         "y": [
          78.26109753798187,
          77.81184516094265,
          77.36259278390345,
          76.91334040686424,
          76.46408802982504,
          76.01483565278582,
          75.56558327574662,
          75.1163308987074,
          74.6670785216682,
          74.21782614462899,
          73.76857376758979,
          73.31932139055058,
          72.87006901351137,
          72.42081663647217,
          71.97156425943295,
          71.52231188239375,
          71.07305950535454,
          70.62380712831533,
          70.17455475127612,
          69.72530237423692,
          69.2760499971977,
          68.8267976201585,
          68.37754524311929,
          67.92829286608008,
          67.47904048904087,
          67.02978811200167,
          66.58053573496247,
          66.13128335792325,
          65.68203098088404,
          65.23277860384484,
          64.78352622680563,
          64.33427384976642,
          63.88502147272722,
          63.43576909568801,
          62.9865167186488,
          62.537264341609585,
          62.088011964570384,
          61.638759587531176,
          61.18950721049197,
          60.74025483345275,
          60.29100245641355,
          59.84175007937435,
          59.392497702335135,
          58.943245325295926,
          58.49399294825672,
          58.04474057121752,
          57.5954881941783,
          57.14623581713909,
          56.696983440099885,
          56.247731063060684,
          55.79847868602147,
          55.34922630898227,
          54.89997393194306,
          54.45072155490385,
          54.00146917786464,
          53.552216800825434,
          53.102964423786226,
          52.65371204674702,
          52.20445966970781,
          51.7552072926686
         ],
         "yaxis": "y"
        }
       ],
       "layout": {
        "template": {
         "data": {
          "bar": [
           {
            "error_x": {
             "color": "#2a3f5f"
            },
            "error_y": {
             "color": "#2a3f5f"
            },
            "marker": {
             "line": {
              "color": "#E5ECF6",
              "width": 0.5
             },
             "pattern": {
              "fillmode": "overlay",
              "size": 10,
              "solidity": 0.2
             }
            },
            "type": "bar"
           }
          ],
          "barpolar": [
           {
            "marker": {
             "line": {
              "color": "#E5ECF6",
              "width": 0.5
             },
             "pattern": {
              "fillmode": "overlay",
              "size": 10,
              "solidity": 0.2
             }
            },
            "type": "barpolar"
           }
          ],
          "carpet": [
           {
            "aaxis": {
             "endlinecolor": "#2a3f5f",
             "gridcolor": "white",
             "linecolor": "white",
             "minorgridcolor": "white",
             "startlinecolor": "#2a3f5f"
            },
            "baxis": {
             "endlinecolor": "#2a3f5f",
             "gridcolor": "white",
             "linecolor": "white",
             "minorgridcolor": "white",
             "startlinecolor": "#2a3f5f"
            },
            "type": "carpet"
           }
          ],
          "choropleth": [
           {
            "colorbar": {
             "outlinewidth": 0,
             "ticks": ""
            },
            "type": "choropleth"
           }
          ],
          "contour": [
           {
            "colorbar": {
             "outlinewidth": 0,
             "ticks": ""
            },
            "colorscale": [
             [
              0,
              "#0d0887"
             ],
             [
              0.1111111111111111,
              "#46039f"
             ],
             [
              0.2222222222222222,
              "#7201a8"
             ],
             [
              0.3333333333333333,
              "#9c179e"
             ],
             [
              0.4444444444444444,
              "#bd3786"
             ],
             [
              0.5555555555555556,
              "#d8576b"
             ],
             [
              0.6666666666666666,
              "#ed7953"
             ],
             [
              0.7777777777777778,
              "#fb9f3a"
             ],
             [
              0.8888888888888888,
              "#fdca26"
             ],
             [
              1,
              "#f0f921"
             ]
            ],
            "type": "contour"
           }
          ],
          "contourcarpet": [
           {
            "colorbar": {
             "outlinewidth": 0,
             "ticks": ""
            },
            "type": "contourcarpet"
           }
          ],
          "heatmap": [
           {
            "colorbar": {
             "outlinewidth": 0,
             "ticks": ""
            },
            "colorscale": [
             [
              0,
              "#0d0887"
             ],
             [
              0.1111111111111111,
              "#46039f"
             ],
             [
              0.2222222222222222,
              "#7201a8"
             ],
             [
              0.3333333333333333,
              "#9c179e"
             ],
             [
              0.4444444444444444,
              "#bd3786"
             ],
             [
              0.5555555555555556,
              "#d8576b"
             ],
             [
              0.6666666666666666,
              "#ed7953"
             ],
             [
              0.7777777777777778,
              "#fb9f3a"
             ],
             [
              0.8888888888888888,
              "#fdca26"
             ],
             [
              1,
              "#f0f921"
             ]
            ],
            "type": "heatmap"
           }
          ],
          "heatmapgl": [
           {
            "colorbar": {
             "outlinewidth": 0,
             "ticks": ""
            },
            "colorscale": [
             [
              0,
              "#0d0887"
             ],
             [
              0.1111111111111111,
              "#46039f"
             ],
             [
              0.2222222222222222,
              "#7201a8"
             ],
             [
              0.3333333333333333,
              "#9c179e"
             ],
             [
              0.4444444444444444,
              "#bd3786"
             ],
             [
              0.5555555555555556,
              "#d8576b"
             ],
             [
              0.6666666666666666,
              "#ed7953"
             ],
             [
              0.7777777777777778,
              "#fb9f3a"
             ],
             [
              0.8888888888888888,
              "#fdca26"
             ],
             [
              1,
              "#f0f921"
             ]
            ],
            "type": "heatmapgl"
           }
          ],
          "histogram": [
           {
            "marker": {
             "pattern": {
              "fillmode": "overlay",
              "size": 10,
              "solidity": 0.2
             }
            },
            "type": "histogram"
           }
          ],
          "histogram2d": [
           {
            "colorbar": {
             "outlinewidth": 0,
             "ticks": ""
            },
            "colorscale": [
             [
              0,
              "#0d0887"
             ],
             [
              0.1111111111111111,
              "#46039f"
             ],
             [
              0.2222222222222222,
              "#7201a8"
             ],
             [
              0.3333333333333333,
              "#9c179e"
             ],
             [
              0.4444444444444444,
              "#bd3786"
             ],
             [
              0.5555555555555556,
              "#d8576b"
             ],
             [
              0.6666666666666666,
              "#ed7953"
             ],
             [
              0.7777777777777778,
              "#fb9f3a"
             ],
             [
              0.8888888888888888,
              "#fdca26"
             ],
             [
              1,
              "#f0f921"
             ]
            ],
            "type": "histogram2d"
           }
          ],
          "histogram2dcontour": [
           {
            "colorbar": {
             "outlinewidth": 0,
             "ticks": ""
            },
            "colorscale": [
             [
              0,
              "#0d0887"
             ],
             [
              0.1111111111111111,
              "#46039f"
             ],
             [
              0.2222222222222222,
              "#7201a8"
             ],
             [
              0.3333333333333333,
              "#9c179e"
             ],
             [
              0.4444444444444444,
              "#bd3786"
             ],
             [
              0.5555555555555556,
              "#d8576b"
             ],
             [
              0.6666666666666666,
              "#ed7953"
             ],
             [
              0.7777777777777778,
              "#fb9f3a"
             ],
             [
              0.8888888888888888,
              "#fdca26"
             ],
             [
              1,
              "#f0f921"
             ]
            ],
            "type": "histogram2dcontour"
           }
          ],
          "mesh3d": [
           {
            "colorbar": {
             "outlinewidth": 0,
             "ticks": ""
            },
            "type": "mesh3d"
           }
          ],
          "parcoords": [
           {
            "line": {
             "colorbar": {
              "outlinewidth": 0,
              "ticks": ""
             }
            },
            "type": "parcoords"
           }
          ],
          "pie": [
           {
            "automargin": true,
            "type": "pie"
           }
          ],
          "scatter": [
           {
            "fillpattern": {
             "fillmode": "overlay",
             "size": 10,
             "solidity": 0.2
            },
            "type": "scatter"
           }
          ],
          "scatter3d": [
           {
            "line": {
             "colorbar": {
              "outlinewidth": 0,
              "ticks": ""
             }
            },
            "marker": {
             "colorbar": {
              "outlinewidth": 0,
              "ticks": ""
             }
            },
            "type": "scatter3d"
           }
          ],
          "scattercarpet": [
           {
            "marker": {
             "colorbar": {
              "outlinewidth": 0,
              "ticks": ""
             }
            },
            "type": "scattercarpet"
           }
          ],
          "scattergeo": [
           {
            "marker": {
             "colorbar": {
              "outlinewidth": 0,
              "ticks": ""
             }
            },
            "type": "scattergeo"
           }
          ],
          "scattergl": [
           {
            "marker": {
             "colorbar": {
              "outlinewidth": 0,
              "ticks": ""
             }
            },
            "type": "scattergl"
           }
          ],
          "scattermapbox": [
           {
            "marker": {
             "colorbar": {
              "outlinewidth": 0,
              "ticks": ""
             }
            },
            "type": "scattermapbox"
           }
          ],
          "scatterpolar": [
           {
            "marker": {
             "colorbar": {
              "outlinewidth": 0,
              "ticks": ""
             }
            },
            "type": "scatterpolar"
           }
          ],
          "scatterpolargl": [
           {
            "marker": {
             "colorbar": {
              "outlinewidth": 0,
              "ticks": ""
             }
            },
            "type": "scatterpolargl"
           }
          ],
          "scatterternary": [
           {
            "marker": {
             "colorbar": {
              "outlinewidth": 0,
              "ticks": ""
             }
            },
            "type": "scatterternary"
           }
          ],
          "surface": [
           {
            "colorbar": {
             "outlinewidth": 0,
             "ticks": ""
            },
            "colorscale": [
             [
              0,
              "#0d0887"
             ],
             [
              0.1111111111111111,
              "#46039f"
             ],
             [
              0.2222222222222222,
              "#7201a8"
             ],
             [
              0.3333333333333333,
              "#9c179e"
             ],
             [
              0.4444444444444444,
              "#bd3786"
             ],
             [
              0.5555555555555556,
              "#d8576b"
             ],
             [
              0.6666666666666666,
              "#ed7953"
             ],
             [
              0.7777777777777778,
              "#fb9f3a"
             ],
             [
              0.8888888888888888,
              "#fdca26"
             ],
             [
              1,
              "#f0f921"
             ]
            ],
            "type": "surface"
           }
          ],
          "table": [
           {
            "cells": {
             "fill": {
              "color": "#EBF0F8"
             },
             "line": {
              "color": "white"
             }
            },
            "header": {
             "fill": {
              "color": "#C8D4E3"
             },
             "line": {
              "color": "white"
             }
            },
            "type": "table"
           }
          ]
         },
         "layout": {
          "annotationdefaults": {
           "arrowcolor": "#2a3f5f",
           "arrowhead": 0,
           "arrowwidth": 1
          },
          "autotypenumbers": "strict",
          "coloraxis": {
           "colorbar": {
            "outlinewidth": 0,
            "ticks": ""
           }
          },
          "colorscale": {
           "diverging": [
            [
             0,
             "#8e0152"
            ],
            [
             0.1,
             "#c51b7d"
            ],
            [
             0.2,
             "#de77ae"
            ],
            [
             0.3,
             "#f1b6da"
            ],
            [
             0.4,
             "#fde0ef"
            ],
            [
             0.5,
             "#f7f7f7"
            ],
            [
             0.6,
             "#e6f5d0"
            ],
            [
             0.7,
             "#b8e186"
            ],
            [
             0.8,
             "#7fbc41"
            ],
            [
             0.9,
             "#4d9221"
            ],
            [
             1,
             "#276419"
            ]
           ],
           "sequential": [
            [
             0,
             "#0d0887"
            ],
            [
             0.1111111111111111,
             "#46039f"
            ],
            [
             0.2222222222222222,
             "#7201a8"
            ],
            [
             0.3333333333333333,
             "#9c179e"
            ],
            [
             0.4444444444444444,
             "#bd3786"
            ],
            [
             0.5555555555555556,
             "#d8576b"
            ],
            [
             0.6666666666666666,
             "#ed7953"
            ],
            [
             0.7777777777777778,
             "#fb9f3a"
            ],
            [
             0.8888888888888888,
             "#fdca26"
            ],
            [
             1,
             "#f0f921"
            ]
           ],
           "sequentialminus": [
            [
             0,
             "#0d0887"
            ],
            [
             0.1111111111111111,
             "#46039f"
            ],
            [
             0.2222222222222222,
             "#7201a8"
            ],
            [
             0.3333333333333333,
             "#9c179e"
            ],
            [
             0.4444444444444444,
             "#bd3786"
            ],
            [
             0.5555555555555556,
             "#d8576b"
            ],
            [
             0.6666666666666666,
             "#ed7953"
            ],
            [
             0.7777777777777778,
             "#fb9f3a"
            ],
            [
             0.8888888888888888,
             "#fdca26"
            ],
            [
             1,
             "#f0f921"
            ]
           ]
          },
          "colorway": [
           "#636efa",
           "#EF553B",
           "#00cc96",
           "#ab63fa",
           "#FFA15A",
           "#19d3f3",
           "#FF6692",
           "#B6E880",
           "#FF97FF",
           "#FECB52"
          ],
          "font": {
           "color": "#2a3f5f"
          },
          "geo": {
           "bgcolor": "white",
           "lakecolor": "white",
           "landcolor": "#E5ECF6",
           "showlakes": true,
           "showland": true,
           "subunitcolor": "white"
          },
          "hoverlabel": {
           "align": "left"
          },
          "hovermode": "closest",
          "mapbox": {
           "style": "light"
          },
          "paper_bgcolor": "white",
          "plot_bgcolor": "#E5ECF6",
          "polar": {
           "angularaxis": {
            "gridcolor": "white",
            "linecolor": "white",
            "ticks": ""
           },
           "bgcolor": "#E5ECF6",
           "radialaxis": {
            "gridcolor": "white",
            "linecolor": "white",
            "ticks": ""
           }
          },
          "scene": {
           "xaxis": {
            "backgroundcolor": "#E5ECF6",
            "gridcolor": "white",
            "gridwidth": 2,
            "linecolor": "white",
            "showbackground": true,
            "ticks": "",
            "zerolinecolor": "white"
           },
           "yaxis": {
            "backgroundcolor": "#E5ECF6",
            "gridcolor": "white",
            "gridwidth": 2,
            "linecolor": "white",
            "showbackground": true,
            "ticks": "",
            "zerolinecolor": "white"
           },
           "zaxis": {
            "backgroundcolor": "#E5ECF6",
            "gridcolor": "white",
            "gridwidth": 2,
            "linecolor": "white",
            "showbackground": true,
            "ticks": "",
            "zerolinecolor": "white"
           }
          },
          "shapedefaults": {
           "line": {
            "color": "#2a3f5f"
           }
          },
          "ternary": {
           "aaxis": {
            "gridcolor": "white",
            "linecolor": "white",
            "ticks": ""
           },
           "baxis": {
            "gridcolor": "white",
            "linecolor": "white",
            "ticks": ""
           },
           "bgcolor": "#E5ECF6",
           "caxis": {
            "gridcolor": "white",
            "linecolor": "white",
            "ticks": ""
           }
          },
          "title": {
           "x": 0.05
          },
          "xaxis": {
           "automargin": true,
           "gridcolor": "white",
           "linecolor": "white",
           "ticks": "",
           "title": {
            "standoff": 15
           },
           "zerolinecolor": "white",
           "zerolinewidth": 2
          },
          "yaxis": {
           "automargin": true,
           "gridcolor": "white",
           "linecolor": "white",
           "ticks": "",
           "title": {
            "standoff": 15
           },
           "zerolinecolor": "white",
           "zerolinewidth": 2
          }
         }
        }
       }
      }
     },
     "metadata": {},
     "output_type": "display_data"
    }
   ],
   "source": [
    "import plotly.graph_objects as go\n",
    "#scatter plot of fertility and life\n",
    "fig_scatter = px.___(data, x=..., y=...)\n",
    "# line plot of linear regression model\n",
    "fig_line = px.line(x=... , y=...)\n",
    "fig_line.update_traces(line_color='#ff0000', line_width=5)\n",
    "fig_combine = go.Figure(data=fig_scatter.data + fig_line.data)\n",
    "#show the plot\n",
    "fig_combine.___"
   ]
  },
  {
   "cell_type": "markdown",
   "metadata": {},
   "source": [
    "<h1 align=right style=\"line-height:150%;font-family:vazir;color:#0099cc\">\n",
    "<font face=\"vazir\" color=\"#0099cc\">\n",
    "رگرسیون چند گانه\n",
    "</font>\n",
    "</h1>"
   ]
  },
  {
   "cell_type": "markdown",
   "metadata": {},
   "source": [
    "<p dir=rtl style=\"direction: rtl;text-align: right;line-height:200%;font-family:vazir;font-size:medium\">\n",
    "<font face=\"vazir\" size=3>\n",
    "  در ادامه روند کار بسیار شبیه بخش های قبلی است با این تفاوت که برای پیش بینی از چند ویژگی \n",
    "  استفاده میکنیم.\n",
    " </font>\n",
    "</p>"
   ]
  },
  {
   "cell_type": "markdown",
   "metadata": {},
   "source": [
    "<p dir=rtl style=\"direction: rtl;text-align: right;line-height:200%;font-family:vazir;font-size:medium\">\n",
    "<font face=\"vazir\" size=3>\n",
    " ویژگی های \n",
    " <code>GDP</code>\n",
    " و\n",
    " <code>child_mortality</code>\n",
    " و\n",
    " <code>BMI_male</code>\n",
    " و\n",
    " <code>BMI_female</code>\n",
    " و\n",
    " <code>CO2</code>\n",
    " را به ویژگی های مدل اضافه کنید.\n",
    " </font>\n",
    "</p>"
   ]
  },
  {
   "cell_type": "code",
   "execution_count": 21,
   "metadata": {},
   "outputs": [],
   "source": [
    "features = [\"fertility\" , ...]\n",
    "target = ...\n",
    "X_multiple = data[...]\n",
    "y_multiple = data[...]"
   ]
  },
  {
   "cell_type": "code",
   "execution_count": 22,
   "metadata": {},
   "outputs": [],
   "source": [
    "X_train_multiple, X_test_multiple, y_train_multiple, y_test_multiple = train_test_split(..., ..., test_size=..., random_state=...)"
   ]
  },
  {
   "cell_type": "markdown",
   "metadata": {},
   "source": [
    "<p dir=rtl style=\"direction: rtl;text-align: right;line-height:200%;font-family:vazir;font-size:medium\">\n",
    "<font face=\"vazir\" size=3>\n",
    " در سلول زیر مدل را ساخته و خطای آن را اندازه میگیریم.\n",
    " </font>\n",
    "</p>"
   ]
  },
  {
   "cell_type": "code",
   "execution_count": 23,
   "metadata": {},
   "outputs": [
    {
     "name": "stdout",
     "output_type": "stream",
     "text": [
      "Mean Squared Error: 8.309611276702006\n"
     ]
    }
   ],
   "source": [
    "reg_multiple = ...\n",
    "# Fit the regressor to the training data\n",
    "reg_multiple.___(..., ...)\n",
    "\n",
    "# Predict on the test data: y_pred\n",
    "y_pred_multiple = reg_multiple.___(...)\n",
    "\n",
    "# Compute and print MSE\n",
    "mse = mean_squared_error(..., ...)\n",
    "print(f\"Mean Squared Error: {mse}\")\n"
   ]
  },
  {
   "cell_type": "markdown",
   "metadata": {},
   "source": [
    "<p dir=rtl style=\"direction: rtl;text-align: right;line-height:200%;font-family:vazir;font-size:medium\">\n",
    "<font face=\"vazir\" size=3>\n",
    " همانطور که مشاهده میکنید عملکرد مدل با استفاده از چند متغیر بهبود پیدا کرد.\n",
    " </font>\n",
    "</p>"
   ]
  },
  {
   "cell_type": "markdown",
   "metadata": {},
   "source": [
    "<h1 align=right style=\"line-height:150%;font-family:vazir;color:#0099cc\">\n",
    "<font face=\"vazir\" color=\"#0099cc\">\n",
    "فراتر از خطی\n",
    "</font>\n",
    "</h1>"
   ]
  },
  {
   "cell_type": "markdown",
   "metadata": {},
   "source": [
    "<p dir=rtl style=\"direction: rtl;text-align: right;line-height:200%;font-family:vazir;font-size:medium\">\n",
    "<font face=\"vazir\" size=3>\n",
    "در برخی موارد ممکن است تابعی که قصد داریم آن را پیش‌بینی کنیم، به طور خطی و مستقیم وابسته به متغیرهای ورودی نباشد، بلکه وابستگی تابع به متغیرهای ورودی به صورت \n",
    "<b>غیرخطی </b>\n",
    " باشد. \n",
    " </font>\n",
    "</p>"
   ]
  },
  {
   "cell_type": "markdown",
   "metadata": {},
   "source": [
    "$$\n",
    "Y = \\alpha_0 + \\alpha_1 * X + \\alpha_2 * X^2 + \\alpha_3 * X^3 + ... + \\alpha_n * X^n\n",
    "$$"
   ]
  },
  {
   "cell_type": "markdown",
   "metadata": {},
   "source": [
    "<p dir=rtl style=\"direction: rtl;text-align: right;line-height:200%;font-family:vazir;font-size:medium\">\n",
    "<font face=\"vazir\" size=3>\n",
    "در این بخش داده های خود را با استفاده از \n",
    "<code>np.random</code>\n",
    "میسازیم.\n",
    " </font>\n",
    "</p>"
   ]
  },
  {
   "cell_type": "code",
   "execution_count": 2,
   "metadata": {},
   "outputs": [],
   "source": [
    "X_poly = 6 * np.random.rand(200) - 3\n",
    "#equation  y = 0.5X^3 + 0.6x^2 + 0.8x + 2\n",
    "y_poly = 0.5 * X_poly**3 +  0.6 * X_poly**2 + 0.8*X_poly + 2 + np.random.randn(200)"
   ]
  },
  {
   "cell_type": "markdown",
   "metadata": {},
   "source": [
    "<p dir=rtl style=\"direction: rtl;text-align: right;line-height:200%;font-family:vazir;font-size:medium\">\n",
    "<font face=\"vazir\" size=3>\n",
    "با اجرای کد زیر نمودار پراکندگی داده های تصادفی تولید شده را رسم کنید.\n",
    "</font>\n",
    "</p>"
   ]
  },
  {
   "cell_type": "code",
   "execution_count": 4,
   "metadata": {},
   "outputs": [
    {
     "data": {
      "application/vnd.plotly.v1+json": {
       "config": {
        "plotlyServerURL": "https://plot.ly"
       },
       "data": [
        {
         "hovertemplate": "x=%{x}<br>y=%{y}<extra></extra>",
         "legendgroup": "",
         "marker": {
          "color": "#636efa",
          "symbol": "circle"
         },
         "mode": "markers",
         "name": "",
         "orientation": "v",
         "showlegend": false,
         "type": "scatter",
         "x": [
          -2.4795210527047624,
          1.062850551837256,
          1.8692533897439407,
          2.1804381120727196,
          1.546139443135739,
          -2.7056944012080018,
          -0.5194481557309212,
          -2.113947742116135,
          -2.5028904909911027,
          0.5251242522835549,
          -1.9445298972599674,
          -2.06213095369543,
          1.3398633865178837,
          -1.7304393849501272,
          -0.5838801859117235,
          -1.2700838133953554,
          -2.8722685709619977,
          2.4613924910466816,
          -0.07971509753258488,
          2.5942476893444937,
          -1.9297083882230088,
          1.0851429211724142,
          -0.23121877695768056,
          -0.47953626033471464,
          2.628193076089782,
          -2.4309763706580076,
          2.6884717974795524,
          -2.9041346784682904,
          -2.2381328946198793,
          0.7207805535798917,
          -1.6071542248807718,
          -2.1447514331191893,
          -2.597137644814727,
          1.2402336850185005,
          2.4503482942111106,
          -0.08481705111330529,
          -1.1505588882841602,
          2.3380975923233933,
          0.662863388960913,
          0.8851215198916087,
          0.7992736485140863,
          -2.176415996428444,
          2.7339392100898614,
          1.8014414361940538,
          2.1591957624574585,
          -2.109224023700403,
          2.9412862465026572,
          0.44623603398002576,
          2.3951664508699784,
          0.8515358213873849,
          0.4872426085909445,
          1.3840045684517879,
          2.2558875433393926,
          1.40361912731428,
          -1.3182696237073455,
          0.7622168340146422,
          2.6988803144647697,
          -0.640227448942638,
          -1.1741622315892957,
          -0.5861550457020117,
          -0.9488018294614737,
          1.5186576098626006,
          -2.2805583595831926,
          -2.3548634772442876,
          0.3901088539675568,
          -0.872638703576115,
          1.8657284429872645,
          1.3055933383324598,
          -1.081586674697476,
          1.8203437617310847,
          -0.6138517361928688,
          -0.7010115501644609,
          -2.320566360201051,
          -0.2524197538805395,
          -2.309177742383855,
          2.8384469367690652,
          1.0849151300411446,
          -2.6536474731370396,
          0.7911111347439577,
          -0.9193732080187904,
          -2.826833238924766,
          -1.7230631641915353,
          2.5754370280035124,
          -0.6784731285206842,
          -1.44318393426646,
          1.1288539454892383,
          -0.025894337373190357,
          2.2407884755869985,
          0.19229703717630375,
          0.9368210660175142,
          -2.3599232080091563,
          2.9179326019193983,
          -0.40866887566849464,
          2.511222244375505,
          2.360119600745623,
          1.3599813642453435,
          -0.6428299391676013,
          -0.6771615804089777,
          0.19193829917527605,
          -2.971320760634171,
          -0.7252235056425911,
          -2.3690817178167425,
          -1.9392771428711106,
          -1.527049504466713,
          1.3891393770854457,
          0.5288105979723339,
          2.7817960792731062,
          2.3357983726222464,
          -0.7917413961606381,
          1.5043389352207512,
          0.8104098397442385,
          -1.5200742980753599,
          2.089219695536058,
          2.2625312254792114,
          2.2336992706851824,
          0.21803374267279985,
          0.932659131242211,
          1.7845285682525107,
          -1.0581185224068876,
          2.9884325468489337,
          1.1108424407261603,
          -1.7614892303244358,
          2.324781487601107,
          1.7238322748424384,
          1.1636686408675807,
          0.1258592704785726,
          1.6548430239193381,
          2.7542092513128633,
          -1.401663710668483,
          -1.4236458576432411,
          -1.6019579532327235,
          -2.8792592816785847,
          -0.8234094249205794,
          -1.1559270208274655,
          -0.761643320749438,
          0.7830795459541688,
          1.3641858280937633,
          1.9218457688146193,
          0.3800112106593554,
          1.9621091058647835,
          2.667544797307438,
          -0.6130298088022923,
          -0.964655519424241,
          -0.5908087565342344,
          2.862084234581393,
          0.9374571651947914,
          2.75072527423477,
          -0.1823882861586945,
          2.962951747285043,
          -1.2662801596258229,
          0.14947419226616177,
          -0.42540340408742106,
          -2.2477097939156883,
          -0.36001545509246924,
          1.736448144678718,
          -0.484157757782798,
          0.015202454726185977,
          -2.1482251250375577,
          -2.4169771163596936,
          -0.343646150631046,
          0.3295816185633207,
          0.005436644108451016,
          -1.1039722211574168,
          -1.8522600844642205,
          -0.1810573930236763,
          -1.5437182583700197,
          -2.0089260157775595,
          -2.9757225644583736,
          -1.9150422960321383,
          0.22616999582576103,
          -2.7121864270648546,
          2.0553556064462573,
          1.9299290040993302,
          -2.394218540305968,
          1.347602986182979,
          1.9035184851932847,
          2.8908843184682143,
          -1.0359233007858373,
          -0.019251428138381765,
          -2.2797793430860307,
          0.609656206764984,
          0.5153807114498354,
          -0.022298428168729068,
          -2.6848196065374763,
          1.6470112240058183,
          -1.3695360322490389,
          1.2479508284338534,
          -2.9945419351080202,
          2.1770476681040716,
          -1.3413631777425723,
          -1.7599184985385263,
          -1.0656262119028141,
          -0.17208018146689952,
          -0.8419043671914976,
          1.8871049024334248,
          2.6948966513521935,
          -0.18885620220107624,
          -1.3172060484942003,
          1.0839259791583462,
          2.556033709796255
         ],
         "xaxis": "x",
         "y": [
          -3.6949446635877603,
          3.24215935630471,
          8.884150321682636,
          12.785772891970987,
          7.137140480044891,
          -6.828344322345793,
          2.633456967005354,
          -1.9406220840969899,
          -3.3015389424338064,
          2.460251585711804,
          -1.0887269947251867,
          -1.2596900300378127,
          5.765227135521637,
          -1.0532469840188619,
          3.3017108767833983,
          2.6575714642187247,
          -7.4506537392193755,
          15.103367399333154,
          2.402472416019367,
          15.304847087568081,
          -1.7991324994587512,
          1.8515439887985683,
          0.5267208519510402,
          0.8085300862998251,
          16.00811208093544,
          -2.409919386417625,
          17.718164024399496,
          -5.899280915977483,
          -3.238348014299684,
          4.272732940615635,
          -1.069047994252259,
          -2.5127148174459544,
          -6.3403087217430745,
          5.236517070152036,
          17.18669740669246,
          1.7816122542490915,
          0.5072296194403073,
          12.564724997658544,
          3.2339779386805247,
          1.948784284340415,
          4.54873714114314,
          -0.5464792772011005,
          16.836581915412786,
          8.641758922042765,
          8.388992749307315,
          -2.39367883580497,
          23.99797976838053,
          1.1215668052040166,
          14.77357089036171,
          4.834275301504428,
          2.608852248382056,
          7.595764645010851,
          13.291293435161895,
          4.796182652968705,
          2.6077097048939857,
          2.431239347028294,
          18.61194543360977,
          1.7273623412840637,
          1.4918374752712484,
          1.9108143549962933,
          0.19452007867918675,
          5.994676297064761,
          -2.306872619703977,
          -4.712624265681457,
          3.825645392245521,
          2.773354969704363,
          11.577722374880622,
          5.132662120471822,
          1.7745174425836496,
          7.815178915994529,
          2.7955989423487977,
          0.9902181729609905,
          -2.30080102987287,
          1.7940122973504506,
          -1.686197133079517,
          19.124155608148644,
          4.336927451883777,
          -5.130033412451919,
          3.605129978430228,
          1.6565581743717965,
          -6.1831680783977365,
          0.5596092453292659,
          15.613739294981734,
          3.5037270202054884,
          2.6915668326773194,
          4.172559563366046,
          2.69373598710688,
          11.946223111224542,
          0.08197055243326057,
          3.3769073373953695,
          -4.778570458581278,
          21.356470844990348,
          1.5604094436571196,
          15.964933412602885,
          13.741339796280586,
          6.340372828032362,
          1.5768324398334845,
          2.7289844951354425,
          1.9011989240103753,
          -9.182009045972189,
          1.7755353410385293,
          -4.0341971120495685,
          -0.3840346833411473,
          0.7099211941898084,
          6.80934422116447,
          3.2233280359886285,
          19.317954500121136,
          13.290292473607444,
          1.297931273740951,
          7.904689747171116,
          4.0547276713191485,
          1.5770102824676526,
          11.551035303089174,
          12.977083098334392,
          12.125744791799406,
          1.913337200032383,
          2.8628375596672533,
          7.681209284549575,
          0.8453805868491739,
          21.36821739762807,
          4.077008779910724,
          0.17732697490086557,
          11.557311392200083,
          8.956301495223002,
          5.173756237033493,
          1.9821424405456483,
          6.500292062025074,
          19.207238024009722,
          2.924742511363138,
          1.3970416803935757,
          0.3189276588151893,
          -7.221474825632306,
          1.9082261451328217,
          0.4223583216536636,
          -0.39593482079104625,
          1.1877028352473618,
          6.047118752604462,
          8.171983815345767,
          2.1747519742198347,
          9.46348416148482,
          18.766092661845118,
          -0.13419426017026392,
          0.5960929659984228,
          1.7530771574659867,
          22.327381660003592,
          3.224329278218182,
          18.83627693275014,
          0.9450157482582409,
          22.829326863133396,
          -0.00913262536643411,
          1.4244530074159043,
          1.7449726520633977,
          -1.9119559469781593,
          1.4146167125025633,
          7.650210310549233,
          3.5190626247832135,
          2.4108900310919807,
          -2.5054196856802005,
          -6.201039001456682,
          3.7091726260045492,
          3.3994557911608476,
          1.8237561926258907,
          4.0659151076548685,
          -1.7524704573097099,
          0.9352676019285427,
          -1.138368889571772,
          -0.09184793540723901,
          -8.02042309925231,
          0.078570741963636,
          2.484705502317532,
          -5.429066940080034,
          11.134618617830903,
          8.815704599464903,
          -3.9464728387473853,
          4.032699596538906,
          8.805401112129783,
          21.146069394724652,
          2.6373207044331846,
          1.1821205080552593,
          -3.216817401660024,
          3.647757601266291,
          4.281402335095203,
          0.7374980727493534,
          -6.001831049870047,
          6.404072843158342,
          2.3238517549026736,
          4.524952068166226,
          -7.513873451791728,
          11.739008677385995,
          0.7398279698827727,
          0.8820442458707025,
          1.2285417794988869,
          0.534057312236963,
          2.2567844778651804,
          7.427463651343695,
          15.635449018867913,
          1.1063257164913438,
          1.8494555346435448,
          5.000906923714418,
          16.42499278545984
         ],
         "yaxis": "y"
        }
       ],
       "layout": {
        "legend": {
         "tracegroupgap": 0
        },
        "margin": {
         "t": 60
        },
        "template": {
         "data": {
          "bar": [
           {
            "error_x": {
             "color": "#2a3f5f"
            },
            "error_y": {
             "color": "#2a3f5f"
            },
            "marker": {
             "line": {
              "color": "#E5ECF6",
              "width": 0.5
             },
             "pattern": {
              "fillmode": "overlay",
              "size": 10,
              "solidity": 0.2
             }
            },
            "type": "bar"
           }
          ],
          "barpolar": [
           {
            "marker": {
             "line": {
              "color": "#E5ECF6",
              "width": 0.5
             },
             "pattern": {
              "fillmode": "overlay",
              "size": 10,
              "solidity": 0.2
             }
            },
            "type": "barpolar"
           }
          ],
          "carpet": [
           {
            "aaxis": {
             "endlinecolor": "#2a3f5f",
             "gridcolor": "white",
             "linecolor": "white",
             "minorgridcolor": "white",
             "startlinecolor": "#2a3f5f"
            },
            "baxis": {
             "endlinecolor": "#2a3f5f",
             "gridcolor": "white",
             "linecolor": "white",
             "minorgridcolor": "white",
             "startlinecolor": "#2a3f5f"
            },
            "type": "carpet"
           }
          ],
          "choropleth": [
           {
            "colorbar": {
             "outlinewidth": 0,
             "ticks": ""
            },
            "type": "choropleth"
           }
          ],
          "contour": [
           {
            "colorbar": {
             "outlinewidth": 0,
             "ticks": ""
            },
            "colorscale": [
             [
              0,
              "#0d0887"
             ],
             [
              0.1111111111111111,
              "#46039f"
             ],
             [
              0.2222222222222222,
              "#7201a8"
             ],
             [
              0.3333333333333333,
              "#9c179e"
             ],
             [
              0.4444444444444444,
              "#bd3786"
             ],
             [
              0.5555555555555556,
              "#d8576b"
             ],
             [
              0.6666666666666666,
              "#ed7953"
             ],
             [
              0.7777777777777778,
              "#fb9f3a"
             ],
             [
              0.8888888888888888,
              "#fdca26"
             ],
             [
              1,
              "#f0f921"
             ]
            ],
            "type": "contour"
           }
          ],
          "contourcarpet": [
           {
            "colorbar": {
             "outlinewidth": 0,
             "ticks": ""
            },
            "type": "contourcarpet"
           }
          ],
          "heatmap": [
           {
            "colorbar": {
             "outlinewidth": 0,
             "ticks": ""
            },
            "colorscale": [
             [
              0,
              "#0d0887"
             ],
             [
              0.1111111111111111,
              "#46039f"
             ],
             [
              0.2222222222222222,
              "#7201a8"
             ],
             [
              0.3333333333333333,
              "#9c179e"
             ],
             [
              0.4444444444444444,
              "#bd3786"
             ],
             [
              0.5555555555555556,
              "#d8576b"
             ],
             [
              0.6666666666666666,
              "#ed7953"
             ],
             [
              0.7777777777777778,
              "#fb9f3a"
             ],
             [
              0.8888888888888888,
              "#fdca26"
             ],
             [
              1,
              "#f0f921"
             ]
            ],
            "type": "heatmap"
           }
          ],
          "heatmapgl": [
           {
            "colorbar": {
             "outlinewidth": 0,
             "ticks": ""
            },
            "colorscale": [
             [
              0,
              "#0d0887"
             ],
             [
              0.1111111111111111,
              "#46039f"
             ],
             [
              0.2222222222222222,
              "#7201a8"
             ],
             [
              0.3333333333333333,
              "#9c179e"
             ],
             [
              0.4444444444444444,
              "#bd3786"
             ],
             [
              0.5555555555555556,
              "#d8576b"
             ],
             [
              0.6666666666666666,
              "#ed7953"
             ],
             [
              0.7777777777777778,
              "#fb9f3a"
             ],
             [
              0.8888888888888888,
              "#fdca26"
             ],
             [
              1,
              "#f0f921"
             ]
            ],
            "type": "heatmapgl"
           }
          ],
          "histogram": [
           {
            "marker": {
             "pattern": {
              "fillmode": "overlay",
              "size": 10,
              "solidity": 0.2
             }
            },
            "type": "histogram"
           }
          ],
          "histogram2d": [
           {
            "colorbar": {
             "outlinewidth": 0,
             "ticks": ""
            },
            "colorscale": [
             [
              0,
              "#0d0887"
             ],
             [
              0.1111111111111111,
              "#46039f"
             ],
             [
              0.2222222222222222,
              "#7201a8"
             ],
             [
              0.3333333333333333,
              "#9c179e"
             ],
             [
              0.4444444444444444,
              "#bd3786"
             ],
             [
              0.5555555555555556,
              "#d8576b"
             ],
             [
              0.6666666666666666,
              "#ed7953"
             ],
             [
              0.7777777777777778,
              "#fb9f3a"
             ],
             [
              0.8888888888888888,
              "#fdca26"
             ],
             [
              1,
              "#f0f921"
             ]
            ],
            "type": "histogram2d"
           }
          ],
          "histogram2dcontour": [
           {
            "colorbar": {
             "outlinewidth": 0,
             "ticks": ""
            },
            "colorscale": [
             [
              0,
              "#0d0887"
             ],
             [
              0.1111111111111111,
              "#46039f"
             ],
             [
              0.2222222222222222,
              "#7201a8"
             ],
             [
              0.3333333333333333,
              "#9c179e"
             ],
             [
              0.4444444444444444,
              "#bd3786"
             ],
             [
              0.5555555555555556,
              "#d8576b"
             ],
             [
              0.6666666666666666,
              "#ed7953"
             ],
             [
              0.7777777777777778,
              "#fb9f3a"
             ],
             [
              0.8888888888888888,
              "#fdca26"
             ],
             [
              1,
              "#f0f921"
             ]
            ],
            "type": "histogram2dcontour"
           }
          ],
          "mesh3d": [
           {
            "colorbar": {
             "outlinewidth": 0,
             "ticks": ""
            },
            "type": "mesh3d"
           }
          ],
          "parcoords": [
           {
            "line": {
             "colorbar": {
              "outlinewidth": 0,
              "ticks": ""
             }
            },
            "type": "parcoords"
           }
          ],
          "pie": [
           {
            "automargin": true,
            "type": "pie"
           }
          ],
          "scatter": [
           {
            "fillpattern": {
             "fillmode": "overlay",
             "size": 10,
             "solidity": 0.2
            },
            "type": "scatter"
           }
          ],
          "scatter3d": [
           {
            "line": {
             "colorbar": {
              "outlinewidth": 0,
              "ticks": ""
             }
            },
            "marker": {
             "colorbar": {
              "outlinewidth": 0,
              "ticks": ""
             }
            },
            "type": "scatter3d"
           }
          ],
          "scattercarpet": [
           {
            "marker": {
             "colorbar": {
              "outlinewidth": 0,
              "ticks": ""
             }
            },
            "type": "scattercarpet"
           }
          ],
          "scattergeo": [
           {
            "marker": {
             "colorbar": {
              "outlinewidth": 0,
              "ticks": ""
             }
            },
            "type": "scattergeo"
           }
          ],
          "scattergl": [
           {
            "marker": {
             "colorbar": {
              "outlinewidth": 0,
              "ticks": ""
             }
            },
            "type": "scattergl"
           }
          ],
          "scattermapbox": [
           {
            "marker": {
             "colorbar": {
              "outlinewidth": 0,
              "ticks": ""
             }
            },
            "type": "scattermapbox"
           }
          ],
          "scatterpolar": [
           {
            "marker": {
             "colorbar": {
              "outlinewidth": 0,
              "ticks": ""
             }
            },
            "type": "scatterpolar"
           }
          ],
          "scatterpolargl": [
           {
            "marker": {
             "colorbar": {
              "outlinewidth": 0,
              "ticks": ""
             }
            },
            "type": "scatterpolargl"
           }
          ],
          "scatterternary": [
           {
            "marker": {
             "colorbar": {
              "outlinewidth": 0,
              "ticks": ""
             }
            },
            "type": "scatterternary"
           }
          ],
          "surface": [
           {
            "colorbar": {
             "outlinewidth": 0,
             "ticks": ""
            },
            "colorscale": [
             [
              0,
              "#0d0887"
             ],
             [
              0.1111111111111111,
              "#46039f"
             ],
             [
              0.2222222222222222,
              "#7201a8"
             ],
             [
              0.3333333333333333,
              "#9c179e"
             ],
             [
              0.4444444444444444,
              "#bd3786"
             ],
             [
              0.5555555555555556,
              "#d8576b"
             ],
             [
              0.6666666666666666,
              "#ed7953"
             ],
             [
              0.7777777777777778,
              "#fb9f3a"
             ],
             [
              0.8888888888888888,
              "#fdca26"
             ],
             [
              1,
              "#f0f921"
             ]
            ],
            "type": "surface"
           }
          ],
          "table": [
           {
            "cells": {
             "fill": {
              "color": "#EBF0F8"
             },
             "line": {
              "color": "white"
             }
            },
            "header": {
             "fill": {
              "color": "#C8D4E3"
             },
             "line": {
              "color": "white"
             }
            },
            "type": "table"
           }
          ]
         },
         "layout": {
          "annotationdefaults": {
           "arrowcolor": "#2a3f5f",
           "arrowhead": 0,
           "arrowwidth": 1
          },
          "autotypenumbers": "strict",
          "coloraxis": {
           "colorbar": {
            "outlinewidth": 0,
            "ticks": ""
           }
          },
          "colorscale": {
           "diverging": [
            [
             0,
             "#8e0152"
            ],
            [
             0.1,
             "#c51b7d"
            ],
            [
             0.2,
             "#de77ae"
            ],
            [
             0.3,
             "#f1b6da"
            ],
            [
             0.4,
             "#fde0ef"
            ],
            [
             0.5,
             "#f7f7f7"
            ],
            [
             0.6,
             "#e6f5d0"
            ],
            [
             0.7,
             "#b8e186"
            ],
            [
             0.8,
             "#7fbc41"
            ],
            [
             0.9,
             "#4d9221"
            ],
            [
             1,
             "#276419"
            ]
           ],
           "sequential": [
            [
             0,
             "#0d0887"
            ],
            [
             0.1111111111111111,
             "#46039f"
            ],
            [
             0.2222222222222222,
             "#7201a8"
            ],
            [
             0.3333333333333333,
             "#9c179e"
            ],
            [
             0.4444444444444444,
             "#bd3786"
            ],
            [
             0.5555555555555556,
             "#d8576b"
            ],
            [
             0.6666666666666666,
             "#ed7953"
            ],
            [
             0.7777777777777778,
             "#fb9f3a"
            ],
            [
             0.8888888888888888,
             "#fdca26"
            ],
            [
             1,
             "#f0f921"
            ]
           ],
           "sequentialminus": [
            [
             0,
             "#0d0887"
            ],
            [
             0.1111111111111111,
             "#46039f"
            ],
            [
             0.2222222222222222,
             "#7201a8"
            ],
            [
             0.3333333333333333,
             "#9c179e"
            ],
            [
             0.4444444444444444,
             "#bd3786"
            ],
            [
             0.5555555555555556,
             "#d8576b"
            ],
            [
             0.6666666666666666,
             "#ed7953"
            ],
            [
             0.7777777777777778,
             "#fb9f3a"
            ],
            [
             0.8888888888888888,
             "#fdca26"
            ],
            [
             1,
             "#f0f921"
            ]
           ]
          },
          "colorway": [
           "#636efa",
           "#EF553B",
           "#00cc96",
           "#ab63fa",
           "#FFA15A",
           "#19d3f3",
           "#FF6692",
           "#B6E880",
           "#FF97FF",
           "#FECB52"
          ],
          "font": {
           "color": "#2a3f5f"
          },
          "geo": {
           "bgcolor": "white",
           "lakecolor": "white",
           "landcolor": "#E5ECF6",
           "showlakes": true,
           "showland": true,
           "subunitcolor": "white"
          },
          "hoverlabel": {
           "align": "left"
          },
          "hovermode": "closest",
          "mapbox": {
           "style": "light"
          },
          "paper_bgcolor": "white",
          "plot_bgcolor": "#E5ECF6",
          "polar": {
           "angularaxis": {
            "gridcolor": "white",
            "linecolor": "white",
            "ticks": ""
           },
           "bgcolor": "#E5ECF6",
           "radialaxis": {
            "gridcolor": "white",
            "linecolor": "white",
            "ticks": ""
           }
          },
          "scene": {
           "xaxis": {
            "backgroundcolor": "#E5ECF6",
            "gridcolor": "white",
            "gridwidth": 2,
            "linecolor": "white",
            "showbackground": true,
            "ticks": "",
            "zerolinecolor": "white"
           },
           "yaxis": {
            "backgroundcolor": "#E5ECF6",
            "gridcolor": "white",
            "gridwidth": 2,
            "linecolor": "white",
            "showbackground": true,
            "ticks": "",
            "zerolinecolor": "white"
           },
           "zaxis": {
            "backgroundcolor": "#E5ECF6",
            "gridcolor": "white",
            "gridwidth": 2,
            "linecolor": "white",
            "showbackground": true,
            "ticks": "",
            "zerolinecolor": "white"
           }
          },
          "shapedefaults": {
           "line": {
            "color": "#2a3f5f"
           }
          },
          "ternary": {
           "aaxis": {
            "gridcolor": "white",
            "linecolor": "white",
            "ticks": ""
           },
           "baxis": {
            "gridcolor": "white",
            "linecolor": "white",
            "ticks": ""
           },
           "bgcolor": "#E5ECF6",
           "caxis": {
            "gridcolor": "white",
            "linecolor": "white",
            "ticks": ""
           }
          },
          "title": {
           "x": 0.05
          },
          "xaxis": {
           "automargin": true,
           "gridcolor": "white",
           "linecolor": "white",
           "ticks": "",
           "title": {
            "standoff": 15
           },
           "zerolinecolor": "white",
           "zerolinewidth": 2
          },
          "yaxis": {
           "automargin": true,
           "gridcolor": "white",
           "linecolor": "white",
           "ticks": "",
           "title": {
            "standoff": 15
           },
           "zerolinecolor": "white",
           "zerolinewidth": 2
          }
         }
        },
        "xaxis": {
         "anchor": "y",
         "domain": [
          0,
          1
         ],
         "title": {
          "text": "x"
         }
        },
        "yaxis": {
         "anchor": "x",
         "domain": [
          0,
          1
         ],
         "title": {
          "text": "y"
         }
        }
       }
      }
     },
     "metadata": {},
     "output_type": "display_data"
    }
   ],
   "source": [
    "# scatter plot of X_poly and y_poly\n",
    "fig_scatter_nonlin = px.___(x=..., y=...)\n",
    "#show the plot\n",
    "fig_scatter_nonlin.show()"
   ]
  },
  {
   "cell_type": "markdown",
   "metadata": {},
   "source": [
    "<p dir=rtl style=\"direction: rtl;text-align: right;line-height:200%;font-family:vazir;font-size:medium\">\n",
    "<font face=\"vazir\" size=3>\n",
    "در ادامه میخواهیم با رگرسیون چند جمله ای بهترین مدل را برای این داده ها پیدا کنیم.\n",
    "برای اینکار از مدل درجه یک شروع کرده و رفته رفته پیچیدگی مدل را بیشتر خواهیم کرد.\n",
    "</font>\n",
    "</p>"
   ]
  },
  {
   "cell_type": "markdown",
   "metadata": {},
   "source": [
    "<p dir=rtl style=\"direction: rtl;text-align: right;line-height:200%;font-family:vazir;font-size:medium\">\n",
    "<font face=\"vazir\" size=3>\n",
    "برای جلوگیری از تکرار کد های مراحل قبلی آن ها را در تابع زیر قرار میدهیم.\n",
    "</font>\n",
    "</p>"
   ]
  },
  {
   "cell_type": "code",
   "execution_count": 16,
   "metadata": {},
   "outputs": [],
   "source": [
    "def linear_reg_fit(X , y , test_size ,seed):\n",
    "    #split data\n",
    "    X_train, X_test, y_train, y_test = ...\n",
    "    linear_regression = ...\n",
    "    # fit the data\n",
    "    linear_regression.___(..., ...)\n",
    "    \n",
    "    return linear_regression , X_test , y_test"
   ]
  },
  {
   "cell_type": "markdown",
   "metadata": {},
   "source": [
    "<p dir=rtl style=\"direction: rtl;text-align: right;line-height:200%;font-family:vazir;font-size:medium\">\n",
    "<font face=\"vazir\" size=3>\n",
    "حال رویکرد بخش های قبلی را اینجا نیز دنبال میکنیم.\n",
    "</font>\n",
    "</p>"
   ]
  },
  {
   "cell_type": "code",
   "execution_count": 17,
   "metadata": {},
   "outputs": [],
   "source": [
    "X_poly_2d , y_poly_2d = X_poly.reshape(-1 , 1) , y_poly.reshape(-1,1)"
   ]
  },
  {
   "cell_type": "code",
   "execution_count": 18,
   "metadata": {},
   "outputs": [],
   "source": [
    "linear_model , X_test_poly , y_test_poly = linear_reg_fit(... , ... , ... , ...)"
   ]
  },
  {
   "cell_type": "markdown",
   "metadata": {},
   "source": [
    "<p dir=rtl style=\"direction: rtl;text-align: right;line-height:200%;font-family:vazir;font-size:medium\">\n",
    "<font face=\"vazir\" size=3>\n",
    "حالا که مدل آموزش دید خطای آن را محاسبه میکنیم.\n",
    "</font>\n",
    "</p>"
   ]
  },
  {
   "cell_type": "code",
   "execution_count": 20,
   "metadata": {},
   "outputs": [
    {
     "name": "stdout",
     "output_type": "stream",
     "text": [
      "Mean Squared Error :  10.210436800952227\n"
     ]
    }
   ],
   "source": [
    "y_pred_poly = linear_model.___(...)\n",
    "mse = ...\n",
    "print(\"Mean Squared Error : \" , mse)"
   ]
  },
  {
   "cell_type": "markdown",
   "metadata": {},
   "source": [
    "<p dir=rtl style=\"direction: rtl;text-align: right;line-height:200%;font-family:vazir;font-size:medium\">\n",
    "<font face=\"vazir\" size=3>\n",
    "برای بررسی بیشتر عملکرد مدل در ادامه\n",
    "نمودار یادگیری آن را رسم میکنیم.\n",
    "برای اینکار تابع\n",
    "<code>learning_curve</code>\n",
    "را از \n",
    "<code>sklearn</code>\n",
    "اضافه کنید.\n",
    "</font>\n",
    "</p>"
   ]
  },
  {
   "cell_type": "code",
   "execution_count": 22,
   "metadata": {},
   "outputs": [],
   "source": [
    "from sklearn.___ import ..."
   ]
  },
  {
   "cell_type": "markdown",
   "metadata": {},
   "source": [
    "<p dir=rtl style=\"direction: rtl;text-align: right;line-height:200%;font-family:vazir;font-size:medium\">\n",
    "<font face=\"vazir\" size=3>\n",
    "ورودی های \n",
    "تابع \n",
    "<code>learning_curve</code>\n",
    "به صورت زیر هستند:\n",
    "<li dir=rtl style=\"text-align: right\"> \n",
    "<code>estimator:</code>\n",
    "مدلی که میخواهیم روی داده ها اعمال کنیم.\n",
    "</li>\n",
    "<li dir=rtl style=\"text-align: right\"> \n",
    "<code>X:</code>\n",
    "همه\n",
    "ویژگی هایی که میخواهیم در یادگیری و ارزیابی مدل استفاده کنیم.\n",
    "</li>\n",
    "<li dir=rtl style=\"text-align: right\"> \n",
    "<code>y:</code>\n",
    "ویژگی که قرار است آن را پیش بینی کنیم.\n",
    "</li>\n",
    "<li dir=rtl style=\"text-align: right\"> \n",
    "<code>train_sizes:</code>\n",
    "تعداد داده هایی که برای آموزش تخصیص داده میشود.\n",
    "</li>\n",
    "<li dir=rtl style=\"text-align: right\"> \n",
    "<code>scoring:</code>\n",
    "تابعی که میخواهیم با آن عملکرد مدل مدل را بسنجیم.\n",
    "</li>\n",
    "</font>\n",
    "</p>"
   ]
  },
  {
   "cell_type": "markdown",
   "metadata": {},
   "source": [
    "<p dir=rtl style=\"direction: rtl;text-align: right;line-height:200%;font-family:vazir;font-size:medium\">\n",
    "<font face=\"vazir\" size=3>\n",
    "با توجه به توضیحات بالا از \n",
    "<code>learning_curve</code>\n",
    "به شکل زیر استفاده میکنیم.\n",
    "</font>\n",
    "</p>"
   ]
  },
  {
   "cell_type": "code",
   "execution_count": 23,
   "metadata": {},
   "outputs": [],
   "source": [
    "from sklearn.metrics import make_scorer\n",
    "train_sizes, train_scores, validation_scores = learning_curve(estimator = ...,\n",
    "                                                                X = ..., y = ..., train_sizes = np.arange(10,160,5) , \n",
    "                                                                scoring=make_scorer(mean_squared_error))"
   ]
  },
  {
   "cell_type": "markdown",
   "metadata": {},
   "source": [
    "<p dir=rtl style=\"direction: rtl;text-align: right;line-height:200%;font-family:vazir;font-size:medium\">\n",
    "<font face=\"vazir\" size=3>\n",
    "    <b> \n",
    "    توجه:\n",
    "    </b>\n",
    "     در سلول فوق از تابع\n",
    "     <code>make_scorer</code>\n",
    "      برای تبدیل تابع\n",
    "      <code>mean_squared_error</code>\n",
    "      از حالت\n",
    "      <code>metric</code>\n",
    "      به \n",
    "      <code>score</code>\n",
    "      استفاده کردیم.\n",
    "      اگر کد را بدون تبدیل ذکر شده اجرا کنید با خطا مواجه میشوید.\n",
    "  </font>\n",
    "</p>"
   ]
  },
  {
   "cell_type": "markdown",
   "metadata": {},
   "source": [
    "<p dir=rtl style=\"direction: rtl;text-align: right;line-height:200%;font-family:vazir;font-size:medium\">\n",
    "<font face=\"vazir\" size=3>\n",
    "تابع\n",
    "<code>learning_curve</code>\n",
    "به ازای هر\n",
    "<code>train_size</code>\n",
    "به طور پیش فرض پنج بار\n",
    "<code>score</code>\n",
    "را محاسبه میکند بنابراین قبل از رسم نمودار میانگین امتیاز مدل در هر\n",
    "<code>train_size</code>\n",
    "را محاسبه میکنیم.\n",
    "</font>\n",
    "</p>"
   ]
  },
  {
   "cell_type": "code",
   "execution_count": 24,
   "metadata": {},
   "outputs": [
    {
     "data": {
      "application/vnd.plotly.v1+json": {
       "config": {
        "plotlyServerURL": "https://plot.ly"
       },
       "data": [
        {
         "hovertemplate": "x=%{x}<br>y=%{y}<extra></extra>",
         "legendgroup": "",
         "line": {
          "color": "#636efa",
          "dash": "solid"
         },
         "marker": {
          "symbol": "circle"
         },
         "mode": "lines",
         "name": "train scores",
         "orientation": "v",
         "showlegend": true,
         "type": "scatter",
         "x": [
          10,
          15,
          20,
          25,
          30,
          35,
          40,
          45,
          50,
          55,
          60,
          65,
          70,
          75,
          80,
          85,
          90,
          95,
          100,
          105,
          110,
          115,
          120,
          125,
          130,
          135,
          140,
          145,
          150,
          155
         ],
         "xaxis": "x",
         "y": [
          5.660717254667914,
          4.892752084285013,
          5.895683004405695,
          6.55715428498795,
          6.495731015369289,
          6.440985298274159,
          6.632566075522734,
          6.644759548065478,
          7.946271603908324,
          8.148031601493726,
          8.092296099922358,
          7.715486101400662,
          7.596878312451953,
          7.275840350940664,
          7.605851650798567,
          7.517306818193079,
          7.780577249944602,
          7.715271925513074,
          7.737455681161451,
          8.021602011197562,
          8.424312780606659,
          8.245179167994763,
          8.217812743203371,
          8.136537553524933,
          8.08955734714738,
          7.962613321653199,
          8.129137681609695,
          8.1545227713255,
          8.187259387824332,
          8.110931275807904
         ],
         "yaxis": "y"
        },
        {
         "mode": "lines",
         "name": "validation scores",
         "type": "scatter",
         "x": [
          10,
          15,
          20,
          25,
          30,
          35,
          40,
          45,
          50,
          55,
          60,
          65,
          70,
          75,
          80,
          85,
          90,
          95,
          100,
          105,
          110,
          115,
          120,
          125,
          130,
          135,
          140,
          145,
          150,
          155
         ],
         "y": [
          9.905336876102533,
          10.100464321846108,
          8.43273242879957,
          8.388824538954761,
          8.17504315250305,
          8.102250986222321,
          8.187128231899631,
          8.23039325568954,
          8.08209245674967,
          8.118185495012286,
          8.095508638209328,
          8.097803192383733,
          8.14411264772894,
          8.162822154828858,
          8.147512364574213,
          8.169030515913631,
          8.151996691381834,
          8.13819775391463,
          8.163318406908516,
          8.123633668667436,
          8.14167595943274,
          8.134133219319235,
          8.129307235708147,
          8.112853256378543,
          8.115007116980582,
          8.122082057146503,
          8.090903990476578,
          8.132267389903486,
          8.168268845562924,
          8.170083670878089
         ]
        }
       ],
       "layout": {
        "legend": {
         "tracegroupgap": 0
        },
        "margin": {
         "t": 60
        },
        "template": {
         "data": {
          "bar": [
           {
            "error_x": {
             "color": "#2a3f5f"
            },
            "error_y": {
             "color": "#2a3f5f"
            },
            "marker": {
             "line": {
              "color": "#E5ECF6",
              "width": 0.5
             },
             "pattern": {
              "fillmode": "overlay",
              "size": 10,
              "solidity": 0.2
             }
            },
            "type": "bar"
           }
          ],
          "barpolar": [
           {
            "marker": {
             "line": {
              "color": "#E5ECF6",
              "width": 0.5
             },
             "pattern": {
              "fillmode": "overlay",
              "size": 10,
              "solidity": 0.2
             }
            },
            "type": "barpolar"
           }
          ],
          "carpet": [
           {
            "aaxis": {
             "endlinecolor": "#2a3f5f",
             "gridcolor": "white",
             "linecolor": "white",
             "minorgridcolor": "white",
             "startlinecolor": "#2a3f5f"
            },
            "baxis": {
             "endlinecolor": "#2a3f5f",
             "gridcolor": "white",
             "linecolor": "white",
             "minorgridcolor": "white",
             "startlinecolor": "#2a3f5f"
            },
            "type": "carpet"
           }
          ],
          "choropleth": [
           {
            "colorbar": {
             "outlinewidth": 0,
             "ticks": ""
            },
            "type": "choropleth"
           }
          ],
          "contour": [
           {
            "colorbar": {
             "outlinewidth": 0,
             "ticks": ""
            },
            "colorscale": [
             [
              0,
              "#0d0887"
             ],
             [
              0.1111111111111111,
              "#46039f"
             ],
             [
              0.2222222222222222,
              "#7201a8"
             ],
             [
              0.3333333333333333,
              "#9c179e"
             ],
             [
              0.4444444444444444,
              "#bd3786"
             ],
             [
              0.5555555555555556,
              "#d8576b"
             ],
             [
              0.6666666666666666,
              "#ed7953"
             ],
             [
              0.7777777777777778,
              "#fb9f3a"
             ],
             [
              0.8888888888888888,
              "#fdca26"
             ],
             [
              1,
              "#f0f921"
             ]
            ],
            "type": "contour"
           }
          ],
          "contourcarpet": [
           {
            "colorbar": {
             "outlinewidth": 0,
             "ticks": ""
            },
            "type": "contourcarpet"
           }
          ],
          "heatmap": [
           {
            "colorbar": {
             "outlinewidth": 0,
             "ticks": ""
            },
            "colorscale": [
             [
              0,
              "#0d0887"
             ],
             [
              0.1111111111111111,
              "#46039f"
             ],
             [
              0.2222222222222222,
              "#7201a8"
             ],
             [
              0.3333333333333333,
              "#9c179e"
             ],
             [
              0.4444444444444444,
              "#bd3786"
             ],
             [
              0.5555555555555556,
              "#d8576b"
             ],
             [
              0.6666666666666666,
              "#ed7953"
             ],
             [
              0.7777777777777778,
              "#fb9f3a"
             ],
             [
              0.8888888888888888,
              "#fdca26"
             ],
             [
              1,
              "#f0f921"
             ]
            ],
            "type": "heatmap"
           }
          ],
          "heatmapgl": [
           {
            "colorbar": {
             "outlinewidth": 0,
             "ticks": ""
            },
            "colorscale": [
             [
              0,
              "#0d0887"
             ],
             [
              0.1111111111111111,
              "#46039f"
             ],
             [
              0.2222222222222222,
              "#7201a8"
             ],
             [
              0.3333333333333333,
              "#9c179e"
             ],
             [
              0.4444444444444444,
              "#bd3786"
             ],
             [
              0.5555555555555556,
              "#d8576b"
             ],
             [
              0.6666666666666666,
              "#ed7953"
             ],
             [
              0.7777777777777778,
              "#fb9f3a"
             ],
             [
              0.8888888888888888,
              "#fdca26"
             ],
             [
              1,
              "#f0f921"
             ]
            ],
            "type": "heatmapgl"
           }
          ],
          "histogram": [
           {
            "marker": {
             "pattern": {
              "fillmode": "overlay",
              "size": 10,
              "solidity": 0.2
             }
            },
            "type": "histogram"
           }
          ],
          "histogram2d": [
           {
            "colorbar": {
             "outlinewidth": 0,
             "ticks": ""
            },
            "colorscale": [
             [
              0,
              "#0d0887"
             ],
             [
              0.1111111111111111,
              "#46039f"
             ],
             [
              0.2222222222222222,
              "#7201a8"
             ],
             [
              0.3333333333333333,
              "#9c179e"
             ],
             [
              0.4444444444444444,
              "#bd3786"
             ],
             [
              0.5555555555555556,
              "#d8576b"
             ],
             [
              0.6666666666666666,
              "#ed7953"
             ],
             [
              0.7777777777777778,
              "#fb9f3a"
             ],
             [
              0.8888888888888888,
              "#fdca26"
             ],
             [
              1,
              "#f0f921"
             ]
            ],
            "type": "histogram2d"
           }
          ],
          "histogram2dcontour": [
           {
            "colorbar": {
             "outlinewidth": 0,
             "ticks": ""
            },
            "colorscale": [
             [
              0,
              "#0d0887"
             ],
             [
              0.1111111111111111,
              "#46039f"
             ],
             [
              0.2222222222222222,
              "#7201a8"
             ],
             [
              0.3333333333333333,
              "#9c179e"
             ],
             [
              0.4444444444444444,
              "#bd3786"
             ],
             [
              0.5555555555555556,
              "#d8576b"
             ],
             [
              0.6666666666666666,
              "#ed7953"
             ],
             [
              0.7777777777777778,
              "#fb9f3a"
             ],
             [
              0.8888888888888888,
              "#fdca26"
             ],
             [
              1,
              "#f0f921"
             ]
            ],
            "type": "histogram2dcontour"
           }
          ],
          "mesh3d": [
           {
            "colorbar": {
             "outlinewidth": 0,
             "ticks": ""
            },
            "type": "mesh3d"
           }
          ],
          "parcoords": [
           {
            "line": {
             "colorbar": {
              "outlinewidth": 0,
              "ticks": ""
             }
            },
            "type": "parcoords"
           }
          ],
          "pie": [
           {
            "automargin": true,
            "type": "pie"
           }
          ],
          "scatter": [
           {
            "fillpattern": {
             "fillmode": "overlay",
             "size": 10,
             "solidity": 0.2
            },
            "type": "scatter"
           }
          ],
          "scatter3d": [
           {
            "line": {
             "colorbar": {
              "outlinewidth": 0,
              "ticks": ""
             }
            },
            "marker": {
             "colorbar": {
              "outlinewidth": 0,
              "ticks": ""
             }
            },
            "type": "scatter3d"
           }
          ],
          "scattercarpet": [
           {
            "marker": {
             "colorbar": {
              "outlinewidth": 0,
              "ticks": ""
             }
            },
            "type": "scattercarpet"
           }
          ],
          "scattergeo": [
           {
            "marker": {
             "colorbar": {
              "outlinewidth": 0,
              "ticks": ""
             }
            },
            "type": "scattergeo"
           }
          ],
          "scattergl": [
           {
            "marker": {
             "colorbar": {
              "outlinewidth": 0,
              "ticks": ""
             }
            },
            "type": "scattergl"
           }
          ],
          "scattermapbox": [
           {
            "marker": {
             "colorbar": {
              "outlinewidth": 0,
              "ticks": ""
             }
            },
            "type": "scattermapbox"
           }
          ],
          "scatterpolar": [
           {
            "marker": {
             "colorbar": {
              "outlinewidth": 0,
              "ticks": ""
             }
            },
            "type": "scatterpolar"
           }
          ],
          "scatterpolargl": [
           {
            "marker": {
             "colorbar": {
              "outlinewidth": 0,
              "ticks": ""
             }
            },
            "type": "scatterpolargl"
           }
          ],
          "scatterternary": [
           {
            "marker": {
             "colorbar": {
              "outlinewidth": 0,
              "ticks": ""
             }
            },
            "type": "scatterternary"
           }
          ],
          "surface": [
           {
            "colorbar": {
             "outlinewidth": 0,
             "ticks": ""
            },
            "colorscale": [
             [
              0,
              "#0d0887"
             ],
             [
              0.1111111111111111,
              "#46039f"
             ],
             [
              0.2222222222222222,
              "#7201a8"
             ],
             [
              0.3333333333333333,
              "#9c179e"
             ],
             [
              0.4444444444444444,
              "#bd3786"
             ],
             [
              0.5555555555555556,
              "#d8576b"
             ],
             [
              0.6666666666666666,
              "#ed7953"
             ],
             [
              0.7777777777777778,
              "#fb9f3a"
             ],
             [
              0.8888888888888888,
              "#fdca26"
             ],
             [
              1,
              "#f0f921"
             ]
            ],
            "type": "surface"
           }
          ],
          "table": [
           {
            "cells": {
             "fill": {
              "color": "#EBF0F8"
             },
             "line": {
              "color": "white"
             }
            },
            "header": {
             "fill": {
              "color": "#C8D4E3"
             },
             "line": {
              "color": "white"
             }
            },
            "type": "table"
           }
          ]
         },
         "layout": {
          "annotationdefaults": {
           "arrowcolor": "#2a3f5f",
           "arrowhead": 0,
           "arrowwidth": 1
          },
          "autotypenumbers": "strict",
          "coloraxis": {
           "colorbar": {
            "outlinewidth": 0,
            "ticks": ""
           }
          },
          "colorscale": {
           "diverging": [
            [
             0,
             "#8e0152"
            ],
            [
             0.1,
             "#c51b7d"
            ],
            [
             0.2,
             "#de77ae"
            ],
            [
             0.3,
             "#f1b6da"
            ],
            [
             0.4,
             "#fde0ef"
            ],
            [
             0.5,
             "#f7f7f7"
            ],
            [
             0.6,
             "#e6f5d0"
            ],
            [
             0.7,
             "#b8e186"
            ],
            [
             0.8,
             "#7fbc41"
            ],
            [
             0.9,
             "#4d9221"
            ],
            [
             1,
             "#276419"
            ]
           ],
           "sequential": [
            [
             0,
             "#0d0887"
            ],
            [
             0.1111111111111111,
             "#46039f"
            ],
            [
             0.2222222222222222,
             "#7201a8"
            ],
            [
             0.3333333333333333,
             "#9c179e"
            ],
            [
             0.4444444444444444,
             "#bd3786"
            ],
            [
             0.5555555555555556,
             "#d8576b"
            ],
            [
             0.6666666666666666,
             "#ed7953"
            ],
            [
             0.7777777777777778,
             "#fb9f3a"
            ],
            [
             0.8888888888888888,
             "#fdca26"
            ],
            [
             1,
             "#f0f921"
            ]
           ],
           "sequentialminus": [
            [
             0,
             "#0d0887"
            ],
            [
             0.1111111111111111,
             "#46039f"
            ],
            [
             0.2222222222222222,
             "#7201a8"
            ],
            [
             0.3333333333333333,
             "#9c179e"
            ],
            [
             0.4444444444444444,
             "#bd3786"
            ],
            [
             0.5555555555555556,
             "#d8576b"
            ],
            [
             0.6666666666666666,
             "#ed7953"
            ],
            [
             0.7777777777777778,
             "#fb9f3a"
            ],
            [
             0.8888888888888888,
             "#fdca26"
            ],
            [
             1,
             "#f0f921"
            ]
           ]
          },
          "colorway": [
           "#636efa",
           "#EF553B",
           "#00cc96",
           "#ab63fa",
           "#FFA15A",
           "#19d3f3",
           "#FF6692",
           "#B6E880",
           "#FF97FF",
           "#FECB52"
          ],
          "font": {
           "color": "#2a3f5f"
          },
          "geo": {
           "bgcolor": "white",
           "lakecolor": "white",
           "landcolor": "#E5ECF6",
           "showlakes": true,
           "showland": true,
           "subunitcolor": "white"
          },
          "hoverlabel": {
           "align": "left"
          },
          "hovermode": "closest",
          "mapbox": {
           "style": "light"
          },
          "paper_bgcolor": "white",
          "plot_bgcolor": "#E5ECF6",
          "polar": {
           "angularaxis": {
            "gridcolor": "white",
            "linecolor": "white",
            "ticks": ""
           },
           "bgcolor": "#E5ECF6",
           "radialaxis": {
            "gridcolor": "white",
            "linecolor": "white",
            "ticks": ""
           }
          },
          "scene": {
           "xaxis": {
            "backgroundcolor": "#E5ECF6",
            "gridcolor": "white",
            "gridwidth": 2,
            "linecolor": "white",
            "showbackground": true,
            "ticks": "",
            "zerolinecolor": "white"
           },
           "yaxis": {
            "backgroundcolor": "#E5ECF6",
            "gridcolor": "white",
            "gridwidth": 2,
            "linecolor": "white",
            "showbackground": true,
            "ticks": "",
            "zerolinecolor": "white"
           },
           "zaxis": {
            "backgroundcolor": "#E5ECF6",
            "gridcolor": "white",
            "gridwidth": 2,
            "linecolor": "white",
            "showbackground": true,
            "ticks": "",
            "zerolinecolor": "white"
           }
          },
          "shapedefaults": {
           "line": {
            "color": "#2a3f5f"
           }
          },
          "ternary": {
           "aaxis": {
            "gridcolor": "white",
            "linecolor": "white",
            "ticks": ""
           },
           "baxis": {
            "gridcolor": "white",
            "linecolor": "white",
            "ticks": ""
           },
           "bgcolor": "#E5ECF6",
           "caxis": {
            "gridcolor": "white",
            "linecolor": "white",
            "ticks": ""
           }
          },
          "title": {
           "x": 0.05
          },
          "xaxis": {
           "automargin": true,
           "gridcolor": "white",
           "linecolor": "white",
           "ticks": "",
           "title": {
            "standoff": 15
           },
           "zerolinecolor": "white",
           "zerolinewidth": 2
          },
          "yaxis": {
           "automargin": true,
           "gridcolor": "white",
           "linecolor": "white",
           "ticks": "",
           "title": {
            "standoff": 15
           },
           "zerolinecolor": "white",
           "zerolinewidth": 2
          }
         }
        },
        "xaxis": {
         "anchor": "y",
         "domain": [
          0,
          1
         ],
         "title": {
          "text": "x"
         }
        },
        "yaxis": {
         "anchor": "x",
         "domain": [
          0,
          1
         ],
         "title": {
          "text": "y"
         }
        }
       }
      }
     },
     "metadata": {},
     "output_type": "display_data"
    }
   ],
   "source": [
    "\n",
    "line = px.line(x=train_sizes , y=np.mean(train_scores,axis=1))\n",
    "line.data[0].name=\"train scores\"\n",
    "line.update_traces(showlegend=True)\n",
    "line.add_scatter(x=train_sizes, y=np.mean(...,axis=1),mode='lines' , name=\"validation scores\")\n",
    "line.show()"
   ]
  },
  {
   "cell_type": "markdown",
   "metadata": {},
   "source": [
    "<p dir=rtl style=\"direction: rtl;text-align: right;line-height:200%;font-family:vazir;font-size:medium\">\n",
    "<font face=\"vazir\" size=3>\n",
    "به نمودار بالا دقت کنید.به نظر شما آیا این مدل مناسب داده های ماست؟چرا؟\n",
    "جواب خود را در سلول پایین بنویسید.\n",
    "</font>\n",
    "</p>"
   ]
  },
  {
   "cell_type": "markdown",
   "metadata": {},
   "source": []
  },
  {
   "cell_type": "markdown",
   "metadata": {},
   "source": [
    "<p dir=rtl style=\"direction: rtl;text-align: right;line-height:200%;font-family:vazir;font-size:medium\">\n",
    "<font face=\"vazir\" size=3>\n",
    "حالا میتوانیم خط برازش یافته را رسم کنیم.\n",
    "</font>\n",
    "</p>"
   ]
  },
  {
   "cell_type": "code",
   "execution_count": 26,
   "metadata": {},
   "outputs": [],
   "source": [
    "x_values = np.arange(-3 , 3 , 0.1)\n",
    "coef , intercept = ... , ...\n",
    "y_line = ... * x_values + ..."
   ]
  },
  {
   "cell_type": "code",
   "execution_count": 28,
   "metadata": {},
   "outputs": [
    {
     "data": {
      "application/vnd.plotly.v1+json": {
       "config": {
        "plotlyServerURL": "https://plot.ly"
       },
       "data": [
        {
         "hovertemplate": "x=%{x}<br>y=%{y}<extra></extra>",
         "legendgroup": "",
         "marker": {
          "color": "#636efa",
          "symbol": "circle"
         },
         "mode": "markers",
         "name": "",
         "orientation": "v",
         "showlegend": false,
         "type": "scatter",
         "x": [
          -2.4795210527047624,
          1.062850551837256,
          1.8692533897439407,
          2.1804381120727196,
          1.546139443135739,
          -2.7056944012080018,
          -0.5194481557309212,
          -2.113947742116135,
          -2.5028904909911027,
          0.5251242522835549,
          -1.9445298972599674,
          -2.06213095369543,
          1.3398633865178837,
          -1.7304393849501272,
          -0.5838801859117235,
          -1.2700838133953554,
          -2.8722685709619977,
          2.4613924910466816,
          -0.07971509753258488,
          2.5942476893444937,
          -1.9297083882230088,
          1.0851429211724142,
          -0.23121877695768056,
          -0.47953626033471464,
          2.628193076089782,
          -2.4309763706580076,
          2.6884717974795524,
          -2.9041346784682904,
          -2.2381328946198793,
          0.7207805535798917,
          -1.6071542248807718,
          -2.1447514331191893,
          -2.597137644814727,
          1.2402336850185005,
          2.4503482942111106,
          -0.08481705111330529,
          -1.1505588882841602,
          2.3380975923233933,
          0.662863388960913,
          0.8851215198916087,
          0.7992736485140863,
          -2.176415996428444,
          2.7339392100898614,
          1.8014414361940538,
          2.1591957624574585,
          -2.109224023700403,
          2.9412862465026572,
          0.44623603398002576,
          2.3951664508699784,
          0.8515358213873849,
          0.4872426085909445,
          1.3840045684517879,
          2.2558875433393926,
          1.40361912731428,
          -1.3182696237073455,
          0.7622168340146422,
          2.6988803144647697,
          -0.640227448942638,
          -1.1741622315892957,
          -0.5861550457020117,
          -0.9488018294614737,
          1.5186576098626006,
          -2.2805583595831926,
          -2.3548634772442876,
          0.3901088539675568,
          -0.872638703576115,
          1.8657284429872645,
          1.3055933383324598,
          -1.081586674697476,
          1.8203437617310847,
          -0.6138517361928688,
          -0.7010115501644609,
          -2.320566360201051,
          -0.2524197538805395,
          -2.309177742383855,
          2.8384469367690652,
          1.0849151300411446,
          -2.6536474731370396,
          0.7911111347439577,
          -0.9193732080187904,
          -2.826833238924766,
          -1.7230631641915353,
          2.5754370280035124,
          -0.6784731285206842,
          -1.44318393426646,
          1.1288539454892383,
          -0.025894337373190357,
          2.2407884755869985,
          0.19229703717630375,
          0.9368210660175142,
          -2.3599232080091563,
          2.9179326019193983,
          -0.40866887566849464,
          2.511222244375505,
          2.360119600745623,
          1.3599813642453435,
          -0.6428299391676013,
          -0.6771615804089777,
          0.19193829917527605,
          -2.971320760634171,
          -0.7252235056425911,
          -2.3690817178167425,
          -1.9392771428711106,
          -1.527049504466713,
          1.3891393770854457,
          0.5288105979723339,
          2.7817960792731062,
          2.3357983726222464,
          -0.7917413961606381,
          1.5043389352207512,
          0.8104098397442385,
          -1.5200742980753599,
          2.089219695536058,
          2.2625312254792114,
          2.2336992706851824,
          0.21803374267279985,
          0.932659131242211,
          1.7845285682525107,
          -1.0581185224068876,
          2.9884325468489337,
          1.1108424407261603,
          -1.7614892303244358,
          2.324781487601107,
          1.7238322748424384,
          1.1636686408675807,
          0.1258592704785726,
          1.6548430239193381,
          2.7542092513128633,
          -1.401663710668483,
          -1.4236458576432411,
          -1.6019579532327235,
          -2.8792592816785847,
          -0.8234094249205794,
          -1.1559270208274655,
          -0.761643320749438,
          0.7830795459541688,
          1.3641858280937633,
          1.9218457688146193,
          0.3800112106593554,
          1.9621091058647835,
          2.667544797307438,
          -0.6130298088022923,
          -0.964655519424241,
          -0.5908087565342344,
          2.862084234581393,
          0.9374571651947914,
          2.75072527423477,
          -0.1823882861586945,
          2.962951747285043,
          -1.2662801596258229,
          0.14947419226616177,
          -0.42540340408742106,
          -2.2477097939156883,
          -0.36001545509246924,
          1.736448144678718,
          -0.484157757782798,
          0.015202454726185977,
          -2.1482251250375577,
          -2.4169771163596936,
          -0.343646150631046,
          0.3295816185633207,
          0.005436644108451016,
          -1.1039722211574168,
          -1.8522600844642205,
          -0.1810573930236763,
          -1.5437182583700197,
          -2.0089260157775595,
          -2.9757225644583736,
          -1.9150422960321383,
          0.22616999582576103,
          -2.7121864270648546,
          2.0553556064462573,
          1.9299290040993302,
          -2.394218540305968,
          1.347602986182979,
          1.9035184851932847,
          2.8908843184682143,
          -1.0359233007858373,
          -0.019251428138381765,
          -2.2797793430860307,
          0.609656206764984,
          0.5153807114498354,
          -0.022298428168729068,
          -2.6848196065374763,
          1.6470112240058183,
          -1.3695360322490389,
          1.2479508284338534,
          -2.9945419351080202,
          2.1770476681040716,
          -1.3413631777425723,
          -1.7599184985385263,
          -1.0656262119028141,
          -0.17208018146689952,
          -0.8419043671914976,
          1.8871049024334248,
          2.6948966513521935,
          -0.18885620220107624,
          -1.3172060484942003,
          1.0839259791583462,
          2.556033709796255
         ],
         "xaxis": "x",
         "y": [
          -3.6949446635877603,
          3.24215935630471,
          8.884150321682636,
          12.785772891970987,
          7.137140480044891,
          -6.828344322345793,
          2.633456967005354,
          -1.9406220840969899,
          -3.3015389424338064,
          2.460251585711804,
          -1.0887269947251867,
          -1.2596900300378127,
          5.765227135521637,
          -1.0532469840188619,
          3.3017108767833983,
          2.6575714642187247,
          -7.4506537392193755,
          15.103367399333154,
          2.402472416019367,
          15.304847087568081,
          -1.7991324994587512,
          1.8515439887985683,
          0.5267208519510402,
          0.8085300862998251,
          16.00811208093544,
          -2.409919386417625,
          17.718164024399496,
          -5.899280915977483,
          -3.238348014299684,
          4.272732940615635,
          -1.069047994252259,
          -2.5127148174459544,
          -6.3403087217430745,
          5.236517070152036,
          17.18669740669246,
          1.7816122542490915,
          0.5072296194403073,
          12.564724997658544,
          3.2339779386805247,
          1.948784284340415,
          4.54873714114314,
          -0.5464792772011005,
          16.836581915412786,
          8.641758922042765,
          8.388992749307315,
          -2.39367883580497,
          23.99797976838053,
          1.1215668052040166,
          14.77357089036171,
          4.834275301504428,
          2.608852248382056,
          7.595764645010851,
          13.291293435161895,
          4.796182652968705,
          2.6077097048939857,
          2.431239347028294,
          18.61194543360977,
          1.7273623412840637,
          1.4918374752712484,
          1.9108143549962933,
          0.19452007867918675,
          5.994676297064761,
          -2.306872619703977,
          -4.712624265681457,
          3.825645392245521,
          2.773354969704363,
          11.577722374880622,
          5.132662120471822,
          1.7745174425836496,
          7.815178915994529,
          2.7955989423487977,
          0.9902181729609905,
          -2.30080102987287,
          1.7940122973504506,
          -1.686197133079517,
          19.124155608148644,
          4.336927451883777,
          -5.130033412451919,
          3.605129978430228,
          1.6565581743717965,
          -6.1831680783977365,
          0.5596092453292659,
          15.613739294981734,
          3.5037270202054884,
          2.6915668326773194,
          4.172559563366046,
          2.69373598710688,
          11.946223111224542,
          0.08197055243326057,
          3.3769073373953695,
          -4.778570458581278,
          21.356470844990348,
          1.5604094436571196,
          15.964933412602885,
          13.741339796280586,
          6.340372828032362,
          1.5768324398334845,
          2.7289844951354425,
          1.9011989240103753,
          -9.182009045972189,
          1.7755353410385293,
          -4.0341971120495685,
          -0.3840346833411473,
          0.7099211941898084,
          6.80934422116447,
          3.2233280359886285,
          19.317954500121136,
          13.290292473607444,
          1.297931273740951,
          7.904689747171116,
          4.0547276713191485,
          1.5770102824676526,
          11.551035303089174,
          12.977083098334392,
          12.125744791799406,
          1.913337200032383,
          2.8628375596672533,
          7.681209284549575,
          0.8453805868491739,
          21.36821739762807,
          4.077008779910724,
          0.17732697490086557,
          11.557311392200083,
          8.956301495223002,
          5.173756237033493,
          1.9821424405456483,
          6.500292062025074,
          19.207238024009722,
          2.924742511363138,
          1.3970416803935757,
          0.3189276588151893,
          -7.221474825632306,
          1.9082261451328217,
          0.4223583216536636,
          -0.39593482079104625,
          1.1877028352473618,
          6.047118752604462,
          8.171983815345767,
          2.1747519742198347,
          9.46348416148482,
          18.766092661845118,
          -0.13419426017026392,
          0.5960929659984228,
          1.7530771574659867,
          22.327381660003592,
          3.224329278218182,
          18.83627693275014,
          0.9450157482582409,
          22.829326863133396,
          -0.00913262536643411,
          1.4244530074159043,
          1.7449726520633977,
          -1.9119559469781593,
          1.4146167125025633,
          7.650210310549233,
          3.5190626247832135,
          2.4108900310919807,
          -2.5054196856802005,
          -6.201039001456682,
          3.7091726260045492,
          3.3994557911608476,
          1.8237561926258907,
          4.0659151076548685,
          -1.7524704573097099,
          0.9352676019285427,
          -1.138368889571772,
          -0.09184793540723901,
          -8.02042309925231,
          0.078570741963636,
          2.484705502317532,
          -5.429066940080034,
          11.134618617830903,
          8.815704599464903,
          -3.9464728387473853,
          4.032699596538906,
          8.805401112129783,
          21.146069394724652,
          2.6373207044331846,
          1.1821205080552593,
          -3.216817401660024,
          3.647757601266291,
          4.281402335095203,
          0.7374980727493534,
          -6.001831049870047,
          6.404072843158342,
          2.3238517549026736,
          4.524952068166226,
          -7.513873451791728,
          11.739008677385995,
          0.7398279698827727,
          0.8820442458707025,
          1.2285417794988869,
          0.534057312236963,
          2.2567844778651804,
          7.427463651343695,
          15.635449018867913,
          1.1063257164913438,
          1.8494555346435448,
          5.000906923714418,
          16.42499278545984
         ],
         "yaxis": "y"
        },
        {
         "hovertemplate": "x=%{x}<br>y=%{y}<extra></extra>",
         "legendgroup": "",
         "line": {
          "color": "#ff0000",
          "dash": "solid",
          "width": 3
         },
         "marker": {
          "symbol": "circle"
         },
         "mode": "lines",
         "name": "",
         "orientation": "v",
         "showlegend": false,
         "type": "scatter",
         "x": [
          -3,
          -2.9,
          -2.8,
          -2.6999999999999997,
          -2.5999999999999996,
          -2.4999999999999996,
          -2.3999999999999995,
          -2.2999999999999994,
          -2.1999999999999993,
          -2.099999999999999,
          -1.9999999999999991,
          -1.899999999999999,
          -1.799999999999999,
          -1.6999999999999988,
          -1.5999999999999988,
          -1.4999999999999987,
          -1.3999999999999986,
          -1.2999999999999985,
          -1.1999999999999984,
          -1.0999999999999983,
          -0.9999999999999982,
          -0.8999999999999981,
          -0.799999999999998,
          -0.699999999999998,
          -0.5999999999999979,
          -0.4999999999999978,
          -0.3999999999999977,
          -0.2999999999999976,
          -0.1999999999999975,
          -0.09999999999999742,
          2.6645352591003757e-15,
          0.10000000000000275,
          0.20000000000000284,
          0.30000000000000293,
          0.400000000000003,
          0.5000000000000031,
          0.6000000000000032,
          0.7000000000000033,
          0.8000000000000034,
          0.9000000000000035,
          1.0000000000000036,
          1.1000000000000032,
          1.2000000000000037,
          1.3000000000000043,
          1.400000000000004,
          1.5000000000000036,
          1.600000000000004,
          1.7000000000000046,
          1.8000000000000043,
          1.900000000000004,
          2.0000000000000044,
          2.100000000000005,
          2.2000000000000046,
          2.3000000000000043,
          2.400000000000005,
          2.5000000000000053,
          2.600000000000005,
          2.7000000000000046,
          2.800000000000005,
          2.9000000000000057
         ],
         "xaxis": "x",
         "y": [
          -6.6465374496498955,
          -6.290857945912163,
          -5.93517844217443,
          -5.579498938436697,
          -5.223819434698965,
          -4.868139930961232,
          -4.512460427223499,
          -4.156780923485766,
          -3.8011014197480337,
          -3.445421916010301,
          -3.0897424122725683,
          -2.7340629085348356,
          -2.3783834047971038,
          -2.022703901059371,
          -1.6670243973216383,
          -1.3113448935839056,
          -0.9556653898461729,
          -0.5999858861084402,
          -0.24430638237070745,
          0.11137312136702526,
          0.467052625104758,
          0.8227321288424907,
          1.1784116325802234,
          1.5340911363179561,
          1.8897706400556888,
          2.2454501437934216,
          2.6011296475311543,
          2.956809151268887,
          3.3124886550066197,
          3.668168158744352,
          4.023847662482085,
          4.379527166219818,
          4.735206669957551,
          5.090886173695283,
          5.446565677433016,
          5.802245181170749,
          6.157924684908481,
          6.513604188646214,
          6.869283692383947,
          7.22496319612168,
          7.580642699859411,
          7.936322203597143,
          8.292001707334876,
          8.647681211072612,
          9.003360714810341,
          9.359040218548074,
          9.714719722285807,
          10.070399226023543,
          10.426078729761272,
          10.781758233499005,
          11.137437737236738,
          11.493117240974474,
          11.848796744712203,
          12.204476248449936,
          12.560155752187669,
          12.915835255925405,
          13.271514759663134,
          13.627194263400867,
          13.9828737671386,
          14.338553270876336
         ],
         "yaxis": "y"
        }
       ],
       "layout": {
        "template": {
         "data": {
          "bar": [
           {
            "error_x": {
             "color": "#2a3f5f"
            },
            "error_y": {
             "color": "#2a3f5f"
            },
            "marker": {
             "line": {
              "color": "#E5ECF6",
              "width": 0.5
             },
             "pattern": {
              "fillmode": "overlay",
              "size": 10,
              "solidity": 0.2
             }
            },
            "type": "bar"
           }
          ],
          "barpolar": [
           {
            "marker": {
             "line": {
              "color": "#E5ECF6",
              "width": 0.5
             },
             "pattern": {
              "fillmode": "overlay",
              "size": 10,
              "solidity": 0.2
             }
            },
            "type": "barpolar"
           }
          ],
          "carpet": [
           {
            "aaxis": {
             "endlinecolor": "#2a3f5f",
             "gridcolor": "white",
             "linecolor": "white",
             "minorgridcolor": "white",
             "startlinecolor": "#2a3f5f"
            },
            "baxis": {
             "endlinecolor": "#2a3f5f",
             "gridcolor": "white",
             "linecolor": "white",
             "minorgridcolor": "white",
             "startlinecolor": "#2a3f5f"
            },
            "type": "carpet"
           }
          ],
          "choropleth": [
           {
            "colorbar": {
             "outlinewidth": 0,
             "ticks": ""
            },
            "type": "choropleth"
           }
          ],
          "contour": [
           {
            "colorbar": {
             "outlinewidth": 0,
             "ticks": ""
            },
            "colorscale": [
             [
              0,
              "#0d0887"
             ],
             [
              0.1111111111111111,
              "#46039f"
             ],
             [
              0.2222222222222222,
              "#7201a8"
             ],
             [
              0.3333333333333333,
              "#9c179e"
             ],
             [
              0.4444444444444444,
              "#bd3786"
             ],
             [
              0.5555555555555556,
              "#d8576b"
             ],
             [
              0.6666666666666666,
              "#ed7953"
             ],
             [
              0.7777777777777778,
              "#fb9f3a"
             ],
             [
              0.8888888888888888,
              "#fdca26"
             ],
             [
              1,
              "#f0f921"
             ]
            ],
            "type": "contour"
           }
          ],
          "contourcarpet": [
           {
            "colorbar": {
             "outlinewidth": 0,
             "ticks": ""
            },
            "type": "contourcarpet"
           }
          ],
          "heatmap": [
           {
            "colorbar": {
             "outlinewidth": 0,
             "ticks": ""
            },
            "colorscale": [
             [
              0,
              "#0d0887"
             ],
             [
              0.1111111111111111,
              "#46039f"
             ],
             [
              0.2222222222222222,
              "#7201a8"
             ],
             [
              0.3333333333333333,
              "#9c179e"
             ],
             [
              0.4444444444444444,
              "#bd3786"
             ],
             [
              0.5555555555555556,
              "#d8576b"
             ],
             [
              0.6666666666666666,
              "#ed7953"
             ],
             [
              0.7777777777777778,
              "#fb9f3a"
             ],
             [
              0.8888888888888888,
              "#fdca26"
             ],
             [
              1,
              "#f0f921"
             ]
            ],
            "type": "heatmap"
           }
          ],
          "heatmapgl": [
           {
            "colorbar": {
             "outlinewidth": 0,
             "ticks": ""
            },
            "colorscale": [
             [
              0,
              "#0d0887"
             ],
             [
              0.1111111111111111,
              "#46039f"
             ],
             [
              0.2222222222222222,
              "#7201a8"
             ],
             [
              0.3333333333333333,
              "#9c179e"
             ],
             [
              0.4444444444444444,
              "#bd3786"
             ],
             [
              0.5555555555555556,
              "#d8576b"
             ],
             [
              0.6666666666666666,
              "#ed7953"
             ],
             [
              0.7777777777777778,
              "#fb9f3a"
             ],
             [
              0.8888888888888888,
              "#fdca26"
             ],
             [
              1,
              "#f0f921"
             ]
            ],
            "type": "heatmapgl"
           }
          ],
          "histogram": [
           {
            "marker": {
             "pattern": {
              "fillmode": "overlay",
              "size": 10,
              "solidity": 0.2
             }
            },
            "type": "histogram"
           }
          ],
          "histogram2d": [
           {
            "colorbar": {
             "outlinewidth": 0,
             "ticks": ""
            },
            "colorscale": [
             [
              0,
              "#0d0887"
             ],
             [
              0.1111111111111111,
              "#46039f"
             ],
             [
              0.2222222222222222,
              "#7201a8"
             ],
             [
              0.3333333333333333,
              "#9c179e"
             ],
             [
              0.4444444444444444,
              "#bd3786"
             ],
             [
              0.5555555555555556,
              "#d8576b"
             ],
             [
              0.6666666666666666,
              "#ed7953"
             ],
             [
              0.7777777777777778,
              "#fb9f3a"
             ],
             [
              0.8888888888888888,
              "#fdca26"
             ],
             [
              1,
              "#f0f921"
             ]
            ],
            "type": "histogram2d"
           }
          ],
          "histogram2dcontour": [
           {
            "colorbar": {
             "outlinewidth": 0,
             "ticks": ""
            },
            "colorscale": [
             [
              0,
              "#0d0887"
             ],
             [
              0.1111111111111111,
              "#46039f"
             ],
             [
              0.2222222222222222,
              "#7201a8"
             ],
             [
              0.3333333333333333,
              "#9c179e"
             ],
             [
              0.4444444444444444,
              "#bd3786"
             ],
             [
              0.5555555555555556,
              "#d8576b"
             ],
             [
              0.6666666666666666,
              "#ed7953"
             ],
             [
              0.7777777777777778,
              "#fb9f3a"
             ],
             [
              0.8888888888888888,
              "#fdca26"
             ],
             [
              1,
              "#f0f921"
             ]
            ],
            "type": "histogram2dcontour"
           }
          ],
          "mesh3d": [
           {
            "colorbar": {
             "outlinewidth": 0,
             "ticks": ""
            },
            "type": "mesh3d"
           }
          ],
          "parcoords": [
           {
            "line": {
             "colorbar": {
              "outlinewidth": 0,
              "ticks": ""
             }
            },
            "type": "parcoords"
           }
          ],
          "pie": [
           {
            "automargin": true,
            "type": "pie"
           }
          ],
          "scatter": [
           {
            "fillpattern": {
             "fillmode": "overlay",
             "size": 10,
             "solidity": 0.2
            },
            "type": "scatter"
           }
          ],
          "scatter3d": [
           {
            "line": {
             "colorbar": {
              "outlinewidth": 0,
              "ticks": ""
             }
            },
            "marker": {
             "colorbar": {
              "outlinewidth": 0,
              "ticks": ""
             }
            },
            "type": "scatter3d"
           }
          ],
          "scattercarpet": [
           {
            "marker": {
             "colorbar": {
              "outlinewidth": 0,
              "ticks": ""
             }
            },
            "type": "scattercarpet"
           }
          ],
          "scattergeo": [
           {
            "marker": {
             "colorbar": {
              "outlinewidth": 0,
              "ticks": ""
             }
            },
            "type": "scattergeo"
           }
          ],
          "scattergl": [
           {
            "marker": {
             "colorbar": {
              "outlinewidth": 0,
              "ticks": ""
             }
            },
            "type": "scattergl"
           }
          ],
          "scattermapbox": [
           {
            "marker": {
             "colorbar": {
              "outlinewidth": 0,
              "ticks": ""
             }
            },
            "type": "scattermapbox"
           }
          ],
          "scatterpolar": [
           {
            "marker": {
             "colorbar": {
              "outlinewidth": 0,
              "ticks": ""
             }
            },
            "type": "scatterpolar"
           }
          ],
          "scatterpolargl": [
           {
            "marker": {
             "colorbar": {
              "outlinewidth": 0,
              "ticks": ""
             }
            },
            "type": "scatterpolargl"
           }
          ],
          "scatterternary": [
           {
            "marker": {
             "colorbar": {
              "outlinewidth": 0,
              "ticks": ""
             }
            },
            "type": "scatterternary"
           }
          ],
          "surface": [
           {
            "colorbar": {
             "outlinewidth": 0,
             "ticks": ""
            },
            "colorscale": [
             [
              0,
              "#0d0887"
             ],
             [
              0.1111111111111111,
              "#46039f"
             ],
             [
              0.2222222222222222,
              "#7201a8"
             ],
             [
              0.3333333333333333,
              "#9c179e"
             ],
             [
              0.4444444444444444,
              "#bd3786"
             ],
             [
              0.5555555555555556,
              "#d8576b"
             ],
             [
              0.6666666666666666,
              "#ed7953"
             ],
             [
              0.7777777777777778,
              "#fb9f3a"
             ],
             [
              0.8888888888888888,
              "#fdca26"
             ],
             [
              1,
              "#f0f921"
             ]
            ],
            "type": "surface"
           }
          ],
          "table": [
           {
            "cells": {
             "fill": {
              "color": "#EBF0F8"
             },
             "line": {
              "color": "white"
             }
            },
            "header": {
             "fill": {
              "color": "#C8D4E3"
             },
             "line": {
              "color": "white"
             }
            },
            "type": "table"
           }
          ]
         },
         "layout": {
          "annotationdefaults": {
           "arrowcolor": "#2a3f5f",
           "arrowhead": 0,
           "arrowwidth": 1
          },
          "autotypenumbers": "strict",
          "coloraxis": {
           "colorbar": {
            "outlinewidth": 0,
            "ticks": ""
           }
          },
          "colorscale": {
           "diverging": [
            [
             0,
             "#8e0152"
            ],
            [
             0.1,
             "#c51b7d"
            ],
            [
             0.2,
             "#de77ae"
            ],
            [
             0.3,
             "#f1b6da"
            ],
            [
             0.4,
             "#fde0ef"
            ],
            [
             0.5,
             "#f7f7f7"
            ],
            [
             0.6,
             "#e6f5d0"
            ],
            [
             0.7,
             "#b8e186"
            ],
            [
             0.8,
             "#7fbc41"
            ],
            [
             0.9,
             "#4d9221"
            ],
            [
             1,
             "#276419"
            ]
           ],
           "sequential": [
            [
             0,
             "#0d0887"
            ],
            [
             0.1111111111111111,
             "#46039f"
            ],
            [
             0.2222222222222222,
             "#7201a8"
            ],
            [
             0.3333333333333333,
             "#9c179e"
            ],
            [
             0.4444444444444444,
             "#bd3786"
            ],
            [
             0.5555555555555556,
             "#d8576b"
            ],
            [
             0.6666666666666666,
             "#ed7953"
            ],
            [
             0.7777777777777778,
             "#fb9f3a"
            ],
            [
             0.8888888888888888,
             "#fdca26"
            ],
            [
             1,
             "#f0f921"
            ]
           ],
           "sequentialminus": [
            [
             0,
             "#0d0887"
            ],
            [
             0.1111111111111111,
             "#46039f"
            ],
            [
             0.2222222222222222,
             "#7201a8"
            ],
            [
             0.3333333333333333,
             "#9c179e"
            ],
            [
             0.4444444444444444,
             "#bd3786"
            ],
            [
             0.5555555555555556,
             "#d8576b"
            ],
            [
             0.6666666666666666,
             "#ed7953"
            ],
            [
             0.7777777777777778,
             "#fb9f3a"
            ],
            [
             0.8888888888888888,
             "#fdca26"
            ],
            [
             1,
             "#f0f921"
            ]
           ]
          },
          "colorway": [
           "#636efa",
           "#EF553B",
           "#00cc96",
           "#ab63fa",
           "#FFA15A",
           "#19d3f3",
           "#FF6692",
           "#B6E880",
           "#FF97FF",
           "#FECB52"
          ],
          "font": {
           "color": "#2a3f5f"
          },
          "geo": {
           "bgcolor": "white",
           "lakecolor": "white",
           "landcolor": "#E5ECF6",
           "showlakes": true,
           "showland": true,
           "subunitcolor": "white"
          },
          "hoverlabel": {
           "align": "left"
          },
          "hovermode": "closest",
          "mapbox": {
           "style": "light"
          },
          "paper_bgcolor": "white",
          "plot_bgcolor": "#E5ECF6",
          "polar": {
           "angularaxis": {
            "gridcolor": "white",
            "linecolor": "white",
            "ticks": ""
           },
           "bgcolor": "#E5ECF6",
           "radialaxis": {
            "gridcolor": "white",
            "linecolor": "white",
            "ticks": ""
           }
          },
          "scene": {
           "xaxis": {
            "backgroundcolor": "#E5ECF6",
            "gridcolor": "white",
            "gridwidth": 2,
            "linecolor": "white",
            "showbackground": true,
            "ticks": "",
            "zerolinecolor": "white"
           },
           "yaxis": {
            "backgroundcolor": "#E5ECF6",
            "gridcolor": "white",
            "gridwidth": 2,
            "linecolor": "white",
            "showbackground": true,
            "ticks": "",
            "zerolinecolor": "white"
           },
           "zaxis": {
            "backgroundcolor": "#E5ECF6",
            "gridcolor": "white",
            "gridwidth": 2,
            "linecolor": "white",
            "showbackground": true,
            "ticks": "",
            "zerolinecolor": "white"
           }
          },
          "shapedefaults": {
           "line": {
            "color": "#2a3f5f"
           }
          },
          "ternary": {
           "aaxis": {
            "gridcolor": "white",
            "linecolor": "white",
            "ticks": ""
           },
           "baxis": {
            "gridcolor": "white",
            "linecolor": "white",
            "ticks": ""
           },
           "bgcolor": "#E5ECF6",
           "caxis": {
            "gridcolor": "white",
            "linecolor": "white",
            "ticks": ""
           }
          },
          "title": {
           "x": 0.05
          },
          "xaxis": {
           "automargin": true,
           "gridcolor": "white",
           "linecolor": "white",
           "ticks": "",
           "title": {
            "standoff": 15
           },
           "zerolinecolor": "white",
           "zerolinewidth": 2
          },
          "yaxis": {
           "automargin": true,
           "gridcolor": "white",
           "linecolor": "white",
           "ticks": "",
           "title": {
            "standoff": 15
           },
           "zerolinecolor": "white",
           "zerolinewidth": 2
          }
         }
        }
       }
      }
     },
     "metadata": {},
     "output_type": "display_data"
    }
   ],
   "source": [
    "# scatter plot of data\n",
    "import plotly.graph_objects as go\n",
    "fig_scatter = px.scatter(x=..., y=...)\n",
    "# line plot of model\n",
    "fig_line = px.line(x=... , y=...)\n",
    "fig_line.update_traces(line_color='#ff0000', line_width=3)\n",
    "fig_combine = go.Figure(data=fig_scatter.data + fig_line.data)\n",
    "#show the plot\n",
    "fig_combine.___"
   ]
  },
  {
   "cell_type": "markdown",
   "metadata": {},
   "source": [
    "<p dir=rtl style=\"direction: rtl;text-align: right;line-height:200%;font-family:vazir;font-size:medium\">\n",
    "<font face=\"vazir\" size=3>\n",
    "همانطور که مشاهده میکنید خط برازش شده روی داده ها بهترین خط ممکن نیست!\n",
    "زیرا داده ها با هم\n",
    " <b>ارتباط خطی</b>\n",
    "   ندارند.\n",
    "</font>\n",
    "</p>"
   ]
  },
  {
   "cell_type": "markdown",
   "metadata": {},
   "source": [
    "<p dir=rtl style=\"direction: rtl;text-align: right;line-height:200%;font-family:vazir;font-size:medium\">\n",
    "<font face=\"vazir\" size=3>\n",
    "برای حل این مشکل لازم است توان های بالاتر\n",
    "<code>X</code>\n",
    "را نیز در اختیار مدل قرار دهیم.\n",
    "درجه را یک واحد بیشتر کرده و مربع \n",
    "<code>X</code>\n",
    "را محاسبه میکنیم.\n",
    "</font>\n",
    "</p>"
   ]
  },
  {
   "cell_type": "code",
   "execution_count": 29,
   "metadata": {},
   "outputs": [
    {
     "data": {
      "text/plain": [
       "(200, 2)"
      ]
     },
     "execution_count": 29,
     "metadata": {},
     "output_type": "execute_result"
    }
   ],
   "source": [
    "# claculate squared of X_2d\n",
    "X_squared_2d = X_poly_2d ** \n",
    "#concatenate X_2d with X_squared_2d\n",
    "features_squared = np.concatenate((... , ...) , axis=1)\n",
    "features_squared.shape"
   ]
  },
  {
   "cell_type": "markdown",
   "metadata": {},
   "source": [
    "<p dir=rtl style=\"direction: rtl;text-align: right;line-height:200%;font-family:vazir;font-size:medium\">\n",
    "<font face=\"vazir\" size=3>\n",
    "حالا دو ویژگی\n",
    "<code>X </code>\n",
    "و\n",
    "مربع آن را در اختیار داریم.با استفاده از آن ها \n",
    "<code>y</code>\n",
    "را پیش بینی کنید.\n",
    "</font>\n",
    "</p>"
   ]
  },
  {
   "cell_type": "code",
   "execution_count": 30,
   "metadata": {},
   "outputs": [],
   "source": [
    "model_squared , X_test_squared , y_test_squared = linear_reg_fit(... , ... , ... , ...)"
   ]
  },
  {
   "cell_type": "code",
   "execution_count": 31,
   "metadata": {},
   "outputs": [
    {
     "data": {
      "text/plain": [
       "6.715237503989044"
      ]
     },
     "execution_count": 31,
     "metadata": {},
     "output_type": "execute_result"
    }
   ],
   "source": [
    "y_pred_squared = model_squared.___(...)\n",
    "# calculate mse\n",
    "mse = ...\n",
    "mse"
   ]
  },
  {
   "cell_type": "markdown",
   "metadata": {},
   "source": [
    "<p dir=rtl style=\"direction: rtl;text-align: right;line-height:200%;font-family:vazir;font-size:medium\">\n",
    "<font face=\"vazir\" size=3>\n",
    "با افزایش درجه مدل عملکرد آن بهتر شد.\n",
    "</font>\n",
    "</p>"
   ]
  },
  {
   "cell_type": "markdown",
   "metadata": {},
   "source": [
    "<p dir=rtl style=\"direction: rtl;text-align: right;line-height:200%;font-family:vazir;font-size:medium\">\n",
    "<font face=\"vazir\" size=3>\n",
    "با استفاده از کد های  مربوط به  رسم\n",
    "نمودار یادگیری تابع\n",
    "<code>plot_learning_curve</code>\n",
    "را بسازید و با استفاده از آن\n",
    "نمودار یادگیری را برای\n",
    "<code>features_squared</code>\n",
    "رسم کنید. \n",
    "</font>\n",
    "</p>"
   ]
  },
  {
   "cell_type": "code",
   "execution_count": 77,
   "metadata": {},
   "outputs": [],
   "source": [
    "def plot_learning_curve(features , target , train_sizes):\n",
    "    train_sizes, train_scores, validation_scores = ...\n",
    "\n",
    "    learn_curve = px.line(x=... , y=np.mean(...,axis=1))\n",
    "    learn_curve.data[0].name=\"train scores\"\n",
    "    learn_curve.update_traces(showlegend=True)\n",
    "    learn_curve.add_scatter(x=..., y=np.mean(...,axis=...),mode='lines' , name=\"validation scores\")\n",
    "    learn_curve.show()"
   ]
  },
  {
   "cell_type": "code",
   "execution_count": 3,
   "metadata": {},
   "outputs": [],
   "source": [
    "train_sizes = ...\n",
    "plot_learning_curve(... , ... , ...)"
   ]
  },
  {
   "cell_type": "markdown",
   "metadata": {},
   "source": [
    "<p dir=rtl style=\"direction: rtl;text-align: right;line-height:200%;font-family:vazir;font-size:medium\">\n",
    "<font face=\"vazir\" size=3>\n",
    "نمودار یادگیری فوق را با نمودار یادگیری مدل قبلی مقایسه کنید و تفاوت هایشان را ذکر کنید.\n",
    "</font>\n",
    "</p>"
   ]
  },
  {
   "cell_type": "markdown",
   "metadata": {},
   "source": []
  },
  {
   "cell_type": "markdown",
   "metadata": {},
   "source": [
    "<p dir=rtl style=\"direction: rtl;text-align: right;line-height:200%;font-family:vazir;font-size:medium\">\n",
    "<font face=\"vazir\" size=3>\n",
    "دوباره مثل بخش های قبل درجه مدل را یک واحد افزایش و مراحل ذکر شده را طی میکنیم.\n",
    "</font>\n",
    "</p>"
   ]
  },
  {
   "cell_type": "markdown",
   "metadata": {},
   "source": [
    "<p dir=rtl style=\"direction: rtl;text-align: right;line-height:200%;font-family:vazir;font-size:medium\">\n",
    "<font face=\"vazir\" size=3>\n",
    "به نظر شما آیا با این کار عملکرد مدل بهبود می یابد؟\n",
    "</font>\n",
    "</p>"
   ]
  },
  {
   "cell_type": "code",
   "execution_count": 79,
   "metadata": {},
   "outputs": [
    {
     "data": {
      "text/plain": [
       "(200, 3)"
      ]
     },
     "execution_count": 79,
     "metadata": {},
     "output_type": "execute_result"
    }
   ],
   "source": [
    "#calculate cube of X_2d\n",
    "X_cube_2d = X_2d ** ...\n",
    "#concatenate X_cube_2d with features_squared\n",
    "features_cube = np.concatenate((... , ...) , axis=1)\n",
    "features_cube.shape"
   ]
  },
  {
   "cell_type": "code",
   "execution_count": 80,
   "metadata": {},
   "outputs": [
    {
     "name": "stdout",
     "output_type": "stream",
     "text": [
      "Mean Squared Error: 0.8619548665956114\n"
     ]
    }
   ],
   "source": [
    "model_cube , X_test_cube , y_test_cube = linear_reg_fit_predict(... , ... , ... , ...)"
   ]
  },
  {
   "cell_type": "code",
   "execution_count": 4,
   "metadata": {},
   "outputs": [],
   "source": [
    "plot_learning_curve(... , ... , ...)"
   ]
  },
  {
   "cell_type": "markdown",
   "metadata": {},
   "source": [
    "<p dir=rtl style=\"direction: rtl;text-align: right;line-height:200%;font-family:vazir;font-size:medium\">\n",
    "<font face=\"vazir\" size=3>\n",
    "درجات چهار و بیشتر را خودتان امتحان کنید و نمودار یادگیری آن ها را با درجات سه و کمتر مقایسه کنید.\n",
    "</font>\n",
    "</p>"
   ]
  },
  {
   "cell_type": "markdown",
   "metadata": {},
   "source": []
  },
  {
   "cell_type": "markdown",
   "metadata": {},
   "source": [
    "<h1 align=right style=\"line-height:150%;font-family:vazir;color:#0099cc\">\n",
    "<font face=\"vazir\" color=\"#0099cc\">\n",
    "رگرسیون لجستیک\n",
    "</font>\n",
    "</h1>"
   ]
  },
  {
   "cell_type": "markdown",
   "metadata": {},
   "source": [
    "<p style=\"text-align:center\"><img  src=\"https://i.postimg.cc/xjWzmZPP/logis.webp\" width=\"600\" alt=\"logistic\"></p>"
   ]
  },
  {
   "cell_type": "markdown",
   "metadata": {},
   "source": [
    "<h1 align=right style=\"line-height:150%;font-family:vazir;color:#0099cc\">\n",
    "<font face=\"vazir\" color=\"#0099cc\">\n",
    "پیش بینی دیابت\n",
    "</font>\n",
    "</h1>"
   ]
  },
  {
   "cell_type": "markdown",
   "metadata": {},
   "source": [
    "<p dir=rtl style=\"direction: rtl;text-align: right;line-height:200%;font-family:vazir;font-size:medium\">\n",
    "<font face=\"vazir\" size=3>\n",
    "</font>\n",
    "هدف ما از بررسی  مجموعه داده دیابت این است که بتوانیم با استفاده از ویژگی هایی مثل\n",
    "تعداد بارداری\n",
    "،فشار خون ،انسولین،شاخص توده بدنی ، سن و ...داشتن یا نداشتن  دیابت را پیش بینی کنیم.\n",
    "</font>\n",
    "</p>"
   ]
  },
  {
   "cell_type": "markdown",
   "metadata": {},
   "source": [
    "<h1 align=right style=\"line-height:150%;font-family:vazir;color:#0099cc\">\n",
    "<font face=\"vazir\" color=\"#0099cc\">\n",
    "خواندن داده ها\n",
    "</font>\n",
    "</h1>"
   ]
  },
  {
   "cell_type": "markdown",
   "metadata": {},
   "source": [
    "<p dir=rtl style=\"direction: rtl;text-align: right;line-height:200%;font-family:vazir;font-size:medium\">\n",
    "<font face=\"vazir\" size=3>\n",
    "داده ها را مثل بخش قبل با استفاده از لینک در متغیر\n",
    "<code>diabetes_url</code>\n",
    "بخوانید.\n",
    "</font>\n",
    "</p>"
   ]
  },
  {
   "cell_type": "code",
   "execution_count": 69,
   "metadata": {},
   "outputs": [],
   "source": [
    "# read data \n",
    "diabetes_url = \"https://raw.githubusercontent.com/Aminzein/HermesMachineLearningBootcampDatasets/main/HW3/diabetes.csv\"\n",
    "df = ..."
   ]
  },
  {
   "cell_type": "markdown",
   "metadata": {},
   "source": [
    "<p dir=rtl style=\"direction: rtl;text-align: right;line-height:200%;font-family:vazir;font-size:medium\">\n",
    "<font face=\"vazir\" size=3>\n",
    "با استفاده از توابع\n",
    "<code>info</code>\n",
    "و\n",
    "<code>describe</code>\n",
    "و\n",
    "<code>head</code>\n",
    "و دیگر توابع مرتبط دیتافریم ساخته شده را کشف کنید!\n",
    "</font>\n",
    "</p>"
   ]
  },
  {
   "cell_type": "code",
   "execution_count": 70,
   "metadata": {},
   "outputs": [
    {
     "data": {
      "text/html": [
       "<div>\n",
       "<style scoped>\n",
       "    .dataframe tbody tr th:only-of-type {\n",
       "        vertical-align: middle;\n",
       "    }\n",
       "\n",
       "    .dataframe tbody tr th {\n",
       "        vertical-align: top;\n",
       "    }\n",
       "\n",
       "    .dataframe thead th {\n",
       "        text-align: right;\n",
       "    }\n",
       "</style>\n",
       "<table border=\"1\" class=\"dataframe\">\n",
       "  <thead>\n",
       "    <tr style=\"text-align: right;\">\n",
       "      <th></th>\n",
       "      <th>Pregnancies</th>\n",
       "      <th>Glucose</th>\n",
       "      <th>BloodPressure</th>\n",
       "      <th>SkinThickness</th>\n",
       "      <th>Insulin</th>\n",
       "      <th>BMI</th>\n",
       "      <th>DiabetesPedigreeFunction</th>\n",
       "      <th>Age</th>\n",
       "      <th>Outcome</th>\n",
       "    </tr>\n",
       "  </thead>\n",
       "  <tbody>\n",
       "    <tr>\n",
       "      <th>0</th>\n",
       "      <td>6</td>\n",
       "      <td>148</td>\n",
       "      <td>72</td>\n",
       "      <td>35</td>\n",
       "      <td>0</td>\n",
       "      <td>33.6</td>\n",
       "      <td>0.627</td>\n",
       "      <td>50</td>\n",
       "      <td>1</td>\n",
       "    </tr>\n",
       "    <tr>\n",
       "      <th>1</th>\n",
       "      <td>1</td>\n",
       "      <td>85</td>\n",
       "      <td>66</td>\n",
       "      <td>29</td>\n",
       "      <td>0</td>\n",
       "      <td>26.6</td>\n",
       "      <td>0.351</td>\n",
       "      <td>31</td>\n",
       "      <td>0</td>\n",
       "    </tr>\n",
       "    <tr>\n",
       "      <th>2</th>\n",
       "      <td>8</td>\n",
       "      <td>183</td>\n",
       "      <td>64</td>\n",
       "      <td>0</td>\n",
       "      <td>0</td>\n",
       "      <td>23.3</td>\n",
       "      <td>0.672</td>\n",
       "      <td>32</td>\n",
       "      <td>1</td>\n",
       "    </tr>\n",
       "    <tr>\n",
       "      <th>3</th>\n",
       "      <td>1</td>\n",
       "      <td>89</td>\n",
       "      <td>66</td>\n",
       "      <td>23</td>\n",
       "      <td>94</td>\n",
       "      <td>28.1</td>\n",
       "      <td>0.167</td>\n",
       "      <td>21</td>\n",
       "      <td>0</td>\n",
       "    </tr>\n",
       "    <tr>\n",
       "      <th>4</th>\n",
       "      <td>0</td>\n",
       "      <td>137</td>\n",
       "      <td>40</td>\n",
       "      <td>35</td>\n",
       "      <td>168</td>\n",
       "      <td>43.1</td>\n",
       "      <td>2.288</td>\n",
       "      <td>33</td>\n",
       "      <td>1</td>\n",
       "    </tr>\n",
       "  </tbody>\n",
       "</table>\n",
       "</div>"
      ],
      "text/plain": [
       "   Pregnancies  Glucose  BloodPressure  SkinThickness  Insulin   BMI  \\\n",
       "0            6      148             72             35        0  33.6   \n",
       "1            1       85             66             29        0  26.6   \n",
       "2            8      183             64              0        0  23.3   \n",
       "3            1       89             66             23       94  28.1   \n",
       "4            0      137             40             35      168  43.1   \n",
       "\n",
       "   DiabetesPedigreeFunction  Age  Outcome  \n",
       "0                     0.627   50        1  \n",
       "1                     0.351   31        0  \n",
       "2                     0.672   32        1  \n",
       "3                     0.167   21        0  \n",
       "4                     2.288   33        1  "
      ]
     },
     "execution_count": 70,
     "metadata": {},
     "output_type": "execute_result"
    }
   ],
   "source": [
    "#print first 5 rows of dataframe\n",
    "df.___"
   ]
  },
  {
   "cell_type": "code",
   "execution_count": 71,
   "metadata": {},
   "outputs": [
    {
     "data": {
      "text/html": [
       "<div>\n",
       "<style scoped>\n",
       "    .dataframe tbody tr th:only-of-type {\n",
       "        vertical-align: middle;\n",
       "    }\n",
       "\n",
       "    .dataframe tbody tr th {\n",
       "        vertical-align: top;\n",
       "    }\n",
       "\n",
       "    .dataframe thead th {\n",
       "        text-align: right;\n",
       "    }\n",
       "</style>\n",
       "<table border=\"1\" class=\"dataframe\">\n",
       "  <thead>\n",
       "    <tr style=\"text-align: right;\">\n",
       "      <th></th>\n",
       "      <th>Pregnancies</th>\n",
       "      <th>Glucose</th>\n",
       "      <th>BloodPressure</th>\n",
       "      <th>SkinThickness</th>\n",
       "      <th>Insulin</th>\n",
       "      <th>BMI</th>\n",
       "      <th>DiabetesPedigreeFunction</th>\n",
       "      <th>Age</th>\n",
       "      <th>Outcome</th>\n",
       "    </tr>\n",
       "  </thead>\n",
       "  <tbody>\n",
       "    <tr>\n",
       "      <th>count</th>\n",
       "      <td>768.000000</td>\n",
       "      <td>768.000000</td>\n",
       "      <td>768.000000</td>\n",
       "      <td>768.000000</td>\n",
       "      <td>768.000000</td>\n",
       "      <td>768.000000</td>\n",
       "      <td>768.000000</td>\n",
       "      <td>768.000000</td>\n",
       "      <td>768.000000</td>\n",
       "    </tr>\n",
       "    <tr>\n",
       "      <th>mean</th>\n",
       "      <td>3.845052</td>\n",
       "      <td>120.894531</td>\n",
       "      <td>69.105469</td>\n",
       "      <td>20.536458</td>\n",
       "      <td>79.799479</td>\n",
       "      <td>31.992578</td>\n",
       "      <td>0.471876</td>\n",
       "      <td>33.240885</td>\n",
       "      <td>0.348958</td>\n",
       "    </tr>\n",
       "    <tr>\n",
       "      <th>std</th>\n",
       "      <td>3.369578</td>\n",
       "      <td>31.972618</td>\n",
       "      <td>19.355807</td>\n",
       "      <td>15.952218</td>\n",
       "      <td>115.244002</td>\n",
       "      <td>7.884160</td>\n",
       "      <td>0.331329</td>\n",
       "      <td>11.760232</td>\n",
       "      <td>0.476951</td>\n",
       "    </tr>\n",
       "    <tr>\n",
       "      <th>min</th>\n",
       "      <td>0.000000</td>\n",
       "      <td>0.000000</td>\n",
       "      <td>0.000000</td>\n",
       "      <td>0.000000</td>\n",
       "      <td>0.000000</td>\n",
       "      <td>0.000000</td>\n",
       "      <td>0.078000</td>\n",
       "      <td>21.000000</td>\n",
       "      <td>0.000000</td>\n",
       "    </tr>\n",
       "    <tr>\n",
       "      <th>25%</th>\n",
       "      <td>1.000000</td>\n",
       "      <td>99.000000</td>\n",
       "      <td>62.000000</td>\n",
       "      <td>0.000000</td>\n",
       "      <td>0.000000</td>\n",
       "      <td>27.300000</td>\n",
       "      <td>0.243750</td>\n",
       "      <td>24.000000</td>\n",
       "      <td>0.000000</td>\n",
       "    </tr>\n",
       "    <tr>\n",
       "      <th>50%</th>\n",
       "      <td>3.000000</td>\n",
       "      <td>117.000000</td>\n",
       "      <td>72.000000</td>\n",
       "      <td>23.000000</td>\n",
       "      <td>30.500000</td>\n",
       "      <td>32.000000</td>\n",
       "      <td>0.372500</td>\n",
       "      <td>29.000000</td>\n",
       "      <td>0.000000</td>\n",
       "    </tr>\n",
       "    <tr>\n",
       "      <th>75%</th>\n",
       "      <td>6.000000</td>\n",
       "      <td>140.250000</td>\n",
       "      <td>80.000000</td>\n",
       "      <td>32.000000</td>\n",
       "      <td>127.250000</td>\n",
       "      <td>36.600000</td>\n",
       "      <td>0.626250</td>\n",
       "      <td>41.000000</td>\n",
       "      <td>1.000000</td>\n",
       "    </tr>\n",
       "    <tr>\n",
       "      <th>max</th>\n",
       "      <td>17.000000</td>\n",
       "      <td>199.000000</td>\n",
       "      <td>122.000000</td>\n",
       "      <td>99.000000</td>\n",
       "      <td>846.000000</td>\n",
       "      <td>67.100000</td>\n",
       "      <td>2.420000</td>\n",
       "      <td>81.000000</td>\n",
       "      <td>1.000000</td>\n",
       "    </tr>\n",
       "  </tbody>\n",
       "</table>\n",
       "</div>"
      ],
      "text/plain": [
       "       Pregnancies     Glucose  BloodPressure  SkinThickness     Insulin  \\\n",
       "count   768.000000  768.000000     768.000000     768.000000  768.000000   \n",
       "mean      3.845052  120.894531      69.105469      20.536458   79.799479   \n",
       "std       3.369578   31.972618      19.355807      15.952218  115.244002   \n",
       "min       0.000000    0.000000       0.000000       0.000000    0.000000   \n",
       "25%       1.000000   99.000000      62.000000       0.000000    0.000000   \n",
       "50%       3.000000  117.000000      72.000000      23.000000   30.500000   \n",
       "75%       6.000000  140.250000      80.000000      32.000000  127.250000   \n",
       "max      17.000000  199.000000     122.000000      99.000000  846.000000   \n",
       "\n",
       "              BMI  DiabetesPedigreeFunction         Age     Outcome  \n",
       "count  768.000000                768.000000  768.000000  768.000000  \n",
       "mean    31.992578                  0.471876   33.240885    0.348958  \n",
       "std      7.884160                  0.331329   11.760232    0.476951  \n",
       "min      0.000000                  0.078000   21.000000    0.000000  \n",
       "25%     27.300000                  0.243750   24.000000    0.000000  \n",
       "50%     32.000000                  0.372500   29.000000    0.000000  \n",
       "75%     36.600000                  0.626250   41.000000    1.000000  \n",
       "max     67.100000                  2.420000   81.000000    1.000000  "
      ]
     },
     "execution_count": 71,
     "metadata": {},
     "output_type": "execute_result"
    }
   ],
   "source": [
    "#print descriptive statistics of df using describe\n",
    "df.___"
   ]
  },
  {
   "cell_type": "code",
   "execution_count": 72,
   "metadata": {},
   "outputs": [
    {
     "name": "stdout",
     "output_type": "stream",
     "text": [
      "<class 'pandas.core.frame.DataFrame'>\n",
      "RangeIndex: 768 entries, 0 to 767\n",
      "Data columns (total 9 columns):\n",
      " #   Column                    Non-Null Count  Dtype  \n",
      "---  ------                    --------------  -----  \n",
      " 0   Pregnancies               768 non-null    int64  \n",
      " 1   Glucose                   768 non-null    int64  \n",
      " 2   BloodPressure             768 non-null    int64  \n",
      " 3   SkinThickness             768 non-null    int64  \n",
      " 4   Insulin                   768 non-null    int64  \n",
      " 5   BMI                       768 non-null    float64\n",
      " 6   DiabetesPedigreeFunction  768 non-null    float64\n",
      " 7   Age                       768 non-null    int64  \n",
      " 8   Outcome                   768 non-null    int64  \n",
      "dtypes: float64(2), int64(7)\n",
      "memory usage: 54.1 KB\n"
     ]
    }
   ],
   "source": [
    "#print a concise summary of df using info\n",
    "df.___"
   ]
  },
  {
   "cell_type": "markdown",
   "metadata": {},
   "source": [
    "<h1 align=right style=\"line-height:150%;font-family:vazir;color:#0099cc\">\n",
    "<font face=\"vazir\" color=\"#0099cc\">\n",
    "تحلیل داده ها\n",
    "</font>\n",
    "</h1>"
   ]
  },
  {
   "cell_type": "markdown",
   "metadata": {},
   "source": [
    "<p dir=rtl style=\"direction: rtl;text-align: right;line-height:200%;font-family:vazir;font-size:medium\">\n",
    "<font face=\"vazir\" size=3>\n",
    "با استفاده از مهارت هایی که در جلسات پیش کسب کردید به سوالات زیر پاسخ دهید:\n",
    "<li dir=rtl style=\"text-align: right\"> \n",
    "چند درصد از افراد بالای پنجاه سال دیابت دارند؟\n",
    "</li>\n",
    "<li dir=rtl style=\"text-align: right\"> \n",
    "چند درصد از افرادی که دیابت دارند حداقل یک بار بارداری داشته اند؟\n",
    "</li>\n",
    "<li dir=rtl style=\"text-align: right\"> \n",
    "چند درصد از  افرادی که فشار خون بالای هشتاد دارند به دیابت مبتلا نیستند؟\n",
    "</li>\n",
    "</font>\n",
    "</p>"
   ]
  },
  {
   "cell_type": "code",
   "execution_count": null,
   "metadata": {},
   "outputs": [],
   "source": [
    "#Q1"
   ]
  },
  {
   "cell_type": "code",
   "execution_count": null,
   "metadata": {},
   "outputs": [],
   "source": [
    "#Q2"
   ]
  },
  {
   "cell_type": "code",
   "execution_count": null,
   "metadata": {},
   "outputs": [],
   "source": [
    "#Q3"
   ]
  },
  {
   "cell_type": "markdown",
   "metadata": {},
   "source": [
    "<p dir=rtl style=\"direction: rtl;text-align: right;line-height:200%;font-family:vazir;font-size:medium\">\n",
    "<font face=\"vazir\" size=3>\n",
    "در سلول زیر نمودار چگالی یا\n",
    "<code>histogram</code>\n",
    "ستون \n",
    "<code>Age</code>\n",
    "را رسم کنید.\n",
    "</font>\n",
    "</p>"
   ]
  },
  {
   "cell_type": "code",
   "execution_count": null,
   "metadata": {},
   "outputs": [],
   "source": [
    "# histogram of Age\n",
    "income_hist = px.___\n",
    "#show the histogram\n",
    "income_hist.___"
   ]
  },
  {
   "cell_type": "markdown",
   "metadata": {},
   "source": [
    "<p dir=rtl style=\"direction: rtl;text-align: right;line-height:200%;font-family:vazir;font-size:medium\">\n",
    "<font face=\"vazir\" size=3>\n",
    "با استفاده از نمودار جعبه ای\n",
    "سطح گلوکز کسانی که دیابت دارند را با کسانی که دیابت ندارند مقایسه کنید.\n",
    "</font>\n",
    "</p>"
   ]
  },
  {
   "cell_type": "code",
   "execution_count": null,
   "metadata": {},
   "outputs": [],
   "source": [
    "#box plot of Glucose\n",
    "income_buy_box = px.___\n",
    "#show the boxplot\n",
    "income_buy_box.___"
   ]
  },
  {
   "cell_type": "markdown",
   "metadata": {},
   "source": [
    "<h1 align=right style=\"line-height:150%;font-family:vazir;color:#0099cc\">\n",
    "<font face=\"vazir\" color=\"#0099cc\">\n",
    "مدل سازی\n",
    "</font>\n",
    "</h1>"
   ]
  },
  {
   "cell_type": "markdown",
   "metadata": {},
   "source": [
    "<p dir=rtl style=\"direction: rtl;text-align: right;line-height:200%;font-family:vazir;font-size:medium\">\n",
    "<font face=\"vazir\" size=3>\n",
    "مانند مدل رگرسیون خطی ابتدا داده ها را به دو قسمت آموزش و آزمون تقسیم کرده و سپس مدل را ساخته و روی داده های آموزشی آموزش میدهیم و در آخر با استفاده از داده های آزمون عملکرد مدل را ارزیابی میکنیم.\n",
    "</font>\n",
    "</p>"
   ]
  },
  {
   "cell_type": "markdown",
   "metadata": {},
   "source": [
    "<p dir=rtl style=\"direction: rtl;text-align: right;line-height:200%;font-family:vazir;font-size:medium\">\n",
    "<font face=\"vazir\" size=3>\n",
    "مدل \n",
    "<code>LogisticRegression</code>\n",
    "را از \n",
    "<code>sklearn.linear_model</code>\n",
    "به محیط کاری اضافه کنید.\n",
    "</font>\n",
    "</p>"
   ]
  },
  {
   "cell_type": "code",
   "execution_count": 34,
   "metadata": {},
   "outputs": [],
   "source": [
    "from sklearn.linear_model import ..."
   ]
  },
  {
   "cell_type": "markdown",
   "metadata": {},
   "source": [
    "<p dir=rtl style=\"direction: rtl;text-align: right;line-height:200%;font-family:vazir;font-size:medium\">\n",
    "<font face=\"vazir\" size=3>\n",
    "داده ها را به دو قسمت آموزش و آزمون تقسیم کنید به طوری که \n",
    "<code>80%</code>\n",
    "کل داده ها را داده های آموزشی تشکیل دهد.\n",
    "</font>\n",
    "</p>"
   ]
  },
  {
   "cell_type": "code",
   "execution_count": 61,
   "metadata": {},
   "outputs": [],
   "source": [
    "from sklearn.model_selection import train_test_split\n",
    "features = [\"Pregnancies\",\"Glucose\",\"BloodPressure\",\"SkinThickness\",...,...,...,...]\n",
    "target = [...]\n",
    "X_log_reg = df[...]\n",
    "y_log_reg = df[...]\n",
    "X_train_log, X_test_log, y_train_log, y_test_log = ..."
   ]
  },
  {
   "cell_type": "markdown",
   "metadata": {},
   "source": [
    "<p dir=rtl style=\"direction: rtl;text-align: right;line-height:200%;font-family:vazir;font-size:medium\">\n",
    "<font face=\"vazir\" size=3>\n",
    "حالا میتوانیم مدل را ساخته و آن را آموزش دهیم.\n",
    "</font>\n",
    "</p>"
   ]
  },
  {
   "cell_type": "code",
   "execution_count": 62,
   "metadata": {},
   "outputs": [
    {
     "data": {
      "text/html": [
       "<style>#sk-container-id-4 {color: black;background-color: white;}#sk-container-id-4 pre{padding: 0;}#sk-container-id-4 div.sk-toggleable {background-color: white;}#sk-container-id-4 label.sk-toggleable__label {cursor: pointer;display: block;width: 100%;margin-bottom: 0;padding: 0.3em;box-sizing: border-box;text-align: center;}#sk-container-id-4 label.sk-toggleable__label-arrow:before {content: \"▸\";float: left;margin-right: 0.25em;color: #696969;}#sk-container-id-4 label.sk-toggleable__label-arrow:hover:before {color: black;}#sk-container-id-4 div.sk-estimator:hover label.sk-toggleable__label-arrow:before {color: black;}#sk-container-id-4 div.sk-toggleable__content {max-height: 0;max-width: 0;overflow: hidden;text-align: left;background-color: #f0f8ff;}#sk-container-id-4 div.sk-toggleable__content pre {margin: 0.2em;color: black;border-radius: 0.25em;background-color: #f0f8ff;}#sk-container-id-4 input.sk-toggleable__control:checked~div.sk-toggleable__content {max-height: 200px;max-width: 100%;overflow: auto;}#sk-container-id-4 input.sk-toggleable__control:checked~label.sk-toggleable__label-arrow:before {content: \"▾\";}#sk-container-id-4 div.sk-estimator input.sk-toggleable__control:checked~label.sk-toggleable__label {background-color: #d4ebff;}#sk-container-id-4 div.sk-label input.sk-toggleable__control:checked~label.sk-toggleable__label {background-color: #d4ebff;}#sk-container-id-4 input.sk-hidden--visually {border: 0;clip: rect(1px 1px 1px 1px);clip: rect(1px, 1px, 1px, 1px);height: 1px;margin: -1px;overflow: hidden;padding: 0;position: absolute;width: 1px;}#sk-container-id-4 div.sk-estimator {font-family: monospace;background-color: #f0f8ff;border: 1px dotted black;border-radius: 0.25em;box-sizing: border-box;margin-bottom: 0.5em;}#sk-container-id-4 div.sk-estimator:hover {background-color: #d4ebff;}#sk-container-id-4 div.sk-parallel-item::after {content: \"\";width: 100%;border-bottom: 1px solid gray;flex-grow: 1;}#sk-container-id-4 div.sk-label:hover label.sk-toggleable__label {background-color: #d4ebff;}#sk-container-id-4 div.sk-serial::before {content: \"\";position: absolute;border-left: 1px solid gray;box-sizing: border-box;top: 0;bottom: 0;left: 50%;z-index: 0;}#sk-container-id-4 div.sk-serial {display: flex;flex-direction: column;align-items: center;background-color: white;padding-right: 0.2em;padding-left: 0.2em;position: relative;}#sk-container-id-4 div.sk-item {position: relative;z-index: 1;}#sk-container-id-4 div.sk-parallel {display: flex;align-items: stretch;justify-content: center;background-color: white;position: relative;}#sk-container-id-4 div.sk-item::before, #sk-container-id-4 div.sk-parallel-item::before {content: \"\";position: absolute;border-left: 1px solid gray;box-sizing: border-box;top: 0;bottom: 0;left: 50%;z-index: -1;}#sk-container-id-4 div.sk-parallel-item {display: flex;flex-direction: column;z-index: 1;position: relative;background-color: white;}#sk-container-id-4 div.sk-parallel-item:first-child::after {align-self: flex-end;width: 50%;}#sk-container-id-4 div.sk-parallel-item:last-child::after {align-self: flex-start;width: 50%;}#sk-container-id-4 div.sk-parallel-item:only-child::after {width: 0;}#sk-container-id-4 div.sk-dashed-wrapped {border: 1px dashed gray;margin: 0 0.4em 0.5em 0.4em;box-sizing: border-box;padding-bottom: 0.4em;background-color: white;}#sk-container-id-4 div.sk-label label {font-family: monospace;font-weight: bold;display: inline-block;line-height: 1.2em;}#sk-container-id-4 div.sk-label-container {text-align: center;}#sk-container-id-4 div.sk-container {/* jupyter's `normalize.less` sets `[hidden] { display: none; }` but bootstrap.min.css set `[hidden] { display: none !important; }` so we also need the `!important` here to be able to override the default hidden behavior on the sphinx rendered scikit-learn.org. See: https://github.com/scikit-learn/scikit-learn/issues/21755 */display: inline-block !important;position: relative;}#sk-container-id-4 div.sk-text-repr-fallback {display: none;}</style><div id=\"sk-container-id-4\" class=\"sk-top-container\"><div class=\"sk-text-repr-fallback\"><pre>LogisticRegression()</pre><b>In a Jupyter environment, please rerun this cell to show the HTML representation or trust the notebook. <br />On GitHub, the HTML representation is unable to render, please try loading this page with nbviewer.org.</b></div><div class=\"sk-container\" hidden><div class=\"sk-item\"><div class=\"sk-estimator sk-toggleable\"><input class=\"sk-toggleable__control sk-hidden--visually\" id=\"sk-estimator-id-4\" type=\"checkbox\" checked><label for=\"sk-estimator-id-4\" class=\"sk-toggleable__label sk-toggleable__label-arrow\">LogisticRegression</label><div class=\"sk-toggleable__content\"><pre>LogisticRegression()</pre></div></div></div></div></div>"
      ],
      "text/plain": [
       "LogisticRegression()"
      ]
     },
     "execution_count": 62,
     "metadata": {},
     "output_type": "execute_result"
    }
   ],
   "source": [
    "logistic_reg = ...\n",
    "# fit model to data\n",
    "logistic_reg.___(... , ...)"
   ]
  },
  {
   "cell_type": "markdown",
   "metadata": {},
   "source": [
    "<p dir=rtl style=\"direction: rtl;text-align: right;line-height:200%;font-family:vazir;font-size:medium\">\n",
    "<font face=\"vazir\" size=3>\n",
    "همانطور که میدانید مدل رگرسیون لجستیک برای پیش بینی دسته یک رکورد احتمال حضور آن در دسته های مختلف را محاسبه و سپس دسته ای را انتخاب میکند که بیشترین احتمال را دارد.\n",
    "برای مشاهده دسته های پیش بینی شده توسط مدل از تابع\n",
    "<code>predict</code>\n",
    "استفاده میکنیم.برای محاسبه احتمال های دسته ها نیز کافیست تابع\n",
    "<code>predict_proba</code>\n",
    "را فراخوانی کنیم.\n",
    "</font>\n",
    "</p>"
   ]
  },
  {
   "cell_type": "code",
   "execution_count": 63,
   "metadata": {},
   "outputs": [
    {
     "data": {
      "text/plain": [
       "array([[0.72863613, 0.27136387],\n",
       "       [0.80694397, 0.19305603],\n",
       "       [0.88288362, 0.11711638],\n",
       "       [0.83668627, 0.16331373],\n",
       "       [0.5350496 , 0.4649504 ],\n",
       "       [0.57047484, 0.42952516],\n",
       "       [0.98413418, 0.01586582],\n",
       "       [0.34931519, 0.65068481],\n",
       "       [0.45805615, 0.54194385],\n",
       "       [0.23401585, 0.76598415],\n",
       "       [0.74298771, 0.25701229],\n",
       "       [0.10609959, 0.89390041],\n",
       "       [0.65975455, 0.34024545],\n",
       "       [0.70447901, 0.29552099],\n",
       "       [0.91670155, 0.08329845],\n",
       "       [0.61888367, 0.38111633],\n",
       "       [0.85975086, 0.14024914],\n",
       "       [0.92366617, 0.07633383],\n",
       "       [0.13232829, 0.86767171],\n",
       "       [0.43642543, 0.56357457],\n",
       "       [0.79617012, 0.20382988],\n",
       "       [0.92228137, 0.07771863],\n",
       "       [0.46163413, 0.53836587],\n",
       "       [0.90345553, 0.09654447],\n",
       "       [0.46105896, 0.53894104],\n",
       "       [0.11433745, 0.88566255],\n",
       "       [0.87240858, 0.12759142],\n",
       "       [0.96919852, 0.03080148],\n",
       "       [0.74597403, 0.25402597],\n",
       "       [0.88600204, 0.11399796],\n",
       "       [0.08873936, 0.91126064],\n",
       "       [0.13861675, 0.86138325],\n",
       "       [0.23188421, 0.76811579],\n",
       "       [0.16280487, 0.83719513],\n",
       "       [0.40027891, 0.59972109],\n",
       "       [0.31581265, 0.68418735],\n",
       "       [0.03300651, 0.96699349],\n",
       "       [0.76021006, 0.23978994],\n",
       "       [0.49900109, 0.50099891],\n",
       "       [0.26384522, 0.73615478],\n",
       "       [0.92925026, 0.07074974],\n",
       "       [0.42219203, 0.57780797],\n",
       "       [0.43137287, 0.56862713],\n",
       "       [0.67363849, 0.32636151],\n",
       "       [0.97175954, 0.02824046],\n",
       "       [0.49495536, 0.50504464],\n",
       "       [0.37683774, 0.62316226],\n",
       "       [0.77257533, 0.22742467],\n",
       "       [0.65142703, 0.34857297],\n",
       "       [0.04713199, 0.95286801],\n",
       "       [0.94930455, 0.05069545],\n",
       "       [0.34678806, 0.65321194],\n",
       "       [0.19569475, 0.80430525],\n",
       "       [0.7506864 , 0.2493136 ],\n",
       "       [0.90363181, 0.09636819],\n",
       "       [0.95759728, 0.04240272],\n",
       "       [0.2313281 , 0.7686719 ],\n",
       "       [0.99400501, 0.00599499],\n",
       "       [0.5895198 , 0.4104802 ],\n",
       "       [0.24416303, 0.75583697],\n",
       "       [0.26059343, 0.73940657],\n",
       "       [0.64525436, 0.35474564],\n",
       "       [0.81557435, 0.18442565],\n",
       "       [0.79970448, 0.20029552],\n",
       "       [0.92229331, 0.07770669],\n",
       "       [0.36800821, 0.63199179],\n",
       "       [0.94817501, 0.05182499],\n",
       "       [0.27098044, 0.72901956],\n",
       "       [0.96258168, 0.03741832],\n",
       "       [0.28429841, 0.71570159],\n",
       "       [0.32856097, 0.67143903],\n",
       "       [0.92987403, 0.07012597],\n",
       "       [0.82515545, 0.17484455],\n",
       "       [0.88448192, 0.11551808],\n",
       "       [0.90738208, 0.09261792],\n",
       "       [0.49866589, 0.50133411],\n",
       "       [0.84238955, 0.15761045],\n",
       "       [0.86498736, 0.13501264],\n",
       "       [0.86588413, 0.13411587],\n",
       "       [0.76553503, 0.23446497],\n",
       "       [0.34352916, 0.65647084],\n",
       "       [0.85076294, 0.14923706],\n",
       "       [0.93876377, 0.06123623],\n",
       "       [0.6217059 , 0.3782941 ],\n",
       "       [0.74028761, 0.25971239],\n",
       "       [0.16426689, 0.83573311],\n",
       "       [0.0977825 , 0.9022175 ],\n",
       "       [0.698136  , 0.301864  ],\n",
       "       [0.87498287, 0.12501713],\n",
       "       [0.91347733, 0.08652267],\n",
       "       [0.93339345, 0.06660655],\n",
       "       [0.76372125, 0.23627875],\n",
       "       [0.99561793, 0.00438207],\n",
       "       [0.45023251, 0.54976749],\n",
       "       [0.48227504, 0.51772496],\n",
       "       [0.34890233, 0.65109767],\n",
       "       [0.63501708, 0.36498292],\n",
       "       [0.87111186, 0.12888814],\n",
       "       [0.39148093, 0.60851907],\n",
       "       [0.91975545, 0.08024455],\n",
       "       [0.2808772 , 0.7191228 ],\n",
       "       [0.93670152, 0.06329848],\n",
       "       [0.22613788, 0.77386212],\n",
       "       [0.4947758 , 0.5052242 ],\n",
       "       [0.35785945, 0.64214055],\n",
       "       [0.77916024, 0.22083976],\n",
       "       [0.73771011, 0.26228989],\n",
       "       [0.26368876, 0.73631124],\n",
       "       [0.87398474, 0.12601526],\n",
       "       [0.47357646, 0.52642354],\n",
       "       [0.89884571, 0.10115429],\n",
       "       [0.67325232, 0.32674768],\n",
       "       [0.97900175, 0.02099825],\n",
       "       [0.26537955, 0.73462045],\n",
       "       [0.82401356, 0.17598644],\n",
       "       [0.6557234 , 0.3442766 ],\n",
       "       [0.22236183, 0.77763817],\n",
       "       [0.78016387, 0.21983613],\n",
       "       [0.93537245, 0.06462755],\n",
       "       [0.41231307, 0.58768693],\n",
       "       [0.9398037 , 0.0601963 ],\n",
       "       [0.7018764 , 0.2981236 ],\n",
       "       [0.75413464, 0.24586536],\n",
       "       [0.92295256, 0.07704744],\n",
       "       [0.72848626, 0.27151374],\n",
       "       [0.59180529, 0.40819471],\n",
       "       [0.95769972, 0.04230028],\n",
       "       [0.13373204, 0.86626796],\n",
       "       [0.02970848, 0.97029152],\n",
       "       [0.26881497, 0.73118503],\n",
       "       [0.29358906, 0.70641094],\n",
       "       [0.14922936, 0.85077064],\n",
       "       [0.91438603, 0.08561397],\n",
       "       [0.57899082, 0.42100918],\n",
       "       [0.18630854, 0.81369146],\n",
       "       [0.8878709 , 0.1121291 ],\n",
       "       [0.84120254, 0.15879746],\n",
       "       [0.14757792, 0.85242208],\n",
       "       [0.20591166, 0.79408834],\n",
       "       [0.9866261 , 0.0133739 ],\n",
       "       [0.90261944, 0.09738056],\n",
       "       [0.95942637, 0.04057363],\n",
       "       [0.79479927, 0.20520073],\n",
       "       [0.62009721, 0.37990279],\n",
       "       [0.87536808, 0.12463192],\n",
       "       [0.71194296, 0.28805704],\n",
       "       [0.86086576, 0.13913424],\n",
       "       [0.9779681 , 0.0220319 ],\n",
       "       [0.57185255, 0.42814745],\n",
       "       [0.25274178, 0.74725822],\n",
       "       [0.88179041, 0.11820959],\n",
       "       [0.52931067, 0.47068933],\n",
       "       [0.77193267, 0.22806733],\n",
       "       [0.80272522, 0.19727478]])"
      ]
     },
     "execution_count": 63,
     "metadata": {},
     "output_type": "execute_result"
    }
   ],
   "source": [
    "#use predict method to get predicterd classed for each record in test data\n",
    "y_pred_classes = logistic_reg.___(...)\n",
    "# use predict_proba method to calculate probabilities\n",
    "y_pred_proba = logistic_reg.___(...)\n",
    "y_pred_proba"
   ]
  },
  {
   "cell_type": "markdown",
   "metadata": {},
   "source": [
    "<h1 align=right style=\"line-height:150%;font-family:vazir;color:#0099cc\">\n",
    "<font face=\"vazir\" color=\"#0099cc\">\n",
    "رسم نمودار یادگیری \n",
    "</font>\n",
    "</h1>"
   ]
  },
  {
   "cell_type": "markdown",
   "metadata": {},
   "source": [
    "<p dir=rtl style=\"direction: rtl;text-align: right;line-height:200%;font-family:vazir;font-size:medium\">\n",
    "<font face=\"vazir\" size=3>\n",
    "مانند بخش رگرسیون خطی برای مدل لجستیک ساخته شده نمودار یادگیری یا\n",
    "<code>learning_curve</code>\n",
    "را رسم کنید.\n",
    "</font>\n",
    "</p>"
   ]
  },
  {
   "cell_type": "code",
   "execution_count": 65,
   "metadata": {},
   "outputs": [
    {
     "data": {
      "application/vnd.plotly.v1+json": {
       "config": {
        "plotlyServerURL": "https://plot.ly"
       },
       "data": [
        {
         "hovertemplate": "x=%{x}<br>y=%{y}<extra></extra>",
         "legendgroup": "",
         "line": {
          "color": "#636efa",
          "dash": "solid"
         },
         "marker": {
          "symbol": "circle"
         },
         "mode": "lines",
         "name": "train scores",
         "orientation": "v",
         "showlegend": true,
         "type": "scatter",
         "x": [
          50,
          140,
          230,
          320,
          410,
          500,
          590
         ],
         "xaxis": "x",
         "y": [
          0.752,
          0.7485714285714286,
          0.7582608695652173,
          0.750625,
          0.7663414634146342,
          0.7812,
          0.78
         ],
         "yaxis": "y"
        },
        {
         "mode": "lines",
         "name": "validation scores",
         "type": "scatter",
         "x": [
          50,
          140,
          230,
          320,
          410,
          500,
          590
         ],
         "y": [
          0.6953060011883541,
          0.7461845344198285,
          0.7566080977845683,
          0.7591375944317121,
          0.7708853238265003,
          0.7695696460402341,
          0.7656735421441304
         ]
        }
       ],
       "layout": {
        "legend": {
         "tracegroupgap": 0
        },
        "margin": {
         "t": 60
        },
        "template": {
         "data": {
          "bar": [
           {
            "error_x": {
             "color": "#2a3f5f"
            },
            "error_y": {
             "color": "#2a3f5f"
            },
            "marker": {
             "line": {
              "color": "#E5ECF6",
              "width": 0.5
             },
             "pattern": {
              "fillmode": "overlay",
              "size": 10,
              "solidity": 0.2
             }
            },
            "type": "bar"
           }
          ],
          "barpolar": [
           {
            "marker": {
             "line": {
              "color": "#E5ECF6",
              "width": 0.5
             },
             "pattern": {
              "fillmode": "overlay",
              "size": 10,
              "solidity": 0.2
             }
            },
            "type": "barpolar"
           }
          ],
          "carpet": [
           {
            "aaxis": {
             "endlinecolor": "#2a3f5f",
             "gridcolor": "white",
             "linecolor": "white",
             "minorgridcolor": "white",
             "startlinecolor": "#2a3f5f"
            },
            "baxis": {
             "endlinecolor": "#2a3f5f",
             "gridcolor": "white",
             "linecolor": "white",
             "minorgridcolor": "white",
             "startlinecolor": "#2a3f5f"
            },
            "type": "carpet"
           }
          ],
          "choropleth": [
           {
            "colorbar": {
             "outlinewidth": 0,
             "ticks": ""
            },
            "type": "choropleth"
           }
          ],
          "contour": [
           {
            "colorbar": {
             "outlinewidth": 0,
             "ticks": ""
            },
            "colorscale": [
             [
              0,
              "#0d0887"
             ],
             [
              0.1111111111111111,
              "#46039f"
             ],
             [
              0.2222222222222222,
              "#7201a8"
             ],
             [
              0.3333333333333333,
              "#9c179e"
             ],
             [
              0.4444444444444444,
              "#bd3786"
             ],
             [
              0.5555555555555556,
              "#d8576b"
             ],
             [
              0.6666666666666666,
              "#ed7953"
             ],
             [
              0.7777777777777778,
              "#fb9f3a"
             ],
             [
              0.8888888888888888,
              "#fdca26"
             ],
             [
              1,
              "#f0f921"
             ]
            ],
            "type": "contour"
           }
          ],
          "contourcarpet": [
           {
            "colorbar": {
             "outlinewidth": 0,
             "ticks": ""
            },
            "type": "contourcarpet"
           }
          ],
          "heatmap": [
           {
            "colorbar": {
             "outlinewidth": 0,
             "ticks": ""
            },
            "colorscale": [
             [
              0,
              "#0d0887"
             ],
             [
              0.1111111111111111,
              "#46039f"
             ],
             [
              0.2222222222222222,
              "#7201a8"
             ],
             [
              0.3333333333333333,
              "#9c179e"
             ],
             [
              0.4444444444444444,
              "#bd3786"
             ],
             [
              0.5555555555555556,
              "#d8576b"
             ],
             [
              0.6666666666666666,
              "#ed7953"
             ],
             [
              0.7777777777777778,
              "#fb9f3a"
             ],
             [
              0.8888888888888888,
              "#fdca26"
             ],
             [
              1,
              "#f0f921"
             ]
            ],
            "type": "heatmap"
           }
          ],
          "heatmapgl": [
           {
            "colorbar": {
             "outlinewidth": 0,
             "ticks": ""
            },
            "colorscale": [
             [
              0,
              "#0d0887"
             ],
             [
              0.1111111111111111,
              "#46039f"
             ],
             [
              0.2222222222222222,
              "#7201a8"
             ],
             [
              0.3333333333333333,
              "#9c179e"
             ],
             [
              0.4444444444444444,
              "#bd3786"
             ],
             [
              0.5555555555555556,
              "#d8576b"
             ],
             [
              0.6666666666666666,
              "#ed7953"
             ],
             [
              0.7777777777777778,
              "#fb9f3a"
             ],
             [
              0.8888888888888888,
              "#fdca26"
             ],
             [
              1,
              "#f0f921"
             ]
            ],
            "type": "heatmapgl"
           }
          ],
          "histogram": [
           {
            "marker": {
             "pattern": {
              "fillmode": "overlay",
              "size": 10,
              "solidity": 0.2
             }
            },
            "type": "histogram"
           }
          ],
          "histogram2d": [
           {
            "colorbar": {
             "outlinewidth": 0,
             "ticks": ""
            },
            "colorscale": [
             [
              0,
              "#0d0887"
             ],
             [
              0.1111111111111111,
              "#46039f"
             ],
             [
              0.2222222222222222,
              "#7201a8"
             ],
             [
              0.3333333333333333,
              "#9c179e"
             ],
             [
              0.4444444444444444,
              "#bd3786"
             ],
             [
              0.5555555555555556,
              "#d8576b"
             ],
             [
              0.6666666666666666,
              "#ed7953"
             ],
             [
              0.7777777777777778,
              "#fb9f3a"
             ],
             [
              0.8888888888888888,
              "#fdca26"
             ],
             [
              1,
              "#f0f921"
             ]
            ],
            "type": "histogram2d"
           }
          ],
          "histogram2dcontour": [
           {
            "colorbar": {
             "outlinewidth": 0,
             "ticks": ""
            },
            "colorscale": [
             [
              0,
              "#0d0887"
             ],
             [
              0.1111111111111111,
              "#46039f"
             ],
             [
              0.2222222222222222,
              "#7201a8"
             ],
             [
              0.3333333333333333,
              "#9c179e"
             ],
             [
              0.4444444444444444,
              "#bd3786"
             ],
             [
              0.5555555555555556,
              "#d8576b"
             ],
             [
              0.6666666666666666,
              "#ed7953"
             ],
             [
              0.7777777777777778,
              "#fb9f3a"
             ],
             [
              0.8888888888888888,
              "#fdca26"
             ],
             [
              1,
              "#f0f921"
             ]
            ],
            "type": "histogram2dcontour"
           }
          ],
          "mesh3d": [
           {
            "colorbar": {
             "outlinewidth": 0,
             "ticks": ""
            },
            "type": "mesh3d"
           }
          ],
          "parcoords": [
           {
            "line": {
             "colorbar": {
              "outlinewidth": 0,
              "ticks": ""
             }
            },
            "type": "parcoords"
           }
          ],
          "pie": [
           {
            "automargin": true,
            "type": "pie"
           }
          ],
          "scatter": [
           {
            "fillpattern": {
             "fillmode": "overlay",
             "size": 10,
             "solidity": 0.2
            },
            "type": "scatter"
           }
          ],
          "scatter3d": [
           {
            "line": {
             "colorbar": {
              "outlinewidth": 0,
              "ticks": ""
             }
            },
            "marker": {
             "colorbar": {
              "outlinewidth": 0,
              "ticks": ""
             }
            },
            "type": "scatter3d"
           }
          ],
          "scattercarpet": [
           {
            "marker": {
             "colorbar": {
              "outlinewidth": 0,
              "ticks": ""
             }
            },
            "type": "scattercarpet"
           }
          ],
          "scattergeo": [
           {
            "marker": {
             "colorbar": {
              "outlinewidth": 0,
              "ticks": ""
             }
            },
            "type": "scattergeo"
           }
          ],
          "scattergl": [
           {
            "marker": {
             "colorbar": {
              "outlinewidth": 0,
              "ticks": ""
             }
            },
            "type": "scattergl"
           }
          ],
          "scattermapbox": [
           {
            "marker": {
             "colorbar": {
              "outlinewidth": 0,
              "ticks": ""
             }
            },
            "type": "scattermapbox"
           }
          ],
          "scatterpolar": [
           {
            "marker": {
             "colorbar": {
              "outlinewidth": 0,
              "ticks": ""
             }
            },
            "type": "scatterpolar"
           }
          ],
          "scatterpolargl": [
           {
            "marker": {
             "colorbar": {
              "outlinewidth": 0,
              "ticks": ""
             }
            },
            "type": "scatterpolargl"
           }
          ],
          "scatterternary": [
           {
            "marker": {
             "colorbar": {
              "outlinewidth": 0,
              "ticks": ""
             }
            },
            "type": "scatterternary"
           }
          ],
          "surface": [
           {
            "colorbar": {
             "outlinewidth": 0,
             "ticks": ""
            },
            "colorscale": [
             [
              0,
              "#0d0887"
             ],
             [
              0.1111111111111111,
              "#46039f"
             ],
             [
              0.2222222222222222,
              "#7201a8"
             ],
             [
              0.3333333333333333,
              "#9c179e"
             ],
             [
              0.4444444444444444,
              "#bd3786"
             ],
             [
              0.5555555555555556,
              "#d8576b"
             ],
             [
              0.6666666666666666,
              "#ed7953"
             ],
             [
              0.7777777777777778,
              "#fb9f3a"
             ],
             [
              0.8888888888888888,
              "#fdca26"
             ],
             [
              1,
              "#f0f921"
             ]
            ],
            "type": "surface"
           }
          ],
          "table": [
           {
            "cells": {
             "fill": {
              "color": "#EBF0F8"
             },
             "line": {
              "color": "white"
             }
            },
            "header": {
             "fill": {
              "color": "#C8D4E3"
             },
             "line": {
              "color": "white"
             }
            },
            "type": "table"
           }
          ]
         },
         "layout": {
          "annotationdefaults": {
           "arrowcolor": "#2a3f5f",
           "arrowhead": 0,
           "arrowwidth": 1
          },
          "autotypenumbers": "strict",
          "coloraxis": {
           "colorbar": {
            "outlinewidth": 0,
            "ticks": ""
           }
          },
          "colorscale": {
           "diverging": [
            [
             0,
             "#8e0152"
            ],
            [
             0.1,
             "#c51b7d"
            ],
            [
             0.2,
             "#de77ae"
            ],
            [
             0.3,
             "#f1b6da"
            ],
            [
             0.4,
             "#fde0ef"
            ],
            [
             0.5,
             "#f7f7f7"
            ],
            [
             0.6,
             "#e6f5d0"
            ],
            [
             0.7,
             "#b8e186"
            ],
            [
             0.8,
             "#7fbc41"
            ],
            [
             0.9,
             "#4d9221"
            ],
            [
             1,
             "#276419"
            ]
           ],
           "sequential": [
            [
             0,
             "#0d0887"
            ],
            [
             0.1111111111111111,
             "#46039f"
            ],
            [
             0.2222222222222222,
             "#7201a8"
            ],
            [
             0.3333333333333333,
             "#9c179e"
            ],
            [
             0.4444444444444444,
             "#bd3786"
            ],
            [
             0.5555555555555556,
             "#d8576b"
            ],
            [
             0.6666666666666666,
             "#ed7953"
            ],
            [
             0.7777777777777778,
             "#fb9f3a"
            ],
            [
             0.8888888888888888,
             "#fdca26"
            ],
            [
             1,
             "#f0f921"
            ]
           ],
           "sequentialminus": [
            [
             0,
             "#0d0887"
            ],
            [
             0.1111111111111111,
             "#46039f"
            ],
            [
             0.2222222222222222,
             "#7201a8"
            ],
            [
             0.3333333333333333,
             "#9c179e"
            ],
            [
             0.4444444444444444,
             "#bd3786"
            ],
            [
             0.5555555555555556,
             "#d8576b"
            ],
            [
             0.6666666666666666,
             "#ed7953"
            ],
            [
             0.7777777777777778,
             "#fb9f3a"
            ],
            [
             0.8888888888888888,
             "#fdca26"
            ],
            [
             1,
             "#f0f921"
            ]
           ]
          },
          "colorway": [
           "#636efa",
           "#EF553B",
           "#00cc96",
           "#ab63fa",
           "#FFA15A",
           "#19d3f3",
           "#FF6692",
           "#B6E880",
           "#FF97FF",
           "#FECB52"
          ],
          "font": {
           "color": "#2a3f5f"
          },
          "geo": {
           "bgcolor": "white",
           "lakecolor": "white",
           "landcolor": "#E5ECF6",
           "showlakes": true,
           "showland": true,
           "subunitcolor": "white"
          },
          "hoverlabel": {
           "align": "left"
          },
          "hovermode": "closest",
          "mapbox": {
           "style": "light"
          },
          "paper_bgcolor": "white",
          "plot_bgcolor": "#E5ECF6",
          "polar": {
           "angularaxis": {
            "gridcolor": "white",
            "linecolor": "white",
            "ticks": ""
           },
           "bgcolor": "#E5ECF6",
           "radialaxis": {
            "gridcolor": "white",
            "linecolor": "white",
            "ticks": ""
           }
          },
          "scene": {
           "xaxis": {
            "backgroundcolor": "#E5ECF6",
            "gridcolor": "white",
            "gridwidth": 2,
            "linecolor": "white",
            "showbackground": true,
            "ticks": "",
            "zerolinecolor": "white"
           },
           "yaxis": {
            "backgroundcolor": "#E5ECF6",
            "gridcolor": "white",
            "gridwidth": 2,
            "linecolor": "white",
            "showbackground": true,
            "ticks": "",
            "zerolinecolor": "white"
           },
           "zaxis": {
            "backgroundcolor": "#E5ECF6",
            "gridcolor": "white",
            "gridwidth": 2,
            "linecolor": "white",
            "showbackground": true,
            "ticks": "",
            "zerolinecolor": "white"
           }
          },
          "shapedefaults": {
           "line": {
            "color": "#2a3f5f"
           }
          },
          "ternary": {
           "aaxis": {
            "gridcolor": "white",
            "linecolor": "white",
            "ticks": ""
           },
           "baxis": {
            "gridcolor": "white",
            "linecolor": "white",
            "ticks": ""
           },
           "bgcolor": "#E5ECF6",
           "caxis": {
            "gridcolor": "white",
            "linecolor": "white",
            "ticks": ""
           }
          },
          "title": {
           "x": 0.05
          },
          "xaxis": {
           "automargin": true,
           "gridcolor": "white",
           "linecolor": "white",
           "ticks": "",
           "title": {
            "standoff": 15
           },
           "zerolinecolor": "white",
           "zerolinewidth": 2
          },
          "yaxis": {
           "automargin": true,
           "gridcolor": "white",
           "linecolor": "white",
           "ticks": "",
           "title": {
            "standoff": 15
           },
           "zerolinecolor": "white",
           "zerolinewidth": 2
          }
         }
        },
        "xaxis": {
         "anchor": "y",
         "domain": [
          0,
          1
         ],
         "title": {
          "text": "x"
         }
        },
        "yaxis": {
         "anchor": "x",
         "domain": [
          0,
          1
         ],
         "title": {
          "text": "y"
         }
        }
       }
      }
     },
     "metadata": {},
     "output_type": "display_data"
    }
   ],
   "source": [
    "import warnings\n",
    "from sklearn.model_selection import learning_curve\n",
    "warnings.filterwarnings(\"ignore\")\n",
    "\n",
    "\n",
    "train_sizes, train_scores, validation_scores = ...\n",
    "learn_curve = px.line(x = ... , y=...)\n",
    "learn_curve.data[0].name=\"train scores\"\n",
    "learn_curve.update_traces(showlegend=True)\n",
    "learn_curve.add_scatter(x=..., y=...,mode='lines' , name=\"validation scores\")\n",
    "learn_curve.___()"
   ]
  },
  {
   "cell_type": "markdown",
   "metadata": {},
   "source": [
    "<h1 align=right style=\"line-height:150%;font-family:vazir;color:#0099cc\">\n",
    "<font face=\"vazir\" color=\"#0099cc\">\n",
    "ارزیابی مدل رگرسیون لجستیک\n",
    "</font>\n",
    "</h1>"
   ]
  },
  {
   "cell_type": "markdown",
   "metadata": {},
   "source": [
    "<p style=\"text-align:center\"><img  src=\"https://i.postimg.cc/PqVtRkSd/image.png\" width=\"1000\" alt=\"confusion matrix\"></p>"
   ]
  },
  {
   "cell_type": "markdown",
   "metadata": {},
   "source": [
    "<p dir=rtl style=\"direction: rtl;text-align: right;line-height:200%;font-family:vazir;font-size:medium\">\n",
    "<font face=\"vazir\" size=3>\n",
    "بعد از هر مسئله‌ی دسته‌بندی، بر اساس نتیجه‌ی مدل ماتریسی تشکیل داده می‌شود، به نام ماتریس درهم‌ریختگی\n",
    "(<code>Confusion matrix</code>)\n",
    "بعد از اینکه مدل را روی داده آموزش دهیم و خروجی مدل را روی داده‌ی آزمایشی بگیریم می‌توان نتیجه را به شکل ماتریس زیر نمایش داد:\n",
    "</font>\n",
    "</p>"
   ]
  },
  {
   "cell_type": "markdown",
   "metadata": {},
   "source": [
    "<p style=\"text-align:center\"><img  src=\"https://i.postimg.cc/qqS6V3QM/Confusion-Matrix-png.webp\" width=\"1000\" alt=\"confusion matrix\"></p>"
   ]
  },
  {
   "cell_type": "markdown",
   "metadata": {},
   "source": [
    "<p dir=rtl style=\"direction: rtl;text-align: right;line-height:200%;font-family:vazir;font-size:medium\">\n",
    "<font face=\"vazir\" size=3>\n",
    "ابتدا تابع\n",
    "<code>confusion_matrix</code>\n",
    "را از \n",
    "<code>sklearn.metrics</code>\n",
    "به محیط کاری اضافه کنید و سپس ماتریس در هم ریختگی را با استفاده از\n",
    "<code>y_test</code>\n",
    "و\n",
    "<code>y_pred_classes</code>\n",
    "به دست آورید.\n",
    "</font>\n",
    "</p>"
   ]
  },
  {
   "cell_type": "code",
   "execution_count": 66,
   "metadata": {},
   "outputs": [
    {
     "name": "stdout",
     "output_type": "stream",
     "text": [
      "Confusion Matrix is : \n",
      "[[78 21]\n",
      " [18 37]]\n"
     ]
    }
   ],
   "source": [
    "from sklearn.metrics import confusion_matrix\n",
    "conf_mat = confusion_matrix(... , ...)\n",
    "print(\"Confusion Matrix is : \")\n",
    "print(conf_mat)"
   ]
  },
  {
   "cell_type": "markdown",
   "metadata": {},
   "source": [
    "<p dir=rtl style=\"direction: rtl;text-align: right;line-height:200%;font-family:vazir;font-size:medium\">\n",
    "<font face=\"vazir\" size=3>\n",
    "برای رسم ماتریس درهم ریختگی سراغ \n",
    "<code>plot_confusion_matrix</code>\n",
    "در \n",
    "<code>sklearn.metrics</code>\n",
    "میرویم.\n",
    "این تابع سه ورودی دارد ورودی اول مدل آموزش  دیده و دو ورودی بعدی داده های آزمون است.\n",
    "</font>\n",
    "</p>"
   ]
  },
  {
   "cell_type": "code",
   "execution_count": 67,
   "metadata": {},
   "outputs": [
    {
     "data": {
      "text/plain": [
       "<sklearn.metrics._plot.confusion_matrix.ConfusionMatrixDisplay at 0x16f86e5aa10>"
      ]
     },
     "execution_count": 67,
     "metadata": {},
     "output_type": "execute_result"
    },
    {
     "data": {
      "image/png": "[encoded data removed]",
      "text/plain": [
       "<Figure size 432x288 with 2 Axes>"
      ]
     },
     "metadata": {
      "needs_background": "light"
     },
     "output_type": "display_data"
    }
   ],
   "source": [
    "from sklearn.metrics import plot_confusion_matrix\n",
    "plot_confusion_matrix(... , ... , ...)"
   ]
  },
  {
   "cell_type": "markdown",
   "metadata": {},
   "source": [
    "<p dir=rtl style=\"direction: rtl;text-align: right;line-height:200%;font-family:vazir;font-size:medium\">\n",
    "<font face=\"vazir\" size=3>\n",
    "حال بر اساس این مقادیر می‌توان معیارهای مختلف  برای اندازه‌گیری دقت را تعریف کرد. پارامتر صحت (<code>Accuracy</code>)، متداول‌ترین و ساده‌ترین معیار اندازه‌گیری کیفیت یک دسته‌بند است و عبارت است از میزان تشخیص صحیح دسته‌بند در مجموع دو دسته.\n",
    "</font>\n",
    "</p>"
   ]
  },
  {
   "cell_type": "markdown",
   "metadata": {},
   "source": [
    "$$\n",
    "Accuracy = \\frac{TP+TN}  {TP+FN+FP+TN}\n",
    "$$"
   ]
  },
  {
   "cell_type": "markdown",
   "metadata": {},
   "source": [
    "<p dir=rtl style=\"direction: rtl;text-align: right;line-height:200%;font-family:vazir;font-size:medium\">\n",
    "<font face=\"vazir\" size=3>\n",
    "<code>Precision</code>\n",
    "نسبت پیش‌بینی‌های درست از کلاس مثبت به کل پیش‌بینی‌های مثبت است.\n",
    "</font>\n",
    "</p>"
   ]
  },
  {
   "cell_type": "markdown",
   "metadata": {},
   "source": [
    "$$\n",
    "Precision = \\frac{TP}{TP + FP}\n",
    "$$"
   ]
  },
  {
   "cell_type": "markdown",
   "metadata": {},
   "source": [
    "<p dir=rtl style=\"direction: rtl;text-align: right;line-height:200%;font-family:vazir;font-size:medium\">\n",
    "<font face=\"vazir\" size=3>\n",
    "<code>Precision</code>\n",
    "بالا بیانگر کم بودن\n",
    "<code>FP</code>\n",
    "است یعنی مدل کلاس های مثبت را به درستی پیش بینی کرده است.\n",
    "</font>\n",
    "</p>"
   ]
  },
  {
   "cell_type": "markdown",
   "metadata": {},
   "source": [
    "<p dir=rtl style=\"direction: rtl;text-align: right;line-height:200%;font-family:vazir;font-size:medium\">\n",
    "<font face=\"vazir\" size=3>\n",
    "<code>Recall</code>\n",
    "نیز نسبت پیش‌بینی‌های درست از کلاس مثبت، به تمام نمونه‌های با کلاس مثبت در داده است.\n",
    "</font>\n",
    "</p>"
   ]
  },
  {
   "cell_type": "markdown",
   "metadata": {},
   "source": [
    "$$\n",
    "Recall = \\frac{TP}{TP + FN}\n",
    "$$"
   ]
  },
  {
   "cell_type": "markdown",
   "metadata": {},
   "source": [
    "<p dir=rtl style=\"direction: rtl;text-align: right;line-height:200%;font-family:vazir;font-size:medium\">\n",
    "<font face=\"vazir\" size=3>\n",
    "معیار های معرفی شده را میتوان با \n",
    "<code>classification_report</code>\n",
    "محاسبه کرد.\n",
    "</font>\n",
    "</p>"
   ]
  },
  {
   "cell_type": "code",
   "execution_count": 68,
   "metadata": {},
   "outputs": [
    {
     "data": {
      "text/html": [
       "<div>\n",
       "<style scoped>\n",
       "    .dataframe tbody tr th:only-of-type {\n",
       "        vertical-align: middle;\n",
       "    }\n",
       "\n",
       "    .dataframe tbody tr th {\n",
       "        vertical-align: top;\n",
       "    }\n",
       "\n",
       "    .dataframe thead th {\n",
       "        text-align: right;\n",
       "    }\n",
       "</style>\n",
       "<table border=\"1\" class=\"dataframe\">\n",
       "  <thead>\n",
       "    <tr style=\"text-align: right;\">\n",
       "      <th></th>\n",
       "      <th>precision</th>\n",
       "      <th>recall</th>\n",
       "      <th>f1-score</th>\n",
       "      <th>support</th>\n",
       "    </tr>\n",
       "  </thead>\n",
       "  <tbody>\n",
       "    <tr>\n",
       "      <th>0</th>\n",
       "      <td>0.812500</td>\n",
       "      <td>0.787879</td>\n",
       "      <td>0.800000</td>\n",
       "      <td>99.000000</td>\n",
       "    </tr>\n",
       "    <tr>\n",
       "      <th>1</th>\n",
       "      <td>0.637931</td>\n",
       "      <td>0.672727</td>\n",
       "      <td>0.654867</td>\n",
       "      <td>55.000000</td>\n",
       "    </tr>\n",
       "    <tr>\n",
       "      <th>accuracy</th>\n",
       "      <td>0.746753</td>\n",
       "      <td>0.746753</td>\n",
       "      <td>0.746753</td>\n",
       "      <td>0.746753</td>\n",
       "    </tr>\n",
       "    <tr>\n",
       "      <th>macro avg</th>\n",
       "      <td>0.725216</td>\n",
       "      <td>0.730303</td>\n",
       "      <td>0.727434</td>\n",
       "      <td>154.000000</td>\n",
       "    </tr>\n",
       "    <tr>\n",
       "      <th>weighted avg</th>\n",
       "      <td>0.750154</td>\n",
       "      <td>0.746753</td>\n",
       "      <td>0.748167</td>\n",
       "      <td>154.000000</td>\n",
       "    </tr>\n",
       "  </tbody>\n",
       "</table>\n",
       "</div>"
      ],
      "text/plain": [
       "              precision    recall  f1-score     support\n",
       "0              0.812500  0.787879  0.800000   99.000000\n",
       "1              0.637931  0.672727  0.654867   55.000000\n",
       "accuracy       0.746753  0.746753  0.746753    0.746753\n",
       "macro avg      0.725216  0.730303  0.727434  154.000000\n",
       "weighted avg   0.750154  0.746753  0.748167  154.000000"
      ]
     },
     "execution_count": 68,
     "metadata": {},
     "output_type": "execute_result"
    }
   ],
   "source": [
    "from sklearn.metrics import classification_report\n",
    "report = pd.DataFrame(classification_report(... , ... , output_dict=True)).transpose()\n",
    "report"
   ]
  },
  {
   "cell_type": "markdown",
   "metadata": {},
   "source": [
    "<p style=\"text-align:center\"><img  src=\"https://i.postimg.cc/RV5xrH9J/Precisionrecall-svg.png\" width=\"300\" alt=\"confusion matrix\"></p>"
   ]
  },
  {
   "cell_type": "markdown",
   "metadata": {},
   "source": [
    "<p dir=rtl style=\"direction: rtl;text-align: right;line-height:200%;font-family:vazir;font-size:medium\">\n",
    "<font face=\"vazir\" size=3>\n",
    "امتیاز\n",
    "<code>F1</code>\n",
    "نیز جمع وزن دار از دو معیار\n",
    "<code>Recall</code>\n",
    "و\n",
    "<code>Precision</code>\n",
    "است. و هر دو مفهوم\n",
    "<code>False Positive</code>\n",
    "و\n",
    "<code>False Negative</code>\n",
    "را مد نظر قرار میدهد.\n",
    "</font>\n",
    "</p>"
   ]
  },
  {
   "cell_type": "markdown",
   "metadata": {},
   "source": [
    "$$\n",
    "F1 = \\frac{2}{Recall^{-1} + Precision^{-1}}\n",
    "$$"
   ]
  },
  {
   "cell_type": "markdown",
   "metadata": {},
   "source": [
    "<h1 align=right style=\"line-height:150%;font-family:vazir;color:#0099cc\">\n",
    "<font face=\"vazir\" color=\"#0099cc\">\n",
    "مقیاس بندی ویژگی ها\n",
    "</font>\n",
    "</h1>"
   ]
  },
  {
   "cell_type": "markdown",
   "metadata": {},
   "source": [
    "<p style=\"text-align:center\"><img  src=\"https://i.postimg.cc/mr5Qy6vq/feature-scaling.png\" width=\"600\" alt=\"confusion matrix\"></p>"
   ]
  },
  {
   "cell_type": "markdown",
   "metadata": {},
   "source": [
    "<p dir=rtl style=\"direction: rtl;text-align: right;line-height:200%;font-family:vazir;font-size:medium\">\n",
    "<font face=\"vazir\" size=3>\n",
    "به مقیاس ویژگی های دادگان دقت کنید.برای مثال ویژگی\n",
    "<code>Pregnancies</code>\n",
    "محدوده اعدادش کمتر از بقیه ویژگی ها\n",
    "است.این موضوع در اکثر مواقع باعث کاهش عملکرد الگوریتم های یادگیری ماشین میشود.برای حل مشکل میتوانیم از \n",
    "<code>StandardScaler</code>\n",
    "در کتابخانه \n",
    "<code>sklearn</code>\n",
    "استفاده کنیم.\n",
    "</font>\n",
    "</p>"
   ]
  },
  {
   "cell_type": "markdown",
   "metadata": {},
   "source": [
    "<p dir=rtl style=\"direction: rtl;text-align: right;line-height:200%;font-family:vazir;font-size:medium\">\n",
    "<font face=\"vazir\" size=3>\n",
    "با استفاده از \n",
    "<code>StandardScaler</code>\n",
    "عمل مقیاس بندی را روی همه ویژگی ها\n",
    "انجام دهید.\n",
    "</font>\n",
    "</p>"
   ]
  },
  {
   "cell_type": "code",
   "execution_count": 56,
   "metadata": {},
   "outputs": [],
   "source": [
    "from sklearn.preprocessing import StandardScaler\n",
    "feature_scaler = ...\n",
    "#fit feature scaler on X_train\n",
    "feature_scaler.___(...)\n",
    "#transform X_train\n",
    "X_train = feature_scaler.___(...)"
   ]
  },
  {
   "cell_type": "markdown",
   "metadata": {},
   "source": [
    "<p dir=rtl style=\"direction: rtl;text-align: right;line-height:200%;font-family:vazir;font-size:medium\">\n",
    "<font face=\"vazir\" size=3>\n",
    "با استفاده از مقیاس بندی که در بخش قبل ساختیم مقیاس بندی را روی ویژگی های مذکور  در داده های آزمون نیز تکرار میکنیم.\n",
    "</font>\n",
    "</p>"
   ]
  },
  {
   "cell_type": "code",
   "execution_count": 57,
   "metadata": {},
   "outputs": [],
   "source": [
    "#transform X_test\n",
    "... = feature_scaler.___(...)"
   ]
  },
  {
   "cell_type": "markdown",
   "metadata": {},
   "source": [
    "<p dir=rtl style=\"direction: rtl;text-align: right;line-height:200%;font-family:vazir;font-size:medium\">\n",
    "<font face=\"vazir\" size=3>\n",
    "حال دوباره مدل را ساخته و روی داده های مقیاس بندی شده آموزش میدهیم.\n",
    "</font>\n",
    "</p>"
   ]
  },
  {
   "cell_type": "code",
   "execution_count": 58,
   "metadata": {},
   "outputs": [
    {
     "data": {
      "text/html": [
       "<style>#sk-container-id-3 {color: black;background-color: white;}#sk-container-id-3 pre{padding: 0;}#sk-container-id-3 div.sk-toggleable {background-color: white;}#sk-container-id-3 label.sk-toggleable__label {cursor: pointer;display: block;width: 100%;margin-bottom: 0;padding: 0.3em;box-sizing: border-box;text-align: center;}#sk-container-id-3 label.sk-toggleable__label-arrow:before {content: \"▸\";float: left;margin-right: 0.25em;color: #696969;}#sk-container-id-3 label.sk-toggleable__label-arrow:hover:before {color: black;}#sk-container-id-3 div.sk-estimator:hover label.sk-toggleable__label-arrow:before {color: black;}#sk-container-id-3 div.sk-toggleable__content {max-height: 0;max-width: 0;overflow: hidden;text-align: left;background-color: #f0f8ff;}#sk-container-id-3 div.sk-toggleable__content pre {margin: 0.2em;color: black;border-radius: 0.25em;background-color: #f0f8ff;}#sk-container-id-3 input.sk-toggleable__control:checked~div.sk-toggleable__content {max-height: 200px;max-width: 100%;overflow: auto;}#sk-container-id-3 input.sk-toggleable__control:checked~label.sk-toggleable__label-arrow:before {content: \"▾\";}#sk-container-id-3 div.sk-estimator input.sk-toggleable__control:checked~label.sk-toggleable__label {background-color: #d4ebff;}#sk-container-id-3 div.sk-label input.sk-toggleable__control:checked~label.sk-toggleable__label {background-color: #d4ebff;}#sk-container-id-3 input.sk-hidden--visually {border: 0;clip: rect(1px 1px 1px 1px);clip: rect(1px, 1px, 1px, 1px);height: 1px;margin: -1px;overflow: hidden;padding: 0;position: absolute;width: 1px;}#sk-container-id-3 div.sk-estimator {font-family: monospace;background-color: #f0f8ff;border: 1px dotted black;border-radius: 0.25em;box-sizing: border-box;margin-bottom: 0.5em;}#sk-container-id-3 div.sk-estimator:hover {background-color: #d4ebff;}#sk-container-id-3 div.sk-parallel-item::after {content: \"\";width: 100%;border-bottom: 1px solid gray;flex-grow: 1;}#sk-container-id-3 div.sk-label:hover label.sk-toggleable__label {background-color: #d4ebff;}#sk-container-id-3 div.sk-serial::before {content: \"\";position: absolute;border-left: 1px solid gray;box-sizing: border-box;top: 0;bottom: 0;left: 50%;z-index: 0;}#sk-container-id-3 div.sk-serial {display: flex;flex-direction: column;align-items: center;background-color: white;padding-right: 0.2em;padding-left: 0.2em;position: relative;}#sk-container-id-3 div.sk-item {position: relative;z-index: 1;}#sk-container-id-3 div.sk-parallel {display: flex;align-items: stretch;justify-content: center;background-color: white;position: relative;}#sk-container-id-3 div.sk-item::before, #sk-container-id-3 div.sk-parallel-item::before {content: \"\";position: absolute;border-left: 1px solid gray;box-sizing: border-box;top: 0;bottom: 0;left: 50%;z-index: -1;}#sk-container-id-3 div.sk-parallel-item {display: flex;flex-direction: column;z-index: 1;position: relative;background-color: white;}#sk-container-id-3 div.sk-parallel-item:first-child::after {align-self: flex-end;width: 50%;}#sk-container-id-3 div.sk-parallel-item:last-child::after {align-self: flex-start;width: 50%;}#sk-container-id-3 div.sk-parallel-item:only-child::after {width: 0;}#sk-container-id-3 div.sk-dashed-wrapped {border: 1px dashed gray;margin: 0 0.4em 0.5em 0.4em;box-sizing: border-box;padding-bottom: 0.4em;background-color: white;}#sk-container-id-3 div.sk-label label {font-family: monospace;font-weight: bold;display: inline-block;line-height: 1.2em;}#sk-container-id-3 div.sk-label-container {text-align: center;}#sk-container-id-3 div.sk-container {/* jupyter's `normalize.less` sets `[hidden] { display: none; }` but bootstrap.min.css set `[hidden] { display: none !important; }` so we also need the `!important` here to be able to override the default hidden behavior on the sphinx rendered scikit-learn.org. See: https://github.com/scikit-learn/scikit-learn/issues/21755 */display: inline-block !important;position: relative;}#sk-container-id-3 div.sk-text-repr-fallback {display: none;}</style><div id=\"sk-container-id-3\" class=\"sk-top-container\"><div class=\"sk-text-repr-fallback\"><pre>LogisticRegression()</pre><b>In a Jupyter environment, please rerun this cell to show the HTML representation or trust the notebook. <br />On GitHub, the HTML representation is unable to render, please try loading this page with nbviewer.org.</b></div><div class=\"sk-container\" hidden><div class=\"sk-item\"><div class=\"sk-estimator sk-toggleable\"><input class=\"sk-toggleable__control sk-hidden--visually\" id=\"sk-estimator-id-3\" type=\"checkbox\" checked><label for=\"sk-estimator-id-3\" class=\"sk-toggleable__label sk-toggleable__label-arrow\">LogisticRegression</label><div class=\"sk-toggleable__content\"><pre>LogisticRegression()</pre></div></div></div></div></div>"
      ],
      "text/plain": [
       "LogisticRegression()"
      ]
     },
     "execution_count": 58,
     "metadata": {},
     "output_type": "execute_result"
    }
   ],
   "source": [
    "logistic_reg = ...\n",
    "# fit the data\n",
    "logistic_reg.___(... , ...)"
   ]
  },
  {
   "cell_type": "markdown",
   "metadata": {},
   "source": [
    "<p dir=rtl style=\"direction: rtl;text-align: right;line-height:200%;font-family:vazir;font-size:medium\">\n",
    "<font face=\"vazir\" size=3>\n",
    "در ادامه عملکرد مدل را ارزیابی میکنیم.\n",
    "</font>\n",
    "</p>"
   ]
  },
  {
   "cell_type": "code",
   "execution_count": 59,
   "metadata": {},
   "outputs": [],
   "source": [
    "y_pred_classes = logistic_reg.___(...)"
   ]
  },
  {
   "cell_type": "code",
   "execution_count": 60,
   "metadata": {},
   "outputs": [
    {
     "data": {
      "text/html": [
       "<div>\n",
       "<style scoped>\n",
       "    .dataframe tbody tr th:only-of-type {\n",
       "        vertical-align: middle;\n",
       "    }\n",
       "\n",
       "    .dataframe tbody tr th {\n",
       "        vertical-align: top;\n",
       "    }\n",
       "\n",
       "    .dataframe thead th {\n",
       "        text-align: right;\n",
       "    }\n",
       "</style>\n",
       "<table border=\"1\" class=\"dataframe\">\n",
       "  <thead>\n",
       "    <tr style=\"text-align: right;\">\n",
       "      <th></th>\n",
       "      <th>precision</th>\n",
       "      <th>recall</th>\n",
       "      <th>f1-score</th>\n",
       "      <th>support</th>\n",
       "    </tr>\n",
       "  </thead>\n",
       "  <tbody>\n",
       "    <tr>\n",
       "      <th>0</th>\n",
       "      <td>0.814433</td>\n",
       "      <td>0.797980</td>\n",
       "      <td>0.806122</td>\n",
       "      <td>99.000000</td>\n",
       "    </tr>\n",
       "    <tr>\n",
       "      <th>1</th>\n",
       "      <td>0.649123</td>\n",
       "      <td>0.672727</td>\n",
       "      <td>0.660714</td>\n",
       "      <td>55.000000</td>\n",
       "    </tr>\n",
       "    <tr>\n",
       "      <th>accuracy</th>\n",
       "      <td>0.753247</td>\n",
       "      <td>0.753247</td>\n",
       "      <td>0.753247</td>\n",
       "      <td>0.753247</td>\n",
       "    </tr>\n",
       "    <tr>\n",
       "      <th>macro avg</th>\n",
       "      <td>0.731778</td>\n",
       "      <td>0.735354</td>\n",
       "      <td>0.733418</td>\n",
       "      <td>154.000000</td>\n",
       "    </tr>\n",
       "    <tr>\n",
       "      <th>weighted avg</th>\n",
       "      <td>0.755394</td>\n",
       "      <td>0.753247</td>\n",
       "      <td>0.754191</td>\n",
       "      <td>154.000000</td>\n",
       "    </tr>\n",
       "  </tbody>\n",
       "</table>\n",
       "</div>"
      ],
      "text/plain": [
       "              precision    recall  f1-score     support\n",
       "0              0.814433  0.797980  0.806122   99.000000\n",
       "1              0.649123  0.672727  0.660714   55.000000\n",
       "accuracy       0.753247  0.753247  0.753247    0.753247\n",
       "macro avg      0.731778  0.735354  0.733418  154.000000\n",
       "weighted avg   0.755394  0.753247  0.754191  154.000000"
      ]
     },
     "execution_count": 60,
     "metadata": {},
     "output_type": "execute_result"
    }
   ],
   "source": [
    "report = pd.DataFrame(classification_report(... , ..., output_dict=True)).transpose()\n",
    "report"
   ]
  },
  {
   "cell_type": "markdown",
   "metadata": {},
   "source": [
    "<p dir=rtl style=\"direction: rtl;text-align: right;line-height:200%;font-family:vazir;font-size:medium\">\n",
    "<font face=\"vazir\" size=3>\n",
    "در ادامه لینک  دو دادگان آموزش و آزمون از همین دادگان دیابت در اختیار شما قرار میدهیم مراحل پیشین را روی داده ها با استفاده از\n",
    "<code>Orange</code>\n",
    "انجام دهید.\n",
    "از روند کار و نتایج به دست آمده گزارشی در قالب \n",
    "<code>PDF</code>\n",
    "بفرستید.\n",
    "</font>\n",
    "</p>"
   ]
  },
  {
   "cell_type": "code",
   "execution_count": null,
   "metadata": {},
   "outputs": [],
   "source": [
    "diabetes_train_url = \"https://raw.githubusercontent.com/Aminzein/HermesMachineLearningBootcampDatasets/main/HW3/Orange3/diabetes_train.csv\"\n",
    "diabetes_test_url = \"https://raw.githubusercontent.com/Aminzein/HermesMachineLearningBootcampDatasets/main/HW3/Orange3/diabetes_test.csv\""
   ]
  },
  {
   "cell_type": "markdown",
   "metadata": {},
   "source": [
    "<h1 align=right style=\"line-height:150%;font-family:vazir;color:#0099cc\">\n",
    "<font face=\"vazir\" color=\"#0099cc\">\n",
    "تمرین امتیازی\n",
    "</font>\n",
    "</h1>"
   ]
  },
  {
   "cell_type": "markdown",
   "metadata": {},
   "source": [
    "<p style=\"text-align:center\"><img  src=\"https://i.postimg.cc/RFVNVL0Z/PvR.jpg\" width=\"900\" alt=\"Precision v Recall\"></p>"
   ]
  },
  {
   "cell_type": "markdown",
   "metadata": {},
   "source": [
    "<p dir=rtl style=\"direction: rtl;text-align: right;line-height:200%;font-family:vazir;font-size:medium\">\n",
    "<font face=\"vazir\" size=3>\n",
    "فرض کنید شما مدیر یک گروه تحقیقاتی هستید و تیم تحلیل داده کار هایی که در مراحل پیش انجام دادیم را به شما ارائه میدهند.با توجه به درکی که از \n",
    "<code>Precision</code>\n",
    "و\n",
    "<code>Recall</code>\n",
    "کسب کردید برای تیم شما و بیماران تان \n",
    "<code>Precision</code>\n",
    "مهم است یا \n",
    "<code>Recall</code>\n",
    "؟\n",
    "چرا؟جواب خود را در سلول زیر در یک بند بنویسید.\n",
    "</font>\n",
    "</p>"
   ]
  },
  {
   "cell_type": "markdown",
   "metadata": {},
   "source": []
  },
  {
   "cell_type": "markdown",
   "metadata": {},
   "source": [
    "<p dir=rtl style=\"direction: rtl;text-align: right;line-height:200%;font-family:vazir;font-size:medium\">\n",
    "<font face=\"vazir\" size=3>\n",
    "به خروجی آرایه\n",
    "<code>y_pred_proba</code>\n",
    "دقت کنید مدلی که آموزش دادیم به ازای هر داده آزمون دو عدد بین\n",
    "<code>0</code>\n",
    "و\n",
    "<code>1</code>\n",
    "تولید کرده است که نشان دهنده احتمال تعلق داده به کلاس متناظر با آن عدد است.\n",
    "حالا برای تعیین برچسب داده ها مدل برای هر داده آزمون برچسبی را انتخاب میکند که احتمالش از بقیه برچسب ها بیشتر است.\n",
    "در این تمرین میخواهیم شیوه تعیین برچسب را تغییر دهیم و تاثیر این تغییر روی معیار های معرفی شده را تحلیل کنیم.\n",
    "</font>\n",
    "</p>"
   ]
  },
  {
   "cell_type": "markdown",
   "metadata": {},
   "source": [
    "<p dir=rtl style=\"direction: rtl;text-align: right;line-height:200%;font-family:vazir;font-size:medium\">\n",
    "<font face=\"vazir\" size=3>\n",
    "برچسب یک داده آزمون را به این صورت مشخص میکنیم:\n",
    "<li dir=rtl style=\"text-align: right\"> احتمال اینکه برچسب داده یک باشد را از مدل بگیر.\n",
    " </li>\n",
    "\n",
    " <li dir=rtl style=\"text-align: right\"> یک مقدار بین صفر و یک  به نام \n",
    " <code>threshold</code>\n",
    " تعیین کن و سپس داده ها را به دو قسمت کمتر از\n",
    " <code>threshold</code>\n",
    " و بزرگتر مساوی\n",
    " <code>threshold</code>\n",
    " تقسیم کن.\n",
    " </li>\n",
    "<li dir=rtl style=\"text-align: right\"> داده هایی که بیشتر از\n",
    "<code>threshold</code>\n",
    "هستند را برچسب یک بزن و بقیه برچسب صفر.\n",
    " </li>\n",
    "</font>\n",
    "</p>"
   ]
  },
  {
   "cell_type": "markdown",
   "metadata": {},
   "source": [
    "<p dir=rtl style=\"direction: rtl;text-align: right;line-height:200%;font-family:vazir;font-size:medium\">\n",
    "<font face=\"vazir\" size=3>\n",
    "پس از تعیین برچسب ها دو معیار\n",
    "<code>Precision</code>\n",
    "و\n",
    "<code>Recall</code>\n",
    "را برای\n",
    "<code>threshold</code>\n",
    "های متفاوت محاسبه کنید و نتایج به دست آمده را مصور سازی کنید.\n",
    "(با نمودار هایی که به نظر شما مناسب هستند.)\n",
    "</font>\n",
    "</p>"
   ]
  },
  {
   "cell_type": "markdown",
   "metadata": {},
   "source": [
    "<p dir=rtl style=\"direction: rtl;text-align: right;line-height:200%;font-family:vazir;font-size:medium\">\n",
    "<font face=\"vazir\" size=3>\n",
    "با توجه به پاسخ تان به سوال اول به نظر شما کدام \n",
    "<code>threshold</code>\n",
    "بهترین نتیجه را میدهد؟\n",
    "چرا؟\n",
    "</font>\n",
    "</p>"
   ]
  },
  {
   "cell_type": "markdown",
   "metadata": {},
   "source": []
  },
  {
   "cell_type": "code",
   "execution_count": null,
   "metadata": {},
   "outputs": [],
   "source": [
    "threshold = ...\n",
    "#estimated probability of label 1\n",
    "ones_prob = y_pred_proba[... , ...]\n",
    "# create prediction array\n",
    "y_pred_threshold = np.zeros(y_pred_classes.shape)\n",
    "# select records that estimated probobility is greater than the threshold\n",
    "label_one_mask = ones_prob >= threshold\n",
    "y_pred_threshold[...] = 1 \n",
    "# Calculate Recall and Precision\n",
    "..."
   ]
  }
 ],
 "metadata": {
  "kernelspec": {
   "display_name": "Python 3 (ipykernel)",
   "language": "python",
   "name": "python3"
  },
  "language_info": {
   "codemirror_mode": {
    "name": "ipython",
    "version": 3
   },
   "file_extension": ".py",
   "mimetype": "text/x-python",
   "name": "python",
   "nbconvert_exporter": "python",
   "pygments_lexer": "ipython3",
   "version": "3.10.4"
  },
  "vscode": {
   "interpreter": {
    "hash": "8c3d4d9970fc5c09c50d9318a9c7fbf4d0159e4b28833276f5678ee22bded273"
   }
  }
 },
 "nbformat": 4,
 "nbformat_minor": 2
}
